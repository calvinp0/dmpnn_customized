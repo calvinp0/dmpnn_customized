{
 "cells": [
  {
   "cell_type": "markdown",
   "metadata": {},
   "source": [
    "# Training Regression - Multicomponent"
   ]
  },
  {
   "cell_type": "markdown",
   "metadata": {},
   "source": [
    "[![Open In Colab](https://colab.research.google.com/assets/colab-badge.svg)](https://colab.research.google.com/github/chemprop/chemprop/blob/main/examples/training_regression_multicomponent.ipynb)"
   ]
  },
  {
   "cell_type": "code",
   "execution_count": null,
   "metadata": {},
   "outputs": [],
   "source": [
    "# Install chemprop from GitHub if running in Google Colab\n",
    "import os\n",
    "\n",
    "if os.getenv(\"COLAB_RELEASE_TAG\"):\n",
    "    try:\n",
    "        import chemprop\n",
    "    except ImportError:\n",
    "        !git clone https://github.com/chemprop/chemprop.git\n",
    "        %cd chemprop\n",
    "        !pip install .\n",
    "        %cd examples"
   ]
  },
  {
   "cell_type": "code",
   "execution_count": 1,
   "metadata": {},
   "outputs": [],
   "source": [
    "import pandas as pd\n",
    "from lightning import pytorch as pl\n",
    "from pathlib import Path\n",
    "\n",
    "from chemprop import data, featurizers, models, nn\n",
    "from chemprop.nn import metrics\n",
    "from chemprop.models import multi\n"
   ]
  },
  {
   "cell_type": "markdown",
   "metadata": {},
   "source": [
    "# Load data"
   ]
  },
  {
   "cell_type": "markdown",
   "metadata": {},
   "source": [
    "## Change your data inputs here"
   ]
  },
  {
   "cell_type": "code",
   "execution_count": 2,
   "metadata": {},
   "outputs": [],
   "source": [
    "chemprop_dir = Path.cwd().parent\n",
    "input_path = chemprop_dir / \"tests\" / \"data\" / \"regression\" / \"mol+mol\" / \"mol+mol.csv\" # path to your data .csv file containing SMILES strings and target values\n",
    "smiles_columns = ['smiles', 'solvent'] # name of the column containing SMILES strings\n",
    "target_columns = ['peakwavs_max'] # list of names of the columns containing targets"
   ]
  },
  {
   "cell_type": "markdown",
   "metadata": {},
   "source": [
    "## Read data"
   ]
  },
  {
   "cell_type": "code",
   "execution_count": 3,
   "metadata": {},
   "outputs": [
    {
     "data": {
      "application/vnd.microsoft.datawrangler.viewer.v0+json": {
       "columns": [
        {
         "name": "index",
         "rawType": "int64",
         "type": "integer"
        },
        {
         "name": "smiles",
         "rawType": "object",
         "type": "string"
        },
        {
         "name": "solvent",
         "rawType": "object",
         "type": "string"
        },
        {
         "name": "peakwavs_max",
         "rawType": "float64",
         "type": "float"
        }
       ],
       "conversionMethod": "pd.DataFrame",
       "ref": "8fe373f5-2cc8-48f9-abff-5a1e06ccf093",
       "rows": [
        [
         "0",
         "CCCCN1C(=O)C(=C/C=C/C=C/C=C2N(CCCC)c3ccccc3N2CCCC)C(=O)N(CCCC)C1=S",
         "ClCCl",
         "642.0"
        ],
        [
         "1",
         "C(=C/c1cnccn1)\\c1ccc(N(c2ccccc2)c2ccc(/C=C/c3cnccn3)cc2)cc1",
         "ClCCl",
         "420.0"
        ],
        [
         "2",
         "CN(C)c1ccc2c(-c3ccc(N)cc3C(=O)[O-])c3ccc(=[N+](C)C)cc-3oc2c1",
         "O",
         "544.0"
        ],
        [
         "3",
         "c1ccc2[nH]ccc2c1",
         "O",
         "290.0"
        ],
        [
         "4",
         "CCN(CC)c1ccc2c(c1)OC1=C(/C=C/C3=[N+](C)c4ccc5ccccc5c4C3(C)C)CCCC1=C2c1ccccc1C(=O)O",
         "ClC(Cl)Cl",
         "736.0"
        ],
        [
         "5",
         "CCN1/C(=C\\C=C\\C=C\\C2=[N+](CC)c3ccc4ccccc4c3C2(C)C)C(C)(C)c2c1ccc1ccccc21",
         "CC(C)=O",
         "680.0"
        ],
        [
         "6",
         "O=C([O-])c1c(Cl)c(Cl)c(Cl)c(Cl)c1-c1c2cc(I)c(=O)c(I)c-2oc2c(I)c([O-])c(I)cc12",
         "CC(C)O",
         "561.0"
        ],
        [
         "7",
         "O=P(c1c2ccccc2cc2ccccc12)(c1c2ccccc2cc2ccccc12)c1c2ccccc2cc2ccccc12",
         "C1CCOC1",
         "411.0"
        ],
        [
         "8",
         "COc1ccc(/C=C/c2nc(-c3ccc(C)cc3)[nH]c2/C=C/c2ccc(OC)cc2)cc1",
         "ClCCl",
         "375.0"
        ],
        [
         "9",
         "CN1CCN(c2ccc3c4c(cccc24)C(=O)c2ccccc2-3)CC1",
         "C1CCCCC1",
         "428.2"
        ],
        [
         "10",
         "COc1ccc(/C=C/C2=CC(/C=C/c3ccc(OC)c(OC)c3)=[O+][B-](F)(F)O2)cc1OC",
         "CS(C)=O",
         "513.0"
        ],
        [
         "11",
         "Nc1cc2ccc3cccc4ccc(c1)c2c34",
         "CC#N",
         "338.0"
        ],
        [
         "12",
         "C(#Cc1ccncc1)C(C#Cc1ccncc1)=Cc1ccc(C=C(C#Cc2ccncc2)C#Cc2ccncc2)s1",
         "ClC(Cl)Cl",
         "522.0"
        ],
        [
         "13",
         "CN(C)c1cccc(/C=C/c2ncc(-c3ccc(OCc4ccccc4)c(OCc4ccccc4)c3)o2)c1",
         "ClCCl",
         "350.0"
        ],
        [
         "14",
         "CCN(CC)c1ccc2nc3ccc(=[N+](CC)CC)cc-3oc2c1",
         "CCCCCCc1ccc(-c2ccc(C#N)cc2)cc1",
         "662.0"
        ],
        [
         "15",
         "CN1c2ccccc2C(O)(c2ccccc2)c2cc([N+](=O)[O-])ccc21",
         "CCO",
         "393.7"
        ],
        [
         "16",
         "CN(C)CCCN1c2ccccc2Sc2ccc(Cl)cc21",
         "CC#N",
         "312.0"
        ],
        [
         "17",
         "N#Cc1ccc(N2c3ccccc3C(c3ccccc3)(c3ccccc3)c3ccccc32)cc1",
         "Cc1ccccc1",
         "352.0"
        ],
        [
         "18",
         "CCN1/C(=C\\C2=C([O-])/C(=C/C3=[N+](CC)c4c(ccc5ccc(C)nc45)C3(C)C)C2=O)C(C)(C)c2ccc3ccc(C)nc3c21",
         "C1CCCCC1",
         "682.0"
        ],
        [
         "19",
         "CN1C(=O)c2cccc3c(-n4c5ccccc5c5ccccc54)ccc(c23)C1=O",
         "CCCCCC",
         "402.0"
        ],
        [
         "20",
         "COc1ccc(C2=C(c3ccccc3)C(c3ccccc3)=[N+]3C2=Nc2c(-c4ccc(OC)cc4)c(-c4ccccc4)c(-c4ccccc4)n2[B-]3(F)F)cc1",
         "Cc1ccccc1",
         "656.0"
        ],
        [
         "21",
         "Cc1ccc(C2=C3C=CC(c4ccccc4)=[N+]3[B-](F)(F)n3c2ccc3-c2ccccc2)cc1",
         "C1CCOC1",
         "553.0"
        ],
        [
         "22",
         "CCCCCCCCN1C(=O)c2ccc3c4c(-c5ccc6c(c5)c5ccccc5n6-c5ccccc5)cc5c6c(cc(-c7ccc8c(c7)c7ccccc7n8-c7ccccc7)c(c7ccc(c2c37)C1=O)c64)C(=O)N(CCCCCCCC)C5=O",
         "ClC(Cl)Cl",
         "563.0"
        ],
        [
         "23",
         "CC1=C(C(C)(C)C)C(C)=[N+]2C1=C(C)c1c(C)c(C(C)(C)C)c(C)n1[B-]2(F)F",
         "C1CCCCC1",
         "529.0"
        ],
        [
         "24",
         "O=c1oc2ccc3ccccc3c2nc1-c1ccc(Cl)cc1",
         "c1ccccc1",
         "404.0"
        ],
        [
         "25",
         "CCN1CCN(c2ccc(/N=N/c3cc([N+](=O)[O-])cc([N+](=O)[O-])c3)cc2)CC1",
         "CCOC(C)=O",
         "454.0"
        ],
        [
         "26",
         "N#CC(C#N)=C(/C=C/c1ccc(N(c2ccccc2)c2ccccc2)cc1)c1ccccc1",
         "C1COCCO1",
         "480.0"
        ],
        [
         "27",
         "Cc1ccc(C)cc1",
         "C1CCCCC1",
         "262.8811777"
        ],
        [
         "28",
         "CC(C)CCCCN1CCc2c1ccc1c3c(ccc21)CCCC3=O",
         "Cc1ccccc1",
         "426.0"
        ],
        [
         "29",
         "[O-]c1c(-c2ccccc2)cc(-[n+]2c(-c3ccccc3)cc(-c3ccccc3)cc2-c2ccccc2)cc1-c1ccccc1",
         "ClC(Cl)Cl",
         "731.2276215"
        ],
        [
         "30",
         "CCCCCN(c1ccccc1)c1ccc2c(c1)C(CC)(CC)c1cc(/C=C/c3ccc(/C=C(\\C#N)C(=O)O)s3)ccc1-2",
         "CC#N",
         "430.0"
        ],
        [
         "31",
         "c1ccc(-c2ccc(-c3ccc(N(c4ccccc4)c4ccccc4)cc3)c3nsnc23)cc1",
         "C1CCOC1",
         "437.0"
        ],
        [
         "32",
         "COC(=O)c1ccc2c3ccc(C(=O)OC)c4c(C(=O)OC)ccc(c5ccc(C(=O)OC)c1c25)c43",
         "ClC(Cl)Cl",
         "469.0"
        ],
        [
         "33",
         "Cc1ccc(C(=O)NN2C3=C(CC4=C2CCCC4=O)C(=O)CCC3)cc1",
         "CC(C)=O",
         "366.0"
        ],
        [
         "34",
         "CCn1ncc2c3c(C#N)c4c5ccccc5n(C)c4nc3ccc21",
         "CCOC(C)=O",
         "383.0"
        ],
        [
         "35",
         "CCOc1ccc2cc(-c3ccc(C)cc3)c(=O)oc2c1",
         "CCCCCC",
         "338.0"
        ],
        [
         "36",
         "CCn1c2ccccc2c2cc(-c3cc(-c4ccc5c(c4)c4ccccc4n5CC)nc(S(C)(=O)=O)n3)ccc21",
         "ClCCl",
         "384.0"
        ],
        [
         "37",
         "COC(=O)c1c2ccccc2nc2ccccc12",
         "CCCO",
         "361.0"
        ],
        [
         "38",
         "CCOC(=O)COc1ccc(C(c2c(C)[nH]c3ccccc23)c2c(C)[nH]c3ccccc23)cc1",
         "CO",
         "290.0"
        ],
        [
         "39",
         "CN(C)c1ccc(/C=C/C=C2\\CC/C(=C\\C=C\\c3ccc(N(C)C)cc3)C2=O)cc1",
         "CCCCCC",
         "478.0"
        ],
        [
         "40",
         "N#Cc1ccc(/C=C/C=C/c2ccccc2)cc1",
         "CC#N",
         "344.0"
        ],
        [
         "41",
         "CSc1sc(C(C)=O)c2nn[nH]c(=O)c12",
         "CCO",
         "397.0"
        ],
        [
         "42",
         "CN(C)c1ccc2c(c1)C(C)(C)C(=O)C=C2",
         "O",
         "413.0"
        ],
        [
         "43",
         "O=C1NC(=O)/C(=C\\c2ccccc2O)S1",
         "OCC(O)CO",
         "364.0"
        ],
        [
         "44",
         "O=Cc1ccc2c(c1)c1ccccc1n2-c1cc2ccccc2c2ccccc12",
         "CCCCC",
         "313.0"
        ],
        [
         "45",
         "CN(C)CCCN1c2ccccc2CCc2ccccc21",
         "O",
         "275.0"
        ],
        [
         "46",
         "Cc1ccc(-n2c(-c3ccccc3[NH-])[nH+]c3c4ccccc4c4ccccc4c32)cc1",
         "Cc1ccccc1",
         "363.0"
        ],
        [
         "47",
         "C[n+]1ccc(/C=C/c2ccc([O-])cc2)cc1",
         "CCO",
         "515.0"
        ],
        [
         "48",
         "CC(C)(C)c1ccc2c(c1)c1cc(C(C)(C)C)ccc1n2-c1nc2ccccc2nc1-n1c2ccc(C(C)(C)C)cc2c2cc(C(C)(C)C)ccc21",
         "Cc1ccccc1",
         "419.0"
        ],
        [
         "49",
         "CC(C)[Si]1(C(C)C)c2cc(C#N)ccc2-c2ccc(N(C)C)cc21",
         "ClCCl",
         "368.0"
        ]
       ],
       "shape": {
        "columns": 3,
        "rows": 100
       }
      },
      "text/html": [
       "<div>\n",
       "<style scoped>\n",
       "    .dataframe tbody tr th:only-of-type {\n",
       "        vertical-align: middle;\n",
       "    }\n",
       "\n",
       "    .dataframe tbody tr th {\n",
       "        vertical-align: top;\n",
       "    }\n",
       "\n",
       "    .dataframe thead th {\n",
       "        text-align: right;\n",
       "    }\n",
       "</style>\n",
       "<table border=\"1\" class=\"dataframe\">\n",
       "  <thead>\n",
       "    <tr style=\"text-align: right;\">\n",
       "      <th></th>\n",
       "      <th>smiles</th>\n",
       "      <th>solvent</th>\n",
       "      <th>peakwavs_max</th>\n",
       "    </tr>\n",
       "  </thead>\n",
       "  <tbody>\n",
       "    <tr>\n",
       "      <th>0</th>\n",
       "      <td>CCCCN1C(=O)C(=C/C=C/C=C/C=C2N(CCCC)c3ccccc3N2C...</td>\n",
       "      <td>ClCCl</td>\n",
       "      <td>642.0</td>\n",
       "    </tr>\n",
       "    <tr>\n",
       "      <th>1</th>\n",
       "      <td>C(=C/c1cnccn1)\\c1ccc(N(c2ccccc2)c2ccc(/C=C/c3c...</td>\n",
       "      <td>ClCCl</td>\n",
       "      <td>420.0</td>\n",
       "    </tr>\n",
       "    <tr>\n",
       "      <th>2</th>\n",
       "      <td>CN(C)c1ccc2c(-c3ccc(N)cc3C(=O)[O-])c3ccc(=[N+]...</td>\n",
       "      <td>O</td>\n",
       "      <td>544.0</td>\n",
       "    </tr>\n",
       "    <tr>\n",
       "      <th>3</th>\n",
       "      <td>c1ccc2[nH]ccc2c1</td>\n",
       "      <td>O</td>\n",
       "      <td>290.0</td>\n",
       "    </tr>\n",
       "    <tr>\n",
       "      <th>4</th>\n",
       "      <td>CCN(CC)c1ccc2c(c1)OC1=C(/C=C/C3=[N+](C)c4ccc5c...</td>\n",
       "      <td>ClC(Cl)Cl</td>\n",
       "      <td>736.0</td>\n",
       "    </tr>\n",
       "    <tr>\n",
       "      <th>...</th>\n",
       "      <td>...</td>\n",
       "      <td>...</td>\n",
       "      <td>...</td>\n",
       "    </tr>\n",
       "    <tr>\n",
       "      <th>95</th>\n",
       "      <td>COc1ccc(C2CC(c3ccc(O)cc3)=NN2c2ccc(S(N)(=O)=O)...</td>\n",
       "      <td>C1CCOC1</td>\n",
       "      <td>359.0</td>\n",
       "    </tr>\n",
       "    <tr>\n",
       "      <th>96</th>\n",
       "      <td>COc1ccc2c3c(c4ccc(OC)cc4c2c1)C1(c2ccccc2-c2ccc...</td>\n",
       "      <td>C1CCCCC1</td>\n",
       "      <td>386.0</td>\n",
       "    </tr>\n",
       "    <tr>\n",
       "      <th>97</th>\n",
       "      <td>CCCCOc1c(C=C2N(C)c3ccccc3C2(C)C)c(=O)c1=O</td>\n",
       "      <td>CCO</td>\n",
       "      <td>425.0</td>\n",
       "    </tr>\n",
       "    <tr>\n",
       "      <th>98</th>\n",
       "      <td>Cc1cc2ccc(-c3cccc4cccc(-c5ccc6cc(C)c(=O)oc6c5)...</td>\n",
       "      <td>c1ccccc1</td>\n",
       "      <td>324.0</td>\n",
       "    </tr>\n",
       "    <tr>\n",
       "      <th>99</th>\n",
       "      <td>Cc1ccc(C(=O)c2c(C)c3ccc4cccc5c6cccc7ccc2c(c76)...</td>\n",
       "      <td>ClCCl</td>\n",
       "      <td>391.0</td>\n",
       "    </tr>\n",
       "  </tbody>\n",
       "</table>\n",
       "<p>100 rows × 3 columns</p>\n",
       "</div>"
      ],
      "text/plain": [
       "                                               smiles    solvent  peakwavs_max\n",
       "0   CCCCN1C(=O)C(=C/C=C/C=C/C=C2N(CCCC)c3ccccc3N2C...      ClCCl         642.0\n",
       "1   C(=C/c1cnccn1)\\c1ccc(N(c2ccccc2)c2ccc(/C=C/c3c...      ClCCl         420.0\n",
       "2   CN(C)c1ccc2c(-c3ccc(N)cc3C(=O)[O-])c3ccc(=[N+]...          O         544.0\n",
       "3                                    c1ccc2[nH]ccc2c1          O         290.0\n",
       "4   CCN(CC)c1ccc2c(c1)OC1=C(/C=C/C3=[N+](C)c4ccc5c...  ClC(Cl)Cl         736.0\n",
       "..                                                ...        ...           ...\n",
       "95  COc1ccc(C2CC(c3ccc(O)cc3)=NN2c2ccc(S(N)(=O)=O)...    C1CCOC1         359.0\n",
       "96  COc1ccc2c3c(c4ccc(OC)cc4c2c1)C1(c2ccccc2-c2ccc...   C1CCCCC1         386.0\n",
       "97          CCCCOc1c(C=C2N(C)c3ccccc3C2(C)C)c(=O)c1=O        CCO         425.0\n",
       "98  Cc1cc2ccc(-c3cccc4cccc(-c5ccc6cc(C)c(=O)oc6c5)...   c1ccccc1         324.0\n",
       "99  Cc1ccc(C(=O)c2c(C)c3ccc4cccc5c6cccc7ccc2c(c76)...      ClCCl         391.0\n",
       "\n",
       "[100 rows x 3 columns]"
      ]
     },
     "execution_count": 3,
     "metadata": {},
     "output_type": "execute_result"
    }
   ],
   "source": [
    "df_input = pd.read_csv(input_path)\n",
    "df_input"
   ]
  },
  {
   "cell_type": "markdown",
   "metadata": {},
   "source": [
    "## Get SMILES and targets"
   ]
  },
  {
   "cell_type": "code",
   "execution_count": 4,
   "metadata": {},
   "outputs": [],
   "source": [
    "smiss = df_input.loc[:, smiles_columns].values\n",
    "ys = df_input.loc[:, target_columns].values"
   ]
  },
  {
   "cell_type": "code",
   "execution_count": 24,
   "metadata": {},
   "outputs": [
    {
     "data": {
      "application/vnd.microsoft.datawrangler.viewer.v0+json": {
       "columns": [
        {
         "name": "index",
         "rawType": "int64",
         "type": "integer"
        },
        {
         "name": "smiles",
         "rawType": "object",
         "type": "string"
        },
        {
         "name": "solvent",
         "rawType": "object",
         "type": "string"
        },
        {
         "name": "peakwavs_max",
         "rawType": "float64",
         "type": "float"
        }
       ],
       "conversionMethod": "pd.DataFrame",
       "ref": "6ffb1f57-eb47-4c39-8cc4-677554d9d2d0",
       "rows": [
        [
         "29",
         "[O-]c1c(-c2ccccc2)cc(-[n+]2c(-c3ccccc3)cc(-c3ccccc3)cc2-c2ccccc2)cc1-c1ccccc1",
         "ClC(Cl)Cl",
         "731.2276215"
        ],
        [
         "74",
         "[O-]c1c(-c2ccccc2)cc(-[n+]2c(-c3ccccc3)cc(-c3ccccc3)cc2-c2ccccc2)cc1-c1ccccc1",
         "CCCCCCCCCC",
         "922.2903226"
        ],
        [
         "86",
         "[O-]c1c(-c2ccccc2)cc(-[n+]2c(-c3ccccc3)cc(-c3ccccc3)cc2-c2ccccc2)cc1-c1ccccc1",
         "CC(C)(C)c1cccc(C(C)(C)C)n1",
         "840.9117647"
        ]
       ],
       "shape": {
        "columns": 3,
        "rows": 3
       }
      },
      "text/html": [
       "<div>\n",
       "<style scoped>\n",
       "    .dataframe tbody tr th:only-of-type {\n",
       "        vertical-align: middle;\n",
       "    }\n",
       "\n",
       "    .dataframe tbody tr th {\n",
       "        vertical-align: top;\n",
       "    }\n",
       "\n",
       "    .dataframe thead th {\n",
       "        text-align: right;\n",
       "    }\n",
       "</style>\n",
       "<table border=\"1\" class=\"dataframe\">\n",
       "  <thead>\n",
       "    <tr style=\"text-align: right;\">\n",
       "      <th></th>\n",
       "      <th>smiles</th>\n",
       "      <th>solvent</th>\n",
       "      <th>peakwavs_max</th>\n",
       "    </tr>\n",
       "  </thead>\n",
       "  <tbody>\n",
       "    <tr>\n",
       "      <th>29</th>\n",
       "      <td>[O-]c1c(-c2ccccc2)cc(-[n+]2c(-c3ccccc3)cc(-c3c...</td>\n",
       "      <td>ClC(Cl)Cl</td>\n",
       "      <td>731.227622</td>\n",
       "    </tr>\n",
       "    <tr>\n",
       "      <th>74</th>\n",
       "      <td>[O-]c1c(-c2ccccc2)cc(-[n+]2c(-c3ccccc3)cc(-c3c...</td>\n",
       "      <td>CCCCCCCCCC</td>\n",
       "      <td>922.290323</td>\n",
       "    </tr>\n",
       "    <tr>\n",
       "      <th>86</th>\n",
       "      <td>[O-]c1c(-c2ccccc2)cc(-[n+]2c(-c3ccccc3)cc(-c3c...</td>\n",
       "      <td>CC(C)(C)c1cccc(C(C)(C)C)n1</td>\n",
       "      <td>840.911765</td>\n",
       "    </tr>\n",
       "  </tbody>\n",
       "</table>\n",
       "</div>"
      ],
      "text/plain": [
       "                                               smiles  \\\n",
       "29  [O-]c1c(-c2ccccc2)cc(-[n+]2c(-c3ccccc3)cc(-c3c...   \n",
       "74  [O-]c1c(-c2ccccc2)cc(-[n+]2c(-c3ccccc3)cc(-c3c...   \n",
       "86  [O-]c1c(-c2ccccc2)cc(-[n+]2c(-c3ccccc3)cc(-c3c...   \n",
       "\n",
       "                       solvent  peakwavs_max  \n",
       "29                   ClC(Cl)Cl    731.227622  \n",
       "74                  CCCCCCCCCC    922.290323  \n",
       "86  CC(C)(C)c1cccc(C(C)(C)C)n1    840.911765  "
      ]
     },
     "execution_count": 24,
     "metadata": {},
     "output_type": "execute_result"
    }
   ],
   "source": [
    "# [O-]c1c(-c2ccccc2)cc(-[n+]2c(-c3ccccc3)cc(-c3ccccc3)cc2-c2ccccc2)cc1-c1ccccc1 find in df_input['smiles']\n",
    "\n",
    "molecule_row = df_input.loc[df_input['smiles'] == '[O-]c1c(-c2ccccc2)cc(-[n+]2c(-c3ccccc3)cc(-c3ccccc3)cc2-c2ccccc2)cc1-c1ccccc1']\n",
    "molecule_row"
   ]
  },
  {
   "cell_type": "code",
   "execution_count": 5,
   "metadata": {},
   "outputs": [
    {
     "data": {
      "text/plain": [
       "(array([['CCCCN1C(=O)C(=C/C=C/C=C/C=C2N(CCCC)c3ccccc3N2CCCC)C(=O)N(CCCC)C1=S',\n",
       "         'ClCCl'],\n",
       "        ['C(=C/c1cnccn1)\\\\c1ccc(N(c2ccccc2)c2ccc(/C=C/c3cnccn3)cc2)cc1',\n",
       "         'ClCCl'],\n",
       "        ['CN(C)c1ccc2c(-c3ccc(N)cc3C(=O)[O-])c3ccc(=[N+](C)C)cc-3oc2c1',\n",
       "         'O'],\n",
       "        ['c1ccc2[nH]ccc2c1', 'O'],\n",
       "        ['CCN(CC)c1ccc2c(c1)OC1=C(/C=C/C3=[N+](C)c4ccc5ccccc5c4C3(C)C)CCCC1=C2c1ccccc1C(=O)O',\n",
       "         'ClC(Cl)Cl']], dtype=object),\n",
       " array([[642.],\n",
       "        [420.],\n",
       "        [544.],\n",
       "        [290.],\n",
       "        [736.]]))"
      ]
     },
     "execution_count": 5,
     "metadata": {},
     "output_type": "execute_result"
    }
   ],
   "source": [
    "# Take a look at the first 5 SMILES strings and targets\n",
    "smiss[:5], ys[:5]"
   ]
  },
  {
   "cell_type": "markdown",
   "metadata": {},
   "source": [
    "## Make molecule datapoints\n",
    "Create a list of lists containing the molecule datapoints for each components. The target is stored in the 0th component."
   ]
  },
  {
   "cell_type": "code",
   "execution_count": 7,
   "metadata": {},
   "outputs": [],
   "source": [
    "all_data = [[data.MoleculeDatapoint.from_smi(smis[0], y) for smis, y in zip(smiss, ys)]]\n",
    "all_data += [[data.MoleculeDatapoint.from_smi(smis[i]) for smis in smiss] for i in range(1, len(smiles_columns))]\n"
   ]
  },
  {
   "cell_type": "code",
   "execution_count": 18,
   "metadata": {},
   "outputs": [
    {
     "data": {
      "text/plain": [
       "2"
      ]
     },
     "execution_count": 18,
     "metadata": {},
     "output_type": "execute_result"
    }
   ],
   "source": [
    "len(all_data)"
   ]
  },
  {
   "cell_type": "markdown",
   "metadata": {},
   "source": [
    "# Split data"
   ]
  },
  {
   "cell_type": "markdown",
   "metadata": {},
   "source": [
    "## Perform data splitting for training, validation, and testing"
   ]
  },
  {
   "cell_type": "code",
   "execution_count": 8,
   "metadata": {},
   "outputs": [
    {
     "name": "stderr",
     "output_type": "stream",
     "text": [
      "The return type of make_split_indices has changed in v2.1 - see help(make_split_indices)\n"
     ]
    }
   ],
   "source": [
    "component_to_split_by = 0 # index of the component to use for structure based splits\n",
    "mols = [d.mol for d in all_data[component_to_split_by]]\n",
    "train_indices, val_indices, test_indices = data.make_split_indices(mols, \"random\", (0.8, 0.1, 0.1))\n",
    "train_data, val_data, test_data = data.split_data_by_indices(\n",
    "    all_data, train_indices, val_indices, test_indices\n",
    ")"
   ]
  },
  {
   "cell_type": "code",
   "execution_count": 19,
   "metadata": {},
   "outputs": [
    {
     "data": {
      "text/plain": [
       "1"
      ]
     },
     "execution_count": 19,
     "metadata": {},
     "output_type": "execute_result"
    }
   ],
   "source": [
    "len(train_data)"
   ]
  },
  {
   "cell_type": "code",
   "execution_count": 25,
   "metadata": {},
   "outputs": [
    {
     "data": {
      "text/plain": [
       "[MoleculeDatapoint(mol=<rdkit.Chem.rdchem.Mol object at 0x7b9a4a48b8b0>, y=array([840.9117647]), weight=1.0, gt_mask=None, lt_mask=None, x_d=None, x_phase=None, name='[O-]c1c(-c2ccccc2)cc(-[n+]2c(-c3ccccc3)cc(-c3ccccc3)cc2-c2ccccc2)cc1-c1ccccc1', V_f=None, E_f=None, V_d=None),\n",
       " MoleculeDatapoint(mol=<rdkit.Chem.rdchem.Mol object at 0x7b9a4a70e880>, y=array([544.]), weight=1.0, gt_mask=None, lt_mask=None, x_d=None, x_phase=None, name='CN(C)c1ccc2c(-c3ccc(N)cc3C(=O)[O-])c3ccc(=[N+](C)C)cc-3oc2c1', V_f=None, E_f=None, V_d=None),\n",
       " MoleculeDatapoint(mol=<rdkit.Chem.rdchem.Mol object at 0x7b9a4a489d90>, y=array([366.2]), weight=1.0, gt_mask=None, lt_mask=None, x_d=None, x_phase=None, name='CCCCCCC(CCCCCC)N1C(=O)c2cccc3c(-c4ccc(OC)cc4)ccc(c23)C1=O', V_f=None, E_f=None, V_d=None),\n",
       " MoleculeDatapoint(mol=<rdkit.Chem.rdchem.Mol object at 0x7b9a4a48af10>, y=array([461.]), weight=1.0, gt_mask=None, lt_mask=None, x_d=None, x_phase=None, name='CCCCCCCCOc1ccc(C#Cc2ccc(C#Cc3ccc(OCCCCCCCC)c(OCCCCCCCC)c3)c3nc4c5ccccc5c5ccccc5c4nc23)cc1OCCCCCCCC', V_f=None, E_f=None, V_d=None),\n",
       " MoleculeDatapoint(mol=<rdkit.Chem.rdchem.Mol object at 0x7b9a4a48bed0>, y=array([394.]), weight=1.0, gt_mask=None, lt_mask=None, x_d=None, x_phase=None, name='Cc1ccc(C2=Nc3cccc4[n+]3[B-](F)(O2)OC(c2ccc(C)cc2)=N4)cc1', V_f=None, E_f=None, V_d=None),\n",
       " MoleculeDatapoint(mol=<rdkit.Chem.rdchem.Mol object at 0x7b9a4a70fa00>, y=array([312.]), weight=1.0, gt_mask=None, lt_mask=None, x_d=None, x_phase=None, name='CN(C)CCCN1c2ccccc2Sc2ccc(Cl)cc21', V_f=None, E_f=None, V_d=None),\n",
       " MoleculeDatapoint(mol=<rdkit.Chem.rdchem.Mol object at 0x7b9a4a48ad50>, y=array([400.]), weight=1.0, gt_mask=None, lt_mask=None, x_d=None, x_phase=None, name='C#CCN1C(=O)/C(=C/c2cc(OC(C)C)ccc2OC(C)C)N=C1C', V_f=None, E_f=None, V_d=None),\n",
       " MoleculeDatapoint(mol=<rdkit.Chem.rdchem.Mol object at 0x7b9a4a489cb0>, y=array([392.]), weight=1.0, gt_mask=None, lt_mask=None, x_d=None, x_phase=None, name='CC(C)(C)c1ccc(-c2cc(-c3ccc(-c4cc(-c5ccc(C(C)(C)C)cc5)c(C#N)s4)s3)sc2C#N)cc1', V_f=None, E_f=None, V_d=None),\n",
       " MoleculeDatapoint(mol=<rdkit.Chem.rdchem.Mol object at 0x7b9a4a49c120>, y=array([359.]), weight=1.0, gt_mask=None, lt_mask=None, x_d=None, x_phase=None, name='COc1ccc(C2CC(c3ccc(O)cc3)=NN2c2ccc(S(N)(=O)=O)cc2)cc1', V_f=None, E_f=None, V_d=None),\n",
       " MoleculeDatapoint(mol=<rdkit.Chem.rdchem.Mol object at 0x7b9a4a489bd0>, y=array([258.]), weight=1.0, gt_mask=None, lt_mask=None, x_d=None, x_phase=None, name='COc1ccc(NC(=O)C(C(=O)Nc2ccc(OC)cc2)C(c2ccccc2O)c2c(C)[nH]c3ccccc23)cc1', V_f=None, E_f=None, V_d=None),\n",
       " MoleculeDatapoint(mol=<rdkit.Chem.rdchem.Mol object at 0x7b9a4a48bdf0>, y=array([365.]), weight=1.0, gt_mask=None, lt_mask=None, x_d=None, x_phase=None, name='c1ccc2c3c(ccc2c1)C1(c2cc(-c4ccc5ccc6cccc7ccc4c5c67)ccc2-c2ccc(-c4ccc5ccc6cccc7ccc4c5c67)cc21)c1ccc2ccccc2c1O3', V_f=None, E_f=None, V_d=None),\n",
       " MoleculeDatapoint(mol=<rdkit.Chem.rdchem.Mol object at 0x7b9a4a48b1b0>, y=array([402.]), weight=1.0, gt_mask=None, lt_mask=None, x_d=None, x_phase=None, name='N#CC(C#N)=C(/C=C/c1cn(-c2ccccc2)nc1-c1ccccc1)c1ccccc1', V_f=None, E_f=None, V_d=None),\n",
       " MoleculeDatapoint(mol=<rdkit.Chem.rdchem.Mol object at 0x7b9a4a70f760>, y=array([350.]), weight=1.0, gt_mask=None, lt_mask=None, x_d=None, x_phase=None, name='CN(C)c1cccc(/C=C/c2ncc(-c3ccc(OCc4ccccc4)c(OCc4ccccc4)c3)o2)c1', V_f=None, E_f=None, V_d=None),\n",
       " MoleculeDatapoint(mol=<rdkit.Chem.rdchem.Mol object at 0x7b9a4a70ef80>, y=array([411.]), weight=1.0, gt_mask=None, lt_mask=None, x_d=None, x_phase=None, name='O=P(c1c2ccccc2cc2ccccc12)(c1c2ccccc2cc2ccccc12)c1c2ccccc2cc2ccccc12', V_f=None, E_f=None, V_d=None),\n",
       " MoleculeDatapoint(mol=<rdkit.Chem.rdchem.Mol object at 0x7b9a4a4887b0>, y=array([430.]), weight=1.0, gt_mask=None, lt_mask=None, x_d=None, x_phase=None, name='CCCCCN(c1ccccc1)c1ccc2c(c1)C(CC)(CC)c1cc(/C=C/c3ccc(/C=C(\\\\C#N)C(=O)O)s3)ccc1-2', V_f=None, E_f=None, V_d=None),\n",
       " MoleculeDatapoint(mol=<rdkit.Chem.rdchem.Mol object at 0x7b9a4a4880b0>, y=array([563.]), weight=1.0, gt_mask=None, lt_mask=None, x_d=None, x_phase=None, name='CCCCCCCCN1C(=O)c2ccc3c4c(-c5ccc6c(c5)c5ccccc5n6-c5ccccc5)cc5c6c(cc(-c7ccc8c(c7)c7ccccc7n8-c7ccccc7)c(c7ccc(c2c37)C1=O)c64)C(=O)N(CCCCCCCC)C5=O', V_f=None, E_f=None, V_d=None),\n",
       " MoleculeDatapoint(mol=<rdkit.Chem.rdchem.Mol object at 0x7b9a4a488270>, y=array([404.]), weight=1.0, gt_mask=None, lt_mask=None, x_d=None, x_phase=None, name='O=c1oc2ccc3ccccc3c2nc1-c1ccc(Cl)cc1', V_f=None, E_f=None, V_d=None),\n",
       " MoleculeDatapoint(mol=<rdkit.Chem.rdchem.Mol object at 0x7b9a4a488a50>, y=array([366.]), weight=1.0, gt_mask=None, lt_mask=None, x_d=None, x_phase=None, name='Cc1ccc(C(=O)NN2C3=C(CC4=C2CCCC4=O)C(=O)CCC3)cc1', V_f=None, E_f=None, V_d=None),\n",
       " MoleculeDatapoint(mol=<rdkit.Chem.rdchem.Mol object at 0x7b9a4a70f300>, y=array([375.]), weight=1.0, gt_mask=None, lt_mask=None, x_d=None, x_phase=None, name='COc1ccc(/C=C/c2nc(-c3ccc(C)cc3)[nH]c2/C=C/c2ccc(OC)cc2)cc1', V_f=None, E_f=None, V_d=None),\n",
       " MoleculeDatapoint(mol=<rdkit.Chem.rdchem.Mol object at 0x7b9a4a489310>, y=array([364.]), weight=1.0, gt_mask=None, lt_mask=None, x_d=None, x_phase=None, name='O=C1NC(=O)/C(=C\\\\c2ccccc2O)S1', V_f=None, E_f=None, V_d=None),\n",
       " MoleculeDatapoint(mol=<rdkit.Chem.rdchem.Mol object at 0x7b9a4a48a3b0>, y=array([606.]), weight=1.0, gt_mask=None, lt_mask=None, x_d=None, x_phase=None, name='CN1C(=CC2=C([O-])C(=Cc3oc(-c4ccc(-c5ccccc5)cc4)c[n+]3C)C2=O)C(C)(C)c2ccccc21', V_f=None, E_f=None, V_d=None),\n",
       " MoleculeDatapoint(mol=<rdkit.Chem.rdchem.Mol object at 0x7b9a4a70e9d0>, y=array([290.]), weight=1.0, gt_mask=None, lt_mask=None, x_d=None, x_phase=None, name='c1ccc2[nH]ccc2c1', V_f=None, E_f=None, V_d=None),\n",
       " MoleculeDatapoint(mol=<rdkit.Chem.rdchem.Mol object at 0x7b9a4a48ab90>, y=array([355.]), weight=1.0, gt_mask=None, lt_mask=None, x_d=None, x_phase=None, name='CCOC(=O)C1=CNC=C(C(=O)OCC)C1c1ccccc1', V_f=None, E_f=None, V_d=None),\n",
       " MoleculeDatapoint(mol=<rdkit.Chem.rdchem.Mol object at 0x7b9a4a4894d0>, y=array([275.]), weight=1.0, gt_mask=None, lt_mask=None, x_d=None, x_phase=None, name='CN(C)CCCN1c2ccccc2CCc2ccccc21', V_f=None, E_f=None, V_d=None),\n",
       " MoleculeDatapoint(mol=<rdkit.Chem.rdchem.Mol object at 0x7b9a4a489770>, y=array([419.]), weight=1.0, gt_mask=None, lt_mask=None, x_d=None, x_phase=None, name='CC(C)(C)c1ccc2c(c1)c1cc(C(C)(C)C)ccc1n2-c1nc2ccccc2nc1-n1c2ccc(C(C)(C)C)cc2c2cc(C(C)(C)C)ccc21', V_f=None, E_f=None, V_d=None),\n",
       " MoleculeDatapoint(mol=<rdkit.Chem.rdchem.Mol object at 0x7b9a4a70eea0>, y=array([561.]), weight=1.0, gt_mask=None, lt_mask=None, x_d=None, x_phase=None, name='O=C([O-])c1c(Cl)c(Cl)c(Cl)c(Cl)c1-c1c2cc(I)c(=O)c(I)c-2oc2c(I)c([O-])c(I)cc12', V_f=None, E_f=None, V_d=None),\n",
       " MoleculeDatapoint(mol=<rdkit.Chem.rdchem.Mol object at 0x7b9a4a49c4a0>, y=array([391.]), weight=1.0, gt_mask=None, lt_mask=None, x_d=None, x_phase=None, name='Cc1ccc(C(=O)c2c(C)c3ccc4cccc5c6cccc7ccc2c(c76)c3c45)cc1', V_f=None, E_f=None, V_d=None),\n",
       " MoleculeDatapoint(mol=<rdkit.Chem.rdchem.Mol object at 0x7b9a4a48b530>, y=array([422.1190376]), weight=1.0, gt_mask=None, lt_mask=None, x_d=None, x_phase=None, name='CC1(C)Oc2c(c3nc4ccccc4nc3c3ccccc23)CC1Br', V_f=None, E_f=None, V_d=None),\n",
       " MoleculeDatapoint(mol=<rdkit.Chem.rdchem.Mol object at 0x7b9a4a48aff0>, y=array([427.]), weight=1.0, gt_mask=None, lt_mask=None, x_d=None, x_phase=None, name='CCCCN(CCCC)c1ccc(C#Cc2cc(C#Cc3ccc(N(CCCC)CCCC)cc3)c(C#Cc3ccc(C(F)(F)F)cc3)cc2C#Cc2ccc(C(F)(F)F)cc2)cc1', V_f=None, E_f=None, V_d=None),\n",
       " MoleculeDatapoint(mol=<rdkit.Chem.rdchem.Mol object at 0x7b9a4a48a1f0>, y=array([261.]), weight=1.0, gt_mask=None, lt_mask=None, x_d=None, x_phase=None, name='Cc1n[nH]c2c1C(c1ccc([N+](=O)[O-])cc1)C(C#N)=C(N)O2', V_f=None, E_f=None, V_d=None),\n",
       " MoleculeDatapoint(mol=<rdkit.Chem.rdchem.Mol object at 0x7b9a4a48b370>, y=array([478.]), weight=1.0, gt_mask=None, lt_mask=None, x_d=None, x_phase=None, name='COc1ccc2c(c1)C(=O)c1cc(OC)cc(OC)c1-2', V_f=None, E_f=None, V_d=None),\n",
       " MoleculeDatapoint(mol=<rdkit.Chem.rdchem.Mol object at 0x7b9a4a48bc30>, y=array([353.]), weight=1.0, gt_mask=None, lt_mask=None, x_d=None, x_phase=None, name='Cc1nnc(-c2cc(-n3c4ccccc4c4ccccc43)c(-n3c4ccccc4c4ccccc43)cc2-c2nnc(C)o2)o1', V_f=None, E_f=None, V_d=None),\n",
       " MoleculeDatapoint(mol=<rdkit.Chem.rdchem.Mol object at 0x7b9a4a48a8f0>, y=array([333.]), weight=1.0, gt_mask=None, lt_mask=None, x_d=None, x_phase=None, name='O=c1ccc2cc3c(cc2o1)OCC3', V_f=None, E_f=None, V_d=None),\n",
       " MoleculeDatapoint(mol=<rdkit.Chem.rdchem.Mol object at 0x7b9a4a489a10>, y=array([506.]), weight=1.0, gt_mask=None, lt_mask=None, x_d=None, x_phase=None, name='CC[N+]1=C(/C=C/c2ccc3ccc4cccc5ccc2c3c45)C(C)(C)c2ccccc21', V_f=None, E_f=None, V_d=None),\n",
       " MoleculeDatapoint(mol=<rdkit.Chem.rdchem.Mol object at 0x7b9a4a488510>, y=array([262.8811777]), weight=1.0, gt_mask=None, lt_mask=None, x_d=None, x_phase=None, name='Cc1ccc(C)cc1', V_f=None, E_f=None, V_d=None),\n",
       " MoleculeDatapoint(mol=<rdkit.Chem.rdchem.Mol object at 0x7b9a4a70fc30>, y=array([682.]), weight=1.0, gt_mask=None, lt_mask=None, x_d=None, x_phase=None, name='CCN1/C(=C\\\\C2=C([O-])/C(=C/C3=[N+](CC)c4c(ccc5ccc(C)nc45)C3(C)C)C2=O)C(C)(C)c2ccc3ccc(C)nc3c21', V_f=None, E_f=None, V_d=None),\n",
       " MoleculeDatapoint(mol=<rdkit.Chem.rdchem.Mol object at 0x7b9a4a489e70>, y=array([548.]), weight=1.0, gt_mask=None, lt_mask=None, x_d=None, x_phase=None, name='CN(C)c1ccc2cc3ccc(=[N+](C)C)cc-3oc2c1', V_f=None, E_f=None, V_d=None),\n",
       " MoleculeDatapoint(mol=<rdkit.Chem.rdchem.Mol object at 0x7b9a4a48a490>, y=array([336.]), weight=1.0, gt_mask=None, lt_mask=None, x_d=None, x_phase=None, name='Nc1cc2ccc3cccc4ccc(c1)c2c34', V_f=None, E_f=None, V_d=None),\n",
       " MoleculeDatapoint(mol=<rdkit.Chem.rdchem.Mol object at 0x7b9a4a48ae30>, y=array([922.2903226]), weight=1.0, gt_mask=None, lt_mask=None, x_d=None, x_phase=None, name='[O-]c1c(-c2ccccc2)cc(-[n+]2c(-c3ccccc3)cc(-c3ccccc3)cc2-c2ccccc2)cc1-c1ccccc1', V_f=None, E_f=None, V_d=None),\n",
       " MoleculeDatapoint(mol=<rdkit.Chem.rdchem.Mol object at 0x7b9a4a70e7a0>, y=array([420.]), weight=1.0, gt_mask=None, lt_mask=None, x_d=None, x_phase=None, name='C(=C/c1cnccn1)\\\\c1ccc(N(c2ccccc2)c2ccc(/C=C/c3cnccn3)cc2)cc1', V_f=None, E_f=None, V_d=None),\n",
       " MoleculeDatapoint(mol=<rdkit.Chem.rdchem.Mol object at 0x7b9a4a48a2d0>, y=array([581.]), weight=1.0, gt_mask=None, lt_mask=None, x_d=None, x_phase=None, name='CCN(CC)c1ccc(/C=C/C2=[O+][B-](F)(F)Oc3c2c(=O)oc2cc(N(CC)CC)ccc32)cc1', V_f=None, E_f=None, V_d=None),\n",
       " MoleculeDatapoint(mol=<rdkit.Chem.rdchem.Mol object at 0x7b9a4a489230>, y=array([413.]), weight=1.0, gt_mask=None, lt_mask=None, x_d=None, x_phase=None, name='CN(C)c1ccc2c(c1)C(C)(C)C(=O)C=C2', V_f=None, E_f=None, V_d=None),\n",
       " MoleculeDatapoint(mol=<rdkit.Chem.rdchem.Mol object at 0x7b9a4a489150>, y=array([397.]), weight=1.0, gt_mask=None, lt_mask=None, x_d=None, x_phase=None, name='CSc1sc(C(C)=O)c2nn[nH]c(=O)c12', V_f=None, E_f=None, V_d=None),\n",
       " MoleculeDatapoint(mol=<rdkit.Chem.rdchem.Mol object at 0x7b9a4a70eb20>, y=array([736.]), weight=1.0, gt_mask=None, lt_mask=None, x_d=None, x_phase=None, name='CCN(CC)c1ccc2c(c1)OC1=C(/C=C/C3=[N+](C)c4ccc5ccccc5c4C3(C)C)CCCC1=C2c1ccccc1C(=O)O', V_f=None, E_f=None, V_d=None),\n",
       " MoleculeDatapoint(mol=<rdkit.Chem.rdchem.Mol object at 0x7b9a4a70f920>, y=array([393.7]), weight=1.0, gt_mask=None, lt_mask=None, x_d=None, x_phase=None, name='CN1c2ccccc2C(O)(c2ccccc2)c2cc([N+](=O)[O-])ccc21', V_f=None, E_f=None, V_d=None),\n",
       " MoleculeDatapoint(mol=<rdkit.Chem.rdchem.Mol object at 0x7b9a4a70fae0>, y=array([352.]), weight=1.0, gt_mask=None, lt_mask=None, x_d=None, x_phase=None, name='N#Cc1ccc(N2c3ccccc3C(c3ccccc3)(c3ccccc3)c3ccccc32)cc1', V_f=None, E_f=None, V_d=None),\n",
       " MoleculeDatapoint(mol=<rdkit.Chem.rdchem.Mol object at 0x7b9a4a489070>, y=array([344.]), weight=1.0, gt_mask=None, lt_mask=None, x_d=None, x_phase=None, name='N#Cc1ccc(/C=C/C=C/c2ccccc2)cc1', V_f=None, E_f=None, V_d=None),\n",
       " MoleculeDatapoint(mol=<rdkit.Chem.rdchem.Mol object at 0x7b9a4a488eb0>, y=array([290.]), weight=1.0, gt_mask=None, lt_mask=None, x_d=None, x_phase=None, name='CCOC(=O)COc1ccc(C(c2c(C)[nH]c3ccccc23)c2c(C)[nH]c3ccccc23)cc1', V_f=None, E_f=None, V_d=None),\n",
       " MoleculeDatapoint(mol=<rdkit.Chem.rdchem.Mol object at 0x7b9a4a70edc0>, y=array([680.]), weight=1.0, gt_mask=None, lt_mask=None, x_d=None, x_phase=None, name='CCN1/C(=C\\\\C=C\\\\C=C\\\\C2=[N+](CC)c3ccc4ccccc4c3C2(C)C)C(C)(C)c2c1ccc1ccccc21', V_f=None, E_f=None, V_d=None),\n",
       " MoleculeDatapoint(mol=<rdkit.Chem.rdchem.Mol object at 0x7b9a4a48bd10>, y=array([414.0786749]), weight=1.0, gt_mask=None, lt_mask=None, x_d=None, x_phase=None, name='COc1ccc2c3c(cccc13)C(=O)c1ccccc1-2', V_f=None, E_f=None, V_d=None),\n",
       " MoleculeDatapoint(mol=<rdkit.Chem.rdchem.Mol object at 0x7b9a4a48a110>, y=array([383.]), weight=1.0, gt_mask=None, lt_mask=None, x_d=None, x_phase=None, name='c1ccc(N(c2ccccc2)c2ccc(-c3nc4c5ccccc5c5ccccc5c4[nH]3)cc2)cc1', V_f=None, E_f=None, V_d=None),\n",
       " MoleculeDatapoint(mol=<rdkit.Chem.rdchem.Mol object at 0x7b9a4a70e500>, y=array([642.]), weight=1.0, gt_mask=None, lt_mask=None, x_d=None, x_phase=None, name='CCCCN1C(=O)C(=C/C=C/C=C/C=C2N(CCCC)c3ccccc3N2CCCC)C(=O)N(CCCC)C1=S', V_f=None, E_f=None, V_d=None),\n",
       " MoleculeDatapoint(mol=<rdkit.Chem.rdchem.Mol object at 0x7b9a4a488b30>, y=array([383.]), weight=1.0, gt_mask=None, lt_mask=None, x_d=None, x_phase=None, name='CCn1ncc2c3c(C#N)c4c5ccccc5n(C)c4nc3ccc21', V_f=None, E_f=None, V_d=None),\n",
       " MoleculeDatapoint(mol=<rdkit.Chem.rdchem.Mol object at 0x7b9a4a4885f0>, y=array([426.]), weight=1.0, gt_mask=None, lt_mask=None, x_d=None, x_phase=None, name='CC(C)CCCCN1CCc2c1ccc1c3c(ccc21)CCCC3=O', V_f=None, E_f=None, V_d=None),\n",
       " MoleculeDatapoint(mol=<rdkit.Chem.rdchem.Mol object at 0x7b9a4a489930>, y=array([432.]), weight=1.0, gt_mask=None, lt_mask=None, x_d=None, x_phase=None, name='CNc1cccc2c1C(=O)c1ccccc1-2', V_f=None, E_f=None, V_d=None),\n",
       " MoleculeDatapoint(mol=<rdkit.Chem.rdchem.Mol object at 0x7b9a4a70f5a0>, y=array([338.]), weight=1.0, gt_mask=None, lt_mask=None, x_d=None, x_phase=None, name='Nc1cc2ccc3cccc4ccc(c1)c2c34', V_f=None, E_f=None, V_d=None),\n",
       " MoleculeDatapoint(mol=<rdkit.Chem.rdchem.Mol object at 0x7b9a4a488c10>, y=array([338.]), weight=1.0, gt_mask=None, lt_mask=None, x_d=None, x_phase=None, name='CCOc1ccc2cc(-c3ccc(C)cc3)c(=O)oc2c1', V_f=None, E_f=None, V_d=None),\n",
       " MoleculeDatapoint(mol=<rdkit.Chem.rdchem.Mol object at 0x7b9a4a488190>, y=array([529.]), weight=1.0, gt_mask=None, lt_mask=None, x_d=None, x_phase=None, name='CC1=C(C(C)(C)C)C(C)=[N+]2C1=C(C)c1c(C)c(C(C)(C)C)c(C)n1[B-]2(F)F', V_f=None, E_f=None, V_d=None),\n",
       " MoleculeDatapoint(mol=<rdkit.Chem.rdchem.Mol object at 0x7b9a4a489af0>, y=array([425.]), weight=1.0, gt_mask=None, lt_mask=None, x_d=None, x_phase=None, name='CCn1c2sccc2c2c3nsnc3c3c4ccsc4n(CC)c3c21', V_f=None, E_f=None, V_d=None),\n",
       " MoleculeDatapoint(mol=<rdkit.Chem.rdchem.Mol object at 0x7b9a4a70f4c0>, y=array([513.]), weight=1.0, gt_mask=None, lt_mask=None, x_d=None, x_phase=None, name='COc1ccc(/C=C/C2=CC(/C=C/c3ccc(OC)c(OC)c3)=[O+][B-](F)(F)O2)cc1OC', V_f=None, E_f=None, V_d=None),\n",
       " MoleculeDatapoint(mol=<rdkit.Chem.rdchem.Mol object at 0x7b9a4a488890>, y=array([437.]), weight=1.0, gt_mask=None, lt_mask=None, x_d=None, x_phase=None, name='c1ccc(-c2ccc(-c3ccc(N(c4ccccc4)c4ccccc4)cc3)c3nsnc23)cc1', V_f=None, E_f=None, V_d=None),\n",
       " MoleculeDatapoint(mol=<rdkit.Chem.rdchem.Mol object at 0x7b9a4a48a730>, y=array([350.]), weight=1.0, gt_mask=None, lt_mask=None, x_d=None, x_phase=None, name='N#Cc1c(C#N)c2cc(Br)ccc2c2ccc(Br)cc12', V_f=None, E_f=None, V_d=None),\n",
       " MoleculeDatapoint(mol=<rdkit.Chem.rdchem.Mol object at 0x7b9a4a489f50>, y=array([830.]), weight=1.0, gt_mask=None, lt_mask=None, x_d=None, x_phase=None, name='C1=C2c3cc4ccccc4cc3C3=[N+]2[B-]2(Oc4ccccc43)Oc3ccccc3-c3c4cc5ccccc5cc4c1n32', V_f=None, E_f=None, V_d=None),\n",
       " MoleculeDatapoint(mol=<rdkit.Chem.rdchem.Mol object at 0x7b9a4a48b290>, y=array([476.]), weight=1.0, gt_mask=None, lt_mask=None, x_d=None, x_phase=None, name='COC(=O)c1ccc2c3ccc(C(=O)OC)c4c(C(=O)OC)ccc(c5ccc(C(=O)OC)c1c25)c43', V_f=None, E_f=None, V_d=None),\n",
       " MoleculeDatapoint(mol=<rdkit.Chem.rdchem.Mol object at 0x7b9a4a48b7d0>, y=array([548.]), weight=1.0, gt_mask=None, lt_mask=None, x_d=None, x_phase=None, name='CC1=C(Br)C(C)=[N+]2C1=C(c1c(-c3ccccn3)nc3ccccn13)c1c(C)c(Br)c(C)n1[B-]2(F)F', V_f=None, E_f=None, V_d=None),\n",
       " MoleculeDatapoint(mol=<rdkit.Chem.rdchem.Mol object at 0x7b9a4a488970>, y=array([469.]), weight=1.0, gt_mask=None, lt_mask=None, x_d=None, x_phase=None, name='COC(=O)c1ccc2c3ccc(C(=O)OC)c4c(C(=O)OC)ccc(c5ccc(C(=O)OC)c1c25)c43', V_f=None, E_f=None, V_d=None),\n",
       " MoleculeDatapoint(mol=<rdkit.Chem.rdchem.Mol object at 0x7b9a4a48b6f0>, y=array([581.]), weight=1.0, gt_mask=None, lt_mask=None, x_d=None, x_phase=None, name='CCCCCCCCCCCCC(CCCCCCCCCC)Cn1c2cc(C=C(C#N)C#N)c3cccc4c5cccc6c(C=C(C#N)C#N)cc1c(c65)c2c34', V_f=None, E_f=None, V_d=None),\n",
       " MoleculeDatapoint(mol=<rdkit.Chem.rdchem.Mol object at 0x7b9a4a70f840>, y=array([662.]), weight=1.0, gt_mask=None, lt_mask=None, x_d=None, x_phase=None, name='CCN(CC)c1ccc2nc3ccc(=[N+](CC)CC)cc-3oc2c1', V_f=None, E_f=None, V_d=None),\n",
       " MoleculeDatapoint(mol=<rdkit.Chem.rdchem.Mol object at 0x7b9a4a48bb50>, y=array([437.]), weight=1.0, gt_mask=None, lt_mask=None, x_d=None, x_phase=None, name='O=P1(c2ccccc2)C(c2cc(C(F)(F)F)cc(C(F)(F)F)c2)=Cc2c3ccc4cccc5ccc(c6cc(-c7ccc(N(c8ccccc8)c8ccccc8)cc7)n1c26)c3c45', V_f=None, E_f=None, V_d=None),\n",
       " MoleculeDatapoint(mol=<rdkit.Chem.rdchem.Mol object at 0x7b9a4a70fd80>, y=array([402.]), weight=1.0, gt_mask=None, lt_mask=None, x_d=None, x_phase=None, name='CN1C(=O)c2cccc3c(-n4c5ccccc5c5ccccc54)ccc(c23)C1=O', V_f=None, E_f=None, V_d=None),\n",
       " MoleculeDatapoint(mol=<rdkit.Chem.rdchem.Mol object at 0x7b9a4a4886d0>, y=array([731.2276215]), weight=1.0, gt_mask=None, lt_mask=None, x_d=None, x_phase=None, name='[O-]c1c(-c2ccccc2)cc(-[n+]2c(-c3ccccc3)cc(-c3ccccc3)cc2-c2ccccc2)cc1-c1ccccc1', V_f=None, E_f=None, V_d=None),\n",
       " MoleculeDatapoint(mol=<rdkit.Chem.rdchem.Mol object at 0x7b9a4a489850>, y=array([368.]), weight=1.0, gt_mask=None, lt_mask=None, x_d=None, x_phase=None, name='CC(C)[Si]1(C(C)C)c2cc(C#N)ccc2-c2ccc(N(C)C)cc21', V_f=None, E_f=None, V_d=None),\n",
       " MoleculeDatapoint(mol=<rdkit.Chem.rdchem.Mol object at 0x7b9a4a49c2e0>, y=array([425.]), weight=1.0, gt_mask=None, lt_mask=None, x_d=None, x_phase=None, name='CCCCOc1c(C=C2N(C)c3ccccc3C2(C)C)c(=O)c1=O', V_f=None, E_f=None, V_d=None),\n",
       " MoleculeDatapoint(mol=<rdkit.Chem.rdchem.Mol object at 0x7b9a4a49c3c0>, y=array([324.]), weight=1.0, gt_mask=None, lt_mask=None, x_d=None, x_phase=None, name='Cc1cc2ccc(-c3cccc4cccc(-c5ccc6cc(C)c(=O)oc6c5)c34)cc2oc1=O', V_f=None, E_f=None, V_d=None),\n",
       " MoleculeDatapoint(mol=<rdkit.Chem.rdchem.Mol object at 0x7b9a4a48a9d0>, y=array([385.]), weight=1.0, gt_mask=None, lt_mask=None, x_d=None, x_phase=None, name='Cc1cccc(-c2c3ccccc3cc3ccccc23)n1', V_f=None, E_f=None, V_d=None),\n",
       " MoleculeDatapoint(mol=<rdkit.Chem.rdchem.Mol object at 0x7b9a4a70fe60>, y=array([656.]), weight=1.0, gt_mask=None, lt_mask=None, x_d=None, x_phase=None, name='COc1ccc(C2=C(c3ccccc3)C(c3ccccc3)=[N+]3C2=Nc2c(-c4ccc(OC)cc4)c(-c4ccccc4)c(-c4ccccc4)n2[B-]3(F)F)cc1', V_f=None, E_f=None, V_d=None),\n",
       " MoleculeDatapoint(mol=<rdkit.Chem.rdchem.Mol object at 0x7b9a4a49c040>, y=array([333.]), weight=1.0, gt_mask=None, lt_mask=None, x_d=None, x_phase=None, name='CC(C)(C)c1ccc(-c2nc3c4ccc(-c5ccccc5)cc4c4cc(-c5ccccc5)ccc4c3n2-c2ccc(C(C)(C)C)cc2)cc1', V_f=None, E_f=None, V_d=None),\n",
       " MoleculeDatapoint(mol=<rdkit.Chem.rdchem.Mol object at 0x7b9a4a48ac70>, y=array([499.]), weight=1.0, gt_mask=None, lt_mask=None, x_d=None, x_phase=None, name='CN(C)c1ccc(/C=C/C=C2\\\\CC/C(=C\\\\c3ccc(N(C)C)cc3)C2=O)cc1', V_f=None, E_f=None, V_d=None),\n",
       " MoleculeDatapoint(mol=<rdkit.Chem.rdchem.Mol object at 0x7b9a4a48b0d0>, y=array([520.]), weight=1.0, gt_mask=None, lt_mask=None, x_d=None, x_phase=None, name='COc1ccc(C#Cc2c3ccccc3c(C#Cc3ccc(OC)cc3)c3cc4sc(C)cc4cc23)cc1', V_f=None, E_f=None, V_d=None),\n",
       " MoleculeDatapoint(mol=<rdkit.Chem.rdchem.Mol object at 0x7b9a4a488350>, y=array([454.]), weight=1.0, gt_mask=None, lt_mask=None, x_d=None, x_phase=None, name='CCN1CCN(c2ccc(/N=N/c3cc([N+](=O)[O-])cc([N+](=O)[O-])c3)cc2)CC1', V_f=None, E_f=None, V_d=None)]"
      ]
     },
     "execution_count": 25,
     "metadata": {},
     "output_type": "execute_result"
    }
   ],
   "source": [
    "train_data[0][0]"
   ]
  },
  {
   "cell_type": "code",
   "execution_count": 21,
   "metadata": {},
   "outputs": [
    {
     "data": {
      "text/plain": [
       "MoleculeDatapoint(mol=<rdkit.Chem.rdchem.Mol object at 0x7b9a4a4790e0>, y=None, weight=1.0, gt_mask=None, lt_mask=None, x_d=None, x_phase=None, name='CC(C)(C)c1cccc(C(C)(C)C)n1', V_f=None, E_f=None, V_d=None)"
      ]
     },
     "execution_count": 21,
     "metadata": {},
     "output_type": "execute_result"
    }
   ],
   "source": [
    "train_data[0][1][0]"
   ]
  },
  {
   "cell_type": "markdown",
   "metadata": {},
   "source": [
    "# Get MoleculeDataset for each components"
   ]
  },
  {
   "cell_type": "code",
   "execution_count": 20,
   "metadata": {},
   "outputs": [],
   "source": [
    "featurizer = featurizers.SimpleMoleculeMolGraphFeaturizer()\n",
    "\n",
    "train_datasets = [data.MoleculeDataset(train_data[0][i], featurizer) for i in range(len(smiles_columns))]\n",
    "val_datasets = [data.MoleculeDataset(val_data[0][i], featurizer) for i in range(len(smiles_columns))]\n",
    "test_datasets = [data.MoleculeDataset(test_data[0][i], featurizer) for i in range(len(smiles_columns))]"
   ]
  },
  {
   "cell_type": "code",
   "execution_count": null,
   "metadata": {},
   "outputs": [],
   "source": [
    "train_datasets"
   ]
  },
  {
   "cell_type": "markdown",
   "metadata": {},
   "source": [
    "# Construct multicomponent dataset and scale the targets"
   ]
  },
  {
   "cell_type": "code",
   "execution_count": 9,
   "metadata": {},
   "outputs": [],
   "source": [
    "train_mcdset = data.MulticomponentDataset(train_datasets)\n",
    "scaler = train_mcdset.normalize_targets()\n",
    "val_mcdset = data.MulticomponentDataset(val_datasets)\n",
    "val_mcdset.normalize_targets(scaler)\n",
    "test_mcdset = data.MulticomponentDataset(test_datasets)\n"
   ]
  },
  {
   "cell_type": "markdown",
   "metadata": {},
   "source": [
    "# Construct data loader"
   ]
  },
  {
   "cell_type": "code",
   "execution_count": 10,
   "metadata": {},
   "outputs": [],
   "source": [
    "train_loader = data.build_dataloader(train_mcdset)\n",
    "val_loader = data.build_dataloader(val_mcdset, shuffle=False)\n",
    "test_loader = data.build_dataloader(test_mcdset, shuffle=False)"
   ]
  },
  {
   "cell_type": "markdown",
   "metadata": {},
   "source": [
    "# Construct multicomponent MPNN"
   ]
  },
  {
   "cell_type": "markdown",
   "metadata": {},
   "source": [
    "## MulticomponentMessagePassing\n",
    "- `blocks`: a list of message passing block used for each components\n",
    "- `n_components`: number of components"
   ]
  },
  {
   "cell_type": "code",
   "execution_count": 11,
   "metadata": {},
   "outputs": [],
   "source": [
    "mcmp = nn.MulticomponentMessagePassing(\n",
    "    blocks=[nn.BondMessagePassing() for _ in range(len(smiles_columns))],\n",
    "    n_components=len(smiles_columns),\n",
    ")"
   ]
  },
  {
   "cell_type": "markdown",
   "metadata": {},
   "source": [
    "## Aggregation"
   ]
  },
  {
   "cell_type": "code",
   "execution_count": 12,
   "metadata": {},
   "outputs": [],
   "source": [
    "agg = nn.MeanAggregation()"
   ]
  },
  {
   "cell_type": "markdown",
   "metadata": {},
   "source": [
    "## RegressionFFN"
   ]
  },
  {
   "cell_type": "code",
   "execution_count": 13,
   "metadata": {},
   "outputs": [],
   "source": [
    "output_transform = nn.UnscaleTransform.from_standard_scaler(scaler)"
   ]
  },
  {
   "cell_type": "code",
   "execution_count": 14,
   "metadata": {},
   "outputs": [],
   "source": [
    "ffn = nn.RegressionFFN(\n",
    "    input_dim=mcmp.output_dim,\n",
    "    output_transform=output_transform,\n",
    ")"
   ]
  },
  {
   "cell_type": "markdown",
   "metadata": {},
   "source": [
    "## Metrics"
   ]
  },
  {
   "cell_type": "code",
   "execution_count": 15,
   "metadata": {},
   "outputs": [],
   "source": [
    "metric_list = [metrics.RMSE(), metrics.MAE()] # Only the first metric is used for training and early stopping"
   ]
  },
  {
   "cell_type": "markdown",
   "metadata": {},
   "source": [
    "## MulticomponentMPNN"
   ]
  },
  {
   "cell_type": "code",
   "execution_count": 16,
   "metadata": {},
   "outputs": [
    {
     "data": {
      "text/plain": [
       "MulticomponentMPNN(\n",
       "  (message_passing): MulticomponentMessagePassing(\n",
       "    (blocks): ModuleList(\n",
       "      (0-1): 2 x BondMessagePassing(\n",
       "        (W_i): Linear(in_features=86, out_features=300, bias=False)\n",
       "        (W_h): Linear(in_features=300, out_features=300, bias=False)\n",
       "        (W_o): Linear(in_features=372, out_features=300, bias=True)\n",
       "        (dropout): Dropout(p=0.0, inplace=False)\n",
       "        (tau): ReLU()\n",
       "        (V_d_transform): Identity()\n",
       "        (graph_transform): Identity()\n",
       "      )\n",
       "    )\n",
       "  )\n",
       "  (agg): MeanAggregation()\n",
       "  (bn): Identity()\n",
       "  (predictor): RegressionFFN(\n",
       "    (ffn): MLP(\n",
       "      (0): Sequential(\n",
       "        (0): Linear(in_features=600, out_features=300, bias=True)\n",
       "      )\n",
       "      (1): Sequential(\n",
       "        (0): ReLU()\n",
       "        (1): Dropout(p=0.0, inplace=False)\n",
       "        (2): Linear(in_features=300, out_features=1, bias=True)\n",
       "      )\n",
       "    )\n",
       "    (criterion): MSE(task_weights=[[1.0]])\n",
       "    (output_transform): UnscaleTransform()\n",
       "  )\n",
       "  (X_d_transform): Identity()\n",
       "  (metrics): ModuleList(\n",
       "    (0): RMSE(task_weights=[[1.0]])\n",
       "    (1): MAE(task_weights=[[1.0]])\n",
       "    (2): MSE(task_weights=[[1.0]])\n",
       "  )\n",
       ")"
      ]
     },
     "execution_count": 16,
     "metadata": {},
     "output_type": "execute_result"
    }
   ],
   "source": [
    "mcmpnn = multi.MulticomponentMPNN(\n",
    "    mcmp,\n",
    "    agg,\n",
    "    ffn,\n",
    "    metrics=metric_list,\n",
    ")\n",
    "\n",
    "mcmpnn"
   ]
  },
  {
   "cell_type": "markdown",
   "metadata": {},
   "source": [
    "# Set up trainer"
   ]
  },
  {
   "cell_type": "code",
   "execution_count": 17,
   "metadata": {},
   "outputs": [
    {
     "name": "stderr",
     "output_type": "stream",
     "text": [
      "GPU available: False, used: False\n",
      "TPU available: False, using: 0 TPU cores\n",
      "HPU available: False, using: 0 HPUs\n"
     ]
    }
   ],
   "source": [
    "trainer = pl.Trainer(\n",
    "    logger=False,\n",
    "    enable_checkpointing=True,\n",
    "    enable_progress_bar=True,\n",
    "    accelerator=\"auto\",\n",
    "    devices=1,\n",
    "    max_epochs=20, # number of epochs to train for\n",
    ")"
   ]
  },
  {
   "cell_type": "markdown",
   "metadata": {},
   "source": [
    "# Start training"
   ]
  },
  {
   "cell_type": "code",
   "execution_count": 18,
   "metadata": {},
   "outputs": [
    {
     "name": "stderr",
     "output_type": "stream",
     "text": [
      "/home/knathan/anaconda3/envs/chemprop/lib/python3.11/site-packages/lightning/pytorch/callbacks/model_checkpoint.py:654: Checkpoint directory /home/knathan/chemprop/examples/checkpoints exists and is not empty.\n",
      "Loading `train_dataloader` to estimate number of stepping batches.\n",
      "/home/knathan/anaconda3/envs/chemprop/lib/python3.11/site-packages/lightning/pytorch/trainer/connectors/data_connector.py:424: The 'train_dataloader' does not have many workers which may be a bottleneck. Consider increasing the value of the `num_workers` argument` to `num_workers=11` in the `DataLoader` to improve performance.\n",
      "\n",
      "  | Name            | Type                         | Params | Mode \n",
      "-------------------------------------------------------------------------\n",
      "0 | message_passing | MulticomponentMessagePassing | 455 K  | train\n",
      "1 | agg             | MeanAggregation              | 0      | train\n",
      "2 | bn              | Identity                     | 0      | train\n",
      "3 | predictor       | RegressionFFN                | 180 K  | train\n",
      "4 | X_d_transform   | Identity                     | 0      | train\n",
      "5 | metrics         | ModuleList                   | 0      | train\n",
      "-------------------------------------------------------------------------\n",
      "636 K     Trainable params\n",
      "0         Non-trainable params\n",
      "636 K     Total params\n",
      "2.544     Total estimated model params size (MB)\n",
      "35        Modules in train mode\n",
      "0         Modules in eval mode\n"
     ]
    },
    {
     "name": "stdout",
     "output_type": "stream",
     "text": [
      "Sanity Checking: |          | 0/? [00:00<?, ?it/s]"
     ]
    },
    {
     "name": "stderr",
     "output_type": "stream",
     "text": [
      "/home/knathan/anaconda3/envs/chemprop/lib/python3.11/site-packages/lightning/pytorch/trainer/connectors/data_connector.py:424: The 'val_dataloader' does not have many workers which may be a bottleneck. Consider increasing the value of the `num_workers` argument` to `num_workers=11` in the `DataLoader` to improve performance.\n"
     ]
    },
    {
     "name": "stdout",
     "output_type": "stream",
     "text": [
      "Epoch 19: 100%|██████████| 2/2 [00:00<00:00,  4.50it/s, train_loss_step=0.422, val_loss=0.301, train_loss_epoch=0.659]"
     ]
    },
    {
     "name": "stderr",
     "output_type": "stream",
     "text": [
      "`Trainer.fit` stopped: `max_epochs=20` reached.\n"
     ]
    },
    {
     "name": "stdout",
     "output_type": "stream",
     "text": [
      "Epoch 19: 100%|██████████| 2/2 [00:00<00:00,  4.10it/s, train_loss_step=0.422, val_loss=0.301, train_loss_epoch=0.659]\n"
     ]
    }
   ],
   "source": [
    "trainer.fit(mcmpnn, train_loader, val_loader)"
   ]
  },
  {
   "cell_type": "markdown",
   "metadata": {},
   "source": [
    "# Test results"
   ]
  },
  {
   "cell_type": "code",
   "execution_count": 19,
   "metadata": {},
   "outputs": [
    {
     "name": "stderr",
     "output_type": "stream",
     "text": [
      "/home/knathan/anaconda3/envs/chemprop/lib/python3.11/site-packages/lightning/pytorch/trainer/connectors/data_connector.py:424: The 'test_dataloader' does not have many workers which may be a bottleneck. Consider increasing the value of the `num_workers` argument` to `num_workers=11` in the `DataLoader` to improve performance.\n"
     ]
    },
    {
     "name": "stdout",
     "output_type": "stream",
     "text": [
      "Testing DataLoader 0: 100%|██████████| 1/1 [00:00<00:00, 28.64it/s]\n"
     ]
    },
    {
     "data": {
      "text/html": [
       "<pre style=\"white-space:pre;overflow-x:auto;line-height:normal;font-family:Menlo,'DejaVu Sans Mono',consolas,'Courier New',monospace\">┏━━━━━━━━━━━━━━━━━━━━━━━━━━━┳━━━━━━━━━━━━━━━━━━━━━━━━━━━┓\n",
       "┃<span style=\"font-weight: bold\">        Test metric        </span>┃<span style=\"font-weight: bold\">       DataLoader 0        </span>┃\n",
       "┡━━━━━━━━━━━━━━━━━━━━━━━━━━━╇━━━━━━━━━━━━━━━━━━━━━━━━━━━┩\n",
       "│<span style=\"color: #008080; text-decoration-color: #008080\">         test/mae          </span>│<span style=\"color: #800080; text-decoration-color: #800080\">     87.1765365600586      </span>│\n",
       "│<span style=\"color: #008080; text-decoration-color: #008080\">         test/rmse         </span>│<span style=\"color: #800080; text-decoration-color: #800080\">    105.41293334960938     </span>│\n",
       "└───────────────────────────┴───────────────────────────┘\n",
       "</pre>\n"
      ],
      "text/plain": [
       "┏━━━━━━━━━━━━━━━━━━━━━━━━━━━┳━━━━━━━━━━━━━━━━━━━━━━━━━━━┓\n",
       "┃\u001b[1m \u001b[0m\u001b[1m       Test metric       \u001b[0m\u001b[1m \u001b[0m┃\u001b[1m \u001b[0m\u001b[1m      DataLoader 0       \u001b[0m\u001b[1m \u001b[0m┃\n",
       "┡━━━━━━━━━━━━━━━━━━━━━━━━━━━╇━━━━━━━━━━━━━━━━━━━━━━━━━━━┩\n",
       "│\u001b[36m \u001b[0m\u001b[36m        test/mae         \u001b[0m\u001b[36m \u001b[0m│\u001b[35m \u001b[0m\u001b[35m    87.1765365600586     \u001b[0m\u001b[35m \u001b[0m│\n",
       "│\u001b[36m \u001b[0m\u001b[36m        test/rmse        \u001b[0m\u001b[36m \u001b[0m│\u001b[35m \u001b[0m\u001b[35m   105.41293334960938    \u001b[0m\u001b[35m \u001b[0m│\n",
       "└───────────────────────────┴───────────────────────────┘\n"
      ]
     },
     "metadata": {},
     "output_type": "display_data"
    }
   ],
   "source": [
    "results = trainer.test(mcmpnn, test_loader)\n"
   ]
  }
 ],
 "metadata": {
  "kernelspec": {
   "display_name": "habnet_rocm",
   "language": "python",
   "name": "python3"
  },
  "language_info": {
   "codemirror_mode": {
    "name": "ipython",
    "version": 3
   },
   "file_extension": ".py",
   "mimetype": "text/x-python",
   "name": "python",
   "nbconvert_exporter": "python",
   "pygments_lexer": "ipython3",
   "version": "3.12.8"
  }
 },
 "nbformat": 4,
 "nbformat_minor": 4
}
