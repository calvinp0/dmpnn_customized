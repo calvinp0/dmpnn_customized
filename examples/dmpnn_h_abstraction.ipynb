{
 "cells": [
  {
   "cell_type": "code",
   "execution_count": 1,
   "id": "43799a35",
   "metadata": {},
   "outputs": [],
   "source": [
    "%load_ext autoreload\n",
    "%autoreload 2"
   ]
  },
  {
   "cell_type": "code",
   "execution_count": 2,
   "id": "09b9ee52",
   "metadata": {},
   "outputs": [],
   "source": [
    "import os\n",
    "from chemprop.CUSTOM.featuriser.featurise import Featuriser, MOL_TYPES\n",
    "from chemprop import data, featurizers, nn\n",
    "from chemprop.nn import metrics\n",
    "from chemprop.models import multi\n",
    "from chemprop.nn.metrics import MSE\n",
    "from lightning import pytorch as pl\n",
    "import pprint\n"
   ]
  },
  {
   "cell_type": "markdown",
   "id": "4a6bc602",
   "metadata": {},
   "source": [
    "# Set up custom featuriser\n",
    "1. Parses through SDF files and searches for specific types of mols (R1H and R2H). SDF files will usually contain R1H, R2H and TS - But for this we only need the first two. R1H is the molecule that has the hydrogen that is being `donated`. R2H is the the other molecule that has already `abstracted`.\n",
    "\n",
    "    So think of the Reaction Equation:\n",
    "\n",
    "    `R1H + R2 <-> R1 + R2H`\n",
    "\n",
    "    So we are taking R1H and R2H forms.\n",
    "\n",
    "2. Also, during this parsing it the SDF's, it will grab the reaction name and check for the relevant targets in the target.csv file `(Although for this purpose we will use target_sin_cos.csv - this focusses on one dihedral target and !!I have filtered out the missing dihedral moleces (marked -10) just for ease!!)`\n",
    "\n",
    "3. Additionally, there is a function in the featurise.py that gets extra features (features that are not created by DMPNN). These features are our own.\n",
    "\n",
    "slot 0: d_hydrogen, slot 1: a_hydrogen, slot 2: donator, slot 3: acceptor.\n",
    "\n",
    "It is one hot encoding, where an atom is marked d_hydrogen == 1 if its the atom that is the donating hydrogen. a_hydrogen is for the abstracted hydrogen. donator is to mark which heavy atom (so not a Hydrogen) that gave away the hydrogen. and acceptor is for the heavy atom that accepted the hydrogen. So `donator` and `d_hydrogen` will have `1` in `R1H` in one of the nodes. And `acceptor` and `a_hydrogen` will have `1`in `R2H` in one of the nodes."
   ]
  },
  {
   "cell_type": "code",
   "execution_count": 3,
   "id": "1b43e3d1",
   "metadata": {},
   "outputs": [
    {
     "name": "stdout",
     "output_type": "stream",
     "text": [
      "Reaction rxn_191 not found in target data\n",
      "Reaction rmg_rxn_16785 not found in target data\n",
      "Reaction rxn_1169 not found in target data\n",
      "Reaction rxn_144 not found in target data\n",
      "Reaction rmg_rxn_16786 not found in target data\n",
      "Reaction rxn_1257 not found in target data\n",
      "Reaction rmg_rxn_1155 not found in target data\n",
      "Reaction rmg_rxn_1160 not found in target data\n",
      "Reaction rxn_798 not found in target data\n",
      "Reaction rxn_682 not found in target data\n",
      "Reaction rxn_30 not found in target data\n",
      "Reaction rxn_795 not found in target data\n",
      "Reaction rxn_111 not found in target data\n",
      "Reaction rxn_635 not found in target data\n",
      "Reaction rxn_824 not found in target data\n",
      "Reaction rxn_182 not found in target data\n",
      "Reaction rxn_89 not found in target data\n",
      "Reaction rxn_127 not found in target data\n",
      "Reaction rxn_286 not found in target data\n",
      "Reaction rxn_262 not found in target data\n",
      "Reaction rxn_792 not found in target data\n",
      "Reaction rxn_909 not found in target data\n",
      "Reaction rxn_791 not found in target data\n",
      "Reaction rxn_1433 not found in target data\n",
      "Reaction rxn_697 not found in target data\n",
      "Reaction rxn_342 not found in target data\n",
      "Reaction rxn_113 not found in target data\n",
      "Reaction rmg_rxn_1129 not found in target data\n",
      "Reaction rxn_816 not found in target data\n",
      "Reaction rxn_1950 not found in target data\n",
      "Reaction rmg_rxn_15440 not found in target data\n",
      "Reaction rxn_210 not found in target data\n",
      "Reaction rxn_733 not found in target data\n",
      "Reaction rxn_275 not found in target data\n",
      "Reaction rxn_131 not found in target data\n",
      "Reaction rxn_223 not found in target data\n",
      "Reaction rxn_656 not found in target data\n",
      "Reaction rmg_rxn_1147 not found in target data\n",
      "Reaction rmg_rxn_1154 not found in target data\n",
      "Reaction rxn_818 not found in target data\n",
      "Reaction rxn_807 not found in target data\n",
      "Reaction rxn_797 not found in target data\n",
      "Reaction rxn_345 not found in target data\n",
      "Reaction rxn_90 not found in target data\n",
      "Reaction rxn_80 not found in target data\n",
      "Reaction rxn_72 not found in target data\n",
      "Reaction rxn_285 not found in target data\n",
      "Reaction rxn_1842 not found in target data\n",
      "Reaction rxn_112 not found in target data\n",
      "Reaction rxn_1797 not found in target data\n",
      "Reaction rmg_rxn_1161 not found in target data\n",
      "Reaction rxn_288 not found in target data\n",
      "Reaction rxn_753 not found in target data\n",
      "Reaction rxn_790 not found in target data\n",
      "Reaction rmg_rxn_1157 not found in target data\n",
      "Reaction rxn_672 not found in target data\n",
      "Reaction rxn_1301 not found in target data\n",
      "Reaction rxn_787 not found in target data\n",
      "Reaction rxn_426 not found in target data\n",
      "Reaction rxn_185 not found in target data\n",
      "Reaction rxn_690 not found in target data\n",
      "Reaction rxn_252 not found in target data\n",
      "Reaction rmg_rxn_1137 not found in target data\n",
      "Reaction rmg_rxn_15595 not found in target data\n",
      "Reaction rxn_1994 not found in target data\n",
      "Reaction rxn_70 not found in target data\n",
      "Reaction rmg_rxn_1142 not found in target data\n",
      "Reaction rmg_rxn_1152 not found in target data\n",
      "Reaction rmg_rxn_1163 not found in target data\n",
      "Reaction rxn_735 not found in target data\n",
      "Reaction rmg_rxn_15401 not found in target data\n",
      "Reaction rxn_623 not found in target data\n",
      "Reaction rxn_380 not found in target data\n",
      "Reaction rmg_rxn_1146 not found in target data\n",
      "Reaction rxn_183 not found in target data\n",
      "Reaction rxn_261 not found in target data\n",
      "Reaction rxn_247 not found in target data\n",
      "Reaction rxn_825 not found in target data\n",
      "Reaction rxn_796 not found in target data\n",
      "Reaction rxn_254 not found in target data\n",
      "Reaction rxn_801 not found in target data\n",
      "Reaction rxn_146 not found in target data\n",
      "Reaction rxn_310 not found in target data\n",
      "Reaction rxn_264 not found in target data\n",
      "Reaction rxn_235 not found in target data\n",
      "Reaction rxn_248 not found in target data\n",
      "Reaction rxn_1213 not found in target data\n",
      "Reaction rmg_rxn_1153 not found in target data\n",
      "Reaction rxn_1477 not found in target data\n",
      "Reaction rxn_624 not found in target data\n",
      "Reaction rxn_168 not found in target data\n",
      "Reaction rxn_126 not found in target data\n",
      "Reaction rxn_170 not found in target data\n",
      "Reaction rxn_184 not found in target data\n",
      "Reaction rxn_806 not found in target data\n",
      "Reaction rxn_1125 not found in target data\n",
      "Reaction rxn_766 not found in target data\n",
      "Reaction rxn_625 not found in target data\n",
      "Reaction rxn_1389 not found in target data\n",
      "Reaction rxn_192 not found in target data\n",
      "Reaction rxn_731 not found in target data\n",
      "Reaction rmg_rxn_1141 not found in target data\n",
      "Reaction rxn_732 not found in target data\n",
      "Reaction rxn_793 not found in target data\n",
      "Reaction rxn_372 not found in target data\n",
      "Reaction rxn_785 not found in target data\n",
      "Reaction rxn_250 not found in target data\n",
      "Reaction rxn_799 not found in target data\n",
      "Reaction rxn_667 not found in target data\n",
      "Reaction rxn_701 not found in target data\n",
      "Reaction rxn_266 not found in target data\n",
      "Reaction rxn_265 not found in target data\n",
      "Reaction rxn_467 not found in target data\n",
      "Reaction rxn_490 not found in target data\n"
     ]
    }
   ],
   "source": [
    "feat_data = Featuriser(\n",
    "    sdf_path=\"../DATA/sdf_data\", \n",
    "    path = \"../DATA/target_data/target_data_sin_cos.csv\", # If you want to use full dataset, use target_data.csv, however\n",
    "    #  you will need to convert the angles for psi1 and psi2 to sin and cos\n",
    "    column_targets=['psi_1_dihedral_sin','psi_1_dihedral_cos'],\n",
    "    include_extra_features = False,) # <-- We will turn these off for now"
   ]
  },
  {
   "cell_type": "code",
   "execution_count": 4,
   "id": "9b65b519",
   "metadata": {},
   "outputs": [
    {
     "name": "stdout",
     "output_type": "stream",
     "text": [
      "2\n",
      "Total number of pair molecules:  1696\n"
     ]
    }
   ],
   "source": [
    "print(len(feat_data))\n",
    "# Reason for 2 is that it is a list in lists - list[0] is the first molecule, list[1] is the second molecule\n",
    "print(\"Total number of pair molecules: \", len(feat_data[0]))"
   ]
  },
  {
   "cell_type": "code",
   "execution_count": 5,
   "id": "30a77a51",
   "metadata": {},
   "outputs": [
    {
     "name": "stdout",
     "output_type": "stream",
     "text": [
      "Molecule R1H:  rmg_rxn_86_r1h\n",
      "Molecule R2H:  rmg_rxn_86_r2h\n"
     ]
    }
   ],
   "source": [
    "print(\"Molecule R1H: \", feat_data[0][0].name)\n",
    "print(\"Molecule R2H: \", feat_data[1][0].name)\n"
   ]
  },
  {
   "cell_type": "code",
   "execution_count": 6,
   "id": "0f80548e",
   "metadata": {},
   "outputs": [
    {
     "name": "stdout",
     "output_type": "stream",
     "text": [
      "array([-0.7247698,  0.6889911], dtype=float32)\n"
     ]
    }
   ],
   "source": [
    "pprint.pprint(feat_data[0][0].y)\n",
    "# We see that y is kept in the first molecule - not the second -> this is Chemprop's way of doing things"
   ]
  },
  {
   "cell_type": "markdown",
   "id": "70d0bf7f",
   "metadata": {},
   "source": [
    "# Split the components\n",
    "\n",
    "Their splitter only splits by one molecule rather than taking the two into consideration. That's fine if it's random but since my work is pair molecules, it is not ideal. So when I use their `kennard stone` it is only splitting by the first molecules - the R1H's. I have a code that takes into account both molecule but did not bother to use it here"
   ]
  },
  {
   "cell_type": "code",
   "execution_count": 7,
   "id": "4daa9e21",
   "metadata": {},
   "outputs": [
    {
     "name": "stderr",
     "output_type": "stream",
     "text": [
      "The return type of make_split_indices has changed in v2.1 - see help(make_split_indices)\n"
     ]
    }
   ],
   "source": [
    "component_to_split_by = 0\n",
    "mols = [d.mol for d in feat_data[component_to_split_by]]\n",
    "\n",
    "train_idx, val_idx, test_idx = data.make_split_indices(\n",
    "    mols,\n",
    "    \"kennard_stone\",\n",
    "    (0.8, 0.1, 0.1),\n",
    "    seed=42,\n",
    "    num_replicates=1\n",
    "    )"
   ]
  },
  {
   "cell_type": "code",
   "execution_count": 8,
   "id": "074b6a51",
   "metadata": {},
   "outputs": [
    {
     "data": {
      "text/plain": [
       "(1, 1, 1)"
      ]
     },
     "execution_count": 8,
     "metadata": {},
     "output_type": "execute_result"
    }
   ],
   "source": [
    "len(train_idx), len(val_idx), len(test_idx)\n",
    "\n",
    "# We will see that the len is 1 for each as they use `replicates` - so rather the variabls are tuples that hold different indices\n",
    "# Since we set as num_replicates = 1, we will only have one set of indices in each of the tuples"
   ]
  },
  {
   "cell_type": "code",
   "execution_count": 9,
   "id": "cbe5ade8",
   "metadata": {},
   "outputs": [
    {
     "data": {
      "text/plain": [
       "1356"
      ]
     },
     "execution_count": 9,
     "metadata": {},
     "output_type": "execute_result"
    }
   ],
   "source": [
    "len(train_idx[0])"
   ]
  },
  {
   "cell_type": "code",
   "execution_count": 10,
   "id": "3c95662e",
   "metadata": {},
   "outputs": [],
   "source": [
    "train_data, val_data, test_data = data.split_data_by_indices(\n",
    "    feat_data, train_idx, val_idx, test_idx\n",
    ")"
   ]
  },
  {
   "cell_type": "markdown",
   "id": "740979ce",
   "metadata": {},
   "source": [
    "# DMPNN Featurise & Datasets\n",
    "\n",
    "In the `featurizers.SimpleMoleculeMolGraphFeaturizer` we can change the `atom` and `bond` featurizers from the default but we will not. Additionally, if we added the extra features as mentioned before, we need to tell it that by adjusting `extra_atom_fdim` and or `extra_bond_fdim`\n",
    "\n",
    "Note! We will have 27 feats for Bonds even though Chemprop originally does 14. The reason for the extra 13 is that I added in the `SimpleMoleculeMolGraphFeaturizer` more information for the bonds - creating radial basis function of the bond lengths and also the angles of the bonds. However we do not need to place 13 in the `extra_bond_fdim` because I made it a core part of the featurizer."
   ]
  },
  {
   "cell_type": "code",
   "execution_count": 11,
   "id": "99caf63a",
   "metadata": {},
   "outputs": [],
   "source": [
    "featurizer = featurizers.SimpleMoleculeMolGraphFeaturizer(\n",
    "    extra_atom_fdim=0, extra_bond_fdim=0\n",
    ")\n",
    "\n",
    "\n",
    "\n",
    "train_datasets = [data.MoleculeDataset(train_data[0][i], featurizer) for i in range(len(MOL_TYPES))]\n",
    "val_datasets = [data.MoleculeDataset(val_data[0][i], featurizer) for i in range(len(MOL_TYPES))]\n",
    "test_datasets = [data.MoleculeDataset(test_data[0][i], featurizer) for i in range(len(MOL_TYPES))]"
   ]
  },
  {
   "cell_type": "code",
   "execution_count": 12,
   "id": "176a38dc",
   "metadata": {},
   "outputs": [
    {
     "data": {
      "text/plain": [
       "(1356, 169, 171)"
      ]
     },
     "execution_count": 12,
     "metadata": {},
     "output_type": "execute_result"
    }
   ],
   "source": [
    "len(train_datasets[0]), len(val_datasets[0]), len(test_datasets[0])"
   ]
  },
  {
   "cell_type": "code",
   "execution_count": 13,
   "id": "8cf0bcf4",
   "metadata": {},
   "outputs": [
    {
     "name": "stdout",
     "output_type": "stream",
     "text": [
      "Number of node feats.:  72\n",
      "Number of edge feats.:  27\n"
     ]
    }
   ],
   "source": [
    "print(\"Number of node feats.: \", train_datasets[0][0].mg.V.shape[1])\n",
    "print(\"Number of edge feats.: \", train_datasets[0][0].mg.E.shape[1])"
   ]
  },
  {
   "cell_type": "code",
   "execution_count": 14,
   "id": "8313fc1e",
   "metadata": {},
   "outputs": [],
   "source": [
    "train_mcdset = data.MulticomponentDataset(train_datasets)\n",
    "val_mcdset = data.MulticomponentDataset(val_datasets)\n",
    "test_mcdset = data.MulticomponentDataset(test_datasets)"
   ]
  },
  {
   "cell_type": "code",
   "execution_count": 15,
   "id": "fa6111fa",
   "metadata": {},
   "outputs": [],
   "source": [
    "train_loader = data.build_dataloader(train_mcdset, batch_size=64, shuffle=True, num_workers=8, pin_memory=True)\n",
    "val_loader = data.build_dataloader(val_mcdset, shuffle=False, batch_size=64)\n",
    "test_loader = data.build_dataloader(test_mcdset, shuffle=False, batch_size=64)"
   ]
  },
  {
   "cell_type": "markdown",
   "id": "f6cc1cd4",
   "metadata": {},
   "source": [
    "# Creating the Model in parts"
   ]
  },
  {
   "cell_type": "markdown",
   "id": "dd8a22ff",
   "metadata": {},
   "source": [
    "## MPNN\n",
    "\n",
    "First we have the Bond Message Passer we need to set up. Here we can tell it to either create a shared encoder or separate encoder - One for R1H molecules and One for R2H molecules. They then will be aggregated together. \n",
    "\n",
    "![img](multi_dmpnn.png)"
   ]
  },
  {
   "cell_type": "code",
   "execution_count": 16,
   "id": "000a74cb",
   "metadata": {},
   "outputs": [],
   "source": [
    "mcmp = nn.MulticomponentMessagePassing(\n",
    "    blocks=[nn.BondMessagePassing(depth=6, dropout=0.2\n",
    "                                  ) for _ in range(len(MOL_TYPES))],\n",
    "    n_components=len(MOL_TYPES), shared = False    \n",
    ")\n"
   ]
  },
  {
   "cell_type": "markdown",
   "id": "ae3de310",
   "metadata": {},
   "source": [
    "## Aggregation\n",
    "https://chemprop.readthedocs.io/en/latest/tutorial/python/models/aggregation.html"
   ]
  },
  {
   "cell_type": "code",
   "execution_count": 17,
   "id": "37cb3b70",
   "metadata": {},
   "outputs": [],
   "source": [
    "agg = nn.MeanAggregation()"
   ]
  },
  {
   "cell_type": "markdown",
   "id": "91707c41",
   "metadata": {},
   "source": [
    "## Optional - Loss Function\n",
    "Since Chemprop does not have a loss function that handles periodic, needed to implement myself. Creating custom one explained here:\n",
    "https://chemprop.readthedocs.io/en/latest/tutorial/python/loss_functions.html"
   ]
  },
  {
   "cell_type": "code",
   "execution_count": 18,
   "id": "892cc94a",
   "metadata": {},
   "outputs": [],
   "source": [
    "import torch\n",
    "import torch.nn.functional as F\n",
    "from chemprop.nn.metrics import ChempropMetric\n",
    "\n",
    "class CircVectorCosine(ChempropMetric):\n",
    "    r\"\"\"\n",
    "    Cosine‐based loss for 2-D circular vectors.\n",
    "    For each (sin,cos) pair it computes\n",
    "        loss = 1 - cosine_similarity(pred_vector, true_vector)\n",
    "    and then applies your usual masking & weighting.\n",
    "    \"\"\"\n",
    "    def __init__(self, task_weights=None):\n",
    "        super().__init__(task_weights=task_weights)\n",
    "\n",
    "    def _calc_unreduced_loss(self,\n",
    "                             preds: torch.Tensor,    # (B, out_dim)\n",
    "                             targets: torch.Tensor,  # (B, out_dim)\n",
    "                             mask: torch.Tensor,     # (B, out_dim)\n",
    "                             weights: torch.Tensor,  # (B,) or (B,2T) or (B,T)\n",
    "                             lt_mask: torch.Tensor,\n",
    "                             gt_mask: torch.Tensor\n",
    "                            ) -> torch.Tensor:\n",
    "        B, orig_dim = preds.shape\n",
    "\n",
    "        # how many full (sin,cos) pairs?\n",
    "        T = orig_dim // 2\n",
    "        slice_width = 2 * T\n",
    "\n",
    "        # slice everything down to exactly 2*T columns\n",
    "        preds   = preds[:,   :slice_width]\n",
    "        targets = targets[:, :slice_width]\n",
    "        mask    = mask[:,    :slice_width]\n",
    "\n",
    "        # now reshape safely (B, T, 2)\n",
    "        preds   = preds.view(B, T, 2)\n",
    "        targets = targets.view(B, T, 2)\n",
    "\n",
    "        # vector‐level mask: require both sin & cos valid\n",
    "        comp_mask = mask.view(B, T, 2).all(dim=-1)  # (B, T)\n",
    "\n",
    "        # ==== robust weight handling ====\n",
    "        w = weights\n",
    "        if w.ndim == 1 and w.numel() == B:\n",
    "            w = w.unsqueeze(1).expand(B, T)\n",
    "        elif w.ndim == 2 and w.numel() == B * T:\n",
    "            w = w.view(B, T)\n",
    "        elif w.ndim == 2 and w.numel() == B * slice_width:\n",
    "            w = w.view(B, T, 2).mean(dim=-1)\n",
    "        else:\n",
    "            w = torch.tensor(w.mean(), device=w.device).expand(B, T)\n",
    "        # =================================\n",
    "\n",
    "        # compute cosine similarity in [-1,1]\n",
    "        cos_sim = F.cosine_similarity(preds, targets, dim=-1)  # (B, T)\n",
    "\n",
    "        # loss = 1 - cosine_similarity\n",
    "        loss = (1.0 - cos_sim) * comp_mask * w  # (B, T)\n",
    "\n",
    "        return loss\n",
    "\n"
   ]
  },
  {
   "cell_type": "markdown",
   "id": "43f25c2b",
   "metadata": {},
   "source": [
    "## FFN Head\n",
    "\n",
    "Again, Chemprop does not provide a periodic head so needed to create one"
   ]
  },
  {
   "cell_type": "code",
   "execution_count": 26,
   "id": "77f578c8",
   "metadata": {},
   "outputs": [],
   "source": [
    "import torch\n",
    "from torch import Tensor\n",
    "from chemprop.nn.predictors import RegressionFFN\n",
    "\n",
    "class PeriodicRegressionFFN(RegressionFFN):\n",
    "    \"\"\"\n",
    "    A RegressionFFN that predicts (sin θ, cos θ) for each task and\n",
    "    renormalizes to unit length.\n",
    "    \"\"\"\n",
    "    def __init__(\n",
    "        self,\n",
    "        input_dim: int = 300,\n",
    "        hidden_dim: int = 300,\n",
    "        n_layers: int = 1,\n",
    "        dropout: float = 0.0,\n",
    "        activation: str = \"relu\",\n",
    "        n_tasks: int = 1,\n",
    "        criterion=None,\n",
    "    ):\n",
    "\n",
    "        super().__init__(\n",
    "            input_dim=input_dim,\n",
    "            hidden_dim=hidden_dim,\n",
    "            n_layers=n_layers,\n",
    "            dropout=dropout,\n",
    "            activation=activation,\n",
    "            n_tasks=n_tasks,\n",
    "            criterion=criterion\n",
    "        )\n",
    "\n",
    "    def forward(self, x: Tensor) -> Tensor:\n",
    "        \"\"\"\n",
    "        x: (batch, input_dim)\n",
    "        returns: (batch, 2 * n_tasks) raw outputs,\n",
    "                 which we then reshape + normalize.\n",
    "        \"\"\"\n",
    "        raw = self.ffn(x)  # shape (batch, 2 * n_tasks)\n",
    "        \n",
    "        B, twoT = raw.shape\n",
    "        T = twoT // 2\n",
    "        \n",
    "        # reshape to (batch, T, 2)\n",
    "        vecs = raw.view(B, T, 2)\n",
    "        \n",
    "        # normalize each 2-vector to unit length\n",
    "        norms = torch.norm(vecs, dim=-1, keepdim=True).clamp(min=1e-6)\n",
    "        unit = vecs / norms\n",
    "        \n",
    "        # flatten back to (batch, 2*T)\n",
    "        return unit.view(B, 2 * T)\n"
   ]
  },
  {
   "cell_type": "code",
   "execution_count": 38,
   "id": "6bd09d8e",
   "metadata": {},
   "outputs": [],
   "source": [
    "num_tasks = 2\n",
    "loss_fn = CircVectorCosine(task_weights=[1.0])\n",
    "ffn = PeriodicRegressionFFN(\n",
    "    input_dim=mcmp.output_dim,\n",
    "    n_tasks=2,\n",
    "    dropout=0.1,\n",
    "    n_layers=2\n",
    ")"
   ]
  },
  {
   "cell_type": "markdown",
   "id": "94725b16",
   "metadata": {},
   "source": [
    "## Metrics\n",
    "\n",
    "No proper metric class for what we are measuring so need to create one"
   ]
  },
  {
   "cell_type": "code",
   "execution_count": 39,
   "id": "9e72bcaf",
   "metadata": {},
   "outputs": [],
   "source": [
    "class CosineAngleMetric(ChempropMetric):\n",
    "    \"\"\"A metric reporting mean(1-cosine_similarity) across all (sample,task).\"\"\"\n",
    "    def __init__(self, task_weights=None):\n",
    "        super().__init__(task_weights=task_weights)\n",
    "\n",
    "    @property\n",
    "    def alias(self) -> str:\n",
    "        return \"mean_cosine_loss\"\n",
    "\n",
    "    def _calc_unreduced_loss(self,\n",
    "        preds: torch.Tensor,\n",
    "        targets: torch.Tensor,\n",
    "        mask: torch.Tensor,\n",
    "        weights: torch.Tensor,\n",
    "        lt_mask: torch.Tensor,\n",
    "        gt_mask: torch.Tensor\n",
    "    ) -> torch.Tensor:\n",
    "        # reuse exactly the same computation as CircVectorCosine\n",
    "        return CircVectorCosine._calc_unreduced_loss(\n",
    "            self, preds, targets, mask, weights, lt_mask, gt_mask\n",
    "        )"
   ]
  },
  {
   "cell_type": "code",
   "execution_count": 40,
   "id": "c99ae328",
   "metadata": {},
   "outputs": [],
   "source": [
    "metric_list = [CosineAngleMetric(task_weights=[1.0]), metrics.R2Score()] # Only the first metric is used for training and early stopping - can provide many though"
   ]
  },
  {
   "cell_type": "markdown",
   "id": "69b6a85f",
   "metadata": {},
   "source": [
    "## Bring it all together\n",
    "\n",
    "Note Chemprop has set their optimizer and scheduler as NoamLike. So to change it you would need to change code or replace it via mcmpnn.configure_optimizer= I believe"
   ]
  },
  {
   "cell_type": "code",
   "execution_count": 41,
   "id": "4ce2e6e3",
   "metadata": {},
   "outputs": [
    {
     "data": {
      "text/plain": [
       "MulticomponentMPNN(\n",
       "  (message_passing): MulticomponentMessagePassing(\n",
       "    (blocks): ModuleList(\n",
       "      (0-1): 2 x BondMessagePassing(\n",
       "        (W_i): Linear(in_features=99, out_features=300, bias=False)\n",
       "        (W_h): Linear(in_features=300, out_features=300, bias=False)\n",
       "        (W_o): Linear(in_features=372, out_features=300, bias=True)\n",
       "        (dropout): Dropout(p=0.2, inplace=False)\n",
       "        (tau): ReLU()\n",
       "        (V_d_transform): Identity()\n",
       "        (graph_transform): Identity()\n",
       "      )\n",
       "    )\n",
       "  )\n",
       "  (agg): MeanAggregation()\n",
       "  (bn): BatchNorm1d(600, eps=1e-05, momentum=0.1, affine=True, track_running_stats=True)\n",
       "  (predictor): PeriodicRegressionFFN(\n",
       "    (ffn): MLP(\n",
       "      (0): Sequential(\n",
       "        (0): Linear(in_features=600, out_features=300, bias=True)\n",
       "      )\n",
       "      (1): Sequential(\n",
       "        (0): ReLU()\n",
       "        (1): Dropout(p=0.1, inplace=False)\n",
       "        (2): Linear(in_features=300, out_features=300, bias=True)\n",
       "      )\n",
       "      (2): Sequential(\n",
       "        (0): ReLU()\n",
       "        (1): Dropout(p=0.1, inplace=False)\n",
       "        (2): Linear(in_features=300, out_features=2, bias=True)\n",
       "      )\n",
       "    )\n",
       "    (criterion): MSE(task_weights=[[1.0, 1.0]])\n",
       "    (output_transform): Identity()\n",
       "  )\n",
       "  (X_d_transform): Identity()\n",
       "  (metrics): ModuleList(\n",
       "    (0): CosineAngleMetric(task_weights=[[1.0]])\n",
       "    (1): R2Score()\n",
       "    (2): MSE(task_weights=[[1.0, 1.0]])\n",
       "  )\n",
       ")"
      ]
     },
     "execution_count": 41,
     "metadata": {},
     "output_type": "execute_result"
    }
   ],
   "source": [
    "mcmpnn = multi.MulticomponentMPNN(\n",
    "    mcmp,\n",
    "    agg,\n",
    "    ffn,\n",
    "    metrics=metric_list,\n",
    "    warmup_epochs=8,\n",
    "    max_lr = 5e-4,\n",
    "    init_lr=5e-5,\n",
    "    final_lr=1e-5,\n",
    "    batch_norm=True\n",
    "\n",
    ")\n",
    "mcmpnn"
   ]
  },
  {
   "cell_type": "markdown",
   "id": "b69b5a93",
   "metadata": {},
   "source": [
    "# Custom Callback"
   ]
  },
  {
   "cell_type": "code",
   "execution_count": 42,
   "id": "ed8851e5",
   "metadata": {},
   "outputs": [],
   "source": [
    "class LossHistoryCallback(pl.Callback):\n",
    "    def __init__(self):\n",
    "        super().__init__()\n",
    "        self.train_losses = []\n",
    "        self.val_losses = []\n",
    "\n",
    "    def on_train_epoch_end(self, trainer, pl_module):\n",
    "        self.train_losses.append(trainer.callback_metrics['train_loss'].cpu().item())\n",
    "\n",
    "    def on_validation_epoch_end(self, trainer, pl_module):\n",
    "        self.val_losses.append(trainer.callback_metrics['val_loss'].cpu().item())\n",
    "\n",
    "# 1) Instantiate callback and pass to Trainer\n",
    "loss_history = LossHistoryCallback()"
   ]
  },
  {
   "cell_type": "code",
   "execution_count": 43,
   "id": "33a9b08a",
   "metadata": {},
   "outputs": [
    {
     "name": "stderr",
     "output_type": "stream",
     "text": [
      "GPU available: False, used: False\n",
      "TPU available: False, using: 0 TPU cores\n",
      "HPU available: False, using: 0 HPUs\n",
      "Loading `train_dataloader` to estimate number of stepping batches.\n",
      "\n",
      "  | Name            | Type                         | Params | Mode \n",
      "-------------------------------------------------------------------------\n",
      "0 | message_passing | MulticomponentMessagePassing | 463 K  | eval \n",
      "1 | agg             | MeanAggregation              | 0      | eval \n",
      "2 | bn              | BatchNorm1d                  | 1.2 K  | train\n",
      "3 | predictor       | PeriodicRegressionFFN        | 271 K  | train\n",
      "4 | X_d_transform   | Identity                     | 0      | train\n",
      "5 | metrics         | ModuleList                   | 0      | train\n",
      "-------------------------------------------------------------------------\n",
      "735 K     Trainable params\n",
      "0         Non-trainable params\n",
      "735 K     Total params\n",
      "2.942     Total estimated model params size (MB)\n",
      "22        Modules in train mode\n",
      "15        Modules in eval mode\n"
     ]
    },
    {
     "data": {
      "application/vnd.jupyter.widget-view+json": {
       "model_id": "3c607e84dedc45e48b4dcdda62bbfca9",
       "version_major": 2,
       "version_minor": 0
      },
      "text/plain": [
       "Sanity Checking: |          | 0/? [00:00<?, ?it/s]"
      ]
     },
     "metadata": {},
     "output_type": "display_data"
    },
    {
     "data": {
      "application/vnd.jupyter.widget-view+json": {
       "model_id": "4b6952cd4edf4649a0bd89b18499ce62",
       "version_major": 2,
       "version_minor": 0
      },
      "text/plain": [
       "Training: |          | 0/? [00:00<?, ?it/s]"
      ]
     },
     "metadata": {},
     "output_type": "display_data"
    },
    {
     "data": {
      "application/vnd.jupyter.widget-view+json": {
       "model_id": "f22bc8f4d72d4d8fae115e0f8c3d411e",
       "version_major": 2,
       "version_minor": 0
      },
      "text/plain": [
       "Validation: |          | 0/? [00:00<?, ?it/s]"
      ]
     },
     "metadata": {},
     "output_type": "display_data"
    },
    {
     "data": {
      "application/vnd.jupyter.widget-view+json": {
       "model_id": "98027ff12ae54e9db3100dce2d592d8d",
       "version_major": 2,
       "version_minor": 0
      },
      "text/plain": [
       "Validation: |          | 0/? [00:00<?, ?it/s]"
      ]
     },
     "metadata": {},
     "output_type": "display_data"
    },
    {
     "data": {
      "application/vnd.jupyter.widget-view+json": {
       "model_id": "24cc368f35c94a488bf07eb47360c899",
       "version_major": 2,
       "version_minor": 0
      },
      "text/plain": [
       "Validation: |          | 0/? [00:00<?, ?it/s]"
      ]
     },
     "metadata": {},
     "output_type": "display_data"
    },
    {
     "data": {
      "application/vnd.jupyter.widget-view+json": {
       "model_id": "42afbbff3fab4386b58910198d6fa0ac",
       "version_major": 2,
       "version_minor": 0
      },
      "text/plain": [
       "Validation: |          | 0/? [00:00<?, ?it/s]"
      ]
     },
     "metadata": {},
     "output_type": "display_data"
    },
    {
     "data": {
      "application/vnd.jupyter.widget-view+json": {
       "model_id": "e05ef1bdfb3a4b12809b0216b160b7c5",
       "version_major": 2,
       "version_minor": 0
      },
      "text/plain": [
       "Validation: |          | 0/? [00:00<?, ?it/s]"
      ]
     },
     "metadata": {},
     "output_type": "display_data"
    },
    {
     "data": {
      "application/vnd.jupyter.widget-view+json": {
       "model_id": "456a598de50541058ecac984c5835acd",
       "version_major": 2,
       "version_minor": 0
      },
      "text/plain": [
       "Validation: |          | 0/? [00:00<?, ?it/s]"
      ]
     },
     "metadata": {},
     "output_type": "display_data"
    },
    {
     "data": {
      "application/vnd.jupyter.widget-view+json": {
       "model_id": "8a603893e9814574a7ca57fdd21aded5",
       "version_major": 2,
       "version_minor": 0
      },
      "text/plain": [
       "Validation: |          | 0/? [00:00<?, ?it/s]"
      ]
     },
     "metadata": {},
     "output_type": "display_data"
    },
    {
     "data": {
      "application/vnd.jupyter.widget-view+json": {
       "model_id": "1d808de9277249b68d3e22c488781669",
       "version_major": 2,
       "version_minor": 0
      },
      "text/plain": [
       "Validation: |          | 0/? [00:00<?, ?it/s]"
      ]
     },
     "metadata": {},
     "output_type": "display_data"
    },
    {
     "data": {
      "application/vnd.jupyter.widget-view+json": {
       "model_id": "52e61b1a1b584762bd4a528efdec6407",
       "version_major": 2,
       "version_minor": 0
      },
      "text/plain": [
       "Validation: |          | 0/? [00:00<?, ?it/s]"
      ]
     },
     "metadata": {},
     "output_type": "display_data"
    },
    {
     "data": {
      "application/vnd.jupyter.widget-view+json": {
       "model_id": "b09e49e62be043558b7f6330ad62277d",
       "version_major": 2,
       "version_minor": 0
      },
      "text/plain": [
       "Validation: |          | 0/? [00:00<?, ?it/s]"
      ]
     },
     "metadata": {},
     "output_type": "display_data"
    },
    {
     "data": {
      "application/vnd.jupyter.widget-view+json": {
       "model_id": "669a19b28c834be8bedff0c7c7b90ccc",
       "version_major": 2,
       "version_minor": 0
      },
      "text/plain": [
       "Validation: |          | 0/? [00:00<?, ?it/s]"
      ]
     },
     "metadata": {},
     "output_type": "display_data"
    },
    {
     "data": {
      "application/vnd.jupyter.widget-view+json": {
       "model_id": "e7c8c9c5230e46329c26229094c735bd",
       "version_major": 2,
       "version_minor": 0
      },
      "text/plain": [
       "Validation: |          | 0/? [00:00<?, ?it/s]"
      ]
     },
     "metadata": {},
     "output_type": "display_data"
    },
    {
     "data": {
      "application/vnd.jupyter.widget-view+json": {
       "model_id": "3a2a7ece5f224c84a642962804a090ad",
       "version_major": 2,
       "version_minor": 0
      },
      "text/plain": [
       "Validation: |          | 0/? [00:00<?, ?it/s]"
      ]
     },
     "metadata": {},
     "output_type": "display_data"
    },
    {
     "data": {
      "application/vnd.jupyter.widget-view+json": {
       "model_id": "4b5b1995f14042af8a66884001b640fc",
       "version_major": 2,
       "version_minor": 0
      },
      "text/plain": [
       "Validation: |          | 0/? [00:00<?, ?it/s]"
      ]
     },
     "metadata": {},
     "output_type": "display_data"
    },
    {
     "data": {
      "application/vnd.jupyter.widget-view+json": {
       "model_id": "e55be88cdb9d433193c4fe316076949c",
       "version_major": 2,
       "version_minor": 0
      },
      "text/plain": [
       "Validation: |          | 0/? [00:00<?, ?it/s]"
      ]
     },
     "metadata": {},
     "output_type": "display_data"
    },
    {
     "data": {
      "application/vnd.jupyter.widget-view+json": {
       "model_id": "51ddd3079bb942d790e8fe3cf422715e",
       "version_major": 2,
       "version_minor": 0
      },
      "text/plain": [
       "Validation: |          | 0/? [00:00<?, ?it/s]"
      ]
     },
     "metadata": {},
     "output_type": "display_data"
    },
    {
     "data": {
      "application/vnd.jupyter.widget-view+json": {
       "model_id": "b7d6d3c7dd24432f91329c7bd6323e74",
       "version_major": 2,
       "version_minor": 0
      },
      "text/plain": [
       "Validation: |          | 0/? [00:00<?, ?it/s]"
      ]
     },
     "metadata": {},
     "output_type": "display_data"
    },
    {
     "data": {
      "application/vnd.jupyter.widget-view+json": {
       "model_id": "80a4f151ea5f4825af9b41807a6de209",
       "version_major": 2,
       "version_minor": 0
      },
      "text/plain": [
       "Validation: |          | 0/? [00:00<?, ?it/s]"
      ]
     },
     "metadata": {},
     "output_type": "display_data"
    },
    {
     "data": {
      "application/vnd.jupyter.widget-view+json": {
       "model_id": "41c2251f090e4aa3b3ab57dfe85976c0",
       "version_major": 2,
       "version_minor": 0
      },
      "text/plain": [
       "Validation: |          | 0/? [00:00<?, ?it/s]"
      ]
     },
     "metadata": {},
     "output_type": "display_data"
    },
    {
     "data": {
      "application/vnd.jupyter.widget-view+json": {
       "model_id": "19f07720aadf4f3481b9a4e553dcf521",
       "version_major": 2,
       "version_minor": 0
      },
      "text/plain": [
       "Validation: |          | 0/? [00:00<?, ?it/s]"
      ]
     },
     "metadata": {},
     "output_type": "display_data"
    },
    {
     "data": {
      "application/vnd.jupyter.widget-view+json": {
       "model_id": "90f3d8014628442a8574718e50fbca51",
       "version_major": 2,
       "version_minor": 0
      },
      "text/plain": [
       "Validation: |          | 0/? [00:00<?, ?it/s]"
      ]
     },
     "metadata": {},
     "output_type": "display_data"
    },
    {
     "data": {
      "application/vnd.jupyter.widget-view+json": {
       "model_id": "280060a13f73466281f63de64141ee0a",
       "version_major": 2,
       "version_minor": 0
      },
      "text/plain": [
       "Validation: |          | 0/? [00:00<?, ?it/s]"
      ]
     },
     "metadata": {},
     "output_type": "display_data"
    },
    {
     "data": {
      "application/vnd.jupyter.widget-view+json": {
       "model_id": "0b6606cc693343af9f859d93ac95ff6b",
       "version_major": 2,
       "version_minor": 0
      },
      "text/plain": [
       "Validation: |          | 0/? [00:00<?, ?it/s]"
      ]
     },
     "metadata": {},
     "output_type": "display_data"
    },
    {
     "data": {
      "application/vnd.jupyter.widget-view+json": {
       "model_id": "8f70e0ab2030416383e1d3f9df12ca84",
       "version_major": 2,
       "version_minor": 0
      },
      "text/plain": [
       "Validation: |          | 0/? [00:00<?, ?it/s]"
      ]
     },
     "metadata": {},
     "output_type": "display_data"
    },
    {
     "data": {
      "application/vnd.jupyter.widget-view+json": {
       "model_id": "eff26a7ac7074b9fabfc8ad47ddf3eef",
       "version_major": 2,
       "version_minor": 0
      },
      "text/plain": [
       "Validation: |          | 0/? [00:00<?, ?it/s]"
      ]
     },
     "metadata": {},
     "output_type": "display_data"
    },
    {
     "data": {
      "application/vnd.jupyter.widget-view+json": {
       "model_id": "1512a836826f473eb95a1812023c93a2",
       "version_major": 2,
       "version_minor": 0
      },
      "text/plain": [
       "Validation: |          | 0/? [00:00<?, ?it/s]"
      ]
     },
     "metadata": {},
     "output_type": "display_data"
    },
    {
     "data": {
      "application/vnd.jupyter.widget-view+json": {
       "model_id": "ae4593b5b549476f91846ee29a1ba65d",
       "version_major": 2,
       "version_minor": 0
      },
      "text/plain": [
       "Validation: |          | 0/? [00:00<?, ?it/s]"
      ]
     },
     "metadata": {},
     "output_type": "display_data"
    },
    {
     "data": {
      "application/vnd.jupyter.widget-view+json": {
       "model_id": "21f53a4fd10d49ed99832dfbef9435f1",
       "version_major": 2,
       "version_minor": 0
      },
      "text/plain": [
       "Validation: |          | 0/? [00:00<?, ?it/s]"
      ]
     },
     "metadata": {},
     "output_type": "display_data"
    },
    {
     "data": {
      "application/vnd.jupyter.widget-view+json": {
       "model_id": "a7bbe2c80af846b6a20b905adef3b2d3",
       "version_major": 2,
       "version_minor": 0
      },
      "text/plain": [
       "Validation: |          | 0/? [00:00<?, ?it/s]"
      ]
     },
     "metadata": {},
     "output_type": "display_data"
    },
    {
     "data": {
      "application/vnd.jupyter.widget-view+json": {
       "model_id": "52edeb0f1f3642f7ba1eeea7fab9d4b1",
       "version_major": 2,
       "version_minor": 0
      },
      "text/plain": [
       "Validation: |          | 0/? [00:00<?, ?it/s]"
      ]
     },
     "metadata": {},
     "output_type": "display_data"
    },
    {
     "data": {
      "application/vnd.jupyter.widget-view+json": {
       "model_id": "993998786c9f4544ac866aa5f79c42bf",
       "version_major": 2,
       "version_minor": 0
      },
      "text/plain": [
       "Validation: |          | 0/? [00:00<?, ?it/s]"
      ]
     },
     "metadata": {},
     "output_type": "display_data"
    },
    {
     "data": {
      "application/vnd.jupyter.widget-view+json": {
       "model_id": "b78353ee40ce47caa8b318a4a400f8f1",
       "version_major": 2,
       "version_minor": 0
      },
      "text/plain": [
       "Validation: |          | 0/? [00:00<?, ?it/s]"
      ]
     },
     "metadata": {},
     "output_type": "display_data"
    },
    {
     "data": {
      "application/vnd.jupyter.widget-view+json": {
       "model_id": "edc24148d71e4deaaa762013495308cd",
       "version_major": 2,
       "version_minor": 0
      },
      "text/plain": [
       "Validation: |          | 0/? [00:00<?, ?it/s]"
      ]
     },
     "metadata": {},
     "output_type": "display_data"
    },
    {
     "data": {
      "application/vnd.jupyter.widget-view+json": {
       "model_id": "636d478422a24710921fe762b6cc36ad",
       "version_major": 2,
       "version_minor": 0
      },
      "text/plain": [
       "Validation: |          | 0/? [00:00<?, ?it/s]"
      ]
     },
     "metadata": {},
     "output_type": "display_data"
    },
    {
     "data": {
      "application/vnd.jupyter.widget-view+json": {
       "model_id": "179f3e4fce884f0caf27024db83ec510",
       "version_major": 2,
       "version_minor": 0
      },
      "text/plain": [
       "Validation: |          | 0/? [00:00<?, ?it/s]"
      ]
     },
     "metadata": {},
     "output_type": "display_data"
    },
    {
     "data": {
      "application/vnd.jupyter.widget-view+json": {
       "model_id": "1ba659b8ad2444a89ad7ae90d641857a",
       "version_major": 2,
       "version_minor": 0
      },
      "text/plain": [
       "Validation: |          | 0/? [00:00<?, ?it/s]"
      ]
     },
     "metadata": {},
     "output_type": "display_data"
    },
    {
     "data": {
      "application/vnd.jupyter.widget-view+json": {
       "model_id": "ac2c2b644494427d82015d5b2ca5c0ce",
       "version_major": 2,
       "version_minor": 0
      },
      "text/plain": [
       "Validation: |          | 0/? [00:00<?, ?it/s]"
      ]
     },
     "metadata": {},
     "output_type": "display_data"
    },
    {
     "data": {
      "application/vnd.jupyter.widget-view+json": {
       "model_id": "25e349dbc1514460bcbceb37226f9d46",
       "version_major": 2,
       "version_minor": 0
      },
      "text/plain": [
       "Validation: |          | 0/? [00:00<?, ?it/s]"
      ]
     },
     "metadata": {},
     "output_type": "display_data"
    },
    {
     "data": {
      "application/vnd.jupyter.widget-view+json": {
       "model_id": "a8d8734c5a0547aab8357e91286c6529",
       "version_major": 2,
       "version_minor": 0
      },
      "text/plain": [
       "Validation: |          | 0/? [00:00<?, ?it/s]"
      ]
     },
     "metadata": {},
     "output_type": "display_data"
    },
    {
     "data": {
      "application/vnd.jupyter.widget-view+json": {
       "model_id": "0a0e8512d88047428fdf0dfb4e30aace",
       "version_major": 2,
       "version_minor": 0
      },
      "text/plain": [
       "Validation: |          | 0/? [00:00<?, ?it/s]"
      ]
     },
     "metadata": {},
     "output_type": "display_data"
    },
    {
     "data": {
      "application/vnd.jupyter.widget-view+json": {
       "model_id": "37f1123b45054df99aed960788afeae8",
       "version_major": 2,
       "version_minor": 0
      },
      "text/plain": [
       "Validation: |          | 0/? [00:00<?, ?it/s]"
      ]
     },
     "metadata": {},
     "output_type": "display_data"
    },
    {
     "data": {
      "application/vnd.jupyter.widget-view+json": {
       "model_id": "7cf3fa07fea14ec7b9c1cf7beeab1ab1",
       "version_major": 2,
       "version_minor": 0
      },
      "text/plain": [
       "Validation: |          | 0/? [00:00<?, ?it/s]"
      ]
     },
     "metadata": {},
     "output_type": "display_data"
    },
    {
     "data": {
      "application/vnd.jupyter.widget-view+json": {
       "model_id": "df4f5b59b2094700870665a4088f3b2e",
       "version_major": 2,
       "version_minor": 0
      },
      "text/plain": [
       "Validation: |          | 0/? [00:00<?, ?it/s]"
      ]
     },
     "metadata": {},
     "output_type": "display_data"
    },
    {
     "data": {
      "application/vnd.jupyter.widget-view+json": {
       "model_id": "d0718d0d16864c89ba628fcbbdbf07db",
       "version_major": 2,
       "version_minor": 0
      },
      "text/plain": [
       "Validation: |          | 0/? [00:00<?, ?it/s]"
      ]
     },
     "metadata": {},
     "output_type": "display_data"
    },
    {
     "data": {
      "application/vnd.jupyter.widget-view+json": {
       "model_id": "c58eafda5ffe4021a282d9774bec9660",
       "version_major": 2,
       "version_minor": 0
      },
      "text/plain": [
       "Validation: |          | 0/? [00:00<?, ?it/s]"
      ]
     },
     "metadata": {},
     "output_type": "display_data"
    },
    {
     "data": {
      "application/vnd.jupyter.widget-view+json": {
       "model_id": "1b136065d87d41a9bcbd44dbfb504837",
       "version_major": 2,
       "version_minor": 0
      },
      "text/plain": [
       "Validation: |          | 0/? [00:00<?, ?it/s]"
      ]
     },
     "metadata": {},
     "output_type": "display_data"
    },
    {
     "data": {
      "application/vnd.jupyter.widget-view+json": {
       "model_id": "e9f53685211f4c838f9feb2d4a857a3e",
       "version_major": 2,
       "version_minor": 0
      },
      "text/plain": [
       "Validation: |          | 0/? [00:00<?, ?it/s]"
      ]
     },
     "metadata": {},
     "output_type": "display_data"
    },
    {
     "data": {
      "application/vnd.jupyter.widget-view+json": {
       "model_id": "1549f83fd0d642fdbd1211544f5dcc4b",
       "version_major": 2,
       "version_minor": 0
      },
      "text/plain": [
       "Validation: |          | 0/? [00:00<?, ?it/s]"
      ]
     },
     "metadata": {},
     "output_type": "display_data"
    },
    {
     "data": {
      "application/vnd.jupyter.widget-view+json": {
       "model_id": "4867bb9883b54b9ea2ca30140545d503",
       "version_major": 2,
       "version_minor": 0
      },
      "text/plain": [
       "Validation: |          | 0/? [00:00<?, ?it/s]"
      ]
     },
     "metadata": {},
     "output_type": "display_data"
    },
    {
     "data": {
      "application/vnd.jupyter.widget-view+json": {
       "model_id": "26f435c865d745cc9490fb7daf02cfe3",
       "version_major": 2,
       "version_minor": 0
      },
      "text/plain": [
       "Validation: |          | 0/? [00:00<?, ?it/s]"
      ]
     },
     "metadata": {},
     "output_type": "display_data"
    },
    {
     "name": "stderr",
     "output_type": "stream",
     "text": [
      "`Trainer.fit` stopped: `max_epochs=50` reached.\n"
     ]
    }
   ],
   "source": [
    "from lightning.pytorch.loggers import CSVLogger\n",
    "from lightning.pytorch.callbacks import LearningRateMonitor\n",
    "\n",
    "# CSVLogger writes metrics.csv under logs/lr_run/\n",
    "csv_logger = CSVLogger(save_dir=\"logs/\", name=\"lr_run\")\n",
    "lr_monitor = LearningRateMonitor(logging_interval='epoch')\n",
    "\n",
    "trainer = pl.Trainer(\n",
    "    logger=csv_logger,            # <-- use CSVLogger\n",
    "    enable_checkpointing=True,\n",
    "    enable_progress_bar=True,\n",
    "    accelerator=\"auto\",\n",
    "    devices=1,\n",
    "    max_epochs=50,\n",
    "    # profiler='simple',\n",
    "\n",
    "    callbacks=[loss_history, lr_monitor],\n",
    ")\n",
    "trainer.fit(mcmpnn, train_loader, val_loader)"
   ]
  },
  {
   "cell_type": "code",
   "execution_count": 46,
   "id": "270c6d9a",
   "metadata": {},
   "outputs": [
    {
     "name": "stderr",
     "output_type": "stream",
     "text": [
      "/home/calvin/miniforge3/envs/habnet_env/lib/python3.12/site-packages/lightning/pytorch/core/saving.py:363: Skipping 'metrics' parameter because it is not possible to safely dump to YAML.\n",
      "/home/calvin/miniforge3/envs/habnet_env/lib/python3.12/site-packages/lightning/pytorch/trainer/connectors/data_connector.py:425: The 'test_dataloader' does not have many workers which may be a bottleneck. Consider increasing the value of the `num_workers` argument` to `num_workers=19` in the `DataLoader` to improve performance.\n"
     ]
    },
    {
     "data": {
      "application/vnd.jupyter.widget-view+json": {
       "model_id": "dd5e502817724c2f9f63f95940f6ac58",
       "version_major": 2,
       "version_minor": 0
      },
      "text/plain": [
       "Testing: |          | 0/? [00:00<?, ?it/s]"
      ]
     },
     "metadata": {},
     "output_type": "display_data"
    },
    {
     "data": {
      "text/html": [
       "<pre style=\"white-space:pre;overflow-x:auto;line-height:normal;font-family:Menlo,'DejaVu Sans Mono',consolas,'Courier New',monospace\">┏━━━━━━━━━━━━━━━━━━━━━━━━━━━┳━━━━━━━━━━━━━━━━━━━━━━━━━━━┓\n",
       "┃<span style=\"font-weight: bold\">        Test metric        </span>┃<span style=\"font-weight: bold\">       DataLoader 0        </span>┃\n",
       "┡━━━━━━━━━━━━━━━━━━━━━━━━━━━╇━━━━━━━━━━━━━━━━━━━━━━━━━━━┩\n",
       "│<span style=\"color: #008080; text-decoration-color: #008080\">   test/mean_cosine_loss   </span>│<span style=\"color: #800080; text-decoration-color: #800080\">    0.5540871620178223     </span>│\n",
       "│<span style=\"color: #008080; text-decoration-color: #008080\">          test/r2          </span>│<span style=\"color: #800080; text-decoration-color: #800080\">    -0.1568828821182251    </span>│\n",
       "└───────────────────────────┴───────────────────────────┘\n",
       "</pre>\n"
      ],
      "text/plain": [
       "┏━━━━━━━━━━━━━━━━━━━━━━━━━━━┳━━━━━━━━━━━━━━━━━━━━━━━━━━━┓\n",
       "┃\u001b[1m \u001b[0m\u001b[1m       Test metric       \u001b[0m\u001b[1m \u001b[0m┃\u001b[1m \u001b[0m\u001b[1m      DataLoader 0       \u001b[0m\u001b[1m \u001b[0m┃\n",
       "┡━━━━━━━━━━━━━━━━━━━━━━━━━━━╇━━━━━━━━━━━━━━━━━━━━━━━━━━━┩\n",
       "│\u001b[36m \u001b[0m\u001b[36m  test/mean_cosine_loss  \u001b[0m\u001b[36m \u001b[0m│\u001b[35m \u001b[0m\u001b[35m   0.5540871620178223    \u001b[0m\u001b[35m \u001b[0m│\n",
       "│\u001b[36m \u001b[0m\u001b[36m         test/r2         \u001b[0m\u001b[36m \u001b[0m│\u001b[35m \u001b[0m\u001b[35m   -0.1568828821182251   \u001b[0m\u001b[35m \u001b[0m│\n",
       "└───────────────────────────┴───────────────────────────┘\n"
      ]
     },
     "metadata": {},
     "output_type": "display_data"
    },
    {
     "data": {
      "text/plain": [
       "[{'test/mean_cosine_loss': 0.5540871620178223, 'test/r2': -0.1568828821182251}]"
      ]
     },
     "execution_count": 46,
     "metadata": {},
     "output_type": "execute_result"
    }
   ],
   "source": [
    "trainer.test(mcmpnn, test_loader)"
   ]
  },
  {
   "cell_type": "code",
   "execution_count": null,
   "id": "6602523b",
   "metadata": {},
   "outputs": [
    {
     "data": {
      "image/png": "[encoded data removed]",
      "text/plain": [
       "<Figure size 1200x500 with 1 Axes>"
      ]
     },
     "metadata": {},
     "output_type": "display_data"
    }
   ],
   "source": [
    "import matplotlib.pyplot as plt\n",
    "\n",
    "train_losses = loss_history.train_losses\n",
    "# Need to drop the first value as it a sanity check\n",
    "val_losses = loss_history.val_losses[1:]\n",
    "\n",
    "assert len(train_losses) == len(val_losses), (\n",
    "    f\"Lengths now match: train={len(train_losses)}, val={len(val_losses)}\"\n",
    ")\n",
    "\n",
    "epochs = range(1, len(train_losses) + 1)\n",
    "\n",
    "plt.figure(figsize=(12,5))\n",
    "plt.plot(epochs, train_losses, label='Train Loss', marker='o')\n",
    "plt.plot(epochs, val_losses,   label='Validation Loss', marker='s')\n",
    "plt.xlabel('Epoch')\n",
    "plt.ylabel('Loss')\n",
    "plt.title('Loss vs. Epoch')\n",
    "plt.xticks(epochs)\n",
    "# Rotate x-ticks for better visibility\n",
    "plt.xticks(rotation=45)\n",
    "plt.legend()\n",
    "plt.grid(True)\n",
    "plt.tight_layout()\n",
    "plt.show()\n"
   ]
  }
 ],
 "metadata": {
  "kernelspec": {
   "display_name": "habnet_env",
   "language": "python",
   "name": "python3"
  },
  "language_info": {
   "codemirror_mode": {
    "name": "ipython",
    "version": 3
   },
   "file_extension": ".py",
   "mimetype": "text/x-python",
   "name": "python",
   "nbconvert_exporter": "python",
   "pygments_lexer": "ipython3",
   "version": "3.12.8"
  }
 },
 "nbformat": 4,
 "nbformat_minor": 5
}
