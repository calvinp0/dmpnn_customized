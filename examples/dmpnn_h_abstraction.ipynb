{
 "cells": [
  {
   "cell_type": "code",
   "execution_count": 1,
   "id": "43799a35",
   "metadata": {},
   "outputs": [],
   "source": [
    "%load_ext autoreload\n",
    "%autoreload 2"
   ]
  },
  {
   "cell_type": "code",
   "execution_count": 2,
   "id": "09b9ee52",
   "metadata": {},
   "outputs": [],
   "source": [
    "import os\n",
    "from chemprop.CUSTOM.featuriser.featurise import Featuriser, MOL_TYPES\n",
    "from chemprop import data, featurizers, nn\n",
    "from chemprop.nn import metrics\n",
    "from chemprop.models import multi\n",
    "from chemprop.nn.metrics import MSE\n",
    "from lightning import pytorch as pl\n",
    "import pprint\n",
    "\n"
   ]
  },
  {
   "cell_type": "markdown",
   "id": "4a6bc602",
   "metadata": {},
   "source": [
    "# Set up custom featuriser\n",
    "1. Parses through SDF files and searches for specific types of mols (R1H and R2H). SDF files will usually contain R1H, R2H and TS - But for this we only need the first two. R1H is the molecule that has the hydrogen that is being `donated`. R2H is the the other molecule that has already `abstracted`.\n",
    "\n",
    "    So think of the Reaction Equation:\n",
    "\n",
    "    `R1H + R2 <-> R1 + R2H`\n",
    "\n",
    "    So we are taking R1H and R2H forms.\n",
    "\n",
    "2. Also, during this parsing it the SDF's, it will grab the reaction name and check for the relevant targets in the target.csv file `(Although for this purpose we will use target_sin_cos.csv - this focusses on one dihedral target and !!I have filtered out the missing dihedral moleces (marked -10) just for ease!!)`\n",
    "\n",
    "3. Additionally, there is a function in the featurise.py that gets extra features (features that are not created by DMPNN). These features are our own.\n",
    "\n",
    "slot 0: d_hydrogen, slot 1: a_hydrogen, slot 2: donator, slot 3: acceptor.\n",
    "\n",
    "It is one hot encoding, where an atom is marked d_hydrogen == 1 if its the atom that is the donating hydrogen. a_hydrogen is for the abstracted hydrogen. donator is to mark which heavy atom (so not a Hydrogen) that gave away the hydrogen. and acceptor is for the heavy atom that accepted the hydrogen. So `donator` and `d_hydrogen` will have `1` in `R1H` in one of the nodes. And `acceptor` and `a_hydrogen` will have `1`in `R2H` in one of the nodes."
   ]
  },
  {
   "cell_type": "code",
   "execution_count": 3,
   "id": "1b43e3d1",
   "metadata": {},
   "outputs": [
    {
     "name": "stdout",
     "output_type": "stream",
     "text": [
      "Reaction ID rxn_191 not found in target data. Skipping this SDF file.\n",
      "Reaction ID rmg_rxn_16785 not found in target data. Skipping this SDF file.\n",
      "Reaction ID rxn_1169 not found in target data. Skipping this SDF file.\n",
      "Reaction ID rxn_144 not found in target data. Skipping this SDF file.\n",
      "Reaction ID rxn_1257 not found in target data. Skipping this SDF file.\n",
      "Reaction ID rmg_rxn_1155 not found in target data. Skipping this SDF file.\n",
      "Reaction ID rmg_rxn_1160 not found in target data. Skipping this SDF file.\n",
      "Reaction ID rxn_798 not found in target data. Skipping this SDF file.\n",
      "Reaction ID rxn_682 not found in target data. Skipping this SDF file.\n",
      "Reaction ID rxn_30 not found in target data. Skipping this SDF file.\n",
      "Reaction ID rxn_795 not found in target data. Skipping this SDF file.\n",
      "Reaction ID rxn_111 not found in target data. Skipping this SDF file.\n",
      "Reaction ID rxn_635 not found in target data. Skipping this SDF file.\n",
      "Reaction ID rxn_824 not found in target data. Skipping this SDF file.\n"
     ]
    },
    {
     "name": "stderr",
     "output_type": "stream",
     "text": [
      "[12:16:37] Warning: molecule is tagged as 3D, but all Z coords are zero and 2D stereo markers have been found, marking the mol as 2D.\n",
      "[12:16:37] Warning: molecule is tagged as 3D, but all Z coords are zero and 2D stereo markers have been found, marking the mol as 2D.\n",
      "[12:16:37] Warning: molecule is tagged as 3D, but all Z coords are zero and 2D stereo markers have been found, marking the mol as 2D.\n",
      "[12:16:37] Warning: molecule is tagged as 3D, but all Z coords are zero and 2D stereo markers have been found, marking the mol as 2D.\n",
      "[12:16:37] Warning: molecule is tagged as 3D, but all Z coords are zero and 2D stereo markers have been found, marking the mol as 2D.\n",
      "[12:16:37] Warning: molecule is tagged as 3D, but all Z coords are zero and 2D stereo markers have been found, marking the mol as 2D.\n",
      "[12:16:37] Warning: molecule is tagged as 3D, but all Z coords are zero and 2D stereo markers have been found, marking the mol as 2D.\n",
      "[12:16:37] Warning: molecule is tagged as 3D, but all Z coords are zero and 2D stereo markers have been found, marking the mol as 2D.\n"
     ]
    },
    {
     "name": "stdout",
     "output_type": "stream",
     "text": [
      "Reaction ID rxn_182 not found in target data. Skipping this SDF file.\n",
      "Reaction ID rxn_89 not found in target data. Skipping this SDF file.\n",
      "Reaction ID rxn_127 not found in target data. Skipping this SDF file.\n",
      "Reaction ID rxn_286 not found in target data. Skipping this SDF file.\n",
      "Reaction ID rxn_262 not found in target data. Skipping this SDF file.\n",
      "Reaction ID rxn_792 not found in target data. Skipping this SDF file.\n",
      "Reaction ID rxn_909 not found in target data. Skipping this SDF file.\n",
      "Reaction ID rxn_791 not found in target data. Skipping this SDF file.\n",
      "Reaction ID rxn_1433 not found in target data. Skipping this SDF file.\n",
      "Reaction ID rxn_697 not found in target data. Skipping this SDF file.\n",
      "Reaction ID rxn_342 not found in target data. Skipping this SDF file.\n",
      "Reaction ID rxn_113 not found in target data. Skipping this SDF file.\n",
      "Reaction ID rmg_rxn_1129 not found in target data. Skipping this SDF file.\n",
      "Reaction ID rxn_816 not found in target data. Skipping this SDF file.\n",
      "Reaction ID rxn_1950 not found in target data. Skipping this SDF file.\n"
     ]
    },
    {
     "name": "stderr",
     "output_type": "stream",
     "text": [
      "[12:16:37] Warning: molecule is tagged as 3D, but all Z coords are zero and 2D stereo markers have been found, marking the mol as 2D.\n",
      "[12:16:37] Warning: molecule is tagged as 3D, but all Z coords are zero and 2D stereo markers have been found, marking the mol as 2D.\n",
      "[12:16:37] Warning: molecule is tagged as 3D, but all Z coords are zero and 2D stereo markers have been found, marking the mol as 2D.\n",
      "[12:16:37] Warning: molecule is tagged as 3D, but all Z coords are zero and 2D stereo markers have been found, marking the mol as 2D.\n",
      "[12:16:37] Warning: molecule is tagged as 3D, but all Z coords are zero and 2D stereo markers have been found, marking the mol as 2D.\n",
      "[12:16:37] Warning: molecule is tagged as 3D, but all Z coords are zero and 2D stereo markers have been found, marking the mol as 2D.\n",
      "[12:16:37] Warning: molecule is tagged as 3D, but all Z coords are zero and 2D stereo markers have been found, marking the mol as 2D.\n",
      "[12:16:37] Warning: molecule is tagged as 3D, but all Z coords are zero and 2D stereo markers have been found, marking the mol as 2D.\n"
     ]
    },
    {
     "name": "stdout",
     "output_type": "stream",
     "text": [
      "Reaction ID rmg_rxn_15440 not found in target data. Skipping this SDF file.\n",
      "Reaction ID rxn_210 not found in target data. Skipping this SDF file.\n",
      "Reaction ID rxn_733 not found in target data. Skipping this SDF file.\n",
      "Reaction ID rxn_275 not found in target data. Skipping this SDF file.\n",
      "Reaction ID rxn_131 not found in target data. Skipping this SDF file.\n",
      "Reaction ID rxn_223 not found in target data. Skipping this SDF file.\n",
      "Reaction ID rxn_656 not found in target data. Skipping this SDF file.\n",
      "Reaction ID rmg_rxn_1147 not found in target data. Skipping this SDF file.\n",
      "Reaction ID rmg_rxn_1154 not found in target data. Skipping this SDF file.\n",
      "Reaction ID rxn_818 not found in target data. Skipping this SDF file.\n",
      "Reaction ID rxn_807 not found in target data. Skipping this SDF file.\n",
      "Reaction ID rxn_797 not found in target data. Skipping this SDF file.\n",
      "Reaction ID rxn_345 not found in target data. Skipping this SDF file.\n",
      "Reaction ID rxn_90 not found in target data. Skipping this SDF file.\n",
      "Reaction ID rxn_80 not found in target data. Skipping this SDF file.\n",
      "Reaction ID rxn_72 not found in target data. Skipping this SDF file.\n",
      "Reaction ID rxn_285 not found in target data. Skipping this SDF file.\n",
      "Reaction ID rxn_1842 not found in target data. Skipping this SDF file.\n",
      "Reaction ID rxn_112 not found in target data. Skipping this SDF file.\n"
     ]
    },
    {
     "name": "stderr",
     "output_type": "stream",
     "text": [
      "[12:16:38] Warning: molecule is tagged as 3D, but all Z coords are zero and 2D stereo markers have been found, marking the mol as 2D.\n",
      "[12:16:38] Warning: molecule is tagged as 3D, but all Z coords are zero and 2D stereo markers have been found, marking the mol as 2D.\n",
      "[12:16:38] Warning: molecule is tagged as 3D, but all Z coords are zero and 2D stereo markers have been found, marking the mol as 2D.\n",
      "[12:16:38] Warning: molecule is tagged as 3D, but all Z coords are zero and 2D stereo markers have been found, marking the mol as 2D.\n",
      "[12:16:38] Warning: molecule is tagged as 3D, but all Z coords are zero and 2D stereo markers have been found, marking the mol as 2D.\n",
      "[12:16:38] Warning: molecule is tagged as 3D, but all Z coords are zero and 2D stereo markers have been found, marking the mol as 2D.\n",
      "[12:16:38] Warning: molecule is tagged as 3D, but all Z coords are zero and 2D stereo markers have been found, marking the mol as 2D.\n",
      "[12:16:38] Warning: molecule is tagged as 3D, but all Z coords are zero and 2D stereo markers have been found, marking the mol as 2D.\n",
      "[12:16:38] Warning: molecule is tagged as 3D, but all Z coords are zero and 2D stereo markers have been found, marking the mol as 2D.\n",
      "[12:16:38] Warning: molecule is tagged as 3D, but all Z coords are zero and 2D stereo markers have been found, marking the mol as 2D.\n",
      "[12:16:38] Warning: molecule is tagged as 3D, but all Z coords are zero and 2D stereo markers have been found, marking the mol as 2D.\n",
      "[12:16:38] Warning: molecule is tagged as 3D, but all Z coords are zero and 2D stereo markers have been found, marking the mol as 2D.\n"
     ]
    },
    {
     "name": "stdout",
     "output_type": "stream",
     "text": [
      "Reaction ID rxn_1797 not found in target data. Skipping this SDF file.\n",
      "Reaction ID rmg_rxn_1161 not found in target data. Skipping this SDF file.\n",
      "Reaction ID rxn_288 not found in target data. Skipping this SDF file.\n",
      "Reaction ID rxn_753 not found in target data. Skipping this SDF file.\n",
      "Reaction ID rxn_790 not found in target data. Skipping this SDF file.\n",
      "Reaction ID rmg_rxn_1157 not found in target data. Skipping this SDF file.\n",
      "Reaction ID rxn_672 not found in target data. Skipping this SDF file.\n",
      "Reaction ID rxn_1301 not found in target data. Skipping this SDF file.\n",
      "Reaction ID rxn_787 not found in target data. Skipping this SDF file.\n",
      "Reaction ID rxn_426 not found in target data. Skipping this SDF file.\n",
      "Reaction ID rxn_185 not found in target data. Skipping this SDF file.\n",
      "Reaction ID rxn_690 not found in target data. Skipping this SDF file.\n",
      "Reaction ID rxn_252 not found in target data. Skipping this SDF file.\n",
      "Reaction ID rmg_rxn_1137 not found in target data. Skipping this SDF file.\n",
      "Reaction ID rmg_rxn_15595 not found in target data. Skipping this SDF file.\n",
      "Reaction ID rxn_1994 not found in target data. Skipping this SDF file.\n"
     ]
    },
    {
     "name": "stderr",
     "output_type": "stream",
     "text": [
      "[12:16:38] Warning: molecule is tagged as 3D, but all Z coords are zero and 2D stereo markers have been found, marking the mol as 2D.\n",
      "[12:16:38] Warning: molecule is tagged as 3D, but all Z coords are zero and 2D stereo markers have been found, marking the mol as 2D.\n",
      "[12:16:38] Warning: molecule is tagged as 3D, but all Z coords are zero and 2D stereo markers have been found, marking the mol as 2D.\n",
      "[12:16:38] Warning: molecule is tagged as 3D, but all Z coords are zero and 2D stereo markers have been found, marking the mol as 2D.\n",
      "[12:16:38] Warning: molecule is tagged as 3D, but all Z coords are zero and 2D stereo markers have been found, marking the mol as 2D.\n",
      "[12:16:38] Warning: molecule is tagged as 3D, but all Z coords are zero and 2D stereo markers have been found, marking the mol as 2D.\n",
      "[12:16:38] Warning: molecule is tagged as 3D, but all Z coords are zero and 2D stereo markers have been found, marking the mol as 2D.\n",
      "[12:16:38] Warning: molecule is tagged as 3D, but all Z coords are zero and 2D stereo markers have been found, marking the mol as 2D.\n",
      "[12:16:38] Warning: molecule is tagged as 3D, but all Z coords are zero and 2D stereo markers have been found, marking the mol as 2D.\n",
      "[12:16:38] Warning: molecule is tagged as 3D, but all Z coords are zero and 2D stereo markers have been found, marking the mol as 2D.\n"
     ]
    },
    {
     "name": "stdout",
     "output_type": "stream",
     "text": [
      "Reaction ID rxn_70 not found in target data. Skipping this SDF file.\n",
      "Reaction ID rmg_rxn_1142 not found in target data. Skipping this SDF file.\n",
      "Reaction ID rmg_rxn_1152 not found in target data. Skipping this SDF file.\n",
      "Reaction ID rmg_rxn_1163 not found in target data. Skipping this SDF file.\n",
      "Reaction ID rxn_735 not found in target data. Skipping this SDF file.\n",
      "Reaction ID rmg_rxn_15401 not found in target data. Skipping this SDF file.\n",
      "Reaction ID rxn_623 not found in target data. Skipping this SDF file.\n",
      "Reaction ID rxn_380 not found in target data. Skipping this SDF file.\n",
      "Reaction ID rmg_rxn_1146 not found in target data. Skipping this SDF file.\n",
      "Reaction ID rxn_183 not found in target data. Skipping this SDF file.\n",
      "Reaction ID rxn_261 not found in target data. Skipping this SDF file.\n"
     ]
    },
    {
     "name": "stderr",
     "output_type": "stream",
     "text": [
      "[12:16:38] Warning: molecule is tagged as 3D, but all Z coords are zero and 2D stereo markers have been found, marking the mol as 2D.\n",
      "[12:16:38] Warning: molecule is tagged as 3D, but all Z coords are zero and 2D stereo markers have been found, marking the mol as 2D.\n",
      "[12:16:38] Warning: molecule is tagged as 3D, but all Z coords are zero and 2D stereo markers have been found, marking the mol as 2D.\n",
      "[12:16:38] Warning: molecule is tagged as 3D, but all Z coords are zero and 2D stereo markers have been found, marking the mol as 2D.\n",
      "[12:16:38] Warning: molecule is tagged as 3D, but all Z coords are zero and 2D stereo markers have been found, marking the mol as 2D.\n",
      "[12:16:38] Warning: molecule is tagged as 3D, but all Z coords are zero and 2D stereo markers have been found, marking the mol as 2D.\n"
     ]
    },
    {
     "name": "stdout",
     "output_type": "stream",
     "text": [
      "Reaction ID rxn_247 not found in target data. Skipping this SDF file.\n",
      "Reaction ID rxn_825 not found in target data. Skipping this SDF file.\n",
      "Reaction ID rxn_796 not found in target data. Skipping this SDF file.\n",
      "Reaction ID rxn_254 not found in target data. Skipping this SDF file.\n",
      "Reaction ID rxn_801 not found in target data. Skipping this SDF file.\n",
      "Reaction ID rxn_146 not found in target data. Skipping this SDF file.\n",
      "Reaction ID rxn_310 not found in target data. Skipping this SDF file.\n",
      "Reaction ID rxn_264 not found in target data. Skipping this SDF file.\n",
      "Reaction ID rxn_235 not found in target data. Skipping this SDF file.\n",
      "Reaction ID rxn_248 not found in target data. Skipping this SDF file.\n",
      "Reaction ID rxn_1213 not found in target data. Skipping this SDF file.\n"
     ]
    },
    {
     "name": "stderr",
     "output_type": "stream",
     "text": [
      "[12:16:38] Warning: molecule is tagged as 3D, but all Z coords are zero and 2D stereo markers have been found, marking the mol as 2D.\n",
      "[12:16:38] Warning: molecule is tagged as 3D, but all Z coords are zero and 2D stereo markers have been found, marking the mol as 2D.\n",
      "[12:16:38] Warning: molecule is tagged as 3D, but all Z coords are zero and 2D stereo markers have been found, marking the mol as 2D.\n",
      "[12:16:38] Warning: molecule is tagged as 3D, but all Z coords are zero and 2D stereo markers have been found, marking the mol as 2D.\n",
      "[12:16:38] Warning: molecule is tagged as 3D, but all Z coords are zero and 2D stereo markers have been found, marking the mol as 2D.\n",
      "[12:16:38] Warning: molecule is tagged as 3D, but all Z coords are zero and 2D stereo markers have been found, marking the mol as 2D.\n",
      "[12:16:38] Warning: molecule is tagged as 3D, but all Z coords are zero and 2D stereo markers have been found, marking the mol as 2D.\n",
      "[12:16:38] Warning: molecule is tagged as 3D, but all Z coords are zero and 2D stereo markers have been found, marking the mol as 2D.\n"
     ]
    },
    {
     "name": "stdout",
     "output_type": "stream",
     "text": [
      "Reaction ID rmg_rxn_1153 not found in target data. Skipping this SDF file.\n",
      "Reaction ID rxn_1477 not found in target data. Skipping this SDF file.\n",
      "Reaction ID rxn_624 not found in target data. Skipping this SDF file.\n",
      "Reaction ID rxn_168 not found in target data. Skipping this SDF file.\n",
      "Reaction ID rxn_126 not found in target data. Skipping this SDF file.\n",
      "Reaction ID rxn_170 not found in target data. Skipping this SDF file.\n",
      "Reaction ID rxn_184 not found in target data. Skipping this SDF file.\n",
      "Reaction ID rxn_806 not found in target data. Skipping this SDF file.\n",
      "Reaction ID rxn_1125 not found in target data. Skipping this SDF file.\n",
      "Reaction ID rxn_766 not found in target data. Skipping this SDF file.\n",
      "Reaction ID rxn_625 not found in target data. Skipping this SDF file.\n",
      "Reaction ID rxn_1389 not found in target data. Skipping this SDF file.\n",
      "Reaction ID rxn_192 not found in target data. Skipping this SDF file.\n",
      "Reaction ID rxn_731 not found in target data. Skipping this SDF file.\n",
      "Reaction ID rxn_732 not found in target data. Skipping this SDF file.\n",
      "Reaction ID rxn_793 not found in target data. Skipping this SDF file.\n",
      "Reaction ID rxn_372 not found in target data. Skipping this SDF file.\n",
      "Reaction ID rxn_785 not found in target data. Skipping this SDF file.\n",
      "Reaction ID rxn_250 not found in target data. Skipping this SDF file.\n",
      "Reaction ID rxn_799 not found in target data. Skipping this SDF file.\n",
      "Reaction ID rxn_667 not found in target data. Skipping this SDF file.\n",
      "Reaction ID rxn_701 not found in target data. Skipping this SDF file.\n",
      "Reaction ID rxn_266 not found in target data. Skipping this SDF file.\n",
      "Reaction ID rxn_265 not found in target data. Skipping this SDF file.\n",
      "Reaction ID rxn_467 not found in target data. Skipping this SDF file.\n",
      "Reaction ID rxn_490 not found in target data. Skipping this SDF file.\n"
     ]
    },
    {
     "name": "stderr",
     "output_type": "stream",
     "text": [
      "[12:16:39] Warning: molecule is tagged as 3D, but all Z coords are zero and 2D stereo markers have been found, marking the mol as 2D.\n",
      "[12:16:39] Warning: molecule is tagged as 3D, but all Z coords are zero and 2D stereo markers have been found, marking the mol as 2D.\n",
      "[12:16:39] Warning: molecule is tagged as 3D, but all Z coords are zero and 2D stereo markers have been found, marking the mol as 2D.\n",
      "[12:16:39] Warning: molecule is tagged as 3D, but all Z coords are zero and 2D stereo markers have been found, marking the mol as 2D.\n",
      "[12:16:39] Warning: molecule is tagged as 3D, but all Z coords are zero and 2D stereo markers have been found, marking the mol as 2D.\n",
      "[12:16:39] Warning: molecule is tagged as 3D, but all Z coords are zero and 2D stereo markers have been found, marking the mol as 2D.\n"
     ]
    }
   ],
   "source": [
    "feat_data = Featuriser(\n",
    "    sdf_path=\"/home/calvin/code/chemprop_phd_customised/habnet/data/processed/sdf_r2\", \n",
    "    path = \"../DATA/target_data/target_data_sin_cos.csv\", # If you want to use full dataset, use target_data.csv, however\n",
    "    #  you will need to convert the angles for psi1 and psi2 to sin and cos\n",
    "    #sanitize=True,\n",
    "    set_col_index=False, target_col=['psi_1_dihedral_sin','psi_1_dihedral_cos'],\n",
    "    include_extra_features = False,) # <-- We will turn these off for now"
   ]
  },
  {
   "cell_type": "code",
   "execution_count": 4,
   "id": "4e56a49b",
   "metadata": {},
   "outputs": [
    {
     "name": "stdout",
     "output_type": "stream",
     "text": [
      "5\n"
     ]
    }
   ],
   "source": [
    "from rdkit import Chem\n",
    "for i in range(len(feat_data[0])):\n",
    "    if feat_data[0][i].name == 'rmg_rxn_1563_r1h':\n",
    "        print(feat_data[0][i].mol.GetNumAtoms())"
   ]
  },
  {
   "cell_type": "code",
   "execution_count": 5,
   "id": "9b65b519",
   "metadata": {},
   "outputs": [
    {
     "name": "stdout",
     "output_type": "stream",
     "text": [
      "2\n",
      "Total number of pair molecules:  1691\n"
     ]
    }
   ],
   "source": [
    "print(len(feat_data))\n",
    "# Reason for 2 is that it is a list in lists - list[0] is the first molecule, list[1] is the second molecule\n",
    "print(\"Total number of pair molecules: \", len(feat_data[0]))"
   ]
  },
  {
   "cell_type": "code",
   "execution_count": 6,
   "id": "30a77a51",
   "metadata": {},
   "outputs": [
    {
     "name": "stdout",
     "output_type": "stream",
     "text": [
      "Molecule R1H:  rmg_rxn_86_r1h\n",
      "Molecule R2H:  rmg_rxn_86_r2\n"
     ]
    }
   ],
   "source": [
    "print(\"Molecule R1H: \", feat_data[0][0].name)\n",
    "print(\"Molecule R2H: \", feat_data[1][0].name)\n"
   ]
  },
  {
   "cell_type": "code",
   "execution_count": 7,
   "id": "b85bba95",
   "metadata": {},
   "outputs": [],
   "source": [
    "from rdkit.Chem.rdchem import HybridizationType\n",
    "from rdkit.Chem import SanitizeMol\n",
    "# for j in range(len(feat_data[0])):\n",
    "#     mol = feat_data[0][j].mol\n",
    "#     for i in range(mol.GetNumAtoms()):\n",
    "#         atom = mol.GetAtomWithIdx(i)\n",
    "#         hyb = atom.GetHybridization()\n",
    "#         if hyb == HybridizationType.UNSPECIFIED:\n",
    "#             print(f\"Atom {i} has unspecified hybridization.\")\n",
    "\n",
    "for j in range(len(feat_data[1])):\n",
    "    mol = feat_data[1][j].mol\n",
    "\n",
    "    for i in range(mol.GetNumAtoms()):\n",
    "        atom = mol.GetAtomWithIdx(i)\n",
    "        hyb = atom.GetHybridization()\n",
    "        if hyb == HybridizationType.UNSPECIFIED:\n",
    "            print(f\"Atom {i} has unspecified hybridization.\")\n",
    "            print(feat_data[1][j].name)\n",
    "\n",
    "\n"
   ]
  },
  {
   "cell_type": "code",
   "execution_count": 8,
   "id": "89489aa8",
   "metadata": {},
   "outputs": [
    {
     "name": "stdout",
     "output_type": "stream",
     "text": [
      "Bond between S and H: Type=1.0\n",
      "Bond between S and H: Type=1.0\n"
     ]
    }
   ],
   "source": [
    "# Check bond types\n",
    "for bond in feat_data[0][0].mol.GetBonds():\n",
    "    atom1 = bond.GetBeginAtom()\n",
    "    atom2 = bond.GetEndAtom()\n",
    "    print(f\"Bond between {atom1.GetSymbol()} and {atom2.GetSymbol()}: Type={bond.GetBondTypeAsDouble()}\")"
   ]
  },
  {
   "cell_type": "code",
   "execution_count": 9,
   "id": "0f80548e",
   "metadata": {},
   "outputs": [
    {
     "name": "stdout",
     "output_type": "stream",
     "text": [
      "[-0.7247697797808156, 0.6889911220882807]\n"
     ]
    }
   ],
   "source": [
    "pprint.pprint(feat_data[0][0].y)\n",
    "# We see that y is kept in the first molecule - not the second -> this is Chemprop's way of doing things"
   ]
  },
  {
   "cell_type": "markdown",
   "id": "70d0bf7f",
   "metadata": {},
   "source": [
    "# Split the components\n",
    "\n",
    "Their splitter only splits by one molecule rather than taking the two into consideration. That's fine if it's random but since my work is pair molecules, it is not ideal. So when I use their `kennard stone` it is only splitting by the first molecules - the R1H's. I have a code that takes into account both molecule but did not bother to use it here"
   ]
  },
  {
   "cell_type": "code",
   "execution_count": 10,
   "id": "4daa9e21",
   "metadata": {},
   "outputs": [
    {
     "name": "stderr",
     "output_type": "stream",
     "text": [
      "The return type of make_split_indices has changed in v2.1 - see help(make_split_indices)\n"
     ]
    }
   ],
   "source": [
    "component_to_split_by = 0\n",
    "mols = [d.mol for d in feat_data[component_to_split_by]]\n",
    "\n",
    "train_idx, val_idx, test_idx = data.make_split_indices(\n",
    "    mols,\n",
    "    \"kennard_stone\",\n",
    "    (0.8, 0.1, 0.1),\n",
    "    seed=42,\n",
    "    num_replicates=1\n",
    "    )"
   ]
  },
  {
   "cell_type": "code",
   "execution_count": 11,
   "id": "074b6a51",
   "metadata": {},
   "outputs": [
    {
     "data": {
      "text/plain": [
       "(1, 1, 1)"
      ]
     },
     "execution_count": 11,
     "metadata": {},
     "output_type": "execute_result"
    }
   ],
   "source": [
    "len(train_idx), len(val_idx), len(test_idx)\n",
    "\n",
    "# We will see that the len is 1 for each as they use `replicates` - so rather the variabls are tuples that hold different indices\n",
    "# Since we set as num_replicates = 1, we will only have one set of indices in each of the tuples"
   ]
  },
  {
   "cell_type": "code",
   "execution_count": 12,
   "id": "cbe5ade8",
   "metadata": {},
   "outputs": [
    {
     "data": {
      "text/plain": [
       "1352"
      ]
     },
     "execution_count": 12,
     "metadata": {},
     "output_type": "execute_result"
    }
   ],
   "source": [
    "len(train_idx[0])"
   ]
  },
  {
   "cell_type": "code",
   "execution_count": 13,
   "id": "3c95662e",
   "metadata": {},
   "outputs": [],
   "source": [
    "train_data, val_data, test_data = data.split_data_by_indices(\n",
    "    feat_data, train_idx, val_idx, test_idx\n",
    ")"
   ]
  },
  {
   "cell_type": "markdown",
   "id": "a53e2061",
   "metadata": {},
   "source": [
    "# NEW"
   ]
  },
  {
   "cell_type": "code",
   "execution_count": 14,
   "id": "f4582659",
   "metadata": {},
   "outputs": [],
   "source": [
    "rxn_ids = []\n",
    "for i in range(len(train_data[0][0])):\n",
    "    rxn_name = train_data[0][0][i].name\n",
    "    # Need to remove _r1h or _r2h from the reaction name\n",
    "    rxn_name = rxn_name.replace('_r1h', '').replace('_r2', '')\n",
    "    rxn_ids.append(rxn_name)"
   ]
  },
  {
   "cell_type": "code",
   "execution_count": 15,
   "id": "f3036d2a",
   "metadata": {},
   "outputs": [
    {
     "data": {
      "text/plain": [
       "Index(['rxn_id', 'mol_type', 'focus_atom_idx', 'path', 'radius', 'angle',\n",
       "       'dihedral', 'r_exist', 'a_exist', 'd_exist', 'focus_atom_symbol',\n",
       "       'is_donor', 'is_acceptor', 'is_donor_H', 'is_acceptor_neighbor'],\n",
       "      dtype='object')"
      ]
     },
     "execution_count": 15,
     "metadata": {},
     "output_type": "execute_result"
    }
   ],
   "source": [
    "# Read extra info\n",
    "import pandas as pd\n",
    "atom_extra_feats = pd.read_csv(\"/home/calvin/code/chemprop_phd_customised/habnet/data/preprocessing/all_sdf_features.csv\")\n",
    "atom_extra_feats.columns"
   ]
  },
  {
   "cell_type": "code",
   "execution_count": 16,
   "id": "2ee19983",
   "metadata": {},
   "outputs": [],
   "source": [
    "import numpy as np\n",
    "\n",
    "def rbf_expand(values, num_centers=20, r_min=None, r_max=None, gamma=None):\n",
    "    values = np.asarray(values)\n",
    "    if r_min is None:\n",
    "        r_min = float(np.min(values))\n",
    "    if r_max is None:\n",
    "        r_max = float(np.max(values))\n",
    "    # Generate evenly spaced centers\n",
    "    centers = np.linspace(r_min, r_max, num_centers)\n",
    "    if gamma is None:\n",
    "        # Set gamma so adjacent bases overlap well\n",
    "        gamma = 1.0 / (centers[1] - centers[0])**2\n",
    "    # Compute RBF\n",
    "    expanded = np.exp(-gamma * (values[..., None] - centers)**2)\n",
    "    return expanded  # shape: (len(values), num_centers)\n",
    "\n",
    "def dihedral_to_sin_cos(dihedrals_deg):\n",
    "    dihedrals_rad = np.deg2rad(dihedrals_deg)\n",
    "    sin_vals = np.sin(dihedrals_rad)\n",
    "    cos_vals = np.cos(dihedrals_rad)\n",
    "    return np.stack([sin_vals, cos_vals], axis=-1)\n",
    "\n",
    "def normalize_angle(angle_deg, a_min=0.0, a_max=180.0):\n",
    "    # If your angles can go up to 180, otherwise adjust a_max as needed\n",
    "    angle_deg = np.asarray(angle_deg)\n",
    "    return (angle_deg - a_min) / (a_max - a_min)\n",
    "\n"
   ]
  },
  {
   "cell_type": "code",
   "execution_count": 17,
   "id": "5ae407eb",
   "metadata": {},
   "outputs": [],
   "source": [
    "import numpy as np\n",
    "import pandas as pd\n",
    "\n",
    "# Your DataFrame and rxn_ids\n",
    "# atom_extra_feats: DataFrame with all data\n",
    "# rxn_ids: list of rxn_ids in the train set\n",
    "\n",
    "# 1. Subset for fitting\n",
    "train_mask = atom_extra_feats['rxn_id'].isin(rxn_ids)\n",
    "train_feats = atom_extra_feats[train_mask]\n",
    "\n",
    "# 2. Compute parameters from training data\n",
    "num_centers = 16\n",
    "r_min = train_feats['radius'].min()\n",
    "r_max = train_feats['radius'].max()\n",
    "a_min = train_feats['angle'].min()\n",
    "a_max = train_feats['angle'].max()\n",
    "\n",
    "# 3. Apply to all data using train params\n",
    "radius_rbf = rbf_expand(atom_extra_feats['radius'].values, num_centers=num_centers, r_min=r_min, r_max=r_max)\n",
    "dihedral_sc = dihedral_to_sin_cos(atom_extra_feats['dihedral'].values)\n",
    "angle_norm = normalize_angle(atom_extra_feats['angle'].values, a_min=a_min, a_max=a_max)\n",
    "\n",
    "# 4. Stack or add to DataFrame\n",
    "for i in range(num_centers):\n",
    "    atom_extra_feats[f'radius_rbf_{i}'] = radius_rbf[:, i]\n",
    "atom_extra_feats['dihedral_sin'] = dihedral_sc[:, 0]\n",
    "atom_extra_feats['dihedral_cos'] = dihedral_sc[:, 1]\n",
    "atom_extra_feats['angle_norm'] = angle_norm\n"
   ]
  },
  {
   "cell_type": "code",
   "execution_count": 18,
   "id": "1e40cfb7",
   "metadata": {},
   "outputs": [],
   "source": [
    "def get_atom_feats_for_dp(dp_name, atom_extra_feats):\n",
    "    rxn_id, mol_type = dp_name.rsplit('_', 1)\n",
    "    subset = atom_extra_feats[\n",
    "        (atom_extra_feats['rxn_id'] == rxn_id) &\n",
    "        (atom_extra_feats['mol_type'] == mol_type)\n",
    "    ]\n",
    "    # Sort by focus_atom_idx\n",
    "    subset = subset.sort_values(\"focus_atom_idx\")\n",
    "    return subset\n",
    "\n",
    "\n",
    "def attach_morgan_to_dps(dps):\n",
    "    new_dps = []\n",
    "    drop_cols = ['rxn_id', 'mol_type', 'focus_atom_idx', 'path', 'radius', 'angle', 'dihedral','focus_atom_symbol']\n",
    "    for dp in dps:\n",
    "        # pick the mol you actually want to fingerprint:\n",
    "        mol = dp.mol if not isinstance(dp.mol, tuple) else dp.mol[0]\n",
    "        extra_atom_feats = get_atom_feats_for_dp(dp.name, atom_extra_feats).drop(columns=drop_cols).values\n",
    "        new_dp = data.MoleculeDatapoint(\n",
    "            mol=dp.mol,\n",
    "            y=dp.y,\n",
    "            weight=dp.weight,\n",
    "            gt_mask=dp.gt_mask,\n",
    "            lt_mask=dp.lt_mask,\n",
    "            V_f=extra_atom_feats,\n",
    "            E_f=dp.E_f,\n",
    "            V_d=dp.V_d,\n",
    "            x_d=dp.x_d,      # <-- lowercase x_d\n",
    "            x_phase=dp.x_phase,\n",
    "            name=dp.name\n",
    "        )\n",
    "        new_dps.append(new_dp)\n",
    "    return new_dps\n",
    "\n",
    "\n",
    "featurizer = featurizers.SimpleMoleculeMolGraphFeaturizer(extra_atom_fdim=26)\n",
    "\n",
    "train_datasets = [\n",
    "    data.MoleculeDataset(\n",
    "        attach_morgan_to_dps(train_data[0][i]),\n",
    "        featurizer\n",
    "    )\n",
    "    for i in range(len(MOL_TYPES))\n",
    "]\n",
    "\n",
    "val_datasets = [\n",
    "    data.MoleculeDataset(\n",
    "        attach_morgan_to_dps(val_data[0][i]),\n",
    "        featurizer\n",
    "    )\n",
    "    for i in range(len(MOL_TYPES))\n",
    "]\n",
    "test_datasets = [\n",
    "    data.MoleculeDataset(\n",
    "        attach_morgan_to_dps(test_data[0][i]),\n",
    "        featurizer\n",
    "    )\n",
    "    for i in range(len(MOL_TYPES))\n",
    "]\n"
   ]
  },
  {
   "cell_type": "code",
   "execution_count": 19,
   "id": "4de2360c",
   "metadata": {},
   "outputs": [
    {
     "data": {
      "text/plain": [
       "(7, 26)"
      ]
     },
     "execution_count": 19,
     "metadata": {},
     "output_type": "execute_result"
    }
   ],
   "source": [
    "train_datasets[1].data[0].V_f.shape"
   ]
  },
  {
   "cell_type": "code",
   "execution_count": 20,
   "id": "d68e0bd3",
   "metadata": {},
   "outputs": [
    {
     "data": {
      "text/plain": [
       "'kfir_rxn_13897_r2'"
      ]
     },
     "execution_count": 20,
     "metadata": {},
     "output_type": "execute_result"
    }
   ],
   "source": [
    "train_datasets[1].data[0].name"
   ]
  },
  {
   "cell_type": "code",
   "execution_count": 21,
   "id": "ac57cffe",
   "metadata": {},
   "outputs": [],
   "source": [
    "train_mcdset = data.MulticomponentDataset(train_datasets)\n",
    "# scaler = train_mcdset.normalize_targets()\n",
    "\n",
    "val_mcdset = data.MulticomponentDataset(val_datasets)\n",
    "# val_mcdset.normalize_targets(scaler)\n",
    "test_mcdset = data.MulticomponentDataset(test_datasets)\n"
   ]
  },
  {
   "cell_type": "markdown",
   "id": "740979ce",
   "metadata": {},
   "source": [
    "# DMPNN Featurise & Datasets\n",
    "\n",
    "In the `featurizers.SimpleMoleculeMolGraphFeaturizer` we can change the `atom` and `bond` featurizers from the default but we will not. Additionally, if we added the extra features as mentioned before, we need to tell it that by adjusting `extra_atom_fdim` and or `extra_bond_fdim`\n",
    "\n",
    "Note! We will have 27 feats for Bonds even though Chemprop originally does 14. The reason for the extra 13 is that I added in the `SimpleMoleculeMolGraphFeaturizer` more information for the bonds - creating radial basis function of the bond lengths and also the angles of the bonds. However we do not need to place 13 in the `extra_bond_fdim` because I made it a core part of the featurizer."
   ]
  },
  {
   "cell_type": "code",
   "execution_count": 22,
   "id": "99caf63a",
   "metadata": {},
   "outputs": [],
   "source": [
    "# featurizer = featurizers.SimpleMoleculeMolGraphFeaturizer(\n",
    "#     extra_atom_fdim=0, extra_bond_fdim=0\n",
    "# )\n",
    "\n",
    "\n",
    "\n",
    "# train_datasets = [data.MoleculeDataset(train_data[0][i], featurizer) for i in range(len(MOL_TYPES))]\n",
    "# val_datasets = [data.MoleculeDataset(val_data[0][i], featurizer) for i in range(len(MOL_TYPES))]\n",
    "# test_datasets = [data.MoleculeDataset(test_data[0][i], featurizer) for i in range(len(MOL_TYPES))]"
   ]
  },
  {
   "cell_type": "code",
   "execution_count": 23,
   "id": "176a38dc",
   "metadata": {},
   "outputs": [],
   "source": [
    "# len(train_datasets[0]), len(val_datasets[0]), len(test_datasets[0])"
   ]
  },
  {
   "cell_type": "code",
   "execution_count": 24,
   "id": "8cf0bcf4",
   "metadata": {},
   "outputs": [
    {
     "name": "stdout",
     "output_type": "stream",
     "text": [
      "Number of node feats.:  98\n",
      "Number of edge feats.:  14\n"
     ]
    }
   ],
   "source": [
    "print(\"Number of node feats.: \", train_datasets[0][0].mg.V.shape[1])\n",
    "print(\"Number of edge feats.: \", train_datasets[0][0].mg.E.shape[1])"
   ]
  },
  {
   "cell_type": "code",
   "execution_count": 25,
   "id": "8313fc1e",
   "metadata": {},
   "outputs": [],
   "source": [
    "train_mcdset = data.MulticomponentDataset(train_datasets)\n",
    "val_mcdset = data.MulticomponentDataset(val_datasets)\n",
    "test_mcdset = data.MulticomponentDataset(test_datasets)"
   ]
  },
  {
   "cell_type": "code",
   "execution_count": 26,
   "id": "fa6111fa",
   "metadata": {},
   "outputs": [],
   "source": [
    "train_loader = data.build_dataloader(train_mcdset, batch_size=64, shuffle=True, num_workers=8, pin_memory=True)\n",
    "val_loader = data.build_dataloader(val_mcdset, shuffle=False, batch_size=64)\n",
    "test_loader = data.build_dataloader(test_mcdset, shuffle=False, batch_size=64)"
   ]
  },
  {
   "cell_type": "code",
   "execution_count": 27,
   "id": "eab8a4c3",
   "metadata": {},
   "outputs": [
    {
     "name": "stdout",
     "output_type": "stream",
     "text": [
      "tensor([[0., 1., 0.,  ..., 0., 0., 0.],\n",
      "        [0., 1., 0.,  ..., 0., 0., 0.],\n",
      "        [0., 1., 0.,  ..., 0., 0., 0.],\n",
      "        ...,\n",
      "        [0., 1., 0.,  ..., 0., 0., 0.],\n",
      "        [0., 1., 0.,  ..., 0., 0., 0.],\n",
      "        [0., 1., 0.,  ..., 0., 0., 0.]])\n",
      "tensor([[ 0.0000,  0.0000,  0.0000,  ..., -0.0174,  0.9998,  0.3432],\n",
      "        [ 0.0000,  0.0000,  0.0000,  ...,  0.0000,  0.0000,  0.4896],\n",
      "        [ 0.0000,  0.0000,  0.0000,  ...,  0.0000,  0.0000,  0.0000],\n",
      "        ...,\n",
      "        [ 1.0000,  0.0000,  0.0000,  ..., -0.0174,  0.9998,  0.3404],\n",
      "        [ 1.0000,  0.0000,  0.0000,  ...,  0.0174,  0.9998,  0.3404],\n",
      "        [ 1.0000,  0.0000,  0.0000,  ...,  0.0000,  0.0000,  0.0000]])\n"
     ]
    }
   ],
   "source": [
    "for batch in train_loader:\n",
    "    print(batch[0][0].E)\n",
    "    print(batch[0][0].V)\n",
    "    break"
   ]
  },
  {
   "cell_type": "markdown",
   "id": "f6cc1cd4",
   "metadata": {},
   "source": [
    "# Creating the Model in parts"
   ]
  },
  {
   "cell_type": "markdown",
   "id": "dd8a22ff",
   "metadata": {},
   "source": [
    "## MPNN\n",
    "\n",
    "First we have the Bond Message Passer we need to set up. Here we can tell it to either create a shared encoder or separate encoder - One for R1H molecules and One for R2H molecules. They then will be aggregated together. \n",
    "\n",
    "![img](multi_dmpnn.png)"
   ]
  },
  {
   "cell_type": "code",
   "execution_count": 28,
   "id": "000a74cb",
   "metadata": {},
   "outputs": [],
   "source": [
    "mcmp = nn.MulticomponentMessagePassing(\n",
    "    blocks=[nn.BondMessagePassing(depth=4, dropout=0.2, d_v=featurizer.atom_fdim, d_e=featurizer.bond_fdim, d_h=1024,\n",
    "                                  ) for _ in range(len(MOL_TYPES))],\n",
    "    n_components=len(MOL_TYPES), shared = False    \n",
    ")\n"
   ]
  },
  {
   "cell_type": "markdown",
   "id": "ae3de310",
   "metadata": {},
   "source": [
    "## Aggregation\n",
    "https://chemprop.readthedocs.io/en/latest/tutorial/python/models/aggregation.html"
   ]
  },
  {
   "cell_type": "code",
   "execution_count": 29,
   "id": "37cb3b70",
   "metadata": {},
   "outputs": [],
   "source": [
    "agg = nn.MeanAggregation()"
   ]
  },
  {
   "cell_type": "markdown",
   "id": "91707c41",
   "metadata": {},
   "source": [
    "## Optional - Loss Function\n",
    "Since Chemprop does not have a loss function that handles periodic, needed to implement myself. Creating custom one explained here:\n",
    "https://chemprop.readthedocs.io/en/latest/tutorial/python/loss_functions.html"
   ]
  },
  {
   "cell_type": "code",
   "execution_count": 30,
   "id": "892cc94a",
   "metadata": {},
   "outputs": [],
   "source": [
    "import torch\n",
    "import torch.nn.functional as F\n",
    "from chemprop.nn.metrics import ChempropMetric\n",
    "from torch import Tensor\n",
    "\n",
    "class CircVectorCosine(ChempropMetric):\n",
    "    r\"\"\"\n",
    "    Cosine‐based loss for 2-D circular vectors.\n",
    "    For each (sin,cos) pair it computes\n",
    "        loss = 1 - cosine_similarity(pred_vector, true_vector)\n",
    "    and then applies your usual masking & weighting.\n",
    "    \"\"\"\n",
    "    def __init__(self, task_weights=None):\n",
    "        super().__init__(task_weights=task_weights)\n",
    "\n",
    "    def _calc_unreduced_loss(self,\n",
    "                             preds: torch.Tensor,    # (B, out_dim)\n",
    "                             targets: torch.Tensor,  # (B, out_dim)\n",
    "                             mask: torch.Tensor,     # (B, out_dim)\n",
    "                             weights: torch.Tensor,  # (B,) or (B,2T) or (B,T)\n",
    "                             lt_mask: torch.Tensor,\n",
    "                             gt_mask: torch.Tensor\n",
    "                            ) -> torch.Tensor:\n",
    "        B, orig_dim = preds.shape\n",
    "\n",
    "        # how many full (sin,cos) pairs?\n",
    "        T = orig_dim // 2\n",
    "        slice_width = 2 * T\n",
    "\n",
    "        # slice everything down to exactly 2*T columns\n",
    "        preds   = preds[:,   :slice_width]\n",
    "        targets = targets[:, :slice_width]\n",
    "        mask    = mask[:,    :slice_width]\n",
    "\n",
    "        # now reshape safely (B, T, 2)\n",
    "        preds   = preds.view(B, T, 2)\n",
    "        targets = targets.view(B, T, 2)\n",
    "\n",
    "        # vector‐level mask: require both sin & cos valid\n",
    "        comp_mask = mask.view(B, T, 2).all(dim=-1)  # (B, T)\n",
    "\n",
    "        # ==== robust weight handling ====\n",
    "        w = weights\n",
    "        if w.ndim == 1 and w.numel() == B:\n",
    "            w = w.unsqueeze(1).expand(B, T)\n",
    "        elif w.ndim == 2 and w.numel() == B * T:\n",
    "            w = w.view(B, T)\n",
    "        elif w.ndim == 2 and w.numel() == B * slice_width:\n",
    "            w = w.view(B, T, 2).mean(dim=-1)\n",
    "        else:\n",
    "            w = torch.tensor(w.mean(), device=w.device).expand(B, T)\n",
    "        # =================================\n",
    "\n",
    "        # compute cosine similarity in [-1,1]\n",
    "        cos_sim = F.cosine_similarity(preds, targets, dim=-1)  # (B, T)\n",
    "\n",
    "        # loss = 1 - cosine_similarity\n",
    "        loss = (1.0 - cos_sim) * comp_mask * w  # (B, T)\n",
    "\n",
    "        return loss\n",
    "\n",
    "\n",
    "class CosineAngleMetric(ChempropMetric):\n",
    "    \"\"\"A metric reporting mean(1-cosine_similarity) across all (sample,task).\"\"\"\n",
    "    def __init__(self, task_weights=None):\n",
    "        super().__init__(task_weights=task_weights)\n",
    "\n",
    "    @property\n",
    "    def alias(self) -> str:\n",
    "        return \"mean_cosine_loss\"\n",
    "\n",
    "    def _calc_unreduced_loss(self,\n",
    "        preds: torch.Tensor,\n",
    "        targets: torch.Tensor,\n",
    "        mask: torch.Tensor,\n",
    "        weights: torch.Tensor,\n",
    "        lt_mask: torch.Tensor,\n",
    "        gt_mask: torch.Tensor\n",
    "    ) -> torch.Tensor:\n",
    "        # reuse exactly the same computation as CircVectorCosine\n",
    "        return CircVectorCosine._calc_unreduced_loss(\n",
    "            self, preds, targets, mask, weights, lt_mask, gt_mask\n",
    "        )\n",
    "\n",
    "class AngularErrorMetric(ChempropMetric):\n",
    "    \"\"\"Mean absolute angular error in degrees, reported over B·2T entries.\"\"\"\n",
    "    def __init__(self, task_weights=None, in_degrees: bool = True):\n",
    "        super().__init__(task_weights=task_weights)\n",
    "        self.in_degrees = in_degrees\n",
    "\n",
    "    @property\n",
    "    def alias(self) -> str:\n",
    "        return \"val_maae_deg\"\n",
    "\n",
    "    def _calc_unreduced_loss(\n",
    "        self,\n",
    "        preds: Tensor,    # (B, 2T)\n",
    "        targets: Tensor,  # (B, 2T)\n",
    "        mask: Tensor,     # (B, 2T)\n",
    "        weights: Tensor,  # (B,) or (B,T) or (B,2T)\n",
    "        lt_mask: Tensor,\n",
    "        gt_mask: Tensor\n",
    "    ) -> Tensor:\n",
    "        B, out_dim = preds.shape\n",
    "        T = out_dim // 2\n",
    "        slice_w = 2 * T\n",
    "\n",
    "        # trim & reshape\n",
    "        p = preds[:, :slice_w].view(B, T, 2)\n",
    "        t = targets[:, :slice_w].view(B, T, 2)\n",
    "        m = mask[:, :slice_w].view(B, T, 2)\n",
    "\n",
    "        # vector‐level validity mask\n",
    "        vec_mask = m.all(dim=-1)  # (B, T)\n",
    "\n",
    "        # angles, difference, wrap, abs\n",
    "        pred_ang = torch.atan2(p[...,0], p[...,1])\n",
    "        true_ang = torch.atan2(t[...,0], t[...,1])\n",
    "        diff = (pred_ang - true_ang + torch.pi) % (2*torch.pi) - torch.pi\n",
    "        err  = diff.abs()                 # (B, T)\n",
    "        if self.in_degrees:\n",
    "            err = err * 180.0 / torch.pi\n",
    "\n",
    "        # zero out invalid\n",
    "        err = err * vec_mask             # (B, T)\n",
    "\n",
    "        # now tile each error into both sin‐ and cos‐slots → (B,T,2)\n",
    "        err2 = err.unsqueeze(-1).expand(B, T, 2)\n",
    "        # flatten → (B, 2T)\n",
    "        return err2.reshape(B, slice_w)\n",
    "\n"
   ]
  },
  {
   "cell_type": "markdown",
   "id": "43f25c2b",
   "metadata": {},
   "source": [
    "## FFN Head\n",
    "\n",
    "Again, Chemprop does not provide a periodic head so needed to create one"
   ]
  },
  {
   "cell_type": "code",
   "execution_count": 31,
   "id": "77f578c8",
   "metadata": {},
   "outputs": [],
   "source": [
    "import torch\n",
    "from torch import Tensor\n",
    "from chemprop.nn.predictors import RegressionFFN\n",
    "\n",
    "class PeriodicRegressionFFN(RegressionFFN):\n",
    "    \"\"\"\n",
    "    A RegressionFFN that predicts (sin θ, cos θ) for each task and\n",
    "    renormalizes to unit length.\n",
    "    \"\"\"\n",
    "    def __init__(\n",
    "        self,\n",
    "        input_dim: int = 300,\n",
    "        hidden_dim: int = 300,\n",
    "        n_layers: int = 1,\n",
    "        dropout: float = 0.0,\n",
    "        activation: str = \"relu\",\n",
    "        n_tasks: int = 1,\n",
    "        criterion=None,\n",
    "    ):\n",
    "\n",
    "        super().__init__(\n",
    "            input_dim=input_dim,\n",
    "            hidden_dim=hidden_dim,\n",
    "            n_layers=n_layers,\n",
    "            dropout=dropout,\n",
    "            activation=activation,\n",
    "            n_tasks=n_tasks,\n",
    "            criterion=criterion\n",
    "        )\n",
    "\n",
    "    def forward(self, x: Tensor) -> Tensor:\n",
    "        \"\"\"\n",
    "        x: (batch, input_dim)\n",
    "        returns: (batch, 2 * n_tasks) raw outputs,\n",
    "                 which we then reshape + normalize.\n",
    "        \"\"\"\n",
    "        raw = self.ffn(x)  # shape (batch, 2 * n_tasks)\n",
    "        \n",
    "        B, twoT = raw.shape\n",
    "        T = twoT // 2\n",
    "        \n",
    "        # reshape to (batch, T, 2)\n",
    "        vecs = raw.view(B, T, 2)\n",
    "        \n",
    "        # normalize each 2-vector to unit length\n",
    "        norms = torch.norm(vecs, dim=-1, keepdim=True).clamp(min=1e-6)\n",
    "        unit = vecs / norms\n",
    "        \n",
    "        # flatten back to (batch, 2*T)\n",
    "        return unit.view(B, 2 * T)\n"
   ]
  },
  {
   "cell_type": "code",
   "execution_count": 32,
   "id": "6bd09d8e",
   "metadata": {},
   "outputs": [],
   "source": [
    "num_tasks = 2\n",
    "loss_fn = CircVectorCosine(task_weights=[1.0])\n",
    "ffn = PeriodicRegressionFFN(\n",
    "    input_dim=mcmp.output_dim,\n",
    "    n_tasks=2,\n",
    "    dropout=0.1,\n",
    "    n_layers=2\n",
    ")"
   ]
  },
  {
   "cell_type": "markdown",
   "id": "94725b16",
   "metadata": {},
   "source": [
    "## Metrics\n",
    "\n",
    "No proper metric class for what we are measuring so need to create one"
   ]
  },
  {
   "cell_type": "code",
   "execution_count": 33,
   "id": "c99ae328",
   "metadata": {},
   "outputs": [],
   "source": [
    "metric_list = [CosineAngleMetric(task_weights=[1.0, 1.0]), AngularErrorMetric(task_weights=[1.0, 1.0])] # Only the first metric is used for training and early stopping - can provide many though"
   ]
  },
  {
   "cell_type": "markdown",
   "id": "69b6a85f",
   "metadata": {},
   "source": [
    "## Bring it all together\n",
    "\n",
    "Note Chemprop has set their optimizer and scheduler as NoamLike. So to change it you would need to change code or replace it via mcmpnn.configure_optimizer= I believe"
   ]
  },
  {
   "cell_type": "code",
   "execution_count": 34,
   "id": "4ce2e6e3",
   "metadata": {},
   "outputs": [
    {
     "data": {
      "text/plain": [
       "MulticomponentMPNN(\n",
       "  (message_passing): MulticomponentMessagePassing(\n",
       "    (blocks): ModuleList(\n",
       "      (0-1): 2 x BondMessagePassing(\n",
       "        (W_i): Linear(in_features=112, out_features=1024, bias=False)\n",
       "        (W_h): Linear(in_features=1024, out_features=1024, bias=False)\n",
       "        (W_o): Linear(in_features=1122, out_features=1024, bias=True)\n",
       "        (dropout): Dropout(p=0.2, inplace=False)\n",
       "        (tau): ReLU()\n",
       "        (V_d_transform): Identity()\n",
       "        (graph_transform): Identity()\n",
       "      )\n",
       "    )\n",
       "  )\n",
       "  (agg): MeanAggregation()\n",
       "  (bn): BatchNorm1d(2048, eps=1e-05, momentum=0.1, affine=True, track_running_stats=True)\n",
       "  (predictor): PeriodicRegressionFFN(\n",
       "    (ffn): MLP(\n",
       "      (0): Sequential(\n",
       "        (0): Linear(in_features=2048, out_features=300, bias=True)\n",
       "      )\n",
       "      (1): Sequential(\n",
       "        (0): ReLU()\n",
       "        (1): Dropout(p=0.1, inplace=False)\n",
       "        (2): Linear(in_features=300, out_features=300, bias=True)\n",
       "      )\n",
       "      (2): Sequential(\n",
       "        (0): ReLU()\n",
       "        (1): Dropout(p=0.1, inplace=False)\n",
       "        (2): Linear(in_features=300, out_features=2, bias=True)\n",
       "      )\n",
       "    )\n",
       "    (criterion): MSE(task_weights=[[1.0, 1.0]])\n",
       "    (output_transform): Identity()\n",
       "  )\n",
       "  (X_d_transform): Identity()\n",
       "  (metrics): ModuleList(\n",
       "    (0): CosineAngleMetric(task_weights=[[1.0, 1.0]])\n",
       "    (1): AngularErrorMetric(task_weights=[[1.0, 1.0]])\n",
       "    (2): MSE(task_weights=[[1.0, 1.0]])\n",
       "  )\n",
       ")"
      ]
     },
     "execution_count": 34,
     "metadata": {},
     "output_type": "execute_result"
    }
   ],
   "source": [
    "mcmpnn = multi.MulticomponentMPNN(\n",
    "    mcmp,\n",
    "    agg,\n",
    "    ffn,\n",
    "    metrics=metric_list,\n",
    "    warmup_epochs=8,\n",
    "    max_lr = 5e-4,\n",
    "    init_lr=5e-5,\n",
    "    final_lr=1e-5,\n",
    "    batch_norm=True\n",
    "\n",
    ")\n",
    "mcmpnn"
   ]
  },
  {
   "cell_type": "markdown",
   "id": "b69b5a93",
   "metadata": {},
   "source": [
    "# Custom Callback"
   ]
  },
  {
   "cell_type": "code",
   "execution_count": 35,
   "id": "ed8851e5",
   "metadata": {},
   "outputs": [],
   "source": [
    "class LossHistoryCallback(pl.Callback):\n",
    "    def __init__(self):\n",
    "        super().__init__()\n",
    "        self.train_losses = []\n",
    "        self.val_losses = []\n",
    "\n",
    "    def on_train_epoch_end(self, trainer, pl_module):\n",
    "        self.train_losses.append(trainer.callback_metrics['train_loss'].cpu().item())\n",
    "\n",
    "    def on_validation_epoch_end(self, trainer, pl_module):\n",
    "        self.val_losses.append(trainer.callback_metrics['val_loss'].cpu().item())\n",
    "\n",
    "# 1) Instantiate callback and pass to Trainer\n",
    "loss_history = LossHistoryCallback()"
   ]
  },
  {
   "cell_type": "code",
   "execution_count": 36,
   "id": "33a9b08a",
   "metadata": {},
   "outputs": [
    {
     "name": "stderr",
     "output_type": "stream",
     "text": [
      "GPU available: False, used: False\n",
      "TPU available: False, using: 0 TPU cores\n",
      "HPU available: False, using: 0 HPUs\n",
      "Loading `train_dataloader` to estimate number of stepping batches.\n",
      "/home/calvin/miniforge3/envs/habnet_env/lib/python3.12/site-packages/lightning/pytorch/loops/fit_loop.py:310: The number of training batches (22) is smaller than the logging interval Trainer(log_every_n_steps=50). Set a lower value for log_every_n_steps if you want to see logs for the training epoch.\n",
      "\n",
      "  | Name            | Type                         | Params | Mode \n",
      "-------------------------------------------------------------------------\n",
      "0 | message_passing | MulticomponentMessagePassing | 4.6 M  | train\n",
      "1 | agg             | MeanAggregation              | 0      | train\n",
      "2 | bn              | BatchNorm1d                  | 4.1 K  | train\n",
      "3 | predictor       | PeriodicRegressionFFN        | 705 K  | train\n",
      "4 | X_d_transform   | Identity                     | 0      | train\n",
      "5 | metrics         | ModuleList                   | 0      | train\n",
      "-------------------------------------------------------------------------\n",
      "5.3 M     Trainable params\n",
      "0         Non-trainable params\n",
      "5.3 M     Total params\n",
      "21.345    Total estimated model params size (MB)\n",
      "37        Modules in train mode\n",
      "0         Modules in eval mode\n",
      "/home/calvin/miniforge3/envs/habnet_env/lib/python3.12/site-packages/lightning/pytorch/core/saving.py:363: Skipping 'metrics' parameter because it is not possible to safely dump to YAML.\n"
     ]
    },
    {
     "data": {
      "application/vnd.jupyter.widget-view+json": {
       "model_id": "00b34e3705ef4f1a98de008d3f99fc5f",
       "version_major": 2,
       "version_minor": 0
      },
      "text/plain": [
       "Sanity Checking: |          | 0/? [00:00<?, ?it/s]"
      ]
     },
     "metadata": {},
     "output_type": "display_data"
    },
    {
     "name": "stderr",
     "output_type": "stream",
     "text": [
      "/home/calvin/miniforge3/envs/habnet_env/lib/python3.12/site-packages/lightning/pytorch/trainer/connectors/data_connector.py:425: The 'val_dataloader' does not have many workers which may be a bottleneck. Consider increasing the value of the `num_workers` argument` to `num_workers=19` in the `DataLoader` to improve performance.\n"
     ]
    },
    {
     "data": {
      "application/vnd.jupyter.widget-view+json": {
       "model_id": "778e722cce2d42589689163cfcc25fca",
       "version_major": 2,
       "version_minor": 0
      },
      "text/plain": [
       "Training: |          | 0/? [00:00<?, ?it/s]"
      ]
     },
     "metadata": {},
     "output_type": "display_data"
    },
    {
     "data": {
      "application/vnd.jupyter.widget-view+json": {
       "model_id": "07ccd08ab6e2462b9caf8baee7223f64",
       "version_major": 2,
       "version_minor": 0
      },
      "text/plain": [
       "Validation: |          | 0/? [00:00<?, ?it/s]"
      ]
     },
     "metadata": {},
     "output_type": "display_data"
    },
    {
     "data": {
      "application/vnd.jupyter.widget-view+json": {
       "model_id": "8a486b87c9564811a0e42c930f1dc9b2",
       "version_major": 2,
       "version_minor": 0
      },
      "text/plain": [
       "Validation: |          | 0/? [00:00<?, ?it/s]"
      ]
     },
     "metadata": {},
     "output_type": "display_data"
    },
    {
     "data": {
      "application/vnd.jupyter.widget-view+json": {
       "model_id": "2a172a6987314e149349b71dac359cdc",
       "version_major": 2,
       "version_minor": 0
      },
      "text/plain": [
       "Validation: |          | 0/? [00:00<?, ?it/s]"
      ]
     },
     "metadata": {},
     "output_type": "display_data"
    },
    {
     "data": {
      "application/vnd.jupyter.widget-view+json": {
       "model_id": "bd1c59f4500446c6bd717a5d72accf39",
       "version_major": 2,
       "version_minor": 0
      },
      "text/plain": [
       "Validation: |          | 0/? [00:00<?, ?it/s]"
      ]
     },
     "metadata": {},
     "output_type": "display_data"
    },
    {
     "data": {
      "application/vnd.jupyter.widget-view+json": {
       "model_id": "3195e66255fe4a199a1bcd06026df739",
       "version_major": 2,
       "version_minor": 0
      },
      "text/plain": [
       "Validation: |          | 0/? [00:00<?, ?it/s]"
      ]
     },
     "metadata": {},
     "output_type": "display_data"
    },
    {
     "data": {
      "application/vnd.jupyter.widget-view+json": {
       "model_id": "992bd6e2efec4c84a74dac32303fee7f",
       "version_major": 2,
       "version_minor": 0
      },
      "text/plain": [
       "Validation: |          | 0/? [00:00<?, ?it/s]"
      ]
     },
     "metadata": {},
     "output_type": "display_data"
    },
    {
     "data": {
      "application/vnd.jupyter.widget-view+json": {
       "model_id": "6a8dccb23bf748068ac71325351f4bb0",
       "version_major": 2,
       "version_minor": 0
      },
      "text/plain": [
       "Validation: |          | 0/? [00:00<?, ?it/s]"
      ]
     },
     "metadata": {},
     "output_type": "display_data"
    },
    {
     "data": {
      "application/vnd.jupyter.widget-view+json": {
       "model_id": "08d3abb0625d49189049f516577498cf",
       "version_major": 2,
       "version_minor": 0
      },
      "text/plain": [
       "Validation: |          | 0/? [00:00<?, ?it/s]"
      ]
     },
     "metadata": {},
     "output_type": "display_data"
    },
    {
     "data": {
      "application/vnd.jupyter.widget-view+json": {
       "model_id": "a24ac3b8fd4441cfb57d52f19daf9cc4",
       "version_major": 2,
       "version_minor": 0
      },
      "text/plain": [
       "Validation: |          | 0/? [00:00<?, ?it/s]"
      ]
     },
     "metadata": {},
     "output_type": "display_data"
    },
    {
     "data": {
      "application/vnd.jupyter.widget-view+json": {
       "model_id": "67e51d56b377405da84faf7fffd5bc77",
       "version_major": 2,
       "version_minor": 0
      },
      "text/plain": [
       "Validation: |          | 0/? [00:00<?, ?it/s]"
      ]
     },
     "metadata": {},
     "output_type": "display_data"
    },
    {
     "data": {
      "application/vnd.jupyter.widget-view+json": {
       "model_id": "7d39add8576e4e0b886e24e57373eeac",
       "version_major": 2,
       "version_minor": 0
      },
      "text/plain": [
       "Validation: |          | 0/? [00:00<?, ?it/s]"
      ]
     },
     "metadata": {},
     "output_type": "display_data"
    },
    {
     "data": {
      "application/vnd.jupyter.widget-view+json": {
       "model_id": "7517777513dd4b1b97714d537474323c",
       "version_major": 2,
       "version_minor": 0
      },
      "text/plain": [
       "Validation: |          | 0/? [00:00<?, ?it/s]"
      ]
     },
     "metadata": {},
     "output_type": "display_data"
    },
    {
     "data": {
      "application/vnd.jupyter.widget-view+json": {
       "model_id": "9bc36c18b0f44a4f84e620dcfe6e9687",
       "version_major": 2,
       "version_minor": 0
      },
      "text/plain": [
       "Validation: |          | 0/? [00:00<?, ?it/s]"
      ]
     },
     "metadata": {},
     "output_type": "display_data"
    },
    {
     "data": {
      "application/vnd.jupyter.widget-view+json": {
       "model_id": "e85938806a624b7aa28e3240a775e9dd",
       "version_major": 2,
       "version_minor": 0
      },
      "text/plain": [
       "Validation: |          | 0/? [00:00<?, ?it/s]"
      ]
     },
     "metadata": {},
     "output_type": "display_data"
    },
    {
     "data": {
      "application/vnd.jupyter.widget-view+json": {
       "model_id": "3d077619613e43928cee0a46a58d9dea",
       "version_major": 2,
       "version_minor": 0
      },
      "text/plain": [
       "Validation: |          | 0/? [00:00<?, ?it/s]"
      ]
     },
     "metadata": {},
     "output_type": "display_data"
    },
    {
     "data": {
      "application/vnd.jupyter.widget-view+json": {
       "model_id": "0122b80258be44c9b3ccd4cf3b6fb46f",
       "version_major": 2,
       "version_minor": 0
      },
      "text/plain": [
       "Validation: |          | 0/? [00:00<?, ?it/s]"
      ]
     },
     "metadata": {},
     "output_type": "display_data"
    },
    {
     "data": {
      "application/vnd.jupyter.widget-view+json": {
       "model_id": "fb500349c19648f3a75d922ae23bd8ee",
       "version_major": 2,
       "version_minor": 0
      },
      "text/plain": [
       "Validation: |          | 0/? [00:00<?, ?it/s]"
      ]
     },
     "metadata": {},
     "output_type": "display_data"
    },
    {
     "data": {
      "application/vnd.jupyter.widget-view+json": {
       "model_id": "f4897a5455c946229a473a4782742670",
       "version_major": 2,
       "version_minor": 0
      },
      "text/plain": [
       "Validation: |          | 0/? [00:00<?, ?it/s]"
      ]
     },
     "metadata": {},
     "output_type": "display_data"
    },
    {
     "data": {
      "application/vnd.jupyter.widget-view+json": {
       "model_id": "c64d7b216c0a448fa263b6e354a1fa62",
       "version_major": 2,
       "version_minor": 0
      },
      "text/plain": [
       "Validation: |          | 0/? [00:00<?, ?it/s]"
      ]
     },
     "metadata": {},
     "output_type": "display_data"
    },
    {
     "data": {
      "application/vnd.jupyter.widget-view+json": {
       "model_id": "8ccc652d274e4d9ab62128808e431ba1",
       "version_major": 2,
       "version_minor": 0
      },
      "text/plain": [
       "Validation: |          | 0/? [00:00<?, ?it/s]"
      ]
     },
     "metadata": {},
     "output_type": "display_data"
    },
    {
     "data": {
      "application/vnd.jupyter.widget-view+json": {
       "model_id": "7cba126d74104e8c8449852bb31c5a0e",
       "version_major": 2,
       "version_minor": 0
      },
      "text/plain": [
       "Validation: |          | 0/? [00:00<?, ?it/s]"
      ]
     },
     "metadata": {},
     "output_type": "display_data"
    },
    {
     "data": {
      "application/vnd.jupyter.widget-view+json": {
       "model_id": "f1f1c5cc274844b587bce7bc47339f61",
       "version_major": 2,
       "version_minor": 0
      },
      "text/plain": [
       "Validation: |          | 0/? [00:00<?, ?it/s]"
      ]
     },
     "metadata": {},
     "output_type": "display_data"
    },
    {
     "data": {
      "application/vnd.jupyter.widget-view+json": {
       "model_id": "4a178b42696d484893b07d423ab7abec",
       "version_major": 2,
       "version_minor": 0
      },
      "text/plain": [
       "Validation: |          | 0/? [00:00<?, ?it/s]"
      ]
     },
     "metadata": {},
     "output_type": "display_data"
    },
    {
     "data": {
      "application/vnd.jupyter.widget-view+json": {
       "model_id": "e12d3e3513334a9394702d59bac5f960",
       "version_major": 2,
       "version_minor": 0
      },
      "text/plain": [
       "Validation: |          | 0/? [00:00<?, ?it/s]"
      ]
     },
     "metadata": {},
     "output_type": "display_data"
    },
    {
     "data": {
      "application/vnd.jupyter.widget-view+json": {
       "model_id": "fd7fe8255a7e43a6a969e138cc17e9e4",
       "version_major": 2,
       "version_minor": 0
      },
      "text/plain": [
       "Validation: |          | 0/? [00:00<?, ?it/s]"
      ]
     },
     "metadata": {},
     "output_type": "display_data"
    },
    {
     "data": {
      "application/vnd.jupyter.widget-view+json": {
       "model_id": "1103b8f282bc47cb8fa51b5d32fc7ee4",
       "version_major": 2,
       "version_minor": 0
      },
      "text/plain": [
       "Validation: |          | 0/? [00:00<?, ?it/s]"
      ]
     },
     "metadata": {},
     "output_type": "display_data"
    },
    {
     "data": {
      "application/vnd.jupyter.widget-view+json": {
       "model_id": "e2b34ee6385247b48a6d68be67ec3802",
       "version_major": 2,
       "version_minor": 0
      },
      "text/plain": [
       "Validation: |          | 0/? [00:00<?, ?it/s]"
      ]
     },
     "metadata": {},
     "output_type": "display_data"
    },
    {
     "data": {
      "application/vnd.jupyter.widget-view+json": {
       "model_id": "498701c7a3ba44d2bb88b69a0ecfdf9c",
       "version_major": 2,
       "version_minor": 0
      },
      "text/plain": [
       "Validation: |          | 0/? [00:00<?, ?it/s]"
      ]
     },
     "metadata": {},
     "output_type": "display_data"
    },
    {
     "data": {
      "application/vnd.jupyter.widget-view+json": {
       "model_id": "84a12e4523fa4af5877321c420707035",
       "version_major": 2,
       "version_minor": 0
      },
      "text/plain": [
       "Validation: |          | 0/? [00:00<?, ?it/s]"
      ]
     },
     "metadata": {},
     "output_type": "display_data"
    },
    {
     "data": {
      "application/vnd.jupyter.widget-view+json": {
       "model_id": "cc605f58056940ca9d96cc794d1e4de6",
       "version_major": 2,
       "version_minor": 0
      },
      "text/plain": [
       "Validation: |          | 0/? [00:00<?, ?it/s]"
      ]
     },
     "metadata": {},
     "output_type": "display_data"
    },
    {
     "data": {
      "application/vnd.jupyter.widget-view+json": {
       "model_id": "f7500fc42a904228b161cdf39d626505",
       "version_major": 2,
       "version_minor": 0
      },
      "text/plain": [
       "Validation: |          | 0/? [00:00<?, ?it/s]"
      ]
     },
     "metadata": {},
     "output_type": "display_data"
    },
    {
     "data": {
      "application/vnd.jupyter.widget-view+json": {
       "model_id": "0301cce65c144989b703cd9205994e48",
       "version_major": 2,
       "version_minor": 0
      },
      "text/plain": [
       "Validation: |          | 0/? [00:00<?, ?it/s]"
      ]
     },
     "metadata": {},
     "output_type": "display_data"
    },
    {
     "data": {
      "application/vnd.jupyter.widget-view+json": {
       "model_id": "e5f4b65507e24367a69ba7dce0c12fef",
       "version_major": 2,
       "version_minor": 0
      },
      "text/plain": [
       "Validation: |          | 0/? [00:00<?, ?it/s]"
      ]
     },
     "metadata": {},
     "output_type": "display_data"
    },
    {
     "data": {
      "application/vnd.jupyter.widget-view+json": {
       "model_id": "46cacdfc993a4b31ba5a9120904518da",
       "version_major": 2,
       "version_minor": 0
      },
      "text/plain": [
       "Validation: |          | 0/? [00:00<?, ?it/s]"
      ]
     },
     "metadata": {},
     "output_type": "display_data"
    },
    {
     "data": {
      "application/vnd.jupyter.widget-view+json": {
       "model_id": "99ff0d92c5784eada873c25676297f2f",
       "version_major": 2,
       "version_minor": 0
      },
      "text/plain": [
       "Validation: |          | 0/? [00:00<?, ?it/s]"
      ]
     },
     "metadata": {},
     "output_type": "display_data"
    },
    {
     "data": {
      "application/vnd.jupyter.widget-view+json": {
       "model_id": "8538e7d072ab4d89b97d15181442e416",
       "version_major": 2,
       "version_minor": 0
      },
      "text/plain": [
       "Validation: |          | 0/? [00:00<?, ?it/s]"
      ]
     },
     "metadata": {},
     "output_type": "display_data"
    },
    {
     "data": {
      "application/vnd.jupyter.widget-view+json": {
       "model_id": "5e82f746d3f3487386ec40363d9bb2f6",
       "version_major": 2,
       "version_minor": 0
      },
      "text/plain": [
       "Validation: |          | 0/? [00:00<?, ?it/s]"
      ]
     },
     "metadata": {},
     "output_type": "display_data"
    },
    {
     "data": {
      "application/vnd.jupyter.widget-view+json": {
       "model_id": "b9a7c8fdf27343c39df7ac93548d000f",
       "version_major": 2,
       "version_minor": 0
      },
      "text/plain": [
       "Validation: |          | 0/? [00:00<?, ?it/s]"
      ]
     },
     "metadata": {},
     "output_type": "display_data"
    },
    {
     "data": {
      "application/vnd.jupyter.widget-view+json": {
       "model_id": "fdc42e78f38c404d9b89ffc9f03c309d",
       "version_major": 2,
       "version_minor": 0
      },
      "text/plain": [
       "Validation: |          | 0/? [00:00<?, ?it/s]"
      ]
     },
     "metadata": {},
     "output_type": "display_data"
    },
    {
     "data": {
      "application/vnd.jupyter.widget-view+json": {
       "model_id": "d67b8d8c07bc4bdca5f5d5b5669a5b96",
       "version_major": 2,
       "version_minor": 0
      },
      "text/plain": [
       "Validation: |          | 0/? [00:00<?, ?it/s]"
      ]
     },
     "metadata": {},
     "output_type": "display_data"
    },
    {
     "data": {
      "application/vnd.jupyter.widget-view+json": {
       "model_id": "c5dd3990e47d40ecb994349af5aa0be6",
       "version_major": 2,
       "version_minor": 0
      },
      "text/plain": [
       "Validation: |          | 0/? [00:00<?, ?it/s]"
      ]
     },
     "metadata": {},
     "output_type": "display_data"
    },
    {
     "data": {
      "application/vnd.jupyter.widget-view+json": {
       "model_id": "5cca798b74a04da4834b5be54b2f27b7",
       "version_major": 2,
       "version_minor": 0
      },
      "text/plain": [
       "Validation: |          | 0/? [00:00<?, ?it/s]"
      ]
     },
     "metadata": {},
     "output_type": "display_data"
    },
    {
     "data": {
      "application/vnd.jupyter.widget-view+json": {
       "model_id": "b545a0e51c064891bf15e552ef7fcc2f",
       "version_major": 2,
       "version_minor": 0
      },
      "text/plain": [
       "Validation: |          | 0/? [00:00<?, ?it/s]"
      ]
     },
     "metadata": {},
     "output_type": "display_data"
    },
    {
     "data": {
      "application/vnd.jupyter.widget-view+json": {
       "model_id": "418abae5757147b4ad59812f9221367b",
       "version_major": 2,
       "version_minor": 0
      },
      "text/plain": [
       "Validation: |          | 0/? [00:00<?, ?it/s]"
      ]
     },
     "metadata": {},
     "output_type": "display_data"
    },
    {
     "data": {
      "application/vnd.jupyter.widget-view+json": {
       "model_id": "bd84560aa5b546fc8a57a1ff967c3888",
       "version_major": 2,
       "version_minor": 0
      },
      "text/plain": [
       "Validation: |          | 0/? [00:00<?, ?it/s]"
      ]
     },
     "metadata": {},
     "output_type": "display_data"
    },
    {
     "data": {
      "application/vnd.jupyter.widget-view+json": {
       "model_id": "e1027aef46124053a8b95e7dc858aaa0",
       "version_major": 2,
       "version_minor": 0
      },
      "text/plain": [
       "Validation: |          | 0/? [00:00<?, ?it/s]"
      ]
     },
     "metadata": {},
     "output_type": "display_data"
    },
    {
     "data": {
      "application/vnd.jupyter.widget-view+json": {
       "model_id": "8b9b1148ce7e4ab99c3133397f4f1dc5",
       "version_major": 2,
       "version_minor": 0
      },
      "text/plain": [
       "Validation: |          | 0/? [00:00<?, ?it/s]"
      ]
     },
     "metadata": {},
     "output_type": "display_data"
    },
    {
     "data": {
      "application/vnd.jupyter.widget-view+json": {
       "model_id": "6030624a36ee4be6889b13622698fda7",
       "version_major": 2,
       "version_minor": 0
      },
      "text/plain": [
       "Validation: |          | 0/? [00:00<?, ?it/s]"
      ]
     },
     "metadata": {},
     "output_type": "display_data"
    },
    {
     "data": {
      "application/vnd.jupyter.widget-view+json": {
       "model_id": "f71adbc6e4e24158a4971f723d41b424",
       "version_major": 2,
       "version_minor": 0
      },
      "text/plain": [
       "Validation: |          | 0/? [00:00<?, ?it/s]"
      ]
     },
     "metadata": {},
     "output_type": "display_data"
    },
    {
     "data": {
      "application/vnd.jupyter.widget-view+json": {
       "model_id": "486a6dd79ca349bb974259d2427a9b71",
       "version_major": 2,
       "version_minor": 0
      },
      "text/plain": [
       "Validation: |          | 0/? [00:00<?, ?it/s]"
      ]
     },
     "metadata": {},
     "output_type": "display_data"
    },
    {
     "data": {
      "application/vnd.jupyter.widget-view+json": {
       "model_id": "d6dbec7a6df64cf1a170ae44674ed792",
       "version_major": 2,
       "version_minor": 0
      },
      "text/plain": [
       "Validation: |          | 0/? [00:00<?, ?it/s]"
      ]
     },
     "metadata": {},
     "output_type": "display_data"
    },
    {
     "data": {
      "application/vnd.jupyter.widget-view+json": {
       "model_id": "f7e239a3c23149ecaf2a181404867b25",
       "version_major": 2,
       "version_minor": 0
      },
      "text/plain": [
       "Validation: |          | 0/? [00:00<?, ?it/s]"
      ]
     },
     "metadata": {},
     "output_type": "display_data"
    },
    {
     "data": {
      "application/vnd.jupyter.widget-view+json": {
       "model_id": "8fb9a82adff54f37a1867cf9766abc05",
       "version_major": 2,
       "version_minor": 0
      },
      "text/plain": [
       "Validation: |          | 0/? [00:00<?, ?it/s]"
      ]
     },
     "metadata": {},
     "output_type": "display_data"
    },
    {
     "data": {
      "application/vnd.jupyter.widget-view+json": {
       "model_id": "09310c836e06463382af905ee32c9c52",
       "version_major": 2,
       "version_minor": 0
      },
      "text/plain": [
       "Validation: |          | 0/? [00:00<?, ?it/s]"
      ]
     },
     "metadata": {},
     "output_type": "display_data"
    },
    {
     "data": {
      "application/vnd.jupyter.widget-view+json": {
       "model_id": "01e5e735cce04a15b7a747bf6a00d2c7",
       "version_major": 2,
       "version_minor": 0
      },
      "text/plain": [
       "Validation: |          | 0/? [00:00<?, ?it/s]"
      ]
     },
     "metadata": {},
     "output_type": "display_data"
    },
    {
     "data": {
      "application/vnd.jupyter.widget-view+json": {
       "model_id": "351810c1001e4302901fbced152bf5a8",
       "version_major": 2,
       "version_minor": 0
      },
      "text/plain": [
       "Validation: |          | 0/? [00:00<?, ?it/s]"
      ]
     },
     "metadata": {},
     "output_type": "display_data"
    },
    {
     "data": {
      "application/vnd.jupyter.widget-view+json": {
       "model_id": "9636ca9afe0b44dbb966a466a1f6df46",
       "version_major": 2,
       "version_minor": 0
      },
      "text/plain": [
       "Validation: |          | 0/? [00:00<?, ?it/s]"
      ]
     },
     "metadata": {},
     "output_type": "display_data"
    },
    {
     "data": {
      "application/vnd.jupyter.widget-view+json": {
       "model_id": "efdc7684abb044d7bda46be45c0219e9",
       "version_major": 2,
       "version_minor": 0
      },
      "text/plain": [
       "Validation: |          | 0/? [00:00<?, ?it/s]"
      ]
     },
     "metadata": {},
     "output_type": "display_data"
    },
    {
     "data": {
      "application/vnd.jupyter.widget-view+json": {
       "model_id": "1dc4d0deb2fd44c3983e6d524e97d0b4",
       "version_major": 2,
       "version_minor": 0
      },
      "text/plain": [
       "Validation: |          | 0/? [00:00<?, ?it/s]"
      ]
     },
     "metadata": {},
     "output_type": "display_data"
    },
    {
     "data": {
      "application/vnd.jupyter.widget-view+json": {
       "model_id": "df964c2e55ae485b99a964cde5f04aa3",
       "version_major": 2,
       "version_minor": 0
      },
      "text/plain": [
       "Validation: |          | 0/? [00:00<?, ?it/s]"
      ]
     },
     "metadata": {},
     "output_type": "display_data"
    },
    {
     "data": {
      "application/vnd.jupyter.widget-view+json": {
       "model_id": "7f0e2f7b3ac140c1834b63a9c863f968",
       "version_major": 2,
       "version_minor": 0
      },
      "text/plain": [
       "Validation: |          | 0/? [00:00<?, ?it/s]"
      ]
     },
     "metadata": {},
     "output_type": "display_data"
    },
    {
     "data": {
      "application/vnd.jupyter.widget-view+json": {
       "model_id": "445b534c641242769f270367585d4902",
       "version_major": 2,
       "version_minor": 0
      },
      "text/plain": [
       "Validation: |          | 0/? [00:00<?, ?it/s]"
      ]
     },
     "metadata": {},
     "output_type": "display_data"
    },
    {
     "data": {
      "application/vnd.jupyter.widget-view+json": {
       "model_id": "5b594e422bde482bac09fe8f0777c1cd",
       "version_major": 2,
       "version_minor": 0
      },
      "text/plain": [
       "Validation: |          | 0/? [00:00<?, ?it/s]"
      ]
     },
     "metadata": {},
     "output_type": "display_data"
    },
    {
     "data": {
      "application/vnd.jupyter.widget-view+json": {
       "model_id": "90b60b11920c4108a371c0072f9dfe0a",
       "version_major": 2,
       "version_minor": 0
      },
      "text/plain": [
       "Validation: |          | 0/? [00:00<?, ?it/s]"
      ]
     },
     "metadata": {},
     "output_type": "display_data"
    },
    {
     "data": {
      "application/vnd.jupyter.widget-view+json": {
       "model_id": "6a94f47ee87c4ef5a2f0d1d608d99ecb",
       "version_major": 2,
       "version_minor": 0
      },
      "text/plain": [
       "Validation: |          | 0/? [00:00<?, ?it/s]"
      ]
     },
     "metadata": {},
     "output_type": "display_data"
    },
    {
     "data": {
      "application/vnd.jupyter.widget-view+json": {
       "model_id": "e64c4fe6e5914e77a23591acdb2a7ff8",
       "version_major": 2,
       "version_minor": 0
      },
      "text/plain": [
       "Validation: |          | 0/? [00:00<?, ?it/s]"
      ]
     },
     "metadata": {},
     "output_type": "display_data"
    },
    {
     "data": {
      "application/vnd.jupyter.widget-view+json": {
       "model_id": "d8b7843138d44ef0b3277f1ef8a89a96",
       "version_major": 2,
       "version_minor": 0
      },
      "text/plain": [
       "Validation: |          | 0/? [00:00<?, ?it/s]"
      ]
     },
     "metadata": {},
     "output_type": "display_data"
    },
    {
     "data": {
      "application/vnd.jupyter.widget-view+json": {
       "model_id": "215c266d8e644c5a9cce67b6b7e6b4d0",
       "version_major": 2,
       "version_minor": 0
      },
      "text/plain": [
       "Validation: |          | 0/? [00:00<?, ?it/s]"
      ]
     },
     "metadata": {},
     "output_type": "display_data"
    },
    {
     "data": {
      "application/vnd.jupyter.widget-view+json": {
       "model_id": "925a9108292d4e3ea0ed71db6526d726",
       "version_major": 2,
       "version_minor": 0
      },
      "text/plain": [
       "Validation: |          | 0/? [00:00<?, ?it/s]"
      ]
     },
     "metadata": {},
     "output_type": "display_data"
    },
    {
     "data": {
      "application/vnd.jupyter.widget-view+json": {
       "model_id": "e8008dd411b443f296e9cd4ac6f2d591",
       "version_major": 2,
       "version_minor": 0
      },
      "text/plain": [
       "Validation: |          | 0/? [00:00<?, ?it/s]"
      ]
     },
     "metadata": {},
     "output_type": "display_data"
    },
    {
     "data": {
      "application/vnd.jupyter.widget-view+json": {
       "model_id": "8c02c89b5c1e4a5a9869dadff6531077",
       "version_major": 2,
       "version_minor": 0
      },
      "text/plain": [
       "Validation: |          | 0/? [00:00<?, ?it/s]"
      ]
     },
     "metadata": {},
     "output_type": "display_data"
    },
    {
     "data": {
      "application/vnd.jupyter.widget-view+json": {
       "model_id": "eaa84e2f0b954ef0a9dbfba2d996b9ac",
       "version_major": 2,
       "version_minor": 0
      },
      "text/plain": [
       "Validation: |          | 0/? [00:00<?, ?it/s]"
      ]
     },
     "metadata": {},
     "output_type": "display_data"
    },
    {
     "data": {
      "application/vnd.jupyter.widget-view+json": {
       "model_id": "0932f605b9484a6cbbdc0a9bc800aad9",
       "version_major": 2,
       "version_minor": 0
      },
      "text/plain": [
       "Validation: |          | 0/? [00:00<?, ?it/s]"
      ]
     },
     "metadata": {},
     "output_type": "display_data"
    },
    {
     "data": {
      "application/vnd.jupyter.widget-view+json": {
       "model_id": "8825052d23b4474b95a725100c8f0fc8",
       "version_major": 2,
       "version_minor": 0
      },
      "text/plain": [
       "Validation: |          | 0/? [00:00<?, ?it/s]"
      ]
     },
     "metadata": {},
     "output_type": "display_data"
    },
    {
     "data": {
      "application/vnd.jupyter.widget-view+json": {
       "model_id": "9648b2fabf7b467b8340781271990b06",
       "version_major": 2,
       "version_minor": 0
      },
      "text/plain": [
       "Validation: |          | 0/? [00:00<?, ?it/s]"
      ]
     },
     "metadata": {},
     "output_type": "display_data"
    },
    {
     "data": {
      "application/vnd.jupyter.widget-view+json": {
       "model_id": "0f74a9426fef49589efb9a313c1c907e",
       "version_major": 2,
       "version_minor": 0
      },
      "text/plain": [
       "Validation: |          | 0/? [00:00<?, ?it/s]"
      ]
     },
     "metadata": {},
     "output_type": "display_data"
    },
    {
     "data": {
      "application/vnd.jupyter.widget-view+json": {
       "model_id": "3544c5b9400444e08a99f0227f6c82ba",
       "version_major": 2,
       "version_minor": 0
      },
      "text/plain": [
       "Validation: |          | 0/? [00:00<?, ?it/s]"
      ]
     },
     "metadata": {},
     "output_type": "display_data"
    },
    {
     "data": {
      "application/vnd.jupyter.widget-view+json": {
       "model_id": "00c9b8e88c7142b198a57b4028a3609e",
       "version_major": 2,
       "version_minor": 0
      },
      "text/plain": [
       "Validation: |          | 0/? [00:00<?, ?it/s]"
      ]
     },
     "metadata": {},
     "output_type": "display_data"
    },
    {
     "data": {
      "application/vnd.jupyter.widget-view+json": {
       "model_id": "aedf2caa29624f8d84e2af1526f5d54a",
       "version_major": 2,
       "version_minor": 0
      },
      "text/plain": [
       "Validation: |          | 0/? [00:00<?, ?it/s]"
      ]
     },
     "metadata": {},
     "output_type": "display_data"
    },
    {
     "data": {
      "application/vnd.jupyter.widget-view+json": {
       "model_id": "2f35044f833d43ed84d3382f57a2ad46",
       "version_major": 2,
       "version_minor": 0
      },
      "text/plain": [
       "Validation: |          | 0/? [00:00<?, ?it/s]"
      ]
     },
     "metadata": {},
     "output_type": "display_data"
    },
    {
     "data": {
      "application/vnd.jupyter.widget-view+json": {
       "model_id": "15bdd2a52c1e4540aa4aa61caec22433",
       "version_major": 2,
       "version_minor": 0
      },
      "text/plain": [
       "Validation: |          | 0/? [00:00<?, ?it/s]"
      ]
     },
     "metadata": {},
     "output_type": "display_data"
    },
    {
     "data": {
      "application/vnd.jupyter.widget-view+json": {
       "model_id": "fc065376c03a4ac88d51dde835b8ad11",
       "version_major": 2,
       "version_minor": 0
      },
      "text/plain": [
       "Validation: |          | 0/? [00:00<?, ?it/s]"
      ]
     },
     "metadata": {},
     "output_type": "display_data"
    },
    {
     "data": {
      "application/vnd.jupyter.widget-view+json": {
       "model_id": "d97e318e6d9b4764bad5d93952ee64d8",
       "version_major": 2,
       "version_minor": 0
      },
      "text/plain": [
       "Validation: |          | 0/? [00:00<?, ?it/s]"
      ]
     },
     "metadata": {},
     "output_type": "display_data"
    },
    {
     "data": {
      "application/vnd.jupyter.widget-view+json": {
       "model_id": "6da655b8e9654db4a3d3cd1ae850e76d",
       "version_major": 2,
       "version_minor": 0
      },
      "text/plain": [
       "Validation: |          | 0/? [00:00<?, ?it/s]"
      ]
     },
     "metadata": {},
     "output_type": "display_data"
    },
    {
     "data": {
      "application/vnd.jupyter.widget-view+json": {
       "model_id": "6b5591c3ead44fba92c24e21b9768b2c",
       "version_major": 2,
       "version_minor": 0
      },
      "text/plain": [
       "Validation: |          | 0/? [00:00<?, ?it/s]"
      ]
     },
     "metadata": {},
     "output_type": "display_data"
    },
    {
     "data": {
      "application/vnd.jupyter.widget-view+json": {
       "model_id": "1f1fe2b0e50c45fa856ad52c9a84f553",
       "version_major": 2,
       "version_minor": 0
      },
      "text/plain": [
       "Validation: |          | 0/? [00:00<?, ?it/s]"
      ]
     },
     "metadata": {},
     "output_type": "display_data"
    },
    {
     "data": {
      "application/vnd.jupyter.widget-view+json": {
       "model_id": "bfa68d8b12564fcbbe2c4f40a9e863b8",
       "version_major": 2,
       "version_minor": 0
      },
      "text/plain": [
       "Validation: |          | 0/? [00:00<?, ?it/s]"
      ]
     },
     "metadata": {},
     "output_type": "display_data"
    },
    {
     "data": {
      "application/vnd.jupyter.widget-view+json": {
       "model_id": "4e623e95282c489fa40e663d9aa1f1d9",
       "version_major": 2,
       "version_minor": 0
      },
      "text/plain": [
       "Validation: |          | 0/? [00:00<?, ?it/s]"
      ]
     },
     "metadata": {},
     "output_type": "display_data"
    },
    {
     "data": {
      "application/vnd.jupyter.widget-view+json": {
       "model_id": "2bcc76f50d794e90ad75d5e15a89e121",
       "version_major": 2,
       "version_minor": 0
      },
      "text/plain": [
       "Validation: |          | 0/? [00:00<?, ?it/s]"
      ]
     },
     "metadata": {},
     "output_type": "display_data"
    },
    {
     "data": {
      "application/vnd.jupyter.widget-view+json": {
       "model_id": "a2b3196bf8424c279d516bd8ad5a2e44",
       "version_major": 2,
       "version_minor": 0
      },
      "text/plain": [
       "Validation: |          | 0/? [00:00<?, ?it/s]"
      ]
     },
     "metadata": {},
     "output_type": "display_data"
    },
    {
     "data": {
      "application/vnd.jupyter.widget-view+json": {
       "model_id": "e1561e831555408881a65bd2a6a41a34",
       "version_major": 2,
       "version_minor": 0
      },
      "text/plain": [
       "Validation: |          | 0/? [00:00<?, ?it/s]"
      ]
     },
     "metadata": {},
     "output_type": "display_data"
    },
    {
     "data": {
      "application/vnd.jupyter.widget-view+json": {
       "model_id": "662410f2d325475cb8bc6ebc2e08a0f5",
       "version_major": 2,
       "version_minor": 0
      },
      "text/plain": [
       "Validation: |          | 0/? [00:00<?, ?it/s]"
      ]
     },
     "metadata": {},
     "output_type": "display_data"
    },
    {
     "data": {
      "application/vnd.jupyter.widget-view+json": {
       "model_id": "65f46fc3297742c3a20561a55cb3bdc1",
       "version_major": 2,
       "version_minor": 0
      },
      "text/plain": [
       "Validation: |          | 0/? [00:00<?, ?it/s]"
      ]
     },
     "metadata": {},
     "output_type": "display_data"
    },
    {
     "data": {
      "application/vnd.jupyter.widget-view+json": {
       "model_id": "0bccfe25389d46e8aea3681a4d284df7",
       "version_major": 2,
       "version_minor": 0
      },
      "text/plain": [
       "Validation: |          | 0/? [00:00<?, ?it/s]"
      ]
     },
     "metadata": {},
     "output_type": "display_data"
    },
    {
     "data": {
      "application/vnd.jupyter.widget-view+json": {
       "model_id": "4776f0faa66041668d77751f9f348a39",
       "version_major": 2,
       "version_minor": 0
      },
      "text/plain": [
       "Validation: |          | 0/? [00:00<?, ?it/s]"
      ]
     },
     "metadata": {},
     "output_type": "display_data"
    },
    {
     "data": {
      "application/vnd.jupyter.widget-view+json": {
       "model_id": "2ef93cae049a41c9b208d1a6e12d3cc8",
       "version_major": 2,
       "version_minor": 0
      },
      "text/plain": [
       "Validation: |          | 0/? [00:00<?, ?it/s]"
      ]
     },
     "metadata": {},
     "output_type": "display_data"
    },
    {
     "data": {
      "application/vnd.jupyter.widget-view+json": {
       "model_id": "0463f1a798784a80a11d79b7541c4109",
       "version_major": 2,
       "version_minor": 0
      },
      "text/plain": [
       "Validation: |          | 0/? [00:00<?, ?it/s]"
      ]
     },
     "metadata": {},
     "output_type": "display_data"
    },
    {
     "data": {
      "application/vnd.jupyter.widget-view+json": {
       "model_id": "9d7d29d1af864f36b528cb89fe8ad2f2",
       "version_major": 2,
       "version_minor": 0
      },
      "text/plain": [
       "Validation: |          | 0/? [00:00<?, ?it/s]"
      ]
     },
     "metadata": {},
     "output_type": "display_data"
    },
    {
     "data": {
      "application/vnd.jupyter.widget-view+json": {
       "model_id": "01f42b632a9c427cbf05890a7c7a73c2",
       "version_major": 2,
       "version_minor": 0
      },
      "text/plain": [
       "Validation: |          | 0/? [00:00<?, ?it/s]"
      ]
     },
     "metadata": {},
     "output_type": "display_data"
    },
    {
     "data": {
      "application/vnd.jupyter.widget-view+json": {
       "model_id": "0bcc3a2c6c6c48008d9a2fcb459bf39b",
       "version_major": 2,
       "version_minor": 0
      },
      "text/plain": [
       "Validation: |          | 0/? [00:00<?, ?it/s]"
      ]
     },
     "metadata": {},
     "output_type": "display_data"
    },
    {
     "name": "stderr",
     "output_type": "stream",
     "text": [
      "`Trainer.fit` stopped: `max_epochs=100` reached.\n"
     ]
    }
   ],
   "source": [
    "from lightning.pytorch.loggers import CSVLogger\n",
    "from lightning.pytorch.callbacks import LearningRateMonitor\n",
    "\n",
    "# CSVLogger writes metrics.csv under logs/lr_run/\n",
    "csv_logger = CSVLogger(save_dir=\"logs/\", name=\"lr_run\")\n",
    "lr_monitor = LearningRateMonitor(logging_interval='epoch')\n",
    "\n",
    "trainer = pl.Trainer(\n",
    "    logger=csv_logger,            # <-- use CSVLogger\n",
    "    enable_checkpointing=True,\n",
    "    enable_progress_bar=True,\n",
    "    accelerator=\"auto\",\n",
    "    devices=1,\n",
    "    max_epochs=100,\n",
    "    # profiler='simple',\n",
    "\n",
    "    callbacks=[loss_history, lr_monitor],\n",
    ")\n",
    "trainer.fit(mcmpnn, train_loader, val_loader)"
   ]
  },
  {
   "cell_type": "code",
   "execution_count": 37,
   "id": "270c6d9a",
   "metadata": {},
   "outputs": [
    {
     "name": "stderr",
     "output_type": "stream",
     "text": [
      "/home/calvin/miniforge3/envs/habnet_env/lib/python3.12/site-packages/lightning/pytorch/trainer/connectors/data_connector.py:425: The 'test_dataloader' does not have many workers which may be a bottleneck. Consider increasing the value of the `num_workers` argument` to `num_workers=19` in the `DataLoader` to improve performance.\n"
     ]
    },
    {
     "data": {
      "application/vnd.jupyter.widget-view+json": {
       "model_id": "bd67fd590f0c40c4a0b2b76f1ffaa204",
       "version_major": 2,
       "version_minor": 0
      },
      "text/plain": [
       "Testing: |          | 0/? [00:00<?, ?it/s]"
      ]
     },
     "metadata": {},
     "output_type": "display_data"
    },
    {
     "data": {
      "text/html": [
       "<pre style=\"white-space:pre;overflow-x:auto;line-height:normal;font-family:Menlo,'DejaVu Sans Mono',consolas,'Courier New',monospace\">┏━━━━━━━━━━━━━━━━━━━━━━━━━━━┳━━━━━━━━━━━━━━━━━━━━━━━━━━━┓\n",
       "┃<span style=\"font-weight: bold\">        Test metric        </span>┃<span style=\"font-weight: bold\">       DataLoader 0        </span>┃\n",
       "┡━━━━━━━━━━━━━━━━━━━━━━━━━━━╇━━━━━━━━━━━━━━━━━━━━━━━━━━━┩\n",
       "│<span style=\"color: #008080; text-decoration-color: #008080\">   test/mean_cosine_loss   </span>│<span style=\"color: #800080; text-decoration-color: #800080\">     0.599133312702179     </span>│\n",
       "│<span style=\"color: #008080; text-decoration-color: #008080\">     test/val_maae_deg     </span>│<span style=\"color: #800080; text-decoration-color: #800080\">     58.87290954589844     </span>│\n",
       "└───────────────────────────┴───────────────────────────┘\n",
       "</pre>\n"
      ],
      "text/plain": [
       "┏━━━━━━━━━━━━━━━━━━━━━━━━━━━┳━━━━━━━━━━━━━━━━━━━━━━━━━━━┓\n",
       "┃\u001b[1m \u001b[0m\u001b[1m       Test metric       \u001b[0m\u001b[1m \u001b[0m┃\u001b[1m \u001b[0m\u001b[1m      DataLoader 0       \u001b[0m\u001b[1m \u001b[0m┃\n",
       "┡━━━━━━━━━━━━━━━━━━━━━━━━━━━╇━━━━━━━━━━━━━━━━━━━━━━━━━━━┩\n",
       "│\u001b[36m \u001b[0m\u001b[36m  test/mean_cosine_loss  \u001b[0m\u001b[36m \u001b[0m│\u001b[35m \u001b[0m\u001b[35m    0.599133312702179    \u001b[0m\u001b[35m \u001b[0m│\n",
       "│\u001b[36m \u001b[0m\u001b[36m    test/val_maae_deg    \u001b[0m\u001b[36m \u001b[0m│\u001b[35m \u001b[0m\u001b[35m    58.87290954589844    \u001b[0m\u001b[35m \u001b[0m│\n",
       "└───────────────────────────┴───────────────────────────┘\n"
      ]
     },
     "metadata": {},
     "output_type": "display_data"
    },
    {
     "data": {
      "text/plain": [
       "[{'test/mean_cosine_loss': 0.599133312702179,\n",
       "  'test/val_maae_deg': 58.87290954589844}]"
      ]
     },
     "execution_count": 37,
     "metadata": {},
     "output_type": "execute_result"
    }
   ],
   "source": [
    "trainer.test(mcmpnn, test_loader)"
   ]
  },
  {
   "cell_type": "code",
   "execution_count": 38,
   "id": "6602523b",
   "metadata": {},
   "outputs": [
    {
     "data": {
      "image/png": "[encoded data removed]",
      "text/plain": [
       "<Figure size 1200x500 with 1 Axes>"
      ]
     },
     "metadata": {},
     "output_type": "display_data"
    }
   ],
   "source": [
    "import matplotlib.pyplot as plt\n",
    "\n",
    "train_losses = loss_history.train_losses\n",
    "# Need to drop the first value as it a sanity check\n",
    "val_losses = loss_history.val_losses[1:]\n",
    "\n",
    "assert len(train_losses) == len(val_losses), (\n",
    "    f\"Lengths now match: train={len(train_losses)}, val={len(val_losses)}\"\n",
    ")\n",
    "\n",
    "epochs = range(1, len(train_losses) + 1)\n",
    "\n",
    "plt.figure(figsize=(12,5))\n",
    "plt.plot(epochs, train_losses, label='Train Loss', marker='o')\n",
    "plt.plot(epochs, val_losses,   label='Validation Loss', marker='s')\n",
    "plt.xlabel('Epoch')\n",
    "plt.ylabel('Loss')\n",
    "plt.title('Loss vs. Epoch')\n",
    "plt.xticks(epochs)\n",
    "# Rotate x-ticks for better visibility\n",
    "plt.xticks(rotation=45)\n",
    "plt.legend()\n",
    "plt.grid(True)\n",
    "plt.tight_layout()\n",
    "plt.show()\n"
   ]
  },
  {
   "cell_type": "code",
   "execution_count": null,
   "id": "e3ac4b3a",
   "metadata": {},
   "outputs": [],
   "source": []
  }
 ],
 "metadata": {
  "kernelspec": {
   "display_name": "habnet_env",
   "language": "python",
   "name": "python3"
  },
  "language_info": {
   "codemirror_mode": {
    "name": "ipython",
    "version": 3
   },
   "file_extension": ".py",
   "mimetype": "text/x-python",
   "name": "python",
   "nbconvert_exporter": "python",
   "pygments_lexer": "ipython3",
   "version": "3.12.8"
  }
 },
 "nbformat": 4,
 "nbformat_minor": 5
}
