{
 "cells": [
  {
   "cell_type": "code",
   "execution_count": 55,
   "id": "8267a8f6",
   "metadata": {},
   "outputs": [
    {
     "name": "stdout",
     "output_type": "stream",
     "text": [
      "The autoreload extension is already loaded. To reload it, use:\n",
      "  %reload_ext autoreload\n"
     ]
    }
   ],
   "source": [
    "%load_ext autoreload\n",
    "%autoreload 2"
   ]
  },
  {
   "cell_type": "code",
   "execution_count": 56,
   "id": "c463b312",
   "metadata": {},
   "outputs": [
    {
     "name": "stderr",
     "output_type": "stream",
     "text": [
      "Seed set to 42\n"
     ]
    },
    {
     "data": {
      "text/plain": [
       "42"
      ]
     },
     "execution_count": 56,
     "metadata": {},
     "output_type": "execute_result"
    }
   ],
   "source": [
    "import os\n",
    "from habnet.featuriser.featurise import Featuriser, MOL_TYPES\n",
    "from habnet.featuriser.habnet_featurizer import AtomHAbNetFeaturizer\n",
    "from chemprop import data, featurizers, nn\n",
    "from chemprop.nn import metrics\n",
    "from chemprop.models import multi\n",
    "from chemprop.nn.metrics import MSE\n",
    "from lightning import pytorch as pl\n",
    "from chemprop.featurizers import MorganBinaryFeaturizer\n",
    "# Logging setup\n",
    "from lightning import pytorch as pl\n",
    "pl.seed_everything(42)  # For reproducibility"
   ]
  },
  {
   "cell_type": "code",
   "execution_count": 57,
   "id": "50ea96e8",
   "metadata": {},
   "outputs": [],
   "source": [
    "sdf_path = '/home/calvin/code/chemprop_phd_customised/habnet/data/processed/sdf_data'\n",
    "target_data = '/home/calvin/code/chemprop_phd_customised/habnet/data/processed/target_data/delta_E0.csv'\n",
    "assert os.path.exists(sdf_path), f\"SDF path does not exist: {sdf_path}\"\n",
    "assert os.path.exists(target_data), f\"Target data file does not exist: {target_data}\"\n"
   ]
  },
  {
   "cell_type": "code",
   "execution_count": 58,
   "id": "f34acaeb",
   "metadata": {},
   "outputs": [
    {
     "data": {
      "application/vnd.microsoft.datawrangler.viewer.v0+json": {
       "columns": [
        {
         "name": "index",
         "rawType": "int64",
         "type": "integer"
        },
        {
         "name": "rxn",
         "rawType": "object",
         "type": "string"
        },
        {
         "name": "direction",
         "rawType": "object",
         "type": "string"
        },
        {
         "name": "E0_total",
         "rawType": "float64",
         "type": "float"
        },
        {
         "name": "E0_TS0",
         "rawType": "float64",
         "type": "float"
        },
        {
         "name": "delta_E0",
         "rawType": "float64",
         "type": "float"
        }
       ],
       "ref": "9c51d49b-fc69-467c-a0db-d3fc2a173483",
       "rows": [
        [
         "0",
         "rmg_rxn_10",
         "forward",
         "-1802085.0",
         "-1802060.0",
         "25.0"
        ],
        [
         "1",
         "rmg_rxn_10",
         "reverse",
         "-1802170.0",
         "-1802060.0",
         "110.0"
        ],
        [
         "2",
         "rmg_rxn_1041",
         "forward",
         "-1096169.0",
         "-1096190.0",
         "-21.0"
        ],
        [
         "3",
         "rmg_rxn_1041",
         "reverse",
         "-1096394.0",
         "-1096190.0",
         "204.0"
        ],
        [
         "4",
         "rmg_rxn_1044",
         "forward",
         "-1749798.0",
         "-1749810.0",
         "-12.0"
        ],
        [
         "5",
         "rmg_rxn_1044",
         "reverse",
         "-1750037.0",
         "-1749810.0",
         "227.0"
        ],
        [
         "6",
         "rmg_rxn_1046",
         "forward",
         "-837495.0",
         "-837507.0",
         "-12.0"
        ],
        [
         "7",
         "rmg_rxn_1046",
         "reverse",
         "-837743.0",
         "-837507.0",
         "236.0"
        ],
        [
         "8",
         "rmg_rxn_1054",
         "forward",
         "-1543558.0",
         "-1543510.0",
         "48.0"
        ],
        [
         "9",
         "rmg_rxn_1054",
         "reverse",
         "-1543747.0",
         "-1543510.0",
         "237.0"
        ],
        [
         "10",
         "rmg_rxn_1066",
         "forward",
         "-734478.0",
         "-734421.0",
         "57.0"
        ],
        [
         "11",
         "rmg_rxn_1066",
         "reverse",
         "-734586.0",
         "-734421.0",
         "165.0"
        ],
        [
         "12",
         "rmg_rxn_1067",
         "forward",
         "-901783.0",
         "-901805.0",
         "-22.0"
        ],
        [
         "13",
         "rmg_rxn_1067",
         "reverse",
         "-902039.0",
         "-901805.0",
         "234.0"
        ],
        [
         "14",
         "rmg_rxn_1069",
         "forward",
         "-901803.0",
         "-901819.0",
         "-16.0"
        ],
        [
         "15",
         "rmg_rxn_1069",
         "reverse",
         "-902026.0",
         "-901819.0",
         "207.0"
        ],
        [
         "16",
         "rmg_rxn_1129",
         "forward",
         "-642819.0",
         "-642810.0",
         "9.0"
        ],
        [
         "17",
         "rmg_rxn_1129",
         "reverse",
         "-642967.0",
         "-642810.0",
         "157.0"
        ],
        [
         "18",
         "rmg_rxn_1130",
         "forward",
         "-197099.0",
         null,
         null
        ],
        [
         "19",
         "rmg_rxn_1130",
         "reverse",
         "-606461.0",
         null,
         null
        ],
        [
         "20",
         "rmg_rxn_1134",
         "forward",
         "-509659.0",
         "-509647.0",
         "12.0"
        ],
        [
         "21",
         "rmg_rxn_1134",
         "reverse",
         "-509664.0",
         "-509647.0",
         "17.0"
        ],
        [
         "22",
         "rmg_rxn_1137",
         "forward",
         "-746038.0",
         "-745995.0",
         "43.0"
        ],
        [
         "23",
         "rmg_rxn_1137",
         "reverse",
         "-746132.0",
         "-745995.0",
         "137.0"
        ],
        [
         "24",
         "rmg_rxn_1141",
         "forward",
         "-810263.0",
         "-810270.0",
         "-7.0"
        ],
        [
         "25",
         "rmg_rxn_1141",
         "reverse",
         "-810295.0",
         "-810270.0",
         "25.0"
        ],
        [
         "26",
         "rmg_rxn_1142",
         "forward",
         "-612810.0",
         "-612799.0",
         "11.0"
        ],
        [
         "27",
         "rmg_rxn_1142",
         "reverse",
         "-612816.0",
         "-612799.0",
         "17.0"
        ],
        [
         "28",
         "rmg_rxn_1146",
         "forward",
         "-1245689.0",
         "-1245690.0",
         "-1.0"
        ],
        [
         "29",
         "rmg_rxn_1146",
         "reverse",
         "-1245736.0",
         "-1245690.0",
         "46.0"
        ],
        [
         "30",
         "rmg_rxn_1147",
         "forward",
         "-545535.0",
         "-545506.0",
         "29.0"
        ],
        [
         "31",
         "rmg_rxn_1147",
         "reverse",
         "-545565.0",
         "-545506.0",
         "59.0"
        ],
        [
         "32",
         "rmg_rxn_1148",
         "forward",
         "-788122.0",
         "-788087.0",
         "35.0"
        ],
        [
         "33",
         "rmg_rxn_1148",
         "reverse",
         "-788137.0",
         "-788087.0",
         "50.0"
        ],
        [
         "34",
         "rmg_rxn_1150",
         "forward",
         "-788122.0",
         "-788108.0",
         "14.0"
        ],
        [
         "35",
         "rmg_rxn_1150",
         "reverse",
         "-788152.0",
         "-788108.0",
         "44.0"
        ],
        [
         "36",
         "rmg_rxn_1152",
         "forward",
         "-913427.0",
         "-913409.0",
         "18.0"
        ],
        [
         "37",
         "rmg_rxn_1152",
         "reverse",
         "-913427.0",
         "-913409.0",
         "18.0"
        ],
        [
         "38",
         "rmg_rxn_1153",
         "forward",
         "-603992.0",
         "-603980.0",
         "12.0"
        ],
        [
         "39",
         "rmg_rxn_1153",
         "reverse",
         "-603993.0",
         "-603980.0",
         "13.0"
        ],
        [
         "40",
         "rmg_rxn_1154",
         "forward",
         "-745977.0",
         "-745956.0",
         "21.0"
        ],
        [
         "41",
         "rmg_rxn_1154",
         "reverse",
         "-745985.0",
         "-745956.0",
         "29.0"
        ],
        [
         "42",
         "rmg_rxn_1155",
         "forward",
         "-1004635.0",
         "-1004620.0",
         "15.0"
        ],
        [
         "43",
         "rmg_rxn_1155",
         "reverse",
         "-1004642.0",
         "-1004620.0",
         "22.0"
        ],
        [
         "44",
         "rmg_rxn_1156",
         "forward",
         "-913427.0",
         "-913419.0",
         "8.0"
        ],
        [
         "45",
         "rmg_rxn_1156",
         "reverse",
         "-913443.0",
         "-913419.0",
         "24.0"
        ],
        [
         "46",
         "rmg_rxn_1157",
         "forward",
         "-913427.0",
         "-913418.0",
         "9.0"
        ],
        [
         "47",
         "rmg_rxn_1157",
         "reverse",
         "-913431.0",
         "-913418.0",
         "13.0"
        ],
        [
         "48",
         "rmg_rxn_1160",
         "forward",
         "-810276.0",
         "-810260.0",
         "16.0"
        ],
        [
         "49",
         "rmg_rxn_1160",
         "reverse",
         "-810275.0",
         "-810260.0",
         "15.0"
        ]
       ],
       "shape": {
        "columns": 5,
        "rows": 4293
       }
      },
      "text/html": [
       "<div>\n",
       "<style scoped>\n",
       "    .dataframe tbody tr th:only-of-type {\n",
       "        vertical-align: middle;\n",
       "    }\n",
       "\n",
       "    .dataframe tbody tr th {\n",
       "        vertical-align: top;\n",
       "    }\n",
       "\n",
       "    .dataframe thead th {\n",
       "        text-align: right;\n",
       "    }\n",
       "</style>\n",
       "<table border=\"1\" class=\"dataframe\">\n",
       "  <thead>\n",
       "    <tr style=\"text-align: right;\">\n",
       "      <th></th>\n",
       "      <th>rxn</th>\n",
       "      <th>direction</th>\n",
       "      <th>E0_total</th>\n",
       "      <th>E0_TS0</th>\n",
       "      <th>delta_E0</th>\n",
       "    </tr>\n",
       "  </thead>\n",
       "  <tbody>\n",
       "    <tr>\n",
       "      <th>0</th>\n",
       "      <td>rmg_rxn_10</td>\n",
       "      <td>forward</td>\n",
       "      <td>-1802085.0</td>\n",
       "      <td>-1802060.0</td>\n",
       "      <td>25.0</td>\n",
       "    </tr>\n",
       "    <tr>\n",
       "      <th>1</th>\n",
       "      <td>rmg_rxn_10</td>\n",
       "      <td>reverse</td>\n",
       "      <td>-1802170.0</td>\n",
       "      <td>-1802060.0</td>\n",
       "      <td>110.0</td>\n",
       "    </tr>\n",
       "    <tr>\n",
       "      <th>2</th>\n",
       "      <td>rmg_rxn_1041</td>\n",
       "      <td>forward</td>\n",
       "      <td>-1096169.0</td>\n",
       "      <td>-1096190.0</td>\n",
       "      <td>-21.0</td>\n",
       "    </tr>\n",
       "    <tr>\n",
       "      <th>3</th>\n",
       "      <td>rmg_rxn_1041</td>\n",
       "      <td>reverse</td>\n",
       "      <td>-1096394.0</td>\n",
       "      <td>-1096190.0</td>\n",
       "      <td>204.0</td>\n",
       "    </tr>\n",
       "    <tr>\n",
       "      <th>4</th>\n",
       "      <td>rmg_rxn_1044</td>\n",
       "      <td>forward</td>\n",
       "      <td>-1749798.0</td>\n",
       "      <td>-1749810.0</td>\n",
       "      <td>-12.0</td>\n",
       "    </tr>\n",
       "    <tr>\n",
       "      <th>...</th>\n",
       "      <td>...</td>\n",
       "      <td>...</td>\n",
       "      <td>...</td>\n",
       "      <td>...</td>\n",
       "      <td>...</td>\n",
       "    </tr>\n",
       "    <tr>\n",
       "      <th>4288</th>\n",
       "      <td>rxn_997</td>\n",
       "      <td>reverse</td>\n",
       "      <td>-517101.0</td>\n",
       "      <td>-517004.0</td>\n",
       "      <td>97.0</td>\n",
       "    </tr>\n",
       "    <tr>\n",
       "      <th>4289</th>\n",
       "      <td>rxn_998</td>\n",
       "      <td>forward</td>\n",
       "      <td>-620207.0</td>\n",
       "      <td>-620167.0</td>\n",
       "      <td>40.0</td>\n",
       "    </tr>\n",
       "    <tr>\n",
       "      <th>4290</th>\n",
       "      <td>rxn_998</td>\n",
       "      <td>reverse</td>\n",
       "      <td>-620251.0</td>\n",
       "      <td>-620167.0</td>\n",
       "      <td>84.0</td>\n",
       "    </tr>\n",
       "    <tr>\n",
       "      <th>4291</th>\n",
       "      <td>rxn_999</td>\n",
       "      <td>forward</td>\n",
       "      <td>-723373.0</td>\n",
       "      <td>-723334.0</td>\n",
       "      <td>39.0</td>\n",
       "    </tr>\n",
       "    <tr>\n",
       "      <th>4292</th>\n",
       "      <td>rxn_999</td>\n",
       "      <td>reverse</td>\n",
       "      <td>-723407.0</td>\n",
       "      <td>-723334.0</td>\n",
       "      <td>73.0</td>\n",
       "    </tr>\n",
       "  </tbody>\n",
       "</table>\n",
       "<p>4293 rows × 5 columns</p>\n",
       "</div>"
      ],
      "text/plain": [
       "               rxn direction   E0_total     E0_TS0  delta_E0\n",
       "0       rmg_rxn_10   forward -1802085.0 -1802060.0      25.0\n",
       "1       rmg_rxn_10   reverse -1802170.0 -1802060.0     110.0\n",
       "2     rmg_rxn_1041   forward -1096169.0 -1096190.0     -21.0\n",
       "3     rmg_rxn_1041   reverse -1096394.0 -1096190.0     204.0\n",
       "4     rmg_rxn_1044   forward -1749798.0 -1749810.0     -12.0\n",
       "...            ...       ...        ...        ...       ...\n",
       "4288       rxn_997   reverse  -517101.0  -517004.0      97.0\n",
       "4289       rxn_998   forward  -620207.0  -620167.0      40.0\n",
       "4290       rxn_998   reverse  -620251.0  -620167.0      84.0\n",
       "4291       rxn_999   forward  -723373.0  -723334.0      39.0\n",
       "4292       rxn_999   reverse  -723407.0  -723334.0      73.0\n",
       "\n",
       "[4293 rows x 5 columns]"
      ]
     },
     "execution_count": 58,
     "metadata": {},
     "output_type": "execute_result"
    }
   ],
   "source": [
    "import pandas as pd\n",
    "pd.read_csv(target_data)"
   ]
  },
  {
   "cell_type": "code",
   "execution_count": 59,
   "id": "c667648f",
   "metadata": {},
   "outputs": [
    {
     "data": {
      "application/vnd.microsoft.datawrangler.viewer.v0+json": {
       "columns": [
        {
         "name": "index",
         "rawType": "object",
         "type": "string"
        },
        {
         "name": "E0_total",
         "rawType": "float64",
         "type": "float"
        },
        {
         "name": "E0_TS0",
         "rawType": "float64",
         "type": "float"
        },
        {
         "name": "delta_E0",
         "rawType": "float64",
         "type": "float"
        }
       ],
       "ref": "07c5f039-d4f5-4d44-aa34-0e006beb9dd5",
       "rows": [
        [
         "count",
         "2147.0",
         "2037.0",
         "2037.0"
        ],
        [
         "mean",
         "-1235056.1286679087",
         "-1259491.7569955818",
         "41.93532155130086"
        ],
        [
         "std",
         "864177.2373623452",
         "876766.996283823",
         "38.30637598516855"
        ],
        [
         "min",
         "-21600565.0",
         "-21600600.0",
         "-212.0"
        ],
        [
         "25%",
         "-1562607.0",
         "-1615020.0",
         "18.0"
        ],
        [
         "50%",
         "-1074185.0",
         "-1113430.0",
         "37.0"
        ],
        [
         "75%",
         "-805686.0",
         "-816803.0",
         "62.0"
        ],
        [
         "max",
         "-107582.16",
         "-107537.0",
         "262.0"
        ]
       ],
       "shape": {
        "columns": 3,
        "rows": 8
       }
      },
      "text/html": [
       "<div>\n",
       "<style scoped>\n",
       "    .dataframe tbody tr th:only-of-type {\n",
       "        vertical-align: middle;\n",
       "    }\n",
       "\n",
       "    .dataframe tbody tr th {\n",
       "        vertical-align: top;\n",
       "    }\n",
       "\n",
       "    .dataframe thead th {\n",
       "        text-align: right;\n",
       "    }\n",
       "</style>\n",
       "<table border=\"1\" class=\"dataframe\">\n",
       "  <thead>\n",
       "    <tr style=\"text-align: right;\">\n",
       "      <th></th>\n",
       "      <th>E0_total</th>\n",
       "      <th>E0_TS0</th>\n",
       "      <th>delta_E0</th>\n",
       "    </tr>\n",
       "  </thead>\n",
       "  <tbody>\n",
       "    <tr>\n",
       "      <th>count</th>\n",
       "      <td>2.147000e+03</td>\n",
       "      <td>2.037000e+03</td>\n",
       "      <td>2037.000000</td>\n",
       "    </tr>\n",
       "    <tr>\n",
       "      <th>mean</th>\n",
       "      <td>-1.235056e+06</td>\n",
       "      <td>-1.259492e+06</td>\n",
       "      <td>41.935322</td>\n",
       "    </tr>\n",
       "    <tr>\n",
       "      <th>std</th>\n",
       "      <td>8.641772e+05</td>\n",
       "      <td>8.767670e+05</td>\n",
       "      <td>38.306376</td>\n",
       "    </tr>\n",
       "    <tr>\n",
       "      <th>min</th>\n",
       "      <td>-2.160056e+07</td>\n",
       "      <td>-2.160060e+07</td>\n",
       "      <td>-212.000000</td>\n",
       "    </tr>\n",
       "    <tr>\n",
       "      <th>25%</th>\n",
       "      <td>-1.562607e+06</td>\n",
       "      <td>-1.615020e+06</td>\n",
       "      <td>18.000000</td>\n",
       "    </tr>\n",
       "    <tr>\n",
       "      <th>50%</th>\n",
       "      <td>-1.074185e+06</td>\n",
       "      <td>-1.113430e+06</td>\n",
       "      <td>37.000000</td>\n",
       "    </tr>\n",
       "    <tr>\n",
       "      <th>75%</th>\n",
       "      <td>-8.056860e+05</td>\n",
       "      <td>-8.168030e+05</td>\n",
       "      <td>62.000000</td>\n",
       "    </tr>\n",
       "    <tr>\n",
       "      <th>max</th>\n",
       "      <td>-1.075822e+05</td>\n",
       "      <td>-1.075370e+05</td>\n",
       "      <td>262.000000</td>\n",
       "    </tr>\n",
       "  </tbody>\n",
       "</table>\n",
       "</div>"
      ],
      "text/plain": [
       "           E0_total        E0_TS0     delta_E0\n",
       "count  2.147000e+03  2.037000e+03  2037.000000\n",
       "mean  -1.235056e+06 -1.259492e+06    41.935322\n",
       "std    8.641772e+05  8.767670e+05    38.306376\n",
       "min   -2.160056e+07 -2.160060e+07  -212.000000\n",
       "25%   -1.562607e+06 -1.615020e+06    18.000000\n",
       "50%   -1.074185e+06 -1.113430e+06    37.000000\n",
       "75%   -8.056860e+05 -8.168030e+05    62.000000\n",
       "max   -1.075822e+05 -1.075370e+05   262.000000"
      ]
     },
     "execution_count": 59,
     "metadata": {},
     "output_type": "execute_result"
    }
   ],
   "source": [
    "target_data_pd = pd.read_csv(target_data)\n",
    "target_data_pd[target_data_pd['direction'] == 'forward'].describe()"
   ]
  },
  {
   "cell_type": "code",
   "execution_count": 60,
   "id": "91fd7127",
   "metadata": {},
   "outputs": [
    {
     "data": {
      "application/vnd.microsoft.datawrangler.viewer.v0+json": {
       "columns": [
        {
         "name": "index",
         "rawType": "int64",
         "type": "integer"
        },
        {
         "name": "rxn",
         "rawType": "object",
         "type": "string"
        },
        {
         "name": "direction",
         "rawType": "object",
         "type": "string"
        },
        {
         "name": "E0_total",
         "rawType": "float64",
         "type": "float"
        },
        {
         "name": "E0_TS0",
         "rawType": "float64",
         "type": "float"
        },
        {
         "name": "delta_E0",
         "rawType": "float64",
         "type": "float"
        }
       ],
       "ref": "bc2858b2-eb76-4357-88c9-517f818a6d58",
       "rows": [
        [
         "18",
         "rmg_rxn_1130",
         "forward",
         "-197099.0",
         null,
         null
        ],
        [
         "68",
         "rmg_rxn_1221",
         "forward",
         "-737181.0",
         null,
         null
        ],
        [
         "72",
         "rmg_rxn_1337",
         "forward",
         "-1116589.0",
         null,
         null
        ],
        [
         "112",
         "rmg_rxn_13876",
         "forward",
         "-718363.0",
         null,
         null
        ],
        [
         "142",
         "rmg_rxn_13918",
         "forward",
         "-1020752.0",
         null,
         null
        ],
        [
         "148",
         "rmg_rxn_13935",
         "forward",
         "-1215110.0",
         null,
         null
        ],
        [
         "162",
         "rmg_rxn_13979",
         "forward",
         "-1215048.0",
         null,
         null
        ],
        [
         "192",
         "rmg_rxn_14",
         "forward",
         "-1563946.0",
         null,
         null
        ],
        [
         "202",
         "rmg_rxn_14013",
         "forward",
         "-718363.0",
         null,
         null
        ],
        [
         "222",
         "rmg_rxn_14034",
         "forward",
         "-409297.0",
         null,
         null
        ],
        [
         "232",
         "rmg_rxn_14043",
         "forward",
         "-409297.0",
         null,
         null
        ],
        [
         "332",
         "rmg_rxn_14165",
         "forward",
         "-718363.0",
         null,
         null
        ],
        [
         "350",
         "rmg_rxn_14186",
         "forward",
         "-409297.0",
         null,
         null
        ],
        [
         "360",
         "rmg_rxn_14195",
         "forward",
         "-409297.0",
         null,
         null
        ],
        [
         "370",
         "rmg_rxn_14206",
         "forward",
         "-1020728.0",
         null,
         null
        ],
        [
         "372",
         "rmg_rxn_14207",
         "forward",
         "-1020752.0",
         null,
         null
        ],
        [
         "382",
         "rmg_rxn_1450",
         "forward",
         "-807618.0",
         null,
         null
        ],
        [
         "392",
         "rmg_rxn_1454",
         "forward",
         "-807618.0",
         null,
         null
        ],
        [
         "428",
         "rmg_rxn_1496",
         "forward",
         "-796976.0",
         null,
         null
        ],
        [
         "432",
         "rmg_rxn_15",
         "forward",
         "-1770246.0",
         null,
         null
        ],
        [
         "438",
         "rmg_rxn_151",
         "forward",
         "-1025393.0",
         null,
         null
        ],
        [
         "446",
         "rmg_rxn_1525",
         "forward",
         "-487910.0",
         null,
         null
        ],
        [
         "452",
         "rmg_rxn_1532",
         "forward",
         "-487910.0",
         null,
         null
        ],
        [
         "456",
         "rmg_rxn_15371",
         "forward",
         "-754831.0",
         null,
         null
        ],
        [
         "490",
         "rmg_rxn_15397",
         "forward",
         "-756565.0",
         null,
         null
        ],
        [
         "520",
         "rmg_rxn_15418",
         "forward",
         "-850898.0",
         null,
         null
        ],
        [
         "648",
         "rmg_rxn_15565",
         "forward",
         "-857949.0",
         null,
         null
        ],
        [
         "686",
         "rmg_rxn_15591",
         "forward",
         "-548883.0",
         null,
         null
        ],
        [
         "720",
         "rmg_rxn_15612",
         "forward",
         "-548883.0",
         null,
         null
        ],
        [
         "868",
         "rmg_rxn_16465",
         "forward",
         "-1066130.0",
         null,
         null
        ],
        [
         "892",
         "rmg_rxn_16491",
         "forward",
         "-660601.0",
         null,
         null
        ],
        [
         "920",
         "rmg_rxn_16513",
         "forward",
         "-351535.0",
         null,
         null
        ],
        [
         "930",
         "rmg_rxn_16522",
         "forward",
         "-351535.0",
         null,
         null
        ],
        [
         "1064",
         "rmg_rxn_16791",
         "forward",
         "-349752.0",
         null,
         null
        ],
        [
         "1092",
         "rmg_rxn_16809",
         "forward",
         "-1268670.0",
         null,
         null
        ],
        [
         "1094",
         "rmg_rxn_169",
         "forward",
         "-857944.0",
         null,
         null
        ],
        [
         "1122",
         "rmg_rxn_188",
         "forward",
         "-1116601.0",
         null,
         null
        ],
        [
         "1158",
         "rmg_rxn_2006",
         "forward",
         "-548899.0",
         null,
         null
        ],
        [
         "1164",
         "rmg_rxn_2010",
         "forward",
         "-548899.0",
         null,
         null
        ],
        [
         "1180",
         "rmg_rxn_207",
         "forward",
         "-1025393.0",
         null,
         null
        ],
        [
         "1186",
         "rmg_rxn_21",
         "forward",
         "-724777.0",
         null,
         null
        ],
        [
         "1216",
         "rmg_rxn_227",
         "forward",
         "-1025393.0",
         null,
         null
        ],
        [
         "1256",
         "rmg_rxn_248",
         "forward",
         "-1116601.0",
         null,
         null
        ],
        [
         "1294",
         "rmg_rxn_270",
         "forward",
         "-1025393.0",
         null,
         null
        ],
        [
         "1314",
         "rmg_rxn_28",
         "forward",
         "-724777.0",
         null,
         null
        ],
        [
         "1334",
         "rmg_rxn_293",
         "forward",
         "-819110.0",
         null,
         null
        ],
        [
         "1342",
         "rmg_rxn_3",
         "forward",
         "-718374.0",
         null,
         null
        ],
        [
         "1438",
         "rmg_rxn_36",
         "forward",
         "-1116601.0",
         null,
         null
        ],
        [
         "1442",
         "rmg_rxn_364",
         "forward",
         "-307594.0",
         null,
         null
        ],
        [
         "1452",
         "rmg_rxn_370",
         "forward",
         "-415711.0",
         null,
         null
        ]
       ],
       "shape": {
        "columns": 5,
        "rows": 110
       }
      },
      "text/html": [
       "<div>\n",
       "<style scoped>\n",
       "    .dataframe tbody tr th:only-of-type {\n",
       "        vertical-align: middle;\n",
       "    }\n",
       "\n",
       "    .dataframe tbody tr th {\n",
       "        vertical-align: top;\n",
       "    }\n",
       "\n",
       "    .dataframe thead th {\n",
       "        text-align: right;\n",
       "    }\n",
       "</style>\n",
       "<table border=\"1\" class=\"dataframe\">\n",
       "  <thead>\n",
       "    <tr style=\"text-align: right;\">\n",
       "      <th></th>\n",
       "      <th>rxn</th>\n",
       "      <th>direction</th>\n",
       "      <th>E0_total</th>\n",
       "      <th>E0_TS0</th>\n",
       "      <th>delta_E0</th>\n",
       "    </tr>\n",
       "  </thead>\n",
       "  <tbody>\n",
       "    <tr>\n",
       "      <th>18</th>\n",
       "      <td>rmg_rxn_1130</td>\n",
       "      <td>forward</td>\n",
       "      <td>-197099.0</td>\n",
       "      <td>NaN</td>\n",
       "      <td>NaN</td>\n",
       "    </tr>\n",
       "    <tr>\n",
       "      <th>68</th>\n",
       "      <td>rmg_rxn_1221</td>\n",
       "      <td>forward</td>\n",
       "      <td>-737181.0</td>\n",
       "      <td>NaN</td>\n",
       "      <td>NaN</td>\n",
       "    </tr>\n",
       "    <tr>\n",
       "      <th>72</th>\n",
       "      <td>rmg_rxn_1337</td>\n",
       "      <td>forward</td>\n",
       "      <td>-1116589.0</td>\n",
       "      <td>NaN</td>\n",
       "      <td>NaN</td>\n",
       "    </tr>\n",
       "    <tr>\n",
       "      <th>112</th>\n",
       "      <td>rmg_rxn_13876</td>\n",
       "      <td>forward</td>\n",
       "      <td>-718363.0</td>\n",
       "      <td>NaN</td>\n",
       "      <td>NaN</td>\n",
       "    </tr>\n",
       "    <tr>\n",
       "      <th>142</th>\n",
       "      <td>rmg_rxn_13918</td>\n",
       "      <td>forward</td>\n",
       "      <td>-1020752.0</td>\n",
       "      <td>NaN</td>\n",
       "      <td>NaN</td>\n",
       "    </tr>\n",
       "    <tr>\n",
       "      <th>...</th>\n",
       "      <td>...</td>\n",
       "      <td>...</td>\n",
       "      <td>...</td>\n",
       "      <td>...</td>\n",
       "      <td>...</td>\n",
       "    </tr>\n",
       "    <tr>\n",
       "      <th>3203</th>\n",
       "      <td>rxn_233</td>\n",
       "      <td>forward</td>\n",
       "      <td>-511413.0</td>\n",
       "      <td>NaN</td>\n",
       "      <td>NaN</td>\n",
       "    </tr>\n",
       "    <tr>\n",
       "      <th>3445</th>\n",
       "      <td>rxn_3330</td>\n",
       "      <td>forward</td>\n",
       "      <td>-542736.0</td>\n",
       "      <td>NaN</td>\n",
       "      <td>NaN</td>\n",
       "    </tr>\n",
       "    <tr>\n",
       "      <th>3555</th>\n",
       "      <td>rxn_42</td>\n",
       "      <td>forward</td>\n",
       "      <td>-198836.0</td>\n",
       "      <td>NaN</td>\n",
       "      <td>NaN</td>\n",
       "    </tr>\n",
       "    <tr>\n",
       "      <th>3675</th>\n",
       "      <td>rxn_52</td>\n",
       "      <td>forward</td>\n",
       "      <td>-1359460.0</td>\n",
       "      <td>NaN</td>\n",
       "      <td>NaN</td>\n",
       "    </tr>\n",
       "    <tr>\n",
       "      <th>4189</th>\n",
       "      <td>rxn_92</td>\n",
       "      <td>forward</td>\n",
       "      <td>-459226.0</td>\n",
       "      <td>NaN</td>\n",
       "      <td>NaN</td>\n",
       "    </tr>\n",
       "  </tbody>\n",
       "</table>\n",
       "<p>110 rows × 5 columns</p>\n",
       "</div>"
      ],
      "text/plain": [
       "                rxn direction   E0_total  E0_TS0  delta_E0\n",
       "18     rmg_rxn_1130   forward  -197099.0     NaN       NaN\n",
       "68     rmg_rxn_1221   forward  -737181.0     NaN       NaN\n",
       "72     rmg_rxn_1337   forward -1116589.0     NaN       NaN\n",
       "112   rmg_rxn_13876   forward  -718363.0     NaN       NaN\n",
       "142   rmg_rxn_13918   forward -1020752.0     NaN       NaN\n",
       "...             ...       ...        ...     ...       ...\n",
       "3203        rxn_233   forward  -511413.0     NaN       NaN\n",
       "3445       rxn_3330   forward  -542736.0     NaN       NaN\n",
       "3555         rxn_42   forward  -198836.0     NaN       NaN\n",
       "3675         rxn_52   forward -1359460.0     NaN       NaN\n",
       "4189         rxn_92   forward  -459226.0     NaN       NaN\n",
       "\n",
       "[110 rows x 5 columns]"
      ]
     },
     "execution_count": 60,
     "metadata": {},
     "output_type": "execute_result"
    }
   ],
   "source": [
    "# Find nans in delta_E0\n",
    "t_f = target_data_pd[target_data_pd['direction'] == 'forward']\n",
    "t_f[t_f['delta_E0'].isna()]\n"
   ]
  },
  {
   "cell_type": "markdown",
   "id": "1c13ef6d",
   "metadata": {},
   "source": [
    "# Let's do learning from the forward only"
   ]
  },
  {
   "cell_type": "code",
   "execution_count": 61,
   "id": "ea310458",
   "metadata": {},
   "outputs": [
    {
     "name": "stdout",
     "output_type": "stream",
     "text": [
      "Reaction ID kfir_rxn_13503 not found in target data. Skipping this SDF file.\n",
      "Skipping rmg_rxn_501 due to NaN in targets: [nan]\n",
      "Skipping rmg_rxn_55 due to NaN in targets: [nan]\n",
      "Skipping rmg_rxn_504 due to NaN in targets: [nan]\n",
      "Skipping rmg_rxn_151 due to NaN in targets: [nan]\n",
      "Skipping rmg_rxn_28 due to NaN in targets: [nan]\n",
      "Reaction ID rmg_rxn_506 not found in target data. Skipping this SDF file.\n",
      "Skipping rmg_rxn_396 due to NaN in targets: [nan]\n",
      "Skipping rmg_rxn_642 due to NaN in targets: [nan]\n",
      "Skipping rmg_rxn_1496 due to NaN in targets: [nan]\n",
      "Skipping rmg_rxn_507 due to NaN in targets: [nan]\n",
      "Skipping rmg_rxn_15591 due to NaN in targets: [nan]\n",
      "Skipping rmg_rxn_511 due to NaN in targets: [nan]\n",
      "Skipping rmg_rxn_499 due to NaN in targets: [nan]\n",
      "Skipping rmg_rxn_383 due to NaN in targets: [nan]\n",
      "Skipping rmg_rxn_227 due to NaN in targets: [nan]\n",
      "Skipping rmg_rxn_1532 due to NaN in targets: [nan]\n",
      "Reaction ID kfir_rxn_13897 not found in target data. Skipping this SDF file.\n",
      "Skipping rmg_rxn_15371 due to NaN in targets: [nan]\n",
      "Skipping rmg_rxn_53 due to NaN in targets: [nan]\n",
      "Skipping rmg_rxn_16791 due to NaN in targets: [nan]\n",
      "Reaction ID kfir_rxn_13108 not found in target data. Skipping this SDF file.\n",
      "Reaction ID kfir_rxn_13712 not found in target data. Skipping this SDF file.\n",
      "Skipping rmg_rxn_1130 due to NaN in targets: [nan]\n",
      "Skipping rmg_rxn_21 due to NaN in targets: [nan]\n",
      "Skipping rmg_rxn_15612 due to NaN in targets: [nan]\n",
      "Skipping rmg_rxn_379 due to NaN in targets: [nan]\n",
      "Reaction ID kfir_rxn_11197 not found in target data. Skipping this SDF file.\n",
      "Skipping rmg_rxn_14 due to NaN in targets: [nan]\n",
      "Skipping rmg_rxn_15 due to NaN in targets: [nan]\n",
      "Skipping rmg_rxn_376 due to NaN in targets: [nan]\n",
      "Reaction ID kfir_rxn_10218 not found in target data. Skipping this SDF file.\n",
      "Skipping rmg_rxn_15397 due to NaN in targets: [nan]\n",
      "Skipping rxn_1222 due to NaN in targets: [nan]\n",
      "Skipping rmg_rxn_505 due to NaN in targets: [nan]\n",
      "Skipping rmg_rxn_390 due to NaN in targets: [nan]\n",
      "Reaction ID kfir_rxn_9679 not found in target data. Skipping this SDF file.\n",
      "Skipping rmg_rxn_248 due to NaN in targets: [nan]\n",
      "Skipping rmg_rxn_498 due to NaN in targets: [nan]\n",
      "Reaction ID kfir_rxn_9205 not found in target data. Skipping this SDF file.\n",
      "Skipping rmg_rxn_388 due to NaN in targets: [nan]\n",
      "Skipping rmg_rxn_169 due to NaN in targets: [nan]\n",
      "Skipping rmg_rxn_652 due to NaN in targets: [nan]\n",
      "Skipping rmg_rxn_188 due to NaN in targets: [nan]\n",
      "Skipping rmg_rxn_1337 due to NaN in targets: [nan]\n",
      "Skipping rmg_rxn_377 due to NaN in targets: [nan]\n",
      "Skipping rmg_rxn_760 due to NaN in targets: [nan]\n",
      "Skipping rmg_rxn_293 due to NaN in targets: [nan]\n",
      "Reaction ID kfir_rxn_8057 not found in target data. Skipping this SDF file.\n",
      "Reaction ID kfir_rxn_8536 not found in target data. Skipping this SDF file.\n",
      "Skipping rmg_rxn_16491 due to NaN in targets: [nan]\n",
      "Reaction ID kfir_rxn_679 not found in target data. Skipping this SDF file.\n",
      "Reaction ID kfir_rxn_7125 not found in target data. Skipping this SDF file.\n",
      "Skipping rmg_rxn_15418 due to NaN in targets: [nan]\n",
      "Skipping rmg_rxn_16513 due to NaN in targets: [nan]\n",
      "Skipping rxn_133 due to NaN in targets: [nan]\n",
      "Reaction ID kfir_rxn_5989 not found in target data. Skipping this SDF file.\n",
      "Skipping rxn_230 due to NaN in targets: [nan]\n",
      "Skipping rmg_rxn_500 due to NaN in targets: [nan]\n",
      "Skipping rxn_233 due to NaN in targets: [nan]\n",
      "Skipping rmg_rxn_364 due to NaN in targets: [nan]\n",
      "Reaction ID kfir_rxn_5172 not found in target data. Skipping this SDF file.\n",
      "Skipping rxn_42 due to NaN in targets: [nan]\n",
      "Skipping rmg_rxn_387 due to NaN in targets: [nan]\n",
      "Reaction ID kfir_rxn_8008 not found in target data. Skipping this SDF file.\n",
      "Skipping rmg_rxn_15565 due to NaN in targets: [nan]\n",
      "Skipping rmg_rxn_509 due to NaN in targets: [nan]\n",
      "Reaction ID kfir_rxn_5389 not found in target data. Skipping this SDF file.\n",
      "Skipping rxn_92 due to NaN in targets: [nan]\n",
      "Reaction ID kfir_rxn_9248 not found in target data. Skipping this SDF file.\n",
      "Reaction ID kfir_rxn_11797 not found in target data. Skipping this SDF file.\n",
      "Reaction ID kfir_rxn_1315 not found in target data. Skipping this SDF file.\n",
      "Skipping rmg_rxn_513 due to NaN in targets: [nan]\n",
      "Skipping rmg_rxn_89 due to NaN in targets: [nan]\n",
      "Skipping rmg_rxn_381 due to NaN in targets: [nan]\n",
      "Skipping rmg_rxn_76 due to NaN in targets: [nan]\n",
      "Reaction ID kfir_rxn_13651 not found in target data. Skipping this SDF file.\n",
      "Skipping rmg_rxn_508 due to NaN in targets: [nan]\n",
      "Skipping rmg_rxn_384 due to NaN in targets: [nan]\n",
      "Reaction ID kfir_rxn_2 not found in target data. Skipping this SDF file.\n",
      "Reaction ID kfir_rxn_11915 not found in target data. Skipping this SDF file.\n",
      "Skipping rmg_rxn_16522 due to NaN in targets: [nan]\n",
      "Skipping rmg_rxn_6 due to NaN in targets: [nan]\n",
      "Skipping rmg_rxn_207 due to NaN in targets: [nan]\n",
      "Reaction ID kfir_rxn_7531 not found in target data. Skipping this SDF file.\n",
      "Reaction ID kfir_rxn_9652 not found in target data. Skipping this SDF file.\n",
      "Skipping rxn_139 due to NaN in targets: [nan]\n",
      "Skipping rmg_rxn_648 due to NaN in targets: [nan]\n",
      "Skipping rmg_rxn_392 due to NaN in targets: [nan]\n",
      "Reaction ID kfir_rxn_4836 not found in target data. Skipping this SDF file.\n",
      "Skipping rmg_rxn_395 due to NaN in targets: [nan]\n",
      "Reaction ID kfir_rxn_10391 not found in target data. Skipping this SDF file.\n",
      "Skipping rmg_rxn_370 due to NaN in targets: [nan]\n",
      "Skipping rmg_rxn_678 due to NaN in targets: [nan]\n",
      "Skipping rmg_rxn_550 due to NaN in targets: [nan]\n",
      "Skipping rmg_rxn_391 due to NaN in targets: [nan]\n",
      "Skipping rmg_rxn_3 due to NaN in targets: [nan]\n",
      "Skipping rmg_rxn_374 due to NaN in targets: [nan]\n",
      "Skipping rmg_rxn_4 due to NaN in targets: [nan]\n",
      "Skipping rmg_rxn_382 due to NaN in targets: [nan]\n",
      "Skipping rmg_rxn_1454 due to NaN in targets: [nan]\n",
      "Skipping rxn_225 due to NaN in targets: [nan]\n",
      "Skipping rmg_rxn_688 due to NaN in targets: [nan]\n",
      "Reaction ID kfir_rxn_12959 not found in target data. Skipping this SDF file.\n",
      "Skipping rmg_rxn_270 due to NaN in targets: [nan]\n",
      "Skipping rxn_52 due to NaN in targets: [nan]\n",
      "Skipping rmg_rxn_36 due to NaN in targets: [nan]\n",
      "Reaction ID kfir_rxn_9885 not found in target data. Skipping this SDF file.\n",
      "Reaction ID kfir_rxn_7559 not found in target data. Skipping this SDF file.\n",
      "Reaction ID kfir_rxn_5161 not found in target data. Skipping this SDF file.\n",
      "Skipping rmg_rxn_394 due to NaN in targets: [nan]\n",
      "Skipping rmg_rxn_512 due to NaN in targets: [nan]\n",
      "Skipping rmg_rxn_371 due to NaN in targets: [nan]\n",
      "Reaction ID kfir_rxn_4303 not found in target data. Skipping this SDF file.\n",
      "Reaction ID kfir_rxn_9409 not found in target data. Skipping this SDF file.\n",
      "Reaction ID kfir_rxn_11663 not found in target data. Skipping this SDF file.\n"
     ]
    }
   ],
   "source": [
    "feat_data = Featuriser(os.path.expanduser(\"~/code/chemprop_phd_customised/habnet/data/processed/sdf_data\"), filter_rules={'direction': 'forward'},\n",
    "                       path = target_data, set_col_index=False, target_col=['delta_E0'],\n",
    "                       include_extra_features = False)"
   ]
  },
  {
   "cell_type": "code",
   "execution_count": 62,
   "id": "e2747843",
   "metadata": {},
   "outputs": [
    {
     "data": {
      "text/plain": [
       "1694"
      ]
     },
     "execution_count": 62,
     "metadata": {},
     "output_type": "execute_result"
    }
   ],
   "source": [
    "len(feat_data[0])"
   ]
  },
  {
   "cell_type": "code",
   "execution_count": 63,
   "id": "6d2d8a6d",
   "metadata": {},
   "outputs": [
    {
     "name": "stderr",
     "output_type": "stream",
     "text": [
      "The return type of make_split_indices has changed in v2.1 - see help(make_split_indices)\n"
     ]
    }
   ],
   "source": [
    "component_to_split_by = 0\n",
    "mols = [d.mol for d in feat_data[component_to_split_by]]\n",
    "\n",
    "train_indices, val_indices, test_indices = data.make_split_indices(mols, \"kennard_stone\", (0.8, 0.1, 0.1))\n",
    "\n",
    "\n",
    "train_data, val_data, test_data = data.split_data_by_indices(\n",
    "    feat_data, train_indices, val_indices, test_indices\n",
    ")"
   ]
  },
  {
   "cell_type": "code",
   "execution_count": 64,
   "id": "3fb55d18",
   "metadata": {},
   "outputs": [],
   "source": [
    "rxn_ids = []\n",
    "for i in range(len(train_data[0][0])):\n",
    "    rxn_name = train_data[0][0][i].name\n",
    "    # Need to remove _r1h or _r2h from the reaction name\n",
    "    rxn_name = rxn_name.replace('_r1h', '').replace('_r2h', '')\n",
    "    rxn_ids.append(rxn_name)"
   ]
  },
  {
   "cell_type": "code",
   "execution_count": 65,
   "id": "a848332c",
   "metadata": {},
   "outputs": [
    {
     "data": {
      "text/plain": [
       "['rmg_rxn_86',\n",
       " 'rxn_798',\n",
       " 'rmg_rxn_16800',\n",
       " 'rmg_rxn_15476',\n",
       " 'rxn_3242',\n",
       " 'rxn_3223',\n",
       " 'rmg_rxn_206',\n",
       " 'rxn_1918',\n",
       " 'rxn_722',\n",
       " 'rmg_rxn_16480',\n",
       " 'rxn_3164',\n",
       " 'rmg_rxn_16633',\n",
       " 'rxn_185',\n",
       " 'rxn_3178',\n",
       " 'rmg_rxn_15450',\n",
       " 'rmg_rxn_15486',\n",
       " 'rxn_106',\n",
       " 'rmg_rxn_214',\n",
       " 'rmg_rxn_16713',\n",
       " 'rxn_618',\n",
       " 'rxn_629',\n",
       " 'rxn_843',\n",
       " 'rxn_3118',\n",
       " 'rmg_rxn_15653',\n",
       " 'rxn_144',\n",
       " 'rmg_rxn_15711',\n",
       " 'rmg_rxn_15585',\n",
       " 'rxn_697',\n",
       " 'rmg_rxn_15661',\n",
       " 'rmg_rxn_16507',\n",
       " 'rxn_208',\n",
       " 'rxn_1824',\n",
       " 'rxn_1496',\n",
       " 'rmg_rxn_15509',\n",
       " 'rxn_1287',\n",
       " 'rmg_rxn_1345',\n",
       " 'rxn_1657',\n",
       " 'rmg_rxn_1066',\n",
       " 'rmg_rxn_15708',\n",
       " 'rxn_275',\n",
       " 'rxn_772',\n",
       " 'rmg_rxn_15619',\n",
       " 'rmg_rxn_16689',\n",
       " 'rxn_635',\n",
       " 'rxn_409',\n",
       " 'rmg_rxn_521',\n",
       " 'rxn_676',\n",
       " 'rxn_3193',\n",
       " 'rmg_rxn_16755',\n",
       " 'rxn_1423',\n",
       " 'rxn_554',\n",
       " 'rxn_3239',\n",
       " 'rxn_3247',\n",
       " 'rxn_155',\n",
       " 'rmg_rxn_16804',\n",
       " 'rmg_rxn_15458',\n",
       " 'rmg_rxn_157',\n",
       " 'rxn_1169',\n",
       " 'rxn_3174',\n",
       " 'rmg_rxn_16785',\n",
       " 'rxn_37',\n",
       " 'rxn_51',\n",
       " 'rmg_rxn_16700',\n",
       " 'rxn_366',\n",
       " 'rmg_rxn_29',\n",
       " 'rxn_1529',\n",
       " 'rmg_rxn_60',\n",
       " 'rxn_1897',\n",
       " 'rxn_161',\n",
       " 'rmg_rxn_15477',\n",
       " 'rmg_rxn_15699',\n",
       " 'rxn_682',\n",
       " 'rxn_711',\n",
       " 'rxn_228',\n",
       " 'rmg_rxn_15592',\n",
       " 'rxn_752',\n",
       " 'rxn_466',\n",
       " 'rmg_rxn_320',\n",
       " 'rxn_30',\n",
       " 'rxn_1833',\n",
       " 'rxn_660',\n",
       " 'rmg_rxn_1523',\n",
       " 'rxn_3219',\n",
       " 'rmg_rxn_15383',\n",
       " 'rxn_1240',\n",
       " 'rxn_1438',\n",
       " 'rxn_191',\n",
       " 'rxn_704',\n",
       " 'rxn_111',\n",
       " 'rmg_rxn_1449',\n",
       " 'rxn_103',\n",
       " 'rxn_184',\n",
       " 'rmg_rxn_16609',\n",
       " 'rxn_1969',\n",
       " 'rxn_480',\n",
       " 'rxn_3220',\n",
       " 'rmg_rxn_15494',\n",
       " 'rxn_98',\n",
       " 'rxn_1023',\n",
       " 'rxn_458',\n",
       " 'rxn_461',\n",
       " 'rmg_rxn_15540',\n",
       " 'rmg_rxn_15493',\n",
       " 'rxn_1605',\n",
       " 'rxn_97',\n",
       " 'rmg_rxn_15590',\n",
       " 'rmg_rxn_417',\n",
       " 'rxn_654',\n",
       " 'rmg_rxn_16613',\n",
       " 'rmg_rxn_638',\n",
       " 'rxn_62',\n",
       " 'rmg_rxn_302',\n",
       " 'rxn_1794',\n",
       " 'rxn_1362',\n",
       " 'rmg_rxn_15667',\n",
       " 'rxn_3228',\n",
       " 'rxn_3226',\n",
       " 'rxn_3156',\n",
       " 'rxn_32',\n",
       " 'rxn_377',\n",
       " 'rxn_1040',\n",
       " 'rmg_rxn_15405',\n",
       " 'rmg_rxn_368',\n",
       " 'rxn_1135',\n",
       " 'rmg_rxn_15515',\n",
       " 'rxn_921',\n",
       " 'rxn_3201',\n",
       " 'rxn_422',\n",
       " 'rxn_1997',\n",
       " 'rxn_476',\n",
       " 'rxn_1320',\n",
       " 'rxn_1088',\n",
       " 'rxn_149',\n",
       " 'rxn_563',\n",
       " 'rxn_168',\n",
       " 'rmg_rxn_182',\n",
       " 'rxn_1827',\n",
       " 'rxn_1849',\n",
       " 'rxn_1170',\n",
       " 'rmg_rxn_16786',\n",
       " 'rmg_rxn_15423',\n",
       " 'rxn_1257',\n",
       " 'rmg_rxn_1155',\n",
       " 'rxn_1220',\n",
       " 'rxn_253',\n",
       " 'rxn_1027',\n",
       " 'rmg_rxn_16469',\n",
       " 'rxn_1414',\n",
       " 'rxn_776',\n",
       " 'rmg_rxn_1156',\n",
       " 'rmg_rxn_16527',\n",
       " 'rmg_rxn_1160',\n",
       " 'rxn_1586',\n",
       " 'rxn_1880',\n",
       " 'rxn_927',\n",
       " 'rmg_rxn_63',\n",
       " 'rxn_1369',\n",
       " 'rmg_rxn_15701',\n",
       " 'rmg_rxn_524',\n",
       " 'rxn_1233',\n",
       " 'rxn_1843',\n",
       " 'rmg_rxn_346',\n",
       " 'rmg_rxn_15618',\n",
       " 'rmg_rxn_618',\n",
       " 'rxn_1036',\n",
       " 'rxn_1649',\n",
       " 'rxn_334',\n",
       " 'rxn_872',\n",
       " 'rmg_rxn_275',\n",
       " 'rxn_938',\n",
       " 'rxn_1005',\n",
       " 'rxn_1658',\n",
       " 'rxn_1510',\n",
       " 'rmg_rxn_1162',\n",
       " 'rxn_1874',\n",
       " 'rmg_rxn_15599',\n",
       " 'rxn_1488',\n",
       " 'rmg_rxn_64',\n",
       " 'rxn_577',\n",
       " 'rmg_rxn_16548',\n",
       " 'rxn_437',\n",
       " 'rxn_573',\n",
       " 'rxn_1908',\n",
       " 'rmg_rxn_174',\n",
       " 'rmg_rxn_15490',\n",
       " 'rxn_1837',\n",
       " 'rmg_rxn_663',\n",
       " 'rmg_rxn_258',\n",
       " 'rmg_rxn_634',\n",
       " 'rxn_1239',\n",
       " 'rmg_rxn_15672',\n",
       " 'rmg_rxn_176',\n",
       " 'rxn_1957',\n",
       " 'rxn_1219',\n",
       " 'rxn_433',\n",
       " 'rmg_rxn_42',\n",
       " 'rxn_197',\n",
       " 'rxn_1371',\n",
       " 'rxn_347',\n",
       " 'rxn_1603',\n",
       " 'rxn_1067',\n",
       " 'rmg_rxn_226',\n",
       " 'rxn_91',\n",
       " 'rxn_590',\n",
       " 'rxn_928',\n",
       " 'rxn_795',\n",
       " 'rxn_778',\n",
       " 'rxn_900',\n",
       " 'rxn_1913',\n",
       " 'rxn_881',\n",
       " 'rxn_1054',\n",
       " 'rxn_1140',\n",
       " 'rxn_1865',\n",
       " 'rmg_rxn_664',\n",
       " 'rxn_871',\n",
       " 'rmg_rxn_16774',\n",
       " 'rxn_780',\n",
       " 'rxn_1209',\n",
       " 'rxn_944',\n",
       " 'rxn_1989',\n",
       " 'rxn_581',\n",
       " 'rxn_1228',\n",
       " 'rxn_1926',\n",
       " 'rxn_1265',\n",
       " 'rxn_1177',\n",
       " 'rmg_rxn_199',\n",
       " 'rmg_rxn_61',\n",
       " 'rxn_1310',\n",
       " 'rxn_935',\n",
       " 'rxn_931',\n",
       " 'rxn_1276',\n",
       " 'rxn_1910',\n",
       " 'rxn_890',\n",
       " 'rxn_715',\n",
       " 'rxn_1325',\n",
       " 'rxn_1499',\n",
       " 'rmg_rxn_15517',\n",
       " 'rxn_143',\n",
       " 'rmg_rxn_48',\n",
       " 'rmg_rxn_606',\n",
       " 'rmg_rxn_26',\n",
       " 'rmg_rxn_15421',\n",
       " 'rxn_824',\n",
       " 'rxn_949',\n",
       " 'rxn_256',\n",
       " 'rmg_rxn_16532',\n",
       " 'rxn_596',\n",
       " 'rxn_1215',\n",
       " 'rxn_1000',\n",
       " 'rmg_rxn_339',\n",
       " 'rxn_1216',\n",
       " 'rxn_1349',\n",
       " 'rxn_1237',\n",
       " 'rmg_rxn_187',\n",
       " 'rxn_415',\n",
       " 'rxn_1396',\n",
       " 'rxn_604',\n",
       " 'rxn_912',\n",
       " 'rxn_1982',\n",
       " 'rxn_1478',\n",
       " 'rxn_1180',\n",
       " 'rxn_114',\n",
       " 'rxn_182',\n",
       " 'rxn_867',\n",
       " 'rxn_1181',\n",
       " 'rmg_rxn_171',\n",
       " 'rmg_rxn_52',\n",
       " 'rxn_1314',\n",
       " 'rmg_rxn_311',\n",
       " 'rmg_rxn_528',\n",
       " 'rxn_1422',\n",
       " 'rmg_rxn_1563',\n",
       " 'rxn_552',\n",
       " 'rmg_rxn_1500',\n",
       " 'rxn_1884',\n",
       " 'rxn_89',\n",
       " 'rmg_rxn_610',\n",
       " 'rxn_779',\n",
       " 'rmg_rxn_12',\n",
       " 'rxn_1671',\n",
       " 'rxn_1494',\n",
       " 'rmg_rxn_15664',\n",
       " 'rxn_124',\n",
       " 'rxn_1026',\n",
       " 'rxn_1795',\n",
       " 'rxn_127',\n",
       " 'rxn_389',\n",
       " 'rxn_1893',\n",
       " 'rxn_1592',\n",
       " 'rxn_993',\n",
       " 'rxn_484',\n",
       " 'rxn_550',\n",
       " 'rxn_2003',\n",
       " 'rxn_1353',\n",
       " 'rxn_985',\n",
       " 'rxn_396',\n",
       " 'rxn_1249',\n",
       " 'rmg_rxn_16531',\n",
       " 'rxn_1862',\n",
       " 'rmg_rxn_87',\n",
       " 'rmg_rxn_354',\n",
       " 'rxn_286',\n",
       " 'rxn_1949',\n",
       " 'rxn_1030',\n",
       " 'rmg_rxn_15508',\n",
       " 'rmg_rxn_16505',\n",
       " 'rxn_262',\n",
       " 'rxn_1945',\n",
       " 'rxn_1253',\n",
       " 'rxn_1103',\n",
       " 'rxn_1286',\n",
       " 'rmg_rxn_233',\n",
       " 'rmg_rxn_16802',\n",
       " 'rxn_792',\n",
       " 'rxn_1183',\n",
       " 'rxn_1264',\n",
       " 'rmg_rxn_600',\n",
       " 'rxn_1648',\n",
       " 'rxn_1122',\n",
       " 'rxn_1589',\n",
       " 'rmg_rxn_238',\n",
       " 'rxn_1958',\n",
       " 'rmg_rxn_16796',\n",
       " 'rxn_930',\n",
       " 'rmg_rxn_599',\n",
       " 'rxn_1246',\n",
       " 'rxn_1275',\n",
       " 'rmg_rxn_15714',\n",
       " 'rxn_1200',\n",
       " 'rmg_rxn_15636',\n",
       " 'rxn_909',\n",
       " 'rxn_1889',\n",
       " 'rmg_rxn_357',\n",
       " 'rxn_1431',\n",
       " 'rmg_rxn_668',\n",
       " 'rxn_1179',\n",
       " 'rxn_324',\n",
       " 'rxn_1156',\n",
       " 'rxn_1930',\n",
       " 'rmg_rxn_16648',\n",
       " 'rmg_rxn_197',\n",
       " 'rmg_rxn_340',\n",
       " 'rxn_1881',\n",
       " 'rmg_rxn_15613',\n",
       " 'rxn_1462',\n",
       " 'rmg_rxn_356',\n",
       " 'rmg_rxn_56',\n",
       " 'rxn_1410',\n",
       " 'rxn_1964',\n",
       " 'rmg_rxn_97',\n",
       " 'rxn_1946',\n",
       " 'rmg_rxn_336',\n",
       " 'rxn_1485',\n",
       " 'rmg_rxn_219',\n",
       " 'rmg_rxn_98',\n",
       " 'rxn_483',\n",
       " 'rmg_rxn_15407',\n",
       " 'rxn_791',\n",
       " 'rxn_1444',\n",
       " 'rmg_rxn_1481',\n",
       " 'rxn_1433',\n",
       " 'rxn_1055',\n",
       " 'rxn_601',\n",
       " 'rmg_rxn_58',\n",
       " 'rxn_363',\n",
       " 'rmg_rxn_153',\n",
       " 'rxn_1175',\n",
       " 'rxn_1006',\n",
       " 'rmg_rxn_629',\n",
       " 'rxn_1192',\n",
       " 'rxn_1238',\n",
       " 'rmg_rxn_65',\n",
       " 'rmg_rxn_16470',\n",
       " 'rxn_1491',\n",
       " 'rxn_1802',\n",
       " 'rmg_rxn_1565',\n",
       " 'rmg_rxn_16502',\n",
       " 'rxn_1938',\n",
       " 'rxn_1372',\n",
       " 'rxn_2006',\n",
       " 'rxn_1615',\n",
       " 'rxn_1819',\n",
       " 'rxn_1464',\n",
       " 'rmg_rxn_240',\n",
       " 'rxn_3158',\n",
       " 'rxn_1392',\n",
       " 'rxn_1787',\n",
       " 'rxn_299',\n",
       " 'rxn_1282',\n",
       " 'rxn_1631',\n",
       " 'rmg_rxn_15684',\n",
       " 'rmg_rxn_1494',\n",
       " 'rxn_1114',\n",
       " 'rmg_rxn_669',\n",
       " 'rmg_rxn_16529',\n",
       " 'rmg_rxn_15710',\n",
       " 'rxn_249',\n",
       " 'rmg_rxn_15516',\n",
       " 'rxn_390',\n",
       " 'rxn_1920',\n",
       " 'rxn_1669',\n",
       " 'rxn_1439',\n",
       " 'rxn_1607',\n",
       " 'rxn_1996',\n",
       " 'rmg_rxn_15580',\n",
       " 'rxn_342',\n",
       " 'rxn_1007',\n",
       " 'rxn_874',\n",
       " 'rmg_rxn_15728',\n",
       " 'rxn_1304',\n",
       " 'rxn_851',\n",
       " 'rxn_113',\n",
       " 'rxn_1816',\n",
       " 'rxn_1888',\n",
       " 'rxn_1626',\n",
       " 'rxn_1245',\n",
       " 'rmg_rxn_15395',\n",
       " 'rmg_rxn_1129',\n",
       " 'rxn_2004',\n",
       " 'rxn_3161',\n",
       " 'rmg_rxn_179',\n",
       " 'rmg_rxn_301',\n",
       " 'rxn_896',\n",
       " 'rmg_rxn_94',\n",
       " 'rxn_1143',\n",
       " 'rxn_1876',\n",
       " 'rxn_1182',\n",
       " 'rxn_1894',\n",
       " 'rmg_rxn_15545',\n",
       " 'rmg_rxn_46',\n",
       " 'rxn_57',\n",
       " 'rmg_rxn_653',\n",
       " 'rxn_1387',\n",
       " 'rmg_rxn_345',\n",
       " 'rxn_1625',\n",
       " 'rmg_rxn_16735',\n",
       " 'rxn_555',\n",
       " 'rxn_1205',\n",
       " 'rxn_1328',\n",
       " 'rmg_rxn_525',\n",
       " 'rxn_816',\n",
       " 'rmg_rxn_15586',\n",
       " 'rxn_328',\n",
       " 'rmg_rxn_15584',\n",
       " 'rxn_1950',\n",
       " 'rxn_1031',\n",
       " 'rxn_1804',\n",
       " 'rxn_1633',\n",
       " 'rxn_613',\n",
       " 'rxn_3160',\n",
       " 'rxn_1517',\n",
       " 'rxn_1106',\n",
       " 'rmg_rxn_16514',\n",
       " 'rxn_846',\n",
       " 'rxn_648',\n",
       " 'rxn_964',\n",
       " 'rmg_rxn_1474',\n",
       " 'rxn_1223',\n",
       " 'rxn_392',\n",
       " 'rmg_rxn_191',\n",
       " 'rxn_193',\n",
       " 'rxn_1506',\n",
       " 'rmg_rxn_15688',\n",
       " 'rmg_rxn_314',\n",
       " 'rmg_rxn_586',\n",
       " 'rmg_rxn_16461',\n",
       " 'rmg_rxn_683',\n",
       " 'rxn_1256',\n",
       " 'rxn_709',\n",
       " 'rxn_1511',\n",
       " 'rmg_rxn_253',\n",
       " 'rxn_1091',\n",
       " 'rxn_606',\n",
       " 'rxn_1895',\n",
       " 'rxn_680',\n",
       " 'rxn_1085',\n",
       " 'rxn_1936',\n",
       " 'rxn_1044',\n",
       " 'rxn_1960',\n",
       " 'rmg_rxn_15440',\n",
       " 'rmg_rxn_588',\n",
       " 'rxn_215',\n",
       " 'rxn_414',\n",
       " 'rxn_1799',\n",
       " 'rxn_1476',\n",
       " 'rxn_1330',\n",
       " 'rxn_1480',\n",
       " 'rxn_681',\n",
       " 'rxn_1322',\n",
       " 'rxn_746',\n",
       " 'rmg_rxn_15660',\n",
       " 'rxn_1363',\n",
       " 'rxn_1159',\n",
       " 'rxn_1288',\n",
       " 'rxn_1326',\n",
       " 'rmg_rxn_85',\n",
       " 'rxn_553',\n",
       " 'rxn_898',\n",
       " 'rxn_670',\n",
       " 'rxn_399',\n",
       " 'rxn_1620',\n",
       " 'rmg_rxn_201',\n",
       " 'rxn_1434',\n",
       " 'rxn_210',\n",
       " 'rmg_rxn_15442',\n",
       " 'rmg_rxn_16771',\n",
       " 'rxn_1210',\n",
       " 'rxn_733',\n",
       " 'rmg_rxn_15466',\n",
       " 'rxn_996',\n",
       " 'rxn_1420',\n",
       " 'rxn_131',\n",
       " 'rxn_1048',\n",
       " 'rmg_rxn_15469',\n",
       " 'rmg_rxn_659',\n",
       " 'rxn_223',\n",
       " 'rxn_16',\n",
       " 'rmg_rxn_16806',\n",
       " 'rmg_rxn_348',\n",
       " 'rmg_rxn_341',\n",
       " 'rxn_1016',\n",
       " 'rxn_129',\n",
       " 'rxn_1254',\n",
       " 'rxn_1273',\n",
       " 'rmg_rxn_205',\n",
       " 'rmg_rxn_16497',\n",
       " 'rxn_571',\n",
       " 'rmg_rxn_596',\n",
       " 'rxn_3217',\n",
       " 'rxn_1786',\n",
       " 'rxn_1861',\n",
       " 'rxn_891',\n",
       " 'rxn_974',\n",
       " 'rxn_1093',\n",
       " 'rxn_556',\n",
       " 'rmg_rxn_16528',\n",
       " 'rxn_656',\n",
       " 'rmg_rxn_255',\n",
       " 'rmg_rxn_1485',\n",
       " 'rxn_1864',\n",
       " 'rxn_300',\n",
       " 'rmg_rxn_1487',\n",
       " 'rmg_rxn_1147',\n",
       " 'rmg_rxn_677',\n",
       " 'rxn_610',\n",
       " 'rmg_rxn_647',\n",
       " 'rmg_rxn_1154',\n",
       " 'rxn_818',\n",
       " 'rxn_1922',\n",
       " 'rmg_rxn_15719',\n",
       " 'rxn_1104',\n",
       " 'rmg_rxn_234',\n",
       " 'rxn_1835',\n",
       " 'rxn_1280',\n",
       " 'rxn_1327',\n",
       " 'rmg_rxn_256',\n",
       " 'rxn_2007',\n",
       " 'rmg_rxn_268',\n",
       " 'rxn_877',\n",
       " 'rxn_1217',\n",
       " 'rxn_807',\n",
       " 'rxn_739',\n",
       " 'rxn_1985',\n",
       " 'rmg_rxn_15692',\n",
       " 'rxn_1359',\n",
       " 'rxn_586',\n",
       " 'rxn_1429',\n",
       " 'rxn_232',\n",
       " 'rxn_15',\n",
       " 'rmg_rxn_15498',\n",
       " 'rxn_797',\n",
       " 'rxn_1504',\n",
       " 'rxn_475',\n",
       " 'rxn_1660',\n",
       " 'rxn_1146',\n",
       " 'rxn_1851',\n",
       " 'rxn_369',\n",
       " 'rxn_345',\n",
       " 'rxn_1138',\n",
       " 'rxn_1377',\n",
       " 'rxn_1587',\n",
       " 'rxn_102',\n",
       " 'rxn_897',\n",
       " 'rmg_rxn_605',\n",
       " 'rmg_rxn_681',\n",
       " 'rxn_3211',\n",
       " 'rmg_rxn_635',\n",
       " 'rxn_1236',\n",
       " 'rmg_rxn_276',\n",
       " 'rmg_rxn_519',\n",
       " 'rmg_rxn_1478',\n",
       " 'rmg_rxn_16464',\n",
       " 'rmg_rxn_326',\n",
       " 'rmg_rxn_8',\n",
       " 'rxn_1836',\n",
       " 'rxn_917',\n",
       " 'rmg_rxn_194',\n",
       " 'rxn_90',\n",
       " 'rxn_1043',\n",
       " 'rxn_983',\n",
       " 'rxn_400',\n",
       " 'rmg_rxn_15713',\n",
       " 'rxn_80',\n",
       " 'rmg_rxn_225',\n",
       " 'rmg_rxn_244',\n",
       " 'rxn_72',\n",
       " 'rxn_673',\n",
       " 'rxn_18',\n",
       " 'rmg_rxn_661',\n",
       " 'rmg_rxn_16706',\n",
       " 'rmg_rxn_19',\n",
       " 'rmg_rxn_304',\n",
       " 'rxn_279',\n",
       " 'rmg_rxn_173',\n",
       " 'rmg_rxn_1544',\n",
       " 'rxn_1225',\n",
       " 'rxn_560',\n",
       " 'rxn_841',\n",
       " 'rmg_rxn_15615',\n",
       " 'rxn_487',\n",
       " 'rxn_885',\n",
       " 'rxn_1644',\n",
       " 'rxn_1962',\n",
       " 'rxn_1017',\n",
       " 'rxn_1845',\n",
       " 'rxn_962',\n",
       " 'rxn_1621',\n",
       " 'rmg_rxn_15633',\n",
       " 'rxn_298',\n",
       " 'rxn_1467',\n",
       " 'rxn_260',\n",
       " 'rxn_924',\n",
       " 'rxn_3248',\n",
       " 'rxn_1113',\n",
       " 'rmg_rxn_15703',\n",
       " 'rxn_570',\n",
       " 'rxn_1071',\n",
       " 'rxn_936',\n",
       " 'rxn_1',\n",
       " 'rxn_1882',\n",
       " 'rxn_96',\n",
       " 'rxn_1430',\n",
       " 'rxn_3213',\n",
       " 'rxn_1844',\n",
       " 'rmg_rxn_246',\n",
       " 'rxn_612',\n",
       " 'rmg_rxn_15709',\n",
       " 'rxn_1789',\n",
       " 'rxn_285',\n",
       " 'rmg_rxn_338',\n",
       " 'rxn_1952',\n",
       " 'rxn_1842',\n",
       " 'rmg_rxn_15478',\n",
       " 'rxn_1063',\n",
       " 'rxn_1157',\n",
       " 'rxn_1435',\n",
       " 'rxn_1367',\n",
       " 'rxn_1923',\n",
       " 'rmg_rxn_15453',\n",
       " 'rxn_1815',\n",
       " 'rxn_112',\n",
       " 'rmg_rxn_16719',\n",
       " 'rxn_327',\n",
       " 'rxn_128',\n",
       " 'rmg_rxn_30',\n",
       " 'rxn_1664',\n",
       " 'rmg_rxn_343',\n",
       " 'rmg_rxn_15723',\n",
       " 'rxn_1914',\n",
       " 'rmg_rxn_54',\n",
       " 'rxn_1440',\n",
       " 'rmg_rxn_16523',\n",
       " 'rmg_rxn_57',\n",
       " 'rxn_1797',\n",
       " 'rxn_1451',\n",
       " 'rxn_1049',\n",
       " 'rmg_rxn_1161',\n",
       " 'rmg_rxn_15722',\n",
       " 'rmg_rxn_15597',\n",
       " 'rxn_460',\n",
       " 'rmg_rxn_216',\n",
       " 'rxn_1368',\n",
       " 'rxn_966',\n",
       " 'rxn_1360',\n",
       " 'rmg_rxn_229',\n",
       " 'rmg_rxn_277',\n",
       " 'rxn_578',\n",
       " 'rxn_288',\n",
       " 'rxn_301',\n",
       " 'rxn_365',\n",
       " 'rmg_rxn_15651',\n",
       " 'rxn_464',\n",
       " 'rmg_rxn_15647',\n",
       " 'rxn_1198',\n",
       " 'rmg_rxn_1344',\n",
       " 'rxn_1986',\n",
       " 'rxn_456',\n",
       " 'rmg_rxn_15496',\n",
       " 'rxn_775',\n",
       " 'rxn_960',\n",
       " 'rxn_270',\n",
       " 'rxn_760',\n",
       " 'rxn_753',\n",
       " 'rxn_259',\n",
       " 'rxn_790',\n",
       " 'rxn_105',\n",
       " 'rxn_1028',\n",
       " 'rmg_rxn_278',\n",
       " 'rxn_229',\n",
       " 'rxn_1991',\n",
       " 'rxn_1398',\n",
       " 'rxn_1854',\n",
       " 'rxn_933',\n",
       " 'rxn_1948',\n",
       " 'rxn_3210',\n",
       " 'rxn_562',\n",
       " 'rxn_452',\n",
       " 'rmg_rxn_15513',\n",
       " 'rxn_1376',\n",
       " 'rmg_rxn_1561',\n",
       " 'rmg_rxn_1538',\n",
       " 'rxn_1331',\n",
       " 'rmg_rxn_215',\n",
       " 'rxn_406',\n",
       " 'rmg_rxn_31',\n",
       " 'rmg_rxn_1157',\n",
       " 'rxn_757',\n",
       " 'rxn_954',\n",
       " 'rxn_463',\n",
       " 'rmg_rxn_16643',\n",
       " 'rxn_754',\n",
       " 'rxn_410',\n",
       " 'rxn_835',\n",
       " 'rxn_595',\n",
       " 'rmg_rxn_16555',\n",
       " 'rxn_1008',\n",
       " 'rxn_373',\n",
       " 'rxn_582',\n",
       " 'rxn_494',\n",
       " 'rxn_110',\n",
       " 'rmg_rxn_272',\n",
       " 'rxn_1419',\n",
       " 'rxn_1361',\n",
       " 'rxn_218',\n",
       " 'rxn_857',\n",
       " 'rxn_1896',\n",
       " 'rxn_344',\n",
       " 'rxn_2015',\n",
       " 'rxn_319',\n",
       " 'rxn_999',\n",
       " 'rxn_104',\n",
       " 'rxn_672',\n",
       " 'rxn_724',\n",
       " 'rxn_1019',\n",
       " 'rmg_rxn_307',\n",
       " 'rmg_rxn_15588',\n",
       " 'rmg_rxn_15538',\n",
       " 'rxn_1947',\n",
       " 'rxn_1136',\n",
       " 'rxn_1204',\n",
       " 'rxn_1227',\n",
       " 'rmg_rxn_15412',\n",
       " 'rxn_1942',\n",
       " 'rmg_rxn_212',\n",
       " 'rxn_1292',\n",
       " 'rxn_1301',\n",
       " 'rxn_1370',\n",
       " 'rmg_rxn_520',\n",
       " 'rxn_920',\n",
       " 'rxn_685',\n",
       " 'rxn_886',\n",
       " 'rxn_1009',\n",
       " 'rxn_417',\n",
       " 'rxn_3215',\n",
       " 'rmg_rxn_16690',\n",
       " 'rmg_rxn_236',\n",
       " 'rxn_594',\n",
       " 'rxn_1083',\n",
       " 'rxn_895',\n",
       " 'rmg_rxn_15603',\n",
       " 'rxn_439',\n",
       " 'rxn_2008',\n",
       " 'rxn_787',\n",
       " 'rxn_240',\n",
       " 'rxn_426',\n",
       " 'rxn_1279',\n",
       " 'rmg_rxn_15680',\n",
       " 'rxn_1230',\n",
       " 'rmg_rxn_158',\n",
       " 'rxn_269',\n",
       " 'rxn_1356',\n",
       " 'rxn_1380',\n",
       " 'rxn_1235',\n",
       " 'rxn_919',\n",
       " 'rxn_93',\n",
       " 'rxn_1655',\n",
       " 'rxn_1501',\n",
       " 'rmg_rxn_177',\n",
       " 'rmg_rxn_16533',\n",
       " 'rxn_1069',\n",
       " 'rmg_rxn_208',\n",
       " 'rxn_1221',\n",
       " 'rxn_905',\n",
       " 'rmg_rxn_15426',\n",
       " 'rxn_425',\n",
       " 'rxn_1921',\n",
       " 'rxn_1594',\n",
       " 'rxn_1803',\n",
       " 'rxn_119',\n",
       " 'rmg_rxn_218',\n",
       " 'rxn_3184',\n",
       " 'rmg_rxn_632',\n",
       " 'rmg_rxn_16498',\n",
       " 'rxn_1095',\n",
       " 'rmg_rxn_50',\n",
       " 'rmg_rxn_15690',\n",
       " 'rxn_761',\n",
       " 'rmg_rxn_16460',\n",
       " 'rmg_rxn_16654',\n",
       " 'rmg_rxn_15385',\n",
       " 'rxn_1490',\n",
       " 'rxn_1823',\n",
       " 'rxn_1266',\n",
       " 'rmg_rxn_224',\n",
       " 'rmg_rxn_16647',\n",
       " 'rxn_852',\n",
       " 'rxn_910',\n",
       " 'rmg_rxn_15420',\n",
       " 'rxn_1652',\n",
       " 'rxn_1342',\n",
       " 'rxn_1082',\n",
       " 'rmg_rxn_15652',\n",
       " 'rmg_rxn_230',\n",
       " 'rxn_557',\n",
       " 'rxn_690',\n",
       " 'rxn_3126',\n",
       " 'rxn_1904',\n",
       " 'rxn_1131',\n",
       " 'rxn_1201',\n",
       " 'rmg_rxn_671',\n",
       " 'rmg_rxn_16575',\n",
       " 'rxn_252',\n",
       " 'rxn_13',\n",
       " 'rmg_rxn_689',\n",
       " 'rxn_1883',\n",
       " 'rmg_rxn_16765',\n",
       " 'rmg_rxn_317',\n",
       " 'rmg_rxn_1137',\n",
       " 'rxn_547',\n",
       " 'rxn_840',\n",
       " 'rxn_1965',\n",
       " 'rxn_178',\n",
       " 'rxn_420',\n",
       " 'rxn_695',\n",
       " 'rxn_607',\n",
       " 'rxn_762',\n",
       " 'rxn_982',\n",
       " 'rxn_1012',\n",
       " 'rmg_rxn_15595',\n",
       " 'rmg_rxn_23',\n",
       " 'rxn_2024',\n",
       " 'rxn_1037',\n",
       " 'rxn_1994',\n",
       " 'rmg_rxn_172',\n",
       " 'rxn_659',\n",
       " 'rxn_1378',\n",
       " 'rxn_1954',\n",
       " 'rxn_572',\n",
       " 'rxn_239',\n",
       " 'rmg_rxn_13',\n",
       " 'rxn_1214',\n",
       " 'rxn_1663',\n",
       " 'rxn_100',\n",
       " 'rxn_565',\n",
       " 'rxn_432',\n",
       " 'rxn_1931',\n",
       " 'rxn_1479',\n",
       " 'rmg_rxn_665',\n",
       " 'rxn_1630',\n",
       " 'rmg_rxn_189',\n",
       " 'rxn_132',\n",
       " 'rxn_839',\n",
       " 'rxn_1907',\n",
       " 'rmg_rxn_45',\n",
       " 'rxn_361',\n",
       " 'rxn_2001',\n",
       " 'rmg_rxn_591',\n",
       " 'rmg_rxn_247',\n",
       " 'rxn_1814',\n",
       " 'rxn_3206',\n",
       " 'rxn_445',\n",
       " 'rxn_854',\n",
       " 'rmg_rxn_1349',\n",
       " 'rxn_474',\n",
       " 'rxn_1047',\n",
       " 'rxn_418',\n",
       " 'rxn_998',\n",
       " 'rmg_rxn_15379',\n",
       " 'rmg_rxn_2',\n",
       " 'rmg_rxn_260',\n",
       " 'rmg_rxn_15679',\n",
       " 'rmg_rxn_15425',\n",
       " 'rxn_859',\n",
       " 'rmg_rxn_15691',\n",
       " 'rxn_741',\n",
       " 'rmg_rxn_16653',\n",
       " 'rxn_1813',\n",
       " 'rxn_1963',\n",
       " 'rxn_1128',\n",
       " 'rmg_rxn_1483',\n",
       " 'rxn_1812',\n",
       " 'rmg_rxn_213',\n",
       " 'rxn_1190',\n",
       " 'rxn_1415',\n",
       " 'rxn_125',\n",
       " 'rxn_1404',\n",
       " 'rxn_1176',\n",
       " 'rmg_rxn_16743',\n",
       " 'rmg_rxn_321',\n",
       " 'rmg_rxn_633',\n",
       " 'rmg_rxn_349',\n",
       " 'rxn_468',\n",
       " 'rxn_2012',\n",
       " 'rxn_1290',\n",
       " 'rxn_70',\n",
       " 'rxn_617',\n",
       " 'rxn_332',\n",
       " 'rxn_314',\n",
       " 'rmg_rxn_590',\n",
       " 'rmg_rxn_289',\n",
       " 'rmg_rxn_15539',\n",
       " 'rmg_rxn_611',\n",
       " 'rmg_rxn_15390',\n",
       " 'rxn_99',\n",
       " 'rmg_rxn_1142',\n",
       " 'rxn_118',\n",
       " 'rxn_1641',\n",
       " 'rxn_1623',\n",
       " 'rmg_rxn_15410',\n",
       " 'rxn_602',\n",
       " 'rxn_848',\n",
       " 'rmg_rxn_1152',\n",
       " 'rxn_453',\n",
       " 'rmg_rxn_16',\n",
       " 'rxn_10',\n",
       " 'rxn_865',\n",
       " 'rxn_1011',\n",
       " 'rmg_rxn_96',\n",
       " 'rxn_166',\n",
       " 'rmg_rxn_15707',\n",
       " 'rxn_1452',\n",
       " 'rmg_rxn_16773',\n",
       " 'rmg_rxn_545',\n",
       " 'rmg_rxn_44',\n",
       " 'rxn_771',\n",
       " 'rxn_1401',\n",
       " 'rxn_174',\n",
       " 'rxn_1911',\n",
       " 'rmg_rxn_16484',\n",
       " 'rxn_485',\n",
       " 'rmg_rxn_303',\n",
       " 'rxn_1818',\n",
       " 'rmg_rxn_15434',\n",
       " 'rxn_1111',\n",
       " 'rxn_1927',\n",
       " 'rxn_710',\n",
       " 'rmg_rxn_266',\n",
       " 'rmg_rxn_15391',\n",
       " 'rmg_rxn_312',\n",
       " 'rxn_950',\n",
       " 'rxn_213',\n",
       " 'rxn_335',\n",
       " 'rxn_251',\n",
       " 'rxn_3216',\n",
       " 'rmg_rxn_16672',\n",
       " 'rmg_rxn_1163',\n",
       " 'rxn_1983',\n",
       " 'rmg_rxn_16639',\n",
       " 'rxn_1810',\n",
       " 'rxn_1887',\n",
       " 'rxn_735',\n",
       " 'rxn_1951',\n",
       " 'rxn_1381',\n",
       " 'rxn_1808',\n",
       " 'rxn_549',\n",
       " 'rxn_751',\n",
       " 'rmg_rxn_614',\n",
       " 'rxn_1683',\n",
       " 'rmg_rxn_16571',\n",
       " 'rmg_rxn_15401',\n",
       " 'rxn_850',\n",
       " 'rmg_rxn_16731',\n",
       " 'rxn_1458',\n",
       " 'rxn_1195',\n",
       " 'rxn_908',\n",
       " 'rxn_1937',\n",
       " 'rxn_1052',\n",
       " 'rxn_1599',\n",
       " 'rmg_rxn_156',\n",
       " 'rmg_rxn_15392',\n",
       " ...]"
      ]
     },
     "execution_count": 65,
     "metadata": {},
     "output_type": "execute_result"
    }
   ],
   "source": [
    "rxn_ids"
   ]
  },
  {
   "cell_type": "code",
   "execution_count": 66,
   "id": "7379149e",
   "metadata": {},
   "outputs": [
    {
     "data": {
      "text/plain": [
       "Index(['rxn_id', 'mol_type', 'focus_atom_idx', 'path', 'radius', 'angle',\n",
       "       'dihedral', 'r_exist', 'a_exist', 'd_exist', 'focus_atom_symbol'],\n",
       "      dtype='object')"
      ]
     },
     "execution_count": 66,
     "metadata": {},
     "output_type": "execute_result"
    }
   ],
   "source": [
    "# Read extra info\n",
    "atom_extra_feats = pd.read_csv(\"/home/calvin/code/chemprop_phd_customised/habnet/data/preprocessing/all_sdf_features.csv\")\n",
    "atom_extra_feats.columns"
   ]
  },
  {
   "cell_type": "markdown",
   "id": "353c96b3",
   "metadata": {},
   "source": [
    "| Feature       | Transform?              | Normalize? | How?                   |\n",
    "| ------------- | ----------------------- | ---------- | ---------------------- |\n",
    "| radius        | RBF **(recommended)**   | If scalar  | RBF expansion or scale |\n",
    "| angle         | No (or sin/cos, rarely) | Yes        | \\[0,1] or standardize  |\n",
    "| dihedral      | sin/cos **(standard)**  | No         | Use `[sin(θ), cos(θ)]` |\n",
    "| r\\_exist, etc | No                      | No         | Already binary         |\n",
    "| categorical   | One-hot or embedding    | No         | Standard approach      |\n"
   ]
  },
  {
   "cell_type": "code",
   "execution_count": 124,
   "id": "c4def7dc",
   "metadata": {},
   "outputs": [
    {
     "data": {
      "application/vnd.microsoft.datawrangler.viewer.v0+json": {
       "columns": [
        {
         "name": "index",
         "rawType": "int64",
         "type": "integer"
        },
        {
         "name": "rxn_id",
         "rawType": "object",
         "type": "string"
        },
        {
         "name": "mol_type",
         "rawType": "object",
         "type": "string"
        },
        {
         "name": "focus_atom_idx",
         "rawType": "int64",
         "type": "integer"
        },
        {
         "name": "path",
         "rawType": "object",
         "type": "string"
        },
        {
         "name": "radius",
         "rawType": "float64",
         "type": "float"
        },
        {
         "name": "angle",
         "rawType": "float64",
         "type": "float"
        },
        {
         "name": "dihedral",
         "rawType": "float64",
         "type": "float"
        },
        {
         "name": "r_exist",
         "rawType": "int64",
         "type": "integer"
        },
        {
         "name": "a_exist",
         "rawType": "int64",
         "type": "integer"
        },
        {
         "name": "d_exist",
         "rawType": "int64",
         "type": "integer"
        },
        {
         "name": "focus_atom_symbol",
         "rawType": "object",
         "type": "string"
        },
        {
         "name": "radius_rbf_0",
         "rawType": "float64",
         "type": "float"
        },
        {
         "name": "radius_rbf_1",
         "rawType": "float64",
         "type": "float"
        },
        {
         "name": "radius_rbf_2",
         "rawType": "float64",
         "type": "float"
        },
        {
         "name": "radius_rbf_3",
         "rawType": "float64",
         "type": "float"
        },
        {
         "name": "radius_rbf_4",
         "rawType": "float64",
         "type": "float"
        },
        {
         "name": "radius_rbf_5",
         "rawType": "float64",
         "type": "float"
        },
        {
         "name": "radius_rbf_6",
         "rawType": "float64",
         "type": "float"
        },
        {
         "name": "radius_rbf_7",
         "rawType": "float64",
         "type": "float"
        },
        {
         "name": "radius_rbf_8",
         "rawType": "float64",
         "type": "float"
        },
        {
         "name": "radius_rbf_9",
         "rawType": "float64",
         "type": "float"
        },
        {
         "name": "radius_rbf_10",
         "rawType": "float64",
         "type": "float"
        },
        {
         "name": "radius_rbf_11",
         "rawType": "float64",
         "type": "float"
        },
        {
         "name": "radius_rbf_12",
         "rawType": "float64",
         "type": "float"
        },
        {
         "name": "radius_rbf_13",
         "rawType": "float64",
         "type": "float"
        },
        {
         "name": "radius_rbf_14",
         "rawType": "float64",
         "type": "float"
        },
        {
         "name": "radius_rbf_15",
         "rawType": "float64",
         "type": "float"
        },
        {
         "name": "dihedral_sin",
         "rawType": "float64",
         "type": "float"
        },
        {
         "name": "dihedral_cos",
         "rawType": "float64",
         "type": "float"
        },
        {
         "name": "angle_norm",
         "rawType": "float64",
         "type": "float"
        }
       ],
       "ref": "9c99dab9-bf60-49c9-a898-e8159d31ccac",
       "rows": [
        [
         "4587",
         "rmg_rxn_1563",
         "r1h",
         "0",
         "[3, 0]",
         "0.8000038562407059",
         null,
         null,
         "1",
         "0",
         "0",
         "N",
         "0.999999911428634",
         "0.3680984425266319",
         "0.018337453874690282",
         "0.00012363035752924805",
         "1.1280341616733138e-07",
         "1.3929336025903927e-11",
         "2.3278211758838454e-16",
         "5.264775419184397e-22",
         "1.61146590713138e-28",
         "6.675340597773023e-36",
         "3.742284267407619e-44",
         "2.83929916112542e-53",
         "2.91538940137648e-63",
         "4.051287120031395e-74",
         "7.619044535711483e-86",
         "1.9391840806074756e-98",
         null,
         null,
         null
        ],
        [
         "4588",
         "rmg_rxn_1563",
         "r1h",
         "1",
         "[3, 0, 1]",
         "1.793093070646362",
         "2.054993778460364",
         null,
         "1",
         "1",
         "0",
         "N",
         "0.0027422041482830003",
         "0.1298436014587101",
         "0.8320556206097727",
         "0.7215978000795222",
         "0.08469330457784521",
         "0.0013452840490725646",
         "2.891944428255309e-06",
         "8.413504472337328e-10",
         "3.312645424118991e-14",
         "1.7651597332796505e-19",
         "1.272928783896828e-25",
         "1.242325038811011e-32",
         "1.6408822081212125e-40",
         "2.9331252585728056e-49",
         "7.095693533558026e-59",
         "2.3231118816261686e-69",
         null,
         null,
         "0.5700838533691481"
        ],
        [
         "4589",
         "rmg_rxn_1563",
         "r1h",
         "2",
         "[3, 0, 1, 2]",
         "2.2669602290291726",
         "1.5478572009627476",
         "-0.0481671977402427",
         "1",
         "1",
         "1",
         "O",
         "2.572385770576258e-06",
         "0.0012364243150812752",
         "0.08042850792520129",
         "0.7080493409902117",
         "0.8435834873098025",
         "0.13602027652863743",
         "0.002968180263534742",
         "8.765726755296963e-06",
         "3.5034556218130204e-09",
         "1.8950311309039025e-13",
         "1.3872256587915608e-18",
         "1.3743233131200701e-24",
         "1.8426453280396968e-31",
         "3.3435330716639234e-39",
         "8.210706580404922e-48",
         "2.72876714648216e-57",
         "-0.0008406760930036584",
         "0.9999996466317909",
         "0.3694167846742991"
        ],
        [
         "4590",
         "rmg_rxn_1563",
         "r1h",
         "3",
         "[3]",
         null,
         null,
         null,
         "0",
         "0",
         "0",
         "H",
         null,
         null,
         null,
         null,
         null,
         null,
         null,
         null,
         null,
         null,
         null,
         null,
         null,
         null,
         null,
         null,
         null,
         null,
         null
        ],
        [
         "4591",
         "rmg_rxn_1563",
         "r1h",
         "4",
         "[3, 0, 4]",
         "1.6195855827957966",
         "2.212377192272516",
         null,
         "1",
         "1",
         "0",
         "H",
         "0.017989156200233905",
         "0.3645822305664375",
         "0.9999798267155517",
         "0.3711914943498552",
         "0.018647294488923292",
         "0.0001267782285536833",
         "1.1664995216178797e-07",
         "1.4525647042711802e-11",
         "2.4479212665589743e-16",
         "5.583036148047174e-22",
         "1.7232745347374392e-28",
         "7.198624782453784e-36",
         "4.069636691657845e-44",
         "3.113671413368441e-53",
         "3.224043960242268e-63",
         "4.51793695616909e-74",
         null,
         null,
         "0.6323583366389365"
        ],
        [
         "4592",
         "rmg_rxn_1563",
         "r2h",
         "0",
         "[0]",
         null,
         null,
         null,
         "0",
         "0",
         "0",
         "H",
         null,
         null,
         null,
         null,
         null,
         null,
         null,
         null,
         null,
         null,
         null,
         null,
         null,
         null,
         null,
         null,
         null,
         null,
         null
        ],
        [
         "4593",
         "rmg_rxn_1563",
         "r2h",
         "1",
         "[0, 6, 5, 4, 3, 2, 1]",
         "4.969982106607628",
         "2.1812396312340114",
         "-2.147603979712267",
         "1",
         "1",
         "1",
         "C",
         "6.888164764636198e-46",
         "1.8249434209142085e-37",
         "6.543442919543507e-30",
         "3.175223266962141e-23",
         "2.085226591031313e-17",
         "1.8532895496350976e-12",
         "2.229175880669621e-08",
         "3.6287448307751904e-05",
         "0.007994283787620366",
         "0.2383492163003443",
         "0.9617427733232916",
         "0.5251884556916508",
         "0.0388134678249122",
         "0.0003882046729569098",
         "5.254726383028269e-07",
         "9.626102710229054e-11",
         "-0.03747398414492312",
         "0.9992976035757847",
         "0.6200376258538166"
        ],
        [
         "4594",
         "rmg_rxn_1563",
         "r2h",
         "2",
         "[0, 6, 5, 4, 3, 2]",
         "4.391973727152748",
         "2.073401181642036",
         "-1.9200081954333776",
         "1",
         "1",
         "1",
         "C",
         "3.09050795260923e-34",
         "4.846915215119852e-27",
         "1.0287551361262666e-20",
         "2.9550827465671505e-15",
         "1.1487838255600724e-10",
         "6.043910358901897e-07",
         "0.0004303370642453754",
         "0.041467755322494665",
         "0.5407833827660355",
         "0.954436819946398",
         "0.22797229337109992",
         "0.007369329707900392",
         "3.223925096894544e-05",
         "1.9087670736644953e-08",
         "1.5294383041143354e-12",
         "1.6585250172393728e-17",
         "-0.03350419325806346",
         "0.9994385769191253",
         "0.5773674132673056"
        ],
        [
         "4595",
         "rmg_rxn_1563",
         "r2h",
         "3",
         "[0, 6, 5, 4, 3]",
         "3.1603844623716277",
         "1.7613469578650671",
         "-1.5329217719336432",
         "1",
         "1",
         "1",
         "C",
         "3.3833580756520647e-15",
         "1.284825640059915e-10",
         "6.603154551129738e-07",
         "0.0004592717853600317",
         "0.04323138069216619",
         "0.5507309479167353",
         "0.9494910913586142",
         "0.2215406077542054",
         "0.006995629934628301",
         "2.989588046095923e-05",
         "1.7290474247239302e-08",
         "1.3533605058243127e-12",
         "1.433610351086608e-17",
         "2.0552269856852456e-23",
         "3.987488977229681e-30",
         "1.0470085629181842e-37",
         "-0.026751340372062955",
         "0.9996421188546919",
         "0.45389178729657736"
        ],
        [
         "4596",
         "rmg_rxn_1563",
         "r2h",
         "4",
         "[0, 6, 5, 4]",
         "2.4743068079767307",
         "1.5947661679864829",
         "-0.994520103467768",
         "1",
         "1",
         "1",
         "O",
         "5.232078379937287e-08",
         "6.932935750843888e-05",
         "0.012432862934875662",
         "0.3017422694038743",
         "0.9910879481582098",
         "0.44055412699959534",
         "0.026503143561918664",
         "0.00021577769043811305",
         "2.3775339536436078e-07",
         "3.5453404972833416e-11",
         "7.154844696500786e-16",
         "1.954130248920791e-21",
         "7.223003739382475e-28",
         "3.613210038457366e-35",
         "2.4461304439659744e-43",
         "2.2411816276486475e-52",
         "-0.01735677868722681",
         "0.999849359770562",
         "0.3879780270019649"
        ],
        [
         "4597",
         "rmg_rxn_1563",
         "r2h",
         "5",
         "[0, 6, 5]",
         "1.8057068671298784",
         "1.942308998540026",
         null,
         "1",
         "1",
         "0",
         "C",
         "0.0023583823496877445",
         "0.11877557374797847",
         "0.8095638260296535",
         "0.7467686673348336",
         "0.09322494103194122",
         "0.001575031279642801",
         "3.6012832842667684e-06",
         "1.1143879912170263e-09",
         "4.666879611907503e-14",
         "2.6450129852105e-19",
         "2.0288038262904524e-25",
         "2.1060241078015715e-32",
         "2.9586776937467226e-40",
         "5.625265342774256e-49",
         "1.4474361147657465e-58",
         "5.040421231099255e-69",
         null,
         null,
         "0.52549601357121"
        ],
        [
         "4598",
         "rmg_rxn_1563",
         "r2h",
         "6",
         "[0, 6]",
         "0.7999667868105527",
         null,
         null,
         "1",
         "0",
         "0",
         "O",
         "0.9999999571674142",
         "0.36803172984273447",
         "0.018330806825542702",
         "0.00012356313959876536",
         "1.1272164677549298e-07",
         "1.3916715569544686e-11",
         "2.3252904809522383e-16",
         "5.258098439288578e-22",
         "1.6091304285732543e-28",
         "6.664457741883774e-36",
         "3.735505892694204e-44",
         "2.83364257662845e-53",
         "2.909053772469765e-63",
         "4.041750167095935e-74",
         "7.599730943326078e-86",
         "1.9339177759399693e-98",
         null,
         null,
         null
        ],
        [
         "4599",
         "rmg_rxn_1563",
         "r2h",
         "7",
         "[0, 6, 5, 4, 3, 2, 1, 7]",
         "5.987469845435548",
         "2.2782940177111017",
         "-2.307628620188548",
         "1",
         "1",
         "1",
         "H",
         "1.2905891258884801e-70",
         "4.955802180490022e-60",
         "2.5754371707924878e-50",
         "1.8113358916339046e-41",
         "1.724082573686087e-33",
         "2.220895723587784e-26",
         "3.8717678539183424e-20",
         "9.134851417052019e-15",
         "2.9167869078077317e-10",
         "1.2604306412065658e-06",
         "0.0007371302585809427",
         "0.05834189909570605",
         "0.6249250315438607",
         "0.9059126330746337",
         "0.17772795647797837",
         "0.004718850461772034",
         "-0.040264829454231744",
         "0.9991890429288252",
         "0.6584407308604284"
        ],
        [
         "4600",
         "rmg_rxn_1563",
         "r2h",
         "8",
         "[0, 6, 5, 4, 3, 2, 1, 8]",
         "4.690256455674892",
         "2.10138590113151",
         "-2.1888881497772674",
         "1",
         "1",
         "1",
         "H",
         "4.9398451907873126e-40",
         "3.3320537783442743e-32",
         "3.041737287836628e-25",
         "3.7578759308091537e-19",
         "6.283103435640582e-14",
         "1.421729639496955e-09",
         "4.353823927141081e-06",
         "0.001804412147985666",
         "0.10120725805855735",
         "0.768243000115667",
         "0.7892173078416975",
         "0.10972500926924295",
         "0.00206455134265138",
         "5.2572276737462624e-06",
         "1.8117527082636138e-09",
         "8.449910115417689e-14",
         "-0.03819401294322835",
         "0.9992703424876036",
         "0.5884405873931192"
        ],
        [
         "4601",
         "rmg_rxn_1563",
         "r2h",
         "9",
         "[0, 6, 5, 4, 3, 2, 9]",
         "5.1037498694587295",
         "2.0968760385017524",
         "-1.9698295261839596",
         "1",
         "1",
         "1",
         "H",
         "7.83864717447673e-49",
         "3.9949787373009875e-40",
         "2.755490155190648e-32",
         "2.572138153138923e-25",
         "3.2493818877806256e-19",
         "5.555437364822905e-14",
         "1.2854251468271003e-09",
         "4.0251898072227595e-06",
         "0.0017058348115936756",
         "0.09783598411466152",
         "0.7594012347320035",
         "0.7977283311663299",
         "0.1134095872055202",
         "0.0021820040851297682",
         "5.681622635569729e-06",
         "2.002166761386353e-09",
         "-0.03437323855809033",
         "0.9994090656338017",
         "0.5866560958886899"
        ],
        [
         "4602",
         "rmg_rxn_1563",
         "r2h",
         "10",
         "[0, 6, 5, 4, 3, 10]",
         "2.816619436487649",
         "1.8022052247607063",
         "-1.7100565194540982",
         "1",
         "1",
         "1",
         "H",
         "2.736706622046522e-11",
         "1.9344404013961655e-07",
         "0.00018505187979654406",
         "0.02395756551331291",
         "0.41976179074109",
         "0.9953461928502426",
         "0.319415841692703",
         "0.01387234176145737",
         "8.153689026961745e-05",
         "6.485889485754816e-08",
         "6.982259426776456e-12",
         "1.0172634809538407e-16",
         "2.005773840798669e-22",
         "5.352313067012231e-29",
         "1.9329120328319143e-36",
         "9.446995474180054e-45",
         "-0.02984168574993298",
         "0.9995546377220218",
         "0.4700588496101576"
        ],
        [
         "4603",
         "rmg_rxn_1563",
         "r2h",
         "11",
         "[0, 6, 5, 4, 3, 11]",
         "3.719180255109989",
         "1.5239246827284163",
         "-1.2906690558714855",
         "1",
         "1",
         "1",
         "H",
         "7.36565956223866e-23",
         "4.301401450870296e-17",
         "3.399533683505246e-12",
         "3.6361329668922703e-08",
         "5.263458462605737e-05",
         "0.010311306111651259",
         "0.2733802876266107",
         "0.980915841796231",
         "0.47632934420783757",
         "0.031303576664370725",
         "0.00027841435435003065",
         "3.35119978722945e-07",
         "5.459087471380993e-11",
         "1.2035131021063913e-15",
         "3.590811672934751e-21",
         "1.4499247731758007e-27",
         "-0.022524519492820604",
         "0.9997462908266365",
         "0.3599470116512877"
        ],
        [
         "4604",
         "rmg_rxn_1563",
         "r2h",
         "12",
         "[0, 6, 5, 12]",
         "2.268425943247873",
         "1.6766192180304624",
         "1.103348910927337",
         "1",
         "1",
         "1",
         "H",
         "2.5070418532944896e-06",
         "0.001213685747223283",
         "0.07951736050909618",
         "0.7050642519609263",
         "0.8460703425577597",
         "0.13740270553997155",
         "0.003019917876357052",
         "8.982681842876549e-06",
         "3.6159959774511217e-09",
         "1.969975821379797e-13",
         "1.4524623686496992e-18",
         "1.449305428114256e-24",
         "1.9571584379063722e-31",
         "3.576869426090801e-39",
         "8.846902165950597e-48",
         "2.961354497369323e-57",
         "0.01925588111736347",
         "0.9998145883324537",
         "0.4203661692596299"
        ],
        [
         "4605",
         "rmg_rxn_1563",
         "r2h",
         "13",
         "[0, 6, 5, 13]",
         "2.6615457031582235",
         "2.510494597277945",
         "-3.130169806946868",
         "1",
         "1",
         "1",
         "H",
         "9.981348166139125e-10",
         "3.3047164343779834e-06",
         "0.0014807789491249831",
         "0.0897960637590843",
         "0.7369455549376549",
         "0.8185110444105409",
         "0.12303388002853181",
         "0.002502856399535614",
         "6.890618116215047e-06",
         "2.567387761300886e-09",
         "1.2946005517267807e-13",
         "8.83468654091612e-19",
         "8.159387121534306e-25",
         "1.0198468725731126e-31",
         "1.7251363825119642e-39",
         "3.9493255648694717e-48",
         "-0.054604597394747365",
         "0.9985080560232639",
         "0.7503193523569078"
        ]
       ],
       "shape": {
        "columns": 30,
        "rows": 19
       }
      },
      "text/html": [
       "<div>\n",
       "<style scoped>\n",
       "    .dataframe tbody tr th:only-of-type {\n",
       "        vertical-align: middle;\n",
       "    }\n",
       "\n",
       "    .dataframe tbody tr th {\n",
       "        vertical-align: top;\n",
       "    }\n",
       "\n",
       "    .dataframe thead th {\n",
       "        text-align: right;\n",
       "    }\n",
       "</style>\n",
       "<table border=\"1\" class=\"dataframe\">\n",
       "  <thead>\n",
       "    <tr style=\"text-align: right;\">\n",
       "      <th></th>\n",
       "      <th>rxn_id</th>\n",
       "      <th>mol_type</th>\n",
       "      <th>focus_atom_idx</th>\n",
       "      <th>path</th>\n",
       "      <th>radius</th>\n",
       "      <th>angle</th>\n",
       "      <th>dihedral</th>\n",
       "      <th>r_exist</th>\n",
       "      <th>a_exist</th>\n",
       "      <th>d_exist</th>\n",
       "      <th>...</th>\n",
       "      <th>radius_rbf_9</th>\n",
       "      <th>radius_rbf_10</th>\n",
       "      <th>radius_rbf_11</th>\n",
       "      <th>radius_rbf_12</th>\n",
       "      <th>radius_rbf_13</th>\n",
       "      <th>radius_rbf_14</th>\n",
       "      <th>radius_rbf_15</th>\n",
       "      <th>dihedral_sin</th>\n",
       "      <th>dihedral_cos</th>\n",
       "      <th>angle_norm</th>\n",
       "    </tr>\n",
       "  </thead>\n",
       "  <tbody>\n",
       "    <tr>\n",
       "      <th>4587</th>\n",
       "      <td>rmg_rxn_1563</td>\n",
       "      <td>r1h</td>\n",
       "      <td>0</td>\n",
       "      <td>[3, 0]</td>\n",
       "      <td>0.800004</td>\n",
       "      <td>NaN</td>\n",
       "      <td>NaN</td>\n",
       "      <td>1</td>\n",
       "      <td>0</td>\n",
       "      <td>0</td>\n",
       "      <td>...</td>\n",
       "      <td>6.675341e-36</td>\n",
       "      <td>3.742284e-44</td>\n",
       "      <td>2.839299e-53</td>\n",
       "      <td>2.915389e-63</td>\n",
       "      <td>4.051287e-74</td>\n",
       "      <td>7.619045e-86</td>\n",
       "      <td>1.939184e-98</td>\n",
       "      <td>NaN</td>\n",
       "      <td>NaN</td>\n",
       "      <td>NaN</td>\n",
       "    </tr>\n",
       "    <tr>\n",
       "      <th>4588</th>\n",
       "      <td>rmg_rxn_1563</td>\n",
       "      <td>r1h</td>\n",
       "      <td>1</td>\n",
       "      <td>[3, 0, 1]</td>\n",
       "      <td>1.793093</td>\n",
       "      <td>2.054994</td>\n",
       "      <td>NaN</td>\n",
       "      <td>1</td>\n",
       "      <td>1</td>\n",
       "      <td>0</td>\n",
       "      <td>...</td>\n",
       "      <td>1.765160e-19</td>\n",
       "      <td>1.272929e-25</td>\n",
       "      <td>1.242325e-32</td>\n",
       "      <td>1.640882e-40</td>\n",
       "      <td>2.933125e-49</td>\n",
       "      <td>7.095694e-59</td>\n",
       "      <td>2.323112e-69</td>\n",
       "      <td>NaN</td>\n",
       "      <td>NaN</td>\n",
       "      <td>0.570084</td>\n",
       "    </tr>\n",
       "    <tr>\n",
       "      <th>4589</th>\n",
       "      <td>rmg_rxn_1563</td>\n",
       "      <td>r1h</td>\n",
       "      <td>2</td>\n",
       "      <td>[3, 0, 1, 2]</td>\n",
       "      <td>2.266960</td>\n",
       "      <td>1.547857</td>\n",
       "      <td>-0.048167</td>\n",
       "      <td>1</td>\n",
       "      <td>1</td>\n",
       "      <td>1</td>\n",
       "      <td>...</td>\n",
       "      <td>1.895031e-13</td>\n",
       "      <td>1.387226e-18</td>\n",
       "      <td>1.374323e-24</td>\n",
       "      <td>1.842645e-31</td>\n",
       "      <td>3.343533e-39</td>\n",
       "      <td>8.210707e-48</td>\n",
       "      <td>2.728767e-57</td>\n",
       "      <td>-0.000841</td>\n",
       "      <td>1.000000</td>\n",
       "      <td>0.369417</td>\n",
       "    </tr>\n",
       "    <tr>\n",
       "      <th>4590</th>\n",
       "      <td>rmg_rxn_1563</td>\n",
       "      <td>r1h</td>\n",
       "      <td>3</td>\n",
       "      <td>[3]</td>\n",
       "      <td>NaN</td>\n",
       "      <td>NaN</td>\n",
       "      <td>NaN</td>\n",
       "      <td>0</td>\n",
       "      <td>0</td>\n",
       "      <td>0</td>\n",
       "      <td>...</td>\n",
       "      <td>NaN</td>\n",
       "      <td>NaN</td>\n",
       "      <td>NaN</td>\n",
       "      <td>NaN</td>\n",
       "      <td>NaN</td>\n",
       "      <td>NaN</td>\n",
       "      <td>NaN</td>\n",
       "      <td>NaN</td>\n",
       "      <td>NaN</td>\n",
       "      <td>NaN</td>\n",
       "    </tr>\n",
       "    <tr>\n",
       "      <th>4591</th>\n",
       "      <td>rmg_rxn_1563</td>\n",
       "      <td>r1h</td>\n",
       "      <td>4</td>\n",
       "      <td>[3, 0, 4]</td>\n",
       "      <td>1.619586</td>\n",
       "      <td>2.212377</td>\n",
       "      <td>NaN</td>\n",
       "      <td>1</td>\n",
       "      <td>1</td>\n",
       "      <td>0</td>\n",
       "      <td>...</td>\n",
       "      <td>5.583036e-22</td>\n",
       "      <td>1.723275e-28</td>\n",
       "      <td>7.198625e-36</td>\n",
       "      <td>4.069637e-44</td>\n",
       "      <td>3.113671e-53</td>\n",
       "      <td>3.224044e-63</td>\n",
       "      <td>4.517937e-74</td>\n",
       "      <td>NaN</td>\n",
       "      <td>NaN</td>\n",
       "      <td>0.632358</td>\n",
       "    </tr>\n",
       "    <tr>\n",
       "      <th>4592</th>\n",
       "      <td>rmg_rxn_1563</td>\n",
       "      <td>r2h</td>\n",
       "      <td>0</td>\n",
       "      <td>[0]</td>\n",
       "      <td>NaN</td>\n",
       "      <td>NaN</td>\n",
       "      <td>NaN</td>\n",
       "      <td>0</td>\n",
       "      <td>0</td>\n",
       "      <td>0</td>\n",
       "      <td>...</td>\n",
       "      <td>NaN</td>\n",
       "      <td>NaN</td>\n",
       "      <td>NaN</td>\n",
       "      <td>NaN</td>\n",
       "      <td>NaN</td>\n",
       "      <td>NaN</td>\n",
       "      <td>NaN</td>\n",
       "      <td>NaN</td>\n",
       "      <td>NaN</td>\n",
       "      <td>NaN</td>\n",
       "    </tr>\n",
       "    <tr>\n",
       "      <th>4593</th>\n",
       "      <td>rmg_rxn_1563</td>\n",
       "      <td>r2h</td>\n",
       "      <td>1</td>\n",
       "      <td>[0, 6, 5, 4, 3, 2, 1]</td>\n",
       "      <td>4.969982</td>\n",
       "      <td>2.181240</td>\n",
       "      <td>-2.147604</td>\n",
       "      <td>1</td>\n",
       "      <td>1</td>\n",
       "      <td>1</td>\n",
       "      <td>...</td>\n",
       "      <td>2.383492e-01</td>\n",
       "      <td>9.617428e-01</td>\n",
       "      <td>5.251885e-01</td>\n",
       "      <td>3.881347e-02</td>\n",
       "      <td>3.882047e-04</td>\n",
       "      <td>5.254726e-07</td>\n",
       "      <td>9.626103e-11</td>\n",
       "      <td>-0.037474</td>\n",
       "      <td>0.999298</td>\n",
       "      <td>0.620038</td>\n",
       "    </tr>\n",
       "    <tr>\n",
       "      <th>4594</th>\n",
       "      <td>rmg_rxn_1563</td>\n",
       "      <td>r2h</td>\n",
       "      <td>2</td>\n",
       "      <td>[0, 6, 5, 4, 3, 2]</td>\n",
       "      <td>4.391974</td>\n",
       "      <td>2.073401</td>\n",
       "      <td>-1.920008</td>\n",
       "      <td>1</td>\n",
       "      <td>1</td>\n",
       "      <td>1</td>\n",
       "      <td>...</td>\n",
       "      <td>9.544368e-01</td>\n",
       "      <td>2.279723e-01</td>\n",
       "      <td>7.369330e-03</td>\n",
       "      <td>3.223925e-05</td>\n",
       "      <td>1.908767e-08</td>\n",
       "      <td>1.529438e-12</td>\n",
       "      <td>1.658525e-17</td>\n",
       "      <td>-0.033504</td>\n",
       "      <td>0.999439</td>\n",
       "      <td>0.577367</td>\n",
       "    </tr>\n",
       "    <tr>\n",
       "      <th>4595</th>\n",
       "      <td>rmg_rxn_1563</td>\n",
       "      <td>r2h</td>\n",
       "      <td>3</td>\n",
       "      <td>[0, 6, 5, 4, 3]</td>\n",
       "      <td>3.160384</td>\n",
       "      <td>1.761347</td>\n",
       "      <td>-1.532922</td>\n",
       "      <td>1</td>\n",
       "      <td>1</td>\n",
       "      <td>1</td>\n",
       "      <td>...</td>\n",
       "      <td>2.989588e-05</td>\n",
       "      <td>1.729047e-08</td>\n",
       "      <td>1.353361e-12</td>\n",
       "      <td>1.433610e-17</td>\n",
       "      <td>2.055227e-23</td>\n",
       "      <td>3.987489e-30</td>\n",
       "      <td>1.047009e-37</td>\n",
       "      <td>-0.026751</td>\n",
       "      <td>0.999642</td>\n",
       "      <td>0.453892</td>\n",
       "    </tr>\n",
       "    <tr>\n",
       "      <th>4596</th>\n",
       "      <td>rmg_rxn_1563</td>\n",
       "      <td>r2h</td>\n",
       "      <td>4</td>\n",
       "      <td>[0, 6, 5, 4]</td>\n",
       "      <td>2.474307</td>\n",
       "      <td>1.594766</td>\n",
       "      <td>-0.994520</td>\n",
       "      <td>1</td>\n",
       "      <td>1</td>\n",
       "      <td>1</td>\n",
       "      <td>...</td>\n",
       "      <td>3.545340e-11</td>\n",
       "      <td>7.154845e-16</td>\n",
       "      <td>1.954130e-21</td>\n",
       "      <td>7.223004e-28</td>\n",
       "      <td>3.613210e-35</td>\n",
       "      <td>2.446130e-43</td>\n",
       "      <td>2.241182e-52</td>\n",
       "      <td>-0.017357</td>\n",
       "      <td>0.999849</td>\n",
       "      <td>0.387978</td>\n",
       "    </tr>\n",
       "    <tr>\n",
       "      <th>4597</th>\n",
       "      <td>rmg_rxn_1563</td>\n",
       "      <td>r2h</td>\n",
       "      <td>5</td>\n",
       "      <td>[0, 6, 5]</td>\n",
       "      <td>1.805707</td>\n",
       "      <td>1.942309</td>\n",
       "      <td>NaN</td>\n",
       "      <td>1</td>\n",
       "      <td>1</td>\n",
       "      <td>0</td>\n",
       "      <td>...</td>\n",
       "      <td>2.645013e-19</td>\n",
       "      <td>2.028804e-25</td>\n",
       "      <td>2.106024e-32</td>\n",
       "      <td>2.958678e-40</td>\n",
       "      <td>5.625265e-49</td>\n",
       "      <td>1.447436e-58</td>\n",
       "      <td>5.040421e-69</td>\n",
       "      <td>NaN</td>\n",
       "      <td>NaN</td>\n",
       "      <td>0.525496</td>\n",
       "    </tr>\n",
       "    <tr>\n",
       "      <th>4598</th>\n",
       "      <td>rmg_rxn_1563</td>\n",
       "      <td>r2h</td>\n",
       "      <td>6</td>\n",
       "      <td>[0, 6]</td>\n",
       "      <td>0.799967</td>\n",
       "      <td>NaN</td>\n",
       "      <td>NaN</td>\n",
       "      <td>1</td>\n",
       "      <td>0</td>\n",
       "      <td>0</td>\n",
       "      <td>...</td>\n",
       "      <td>6.664458e-36</td>\n",
       "      <td>3.735506e-44</td>\n",
       "      <td>2.833643e-53</td>\n",
       "      <td>2.909054e-63</td>\n",
       "      <td>4.041750e-74</td>\n",
       "      <td>7.599731e-86</td>\n",
       "      <td>1.933918e-98</td>\n",
       "      <td>NaN</td>\n",
       "      <td>NaN</td>\n",
       "      <td>NaN</td>\n",
       "    </tr>\n",
       "    <tr>\n",
       "      <th>4599</th>\n",
       "      <td>rmg_rxn_1563</td>\n",
       "      <td>r2h</td>\n",
       "      <td>7</td>\n",
       "      <td>[0, 6, 5, 4, 3, 2, 1, 7]</td>\n",
       "      <td>5.987470</td>\n",
       "      <td>2.278294</td>\n",
       "      <td>-2.307629</td>\n",
       "      <td>1</td>\n",
       "      <td>1</td>\n",
       "      <td>1</td>\n",
       "      <td>...</td>\n",
       "      <td>1.260431e-06</td>\n",
       "      <td>7.371303e-04</td>\n",
       "      <td>5.834190e-02</td>\n",
       "      <td>6.249250e-01</td>\n",
       "      <td>9.059126e-01</td>\n",
       "      <td>1.777280e-01</td>\n",
       "      <td>4.718850e-03</td>\n",
       "      <td>-0.040265</td>\n",
       "      <td>0.999189</td>\n",
       "      <td>0.658441</td>\n",
       "    </tr>\n",
       "    <tr>\n",
       "      <th>4600</th>\n",
       "      <td>rmg_rxn_1563</td>\n",
       "      <td>r2h</td>\n",
       "      <td>8</td>\n",
       "      <td>[0, 6, 5, 4, 3, 2, 1, 8]</td>\n",
       "      <td>4.690256</td>\n",
       "      <td>2.101386</td>\n",
       "      <td>-2.188888</td>\n",
       "      <td>1</td>\n",
       "      <td>1</td>\n",
       "      <td>1</td>\n",
       "      <td>...</td>\n",
       "      <td>7.682430e-01</td>\n",
       "      <td>7.892173e-01</td>\n",
       "      <td>1.097250e-01</td>\n",
       "      <td>2.064551e-03</td>\n",
       "      <td>5.257228e-06</td>\n",
       "      <td>1.811753e-09</td>\n",
       "      <td>8.449910e-14</td>\n",
       "      <td>-0.038194</td>\n",
       "      <td>0.999270</td>\n",
       "      <td>0.588441</td>\n",
       "    </tr>\n",
       "    <tr>\n",
       "      <th>4601</th>\n",
       "      <td>rmg_rxn_1563</td>\n",
       "      <td>r2h</td>\n",
       "      <td>9</td>\n",
       "      <td>[0, 6, 5, 4, 3, 2, 9]</td>\n",
       "      <td>5.103750</td>\n",
       "      <td>2.096876</td>\n",
       "      <td>-1.969830</td>\n",
       "      <td>1</td>\n",
       "      <td>1</td>\n",
       "      <td>1</td>\n",
       "      <td>...</td>\n",
       "      <td>9.783598e-02</td>\n",
       "      <td>7.594012e-01</td>\n",
       "      <td>7.977283e-01</td>\n",
       "      <td>1.134096e-01</td>\n",
       "      <td>2.182004e-03</td>\n",
       "      <td>5.681623e-06</td>\n",
       "      <td>2.002167e-09</td>\n",
       "      <td>-0.034373</td>\n",
       "      <td>0.999409</td>\n",
       "      <td>0.586656</td>\n",
       "    </tr>\n",
       "    <tr>\n",
       "      <th>4602</th>\n",
       "      <td>rmg_rxn_1563</td>\n",
       "      <td>r2h</td>\n",
       "      <td>10</td>\n",
       "      <td>[0, 6, 5, 4, 3, 10]</td>\n",
       "      <td>2.816619</td>\n",
       "      <td>1.802205</td>\n",
       "      <td>-1.710057</td>\n",
       "      <td>1</td>\n",
       "      <td>1</td>\n",
       "      <td>1</td>\n",
       "      <td>...</td>\n",
       "      <td>6.485889e-08</td>\n",
       "      <td>6.982259e-12</td>\n",
       "      <td>1.017263e-16</td>\n",
       "      <td>2.005774e-22</td>\n",
       "      <td>5.352313e-29</td>\n",
       "      <td>1.932912e-36</td>\n",
       "      <td>9.446995e-45</td>\n",
       "      <td>-0.029842</td>\n",
       "      <td>0.999555</td>\n",
       "      <td>0.470059</td>\n",
       "    </tr>\n",
       "    <tr>\n",
       "      <th>4603</th>\n",
       "      <td>rmg_rxn_1563</td>\n",
       "      <td>r2h</td>\n",
       "      <td>11</td>\n",
       "      <td>[0, 6, 5, 4, 3, 11]</td>\n",
       "      <td>3.719180</td>\n",
       "      <td>1.523925</td>\n",
       "      <td>-1.290669</td>\n",
       "      <td>1</td>\n",
       "      <td>1</td>\n",
       "      <td>1</td>\n",
       "      <td>...</td>\n",
       "      <td>3.130358e-02</td>\n",
       "      <td>2.784144e-04</td>\n",
       "      <td>3.351200e-07</td>\n",
       "      <td>5.459087e-11</td>\n",
       "      <td>1.203513e-15</td>\n",
       "      <td>3.590812e-21</td>\n",
       "      <td>1.449925e-27</td>\n",
       "      <td>-0.022525</td>\n",
       "      <td>0.999746</td>\n",
       "      <td>0.359947</td>\n",
       "    </tr>\n",
       "    <tr>\n",
       "      <th>4604</th>\n",
       "      <td>rmg_rxn_1563</td>\n",
       "      <td>r2h</td>\n",
       "      <td>12</td>\n",
       "      <td>[0, 6, 5, 12]</td>\n",
       "      <td>2.268426</td>\n",
       "      <td>1.676619</td>\n",
       "      <td>1.103349</td>\n",
       "      <td>1</td>\n",
       "      <td>1</td>\n",
       "      <td>1</td>\n",
       "      <td>...</td>\n",
       "      <td>1.969976e-13</td>\n",
       "      <td>1.452462e-18</td>\n",
       "      <td>1.449305e-24</td>\n",
       "      <td>1.957158e-31</td>\n",
       "      <td>3.576869e-39</td>\n",
       "      <td>8.846902e-48</td>\n",
       "      <td>2.961354e-57</td>\n",
       "      <td>0.019256</td>\n",
       "      <td>0.999815</td>\n",
       "      <td>0.420366</td>\n",
       "    </tr>\n",
       "    <tr>\n",
       "      <th>4605</th>\n",
       "      <td>rmg_rxn_1563</td>\n",
       "      <td>r2h</td>\n",
       "      <td>13</td>\n",
       "      <td>[0, 6, 5, 13]</td>\n",
       "      <td>2.661546</td>\n",
       "      <td>2.510495</td>\n",
       "      <td>-3.130170</td>\n",
       "      <td>1</td>\n",
       "      <td>1</td>\n",
       "      <td>1</td>\n",
       "      <td>...</td>\n",
       "      <td>2.567388e-09</td>\n",
       "      <td>1.294601e-13</td>\n",
       "      <td>8.834687e-19</td>\n",
       "      <td>8.159387e-25</td>\n",
       "      <td>1.019847e-31</td>\n",
       "      <td>1.725136e-39</td>\n",
       "      <td>3.949326e-48</td>\n",
       "      <td>-0.054605</td>\n",
       "      <td>0.998508</td>\n",
       "      <td>0.750319</td>\n",
       "    </tr>\n",
       "  </tbody>\n",
       "</table>\n",
       "<p>19 rows × 30 columns</p>\n",
       "</div>"
      ],
      "text/plain": [
       "            rxn_id mol_type  focus_atom_idx                      path  \\\n",
       "4587  rmg_rxn_1563      r1h               0                    [3, 0]   \n",
       "4588  rmg_rxn_1563      r1h               1                 [3, 0, 1]   \n",
       "4589  rmg_rxn_1563      r1h               2              [3, 0, 1, 2]   \n",
       "4590  rmg_rxn_1563      r1h               3                       [3]   \n",
       "4591  rmg_rxn_1563      r1h               4                 [3, 0, 4]   \n",
       "4592  rmg_rxn_1563      r2h               0                       [0]   \n",
       "4593  rmg_rxn_1563      r2h               1     [0, 6, 5, 4, 3, 2, 1]   \n",
       "4594  rmg_rxn_1563      r2h               2        [0, 6, 5, 4, 3, 2]   \n",
       "4595  rmg_rxn_1563      r2h               3           [0, 6, 5, 4, 3]   \n",
       "4596  rmg_rxn_1563      r2h               4              [0, 6, 5, 4]   \n",
       "4597  rmg_rxn_1563      r2h               5                 [0, 6, 5]   \n",
       "4598  rmg_rxn_1563      r2h               6                    [0, 6]   \n",
       "4599  rmg_rxn_1563      r2h               7  [0, 6, 5, 4, 3, 2, 1, 7]   \n",
       "4600  rmg_rxn_1563      r2h               8  [0, 6, 5, 4, 3, 2, 1, 8]   \n",
       "4601  rmg_rxn_1563      r2h               9     [0, 6, 5, 4, 3, 2, 9]   \n",
       "4602  rmg_rxn_1563      r2h              10       [0, 6, 5, 4, 3, 10]   \n",
       "4603  rmg_rxn_1563      r2h              11       [0, 6, 5, 4, 3, 11]   \n",
       "4604  rmg_rxn_1563      r2h              12             [0, 6, 5, 12]   \n",
       "4605  rmg_rxn_1563      r2h              13             [0, 6, 5, 13]   \n",
       "\n",
       "        radius     angle  dihedral  r_exist  a_exist  d_exist  ...  \\\n",
       "4587  0.800004       NaN       NaN        1        0        0  ...   \n",
       "4588  1.793093  2.054994       NaN        1        1        0  ...   \n",
       "4589  2.266960  1.547857 -0.048167        1        1        1  ...   \n",
       "4590       NaN       NaN       NaN        0        0        0  ...   \n",
       "4591  1.619586  2.212377       NaN        1        1        0  ...   \n",
       "4592       NaN       NaN       NaN        0        0        0  ...   \n",
       "4593  4.969982  2.181240 -2.147604        1        1        1  ...   \n",
       "4594  4.391974  2.073401 -1.920008        1        1        1  ...   \n",
       "4595  3.160384  1.761347 -1.532922        1        1        1  ...   \n",
       "4596  2.474307  1.594766 -0.994520        1        1        1  ...   \n",
       "4597  1.805707  1.942309       NaN        1        1        0  ...   \n",
       "4598  0.799967       NaN       NaN        1        0        0  ...   \n",
       "4599  5.987470  2.278294 -2.307629        1        1        1  ...   \n",
       "4600  4.690256  2.101386 -2.188888        1        1        1  ...   \n",
       "4601  5.103750  2.096876 -1.969830        1        1        1  ...   \n",
       "4602  2.816619  1.802205 -1.710057        1        1        1  ...   \n",
       "4603  3.719180  1.523925 -1.290669        1        1        1  ...   \n",
       "4604  2.268426  1.676619  1.103349        1        1        1  ...   \n",
       "4605  2.661546  2.510495 -3.130170        1        1        1  ...   \n",
       "\n",
       "      radius_rbf_9  radius_rbf_10  radius_rbf_11  radius_rbf_12  \\\n",
       "4587  6.675341e-36   3.742284e-44   2.839299e-53   2.915389e-63   \n",
       "4588  1.765160e-19   1.272929e-25   1.242325e-32   1.640882e-40   \n",
       "4589  1.895031e-13   1.387226e-18   1.374323e-24   1.842645e-31   \n",
       "4590           NaN            NaN            NaN            NaN   \n",
       "4591  5.583036e-22   1.723275e-28   7.198625e-36   4.069637e-44   \n",
       "4592           NaN            NaN            NaN            NaN   \n",
       "4593  2.383492e-01   9.617428e-01   5.251885e-01   3.881347e-02   \n",
       "4594  9.544368e-01   2.279723e-01   7.369330e-03   3.223925e-05   \n",
       "4595  2.989588e-05   1.729047e-08   1.353361e-12   1.433610e-17   \n",
       "4596  3.545340e-11   7.154845e-16   1.954130e-21   7.223004e-28   \n",
       "4597  2.645013e-19   2.028804e-25   2.106024e-32   2.958678e-40   \n",
       "4598  6.664458e-36   3.735506e-44   2.833643e-53   2.909054e-63   \n",
       "4599  1.260431e-06   7.371303e-04   5.834190e-02   6.249250e-01   \n",
       "4600  7.682430e-01   7.892173e-01   1.097250e-01   2.064551e-03   \n",
       "4601  9.783598e-02   7.594012e-01   7.977283e-01   1.134096e-01   \n",
       "4602  6.485889e-08   6.982259e-12   1.017263e-16   2.005774e-22   \n",
       "4603  3.130358e-02   2.784144e-04   3.351200e-07   5.459087e-11   \n",
       "4604  1.969976e-13   1.452462e-18   1.449305e-24   1.957158e-31   \n",
       "4605  2.567388e-09   1.294601e-13   8.834687e-19   8.159387e-25   \n",
       "\n",
       "      radius_rbf_13  radius_rbf_14  radius_rbf_15  dihedral_sin  dihedral_cos  \\\n",
       "4587   4.051287e-74   7.619045e-86   1.939184e-98           NaN           NaN   \n",
       "4588   2.933125e-49   7.095694e-59   2.323112e-69           NaN           NaN   \n",
       "4589   3.343533e-39   8.210707e-48   2.728767e-57     -0.000841      1.000000   \n",
       "4590            NaN            NaN            NaN           NaN           NaN   \n",
       "4591   3.113671e-53   3.224044e-63   4.517937e-74           NaN           NaN   \n",
       "4592            NaN            NaN            NaN           NaN           NaN   \n",
       "4593   3.882047e-04   5.254726e-07   9.626103e-11     -0.037474      0.999298   \n",
       "4594   1.908767e-08   1.529438e-12   1.658525e-17     -0.033504      0.999439   \n",
       "4595   2.055227e-23   3.987489e-30   1.047009e-37     -0.026751      0.999642   \n",
       "4596   3.613210e-35   2.446130e-43   2.241182e-52     -0.017357      0.999849   \n",
       "4597   5.625265e-49   1.447436e-58   5.040421e-69           NaN           NaN   \n",
       "4598   4.041750e-74   7.599731e-86   1.933918e-98           NaN           NaN   \n",
       "4599   9.059126e-01   1.777280e-01   4.718850e-03     -0.040265      0.999189   \n",
       "4600   5.257228e-06   1.811753e-09   8.449910e-14     -0.038194      0.999270   \n",
       "4601   2.182004e-03   5.681623e-06   2.002167e-09     -0.034373      0.999409   \n",
       "4602   5.352313e-29   1.932912e-36   9.446995e-45     -0.029842      0.999555   \n",
       "4603   1.203513e-15   3.590812e-21   1.449925e-27     -0.022525      0.999746   \n",
       "4604   3.576869e-39   8.846902e-48   2.961354e-57      0.019256      0.999815   \n",
       "4605   1.019847e-31   1.725136e-39   3.949326e-48     -0.054605      0.998508   \n",
       "\n",
       "      angle_norm  \n",
       "4587         NaN  \n",
       "4588    0.570084  \n",
       "4589    0.369417  \n",
       "4590         NaN  \n",
       "4591    0.632358  \n",
       "4592         NaN  \n",
       "4593    0.620038  \n",
       "4594    0.577367  \n",
       "4595    0.453892  \n",
       "4596    0.387978  \n",
       "4597    0.525496  \n",
       "4598         NaN  \n",
       "4599    0.658441  \n",
       "4600    0.588441  \n",
       "4601    0.586656  \n",
       "4602    0.470059  \n",
       "4603    0.359947  \n",
       "4604    0.420366  \n",
       "4605    0.750319  \n",
       "\n",
       "[19 rows x 30 columns]"
      ]
     },
     "execution_count": 124,
     "metadata": {},
     "output_type": "execute_result"
    }
   ],
   "source": [
    "atom_extra_feats[atom_extra_feats['rxn_id'] == 'rmg_rxn_1563']"
   ]
  },
  {
   "cell_type": "code",
   "execution_count": 67,
   "id": "b9777497",
   "metadata": {},
   "outputs": [],
   "source": [
    "import numpy as np\n",
    "\n",
    "def rbf_expand(values, num_centers=20, r_min=None, r_max=None, gamma=None):\n",
    "    values = np.asarray(values)\n",
    "    if r_min is None:\n",
    "        r_min = float(np.min(values))\n",
    "    if r_max is None:\n",
    "        r_max = float(np.max(values))\n",
    "    # Generate evenly spaced centers\n",
    "    centers = np.linspace(r_min, r_max, num_centers)\n",
    "    if gamma is None:\n",
    "        # Set gamma so adjacent bases overlap well\n",
    "        gamma = 1.0 / (centers[1] - centers[0])**2\n",
    "    # Compute RBF\n",
    "    expanded = np.exp(-gamma * (values[..., None] - centers)**2)\n",
    "    return expanded  # shape: (len(values), num_centers)\n",
    "\n",
    "def dihedral_to_sin_cos(dihedrals_deg):\n",
    "    dihedrals_rad = np.deg2rad(dihedrals_deg)\n",
    "    sin_vals = np.sin(dihedrals_rad)\n",
    "    cos_vals = np.cos(dihedrals_rad)\n",
    "    return np.stack([sin_vals, cos_vals], axis=-1)\n",
    "\n",
    "def normalize_angle(angle_deg, a_min=0.0, a_max=180.0):\n",
    "    # If your angles can go up to 180, otherwise adjust a_max as needed\n",
    "    angle_deg = np.asarray(angle_deg)\n",
    "    return (angle_deg - a_min) / (a_max - a_min)\n",
    "\n"
   ]
  },
  {
   "cell_type": "code",
   "execution_count": 68,
   "id": "4da05a41",
   "metadata": {},
   "outputs": [],
   "source": [
    "import numpy as np\n",
    "import pandas as pd\n",
    "\n",
    "# Your DataFrame and rxn_ids\n",
    "# atom_extra_feats: DataFrame with all data\n",
    "# rxn_ids: list of rxn_ids in the train set\n",
    "\n",
    "# 1. Subset for fitting\n",
    "train_mask = atom_extra_feats['rxn_id'].isin(rxn_ids)\n",
    "train_feats = atom_extra_feats[train_mask]\n",
    "\n",
    "# 2. Compute parameters from training data\n",
    "num_centers = 16\n",
    "r_min = train_feats['radius'].min()\n",
    "r_max = train_feats['radius'].max()\n",
    "a_min = train_feats['angle'].min()\n",
    "a_max = train_feats['angle'].max()\n",
    "\n",
    "# 3. Apply to all data using train params\n",
    "radius_rbf = rbf_expand(atom_extra_feats['radius'].values, num_centers=num_centers, r_min=r_min, r_max=r_max)\n",
    "dihedral_sc = dihedral_to_sin_cos(atom_extra_feats['dihedral'].values)\n",
    "angle_norm = normalize_angle(atom_extra_feats['angle'].values, a_min=a_min, a_max=a_max)\n",
    "\n",
    "# 4. Stack or add to DataFrame\n",
    "for i in range(num_centers):\n",
    "    atom_extra_feats[f'radius_rbf_{i}'] = radius_rbf[:, i]\n",
    "atom_extra_feats['dihedral_sin'] = dihedral_sc[:, 0]\n",
    "atom_extra_feats['dihedral_cos'] = dihedral_sc[:, 1]\n",
    "atom_extra_feats['angle_norm'] = angle_norm\n"
   ]
  },
  {
   "cell_type": "code",
   "execution_count": 69,
   "id": "d65a15db",
   "metadata": {},
   "outputs": [
    {
     "data": {
      "text/plain": [
       "Index(['rxn_id', 'mol_type', 'focus_atom_idx', 'path', 'radius', 'angle',\n",
       "       'dihedral', 'r_exist', 'a_exist', 'd_exist', 'focus_atom_symbol',\n",
       "       'radius_rbf_0', 'radius_rbf_1', 'radius_rbf_2', 'radius_rbf_3',\n",
       "       'radius_rbf_4', 'radius_rbf_5', 'radius_rbf_6', 'radius_rbf_7',\n",
       "       'radius_rbf_8', 'radius_rbf_9', 'radius_rbf_10', 'radius_rbf_11',\n",
       "       'radius_rbf_12', 'radius_rbf_13', 'radius_rbf_14', 'radius_rbf_15',\n",
       "       'dihedral_sin', 'dihedral_cos', 'angle_norm'],\n",
       "      dtype='object')"
      ]
     },
     "execution_count": 69,
     "metadata": {},
     "output_type": "execute_result"
    }
   ],
   "source": [
    "atom_extra_feats.columns # 22 \n"
   ]
  },
  {
   "cell_type": "code",
   "execution_count": 70,
   "id": "82c5d79c",
   "metadata": {},
   "outputs": [
    {
     "name": "stdout",
     "output_type": "stream",
     "text": [
      "{'num_centers': 16, 'r_min': 0.7998821538201737, 'r_max': 6.933882468718373}\n",
      "{'a_min': 0.6142472914325002, 'a_max': 3.141500920022701}\n"
     ]
    }
   ],
   "source": [
    "rbf_params = dict(num_centers=num_centers, r_min=r_min, r_max=r_max)\n",
    "angle_norm_params = dict(a_min=a_min, a_max=a_max)\n",
    "\n",
    "print(rbf_params)\n",
    "print(angle_norm_params)"
   ]
  },
  {
   "cell_type": "code",
   "execution_count": 71,
   "id": "2d1918f6",
   "metadata": {},
   "outputs": [
    {
     "data": {
      "image/png": "[encoded data removed]",
      "text/html": [
       "<table><tr><td colspan=\"2\" style=\"text-align: center;\"><image src=\"data:image/png;base64,iVBORw0KGgoAAAANSUhEUgAAAcIAAACWCAIAAADCEh9HAAAABmJLR0QA/wD/AP+gvaeTAAANIElEQVR4nO3dbWwb933A8Ts+HB8ki2IlmRKj6Aly49qGl01J4MBtAwxROhQtPAfzUyDNi5fnYtGyZqsRI1kQe8tDNwPxMuyFURSz4QctyeLCHrIiMTYUWtM0ceQ2cGzJqUQ9WJSoShQpkSaPR95esKYZWm5k/UWeSH0/EIzz8Y7+8c3X/6P4IOu6LgEAFstk9AAAUNzIKAAIIaMAIISMAoAQMgoAQsgoAAghowAghIwCgBAyCgBCyCgACCGjACCEjAKAEDIKAELIKAAIIaMAIISMAoAQMgoAQsgoAAghowAghIwCgBAyCgBCyCgACCGjACCEjGL5euONNxqveeeddxZ41ueff54564knnsjrhIAkSRajBwBuKhQKDQ8Pp7fn5uYWeFYikcicFQgE8jIZkIXVKAAIIaMAIISMAoAQMgoAQsgoAAghowAghIwCgBAyCgBCyCgACCGjACCEN4OiOOzdu/fll19eyJGqquZ7GCAbGUVxGBsbGxsbM3oKYB5c1AOAEFajKA6PP/745s2bF3Lk2NjY3r178z0PkEFGURw2b97c2dm5kCMvXrxIRlFIXNQDgBAyCgBCyCgACCGjACCEjAKAEDIKAELIKAAIIaMAIISMYrno6elJJBJGTwHcMjIK42ma9uKLL953333PPfec0bMAt4w3g8JgIyMjDz30UE9Pj9lsdrlcRo8D3DIyCiOdPn364Ycfnpqa8ng8R48ebW9vz761vb3d6XSmt++6664F3qfH4zl48GB6e82aNUs4LTAvWdd1o2fASqRp2oEDB/bv359Kpe6///6jR4/W1tYaPRSwGGQUBhgeHt65c+cHH3xgsVj27dv3wgsvmEw8TY9ixUU9Cu3UqVN79uwJBoMNDQ3Hjx9f4KeIAssWSwAUTjwe7+rq2rp1azAY3LJlS29vLw1FCWA1igLp7+/fsWPH+fPnbTbbq6+++vTTT8uybPRQwBIgoyiEt95665FHHgmFQk1NTSdOnNi0aZPREwFLhot65FcsFuvq6tq2bVsoFHrwwQd7e3tpKEoMq1Hk0aVLl7Zv3/7pp5/a7fZXXnmlq6vL6ImApUdGkS9Hjhx56qmnIpHI2rVru7u7N27caPREQF5wUY+lNzs729HRsXv37kgk0tnZ+fHHH9NQlDBWo1hiFy5c2LFjx4ULFxwOx+uvv/7oo48aPRGQX2QUS+nIkSNPPvlkNBpdt25dd3f3hg0bjJ4IyDsu6rE0wuHwzp07d+/eHY1GOzs7P/roIxqKFYLVKJbAr3718dat2wcHB10u1+HDh7dt22b0REDhkFEI0gOBQ8Hga7FYsq2t7eTJk62trUaPBBQUn/CExdO03/p8fxEK/ZckybHYi3ffvVdRFKOHAgqN1SgWKRL55cDADlX1mc2uxsbDbjcX8lihyCgWQQ8EDo2O/q2uJ8rK7m5u7rbZmo0eCTAMGcWt0bTJwcE/D4f/W5Lk1aufrq//J1m2Gj0UYCQyilswO/s/g4MdicSYxVLd1PTvLte3jZ4IMB4ZxYLoetLv3z8+fkDXk6tW3dfcfNxq9Ro9FLAskFF8uURiwufrDIffkyS5tvYHXu8/yLLZ6KGA5YKM4kuEw+/7fJ2JxLjFsrq5+WhFxQNGTwQsL2QUN6Xrmt9/wO/fL0mpVav+uLn5mNXKdyADucgo5qeqI4ODu+bm/k+WLbW1z3u9L/AJDMC8yCjmMTPzk6GhPZo2rSi3NzcfLy//utETAcsXGcUX6Hp8dPTvAoF/kSTd5fpuU9OPLZYqo4cCljUyiutU1TcwsCsS+YUsW2pr93EhDywEGS0pmhaYm/sgGu1NJqeSyZAsOyyWKrt9bVnZPXb72t9/7szMf/p8f5lMzihKY0vLibKyewszM1DsyGiJiEbP+/0vhUKndV2b9wBFaXC7t1VX77Hb1+XclErFrlz5QSBwSJKkysqtTU0/MpvdeZ8YKBV8UF4pmJz8t5GRv9Z19UuP9Hieqa8/mL0nFusbGNh+9eqvTSb7bbe9sno134EM3BpWo0Vvevrk8PD3JOn6f4c2W7PDsdFiWa3r8URiLBo9r2m/Td/kcn0n5/SpqR9fvfpru/2OlpZuh+MPCjc3UCrIaHFLJmdGRv4q01Cn848aGt644WnN1NzcL4LBN2dnz5aXfyPnHrze/SaT0+P5G5OpvCAjA6WGi/riFggcGhn53WW409l2xx0/M5mcxo4ErDS8nKW4hcM/zWx7vX9PQ4HCI6PFLR73ZbYdjo3GDQKsXGS0uKVS0cx2Mjlj4CTAikVGi5uiXP/s5HD4fQMnAVYsMlrcFOX6d8mNj/9jNHrewGGAlYmMFrfKyj/NbGvadF/fNyYmfphMhgwcCVhpeMFTsUv19z8wO3s2e5fJZHe5tlRVdVRUfIuv7QTyjYwWvWQydPlyeyTy0Y03WSxVbvefVVXtKSu7p/CDASsEGS0Fup4YH385EHhd06bnPaC8/Ou3337I6fzDAg8GrARktHSkUleDwbeCwf8Ih9/T9XjOrbJsa2w8XFXVmbNfVX3Dw99TlMb0j83WqChNVmutJMmFGhwobmS0BCWToZmZd6anT8zOntX1ZGa/LCtf/ep75eXfzD44HH7/8uX2nHuQZUVR6q3WOqvVa7O12GwtipL+s0GW+RyGXO++++6lS5fS2x0dHTU1NQs56/Lly2fOnElvb9q06d57+YDXYkVGS1kiMTEx8WogcCgTU5utdf36i9kp1LSpSOTn8bhPVYfSP/H4kKYF5r1DWbZYrbcpSqPN1qQoTddWr42Kcrss2wrxkJalXbt2nTx5Mr3d29t75513LuSsN998c/v27ent559//qWXXsrXfMgzVhalzGr11NcfdDrvHhx8KL0nHv98dvZsRcW3MsdYLFUu13dzTtT1uKpeiccHEomxRMIfjw+o6kA8PpBJ7dzcz3JOMZvd6XVr9hrWZltjNlfk9TEChiOjpe8rX9kVDHbPzPwk/de5uZ9nZ3ResmxLdzBnv64nNG0yHdb0j6oOqOqYqg4mk8Fo9Fw0ei7nFLPZbbXWKYo3/bRAdmqX6gECxiKjK0JFxQOZjCYSVxZ9P7JstVq9VqvX6WzLuSmZDGbamlnDxmJ9yWQwmQzGYp/lHG8y2dOL1nRes9awTbwrBMWFjK4I2V+SnP1LpyVkNrudzrYb85pI+DNPuarqkKoOq+pgPD6USs2lm5tzvMnkyDzreupUa3W1t7Gxsbm5uba21mQir1iOyOiKEI//JrNttXoK+U9brXVWa11Z2aac/clkUFXHEgl/+lnXrGXseCx2MRa7mEpZvv99SdO0a/djra6u9nq9LVnq6upaWlocDkchHxGQg4yWPl3XpqaOZf66TL5wyWx2Oxxuh2N9zv5kclZVh1TVFw5feeaZ3wxdMz4+7vf7/X7/uXPnvng/Zq/3dyvWxiwNDQ12u72ADwgrFxktbpOT/6rrelVVh9lceZND9NHRZzNPTZpMdpfrTwo23iKYzascjg0OxwaXS3rttev7VVUdHR0dGBgYGxvz+/0D1wwPD4+MjIyMjPT09OTcldvtzixaM8vY1tZWl8tV0IeEUkdGi5o+MfHP8fjg6OizFRXtbve2Vau+qSiN6TcgJZPh2dn/nZj44dzc9b54PM8W6XfQK4qS7mDO/kQiMTk5mR3WdGp9Pl8wGDx37lzO6lWSJLfbnR3WTGrr6upkmfdu4ZaR0SIWifwyHh+UJEnX46HQmVDojCRJJpPdZKqQJE3TgtnfuixJUkVFe23tPmNmzRur1er1er1eb1tb7m+3gsFgdljTqe3v7w8Gg8Fg8LPPcl88YLfbs9uaSW1TUxO/3cLvQUaLmCybXa7vhMM/1fVEZmcqFUulYjceW1PzWH39QZNpBT1d6Ha729rabszrxMTE0Bf5fL6hoaFwOJxubs7xdru98Yva29s9noL+pg7LGRktYk7nXa2tpzVtambm7enp7kjkw1QqknOMxVJVWbmlpuapG1+KtGJ5PB6Px3PPPbkfHnj16tUbnxzw+/2Dg4N9fX19fX2ZI8+ePXuzjL799tsffvjhQsb45JNPFv0QsKyQ0aJnsVRVVz9WXf2Yrifj8f5EYiz96fdms1tRGm98JxJuxuFwzPv0ayQSSS9XM9asWXOzOzlw4ECex8SyQ0ZLhyyb7fav2e1fM3qQUlNWVrZ+/fr163NfmwWkkVFgKa1bt26BbwdI/wYs3/OgAMgosJSOHTu2iA/KQ1HjZRwAIISMAoAQMgoAQsgoAAghowAghIwCgBAyCgBCyCgACCGjACCEjAKAEDIKAEJ4Tz0gqqampqGhIb2tKMoCzyorK8ucVVl5s6/SQhGQdV3/8qMAADfBRT0ACCGjACCEjAKAEDIKAELIKAAIIaMAIISMAoAQMgoAQsgoAAghowAghIwCgBAyCgBCyCgACCGjACCEjAKAEDIKAELIKAAIIaMAIISMAoAQMgoAQsgoAAghowAghIwCgJD/B5uwzo/pnKm0AAAAd3pUWHRyZGtpdFBLTCByZGtpdCAyMDI0LjA5LjUAAHice79v7T0GIBAAYiYGCGCGshsYBRgUQGxGBg0gxcgIo7kZGEEqnECKxfVAQlDMwOwsk713VvmcPRdcIqxt9n6y63Q8YGew+7md2O9oe+9Itn33JpfvFwMAQLIWW5RMyuQAAAC5elRYdE1PTCByZGtpdCAyMDI0LjA5LjUAAHicfZBBDsIgEEX3nOJfQDMwUGRZSqPGlCa2eofuvX+Eklq6cYbFm+F/8oNArmd4LB/8ioMQAP05zjm8mYjEgAzw/fUe0c2t3zbd+IrzBIZKjtRHZTuPw7aRmHCiMxmriVaSTiZKQMxUeRVuaautLtdsjVlBG9XUOl51F+O4PChZqkKusbJW9jEcspR0foxhT5db7RHyyLW/Vud5+4XE4guTSEPVUX8wzgAAANx6VFh0U01JTEVTIHJka2l0IDIwMjQuMDkuNQAAeJxdjkGLwjAQRv+KsCAr1GEmk2SS7amwh55E1JtIEVtUcJslWw8L/fG2FiGYywdvHo/sy8N2Xx5m/SeCFk0ZAosxw2ijbL5EQCM6G5f8eEVkzhGc8TxSYlLjeiu0yI5d+FnH8PuFUFeX/zqGc9PCLt6bgTS35tTFUG1gFdoUFO/gewIE17+qDm2IU4KSBM4/tM3FT49w+A6ySpTi1XiLqiRCzwizN85a9gqVtsokSgHOPx2rHHkUJ4gilBhTtX8AmRleD8phiR4AAAAASUVORK5CYII=\"></td></tr>\n",
       "<tr><th style=\"text-align: right\">reaction</th><td style=\"text-align: left\">rmg_rxn_86</td></tr>\n",
       "<tr><th style=\"text-align: right\">type</th><td style=\"text-align: left\">r1h</td></tr>\n",
       "<tr><th style=\"text-align: right\">mol_properties</th><td style=\"text-align: left\">{&quot;0&quot;: {&quot;label&quot;: &quot;donator&quot;, &quot;atom_type&quot;: &quot;S2s&quot;}, &quot;1&quot;: {&quot;label&quot;: &quot;d_hydrogen&quot;, &quot;atom_type&quot;: &quot;H0&quot;}}</td></tr>\n",
       "<tr><th style=\"text-align: right\">electro_map</th><td style=\"text-align: left\">{&quot;1&quot;: {&quot;R&quot;: null, &quot;A&quot;: null, &quot;D&quot;: null}, &quot;0&quot;: {&quot;R&quot;: 0.7999999910593032, &quot;A&quot;: null, &quot;D&quot;: null}, &quot;2&quot;: {&quot;R&quot;: 1.3395866392024625, &quot;A&quot;: 89.62819078700771, &quot;D&quot;: null}}</td></tr></table>"
      ],
      "text/plain": [
       "<rdkit.Chem.rdchem.Mol at 0x7198fd1a22d0>"
      ]
     },
     "execution_count": 71,
     "metadata": {},
     "output_type": "execute_result"
    }
   ],
   "source": [
    "mol = feat_data[0][0].mol\n",
    "mol"
   ]
  },
  {
   "cell_type": "code",
   "execution_count": 72,
   "id": "959a9bea",
   "metadata": {},
   "outputs": [
    {
     "data": {
      "application/vnd.microsoft.datawrangler.viewer.v0+json": {
       "columns": [
        {
         "name": "index",
         "rawType": "int64",
         "type": "integer"
        },
        {
         "name": "rxn_id",
         "rawType": "object",
         "type": "string"
        },
        {
         "name": "mol_type",
         "rawType": "object",
         "type": "string"
        },
        {
         "name": "focus_atom_idx",
         "rawType": "int64",
         "type": "integer"
        },
        {
         "name": "path",
         "rawType": "object",
         "type": "string"
        },
        {
         "name": "radius",
         "rawType": "float64",
         "type": "float"
        },
        {
         "name": "angle",
         "rawType": "float64",
         "type": "float"
        },
        {
         "name": "dihedral",
         "rawType": "float64",
         "type": "float"
        },
        {
         "name": "r_exist",
         "rawType": "int64",
         "type": "integer"
        },
        {
         "name": "a_exist",
         "rawType": "int64",
         "type": "integer"
        },
        {
         "name": "d_exist",
         "rawType": "int64",
         "type": "integer"
        },
        {
         "name": "focus_atom_symbol",
         "rawType": "object",
         "type": "string"
        },
        {
         "name": "radius_rbf_0",
         "rawType": "float64",
         "type": "float"
        },
        {
         "name": "radius_rbf_1",
         "rawType": "float64",
         "type": "float"
        },
        {
         "name": "radius_rbf_2",
         "rawType": "float64",
         "type": "float"
        },
        {
         "name": "radius_rbf_3",
         "rawType": "float64",
         "type": "float"
        },
        {
         "name": "radius_rbf_4",
         "rawType": "float64",
         "type": "float"
        },
        {
         "name": "radius_rbf_5",
         "rawType": "float64",
         "type": "float"
        },
        {
         "name": "radius_rbf_6",
         "rawType": "float64",
         "type": "float"
        },
        {
         "name": "radius_rbf_7",
         "rawType": "float64",
         "type": "float"
        },
        {
         "name": "radius_rbf_8",
         "rawType": "float64",
         "type": "float"
        },
        {
         "name": "radius_rbf_9",
         "rawType": "float64",
         "type": "float"
        },
        {
         "name": "radius_rbf_10",
         "rawType": "float64",
         "type": "float"
        },
        {
         "name": "radius_rbf_11",
         "rawType": "float64",
         "type": "float"
        },
        {
         "name": "radius_rbf_12",
         "rawType": "float64",
         "type": "float"
        },
        {
         "name": "radius_rbf_13",
         "rawType": "float64",
         "type": "float"
        },
        {
         "name": "radius_rbf_14",
         "rawType": "float64",
         "type": "float"
        },
        {
         "name": "radius_rbf_15",
         "rawType": "float64",
         "type": "float"
        },
        {
         "name": "dihedral_sin",
         "rawType": "float64",
         "type": "float"
        },
        {
         "name": "dihedral_cos",
         "rawType": "float64",
         "type": "float"
        },
        {
         "name": "angle_norm",
         "rawType": "float64",
         "type": "float"
        }
       ],
       "ref": "ba68b755-fd36-470d-a99a-b588972defbd",
       "rows": [
        [
         "0",
         "rmg_rxn_86",
         "r1h",
         "0",
         "[1, 0]",
         "0.800044936237959",
         null,
         null,
         "1",
         "0",
         "0",
         "S",
         "0.9999998415435634",
         "0.36817237995982205",
         "0.01834482253610343",
         "0.00012370488815429843",
         "1.12894099369998e-07",
         "1.3943335000129567e-11",
         "2.3306288411595026e-16",
         "5.272184589705025e-22",
         "1.6140579915718738e-28",
         "6.687421509576603e-36",
         "3.7498102960802427e-44",
         "2.845580872100353e-53",
         "2.9224265498923e-63",
         "4.0618820939019e-74",
         "7.640504872815583e-86",
         "1.945036866761337e-98",
         null,
         null,
         null
        ],
        [
         "1",
         "rmg_rxn_86",
         "r1h",
         "1",
         "[1]",
         null,
         null,
         null,
         "0",
         "0",
         "0",
         "H",
         null,
         null,
         null,
         null,
         null,
         null,
         null,
         null,
         null,
         null,
         null,
         null,
         null,
         null,
         null,
         null,
         null,
         null,
         null
        ],
        [
         "2",
         "rmg_rxn_86",
         "r1h",
         "2",
         "[1, 0, 2]",
         "1.5558508990259958",
         "1.5642736492114595",
         null,
         "1",
         "1",
         "0",
         "H",
         "0.03279584408187182",
         "0.48666351289640936",
         "0.9773492781163117",
         "0.265632887115379",
         "0.009770683034559418",
         "4.863837348010098e-05",
         "3.276756713170989e-08",
         "2.987585814434848e-12",
         "3.686443784941515e-17",
         "6.156103018715375e-23",
         "1.3912820380730477e-29",
         "4.255352229249605e-37",
         "1.7614360709641897e-45",
         "9.867549044196344e-55",
         "7.481053107736862e-65",
         "7.675863059784455e-76",
         null,
         null,
         "0.37591255069595864"
        ],
        [
         "3",
         "rmg_rxn_86",
         "r2h",
         "0",
         "[0]",
         null,
         null,
         null,
         "0",
         "0",
         "0",
         "H",
         null,
         null,
         null,
         null,
         null,
         null,
         null,
         null,
         null,
         null,
         null,
         null,
         null,
         null,
         null,
         null,
         null,
         null,
         null
        ],
        [
         "4",
         "rmg_rxn_86",
         "r2h",
         "1",
         "[0, 1]",
         "0.8000154998498468",
         null,
         null,
         "1",
         "0",
         "0",
         "C",
         "0.9999998936701783",
         "0.368119398409719",
         "0.018339542166164003",
         "0.0001236514779908719",
         "1.1282911201346195e-07",
         "1.3933302459952707e-11",
         "2.328616634451656e-16",
         "5.266874408270047e-22",
         "1.6122001811883313e-28",
         "6.678762576160671e-36",
         "3.7444158981189455e-44",
         "2.841078229470343e-53",
         "2.9173822761181347e-63",
         "4.054287331018241e-74",
         "7.625121085782093e-86",
         "1.940841192528713e-98",
         null,
         null,
         null
        ],
        [
         "5",
         "rmg_rxn_86",
         "r2h",
         "2",
         "[0, 1, 2]",
         "1.77517581664465",
         "1.87862345514628",
         null,
         "1",
         "1",
         "0",
         "O",
         "0.00338608629422698",
         "0.14687974426978256",
         "0.8622572004877366",
         "0.6850508159643791",
         "0.07365797623326566",
         "0.0010718347000160037",
         "2.1107990000120265e-06",
         "5.625705360118373e-10",
         "2.0291685469441154e-14",
         "9.905360756431183e-20",
         "6.543852608569619e-26",
         "5.8506990139579396e-33",
         "7.079344399160204e-41",
         "1.1592827155382538e-49",
         "2.569192923233143e-59",
         "7.70575345410533e-70",
         null,
         null,
         "0.5002965074063807"
        ],
        [
         "6",
         "rmg_rxn_86",
         "r2h",
         "3",
         "[0, 1, 2, 3]",
         "2.6964991284997666",
         "1.8711839451292367",
         "1.6527878137624867",
         "1",
         "1",
         "1",
         "C",
         "4.550185990433938e-10",
         "1.7873782170269173e-06",
         "0.0009501995248416045",
         "0.06836348489175396",
         "0.6656479726679856",
         "0.8771544485794706",
         "0.15642946613324926",
         "0.0037754792886139",
         "1.2332089200539607e-05",
         "5.451452832923978e-09",
         "3.2613611722554924e-13",
         "2.640563223045585e-18",
         "2.893378701698618e-24",
         "4.290669137614845e-31",
         "8.611044010158519e-39",
         "2.3388244616788013e-47",
         "0.028842588688703305",
         "0.9995839659967212",
         "0.4973527941467054"
        ],
        [
         "7",
         "rmg_rxn_86",
         "r2h",
         "4",
         "[0, 1, 2, 3, 4]",
         "2.697866838819144",
         "1.4885689560109423",
         "1.3282190884010254",
         "1",
         "1",
         "1",
         "C",
         "4.411138675894293e-10",
         "1.7443879917391463e-06",
         "0.0009335691710438867",
         "0.06761778672151168",
         "0.6628060088632393",
         "0.8792714238912129",
         "0.15785942517610496",
         "0.00383556291909537",
         "1.261242921577796e-05",
         "5.612797948124624e-09",
         "3.380423494670683e-13",
         "2.7553314576209007e-18",
         "3.039398367470482e-24",
         "4.5374561113739704e-31",
         "9.167444407304522e-39",
         "2.506658488087753e-47",
         "0.02317972003669992",
         "0.9997313141934788",
         "0.34595722989076183"
        ],
        [
         "8",
         "rmg_rxn_86",
         "r2h",
         "5",
         "[0, 1, 6, 5]",
         "2.492482017989297",
         "1.569665820173997",
         "-1.1124497280526406",
         "1",
         "1",
         "1",
         "C",
         "3.628645817631381e-08",
         "5.255236986658684e-05",
         "0.010300328301598497",
         "0.27322527078951975",
         "0.9808479735191226",
         "0.4765336456675303",
         "0.03133260299267992",
         "0.0002788113302888922",
         "3.3576497985576103e-07",
         "5.472319082474633e-11",
         "1.2070311100001887e-15",
         "3.603101954123871e-21",
         "1.4556121594960724e-27",
         "7.958401302175652e-35",
         "5.888667470625415e-43",
         "5.896838896682663e-52",
         "-0.019414690646596854",
         "0.9998115171306524",
         "0.3780461596466145"
        ],
        [
         "9",
         "rmg_rxn_86",
         "r2h",
         "6",
         "[0, 1, 6]",
         "1.752323936947732",
         "1.851449459993173",
         null,
         "1",
         "1",
         "0",
         "O",
         "0.0044066034459264",
         "0.1709344707818427",
         "0.8973593037706031",
         "0.6375498153396899",
         "0.06130175596139637",
         "0.0007977057850904473",
         "1.4048294553427363e-06",
         "3.3482316992784684e-10",
         "1.0799867793358994e-14",
         "4.7144649429323053e-20",
         "2.785206617589235e-26",
         "2.2268628098160413e-33",
         "2.409575520484607e-41",
         "3.5285693608101133e-50",
         "6.99306896536465e-60",
         "1.8756335822691266e-70",
         null,
         null,
         "0.4895441259098446"
        ],
        [
         "10",
         "rmg_rxn_86",
         "r2h",
         "7",
         "[0, 1, 7]",
         "1.4699902380628247",
         "1.7665937672507284",
         null,
         "1",
         "1",
         "0",
         "H",
         "0.06820417471763646",
         "0.6650431729429819",
         "0.8776063500987662",
         "0.15673309536136462",
         "0.0037881982623342234",
         "1.2391267330110069e-05",
         "5.485418777186134e-09",
         "3.286358118359335e-13",
         "2.6645938543555384e-18",
         "2.923870898415792e-24",
         "4.342065792432706e-31",
         "8.726611518380377e-39",
         "2.3735911955291657e-47",
         "8.737299803964106e-57",
         "4.352708562527661e-67",
         "2.9346274648969165e-78",
         null,
         null,
         "0.4559678786418644"
        ],
        [
         "11",
         "rmg_rxn_86",
         "r2h",
         "8",
         "[0, 1, 2, 3, 8]",
         "3.391346972811835",
         "2.2327396677460487",
         "2.2232234989627115",
         "1",
         "1",
         "1",
         "H",
         "3.6229344301607785e-18",
         "4.257251212477908e-13",
         "6.7703187796753736e-09",
         "1.4571356849156627e-05",
         "0.0042442592761360465",
         "0.16730728631726244",
         "0.8925629180773572",
         "0.6444271971387985",
         "0.06296800271423159",
         "0.0008326778486850552",
         "1.4902019970489984e-06",
         "3.6093110144244526e-10",
         "1.1830810791450319e-14",
         "5.248264894389961e-20",
         "3.150852123969239e-26",
         "2.5600670023049296e-33",
         "0.03879283368427703",
         "0.9992472747297058",
         "0.6404154921389532"
        ],
        [
         "12",
         "rmg_rxn_86",
         "r2h",
         "9",
         "[0, 1, 2, 3, 9]",
         "3.4306337286279924",
         "1.7450361217821946",
         "1.285175211339237",
         "1",
         "1",
         "1",
         "H",
         "1.0622843296647177e-18",
         "1.5127112720525686e-13",
         "2.915293923083759e-09",
         "7.603607454621195e-06",
         "0.0026839107167140404",
         "0.12821164645188815",
         "0.8288919584605458",
         "0.7252360962656001",
         "0.08587602484640648",
         "0.0013761807878623607",
         "2.9846271440095537e-06",
         "8.760234148848822e-10",
         "3.479784750818472e-14",
         "1.8706824978692531e-19",
         "1.3610021823248408e-25",
         "1.3400734298680024e-32",
         "0.022428658040816663",
         "0.999748446009539",
         "0.4474378105772042"
        ],
        [
         "13",
         "rmg_rxn_86",
         "r2h",
         "10",
         "[0, 1, 2, 3, 4, 10]",
         "3.785704947562607",
         "1.5706265215274118",
         "1.421776009665067",
         "1",
         "1",
         "1",
         "H",
         "7.030699043982299e-24",
         "5.6845704330064656e-18",
         "6.22024988630362e-13",
         "9.211472253617153e-09",
         "1.846125838610677e-05",
         "0.005007311271697449",
         "0.18380567426731048",
         "0.9131124734682184",
         "0.6139042963067194",
         "0.05585835042068723",
         "0.0006878386507380139",
         "1.1462941650091105e-06",
         "2.5853337981692327e-10",
         "7.891293602986934e-15",
         "3.2597989569513724e-20",
         "1.822403190612834e-26",
         "0.02481212599280953",
         "0.9996921318104474",
         "0.3784262961483674"
        ],
        [
         "14",
         "rmg_rxn_86",
         "r2h",
         "11",
         "[0, 1, 2, 3, 4, 11]",
         "2.585450618364234",
         "1.1129795089079526",
         "0.90593399925021",
         "1",
         "1",
         "1",
         "H",
         "5.247632506891071e-09",
         "1.1975116502568467e-05",
         "0.0036983424038331174",
         "0.1545772308550783",
         "0.8743694296611091",
         "0.6693533532757727",
         "0.06934688503643147",
         "0.0009723206485440909",
         "1.84502857027231e-06",
         "4.738138143502014e-10",
         "1.6467337177929257e-14",
         "7.745510972527157e-20",
         "4.930464148449191e-26",
         "4.2475311555148265e-33",
         "4.952179490238744e-41",
         "7.8138886377737485e-50",
         "0.01581087227521642",
         "0.9998750003464917",
         "0.19734157736818222"
        ],
        [
         "15",
         "rmg_rxn_86",
         "r2h",
         "12",
         "[0, 1, 6, 5, 12]",
         "2.7825882232195265",
         "1.256245533243248",
         "-0.5233515254805035",
         "1",
         "1",
         "1",
         "H",
         "6.175913794024868e-11",
         "3.696109516471289e-07",
         "0.0002993639308900398",
         "0.032814451616845146",
         "0.48679024331592635",
         "0.9773038633436048",
         "0.2655390530702565",
         "0.009764235040571447",
         "4.859136330672665e-05",
         "3.272585330093941e-08",
         "2.982867145488212e-12",
         "3.679492129206548e-17",
         "6.142609146025825e-23",
         "1.387806515347574e-29",
         "4.243419797423107e-37",
         "1.7559579458500747e-45",
         "-0.009134080248650391",
         "0.999958283418869",
         "0.2540300010050353"
        ],
        [
         "16",
         "rmg_rxn_86",
         "r2h",
         "13",
         "[0, 1, 6, 5, 13]",
         "3.4577199120229505",
         "1.8331455227612128",
         "-1.590243820355517",
         "1",
         "1",
         "1",
         "H",
         "4.510453920561937e-19",
         "7.332761060653959e-14",
         "1.6133398202985028e-09",
         "4.80391383193308e-06",
         "0.001935867374786052",
         "0.1055764436778622",
         "0.7792368696822096",
         "0.7783644521385716",
         "0.10522223690359576",
         "0.0019250548267915472",
         "4.766391507220386e-06",
         "1.5971560733809605e-09",
         "7.2429591983189e-14",
         "4.445245554590861e-19",
         "3.6922109855471097e-25",
         "4.1503841908017477e-32",
         "-0.027751427251012907",
         "0.9996148549744205",
         "0.48230150608534716"
        ]
       ],
       "shape": {
        "columns": 30,
        "rows": 17
       }
      },
      "text/html": [
       "<div>\n",
       "<style scoped>\n",
       "    .dataframe tbody tr th:only-of-type {\n",
       "        vertical-align: middle;\n",
       "    }\n",
       "\n",
       "    .dataframe tbody tr th {\n",
       "        vertical-align: top;\n",
       "    }\n",
       "\n",
       "    .dataframe thead th {\n",
       "        text-align: right;\n",
       "    }\n",
       "</style>\n",
       "<table border=\"1\" class=\"dataframe\">\n",
       "  <thead>\n",
       "    <tr style=\"text-align: right;\">\n",
       "      <th></th>\n",
       "      <th>rxn_id</th>\n",
       "      <th>mol_type</th>\n",
       "      <th>focus_atom_idx</th>\n",
       "      <th>path</th>\n",
       "      <th>radius</th>\n",
       "      <th>angle</th>\n",
       "      <th>dihedral</th>\n",
       "      <th>r_exist</th>\n",
       "      <th>a_exist</th>\n",
       "      <th>d_exist</th>\n",
       "      <th>...</th>\n",
       "      <th>radius_rbf_9</th>\n",
       "      <th>radius_rbf_10</th>\n",
       "      <th>radius_rbf_11</th>\n",
       "      <th>radius_rbf_12</th>\n",
       "      <th>radius_rbf_13</th>\n",
       "      <th>radius_rbf_14</th>\n",
       "      <th>radius_rbf_15</th>\n",
       "      <th>dihedral_sin</th>\n",
       "      <th>dihedral_cos</th>\n",
       "      <th>angle_norm</th>\n",
       "    </tr>\n",
       "  </thead>\n",
       "  <tbody>\n",
       "    <tr>\n",
       "      <th>0</th>\n",
       "      <td>rmg_rxn_86</td>\n",
       "      <td>r1h</td>\n",
       "      <td>0</td>\n",
       "      <td>[1, 0]</td>\n",
       "      <td>0.800045</td>\n",
       "      <td>NaN</td>\n",
       "      <td>NaN</td>\n",
       "      <td>1</td>\n",
       "      <td>0</td>\n",
       "      <td>0</td>\n",
       "      <td>...</td>\n",
       "      <td>6.687422e-36</td>\n",
       "      <td>3.749810e-44</td>\n",
       "      <td>2.845581e-53</td>\n",
       "      <td>2.922427e-63</td>\n",
       "      <td>4.061882e-74</td>\n",
       "      <td>7.640505e-86</td>\n",
       "      <td>1.945037e-98</td>\n",
       "      <td>NaN</td>\n",
       "      <td>NaN</td>\n",
       "      <td>NaN</td>\n",
       "    </tr>\n",
       "    <tr>\n",
       "      <th>1</th>\n",
       "      <td>rmg_rxn_86</td>\n",
       "      <td>r1h</td>\n",
       "      <td>1</td>\n",
       "      <td>[1]</td>\n",
       "      <td>NaN</td>\n",
       "      <td>NaN</td>\n",
       "      <td>NaN</td>\n",
       "      <td>0</td>\n",
       "      <td>0</td>\n",
       "      <td>0</td>\n",
       "      <td>...</td>\n",
       "      <td>NaN</td>\n",
       "      <td>NaN</td>\n",
       "      <td>NaN</td>\n",
       "      <td>NaN</td>\n",
       "      <td>NaN</td>\n",
       "      <td>NaN</td>\n",
       "      <td>NaN</td>\n",
       "      <td>NaN</td>\n",
       "      <td>NaN</td>\n",
       "      <td>NaN</td>\n",
       "    </tr>\n",
       "    <tr>\n",
       "      <th>2</th>\n",
       "      <td>rmg_rxn_86</td>\n",
       "      <td>r1h</td>\n",
       "      <td>2</td>\n",
       "      <td>[1, 0, 2]</td>\n",
       "      <td>1.555851</td>\n",
       "      <td>1.564274</td>\n",
       "      <td>NaN</td>\n",
       "      <td>1</td>\n",
       "      <td>1</td>\n",
       "      <td>0</td>\n",
       "      <td>...</td>\n",
       "      <td>6.156103e-23</td>\n",
       "      <td>1.391282e-29</td>\n",
       "      <td>4.255352e-37</td>\n",
       "      <td>1.761436e-45</td>\n",
       "      <td>9.867549e-55</td>\n",
       "      <td>7.481053e-65</td>\n",
       "      <td>7.675863e-76</td>\n",
       "      <td>NaN</td>\n",
       "      <td>NaN</td>\n",
       "      <td>0.375913</td>\n",
       "    </tr>\n",
       "    <tr>\n",
       "      <th>3</th>\n",
       "      <td>rmg_rxn_86</td>\n",
       "      <td>r2h</td>\n",
       "      <td>0</td>\n",
       "      <td>[0]</td>\n",
       "      <td>NaN</td>\n",
       "      <td>NaN</td>\n",
       "      <td>NaN</td>\n",
       "      <td>0</td>\n",
       "      <td>0</td>\n",
       "      <td>0</td>\n",
       "      <td>...</td>\n",
       "      <td>NaN</td>\n",
       "      <td>NaN</td>\n",
       "      <td>NaN</td>\n",
       "      <td>NaN</td>\n",
       "      <td>NaN</td>\n",
       "      <td>NaN</td>\n",
       "      <td>NaN</td>\n",
       "      <td>NaN</td>\n",
       "      <td>NaN</td>\n",
       "      <td>NaN</td>\n",
       "    </tr>\n",
       "    <tr>\n",
       "      <th>4</th>\n",
       "      <td>rmg_rxn_86</td>\n",
       "      <td>r2h</td>\n",
       "      <td>1</td>\n",
       "      <td>[0, 1]</td>\n",
       "      <td>0.800015</td>\n",
       "      <td>NaN</td>\n",
       "      <td>NaN</td>\n",
       "      <td>1</td>\n",
       "      <td>0</td>\n",
       "      <td>0</td>\n",
       "      <td>...</td>\n",
       "      <td>6.678763e-36</td>\n",
       "      <td>3.744416e-44</td>\n",
       "      <td>2.841078e-53</td>\n",
       "      <td>2.917382e-63</td>\n",
       "      <td>4.054287e-74</td>\n",
       "      <td>7.625121e-86</td>\n",
       "      <td>1.940841e-98</td>\n",
       "      <td>NaN</td>\n",
       "      <td>NaN</td>\n",
       "      <td>NaN</td>\n",
       "    </tr>\n",
       "    <tr>\n",
       "      <th>5</th>\n",
       "      <td>rmg_rxn_86</td>\n",
       "      <td>r2h</td>\n",
       "      <td>2</td>\n",
       "      <td>[0, 1, 2]</td>\n",
       "      <td>1.775176</td>\n",
       "      <td>1.878623</td>\n",
       "      <td>NaN</td>\n",
       "      <td>1</td>\n",
       "      <td>1</td>\n",
       "      <td>0</td>\n",
       "      <td>...</td>\n",
       "      <td>9.905361e-20</td>\n",
       "      <td>6.543853e-26</td>\n",
       "      <td>5.850699e-33</td>\n",
       "      <td>7.079344e-41</td>\n",
       "      <td>1.159283e-49</td>\n",
       "      <td>2.569193e-59</td>\n",
       "      <td>7.705753e-70</td>\n",
       "      <td>NaN</td>\n",
       "      <td>NaN</td>\n",
       "      <td>0.500297</td>\n",
       "    </tr>\n",
       "    <tr>\n",
       "      <th>6</th>\n",
       "      <td>rmg_rxn_86</td>\n",
       "      <td>r2h</td>\n",
       "      <td>3</td>\n",
       "      <td>[0, 1, 2, 3]</td>\n",
       "      <td>2.696499</td>\n",
       "      <td>1.871184</td>\n",
       "      <td>1.652788</td>\n",
       "      <td>1</td>\n",
       "      <td>1</td>\n",
       "      <td>1</td>\n",
       "      <td>...</td>\n",
       "      <td>5.451453e-09</td>\n",
       "      <td>3.261361e-13</td>\n",
       "      <td>2.640563e-18</td>\n",
       "      <td>2.893379e-24</td>\n",
       "      <td>4.290669e-31</td>\n",
       "      <td>8.611044e-39</td>\n",
       "      <td>2.338824e-47</td>\n",
       "      <td>0.028843</td>\n",
       "      <td>0.999584</td>\n",
       "      <td>0.497353</td>\n",
       "    </tr>\n",
       "    <tr>\n",
       "      <th>7</th>\n",
       "      <td>rmg_rxn_86</td>\n",
       "      <td>r2h</td>\n",
       "      <td>4</td>\n",
       "      <td>[0, 1, 2, 3, 4]</td>\n",
       "      <td>2.697867</td>\n",
       "      <td>1.488569</td>\n",
       "      <td>1.328219</td>\n",
       "      <td>1</td>\n",
       "      <td>1</td>\n",
       "      <td>1</td>\n",
       "      <td>...</td>\n",
       "      <td>5.612798e-09</td>\n",
       "      <td>3.380423e-13</td>\n",
       "      <td>2.755331e-18</td>\n",
       "      <td>3.039398e-24</td>\n",
       "      <td>4.537456e-31</td>\n",
       "      <td>9.167444e-39</td>\n",
       "      <td>2.506658e-47</td>\n",
       "      <td>0.023180</td>\n",
       "      <td>0.999731</td>\n",
       "      <td>0.345957</td>\n",
       "    </tr>\n",
       "    <tr>\n",
       "      <th>8</th>\n",
       "      <td>rmg_rxn_86</td>\n",
       "      <td>r2h</td>\n",
       "      <td>5</td>\n",
       "      <td>[0, 1, 6, 5]</td>\n",
       "      <td>2.492482</td>\n",
       "      <td>1.569666</td>\n",
       "      <td>-1.112450</td>\n",
       "      <td>1</td>\n",
       "      <td>1</td>\n",
       "      <td>1</td>\n",
       "      <td>...</td>\n",
       "      <td>5.472319e-11</td>\n",
       "      <td>1.207031e-15</td>\n",
       "      <td>3.603102e-21</td>\n",
       "      <td>1.455612e-27</td>\n",
       "      <td>7.958401e-35</td>\n",
       "      <td>5.888667e-43</td>\n",
       "      <td>5.896839e-52</td>\n",
       "      <td>-0.019415</td>\n",
       "      <td>0.999812</td>\n",
       "      <td>0.378046</td>\n",
       "    </tr>\n",
       "    <tr>\n",
       "      <th>9</th>\n",
       "      <td>rmg_rxn_86</td>\n",
       "      <td>r2h</td>\n",
       "      <td>6</td>\n",
       "      <td>[0, 1, 6]</td>\n",
       "      <td>1.752324</td>\n",
       "      <td>1.851449</td>\n",
       "      <td>NaN</td>\n",
       "      <td>1</td>\n",
       "      <td>1</td>\n",
       "      <td>0</td>\n",
       "      <td>...</td>\n",
       "      <td>4.714465e-20</td>\n",
       "      <td>2.785207e-26</td>\n",
       "      <td>2.226863e-33</td>\n",
       "      <td>2.409576e-41</td>\n",
       "      <td>3.528569e-50</td>\n",
       "      <td>6.993069e-60</td>\n",
       "      <td>1.875634e-70</td>\n",
       "      <td>NaN</td>\n",
       "      <td>NaN</td>\n",
       "      <td>0.489544</td>\n",
       "    </tr>\n",
       "    <tr>\n",
       "      <th>10</th>\n",
       "      <td>rmg_rxn_86</td>\n",
       "      <td>r2h</td>\n",
       "      <td>7</td>\n",
       "      <td>[0, 1, 7]</td>\n",
       "      <td>1.469990</td>\n",
       "      <td>1.766594</td>\n",
       "      <td>NaN</td>\n",
       "      <td>1</td>\n",
       "      <td>1</td>\n",
       "      <td>0</td>\n",
       "      <td>...</td>\n",
       "      <td>2.923871e-24</td>\n",
       "      <td>4.342066e-31</td>\n",
       "      <td>8.726612e-39</td>\n",
       "      <td>2.373591e-47</td>\n",
       "      <td>8.737300e-57</td>\n",
       "      <td>4.352709e-67</td>\n",
       "      <td>2.934627e-78</td>\n",
       "      <td>NaN</td>\n",
       "      <td>NaN</td>\n",
       "      <td>0.455968</td>\n",
       "    </tr>\n",
       "    <tr>\n",
       "      <th>11</th>\n",
       "      <td>rmg_rxn_86</td>\n",
       "      <td>r2h</td>\n",
       "      <td>8</td>\n",
       "      <td>[0, 1, 2, 3, 8]</td>\n",
       "      <td>3.391347</td>\n",
       "      <td>2.232740</td>\n",
       "      <td>2.223223</td>\n",
       "      <td>1</td>\n",
       "      <td>1</td>\n",
       "      <td>1</td>\n",
       "      <td>...</td>\n",
       "      <td>8.326778e-04</td>\n",
       "      <td>1.490202e-06</td>\n",
       "      <td>3.609311e-10</td>\n",
       "      <td>1.183081e-14</td>\n",
       "      <td>5.248265e-20</td>\n",
       "      <td>3.150852e-26</td>\n",
       "      <td>2.560067e-33</td>\n",
       "      <td>0.038793</td>\n",
       "      <td>0.999247</td>\n",
       "      <td>0.640415</td>\n",
       "    </tr>\n",
       "    <tr>\n",
       "      <th>12</th>\n",
       "      <td>rmg_rxn_86</td>\n",
       "      <td>r2h</td>\n",
       "      <td>9</td>\n",
       "      <td>[0, 1, 2, 3, 9]</td>\n",
       "      <td>3.430634</td>\n",
       "      <td>1.745036</td>\n",
       "      <td>1.285175</td>\n",
       "      <td>1</td>\n",
       "      <td>1</td>\n",
       "      <td>1</td>\n",
       "      <td>...</td>\n",
       "      <td>1.376181e-03</td>\n",
       "      <td>2.984627e-06</td>\n",
       "      <td>8.760234e-10</td>\n",
       "      <td>3.479785e-14</td>\n",
       "      <td>1.870682e-19</td>\n",
       "      <td>1.361002e-25</td>\n",
       "      <td>1.340073e-32</td>\n",
       "      <td>0.022429</td>\n",
       "      <td>0.999748</td>\n",
       "      <td>0.447438</td>\n",
       "    </tr>\n",
       "    <tr>\n",
       "      <th>13</th>\n",
       "      <td>rmg_rxn_86</td>\n",
       "      <td>r2h</td>\n",
       "      <td>10</td>\n",
       "      <td>[0, 1, 2, 3, 4, 10]</td>\n",
       "      <td>3.785705</td>\n",
       "      <td>1.570627</td>\n",
       "      <td>1.421776</td>\n",
       "      <td>1</td>\n",
       "      <td>1</td>\n",
       "      <td>1</td>\n",
       "      <td>...</td>\n",
       "      <td>5.585835e-02</td>\n",
       "      <td>6.878387e-04</td>\n",
       "      <td>1.146294e-06</td>\n",
       "      <td>2.585334e-10</td>\n",
       "      <td>7.891294e-15</td>\n",
       "      <td>3.259799e-20</td>\n",
       "      <td>1.822403e-26</td>\n",
       "      <td>0.024812</td>\n",
       "      <td>0.999692</td>\n",
       "      <td>0.378426</td>\n",
       "    </tr>\n",
       "    <tr>\n",
       "      <th>14</th>\n",
       "      <td>rmg_rxn_86</td>\n",
       "      <td>r2h</td>\n",
       "      <td>11</td>\n",
       "      <td>[0, 1, 2, 3, 4, 11]</td>\n",
       "      <td>2.585451</td>\n",
       "      <td>1.112980</td>\n",
       "      <td>0.905934</td>\n",
       "      <td>1</td>\n",
       "      <td>1</td>\n",
       "      <td>1</td>\n",
       "      <td>...</td>\n",
       "      <td>4.738138e-10</td>\n",
       "      <td>1.646734e-14</td>\n",
       "      <td>7.745511e-20</td>\n",
       "      <td>4.930464e-26</td>\n",
       "      <td>4.247531e-33</td>\n",
       "      <td>4.952179e-41</td>\n",
       "      <td>7.813889e-50</td>\n",
       "      <td>0.015811</td>\n",
       "      <td>0.999875</td>\n",
       "      <td>0.197342</td>\n",
       "    </tr>\n",
       "    <tr>\n",
       "      <th>15</th>\n",
       "      <td>rmg_rxn_86</td>\n",
       "      <td>r2h</td>\n",
       "      <td>12</td>\n",
       "      <td>[0, 1, 6, 5, 12]</td>\n",
       "      <td>2.782588</td>\n",
       "      <td>1.256246</td>\n",
       "      <td>-0.523352</td>\n",
       "      <td>1</td>\n",
       "      <td>1</td>\n",
       "      <td>1</td>\n",
       "      <td>...</td>\n",
       "      <td>3.272585e-08</td>\n",
       "      <td>2.982867e-12</td>\n",
       "      <td>3.679492e-17</td>\n",
       "      <td>6.142609e-23</td>\n",
       "      <td>1.387807e-29</td>\n",
       "      <td>4.243420e-37</td>\n",
       "      <td>1.755958e-45</td>\n",
       "      <td>-0.009134</td>\n",
       "      <td>0.999958</td>\n",
       "      <td>0.254030</td>\n",
       "    </tr>\n",
       "    <tr>\n",
       "      <th>16</th>\n",
       "      <td>rmg_rxn_86</td>\n",
       "      <td>r2h</td>\n",
       "      <td>13</td>\n",
       "      <td>[0, 1, 6, 5, 13]</td>\n",
       "      <td>3.457720</td>\n",
       "      <td>1.833146</td>\n",
       "      <td>-1.590244</td>\n",
       "      <td>1</td>\n",
       "      <td>1</td>\n",
       "      <td>1</td>\n",
       "      <td>...</td>\n",
       "      <td>1.925055e-03</td>\n",
       "      <td>4.766392e-06</td>\n",
       "      <td>1.597156e-09</td>\n",
       "      <td>7.242959e-14</td>\n",
       "      <td>4.445246e-19</td>\n",
       "      <td>3.692211e-25</td>\n",
       "      <td>4.150384e-32</td>\n",
       "      <td>-0.027751</td>\n",
       "      <td>0.999615</td>\n",
       "      <td>0.482302</td>\n",
       "    </tr>\n",
       "  </tbody>\n",
       "</table>\n",
       "<p>17 rows × 30 columns</p>\n",
       "</div>"
      ],
      "text/plain": [
       "        rxn_id mol_type  focus_atom_idx                 path    radius  \\\n",
       "0   rmg_rxn_86      r1h               0               [1, 0]  0.800045   \n",
       "1   rmg_rxn_86      r1h               1                  [1]       NaN   \n",
       "2   rmg_rxn_86      r1h               2            [1, 0, 2]  1.555851   \n",
       "3   rmg_rxn_86      r2h               0                  [0]       NaN   \n",
       "4   rmg_rxn_86      r2h               1               [0, 1]  0.800015   \n",
       "5   rmg_rxn_86      r2h               2            [0, 1, 2]  1.775176   \n",
       "6   rmg_rxn_86      r2h               3         [0, 1, 2, 3]  2.696499   \n",
       "7   rmg_rxn_86      r2h               4      [0, 1, 2, 3, 4]  2.697867   \n",
       "8   rmg_rxn_86      r2h               5         [0, 1, 6, 5]  2.492482   \n",
       "9   rmg_rxn_86      r2h               6            [0, 1, 6]  1.752324   \n",
       "10  rmg_rxn_86      r2h               7            [0, 1, 7]  1.469990   \n",
       "11  rmg_rxn_86      r2h               8      [0, 1, 2, 3, 8]  3.391347   \n",
       "12  rmg_rxn_86      r2h               9      [0, 1, 2, 3, 9]  3.430634   \n",
       "13  rmg_rxn_86      r2h              10  [0, 1, 2, 3, 4, 10]  3.785705   \n",
       "14  rmg_rxn_86      r2h              11  [0, 1, 2, 3, 4, 11]  2.585451   \n",
       "15  rmg_rxn_86      r2h              12     [0, 1, 6, 5, 12]  2.782588   \n",
       "16  rmg_rxn_86      r2h              13     [0, 1, 6, 5, 13]  3.457720   \n",
       "\n",
       "       angle  dihedral  r_exist  a_exist  d_exist  ...  radius_rbf_9  \\\n",
       "0        NaN       NaN        1        0        0  ...  6.687422e-36   \n",
       "1        NaN       NaN        0        0        0  ...           NaN   \n",
       "2   1.564274       NaN        1        1        0  ...  6.156103e-23   \n",
       "3        NaN       NaN        0        0        0  ...           NaN   \n",
       "4        NaN       NaN        1        0        0  ...  6.678763e-36   \n",
       "5   1.878623       NaN        1        1        0  ...  9.905361e-20   \n",
       "6   1.871184  1.652788        1        1        1  ...  5.451453e-09   \n",
       "7   1.488569  1.328219        1        1        1  ...  5.612798e-09   \n",
       "8   1.569666 -1.112450        1        1        1  ...  5.472319e-11   \n",
       "9   1.851449       NaN        1        1        0  ...  4.714465e-20   \n",
       "10  1.766594       NaN        1        1        0  ...  2.923871e-24   \n",
       "11  2.232740  2.223223        1        1        1  ...  8.326778e-04   \n",
       "12  1.745036  1.285175        1        1        1  ...  1.376181e-03   \n",
       "13  1.570627  1.421776        1        1        1  ...  5.585835e-02   \n",
       "14  1.112980  0.905934        1        1        1  ...  4.738138e-10   \n",
       "15  1.256246 -0.523352        1        1        1  ...  3.272585e-08   \n",
       "16  1.833146 -1.590244        1        1        1  ...  1.925055e-03   \n",
       "\n",
       "    radius_rbf_10  radius_rbf_11  radius_rbf_12  radius_rbf_13  radius_rbf_14  \\\n",
       "0    3.749810e-44   2.845581e-53   2.922427e-63   4.061882e-74   7.640505e-86   \n",
       "1             NaN            NaN            NaN            NaN            NaN   \n",
       "2    1.391282e-29   4.255352e-37   1.761436e-45   9.867549e-55   7.481053e-65   \n",
       "3             NaN            NaN            NaN            NaN            NaN   \n",
       "4    3.744416e-44   2.841078e-53   2.917382e-63   4.054287e-74   7.625121e-86   \n",
       "5    6.543853e-26   5.850699e-33   7.079344e-41   1.159283e-49   2.569193e-59   \n",
       "6    3.261361e-13   2.640563e-18   2.893379e-24   4.290669e-31   8.611044e-39   \n",
       "7    3.380423e-13   2.755331e-18   3.039398e-24   4.537456e-31   9.167444e-39   \n",
       "8    1.207031e-15   3.603102e-21   1.455612e-27   7.958401e-35   5.888667e-43   \n",
       "9    2.785207e-26   2.226863e-33   2.409576e-41   3.528569e-50   6.993069e-60   \n",
       "10   4.342066e-31   8.726612e-39   2.373591e-47   8.737300e-57   4.352709e-67   \n",
       "11   1.490202e-06   3.609311e-10   1.183081e-14   5.248265e-20   3.150852e-26   \n",
       "12   2.984627e-06   8.760234e-10   3.479785e-14   1.870682e-19   1.361002e-25   \n",
       "13   6.878387e-04   1.146294e-06   2.585334e-10   7.891294e-15   3.259799e-20   \n",
       "14   1.646734e-14   7.745511e-20   4.930464e-26   4.247531e-33   4.952179e-41   \n",
       "15   2.982867e-12   3.679492e-17   6.142609e-23   1.387807e-29   4.243420e-37   \n",
       "16   4.766392e-06   1.597156e-09   7.242959e-14   4.445246e-19   3.692211e-25   \n",
       "\n",
       "    radius_rbf_15  dihedral_sin  dihedral_cos  angle_norm  \n",
       "0    1.945037e-98           NaN           NaN         NaN  \n",
       "1             NaN           NaN           NaN         NaN  \n",
       "2    7.675863e-76           NaN           NaN    0.375913  \n",
       "3             NaN           NaN           NaN         NaN  \n",
       "4    1.940841e-98           NaN           NaN         NaN  \n",
       "5    7.705753e-70           NaN           NaN    0.500297  \n",
       "6    2.338824e-47      0.028843      0.999584    0.497353  \n",
       "7    2.506658e-47      0.023180      0.999731    0.345957  \n",
       "8    5.896839e-52     -0.019415      0.999812    0.378046  \n",
       "9    1.875634e-70           NaN           NaN    0.489544  \n",
       "10   2.934627e-78           NaN           NaN    0.455968  \n",
       "11   2.560067e-33      0.038793      0.999247    0.640415  \n",
       "12   1.340073e-32      0.022429      0.999748    0.447438  \n",
       "13   1.822403e-26      0.024812      0.999692    0.378426  \n",
       "14   7.813889e-50      0.015811      0.999875    0.197342  \n",
       "15   1.755958e-45     -0.009134      0.999958    0.254030  \n",
       "16   4.150384e-32     -0.027751      0.999615    0.482302  \n",
       "\n",
       "[17 rows x 30 columns]"
      ]
     },
     "execution_count": 72,
     "metadata": {},
     "output_type": "execute_result"
    }
   ],
   "source": [
    "atom_extra_feats[atom_extra_feats['rxn_id'] == 'rmg_rxn_86']"
   ]
  },
  {
   "cell_type": "code",
   "execution_count": 73,
   "id": "6e5ae518",
   "metadata": {},
   "outputs": [
    {
     "name": "stdout",
     "output_type": "stream",
     "text": [
      "Idx  Symbol          X          Y          Z\n",
      "0    S      -0.0574    -0.0191     0.0033\n",
      "1    H       0.4741     0.3755     0.4526\n",
      "2    H       0.8593    -0.1312    -0.9671\n"
     ]
    }
   ],
   "source": [
    "if mol is not None:\n",
    "    conf = mol.GetConformer()  # Gets the first conformer (3D coordinates)\n",
    "    print(f\"{'Idx':<4} {'Symbol':<3} {'X':>10} {'Y':>10} {'Z':>10}\")\n",
    "    for atom in mol.GetAtoms():\n",
    "        idx = atom.GetIdx()\n",
    "        symbol = atom.GetSymbol()\n",
    "        pos = conf.GetAtomPosition(idx)\n",
    "        print(f\"{idx:<4} {symbol:<3} {pos.x:10.4f} {pos.y:10.4f} {pos.z:10.4f}\")\n",
    "else:\n",
    "    print(\"Failed to load molecule.\")"
   ]
  },
  {
   "cell_type": "code",
   "execution_count": 74,
   "id": "b5c2be01",
   "metadata": {},
   "outputs": [
    {
     "data": {
      "text/plain": [
       "[-4.0]"
      ]
     },
     "execution_count": 74,
     "metadata": {},
     "output_type": "execute_result"
    }
   ],
   "source": [
    "train_data[0][0][0].y"
   ]
  },
  {
   "cell_type": "code",
   "execution_count": 75,
   "id": "7650774f",
   "metadata": {},
   "outputs": [],
   "source": [
    "def get_atom_feats_for_dp(dp_name, atom_extra_feats):\n",
    "    rxn_id, mol_type = dp_name.rsplit('_', 1)\n",
    "    subset = atom_extra_feats[\n",
    "        (atom_extra_feats['rxn_id'] == rxn_id) &\n",
    "        (atom_extra_feats['mol_type'] == mol_type)\n",
    "    ]\n",
    "    # Sort by focus_atom_idx\n",
    "    subset = subset.sort_values(\"focus_atom_idx\")\n",
    "    return subset\n",
    "\n",
    "\n",
    "def attach_morgan_to_dps(dps):\n",
    "    new_dps = []\n",
    "    drop_cols = ['rxn_id', 'mol_type', 'focus_atom_idx', 'path', 'radius', 'angle', 'dihedral','focus_atom_symbol']\n",
    "    for dp in dps:\n",
    "        # pick the mol you actually want to fingerprint:\n",
    "        mol = dp.mol if not isinstance(dp.mol, tuple) else dp.mol[0]\n",
    "        extra_atom_feats = get_atom_feats_for_dp(dp.name, atom_extra_feats).drop(columns=drop_cols).values\n",
    "        new_dp = data.MoleculeDatapoint(\n",
    "            mol=dp.mol,\n",
    "            y=dp.y,\n",
    "            weight=dp.weight,\n",
    "            gt_mask=dp.gt_mask,\n",
    "            lt_mask=dp.lt_mask,\n",
    "            V_f=extra_atom_feats,\n",
    "            E_f=dp.E_f,\n",
    "            V_d=dp.V_d,\n",
    "            x_d=dp.x_d,      # <-- lowercase x_d\n",
    "            x_phase=dp.x_phase,\n",
    "            name=dp.name\n",
    "        )\n",
    "        new_dps.append(new_dp)\n",
    "    return new_dps\n",
    "\n",
    "\n",
    "featurizer = featurizers.SimpleMoleculeMolGraphFeaturizer(extra_atom_fdim=22)\n",
    "\n",
    "train_datasets = [\n",
    "    data.MoleculeDataset(\n",
    "        attach_morgan_to_dps(train_data[0][i]),\n",
    "        featurizer\n",
    "    )\n",
    "    for i in range(len(MOL_TYPES))\n",
    "]\n",
    "\n",
    "val_datasets = [\n",
    "    data.MoleculeDataset(\n",
    "        attach_morgan_to_dps(val_data[0][i]),\n",
    "        featurizer\n",
    "    )\n",
    "    for i in range(len(MOL_TYPES))\n",
    "]\n",
    "test_datasets = [\n",
    "    data.MoleculeDataset(\n",
    "        attach_morgan_to_dps(test_data[0][i]),\n",
    "        featurizer\n",
    "    )\n",
    "    for i in range(len(MOL_TYPES))\n",
    "]\n"
   ]
  },
  {
   "cell_type": "code",
   "execution_count": 76,
   "id": "1c3aff05",
   "metadata": {},
   "outputs": [
    {
     "data": {
      "text/plain": [
       "MolGraph(V=array([[ 1.        ,  0.        ,  0.        , ...,  0.        ,\n",
       "         0.        ,  0.        ],\n",
       "       [ 0.        ,  0.        ,  0.        , ...,  0.        ,\n",
       "         0.        ,  0.        ],\n",
       "       [ 0.        ,  0.        ,  0.        , ...,  0.        ,\n",
       "         0.        ,  0.50029651],\n",
       "       ...,\n",
       "       [ 1.        ,  0.        ,  0.        , ...,  0.01581087,\n",
       "         0.999875  ,  0.19734158],\n",
       "       [ 1.        ,  0.        ,  0.        , ..., -0.00913408,\n",
       "         0.99995828,  0.25403   ],\n",
       "       [ 1.        ,  0.        ,  0.        , ..., -0.02775143,\n",
       "         0.99961485,  0.48230151]]), E=array([[0., 1., 0., 0., 0., 0., 0., 1., 0., 0., 0., 0., 0., 0.],\n",
       "       [0., 1., 0., 0., 0., 0., 0., 1., 0., 0., 0., 0., 0., 0.],\n",
       "       [0., 1., 0., 0., 0., 0., 1., 1., 0., 0., 0., 0., 0., 0.],\n",
       "       [0., 1., 0., 0., 0., 0., 1., 1., 0., 0., 0., 0., 0., 0.],\n",
       "       [0., 1., 0., 0., 0., 0., 1., 1., 0., 0., 0., 0., 0., 0.],\n",
       "       [0., 1., 0., 0., 0., 0., 1., 1., 0., 0., 0., 0., 0., 0.],\n",
       "       [0., 1., 0., 0., 0., 0., 0., 1., 0., 0., 0., 0., 0., 0.],\n",
       "       [0., 1., 0., 0., 0., 0., 0., 1., 0., 0., 0., 0., 0., 0.],\n",
       "       [0., 1., 0., 0., 0., 0., 1., 1., 0., 0., 0., 0., 0., 0.],\n",
       "       [0., 1., 0., 0., 0., 0., 1., 1., 0., 0., 0., 0., 0., 0.],\n",
       "       [0., 1., 0., 0., 0., 0., 1., 1., 0., 0., 0., 0., 0., 0.],\n",
       "       [0., 1., 0., 0., 0., 0., 1., 1., 0., 0., 0., 0., 0., 0.],\n",
       "       [0., 1., 0., 0., 0., 0., 0., 1., 0., 0., 0., 0., 0., 0.],\n",
       "       [0., 1., 0., 0., 0., 0., 0., 1., 0., 0., 0., 0., 0., 0.],\n",
       "       [0., 1., 0., 0., 0., 0., 0., 1., 0., 0., 0., 0., 0., 0.],\n",
       "       [0., 1., 0., 0., 0., 0., 0., 1., 0., 0., 0., 0., 0., 0.],\n",
       "       [0., 1., 0., 0., 0., 0., 1., 1., 0., 0., 0., 0., 0., 0.],\n",
       "       [0., 1., 0., 0., 0., 0., 1., 1., 0., 0., 0., 0., 0., 0.],\n",
       "       [0., 1., 0., 0., 0., 0., 0., 1., 0., 0., 0., 0., 0., 0.],\n",
       "       [0., 1., 0., 0., 0., 0., 0., 1., 0., 0., 0., 0., 0., 0.],\n",
       "       [0., 1., 0., 0., 0., 0., 0., 1., 0., 0., 0., 0., 0., 0.],\n",
       "       [0., 1., 0., 0., 0., 0., 0., 1., 0., 0., 0., 0., 0., 0.],\n",
       "       [0., 1., 0., 0., 0., 0., 1., 1., 0., 0., 0., 0., 0., 0.],\n",
       "       [0., 1., 0., 0., 0., 0., 1., 1., 0., 0., 0., 0., 0., 0.],\n",
       "       [0., 1., 0., 0., 0., 0., 0., 1., 0., 0., 0., 0., 0., 0.],\n",
       "       [0., 1., 0., 0., 0., 0., 0., 1., 0., 0., 0., 0., 0., 0.],\n",
       "       [0., 1., 0., 0., 0., 0., 0., 1., 0., 0., 0., 0., 0., 0.],\n",
       "       [0., 1., 0., 0., 0., 0., 0., 1., 0., 0., 0., 0., 0., 0.]]), edge_index=array([[ 0,  1,  1,  2,  1,  6,  1,  7,  2,  3,  3,  4,  3,  8,  3,  9,\n",
       "         4,  5,  4, 10,  4, 11,  5,  6,  5, 12,  5, 13],\n",
       "       [ 1,  0,  2,  1,  6,  1,  7,  1,  3,  2,  4,  3,  8,  3,  9,  3,\n",
       "         5,  4, 10,  4, 11,  4,  6,  5, 12,  5, 13,  5]]), rev_edge_index=array([ 1,  0,  3,  2,  5,  4,  7,  6,  9,  8, 11, 10, 13, 12, 15, 14, 17,\n",
       "       16, 19, 18, 21, 20, 23, 22, 25, 24, 27, 26]))"
      ]
     },
     "execution_count": 76,
     "metadata": {},
     "output_type": "execute_result"
    }
   ],
   "source": [
    "train_datasets[1][0][0]"
   ]
  },
  {
   "cell_type": "code",
   "execution_count": 77,
   "id": "a24e7ed2",
   "metadata": {},
   "outputs": [],
   "source": [
    "train_mcdset = data.MulticomponentDataset(train_datasets)\n",
    "scaler = train_mcdset.normalize_targets()\n",
    "\n",
    "val_mcdset = data.MulticomponentDataset(val_datasets)\n",
    "val_mcdset.normalize_targets(scaler)\n",
    "test_mcdset = data.MulticomponentDataset(test_datasets)\n",
    "\n"
   ]
  },
  {
   "cell_type": "code",
   "execution_count": 78,
   "id": "3f1f11a6",
   "metadata": {},
   "outputs": [
    {
     "data": {
      "text/plain": [
       "94"
      ]
     },
     "execution_count": 78,
     "metadata": {},
     "output_type": "execute_result"
    }
   ],
   "source": [
    "train_loader = data.build_dataloader(train_mcdset, batch_size=64, shuffle=True, num_workers=8, pin_memory=True)\n",
    "val_loader = data.build_dataloader(val_mcdset, shuffle=False, batch_size=64)\n",
    "test_loader = data.build_dataloader(test_mcdset, shuffle=False, batch_size=64)\n",
    "output_transform = nn.UnscaleTransform.from_standard_scaler(scaler)\n",
    "featurizer.atom_fdim"
   ]
  },
  {
   "cell_type": "code",
   "execution_count": 79,
   "id": "611caaf2",
   "metadata": {},
   "outputs": [
    {
     "data": {
      "text/plain": [
       "MulticomponentMPNN(\n",
       "  (message_passing): MulticomponentMessagePassing(\n",
       "    (blocks): ModuleList(\n",
       "      (0-1): 2 x BondMessagePassing(\n",
       "        (W_i): Linear(in_features=108, out_features=512, bias=False)\n",
       "        (W_h): Linear(in_features=512, out_features=512, bias=False)\n",
       "        (W_o): Linear(in_features=606, out_features=512, bias=True)\n",
       "        (dropout): Dropout(p=0.2, inplace=False)\n",
       "        (tau): ReLU()\n",
       "        (V_d_transform): Identity()\n",
       "        (graph_transform): Identity()\n",
       "      )\n",
       "    )\n",
       "  )\n",
       "  (agg): MeanAggregation()\n",
       "  (bn): Identity()\n",
       "  (predictor): RegressionFFN(\n",
       "    (ffn): MLP(\n",
       "      (0): Sequential(\n",
       "        (0): Linear(in_features=1024, out_features=300, bias=True)\n",
       "      )\n",
       "      (1): Sequential(\n",
       "        (0): ReLU()\n",
       "        (1): Dropout(p=0.2, inplace=False)\n",
       "        (2): Linear(in_features=300, out_features=1, bias=True)\n",
       "      )\n",
       "    )\n",
       "    (criterion): MSE(task_weights=[[1.0]])\n",
       "    (output_transform): UnscaleTransform()\n",
       "  )\n",
       "  (X_d_transform): Identity()\n",
       "  (metrics): ModuleList(\n",
       "    (0): RMSE(task_weights=[[1.0]])\n",
       "    (1): MAE(task_weights=[[1.0]])\n",
       "    (2): R2Score()\n",
       "    (3): MSE(task_weights=[[1.0]])\n",
       "  )\n",
       ")"
      ]
     },
     "execution_count": 79,
     "metadata": {},
     "output_type": "execute_result"
    }
   ],
   "source": [
    "mcmp = nn.MulticomponentMessagePassing(\n",
    "    blocks=[nn.BondMessagePassing(depth=4, dropout=0.2, d_v=featurizer.atom_fdim, d_e=featurizer.bond_fdim, d_h=512,\n",
    "                                  ) for _ in range(len(MOL_TYPES))],\n",
    "    n_components=len(MOL_TYPES), shared = False    \n",
    ")\n",
    "\n",
    "agg = nn.MeanAggregation()\n",
    "ffn = nn.RegressionFFN(\n",
    "    input_dim=mcmp.output_dim,\n",
    "    output_transform=output_transform,\n",
    "    dropout=0.2,\n",
    ")\n",
    "metric_list = [metrics.RMSE(), metrics.MAE(), metrics.R2Score()] # Only the first metric is used for training and early stopping\n",
    "mcmpnn = multi.MulticomponentMPNN(\n",
    "    mcmp,\n",
    "    agg,\n",
    "    ffn,\n",
    "    metrics=metric_list,\n",
    ")\n",
    "\n",
    "mcmpnn\n",
    "\n"
   ]
  },
  {
   "cell_type": "code",
   "execution_count": 80,
   "id": "645702ff",
   "metadata": {},
   "outputs": [
    {
     "name": "stderr",
     "output_type": "stream",
     "text": [
      "GPU available: True (cuda), used: True\n",
      "TPU available: False, using: 0 TPU cores\n",
      "HPU available: False, using: 0 HPUs\n"
     ]
    }
   ],
   "source": [
    "\n",
    "\n",
    "# Trainer setup\n",
    "from lightning.pytorch.callbacks import ModelCheckpoint, EarlyStopping\n",
    "checkpoint_callback = ModelCheckpoint(\n",
    "    monitor=\"val/rmse\",\n",
    "    mode=\"min\",\n",
    "    save_top_k=1,\n",
    "    filename=\"best_model\",\n",
    ")\n",
    "early_stopping_callback = EarlyStopping(\n",
    "    monitor=\"val/rmse\",\n",
    "    patience=10,  # Number of epochs with no improvement after which training will be stopped\n",
    "    mode=\"min\",\n",
    ")\n",
    "\n",
    "\n",
    "# CSV logger setup\n",
    "from lightning.pytorch.loggers import CSVLogger\n",
    "csv_logger = CSVLogger(\n",
    "    save_dir=\"logs\",\n",
    "    name=\"mcmpnn_experiment\",\n",
    "    version=\"v1\"\n",
    ")\n",
    "\n",
    "trainer = pl.Trainer(\n",
    "    logger=csv_logger,\n",
    "    enable_checkpointing=True,\n",
    "    enable_progress_bar=True,\n",
    "    accelerator=\"auto\",\n",
    "    callbacks=[checkpoint_callback, early_stopping_callback],\n",
    "    devices=1,\n",
    "    max_epochs=200, # number of epochs to train for\n",
    ")\n",
    "\n"
   ]
  },
  {
   "cell_type": "code",
   "execution_count": 81,
   "id": "36deeb5a",
   "metadata": {},
   "outputs": [
    {
     "name": "stderr",
     "output_type": "stream",
     "text": [
      "/home/calvin/miniforge3/envs/habnet_rocm/lib/python3.12/site-packages/lightning/fabric/loggers/csv_logs.py:268: Experiment logs directory logs/mcmpnn_experiment/v1 exists and is not empty. Previous log files in this directory will be deleted when the new ones are saved!\n",
      "/home/calvin/miniforge3/envs/habnet_rocm/lib/python3.12/site-packages/lightning/pytorch/callbacks/model_checkpoint.py:654: Checkpoint directory logs/mcmpnn_experiment/v1/checkpoints exists and is not empty.\n",
      "LOCAL_RANK: 0 - CUDA_VISIBLE_DEVICES: [0]\n",
      "Loading `train_dataloader` to estimate number of stepping batches.\n",
      "/home/calvin/miniforge3/envs/habnet_rocm/lib/python3.12/site-packages/lightning/pytorch/loops/fit_loop.py:310: The number of training batches (22) is smaller than the logging interval Trainer(log_every_n_steps=50). Set a lower value for log_every_n_steps if you want to see logs for the training epoch.\n",
      "\n",
      "  | Name            | Type                         | Params | Mode \n",
      "-------------------------------------------------------------------------\n",
      "0 | message_passing | MulticomponentMessagePassing | 1.3 M  | train\n",
      "1 | agg             | MeanAggregation              | 0      | train\n",
      "2 | bn              | Identity                     | 0      | train\n",
      "3 | predictor       | RegressionFFN                | 307 K  | train\n",
      "4 | X_d_transform   | Identity                     | 0      | train\n",
      "5 | metrics         | ModuleList                   | 0      | train\n",
      "-------------------------------------------------------------------------\n",
      "1.6 M     Trainable params\n",
      "0         Non-trainable params\n",
      "1.6 M     Total params\n",
      "6.257     Total estimated model params size (MB)\n",
      "36        Modules in train mode\n",
      "0         Modules in eval mode\n",
      "/home/calvin/miniforge3/envs/habnet_rocm/lib/python3.12/site-packages/lightning/pytorch/core/saving.py:363: Skipping 'metrics' parameter because it is not possible to safely dump to YAML.\n"
     ]
    },
    {
     "data": {
      "application/vnd.jupyter.widget-view+json": {
       "model_id": "8cf82512f0694f408d4c4eebeeb75f85",
       "version_major": 2,
       "version_minor": 0
      },
      "text/plain": [
       "Sanity Checking: |          | 0/? [00:00<?, ?it/s]"
      ]
     },
     "metadata": {},
     "output_type": "display_data"
    },
    {
     "name": "stderr",
     "output_type": "stream",
     "text": [
      "/home/calvin/miniforge3/envs/habnet_rocm/lib/python3.12/site-packages/lightning/pytorch/trainer/connectors/data_connector.py:425: The 'val_dataloader' does not have many workers which may be a bottleneck. Consider increasing the value of the `num_workers` argument` to `num_workers=19` in the `DataLoader` to improve performance.\n"
     ]
    },
    {
     "data": {
      "application/vnd.jupyter.widget-view+json": {
       "model_id": "e1d76246bb0c43a693e5daf29b80dd44",
       "version_major": 2,
       "version_minor": 0
      },
      "text/plain": [
       "Training: |          | 0/? [00:00<?, ?it/s]"
      ]
     },
     "metadata": {},
     "output_type": "display_data"
    },
    {
     "data": {
      "application/vnd.jupyter.widget-view+json": {
       "model_id": "dbe7cf5c421e432d9d836ac588bf43c8",
       "version_major": 2,
       "version_minor": 0
      },
      "text/plain": [
       "Validation: |          | 0/? [00:00<?, ?it/s]"
      ]
     },
     "metadata": {},
     "output_type": "display_data"
    },
    {
     "data": {
      "application/vnd.jupyter.widget-view+json": {
       "model_id": "6833533e165c462fb330b4e6a3e47048",
       "version_major": 2,
       "version_minor": 0
      },
      "text/plain": [
       "Validation: |          | 0/? [00:00<?, ?it/s]"
      ]
     },
     "metadata": {},
     "output_type": "display_data"
    },
    {
     "data": {
      "application/vnd.jupyter.widget-view+json": {
       "model_id": "517e37af0e4e4a9da4beaa878e23027a",
       "version_major": 2,
       "version_minor": 0
      },
      "text/plain": [
       "Validation: |          | 0/? [00:00<?, ?it/s]"
      ]
     },
     "metadata": {},
     "output_type": "display_data"
    },
    {
     "data": {
      "application/vnd.jupyter.widget-view+json": {
       "model_id": "d1a891bc84a24afa895abd84712abfbd",
       "version_major": 2,
       "version_minor": 0
      },
      "text/plain": [
       "Validation: |          | 0/? [00:00<?, ?it/s]"
      ]
     },
     "metadata": {},
     "output_type": "display_data"
    },
    {
     "data": {
      "application/vnd.jupyter.widget-view+json": {
       "model_id": "4e1325bfa75c44158232f0657d9a3cf7",
       "version_major": 2,
       "version_minor": 0
      },
      "text/plain": [
       "Validation: |          | 0/? [00:00<?, ?it/s]"
      ]
     },
     "metadata": {},
     "output_type": "display_data"
    },
    {
     "data": {
      "application/vnd.jupyter.widget-view+json": {
       "model_id": "c5970cb7db5a4c108f6416f69df150c4",
       "version_major": 2,
       "version_minor": 0
      },
      "text/plain": [
       "Validation: |          | 0/? [00:00<?, ?it/s]"
      ]
     },
     "metadata": {},
     "output_type": "display_data"
    },
    {
     "data": {
      "application/vnd.jupyter.widget-view+json": {
       "model_id": "c5eb8385f8d945568559728652a1e177",
       "version_major": 2,
       "version_minor": 0
      },
      "text/plain": [
       "Validation: |          | 0/? [00:00<?, ?it/s]"
      ]
     },
     "metadata": {},
     "output_type": "display_data"
    },
    {
     "data": {
      "application/vnd.jupyter.widget-view+json": {
       "model_id": "e6a69d135b0e4649ba9015981ae0b752",
       "version_major": 2,
       "version_minor": 0
      },
      "text/plain": [
       "Validation: |          | 0/? [00:00<?, ?it/s]"
      ]
     },
     "metadata": {},
     "output_type": "display_data"
    },
    {
     "data": {
      "application/vnd.jupyter.widget-view+json": {
       "model_id": "881a828de5664ad997d2d39de714b68c",
       "version_major": 2,
       "version_minor": 0
      },
      "text/plain": [
       "Validation: |          | 0/? [00:00<?, ?it/s]"
      ]
     },
     "metadata": {},
     "output_type": "display_data"
    },
    {
     "data": {
      "application/vnd.jupyter.widget-view+json": {
       "model_id": "0a0f45a154ac43ad99578d105617e758",
       "version_major": 2,
       "version_minor": 0
      },
      "text/plain": [
       "Validation: |          | 0/? [00:00<?, ?it/s]"
      ]
     },
     "metadata": {},
     "output_type": "display_data"
    },
    {
     "data": {
      "application/vnd.jupyter.widget-view+json": {
       "model_id": "63ba6818da8e4759b251a97bb7b5fbe2",
       "version_major": 2,
       "version_minor": 0
      },
      "text/plain": [
       "Validation: |          | 0/? [00:00<?, ?it/s]"
      ]
     },
     "metadata": {},
     "output_type": "display_data"
    },
    {
     "data": {
      "application/vnd.jupyter.widget-view+json": {
       "model_id": "245c8ecf1dc947f29963447dca3169fd",
       "version_major": 2,
       "version_minor": 0
      },
      "text/plain": [
       "Validation: |          | 0/? [00:00<?, ?it/s]"
      ]
     },
     "metadata": {},
     "output_type": "display_data"
    },
    {
     "data": {
      "application/vnd.jupyter.widget-view+json": {
       "model_id": "97d588d5ee1a42aebaac378990deb0f1",
       "version_major": 2,
       "version_minor": 0
      },
      "text/plain": [
       "Validation: |          | 0/? [00:00<?, ?it/s]"
      ]
     },
     "metadata": {},
     "output_type": "display_data"
    },
    {
     "data": {
      "application/vnd.jupyter.widget-view+json": {
       "model_id": "5607d65c6abb4bb3844403bd5729a679",
       "version_major": 2,
       "version_minor": 0
      },
      "text/plain": [
       "Validation: |          | 0/? [00:00<?, ?it/s]"
      ]
     },
     "metadata": {},
     "output_type": "display_data"
    },
    {
     "data": {
      "application/vnd.jupyter.widget-view+json": {
       "model_id": "c444cbf936e7403ab86db749f335794c",
       "version_major": 2,
       "version_minor": 0
      },
      "text/plain": [
       "Validation: |          | 0/? [00:00<?, ?it/s]"
      ]
     },
     "metadata": {},
     "output_type": "display_data"
    },
    {
     "data": {
      "application/vnd.jupyter.widget-view+json": {
       "model_id": "10007c9a448f44ddbbe1b9cf9827b15f",
       "version_major": 2,
       "version_minor": 0
      },
      "text/plain": [
       "Validation: |          | 0/? [00:00<?, ?it/s]"
      ]
     },
     "metadata": {},
     "output_type": "display_data"
    },
    {
     "data": {
      "application/vnd.jupyter.widget-view+json": {
       "model_id": "177a3e51e9554ca28b7b978b8160a757",
       "version_major": 2,
       "version_minor": 0
      },
      "text/plain": [
       "Validation: |          | 0/? [00:00<?, ?it/s]"
      ]
     },
     "metadata": {},
     "output_type": "display_data"
    },
    {
     "data": {
      "application/vnd.jupyter.widget-view+json": {
       "model_id": "6b1dff8439694c93a779a1e7712a331b",
       "version_major": 2,
       "version_minor": 0
      },
      "text/plain": [
       "Validation: |          | 0/? [00:00<?, ?it/s]"
      ]
     },
     "metadata": {},
     "output_type": "display_data"
    },
    {
     "data": {
      "application/vnd.jupyter.widget-view+json": {
       "model_id": "9ff444dcc4234f21a64c5e8a68a488ce",
       "version_major": 2,
       "version_minor": 0
      },
      "text/plain": [
       "Validation: |          | 0/? [00:00<?, ?it/s]"
      ]
     },
     "metadata": {},
     "output_type": "display_data"
    },
    {
     "data": {
      "application/vnd.jupyter.widget-view+json": {
       "model_id": "30cd7f080f3943d8835a0ce882f6925b",
       "version_major": 2,
       "version_minor": 0
      },
      "text/plain": [
       "Validation: |          | 0/? [00:00<?, ?it/s]"
      ]
     },
     "metadata": {},
     "output_type": "display_data"
    },
    {
     "data": {
      "application/vnd.jupyter.widget-view+json": {
       "model_id": "4eba8f2955ee498d86a36a1587513740",
       "version_major": 2,
       "version_minor": 0
      },
      "text/plain": [
       "Validation: |          | 0/? [00:00<?, ?it/s]"
      ]
     },
     "metadata": {},
     "output_type": "display_data"
    },
    {
     "data": {
      "application/vnd.jupyter.widget-view+json": {
       "model_id": "3dd4a613204947e7a82381249fcfd728",
       "version_major": 2,
       "version_minor": 0
      },
      "text/plain": [
       "Validation: |          | 0/? [00:00<?, ?it/s]"
      ]
     },
     "metadata": {},
     "output_type": "display_data"
    },
    {
     "data": {
      "application/vnd.jupyter.widget-view+json": {
       "model_id": "fbec6cb750494165be3b258a1b2b2e5d",
       "version_major": 2,
       "version_minor": 0
      },
      "text/plain": [
       "Validation: |          | 0/? [00:00<?, ?it/s]"
      ]
     },
     "metadata": {},
     "output_type": "display_data"
    },
    {
     "data": {
      "application/vnd.jupyter.widget-view+json": {
       "model_id": "57512a14822e4944a3fc6e74dc3508d7",
       "version_major": 2,
       "version_minor": 0
      },
      "text/plain": [
       "Validation: |          | 0/? [00:00<?, ?it/s]"
      ]
     },
     "metadata": {},
     "output_type": "display_data"
    },
    {
     "data": {
      "application/vnd.jupyter.widget-view+json": {
       "model_id": "f7fba400f2fa497097f2bd3b2703631f",
       "version_major": 2,
       "version_minor": 0
      },
      "text/plain": [
       "Validation: |          | 0/? [00:00<?, ?it/s]"
      ]
     },
     "metadata": {},
     "output_type": "display_data"
    },
    {
     "data": {
      "application/vnd.jupyter.widget-view+json": {
       "model_id": "846fbcea55b2479fa1120930da703f5d",
       "version_major": 2,
       "version_minor": 0
      },
      "text/plain": [
       "Validation: |          | 0/? [00:00<?, ?it/s]"
      ]
     },
     "metadata": {},
     "output_type": "display_data"
    },
    {
     "data": {
      "application/vnd.jupyter.widget-view+json": {
       "model_id": "29257f32b8f44c8aaa94ab0fe7430658",
       "version_major": 2,
       "version_minor": 0
      },
      "text/plain": [
       "Validation: |          | 0/? [00:00<?, ?it/s]"
      ]
     },
     "metadata": {},
     "output_type": "display_data"
    },
    {
     "data": {
      "application/vnd.jupyter.widget-view+json": {
       "model_id": "48759e6c981948e28c8d720e5e0813f0",
       "version_major": 2,
       "version_minor": 0
      },
      "text/plain": [
       "Validation: |          | 0/? [00:00<?, ?it/s]"
      ]
     },
     "metadata": {},
     "output_type": "display_data"
    },
    {
     "data": {
      "application/vnd.jupyter.widget-view+json": {
       "model_id": "ae732b02887e4f7a9c86434fa20ef96b",
       "version_major": 2,
       "version_minor": 0
      },
      "text/plain": [
       "Validation: |          | 0/? [00:00<?, ?it/s]"
      ]
     },
     "metadata": {},
     "output_type": "display_data"
    },
    {
     "data": {
      "application/vnd.jupyter.widget-view+json": {
       "model_id": "5b5d71810bc944078b36d38c3e03c229",
       "version_major": 2,
       "version_minor": 0
      },
      "text/plain": [
       "Validation: |          | 0/? [00:00<?, ?it/s]"
      ]
     },
     "metadata": {},
     "output_type": "display_data"
    },
    {
     "data": {
      "application/vnd.jupyter.widget-view+json": {
       "model_id": "cc65a239a1bd4cc8803229b6319e8863",
       "version_major": 2,
       "version_minor": 0
      },
      "text/plain": [
       "Validation: |          | 0/? [00:00<?, ?it/s]"
      ]
     },
     "metadata": {},
     "output_type": "display_data"
    },
    {
     "data": {
      "application/vnd.jupyter.widget-view+json": {
       "model_id": "c2e2088f396d4a46b309d16b1ad0f068",
       "version_major": 2,
       "version_minor": 0
      },
      "text/plain": [
       "Validation: |          | 0/? [00:00<?, ?it/s]"
      ]
     },
     "metadata": {},
     "output_type": "display_data"
    },
    {
     "data": {
      "application/vnd.jupyter.widget-view+json": {
       "model_id": "a4920f7f845e4761a8816f45405c8586",
       "version_major": 2,
       "version_minor": 0
      },
      "text/plain": [
       "Validation: |          | 0/? [00:00<?, ?it/s]"
      ]
     },
     "metadata": {},
     "output_type": "display_data"
    },
    {
     "data": {
      "application/vnd.jupyter.widget-view+json": {
       "model_id": "688a8d4b38464410b748dfa54304254a",
       "version_major": 2,
       "version_minor": 0
      },
      "text/plain": [
       "Validation: |          | 0/? [00:00<?, ?it/s]"
      ]
     },
     "metadata": {},
     "output_type": "display_data"
    },
    {
     "data": {
      "application/vnd.jupyter.widget-view+json": {
       "model_id": "3ebeda219c0147859bcb69545fa466f3",
       "version_major": 2,
       "version_minor": 0
      },
      "text/plain": [
       "Validation: |          | 0/? [00:00<?, ?it/s]"
      ]
     },
     "metadata": {},
     "output_type": "display_data"
    },
    {
     "data": {
      "application/vnd.jupyter.widget-view+json": {
       "model_id": "06eebdb597ac4d389a8226e6df9cd8b1",
       "version_major": 2,
       "version_minor": 0
      },
      "text/plain": [
       "Validation: |          | 0/? [00:00<?, ?it/s]"
      ]
     },
     "metadata": {},
     "output_type": "display_data"
    },
    {
     "data": {
      "application/vnd.jupyter.widget-view+json": {
       "model_id": "3959103dce3346ff86ee32d14d595f84",
       "version_major": 2,
       "version_minor": 0
      },
      "text/plain": [
       "Validation: |          | 0/? [00:00<?, ?it/s]"
      ]
     },
     "metadata": {},
     "output_type": "display_data"
    },
    {
     "data": {
      "application/vnd.jupyter.widget-view+json": {
       "model_id": "2a077538681b4717bc9fa15bec10d32e",
       "version_major": 2,
       "version_minor": 0
      },
      "text/plain": [
       "Validation: |          | 0/? [00:00<?, ?it/s]"
      ]
     },
     "metadata": {},
     "output_type": "display_data"
    },
    {
     "data": {
      "application/vnd.jupyter.widget-view+json": {
       "model_id": "ed053a79d86441209cbe610e5438e3a3",
       "version_major": 2,
       "version_minor": 0
      },
      "text/plain": [
       "Validation: |          | 0/? [00:00<?, ?it/s]"
      ]
     },
     "metadata": {},
     "output_type": "display_data"
    },
    {
     "data": {
      "application/vnd.jupyter.widget-view+json": {
       "model_id": "3167e4d0593f4c39ab1492e1ddb2d8ed",
       "version_major": 2,
       "version_minor": 0
      },
      "text/plain": [
       "Validation: |          | 0/? [00:00<?, ?it/s]"
      ]
     },
     "metadata": {},
     "output_type": "display_data"
    },
    {
     "data": {
      "application/vnd.jupyter.widget-view+json": {
       "model_id": "2d5ba7e1b822465f9ef9335e10868a31",
       "version_major": 2,
       "version_minor": 0
      },
      "text/plain": [
       "Validation: |          | 0/? [00:00<?, ?it/s]"
      ]
     },
     "metadata": {},
     "output_type": "display_data"
    },
    {
     "data": {
      "application/vnd.jupyter.widget-view+json": {
       "model_id": "b2fe72c4622e4947a2a01d6dd806234c",
       "version_major": 2,
       "version_minor": 0
      },
      "text/plain": [
       "Validation: |          | 0/? [00:00<?, ?it/s]"
      ]
     },
     "metadata": {},
     "output_type": "display_data"
    },
    {
     "data": {
      "application/vnd.jupyter.widget-view+json": {
       "model_id": "7bad818c6bcb46bab24443734e1ce120",
       "version_major": 2,
       "version_minor": 0
      },
      "text/plain": [
       "Validation: |          | 0/? [00:00<?, ?it/s]"
      ]
     },
     "metadata": {},
     "output_type": "display_data"
    },
    {
     "data": {
      "application/vnd.jupyter.widget-view+json": {
       "model_id": "e22bd49e2cf6405e9f1ef0597a832ee1",
       "version_major": 2,
       "version_minor": 0
      },
      "text/plain": [
       "Validation: |          | 0/? [00:00<?, ?it/s]"
      ]
     },
     "metadata": {},
     "output_type": "display_data"
    },
    {
     "data": {
      "application/vnd.jupyter.widget-view+json": {
       "model_id": "48713fc98b4b46c3bc5972dda58fe2ea",
       "version_major": 2,
       "version_minor": 0
      },
      "text/plain": [
       "Validation: |          | 0/? [00:00<?, ?it/s]"
      ]
     },
     "metadata": {},
     "output_type": "display_data"
    },
    {
     "data": {
      "application/vnd.jupyter.widget-view+json": {
       "model_id": "540ac3d4bd714be4bcd3223f6d0ab3ce",
       "version_major": 2,
       "version_minor": 0
      },
      "text/plain": [
       "Validation: |          | 0/? [00:00<?, ?it/s]"
      ]
     },
     "metadata": {},
     "output_type": "display_data"
    },
    {
     "data": {
      "application/vnd.jupyter.widget-view+json": {
       "model_id": "9f7ab23ccf934c3fb03480aa942a60fe",
       "version_major": 2,
       "version_minor": 0
      },
      "text/plain": [
       "Validation: |          | 0/? [00:00<?, ?it/s]"
      ]
     },
     "metadata": {},
     "output_type": "display_data"
    },
    {
     "data": {
      "application/vnd.jupyter.widget-view+json": {
       "model_id": "ae67af6c78e54ede85b6d496edc649bb",
       "version_major": 2,
       "version_minor": 0
      },
      "text/plain": [
       "Validation: |          | 0/? [00:00<?, ?it/s]"
      ]
     },
     "metadata": {},
     "output_type": "display_data"
    },
    {
     "data": {
      "application/vnd.jupyter.widget-view+json": {
       "model_id": "f2631d97b9104c8bad437b515a2a16ae",
       "version_major": 2,
       "version_minor": 0
      },
      "text/plain": [
       "Validation: |          | 0/? [00:00<?, ?it/s]"
      ]
     },
     "metadata": {},
     "output_type": "display_data"
    },
    {
     "data": {
      "application/vnd.jupyter.widget-view+json": {
       "model_id": "85002dc4783249b38dd568f996a1288e",
       "version_major": 2,
       "version_minor": 0
      },
      "text/plain": [
       "Validation: |          | 0/? [00:00<?, ?it/s]"
      ]
     },
     "metadata": {},
     "output_type": "display_data"
    },
    {
     "data": {
      "application/vnd.jupyter.widget-view+json": {
       "model_id": "e5a671db58734b2386ec046be9994f92",
       "version_major": 2,
       "version_minor": 0
      },
      "text/plain": [
       "Validation: |          | 0/? [00:00<?, ?it/s]"
      ]
     },
     "metadata": {},
     "output_type": "display_data"
    },
    {
     "data": {
      "application/vnd.jupyter.widget-view+json": {
       "model_id": "24cc2bf1d9e14ca6a11dee463b9379d5",
       "version_major": 2,
       "version_minor": 0
      },
      "text/plain": [
       "Validation: |          | 0/? [00:00<?, ?it/s]"
      ]
     },
     "metadata": {},
     "output_type": "display_data"
    },
    {
     "data": {
      "application/vnd.jupyter.widget-view+json": {
       "model_id": "2d2cee5a70c84c90b0e678415b2a39c8",
       "version_major": 2,
       "version_minor": 0
      },
      "text/plain": [
       "Validation: |          | 0/? [00:00<?, ?it/s]"
      ]
     },
     "metadata": {},
     "output_type": "display_data"
    },
    {
     "data": {
      "application/vnd.jupyter.widget-view+json": {
       "model_id": "6d62da095f124339b903de744c72b8c1",
       "version_major": 2,
       "version_minor": 0
      },
      "text/plain": [
       "Validation: |          | 0/? [00:00<?, ?it/s]"
      ]
     },
     "metadata": {},
     "output_type": "display_data"
    },
    {
     "data": {
      "application/vnd.jupyter.widget-view+json": {
       "model_id": "a40d7f8f0b35415f91e71faadda834b8",
       "version_major": 2,
       "version_minor": 0
      },
      "text/plain": [
       "Validation: |          | 0/? [00:00<?, ?it/s]"
      ]
     },
     "metadata": {},
     "output_type": "display_data"
    },
    {
     "data": {
      "application/vnd.jupyter.widget-view+json": {
       "model_id": "56f83bc1a6b9430eab7d445c306d38e3",
       "version_major": 2,
       "version_minor": 0
      },
      "text/plain": [
       "Validation: |          | 0/? [00:00<?, ?it/s]"
      ]
     },
     "metadata": {},
     "output_type": "display_data"
    },
    {
     "data": {
      "application/vnd.jupyter.widget-view+json": {
       "model_id": "9775839af1d8458ca3e0381907c7daa9",
       "version_major": 2,
       "version_minor": 0
      },
      "text/plain": [
       "Validation: |          | 0/? [00:00<?, ?it/s]"
      ]
     },
     "metadata": {},
     "output_type": "display_data"
    },
    {
     "data": {
      "application/vnd.jupyter.widget-view+json": {
       "model_id": "f3927dc1051e49d38d6b2a6636e75641",
       "version_major": 2,
       "version_minor": 0
      },
      "text/plain": [
       "Validation: |          | 0/? [00:00<?, ?it/s]"
      ]
     },
     "metadata": {},
     "output_type": "display_data"
    },
    {
     "data": {
      "application/vnd.jupyter.widget-view+json": {
       "model_id": "fed2f2ccc0ef4db3b2add5c778b78007",
       "version_major": 2,
       "version_minor": 0
      },
      "text/plain": [
       "Validation: |          | 0/? [00:00<?, ?it/s]"
      ]
     },
     "metadata": {},
     "output_type": "display_data"
    },
    {
     "data": {
      "application/vnd.jupyter.widget-view+json": {
       "model_id": "877450273189451d8ab54201a40446ca",
       "version_major": 2,
       "version_minor": 0
      },
      "text/plain": [
       "Validation: |          | 0/? [00:00<?, ?it/s]"
      ]
     },
     "metadata": {},
     "output_type": "display_data"
    },
    {
     "data": {
      "application/vnd.jupyter.widget-view+json": {
       "model_id": "679fe75f4cd843549164e4ad4c30e47f",
       "version_major": 2,
       "version_minor": 0
      },
      "text/plain": [
       "Validation: |          | 0/? [00:00<?, ?it/s]"
      ]
     },
     "metadata": {},
     "output_type": "display_data"
    },
    {
     "data": {
      "application/vnd.jupyter.widget-view+json": {
       "model_id": "b9d781e4bb494a3c8ae73bbb2776fc89",
       "version_major": 2,
       "version_minor": 0
      },
      "text/plain": [
       "Validation: |          | 0/? [00:00<?, ?it/s]"
      ]
     },
     "metadata": {},
     "output_type": "display_data"
    },
    {
     "data": {
      "application/vnd.jupyter.widget-view+json": {
       "model_id": "35c52fc46dbf4dc491a464697b0aa88a",
       "version_major": 2,
       "version_minor": 0
      },
      "text/plain": [
       "Validation: |          | 0/? [00:00<?, ?it/s]"
      ]
     },
     "metadata": {},
     "output_type": "display_data"
    },
    {
     "data": {
      "application/vnd.jupyter.widget-view+json": {
       "model_id": "710ae7ae058f4260843ce73c66dfc368",
       "version_major": 2,
       "version_minor": 0
      },
      "text/plain": [
       "Validation: |          | 0/? [00:00<?, ?it/s]"
      ]
     },
     "metadata": {},
     "output_type": "display_data"
    },
    {
     "data": {
      "application/vnd.jupyter.widget-view+json": {
       "model_id": "b667b987a2c34ecbae692a66ce0c7152",
       "version_major": 2,
       "version_minor": 0
      },
      "text/plain": [
       "Validation: |          | 0/? [00:00<?, ?it/s]"
      ]
     },
     "metadata": {},
     "output_type": "display_data"
    },
    {
     "data": {
      "application/vnd.jupyter.widget-view+json": {
       "model_id": "aaf8dfb81dcc4c97a2922ef958ca517b",
       "version_major": 2,
       "version_minor": 0
      },
      "text/plain": [
       "Validation: |          | 0/? [00:00<?, ?it/s]"
      ]
     },
     "metadata": {},
     "output_type": "display_data"
    },
    {
     "data": {
      "application/vnd.jupyter.widget-view+json": {
       "model_id": "07db1dd40a6048fc86b0d344b0d791ac",
       "version_major": 2,
       "version_minor": 0
      },
      "text/plain": [
       "Validation: |          | 0/? [00:00<?, ?it/s]"
      ]
     },
     "metadata": {},
     "output_type": "display_data"
    },
    {
     "data": {
      "application/vnd.jupyter.widget-view+json": {
       "model_id": "3aa6d50f003f41eca4d43e56ae8ca481",
       "version_major": 2,
       "version_minor": 0
      },
      "text/plain": [
       "Validation: |          | 0/? [00:00<?, ?it/s]"
      ]
     },
     "metadata": {},
     "output_type": "display_data"
    },
    {
     "data": {
      "application/vnd.jupyter.widget-view+json": {
       "model_id": "1b1f5067252943bfa409ac3b863f9afd",
       "version_major": 2,
       "version_minor": 0
      },
      "text/plain": [
       "Validation: |          | 0/? [00:00<?, ?it/s]"
      ]
     },
     "metadata": {},
     "output_type": "display_data"
    },
    {
     "data": {
      "application/vnd.jupyter.widget-view+json": {
       "model_id": "34ede012672341f8b018d27ae1ee8f15",
       "version_major": 2,
       "version_minor": 0
      },
      "text/plain": [
       "Validation: |          | 0/? [00:00<?, ?it/s]"
      ]
     },
     "metadata": {},
     "output_type": "display_data"
    },
    {
     "data": {
      "application/vnd.jupyter.widget-view+json": {
       "model_id": "a70b7e9d1ca740d0935a7426771c8d83",
       "version_major": 2,
       "version_minor": 0
      },
      "text/plain": [
       "Validation: |          | 0/? [00:00<?, ?it/s]"
      ]
     },
     "metadata": {},
     "output_type": "display_data"
    },
    {
     "data": {
      "application/vnd.jupyter.widget-view+json": {
       "model_id": "c9595b5b4a2e47fcbad3bff20031a4dd",
       "version_major": 2,
       "version_minor": 0
      },
      "text/plain": [
       "Validation: |          | 0/? [00:00<?, ?it/s]"
      ]
     },
     "metadata": {},
     "output_type": "display_data"
    },
    {
     "data": {
      "application/vnd.jupyter.widget-view+json": {
       "model_id": "79b45dde2b5d452bbdff1446f7df1d91",
       "version_major": 2,
       "version_minor": 0
      },
      "text/plain": [
       "Validation: |          | 0/? [00:00<?, ?it/s]"
      ]
     },
     "metadata": {},
     "output_type": "display_data"
    },
    {
     "data": {
      "application/vnd.jupyter.widget-view+json": {
       "model_id": "c050cfb0d2074f9f9e6845bf153dd188",
       "version_major": 2,
       "version_minor": 0
      },
      "text/plain": [
       "Validation: |          | 0/? [00:00<?, ?it/s]"
      ]
     },
     "metadata": {},
     "output_type": "display_data"
    },
    {
     "data": {
      "application/vnd.jupyter.widget-view+json": {
       "model_id": "553130ff51e842618a5b443c114ede32",
       "version_major": 2,
       "version_minor": 0
      },
      "text/plain": [
       "Validation: |          | 0/? [00:00<?, ?it/s]"
      ]
     },
     "metadata": {},
     "output_type": "display_data"
    }
   ],
   "source": [
    "trainer.fit(mcmpnn, train_loader, val_loader)"
   ]
  },
  {
   "cell_type": "code",
   "execution_count": 82,
   "id": "601ad1dd",
   "metadata": {},
   "outputs": [
    {
     "name": "stderr",
     "output_type": "stream",
     "text": [
      "LOCAL_RANK: 0 - CUDA_VISIBLE_DEVICES: [0]\n",
      "/home/calvin/miniforge3/envs/habnet_rocm/lib/python3.12/site-packages/lightning/pytorch/trainer/connectors/data_connector.py:425: The 'test_dataloader' does not have many workers which may be a bottleneck. Consider increasing the value of the `num_workers` argument` to `num_workers=19` in the `DataLoader` to improve performance.\n"
     ]
    },
    {
     "data": {
      "application/vnd.jupyter.widget-view+json": {
       "model_id": "37dd3a0b02f84882b4f7fc4ca0d706fc",
       "version_major": 2,
       "version_minor": 0
      },
      "text/plain": [
       "Testing: |          | 0/? [00:00<?, ?it/s]"
      ]
     },
     "metadata": {},
     "output_type": "display_data"
    },
    {
     "data": {
      "text/html": [
       "<pre style=\"white-space:pre;overflow-x:auto;line-height:normal;font-family:Menlo,'DejaVu Sans Mono',consolas,'Courier New',monospace\">┏━━━━━━━━━━━━━━━━━━━━━━━━━━━┳━━━━━━━━━━━━━━━━━━━━━━━━━━━┓\n",
       "┃<span style=\"font-weight: bold\">        Test metric        </span>┃<span style=\"font-weight: bold\">       DataLoader 0        </span>┃\n",
       "┡━━━━━━━━━━━━━━━━━━━━━━━━━━━╇━━━━━━━━━━━━━━━━━━━━━━━━━━━┩\n",
       "│<span style=\"color: #008080; text-decoration-color: #008080\">         test/mae          </span>│<span style=\"color: #800080; text-decoration-color: #800080\">     4.96406888961792      </span>│\n",
       "│<span style=\"color: #008080; text-decoration-color: #008080\">          test/r2          </span>│<span style=\"color: #800080; text-decoration-color: #800080\">    0.9460756778717041     </span>│\n",
       "│<span style=\"color: #008080; text-decoration-color: #008080\">         test/rmse         </span>│<span style=\"color: #800080; text-decoration-color: #800080\">     7.352927207946777     </span>│\n",
       "└───────────────────────────┴───────────────────────────┘\n",
       "</pre>\n"
      ],
      "text/plain": [
       "┏━━━━━━━━━━━━━━━━━━━━━━━━━━━┳━━━━━━━━━━━━━━━━━━━━━━━━━━━┓\n",
       "┃\u001b[1m \u001b[0m\u001b[1m       Test metric       \u001b[0m\u001b[1m \u001b[0m┃\u001b[1m \u001b[0m\u001b[1m      DataLoader 0       \u001b[0m\u001b[1m \u001b[0m┃\n",
       "┡━━━━━━━━━━━━━━━━━━━━━━━━━━━╇━━━━━━━━━━━━━━━━━━━━━━━━━━━┩\n",
       "│\u001b[36m \u001b[0m\u001b[36m        test/mae         \u001b[0m\u001b[36m \u001b[0m│\u001b[35m \u001b[0m\u001b[35m    4.96406888961792     \u001b[0m\u001b[35m \u001b[0m│\n",
       "│\u001b[36m \u001b[0m\u001b[36m         test/r2         \u001b[0m\u001b[36m \u001b[0m│\u001b[35m \u001b[0m\u001b[35m   0.9460756778717041    \u001b[0m\u001b[35m \u001b[0m│\n",
       "│\u001b[36m \u001b[0m\u001b[36m        test/rmse        \u001b[0m\u001b[36m \u001b[0m│\u001b[35m \u001b[0m\u001b[35m    7.352927207946777    \u001b[0m\u001b[35m \u001b[0m│\n",
       "└───────────────────────────┴───────────────────────────┘\n"
      ]
     },
     "metadata": {},
     "output_type": "display_data"
    },
    {
     "data": {
      "text/plain": [
       "[{'test/rmse': 7.352927207946777,\n",
       "  'test/mae': 4.96406888961792,\n",
       "  'test/r2': 0.9460756778717041}]"
      ]
     },
     "execution_count": 82,
     "metadata": {},
     "output_type": "execute_result"
    }
   ],
   "source": [
    "trainer.test(mcmpnn, test_loader)"
   ]
  },
  {
   "cell_type": "code",
   "execution_count": 83,
   "id": "737d80b3",
   "metadata": {},
   "outputs": [
    {
     "name": "stderr",
     "output_type": "stream",
     "text": [
      "LOCAL_RANK: 0 - CUDA_VISIBLE_DEVICES: [0]\n",
      "/home/calvin/miniforge3/envs/habnet_rocm/lib/python3.12/site-packages/lightning/pytorch/trainer/connectors/data_connector.py:425: The 'predict_dataloader' does not have many workers which may be a bottleneck. Consider increasing the value of the `num_workers` argument` to `num_workers=19` in the `DataLoader` to improve performance.\n"
     ]
    },
    {
     "data": {
      "application/vnd.jupyter.widget-view+json": {
       "model_id": "70ace076d07b434896273a6014a29bb8",
       "version_major": 2,
       "version_minor": 0
      },
      "text/plain": [
       "Predicting: |          | 0/? [00:00<?, ?it/s]"
      ]
     },
     "metadata": {},
     "output_type": "display_data"
    }
   ],
   "source": [
    "pred = trainer.predict(mcmpnn, test_loader)"
   ]
  },
  {
   "cell_type": "code",
   "execution_count": 84,
   "id": "b8435b34",
   "metadata": {},
   "outputs": [],
   "source": [
    "import torch\n",
    "pred_t = torch.cat(pred)\n",
    "pred_np = pred_t.detach().cpu().numpy()\n",
    "target_y = []\n",
    "for batch in test_loader:\n",
    "    target_y.append(batch.Y)\n",
    "target_y = torch.cat(target_y)\n",
    "target_y_np = target_y.detach().cpu().numpy()"
   ]
  },
  {
   "cell_type": "code",
   "execution_count": 85,
   "id": "0e1da352",
   "metadata": {},
   "outputs": [
    {
     "data": {
      "image/png": "[encoded data removed]",
      "text/plain": [
       "<Figure size 600x600 with 1 Axes>"
      ]
     },
     "metadata": {},
     "output_type": "display_data"
    }
   ],
   "source": [
    "import matplotlib.pyplot as plt\n",
    "import numpy as np\n",
    "\n",
    "# Optional: flatten if you have shape issues\n",
    "target_y = np.array(target_y).flatten()\n",
    "pred_np = np.array(pred_np).flatten()\n",
    "\n",
    "plt.figure(figsize=(6, 6))\n",
    "plt.scatter(target_y, pred_np, alpha=0.4, edgecolor='k', label='Predictions')\n",
    "\n",
    "# Plot y = x line (perfect prediction)\n",
    "min_val = min(np.min(target_y), np.min(pred_np))\n",
    "max_val = max(np.max(target_y), np.max(pred_np))\n",
    "plt.plot([min_val, max_val], [min_val, max_val], 'r--', label='Ideal')\n",
    "\n",
    "plt.xlabel('True Value')\n",
    "plt.ylabel('Predicted Value')\n",
    "plt.title('Predicted vs. Actual')\n",
    "plt.legend()\n",
    "plt.grid(True)\n",
    "plt.tight_layout()\n",
    "plt.show()\n"
   ]
  },
  {
   "cell_type": "code",
   "execution_count": 86,
   "id": "f5f9f96f",
   "metadata": {},
   "outputs": [],
   "source": [
    "target_y_np = target_y_np.flatten()\n",
    "pred_np = pred_np.flatten()\n",
    "\n",
    "mask = ~np.isnan(target_y_np) & ~np.isnan(pred_np)\n",
    "\n",
    "target_y_clean = target_y_np[mask]\n",
    "pred_clean = pred_np[mask]\n"
   ]
  },
  {
   "cell_type": "code",
   "execution_count": 87,
   "id": "679de736",
   "metadata": {},
   "outputs": [
    {
     "data": {
      "text/plain": [
       "((170,), (170,))"
      ]
     },
     "execution_count": 87,
     "metadata": {},
     "output_type": "execute_result"
    }
   ],
   "source": [
    "target_y_clean.shape, pred_clean.shape"
   ]
  },
  {
   "cell_type": "code",
   "execution_count": 88,
   "id": "4a2dc0f6",
   "metadata": {},
   "outputs": [
    {
     "data": {
      "text/plain": [
       "((170,), (170,))"
      ]
     },
     "execution_count": 88,
     "metadata": {},
     "output_type": "execute_result"
    }
   ],
   "source": [
    "target_y_np.shape, pred_np.shape"
   ]
  },
  {
   "cell_type": "code",
   "execution_count": 89,
   "id": "423f2c3b",
   "metadata": {},
   "outputs": [
    {
     "name": "stdout",
     "output_type": "stream",
     "text": [
      "Mean: 45.8539, Std: 31.6642, Min: -42.0000, Max: 127.0000\n"
     ]
    }
   ],
   "source": [
    "#Get the stats of target_y_clean\n",
    "print(f\"Mean: {np.mean(target_y_clean):.4f}, Std: {np.std(target_y_clean):.4f}, Min: {np.min(target_y_clean):.4f}, Max: {np.max(target_y_clean):.4f}\")"
   ]
  },
  {
   "cell_type": "markdown",
   "id": "3b83795f",
   "metadata": {},
   "source": [
    "# Reverse"
   ]
  },
  {
   "cell_type": "code",
   "execution_count": 90,
   "id": "15c4c52a",
   "metadata": {},
   "outputs": [
    {
     "data": {
      "application/vnd.microsoft.datawrangler.viewer.v0+json": {
       "columns": [
        {
         "name": "index",
         "rawType": "object",
         "type": "string"
        },
        {
         "name": "E0_total",
         "rawType": "float64",
         "type": "float"
        },
        {
         "name": "E0_TS0",
         "rawType": "float64",
         "type": "float"
        },
        {
         "name": "delta_E0",
         "rawType": "float64",
         "type": "float"
        }
       ],
       "ref": "89a0653a-2bf2-45b8-ad54-f6833c5a6719",
       "rows": [
        [
         "count",
         "2146.0",
         "2037.0",
         "2037.0"
        ],
        [
         "mean",
         "-1237916.8333131408",
         "-1259491.7569955818",
         "63.623117329405595"
        ],
        [
         "std",
         "863991.669714369",
         "876766.9962838229",
         "39.947771770190066"
        ],
        [
         "min",
         "-21600712.0",
         "-21600600.0",
         "-82.0"
        ],
        [
         "25%",
         "-1565730.25",
         "-1615020.0",
         "39.0"
        ],
        [
         "50%",
         "-1096050.5",
         "-1113430.0",
         "61.0"
        ],
        [
         "75%",
         "-808727.25",
         "-816803.0",
         "83.0"
        ],
        [
         "max",
         "-106269.0",
         "-107537.0",
         "364.0"
        ]
       ],
       "shape": {
        "columns": 3,
        "rows": 8
       }
      },
      "text/html": [
       "<div>\n",
       "<style scoped>\n",
       "    .dataframe tbody tr th:only-of-type {\n",
       "        vertical-align: middle;\n",
       "    }\n",
       "\n",
       "    .dataframe tbody tr th {\n",
       "        vertical-align: top;\n",
       "    }\n",
       "\n",
       "    .dataframe thead th {\n",
       "        text-align: right;\n",
       "    }\n",
       "</style>\n",
       "<table border=\"1\" class=\"dataframe\">\n",
       "  <thead>\n",
       "    <tr style=\"text-align: right;\">\n",
       "      <th></th>\n",
       "      <th>E0_total</th>\n",
       "      <th>E0_TS0</th>\n",
       "      <th>delta_E0</th>\n",
       "    </tr>\n",
       "  </thead>\n",
       "  <tbody>\n",
       "    <tr>\n",
       "      <th>count</th>\n",
       "      <td>2.146000e+03</td>\n",
       "      <td>2.037000e+03</td>\n",
       "      <td>2037.000000</td>\n",
       "    </tr>\n",
       "    <tr>\n",
       "      <th>mean</th>\n",
       "      <td>-1.237917e+06</td>\n",
       "      <td>-1.259492e+06</td>\n",
       "      <td>63.623117</td>\n",
       "    </tr>\n",
       "    <tr>\n",
       "      <th>std</th>\n",
       "      <td>8.639917e+05</td>\n",
       "      <td>8.767670e+05</td>\n",
       "      <td>39.947772</td>\n",
       "    </tr>\n",
       "    <tr>\n",
       "      <th>min</th>\n",
       "      <td>-2.160071e+07</td>\n",
       "      <td>-2.160060e+07</td>\n",
       "      <td>-82.000000</td>\n",
       "    </tr>\n",
       "    <tr>\n",
       "      <th>25%</th>\n",
       "      <td>-1.565730e+06</td>\n",
       "      <td>-1.615020e+06</td>\n",
       "      <td>39.000000</td>\n",
       "    </tr>\n",
       "    <tr>\n",
       "      <th>50%</th>\n",
       "      <td>-1.096050e+06</td>\n",
       "      <td>-1.113430e+06</td>\n",
       "      <td>61.000000</td>\n",
       "    </tr>\n",
       "    <tr>\n",
       "      <th>75%</th>\n",
       "      <td>-8.087272e+05</td>\n",
       "      <td>-8.168030e+05</td>\n",
       "      <td>83.000000</td>\n",
       "    </tr>\n",
       "    <tr>\n",
       "      <th>max</th>\n",
       "      <td>-1.062690e+05</td>\n",
       "      <td>-1.075370e+05</td>\n",
       "      <td>364.000000</td>\n",
       "    </tr>\n",
       "  </tbody>\n",
       "</table>\n",
       "</div>"
      ],
      "text/plain": [
       "           E0_total        E0_TS0     delta_E0\n",
       "count  2.146000e+03  2.037000e+03  2037.000000\n",
       "mean  -1.237917e+06 -1.259492e+06    63.623117\n",
       "std    8.639917e+05  8.767670e+05    39.947772\n",
       "min   -2.160071e+07 -2.160060e+07   -82.000000\n",
       "25%   -1.565730e+06 -1.615020e+06    39.000000\n",
       "50%   -1.096050e+06 -1.113430e+06    61.000000\n",
       "75%   -8.087272e+05 -8.168030e+05    83.000000\n",
       "max   -1.062690e+05 -1.075370e+05   364.000000"
      ]
     },
     "execution_count": 90,
     "metadata": {},
     "output_type": "execute_result"
    }
   ],
   "source": [
    "target_data_pd = pd.read_csv(target_data)\n",
    "target_data_pd[target_data_pd['direction'] == 'reverse'].describe()\n"
   ]
  },
  {
   "cell_type": "code",
   "execution_count": 91,
   "id": "f14180a0",
   "metadata": {},
   "outputs": [
    {
     "name": "stdout",
     "output_type": "stream",
     "text": [
      "Using reverse mol types...\n",
      "['r2h', 'r1h']\n",
      "Reaction ID kfir_rxn_13503 not found in target data. Skipping this SDF file.\n",
      "Skipping rmg_rxn_501 due to NaN in targets: [nan]\n",
      "Skipping rmg_rxn_55 due to NaN in targets: [nan]\n",
      "Skipping rmg_rxn_504 due to NaN in targets: [nan]\n",
      "Skipping rmg_rxn_151 due to NaN in targets: [nan]\n",
      "Skipping rmg_rxn_28 due to NaN in targets: [nan]\n",
      "Skipping rmg_rxn_506 due to NaN in targets: [nan]\n",
      "Skipping rmg_rxn_396 due to NaN in targets: [nan]\n",
      "Skipping rmg_rxn_642 due to NaN in targets: [nan]\n",
      "Skipping rmg_rxn_1496 due to NaN in targets: [nan]\n",
      "Skipping rmg_rxn_507 due to NaN in targets: [nan]\n",
      "Skipping rmg_rxn_15591 due to NaN in targets: [nan]\n",
      "Skipping rmg_rxn_511 due to NaN in targets: [nan]\n",
      "Skipping rmg_rxn_499 due to NaN in targets: [nan]\n",
      "Skipping rmg_rxn_383 due to NaN in targets: [nan]\n",
      "Skipping rmg_rxn_227 due to NaN in targets: [nan]\n",
      "Skipping rmg_rxn_1532 due to NaN in targets: [nan]\n",
      "Reaction ID kfir_rxn_13897 not found in target data. Skipping this SDF file.\n",
      "Skipping rmg_rxn_15371 due to NaN in targets: [nan]\n",
      "Skipping rmg_rxn_53 due to NaN in targets: [nan]\n",
      "Skipping rmg_rxn_16791 due to NaN in targets: [nan]\n",
      "Reaction ID kfir_rxn_13108 not found in target data. Skipping this SDF file.\n",
      "Reaction ID kfir_rxn_13712 not found in target data. Skipping this SDF file.\n",
      "Skipping rmg_rxn_1130 due to NaN in targets: [nan]\n",
      "Skipping rmg_rxn_21 due to NaN in targets: [nan]\n",
      "Skipping rmg_rxn_15612 due to NaN in targets: [nan]\n",
      "Skipping rmg_rxn_379 due to NaN in targets: [nan]\n",
      "Reaction ID kfir_rxn_11197 not found in target data. Skipping this SDF file.\n",
      "Skipping rmg_rxn_14 due to NaN in targets: [nan]\n",
      "Skipping rmg_rxn_15 due to NaN in targets: [nan]\n",
      "Skipping rmg_rxn_376 due to NaN in targets: [nan]\n",
      "Reaction ID kfir_rxn_10218 not found in target data. Skipping this SDF file.\n",
      "Skipping rmg_rxn_15397 due to NaN in targets: [nan]\n",
      "Skipping rxn_1222 due to NaN in targets: [nan]\n",
      "Skipping rmg_rxn_505 due to NaN in targets: [nan]\n",
      "Skipping rmg_rxn_390 due to NaN in targets: [nan]\n",
      "Reaction ID kfir_rxn_9679 not found in target data. Skipping this SDF file.\n",
      "Skipping rmg_rxn_248 due to NaN in targets: [nan]\n",
      "Skipping rmg_rxn_498 due to NaN in targets: [nan]\n",
      "Reaction ID kfir_rxn_9205 not found in target data. Skipping this SDF file.\n",
      "Skipping rmg_rxn_388 due to NaN in targets: [nan]\n",
      "Skipping rmg_rxn_169 due to NaN in targets: [nan]\n",
      "Skipping rmg_rxn_652 due to NaN in targets: [nan]\n",
      "Skipping rmg_rxn_188 due to NaN in targets: [nan]\n",
      "Skipping rmg_rxn_1337 due to NaN in targets: [nan]\n",
      "Skipping rmg_rxn_377 due to NaN in targets: [nan]\n",
      "Skipping rmg_rxn_760 due to NaN in targets: [nan]\n",
      "Skipping rmg_rxn_293 due to NaN in targets: [nan]\n",
      "Reaction ID kfir_rxn_8057 not found in target data. Skipping this SDF file.\n",
      "Reaction ID kfir_rxn_8536 not found in target data. Skipping this SDF file.\n",
      "Skipping rmg_rxn_16491 due to NaN in targets: [nan]\n",
      "Reaction ID kfir_rxn_679 not found in target data. Skipping this SDF file.\n",
      "Reaction ID kfir_rxn_7125 not found in target data. Skipping this SDF file.\n",
      "Skipping rmg_rxn_15418 due to NaN in targets: [nan]\n",
      "Skipping rmg_rxn_16513 due to NaN in targets: [nan]\n",
      "Skipping rxn_133 due to NaN in targets: [nan]\n",
      "Reaction ID kfir_rxn_5989 not found in target data. Skipping this SDF file.\n",
      "Skipping rxn_230 due to NaN in targets: [nan]\n",
      "Skipping rmg_rxn_500 due to NaN in targets: [nan]\n",
      "Skipping rxn_233 due to NaN in targets: [nan]\n",
      "Skipping rmg_rxn_364 due to NaN in targets: [nan]\n",
      "Reaction ID kfir_rxn_5172 not found in target data. Skipping this SDF file.\n",
      "Skipping rxn_42 due to NaN in targets: [nan]\n",
      "Skipping rmg_rxn_387 due to NaN in targets: [nan]\n",
      "Reaction ID kfir_rxn_8008 not found in target data. Skipping this SDF file.\n",
      "Skipping rmg_rxn_15565 due to NaN in targets: [nan]\n",
      "Skipping rmg_rxn_509 due to NaN in targets: [nan]\n",
      "Reaction ID kfir_rxn_5389 not found in target data. Skipping this SDF file.\n",
      "Skipping rxn_92 due to NaN in targets: [nan]\n",
      "Reaction ID kfir_rxn_9248 not found in target data. Skipping this SDF file.\n",
      "Reaction ID kfir_rxn_11797 not found in target data. Skipping this SDF file.\n",
      "Reaction ID kfir_rxn_1315 not found in target data. Skipping this SDF file.\n",
      "Skipping rmg_rxn_513 due to NaN in targets: [nan]\n",
      "Skipping rmg_rxn_89 due to NaN in targets: [nan]\n",
      "Skipping rmg_rxn_381 due to NaN in targets: [nan]\n",
      "Skipping rmg_rxn_76 due to NaN in targets: [nan]\n",
      "Reaction ID kfir_rxn_13651 not found in target data. Skipping this SDF file.\n",
      "Reaction ID rmg_rxn_508 not found in target data. Skipping this SDF file.\n",
      "Skipping rmg_rxn_384 due to NaN in targets: [nan]\n",
      "Reaction ID kfir_rxn_2 not found in target data. Skipping this SDF file.\n",
      "Reaction ID kfir_rxn_11915 not found in target data. Skipping this SDF file.\n",
      "Skipping rmg_rxn_16522 due to NaN in targets: [nan]\n",
      "Skipping rmg_rxn_6 due to NaN in targets: [nan]\n",
      "Skipping rmg_rxn_207 due to NaN in targets: [nan]\n",
      "Reaction ID kfir_rxn_7531 not found in target data. Skipping this SDF file.\n",
      "Reaction ID kfir_rxn_9652 not found in target data. Skipping this SDF file.\n",
      "Skipping rxn_139 due to NaN in targets: [nan]\n",
      "Skipping rmg_rxn_648 due to NaN in targets: [nan]\n",
      "Skipping rmg_rxn_392 due to NaN in targets: [nan]\n",
      "Reaction ID kfir_rxn_4836 not found in target data. Skipping this SDF file.\n",
      "Skipping rmg_rxn_395 due to NaN in targets: [nan]\n",
      "Reaction ID kfir_rxn_10391 not found in target data. Skipping this SDF file.\n",
      "Skipping rmg_rxn_370 due to NaN in targets: [nan]\n",
      "Skipping rmg_rxn_678 due to NaN in targets: [nan]\n",
      "Skipping rmg_rxn_550 due to NaN in targets: [nan]\n",
      "Reaction ID rmg_rxn_391 not found in target data. Skipping this SDF file.\n",
      "Skipping rmg_rxn_3 due to NaN in targets: [nan]\n",
      "Skipping rmg_rxn_374 due to NaN in targets: [nan]\n",
      "Skipping rmg_rxn_4 due to NaN in targets: [nan]\n",
      "Skipping rmg_rxn_382 due to NaN in targets: [nan]\n",
      "Skipping rmg_rxn_1454 due to NaN in targets: [nan]\n",
      "Skipping rxn_225 due to NaN in targets: [nan]\n",
      "Skipping rmg_rxn_688 due to NaN in targets: [nan]\n",
      "Reaction ID kfir_rxn_12959 not found in target data. Skipping this SDF file.\n",
      "Skipping rmg_rxn_270 due to NaN in targets: [nan]\n",
      "Skipping rxn_52 due to NaN in targets: [nan]\n",
      "Skipping rmg_rxn_36 due to NaN in targets: [nan]\n",
      "Reaction ID kfir_rxn_9885 not found in target data. Skipping this SDF file.\n",
      "Reaction ID kfir_rxn_7559 not found in target data. Skipping this SDF file.\n",
      "Reaction ID kfir_rxn_5161 not found in target data. Skipping this SDF file.\n",
      "Skipping rmg_rxn_394 due to NaN in targets: [nan]\n",
      "Skipping rmg_rxn_512 due to NaN in targets: [nan]\n",
      "Skipping rmg_rxn_371 due to NaN in targets: [nan]\n",
      "Reaction ID kfir_rxn_4303 not found in target data. Skipping this SDF file.\n",
      "Reaction ID kfir_rxn_9409 not found in target data. Skipping this SDF file.\n",
      "Reaction ID kfir_rxn_11663 not found in target data. Skipping this SDF file.\n"
     ]
    }
   ],
   "source": [
    "feat_data = Featuriser(os.path.expanduser(\"~/code/chemprop_phd_customised/habnet/data/processed/sdf_data\"), filter_rules={'direction': 'reverse'},\n",
    "                       path = target_data, set_col_index=False, target_col=['delta_E0'], reverse_mol_types=True,\n",
    "                       include_extra_features = False)"
   ]
  },
  {
   "cell_type": "code",
   "execution_count": 92,
   "id": "53cc9b4e",
   "metadata": {},
   "outputs": [
    {
     "data": {
      "text/plain": [
       "[MoleculeDatapoint(mol=<rdkit.Chem.rdchem.Mol object at 0x7198fd0592a0>, y=[11.0], weight=1.0, gt_mask=None, lt_mask=None, x_d=None, x_phase=None, name='rmg_rxn_86_r2h', V_f=None, E_f=None, V_d=None),\n",
       " MoleculeDatapoint(mol=<rdkit.Chem.rdchem.Mol object at 0x7198fd05b0d0>, y=[63.15999999997439], weight=1.0, gt_mask=None, lt_mask=None, x_d=None, x_phase=None, name='rxn_191_r2h', V_f=None, E_f=None, V_d=None),\n",
       " MoleculeDatapoint(mol=<rdkit.Chem.rdchem.Mol object at 0x7198fd05bb50>, y=[62.0], weight=1.0, gt_mask=None, lt_mask=None, x_d=None, x_phase=None, name='rxn_618_r2h', V_f=None, E_f=None, V_d=None),\n",
       " MoleculeDatapoint(mol=<rdkit.Chem.rdchem.Mol object at 0x7198fd059690>, y=[83.0], weight=1.0, gt_mask=None, lt_mask=None, x_d=None, x_phase=None, name='rxn_1833_r2h', V_f=None, E_f=None, V_d=None),\n",
       " MoleculeDatapoint(mol=<rdkit.Chem.rdchem.Mol object at 0x7198fd0589e0>, y=[45.0], weight=1.0, gt_mask=None, lt_mask=None, x_d=None, x_phase=None, name='rmg_rxn_182_r2h', V_f=None, E_f=None, V_d=None),\n",
       " MoleculeDatapoint(mol=<rdkit.Chem.rdchem.Mol object at 0x7198fd05a650>, y=[37.0], weight=1.0, gt_mask=None, lt_mask=None, x_d=None, x_phase=None, name='rxn_1240_r2h', V_f=None, E_f=None, V_d=None),\n",
       " MoleculeDatapoint(mol=<rdkit.Chem.rdchem.Mol object at 0x7198fd05ab90>, y=[172.0], weight=1.0, gt_mask=None, lt_mask=None, x_d=None, x_phase=None, name='rmg_rxn_157_r2h', V_f=None, E_f=None, V_d=None),\n",
       " MoleculeDatapoint(mol=<rdkit.Chem.rdchem.Mol object at 0x7198fd05be60>, y=[5.0], weight=1.0, gt_mask=None, lt_mask=None, x_d=None, x_phase=None, name='rxn_563_r2h', V_f=None, E_f=None, V_d=None),\n",
       " MoleculeDatapoint(mol=<rdkit.Chem.rdchem.Mol object at 0x7198fd05b7d0>, y=[62.0], weight=1.0, gt_mask=None, lt_mask=None, x_d=None, x_phase=None, name='rmg_rxn_521_r2h', V_f=None, E_f=None, V_d=None),\n",
       " MoleculeDatapoint(mol=<rdkit.Chem.rdchem.Mol object at 0x7198fd05a9d0>, y=[-21.92999999999301], weight=1.0, gt_mask=None, lt_mask=None, x_d=None, x_phase=None, name='rmg_rxn_16785_r2h', V_f=None, E_f=None, V_d=None),\n",
       " MoleculeDatapoint(mol=<rdkit.Chem.rdchem.Mol object at 0x7198fd059bd0>, y=[73.0], weight=1.0, gt_mask=None, lt_mask=None, x_d=None, x_phase=None, name='rxn_1423_r2h', V_f=None, E_f=None, V_d=None),\n",
       " MoleculeDatapoint(mol=<rdkit.Chem.rdchem.Mol object at 0x7198fd05bed0>, y=[3.0], weight=1.0, gt_mask=None, lt_mask=None, x_d=None, x_phase=None, name='rxn_1605_r2h', V_f=None, E_f=None, V_d=None),\n",
       " MoleculeDatapoint(mol=<rdkit.Chem.rdchem.Mol object at 0x7198fd0582e0>, y=[32.0], weight=1.0, gt_mask=None, lt_mask=None, x_d=None, x_phase=None, name='rxn_1794_r2h', V_f=None, E_f=None, V_d=None),\n",
       " MoleculeDatapoint(mol=<rdkit.Chem.rdchem.Mol object at 0x7198fd05b450>, y=[44.0], weight=1.0, gt_mask=None, lt_mask=None, x_d=None, x_phase=None, name='rxn_1827_r2h', V_f=None, E_f=None, V_d=None),\n",
       " MoleculeDatapoint(mol=<rdkit.Chem.rdchem.Mol object at 0x7198fd034040>, y=[53.0], weight=1.0, gt_mask=None, lt_mask=None, x_d=None, x_phase=None, name='rmg_rxn_320_r2h', V_f=None, E_f=None, V_d=None),\n",
       " MoleculeDatapoint(mol=<rdkit.Chem.rdchem.Mol object at 0x7198fd036880>, y=[135.0], weight=1.0, gt_mask=None, lt_mask=None, x_d=None, x_phase=None, name='rxn_1362_r2h', V_f=None, E_f=None, V_d=None),\n",
       " MoleculeDatapoint(mol=<rdkit.Chem.rdchem.Mol object at 0x7198fd034740>, y=[150.1600000000326], weight=1.0, gt_mask=None, lt_mask=None, x_d=None, x_phase=None, name='rxn_1169_r2h', V_f=None, E_f=None, V_d=None),\n",
       " MoleculeDatapoint(mol=<rdkit.Chem.rdchem.Mol object at 0x7198fd035d90>, y=[67.0], weight=1.0, gt_mask=None, lt_mask=None, x_d=None, x_phase=None, name='rxn_422_r2h', V_f=None, E_f=None, V_d=None),\n",
       " MoleculeDatapoint(mol=<rdkit.Chem.rdchem.Mol object at 0x7198fd034c10>, y=[76.0], weight=1.0, gt_mask=None, lt_mask=None, x_d=None, x_phase=None, name='rmg_rxn_15515_r2h', V_f=None, E_f=None, V_d=None),\n",
       " MoleculeDatapoint(mol=<rdkit.Chem.rdchem.Mol object at 0x7198fd036490>, y=[91.0], weight=1.0, gt_mask=None, lt_mask=None, x_d=None, x_phase=None, name='rxn_3226_r2h', V_f=None, E_f=None, V_d=None),\n",
       " MoleculeDatapoint(mol=<rdkit.Chem.rdchem.Mol object at 0x7198fd036b90>, y=[6.0], weight=1.0, gt_mask=None, lt_mask=None, x_d=None, x_phase=None, name='rxn_144_r2h', V_f=None, E_f=None, V_d=None),\n",
       " MoleculeDatapoint(mol=<rdkit.Chem.rdchem.Mol object at 0x7198fd034900>, y=[33.0], weight=1.0, gt_mask=None, lt_mask=None, x_d=None, x_phase=None, name='rxn_37_r2h', V_f=None, E_f=None, V_d=None),\n",
       " MoleculeDatapoint(mol=<rdkit.Chem.rdchem.Mol object at 0x7198fd0370d0>, y=[-2.0], weight=1.0, gt_mask=None, lt_mask=None, x_d=None, x_phase=None, name='rxn_51_r2h', V_f=None, E_f=None, V_d=None),\n",
       " MoleculeDatapoint(mol=<rdkit.Chem.rdchem.Mol object at 0x7198fd037ed0>, y=[29.0], weight=1.0, gt_mask=None, lt_mask=None, x_d=None, x_phase=None, name='rxn_629_r2h', V_f=None, E_f=None, V_d=None),\n",
       " MoleculeDatapoint(mol=<rdkit.Chem.rdchem.Mol object at 0x7198fd034c80>, y=[30.0], weight=1.0, gt_mask=None, lt_mask=None, x_d=None, x_phase=None, name='rxn_1897_r2h', V_f=None, E_f=None, V_d=None),\n",
       " MoleculeDatapoint(mol=<rdkit.Chem.rdchem.Mol object at 0x7198fd034580>, y=[44.0], weight=1.0, gt_mask=None, lt_mask=None, x_d=None, x_phase=None, name='rxn_1023_r2h', V_f=None, E_f=None, V_d=None),\n",
       " MoleculeDatapoint(mol=<rdkit.Chem.rdchem.Mol object at 0x7198fd035310>, y=[52.0], weight=1.0, gt_mask=None, lt_mask=None, x_d=None, x_phase=None, name='rmg_rxn_214_r2h', V_f=None, E_f=None, V_d=None),\n",
       " MoleculeDatapoint(mol=<rdkit.Chem.rdchem.Mol object at 0x7198fd036a40>, y=[57.0], weight=1.0, gt_mask=None, lt_mask=None, x_d=None, x_phase=None, name='rmg_rxn_206_r2h', V_f=None, E_f=None, V_d=None),\n",
       " MoleculeDatapoint(mol=<rdkit.Chem.rdchem.Mol object at 0x7198fd0374c0>, y=[70.0], weight=1.0, gt_mask=None, lt_mask=None, x_d=None, x_phase=None, name='rxn_1849_r2h', V_f=None, E_f=None, V_d=None),\n",
       " MoleculeDatapoint(mol=<rdkit.Chem.rdchem.Mol object at 0x7198fd036340>, y=[63.0], weight=1.0, gt_mask=None, lt_mask=None, x_d=None, x_phase=None, name='rxn_1438_r2h', V_f=None, E_f=None, V_d=None),\n",
       " MoleculeDatapoint(mol=<rdkit.Chem.rdchem.Mol object at 0x7198fd035bd0>, y=[69.0], weight=1.0, gt_mask=None, lt_mask=None, x_d=None, x_phase=None, name='rxn_1287_r2h', V_f=None, E_f=None, V_d=None),\n",
       " MoleculeDatapoint(mol=<rdkit.Chem.rdchem.Mol object at 0x7198fd036f80>, y=[161.0], weight=1.0, gt_mask=None, lt_mask=None, x_d=None, x_phase=None, name='rxn_1170_r2h', V_f=None, E_f=None, V_d=None),\n",
       " MoleculeDatapoint(mol=<rdkit.Chem.rdchem.Mol object at 0x7198fe5843c0>, y=[96.0], weight=1.0, gt_mask=None, lt_mask=None, x_d=None, x_phase=None, name='rxn_1496_r2h', V_f=None, E_f=None, V_d=None),\n",
       " MoleculeDatapoint(mol=<rdkit.Chem.rdchem.Mol object at 0x7198fe587610>, y=[16.0], weight=1.0, gt_mask=None, lt_mask=None, x_d=None, x_phase=None, name='rxn_921_r2h', V_f=None, E_f=None, V_d=None),\n",
       " MoleculeDatapoint(mol=<rdkit.Chem.rdchem.Mol object at 0x7198fe585d90>, y=[72.07000000000698], weight=1.0, gt_mask=None, lt_mask=None, x_d=None, x_phase=None, name='rmg_rxn_16786_r2h', V_f=None, E_f=None, V_d=None),\n",
       " MoleculeDatapoint(mol=<rdkit.Chem.rdchem.Mol object at 0x7198fe586810>, y=[68.0], weight=1.0, gt_mask=None, lt_mask=None, x_d=None, x_phase=None, name='rmg_rxn_15423_r2h', V_f=None, E_f=None, V_d=None),\n",
       " MoleculeDatapoint(mol=<rdkit.Chem.rdchem.Mol object at 0x7198fe584740>, y=[136.0], weight=1.0, gt_mask=None, lt_mask=None, x_d=None, x_phase=None, name='rmg_rxn_16609_r2h', V_f=None, E_f=None, V_d=None),\n",
       " MoleculeDatapoint(mol=<rdkit.Chem.rdchem.Mol object at 0x7198fe5854d0>, y=[49.0], weight=1.0, gt_mask=None, lt_mask=None, x_d=None, x_phase=None, name='rxn_1657_r2h', V_f=None, E_f=None, V_d=None),\n",
       " MoleculeDatapoint(mol=<rdkit.Chem.rdchem.Mol object at 0x7198fe586110>, y=[58.0], weight=1.0, gt_mask=None, lt_mask=None, x_d=None, x_phase=None, name='rmg_rxn_15619_r2h', V_f=None, E_f=None, V_d=None),\n",
       " MoleculeDatapoint(mol=<rdkit.Chem.rdchem.Mol object at 0x7198fe584900>, y=[91.0], weight=1.0, gt_mask=None, lt_mask=None, x_d=None, x_phase=None, name='rxn_1040_r2h', V_f=None, E_f=None, V_d=None),\n",
       " MoleculeDatapoint(mol=<rdkit.Chem.rdchem.Mol object at 0x7198fe587d10>, y=[96.1599999999744], weight=1.0, gt_mask=None, lt_mask=None, x_d=None, x_phase=None, name='rxn_1257_r2h', V_f=None, E_f=None, V_d=None),\n",
       " MoleculeDatapoint(mol=<rdkit.Chem.rdchem.Mol object at 0x7198fe587140>, y=[22.0], weight=1.0, gt_mask=None, lt_mask=None, x_d=None, x_phase=None, name='rmg_rxn_1155_r2h', V_f=None, E_f=None, V_d=None),\n",
       " MoleculeDatapoint(mol=<rdkit.Chem.rdchem.Mol object at 0x7198fe587bc0>, y=[48.0], weight=1.0, gt_mask=None, lt_mask=None, x_d=None, x_phase=None, name='rxn_1220_r2h', V_f=None, E_f=None, V_d=None),\n",
       " MoleculeDatapoint(mol=<rdkit.Chem.rdchem.Mol object at 0x7198fe585540>, y=[107.0], weight=1.0, gt_mask=None, lt_mask=None, x_d=None, x_phase=None, name='rxn_253_r2h', V_f=None, E_f=None, V_d=None),\n",
       " MoleculeDatapoint(mol=<rdkit.Chem.rdchem.Mol object at 0x7198fe586880>, y=[70.0], weight=1.0, gt_mask=None, lt_mask=None, x_d=None, x_phase=None, name='rmg_rxn_60_r2h', V_f=None, E_f=None, V_d=None),\n",
       " MoleculeDatapoint(mol=<rdkit.Chem.rdchem.Mol object at 0x7198fe5847b0>, y=[64.0], weight=1.0, gt_mask=None, lt_mask=None, x_d=None, x_phase=None, name='rxn_1027_r2h', V_f=None, E_f=None, V_d=None),\n",
       " MoleculeDatapoint(mol=<rdkit.Chem.rdchem.Mol object at 0x7198fe586f80>, y=[51.0], weight=1.0, gt_mask=None, lt_mask=None, x_d=None, x_phase=None, name='rmg_rxn_16633_r2h', V_f=None, E_f=None, V_d=None),\n",
       " MoleculeDatapoint(mol=<rdkit.Chem.rdchem.Mol object at 0x7198fe586500>, y=[44.0], weight=1.0, gt_mask=None, lt_mask=None, x_d=None, x_phase=None, name='rmg_rxn_16469_r2h', V_f=None, E_f=None, V_d=None),\n",
       " MoleculeDatapoint(mol=<rdkit.Chem.rdchem.Mol object at 0x7198fe584f20>, y=[73.0], weight=1.0, gt_mask=None, lt_mask=None, x_d=None, x_phase=None, name='rxn_1414_r2h', V_f=None, E_f=None, V_d=None),\n",
       " MoleculeDatapoint(mol=<rdkit.Chem.rdchem.Mol object at 0x7198fe587a00>, y=[21.0], weight=1.0, gt_mask=None, lt_mask=None, x_d=None, x_phase=None, name='rxn_776_r2h', V_f=None, E_f=None, V_d=None),\n",
       " MoleculeDatapoint(mol=<rdkit.Chem.rdchem.Mol object at 0x7198fd1012a0>, y=[64.0], weight=1.0, gt_mask=None, lt_mask=None, x_d=None, x_phase=None, name='rmg_rxn_15405_r2h', V_f=None, E_f=None, V_d=None),\n",
       " MoleculeDatapoint(mol=<rdkit.Chem.rdchem.Mol object at 0x7198fd102b20>, y=[24.0], weight=1.0, gt_mask=None, lt_mask=None, x_d=None, x_phase=None, name='rmg_rxn_1156_r2h', V_f=None, E_f=None, V_d=None),\n",
       " MoleculeDatapoint(mol=<rdkit.Chem.rdchem.Mol object at 0x7198fd100660>, y=[156.0], weight=1.0, gt_mask=None, lt_mask=None, x_d=None, x_phase=None, name='rmg_rxn_16527_r2h', V_f=None, E_f=None, V_d=None),\n",
       " MoleculeDatapoint(mol=<rdkit.Chem.rdchem.Mol object at 0x7198fd100820>, y=[15.0], weight=1.0, gt_mask=None, lt_mask=None, x_d=None, x_phase=None, name='rmg_rxn_1160_r2h', V_f=None, E_f=None, V_d=None),\n",
       " MoleculeDatapoint(mol=<rdkit.Chem.rdchem.Mol object at 0x7198fd1010e0>, y=[23.0], weight=1.0, gt_mask=None, lt_mask=None, x_d=None, x_phase=None, name='rxn_1586_r2h', V_f=None, E_f=None, V_d=None),\n",
       " MoleculeDatapoint(mol=<rdkit.Chem.rdchem.Mol object at 0x7198fd101b60>, y=[17.75], weight=1.0, gt_mask=None, lt_mask=None, x_d=None, x_phase=None, name='rxn_798_r2h', V_f=None, E_f=None, V_d=None),\n",
       " MoleculeDatapoint(mol=<rdkit.Chem.rdchem.Mol object at 0x7198fd102420>, y=[37.0], weight=1.0, gt_mask=None, lt_mask=None, x_d=None, x_phase=None, name='rxn_1880_r2h', V_f=None, E_f=None, V_d=None),\n",
       " MoleculeDatapoint(mol=<rdkit.Chem.rdchem.Mol object at 0x7198fd102ea0>, y=[104.0], weight=1.0, gt_mask=None, lt_mask=None, x_d=None, x_phase=None, name='rxn_1320_r2h', V_f=None, E_f=None, V_d=None),\n",
       " MoleculeDatapoint(mol=<rdkit.Chem.rdchem.Mol object at 0x7198fd103ae0>, y=[64.0], weight=1.0, gt_mask=None, lt_mask=None, x_d=None, x_phase=None, name='rxn_927_r2h', V_f=None, E_f=None, V_d=None),\n",
       " MoleculeDatapoint(mol=<rdkit.Chem.rdchem.Mol object at 0x7198fd100510>, y=[67.0], weight=1.0, gt_mask=None, lt_mask=None, x_d=None, x_phase=None, name='rmg_rxn_63_r2h', V_f=None, E_f=None, V_d=None),\n",
       " MoleculeDatapoint(mol=<rdkit.Chem.rdchem.Mol object at 0x7198fd103450>, y=[57.16000000000349], weight=1.0, gt_mask=None, lt_mask=None, x_d=None, x_phase=None, name='rxn_682_r2h', V_f=None, E_f=None, V_d=None),\n",
       " MoleculeDatapoint(mol=<rdkit.Chem.rdchem.Mol object at 0x7198fd101bd0>, y=[68.0], weight=1.0, gt_mask=None, lt_mask=None, x_d=None, x_phase=None, name='rxn_1369_r2h', V_f=None, E_f=None, V_d=None),\n",
       " MoleculeDatapoint(mol=<rdkit.Chem.rdchem.Mol object at 0x7198fd100a50>, y=[87.0], weight=1.0, gt_mask=None, lt_mask=None, x_d=None, x_phase=None, name='rmg_rxn_15701_r2h', V_f=None, E_f=None, V_d=None),\n",
       " MoleculeDatapoint(mol=<rdkit.Chem.rdchem.Mol object at 0x7198fd101310>, y=[123.0], weight=1.0, gt_mask=None, lt_mask=None, x_d=None, x_phase=None, name='rxn_1969_r2h', V_f=None, E_f=None, V_d=None),\n",
       " MoleculeDatapoint(mol=<rdkit.Chem.rdchem.Mol object at 0x7198fd101d90>, y=[118.0], weight=1.0, gt_mask=None, lt_mask=None, x_d=None, x_phase=None, name='rxn_660_r2h', V_f=None, E_f=None, V_d=None),\n",
       " MoleculeDatapoint(mol=<rdkit.Chem.rdchem.Mol object at 0x7198fd102650>, y=[102.0], weight=1.0, gt_mask=None, lt_mask=None, x_d=None, x_phase=None, name='rxn_1135_r2h', V_f=None, E_f=None, V_d=None),\n",
       " MoleculeDatapoint(mol=<rdkit.Chem.rdchem.Mol object at 0x7198fd1030d0>, y=[72.0], weight=1.0, gt_mask=None, lt_mask=None, x_d=None, x_phase=None, name='rmg_rxn_524_r2h', V_f=None, E_f=None, V_d=None),\n",
       " MoleculeDatapoint(mol=<rdkit.Chem.rdchem.Mol object at 0x7198fd103d10>, y=[102.0], weight=1.0, gt_mask=None, lt_mask=None, x_d=None, x_phase=None, name='rxn_1233_r2h', V_f=None, E_f=None, V_d=None),\n",
       " MoleculeDatapoint(mol=<rdkit.Chem.rdchem.Mol object at 0x7198fd10aff0>, y=[50.0], weight=1.0, gt_mask=None, lt_mask=None, x_d=None, x_phase=None, name='rxn_1843_r2h', V_f=None, E_f=None, V_d=None),\n",
       " MoleculeDatapoint(mol=<rdkit.Chem.rdchem.Mol object at 0x7198fd10a1f0>, y=[75.0], weight=1.0, gt_mask=None, lt_mask=None, x_d=None, x_phase=None, name='rmg_rxn_346_r2h', V_f=None, E_f=None, V_d=None),\n",
       " MoleculeDatapoint(mol=<rdkit.Chem.rdchem.Mol object at 0x7198fd1085f0>, y=[53.0], weight=1.0, gt_mask=None, lt_mask=None, x_d=None, x_phase=None, name='rmg_rxn_15618_r2h', V_f=None, E_f=None, V_d=None),\n",
       " MoleculeDatapoint(mol=<rdkit.Chem.rdchem.Mol object at 0x7198fd108cf0>, y=[29.0], weight=1.0, gt_mask=None, lt_mask=None, x_d=None, x_phase=None, name='rxn_1918_r2h', V_f=None, E_f=None, V_d=None),\n",
       " MoleculeDatapoint(mol=<rdkit.Chem.rdchem.Mol object at 0x7198fd1095b0>, y=[135.0], weight=1.0, gt_mask=None, lt_mask=None, x_d=None, x_phase=None, name='rmg_rxn_618_r2h', V_f=None, E_f=None, V_d=None),\n",
       " MoleculeDatapoint(mol=<rdkit.Chem.rdchem.Mol object at 0x7198fd109cb0>, y=[64.0], weight=1.0, gt_mask=None, lt_mask=None, x_d=None, x_phase=None, name='rxn_1036_r2h', V_f=None, E_f=None, V_d=None),\n",
       " MoleculeDatapoint(mol=<rdkit.Chem.rdchem.Mol object at 0x7198fd10a730>, y=[60.0], weight=1.0, gt_mask=None, lt_mask=None, x_d=None, x_phase=None, name='rxn_1649_r2h', V_f=None, E_f=None, V_d=None),\n",
       " MoleculeDatapoint(mol=<rdkit.Chem.rdchem.Mol object at 0x7198fd10b1b0>, y=[31.0], weight=1.0, gt_mask=None, lt_mask=None, x_d=None, x_phase=None, name='rxn_334_r2h', V_f=None, E_f=None, V_d=None),\n",
       " MoleculeDatapoint(mol=<rdkit.Chem.rdchem.Mol object at 0x7198fd10ba70>, y=[26.0], weight=1.0, gt_mask=None, lt_mask=None, x_d=None, x_phase=None, name='rxn_872_r2h', V_f=None, E_f=None, V_d=None),\n",
       " MoleculeDatapoint(mol=<rdkit.Chem.rdchem.Mol object at 0x7198fd10aea0>, y=[72.0], weight=1.0, gt_mask=None, lt_mask=None, x_d=None, x_phase=None, name='rmg_rxn_275_r2h', V_f=None, E_f=None, V_d=None),\n",
       " MoleculeDatapoint(mol=<rdkit.Chem.rdchem.Mol object at 0x7198fd1090e0>, y=[52.0], weight=1.0, gt_mask=None, lt_mask=None, x_d=None, x_phase=None, name='rxn_938_r2h', V_f=None, E_f=None, V_d=None),\n",
       " MoleculeDatapoint(mol=<rdkit.Chem.rdchem.Mol object at 0x7198fd108660>, y=[69.0], weight=1.0, gt_mask=None, lt_mask=None, x_d=None, x_phase=None, name='rxn_1005_r2h', V_f=None, E_f=None, V_d=None),\n",
       " MoleculeDatapoint(mol=<rdkit.Chem.rdchem.Mol object at 0x7198fd108d60>, y=[30.0], weight=1.0, gt_mask=None, lt_mask=None, x_d=None, x_phase=None, name='rmg_rxn_16613_r2h', V_f=None, E_f=None, V_d=None),\n",
       " MoleculeDatapoint(mol=<rdkit.Chem.rdchem.Mol object at 0x7198fd109620>, y=[42.0], weight=1.0, gt_mask=None, lt_mask=None, x_d=None, x_phase=None, name='rxn_1658_r2h', V_f=None, E_f=None, V_d=None),\n",
       " MoleculeDatapoint(mol=<rdkit.Chem.rdchem.Mol object at 0x7198fd109d20>, y=[31.0], weight=1.0, gt_mask=None, lt_mask=None, x_d=None, x_phase=None, name='rxn_1510_r2h', V_f=None, E_f=None, V_d=None),\n",
       " MoleculeDatapoint(mol=<rdkit.Chem.rdchem.Mol object at 0x7198fd10a7a0>, y=[24.0], weight=1.0, gt_mask=None, lt_mask=None, x_d=None, x_phase=None, name='rmg_rxn_1162_r2h', V_f=None, E_f=None, V_d=None),\n",
       " MoleculeDatapoint(mol=<rdkit.Chem.rdchem.Mol object at 0x7198fd10b060>, y=[39.0], weight=1.0, gt_mask=None, lt_mask=None, x_d=None, x_phase=None, name='rxn_1874_r2h', V_f=None, E_f=None, V_d=None),\n",
       " MoleculeDatapoint(mol=<rdkit.Chem.rdchem.Mol object at 0x7198fd10bae0>, y=[56.0], weight=1.0, gt_mask=None, lt_mask=None, x_d=None, x_phase=None, name='rmg_rxn_15599_r2h', V_f=None, E_f=None, V_d=None),\n",
       " MoleculeDatapoint(mol=<rdkit.Chem.rdchem.Mol object at 0x7198fd1103c0>, y=[60.0], weight=1.0, gt_mask=None, lt_mask=None, x_d=None, x_phase=None, name='rxn_1488_r2h', V_f=None, E_f=None, V_d=None),\n",
       " MoleculeDatapoint(mol=<rdkit.Chem.rdchem.Mol object at 0x7198fd110200>, y=[77.0], weight=1.0, gt_mask=None, lt_mask=None, x_d=None, x_phase=None, name='rmg_rxn_64_r2h', V_f=None, E_f=None, V_d=None),\n",
       " MoleculeDatapoint(mol=<rdkit.Chem.rdchem.Mol object at 0x7198fd110ac0>, y=[72.0], weight=1.0, gt_mask=None, lt_mask=None, x_d=None, x_phase=None, name='rxn_577_r2h', V_f=None, E_f=None, V_d=None),\n",
       " MoleculeDatapoint(mol=<rdkit.Chem.rdchem.Mol object at 0x7198fd1111c0>, y=[60.0], weight=1.0, gt_mask=None, lt_mask=None, x_d=None, x_phase=None, name='rmg_rxn_16548_r2h', V_f=None, E_f=None, V_d=None),\n",
       " MoleculeDatapoint(mol=<rdkit.Chem.rdchem.Mol object at 0x7198fd1118c0>, y=[67.0], weight=1.0, gt_mask=None, lt_mask=None, x_d=None, x_phase=None, name='rxn_97_r2h', V_f=None, E_f=None, V_d=None),\n",
       " MoleculeDatapoint(mol=<rdkit.Chem.rdchem.Mol object at 0x7198fd111fc0>, y=[44.0], weight=1.0, gt_mask=None, lt_mask=None, x_d=None, x_phase=None, name='rxn_32_r2h', V_f=None, E_f=None, V_d=None),\n",
       " MoleculeDatapoint(mol=<rdkit.Chem.rdchem.Mol object at 0x7198fd112a40>, y=[24.0], weight=1.0, gt_mask=None, lt_mask=None, x_d=None, x_phase=None, name='rxn_437_r2h', V_f=None, E_f=None, V_d=None),\n",
       " MoleculeDatapoint(mol=<rdkit.Chem.rdchem.Mol object at 0x7198fd113300>, y=[57.0], weight=1.0, gt_mask=None, lt_mask=None, x_d=None, x_phase=None, name='rxn_573_r2h', V_f=None, E_f=None, V_d=None),\n",
       " MoleculeDatapoint(mol=<rdkit.Chem.rdchem.Mol object at 0x7198fd113f40>, y=[67.0], weight=1.0, gt_mask=None, lt_mask=None, x_d=None, x_phase=None, name='rxn_1908_r2h', V_f=None, E_f=None, V_d=None),\n",
       " MoleculeDatapoint(mol=<rdkit.Chem.rdchem.Mol object at 0x7198fd1123b0>, y=[105.0], weight=1.0, gt_mask=None, lt_mask=None, x_d=None, x_phase=None, name='rmg_rxn_174_r2h', V_f=None, E_f=None, V_d=None),\n",
       " MoleculeDatapoint(mol=<rdkit.Chem.rdchem.Mol object at 0x7198fd110430>, y=[68.0], weight=1.0, gt_mask=None, lt_mask=None, x_d=None, x_phase=None, name='rmg_rxn_15490_r2h', V_f=None, E_f=None, V_d=None),\n",
       " MoleculeDatapoint(mol=<rdkit.Chem.rdchem.Mol object at 0x7198fd110cf0>, y=[38.0], weight=1.0, gt_mask=None, lt_mask=None, x_d=None, x_phase=None, name='rxn_711_r2h', V_f=None, E_f=None, V_d=None),\n",
       " MoleculeDatapoint(mol=<rdkit.Chem.rdchem.Mol object at 0x7198fd1113f0>, y=[75.0], weight=1.0, gt_mask=None, lt_mask=None, x_d=None, x_phase=None, name='rxn_1837_r2h', V_f=None, E_f=None, V_d=None),\n",
       " MoleculeDatapoint(mol=<rdkit.Chem.rdchem.Mol object at 0x7198fd111af0>, y=[7.0], weight=1.0, gt_mask=None, lt_mask=None, x_d=None, x_phase=None, name='rxn_228_r2h', V_f=None, E_f=None, V_d=None),\n",
       " MoleculeDatapoint(mol=<rdkit.Chem.rdchem.Mol object at 0x7198fd1121f0>, y=[73.0], weight=1.0, gt_mask=None, lt_mask=None, x_d=None, x_phase=None, name='rmg_rxn_663_r2h', V_f=None, E_f=None, V_d=None),\n",
       " MoleculeDatapoint(mol=<rdkit.Chem.rdchem.Mol object at 0x7198fd112ab0>, y=[77.0], weight=1.0, gt_mask=None, lt_mask=None, x_d=None, x_phase=None, name='rmg_rxn_16700_r2h', V_f=None, E_f=None, V_d=None),\n",
       " MoleculeDatapoint(mol=<rdkit.Chem.rdchem.Mol object at 0x7198fd1131b0>, y=[65.0], weight=1.0, gt_mask=None, lt_mask=None, x_d=None, x_phase=None, name='rmg_rxn_258_r2h', V_f=None, E_f=None, V_d=None),\n",
       " MoleculeDatapoint(mol=<rdkit.Chem.rdchem.Mol object at 0x7198fd113a70>, y=[162.0], weight=1.0, gt_mask=None, lt_mask=None, x_d=None, x_phase=None, name='rmg_rxn_634_r2h', V_f=None, E_f=None, V_d=None),\n",
       " MoleculeDatapoint(mol=<rdkit.Chem.rdchem.Mol object at 0x7198fd11ab90>, y=[47.0], weight=1.0, gt_mask=None, lt_mask=None, x_d=None, x_phase=None, name='rxn_1239_r2h', V_f=None, E_f=None, V_d=None),\n",
       " MoleculeDatapoint(mol=<rdkit.Chem.rdchem.Mol object at 0x7198fd118c10>, y=[56.0], weight=1.0, gt_mask=None, lt_mask=None, x_d=None, x_phase=None, name='rmg_rxn_15672_r2h', V_f=None, E_f=None, V_d=None),\n",
       " MoleculeDatapoint(mol=<rdkit.Chem.rdchem.Mol object at 0x7198fd118a50>, y=[105.1600000000326], weight=1.0, gt_mask=None, lt_mask=None, x_d=None, x_phase=None, name='rxn_30_r2h', V_f=None, E_f=None, V_d=None),\n",
       " MoleculeDatapoint(mol=<rdkit.Chem.rdchem.Mol object at 0x7198fd1186d0>, y=[45.0], weight=1.0, gt_mask=None, lt_mask=None, x_d=None, x_phase=None, name='rmg_rxn_176_r2h', V_f=None, E_f=None, V_d=None),\n",
       " MoleculeDatapoint(mol=<rdkit.Chem.rdchem.Mol object at 0x7198fd118f90>, y=[64.0], weight=1.0, gt_mask=None, lt_mask=None, x_d=None, x_phase=None, name='rxn_1957_r2h', V_f=None, E_f=None, V_d=None),\n",
       " MoleculeDatapoint(mol=<rdkit.Chem.rdchem.Mol object at 0x7198fd119a10>, y=[57.0], weight=1.0, gt_mask=None, lt_mask=None, x_d=None, x_phase=None, name='rxn_1219_r2h', V_f=None, E_f=None, V_d=None),\n",
       " MoleculeDatapoint(mol=<rdkit.Chem.rdchem.Mol object at 0x7198fd11a2d0>, y=[113.0], weight=1.0, gt_mask=None, lt_mask=None, x_d=None, x_phase=None, name='rxn_704_r2h', V_f=None, E_f=None, V_d=None),\n",
       " MoleculeDatapoint(mol=<rdkit.Chem.rdchem.Mol object at 0x7198fd11ad50>, y=[52.0], weight=1.0, gt_mask=None, lt_mask=None, x_d=None, x_phase=None, name='rxn_433_r2h', V_f=None, E_f=None, V_d=None),\n",
       " MoleculeDatapoint(mol=<rdkit.Chem.rdchem.Mol object at 0x7198fd11b7d0>, y=[56.0], weight=1.0, gt_mask=None, lt_mask=None, x_d=None, x_phase=None, name='rmg_rxn_42_r2h', V_f=None, E_f=None, V_d=None),\n",
       " MoleculeDatapoint(mol=<rdkit.Chem.rdchem.Mol object at 0x7198fd11a180>, y=[8.0], weight=1.0, gt_mask=None, lt_mask=None, x_d=None, x_phase=None, name='rxn_197_r2h', V_f=None, E_f=None, V_d=None),\n",
       " MoleculeDatapoint(mol=<rdkit.Chem.rdchem.Mol object at 0x7198fd119700>, y=[68.0], weight=1.0, gt_mask=None, lt_mask=None, x_d=None, x_phase=None, name='rxn_1371_r2h', V_f=None, E_f=None, V_d=None),\n",
       " MoleculeDatapoint(mol=<rdkit.Chem.rdchem.Mol object at 0x7198fd11ac00>, y=[46.0], weight=1.0, gt_mask=None, lt_mask=None, x_d=None, x_phase=None, name='rxn_347_r2h', V_f=None, E_f=None, V_d=None),\n",
       " MoleculeDatapoint(mol=<rdkit.Chem.rdchem.Mol object at 0x7198fd118580>, y=[3.0], weight=1.0, gt_mask=None, lt_mask=None, x_d=None, x_phase=None, name='rxn_1603_r2h', V_f=None, E_f=None, V_d=None),\n",
       " MoleculeDatapoint(mol=<rdkit.Chem.rdchem.Mol object at 0x7198fd119380>, y=[98.0], weight=1.0, gt_mask=None, lt_mask=None, x_d=None, x_phase=None, name='rxn_1067_r2h', V_f=None, E_f=None, V_d=None),\n",
       " MoleculeDatapoint(mol=<rdkit.Chem.rdchem.Mol object at 0x7198fd119c40>, y=[44.0], weight=1.0, gt_mask=None, lt_mask=None, x_d=None, x_phase=None, name='rmg_rxn_226_r2h', V_f=None, E_f=None, V_d=None),\n",
       " MoleculeDatapoint(mol=<rdkit.Chem.rdchem.Mol object at 0x7198fd11a500>, y=[61.0], weight=1.0, gt_mask=None, lt_mask=None, x_d=None, x_phase=None, name='rxn_91_r2h', V_f=None, E_f=None, V_d=None),\n",
       " MoleculeDatapoint(mol=<rdkit.Chem.rdchem.Mol object at 0x7198fd11af80>, y=[13.0], weight=1.0, gt_mask=None, lt_mask=None, x_d=None, x_phase=None, name='rxn_590_r2h', V_f=None, E_f=None, V_d=None),\n",
       " MoleculeDatapoint(mol=<rdkit.Chem.rdchem.Mol object at 0x7198fd11ba00>, y=[72.0], weight=1.0, gt_mask=None, lt_mask=None, x_d=None, x_phase=None, name='rxn_928_r2h', V_f=None, E_f=None, V_d=None),\n",
       " MoleculeDatapoint(mol=<rdkit.Chem.rdchem.Mol object at 0x7198fe5fb450>, y=[24.75], weight=1.0, gt_mask=None, lt_mask=None, x_d=None, x_phase=None, name='rxn_795_r2h', V_f=None, E_f=None, V_d=None),\n",
       " MoleculeDatapoint(mol=<rdkit.Chem.rdchem.Mol object at 0x7198fe5f9bd0>, y=[84.0], weight=1.0, gt_mask=None, lt_mask=None, x_d=None, x_phase=None, name='rxn_778_r2h', V_f=None, E_f=None, V_d=None),\n",
       " MoleculeDatapoint(mol=<rdkit.Chem.rdchem.Mol object at 0x7198fe5f8350>, y=[28.0], weight=1.0, gt_mask=None, lt_mask=None, x_d=None, x_phase=None, name='rxn_900_r2h', V_f=None, E_f=None, V_d=None),\n",
       " MoleculeDatapoint(mol=<rdkit.Chem.rdchem.Mol object at 0x7198fe5f8a50>, y=[34.0], weight=1.0, gt_mask=None, lt_mask=None, x_d=None, x_phase=None, name='rxn_1913_r2h', V_f=None, E_f=None, V_d=None),\n",
       " MoleculeDatapoint(mol=<rdkit.Chem.rdchem.Mol object at 0x7198fe5f9310>, y=[31.0], weight=1.0, gt_mask=None, lt_mask=None, x_d=None, x_phase=None, name='rxn_881_r2h', V_f=None, E_f=None, V_d=None),\n",
       " MoleculeDatapoint(mol=<rdkit.Chem.rdchem.Mol object at 0x7198fe5f9a10>, y=[48.15999999997439], weight=1.0, gt_mask=None, lt_mask=None, x_d=None, x_phase=None, name='rxn_111_r2h', V_f=None, E_f=None, V_d=None),\n",
       " MoleculeDatapoint(mol=<rdkit.Chem.rdchem.Mol object at 0x7198fe5fa2d0>, y=[123.0], weight=1.0, gt_mask=None, lt_mask=None, x_d=None, x_phase=None, name='rxn_1054_r2h', V_f=None, E_f=None, V_d=None),\n",
       " MoleculeDatapoint(mol=<rdkit.Chem.rdchem.Mol object at 0x7198fe5fa9d0>, y=[105.0], weight=1.0, gt_mask=None, lt_mask=None, x_d=None, x_phase=None, name='rxn_1140_r2h', V_f=None, E_f=None, V_d=None),\n",
       " MoleculeDatapoint(mol=<rdkit.Chem.rdchem.Mol object at 0x7198fe5fb290>, y=[67.0], weight=1.0, gt_mask=None, lt_mask=None, x_d=None, x_phase=None, name='rxn_1865_r2h', V_f=None, E_f=None, V_d=None),\n",
       " MoleculeDatapoint(mol=<rdkit.Chem.rdchem.Mol object at 0x7198fe5fbd10>, y=[62.0], weight=1.0, gt_mask=None, lt_mask=None, x_d=None, x_phase=None, name='rmg_rxn_664_r2h', V_f=None, E_f=None, V_d=None),\n",
       " MoleculeDatapoint(mol=<rdkit.Chem.rdchem.Mol object at 0x7198fe5f9e00>, y=[32.0], weight=1.0, gt_mask=None, lt_mask=None, x_d=None, x_phase=None, name='rxn_871_r2h', V_f=None, E_f=None, V_d=None),\n",
       " MoleculeDatapoint(mol=<rdkit.Chem.rdchem.Mol object at 0x7198fe5f8580>, y=[44.0], weight=1.0, gt_mask=None, lt_mask=None, x_d=None, x_phase=None, name='rmg_rxn_16774_r2h', V_f=None, E_f=None, V_d=None),\n",
       " MoleculeDatapoint(mol=<rdkit.Chem.rdchem.Mol object at 0x7198fe5f8c80>, y=[50.0], weight=1.0, gt_mask=None, lt_mask=None, x_d=None, x_phase=None, name='rxn_780_r2h', V_f=None, E_f=None, V_d=None),\n",
       " MoleculeDatapoint(mol=<rdkit.Chem.rdchem.Mol object at 0x7198fe5f9540>, y=[102.0], weight=1.0, gt_mask=None, lt_mask=None, x_d=None, x_phase=None, name='rxn_1209_r2h', V_f=None, E_f=None, V_d=None),\n",
       " MoleculeDatapoint(mol=<rdkit.Chem.rdchem.Mol object at 0x7198fe5f9c40>, y=[30.0], weight=1.0, gt_mask=None, lt_mask=None, x_d=None, x_phase=None, name='rmg_rxn_302_r2h', V_f=None, E_f=None, V_d=None),\n",
       " MoleculeDatapoint(mol=<rdkit.Chem.rdchem.Mol object at 0x7198fe5fa500>, y=[22.0], weight=1.0, gt_mask=None, lt_mask=None, x_d=None, x_phase=None, name='rxn_944_r2h', V_f=None, E_f=None, V_d=None),\n",
       " MoleculeDatapoint(mol=<rdkit.Chem.rdchem.Mol object at 0x7198fe5fac00>, y=[80.0], weight=1.0, gt_mask=None, lt_mask=None, x_d=None, x_phase=None, name='rxn_1989_r2h', V_f=None, E_f=None, V_d=None),\n",
       " MoleculeDatapoint(mol=<rdkit.Chem.rdchem.Mol object at 0x7198fe5fb4c0>, y=[60.0], weight=1.0, gt_mask=None, lt_mask=None, x_d=None, x_phase=None, name='rxn_581_r2h', V_f=None, E_f=None, V_d=None),\n",
       " MoleculeDatapoint(mol=<rdkit.Chem.rdchem.Mol object at 0x7198fe5fbf40>, y=[60.0], weight=1.0, gt_mask=None, lt_mask=None, x_d=None, x_phase=None, name='rxn_1228_r2h', V_f=None, E_f=None, V_d=None),\n",
       " MoleculeDatapoint(mol=<rdkit.Chem.rdchem.Mol object at 0x7198fd12f530>, y=[23.0], weight=1.0, gt_mask=None, lt_mask=None, x_d=None, x_phase=None, name='rxn_554_r2h', V_f=None, E_f=None, V_d=None),\n",
       " MoleculeDatapoint(mol=<rdkit.Chem.rdchem.Mol object at 0x7198fd12c820>, y=[80.0], weight=1.0, gt_mask=None, lt_mask=None, x_d=None, x_phase=None, name='rmg_rxn_15711_r2h', V_f=None, E_f=None, V_d=None),\n",
       " MoleculeDatapoint(mol=<rdkit.Chem.rdchem.Mol object at 0x7198fd12d0e0>, y=[75.0], weight=1.0, gt_mask=None, lt_mask=None, x_d=None, x_phase=None, name='rxn_1926_r2h', V_f=None, E_f=None, V_d=None),\n",
       " MoleculeDatapoint(mol=<rdkit.Chem.rdchem.Mol object at 0x7198fd12d7e0>, y=[50.0], weight=1.0, gt_mask=None, lt_mask=None, x_d=None, x_phase=None, name='rxn_1265_r2h', V_f=None, E_f=None, V_d=None),\n",
       " MoleculeDatapoint(mol=<rdkit.Chem.rdchem.Mol object at 0x7198fd12e0a0>, y=[82.0], weight=1.0, gt_mask=None, lt_mask=None, x_d=None, x_phase=None, name='rxn_1177_r2h', V_f=None, E_f=None, V_d=None),\n",
       " MoleculeDatapoint(mol=<rdkit.Chem.rdchem.Mol object at 0x7198fd12e7a0>, y=[71.0], weight=1.0, gt_mask=None, lt_mask=None, x_d=None, x_phase=None, name='rmg_rxn_199_r2h', V_f=None, E_f=None, V_d=None),\n",
       " MoleculeDatapoint(mol=<rdkit.Chem.rdchem.Mol object at 0x7198fd12eff0>, y=[133.0], weight=1.0, gt_mask=None, lt_mask=None, x_d=None, x_phase=None, name='rmg_rxn_1523_r2h', V_f=None, E_f=None, V_d=None),\n",
       " MoleculeDatapoint(mol=<rdkit.Chem.rdchem.Mol object at 0x7198fd12f8b0>, y=[170.0], weight=1.0, gt_mask=None, lt_mask=None, x_d=None, x_phase=None, name='rmg_rxn_61_r2h', V_f=None, E_f=None, V_d=None),\n",
       " MoleculeDatapoint(mol=<rdkit.Chem.rdchem.Mol object at 0x7198fd12cc10>, y=[106.0], weight=1.0, gt_mask=None, lt_mask=None, x_d=None, x_phase=None, name='rxn_635_r2h', V_f=None, E_f=None, V_d=None),\n",
       " MoleculeDatapoint(mol=<rdkit.Chem.rdchem.Mol object at 0x7198fd12c890>, y=[92.0], weight=1.0, gt_mask=None, lt_mask=None, x_d=None, x_phase=None, name='rmg_rxn_15590_r2h', V_f=None, E_f=None, V_d=None),\n",
       " MoleculeDatapoint(mol=<rdkit.Chem.rdchem.Mol object at 0x7198fd12c6d0>, y=[48.0], weight=1.0, gt_mask=None, lt_mask=None, x_d=None, x_phase=None, name='rxn_366_r2h', V_f=None, E_f=None, V_d=None),\n",
       " MoleculeDatapoint(mol=<rdkit.Chem.rdchem.Mol object at 0x7198fd12d150>, y=[38.0], weight=1.0, gt_mask=None, lt_mask=None, x_d=None, x_phase=None, name='rxn_1310_r2h', V_f=None, E_f=None, V_d=None),\n",
       " MoleculeDatapoint(mol=<rdkit.Chem.rdchem.Mol object at 0x7198fd12d850>, y=[12.0], weight=1.0, gt_mask=None, lt_mask=None, x_d=None, x_phase=None, name='rxn_935_r2h', V_f=None, E_f=None, V_d=None),\n",
       " MoleculeDatapoint(mol=<rdkit.Chem.rdchem.Mol object at 0x7198fd12e110>, y=[42.0], weight=1.0, gt_mask=None, lt_mask=None, x_d=None, x_phase=None, name='rxn_931_r2h', V_f=None, E_f=None, V_d=None),\n",
       " MoleculeDatapoint(mol=<rdkit.Chem.rdchem.Mol object at 0x7198fd12e810>, y=[98.0], weight=1.0, gt_mask=None, lt_mask=None, x_d=None, x_phase=None, name='rxn_1276_r2h', V_f=None, E_f=None, V_d=None),\n",
       " MoleculeDatapoint(mol=<rdkit.Chem.rdchem.Mol object at 0x7198fd12f060>, y=[-1.0], weight=1.0, gt_mask=None, lt_mask=None, x_d=None, x_phase=None, name='rxn_3174_r2h', V_f=None, E_f=None, V_d=None),\n",
       " MoleculeDatapoint(mol=<rdkit.Chem.rdchem.Mol object at 0x7198fd12f920>, y=[57.0], weight=1.0, gt_mask=None, lt_mask=None, x_d=None, x_phase=None, name='rxn_1910_r2h', V_f=None, E_f=None, V_d=None),\n",
       " MoleculeDatapoint(mol=<rdkit.Chem.rdchem.Mol object at 0x7198fd134040>, y=[28.0], weight=1.0, gt_mask=None, lt_mask=None, x_d=None, x_phase=None, name='rxn_890_r2h', V_f=None, E_f=None, V_d=None),\n",
       " MoleculeDatapoint(mol=<rdkit.Chem.rdchem.Mol object at 0x7198fd134200>, y=[147.0], weight=1.0, gt_mask=None, lt_mask=None, x_d=None, x_phase=None, name='rxn_715_r2h', V_f=None, E_f=None, V_d=None),\n",
       " MoleculeDatapoint(mol=<rdkit.Chem.rdchem.Mol object at 0x7198fd134900>, y=[55.0], weight=1.0, gt_mask=None, lt_mask=None, x_d=None, x_phase=None, name='rxn_1325_r2h', V_f=None, E_f=None, V_d=None),\n",
       " MoleculeDatapoint(mol=<rdkit.Chem.rdchem.Mol object at 0x7198fd135000>, y=[81.0], weight=1.0, gt_mask=None, lt_mask=None, x_d=None, x_phase=None, name='rxn_1499_r2h', V_f=None, E_f=None, V_d=None),\n",
       " MoleculeDatapoint(mol=<rdkit.Chem.rdchem.Mol object at 0x7198fd135700>, y=[112.0], weight=1.0, gt_mask=None, lt_mask=None, x_d=None, x_phase=None, name='rmg_rxn_16713_r2h', V_f=None, E_f=None, V_d=None),\n",
       " MoleculeDatapoint(mol=<rdkit.Chem.rdchem.Mol object at 0x7198fd135e00>, y=[103.0], weight=1.0, gt_mask=None, lt_mask=None, x_d=None, x_phase=None, name='rmg_rxn_15517_r2h', V_f=None, E_f=None, V_d=None),\n",
       " MoleculeDatapoint(mol=<rdkit.Chem.rdchem.Mol object at 0x7198fd136880>, y=[0.0], weight=1.0, gt_mask=None, lt_mask=None, x_d=None, x_phase=None, name='rxn_143_r2h', V_f=None, E_f=None, V_d=None),\n",
       " MoleculeDatapoint(mol=<rdkit.Chem.rdchem.Mol object at 0x7198fd137140>, y=[100.0], weight=1.0, gt_mask=None, lt_mask=None, x_d=None, x_phase=None, name='rmg_rxn_48_r2h', V_f=None, E_f=None, V_d=None),\n",
       " MoleculeDatapoint(mol=<rdkit.Chem.rdchem.Mol object at 0x7198fd137840>, y=[118.0], weight=1.0, gt_mask=None, lt_mask=None, x_d=None, x_phase=None, name='rmg_rxn_606_r2h', V_f=None, E_f=None, V_d=None),\n",
       " MoleculeDatapoint(mol=<rdkit.Chem.rdchem.Mol object at 0x7198fd134270>, y=[143.0], weight=1.0, gt_mask=None, lt_mask=None, x_d=None, x_phase=None, name='rmg_rxn_26_r2h', V_f=None, E_f=None, V_d=None),\n",
       " MoleculeDatapoint(mol=<rdkit.Chem.rdchem.Mol object at 0x7198fd1340b0>, y=[56.0], weight=1.0, gt_mask=None, lt_mask=None, x_d=None, x_phase=None, name='rmg_rxn_1449_r2h', V_f=None, E_f=None, V_d=None),\n",
       " MoleculeDatapoint(mol=<rdkit.Chem.rdchem.Mol object at 0x7198fd134970>, y=[52.0], weight=1.0, gt_mask=None, lt_mask=None, x_d=None, x_phase=None, name='rxn_843_r2h', V_f=None, E_f=None, V_d=None),\n",
       " MoleculeDatapoint(mol=<rdkit.Chem.rdchem.Mol object at 0x7198fd135070>, y=[66.0], weight=1.0, gt_mask=None, lt_mask=None, x_d=None, x_phase=None, name='rmg_rxn_15421_r2h', V_f=None, E_f=None, V_d=None),\n",
       " MoleculeDatapoint(mol=<rdkit.Chem.rdchem.Mol object at 0x7198fd135770>, y=[19.75], weight=1.0, gt_mask=None, lt_mask=None, x_d=None, x_phase=None, name='rxn_824_r2h', V_f=None, E_f=None, V_d=None),\n",
       " MoleculeDatapoint(mol=<rdkit.Chem.rdchem.Mol object at 0x7198fd135e70>, y=[22.0], weight=1.0, gt_mask=None, lt_mask=None, x_d=None, x_phase=None, name='rxn_949_r2h', V_f=None, E_f=None, V_d=None),\n",
       " MoleculeDatapoint(mol=<rdkit.Chem.rdchem.Mol object at 0x7198fd136730>, y=[57.0], weight=1.0, gt_mask=None, lt_mask=None, x_d=None, x_phase=None, name='rxn_1824_r2h', V_f=None, E_f=None, V_d=None),\n",
       " MoleculeDatapoint(mol=<rdkit.Chem.rdchem.Mol object at 0x7198fd1371b0>, y=[71.0], weight=1.0, gt_mask=None, lt_mask=None, x_d=None, x_phase=None, name='rmg_rxn_15477_r2h', V_f=None, E_f=None, V_d=None),\n",
       " MoleculeDatapoint(mol=<rdkit.Chem.rdchem.Mol object at 0x7198fd1378b0>, y=[108.0], weight=1.0, gt_mask=None, lt_mask=None, x_d=None, x_phase=None, name='rxn_256_r2h', V_f=None, E_f=None, V_d=None),\n",
       " MoleculeDatapoint(mol=<rdkit.Chem.rdchem.Mol object at 0x7198fd137d80>, y=[45.0], weight=1.0, gt_mask=None, lt_mask=None, x_d=None, x_phase=None, name='rmg_rxn_16532_r2h', V_f=None, E_f=None, V_d=None),\n",
       " MoleculeDatapoint(mol=<rdkit.Chem.rdchem.Mol object at 0x7198fd140190>, y=[90.0], weight=1.0, gt_mask=None, lt_mask=None, x_d=None, x_phase=None, name='rxn_596_r2h', V_f=None, E_f=None, V_d=None),\n",
       " MoleculeDatapoint(mol=<rdkit.Chem.rdchem.Mol object at 0x7198fd140890>, y=[84.0], weight=1.0, gt_mask=None, lt_mask=None, x_d=None, x_phase=None, name='rxn_1215_r2h', V_f=None, E_f=None, V_d=None),\n",
       " MoleculeDatapoint(mol=<rdkit.Chem.rdchem.Mol object at 0x7198fd140f90>, y=[66.0], weight=1.0, gt_mask=None, lt_mask=None, x_d=None, x_phase=None, name='rxn_1000_r2h', V_f=None, E_f=None, V_d=None),\n",
       " MoleculeDatapoint(mol=<rdkit.Chem.rdchem.Mol object at 0x7198fd141690>, y=[62.0], weight=1.0, gt_mask=None, lt_mask=None, x_d=None, x_phase=None, name='rmg_rxn_339_r2h', V_f=None, E_f=None, V_d=None),\n",
       " MoleculeDatapoint(mol=<rdkit.Chem.rdchem.Mol object at 0x7198fd141d90>, y=[70.0], weight=1.0, gt_mask=None, lt_mask=None, x_d=None, x_phase=None, name='rxn_1216_r2h', V_f=None, E_f=None, V_d=None),\n",
       " MoleculeDatapoint(mol=<rdkit.Chem.rdchem.Mol object at 0x7198fd142490>, y=[81.0], weight=1.0, gt_mask=None, lt_mask=None, x_d=None, x_phase=None, name='rxn_1349_r2h', V_f=None, E_f=None, V_d=None),\n",
       " MoleculeDatapoint(mol=<rdkit.Chem.rdchem.Mol object at 0x7198fd142f10>, y=[47.0], weight=1.0, gt_mask=None, lt_mask=None, x_d=None, x_phase=None, name='rxn_1237_r2h', V_f=None, E_f=None, V_d=None),\n",
       " MoleculeDatapoint(mol=<rdkit.Chem.rdchem.Mol object at 0x7198fd143610>, y=[57.0], weight=1.0, gt_mask=None, lt_mask=None, x_d=None, x_phase=None, name='rmg_rxn_187_r2h', V_f=None, E_f=None, V_d=None),\n",
       " MoleculeDatapoint(mol=<rdkit.Chem.rdchem.Mol object at 0x7198fd143d10>, y=[75.0], weight=1.0, gt_mask=None, lt_mask=None, x_d=None, x_phase=None, name='rxn_415_r2h', V_f=None, E_f=None, V_d=None),\n",
       " MoleculeDatapoint(mol=<rdkit.Chem.rdchem.Mol object at 0x7198fd140200>, y=[72.0], weight=1.0, gt_mask=None, lt_mask=None, x_d=None, x_phase=None, name='rxn_1396_r2h', V_f=None, E_f=None, V_d=None),\n",
       " MoleculeDatapoint(mol=<rdkit.Chem.rdchem.Mol object at 0x7198fd140900>, y=[31.0], weight=1.0, gt_mask=None, lt_mask=None, x_d=None, x_phase=None, name='rxn_604_r2h', V_f=None, E_f=None, V_d=None),\n",
       " MoleculeDatapoint(mol=<rdkit.Chem.rdchem.Mol object at 0x7198fd141000>, y=[40.0], weight=1.0, gt_mask=None, lt_mask=None, x_d=None, x_phase=None, name='rxn_912_r2h', V_f=None, E_f=None, V_d=None),\n",
       " MoleculeDatapoint(mol=<rdkit.Chem.rdchem.Mol object at 0x7198fd141700>, y=[60.0], weight=1.0, gt_mask=None, lt_mask=None, x_d=None, x_phase=None, name='rxn_1982_r2h', V_f=None, E_f=None, V_d=None),\n",
       " MoleculeDatapoint(mol=<rdkit.Chem.rdchem.Mol object at 0x7198fd141e00>, y=[109.0], weight=1.0, gt_mask=None, lt_mask=None, x_d=None, x_phase=None, name='rmg_rxn_16804_r2h', V_f=None, E_f=None, V_d=None),\n",
       " MoleculeDatapoint(mol=<rdkit.Chem.rdchem.Mol object at 0x7198fd142500>, y=[106.0], weight=1.0, gt_mask=None, lt_mask=None, x_d=None, x_phase=None, name='rxn_1478_r2h', V_f=None, E_f=None, V_d=None),\n",
       " MoleculeDatapoint(mol=<rdkit.Chem.rdchem.Mol object at 0x7198fd142f80>, y=[85.0], weight=1.0, gt_mask=None, lt_mask=None, x_d=None, x_phase=None, name='rxn_1180_r2h', V_f=None, E_f=None, V_d=None),\n",
       " MoleculeDatapoint(mol=<rdkit.Chem.rdchem.Mol object at 0x7198fd143680>, y=[64.0], weight=1.0, gt_mask=None, lt_mask=None, x_d=None, x_phase=None, name='rxn_114_r2h', V_f=None, E_f=None, V_d=None),\n",
       " MoleculeDatapoint(mol=<rdkit.Chem.rdchem.Mol object at 0x7198fd143d80>, y=[84.1600000000326], weight=1.0, gt_mask=None, lt_mask=None, x_d=None, x_phase=None, name='rxn_182_r2h', V_f=None, E_f=None, V_d=None),\n",
       " MoleculeDatapoint(mol=<rdkit.Chem.rdchem.Mol object at 0x7198fd148120>, y=[19.0], weight=1.0, gt_mask=None, lt_mask=None, x_d=None, x_phase=None, name='rxn_867_r2h', V_f=None, E_f=None, V_d=None),\n",
       " MoleculeDatapoint(mol=<rdkit.Chem.rdchem.Mol object at 0x7198fd1489e0>, y=[97.0], weight=1.0, gt_mask=None, lt_mask=None, x_d=None, x_phase=None, name='rxn_1997_r2h', V_f=None, E_f=None, V_d=None),\n",
       " MoleculeDatapoint(mol=<rdkit.Chem.rdchem.Mol object at 0x7198fd1490e0>, y=[77.0], weight=1.0, gt_mask=None, lt_mask=None, x_d=None, x_phase=None, name='rxn_1181_r2h', V_f=None, E_f=None, V_d=None),\n",
       " MoleculeDatapoint(mol=<rdkit.Chem.rdchem.Mol object at 0x7198fd149b60>, y=[77.0], weight=1.0, gt_mask=None, lt_mask=None, x_d=None, x_phase=None, name='rmg_rxn_171_r2h', V_f=None, E_f=None, V_d=None),\n",
       " MoleculeDatapoint(mol=<rdkit.Chem.rdchem.Mol object at 0x7198fd14a260>, y=[35.0], weight=1.0, gt_mask=None, lt_mask=None, x_d=None, x_phase=None, name='rmg_rxn_52_r2h', V_f=None, E_f=None, V_d=None),\n",
       " MoleculeDatapoint(mol=<rdkit.Chem.rdchem.Mol object at 0x7198fd14a960>, y=[43.0], weight=1.0, gt_mask=None, lt_mask=None, x_d=None, x_phase=None, name='rxn_1314_r2h', V_f=None, E_f=None, V_d=None),\n",
       " MoleculeDatapoint(mol=<rdkit.Chem.rdchem.Mol object at 0x7198fd14b060>, y=[29.0], weight=1.0, gt_mask=None, lt_mask=None, x_d=None, x_phase=None, name='rmg_rxn_311_r2h', V_f=None, E_f=None, V_d=None),\n",
       " MoleculeDatapoint(mol=<rdkit.Chem.rdchem.Mol object at 0x7198fd14b760>, y=[61.0], weight=1.0, gt_mask=None, lt_mask=None, x_d=None, x_phase=None, name='rmg_rxn_528_r2h', V_f=None, E_f=None, V_d=None),\n",
       " MoleculeDatapoint(mol=<rdkit.Chem.rdchem.Mol object at 0x7198fd14be60>, y=[53.0], weight=1.0, gt_mask=None, lt_mask=None, x_d=None, x_phase=None, name='rxn_1422_r2h', V_f=None, E_f=None, V_d=None),\n",
       " MoleculeDatapoint(mol=<rdkit.Chem.rdchem.Mol object at 0x7198fd148350>, y=[93.0], weight=1.0, gt_mask=None, lt_mask=None, x_d=None, x_phase=None, name='rmg_rxn_1563_r2h', V_f=None, E_f=None, V_d=None),\n",
       " MoleculeDatapoint(mol=<rdkit.Chem.rdchem.Mol object at 0x7198fd148c10>, y=[38.0], weight=1.0, gt_mask=None, lt_mask=None, x_d=None, x_phase=None, name='rxn_552_r2h', V_f=None, E_f=None, V_d=None),\n",
       " MoleculeDatapoint(mol=<rdkit.Chem.rdchem.Mol object at 0x7198fd149310>, y=[48.0], weight=1.0, gt_mask=None, lt_mask=None, x_d=None, x_phase=None, name='rmg_rxn_1500_r2h', V_f=None, E_f=None, V_d=None),\n",
       " MoleculeDatapoint(mol=<rdkit.Chem.rdchem.Mol object at 0x7198fd149bd0>, y=[81.0], weight=1.0, gt_mask=None, lt_mask=None, x_d=None, x_phase=None, name='rxn_1884_r2h', V_f=None, E_f=None, V_d=None),\n",
       " MoleculeDatapoint(mol=<rdkit.Chem.rdchem.Mol object at 0x7198fd14a2d0>, y=[40.0], weight=1.0, gt_mask=None, lt_mask=None, x_d=None, x_phase=None, name='rxn_1529_r2h', V_f=None, E_f=None, V_d=None),\n",
       " MoleculeDatapoint(mol=<rdkit.Chem.rdchem.Mol object at 0x7198fd14a9d0>, y=[92.15999999991618], weight=1.0, gt_mask=None, lt_mask=None, x_d=None, x_phase=None, name='rxn_89_r2h', V_f=None, E_f=None, V_d=None),\n",
       " MoleculeDatapoint(mol=<rdkit.Chem.rdchem.Mol object at 0x7198fd14b0d0>, y=[79.0], weight=1.0, gt_mask=None, lt_mask=None, x_d=None, x_phase=None, name='rmg_rxn_15585_r2h', V_f=None, E_f=None, V_d=None),\n",
       " MoleculeDatapoint(mol=<rdkit.Chem.rdchem.Mol object at 0x7198fd14b7d0>, y=[130.0], weight=1.0, gt_mask=None, lt_mask=None, x_d=None, x_phase=None, name='rmg_rxn_610_r2h', V_f=None, E_f=None, V_d=None),\n",
       " MoleculeDatapoint(mol=<rdkit.Chem.rdchem.Mol object at 0x7198fd14bed0>, y=[51.0], weight=1.0, gt_mask=None, lt_mask=None, x_d=None, x_phase=None, name='rxn_779_r2h', V_f=None, E_f=None, V_d=None),\n",
       " MoleculeDatapoint(mol=<rdkit.Chem.rdchem.Mol object at 0x719c545b0820>, y=[21.0], weight=1.0, gt_mask=None, lt_mask=None, x_d=None, x_phase=None, name='rmg_rxn_12_r2h', V_f=None, E_f=None, V_d=None),\n",
       " MoleculeDatapoint(mol=<rdkit.Chem.rdchem.Mol object at 0x719c545b0f20>, y=[62.0], weight=1.0, gt_mask=None, lt_mask=None, x_d=None, x_phase=None, name='rxn_1088_r2h', V_f=None, E_f=None, V_d=None),\n",
       " MoleculeDatapoint(mol=<rdkit.Chem.rdchem.Mol object at 0x719c545b1620>, y=[46.0], weight=1.0, gt_mask=None, lt_mask=None, x_d=None, x_phase=None, name='rxn_1671_r2h', V_f=None, E_f=None, V_d=None),\n",
       " MoleculeDatapoint(mol=<rdkit.Chem.rdchem.Mol object at 0x719c545b1d20>, y=[44.0], weight=1.0, gt_mask=None, lt_mask=None, x_d=None, x_phase=None, name='rmg_rxn_1345_r2h', V_f=None, E_f=None, V_d=None),\n",
       " MoleculeDatapoint(mol=<rdkit.Chem.rdchem.Mol object at 0x719c545b2420>, y=[104.0], weight=1.0, gt_mask=None, lt_mask=None, x_d=None, x_phase=None, name='rxn_1494_r2h', V_f=None, E_f=None, V_d=None),\n",
       " MoleculeDatapoint(mol=<rdkit.Chem.rdchem.Mol object at 0x719c545b2ab0>, y=[45.0], weight=1.0, gt_mask=None, lt_mask=None, x_d=None, x_phase=None, name='rmg_rxn_368_r2h', V_f=None, E_f=None, V_d=None),\n",
       " MoleculeDatapoint(mol=<rdkit.Chem.rdchem.Mol object at 0x719c545b31b0>, y=[142.0], weight=1.0, gt_mask=None, lt_mask=None, x_d=None, x_phase=None, name='rmg_rxn_15664_r2h', V_f=None, E_f=None, V_d=None),\n",
       " MoleculeDatapoint(mol=<rdkit.Chem.rdchem.Mol object at 0x719c545b38b0>, y=[59.0], weight=1.0, gt_mask=None, lt_mask=None, x_d=None, x_phase=None, name='rxn_409_r2h', V_f=None, E_f=None, V_d=None),\n",
       " MoleculeDatapoint(mol=<rdkit.Chem.rdchem.Mol object at 0x719c545b0660>, y=[128.0], weight=1.0, gt_mask=None, lt_mask=None, x_d=None, x_phase=None, name='rxn_124_r2h', V_f=None, E_f=None, V_d=None),\n",
       " MoleculeDatapoint(mol=<rdkit.Chem.rdchem.Mol object at 0x719c545b8580>, y=[68.0], weight=1.0, gt_mask=None, lt_mask=None, x_d=None, x_phase=None, name='rmg_rxn_16480_r2h', V_f=None, E_f=None, V_d=None),\n",
       " MoleculeDatapoint(mol=<rdkit.Chem.rdchem.Mol object at 0x719c545b8c80>, y=[74.0], weight=1.0, gt_mask=None, lt_mask=None, x_d=None, x_phase=None, name='rxn_1026_r2h', V_f=None, E_f=None, V_d=None),\n",
       " MoleculeDatapoint(mol=<rdkit.Chem.rdchem.Mol object at 0x719c545b95b0>, y=[102.0], weight=1.0, gt_mask=None, lt_mask=None, x_d=None, x_phase=None, name='rxn_1795_r2h', V_f=None, E_f=None, V_d=None),\n",
       " MoleculeDatapoint(mol=<rdkit.Chem.rdchem.Mol object at 0x719c545b9c40>, y=[79.15999999997439], weight=1.0, gt_mask=None, lt_mask=None, x_d=None, x_phase=None, name='rxn_127_r2h', V_f=None, E_f=None, V_d=None),\n",
       " MoleculeDatapoint(mol=<rdkit.Chem.rdchem.Mol object at 0x719c545ba340>, y=[33.0], weight=1.0, gt_mask=None, lt_mask=None, x_d=None, x_phase=None, name='rxn_389_r2h', V_f=None, E_f=None, V_d=None),\n",
       " MoleculeDatapoint(mol=<rdkit.Chem.rdchem.Mol object at 0x719c545d02e0>, y=[40.0], weight=1.0, gt_mask=None, lt_mask=None, x_d=None, x_phase=None, name='rxn_1893_r2h', V_f=None, E_f=None, V_d=None),\n",
       " MoleculeDatapoint(mol=<rdkit.Chem.rdchem.Mol object at 0x719c5459c580>, y=[33.0], weight=1.0, gt_mask=None, lt_mask=None, x_d=None, x_phase=None, name='rxn_1592_r2h', V_f=None, E_f=None, V_d=None),\n",
       " MoleculeDatapoint(mol=<rdkit.Chem.rdchem.Mol object at 0x719c5459cc80>, y=[38.0], weight=1.0, gt_mask=None, lt_mask=None, x_d=None, x_phase=None, name='rxn_993_r2h', V_f=None, E_f=None, V_d=None),\n",
       " MoleculeDatapoint(mol=<rdkit.Chem.rdchem.Mol object at 0x719c5459d380>, y=[64.0], weight=1.0, gt_mask=None, lt_mask=None, x_d=None, x_phase=None, name='rxn_484_r2h', V_f=None, E_f=None, V_d=None),\n",
       " MoleculeDatapoint(mol=<rdkit.Chem.rdchem.Mol object at 0x719c5459da80>, y=[49.0], weight=1.0, gt_mask=None, lt_mask=None, x_d=None, x_phase=None, name='rxn_550_r2h', V_f=None, E_f=None, V_d=None),\n",
       " MoleculeDatapoint(mol=<rdkit.Chem.rdchem.Mol object at 0x719c5459e180>, y=[126.0], weight=1.0, gt_mask=None, lt_mask=None, x_d=None, x_phase=None, name='rmg_rxn_15509_r2h', V_f=None, E_f=None, V_d=None),\n",
       " MoleculeDatapoint(mol=<rdkit.Chem.rdchem.Mol object at 0x719c5459e880>, y=[60.0], weight=1.0, gt_mask=None, lt_mask=None, x_d=None, x_phase=None, name='rxn_2003_r2h', V_f=None, E_f=None, V_d=None),\n",
       " MoleculeDatapoint(mol=<rdkit.Chem.rdchem.Mol object at 0x719c5459f140>, y=[68.0], weight=1.0, gt_mask=None, lt_mask=None, x_d=None, x_phase=None, name='rxn_1353_r2h', V_f=None, E_f=None, V_d=None),\n",
       " MoleculeDatapoint(mol=<rdkit.Chem.rdchem.Mol object at 0x719c5459f840>, y=[8.0], weight=1.0, gt_mask=None, lt_mask=None, x_d=None, x_phase=None, name='rxn_985_r2h', V_f=None, E_f=None, V_d=None),\n",
       " MoleculeDatapoint(mol=<rdkit.Chem.rdchem.Mol object at 0x719c5459ff40>, y=[65.0], weight=1.0, gt_mask=None, lt_mask=None, x_d=None, x_phase=None, name='rxn_396_r2h', V_f=None, E_f=None, V_d=None),\n",
       " MoleculeDatapoint(mol=<rdkit.Chem.rdchem.Mol object at 0x719c55395930>, y=[47.0], weight=1.0, gt_mask=None, lt_mask=None, x_d=None, x_phase=None, name='rxn_1249_r2h', V_f=None, E_f=None, V_d=None),\n",
       " MoleculeDatapoint(mol=<rdkit.Chem.rdchem.Mol object at 0x719c55396a40>, y=[60.0], weight=1.0, gt_mask=None, lt_mask=None, x_d=None, x_phase=None, name='rmg_rxn_16531_r2h', V_f=None, E_f=None, V_d=None),\n",
       " MoleculeDatapoint(mol=<rdkit.Chem.rdchem.Mol object at 0x719c55397370>, y=[30.0], weight=1.0, gt_mask=None, lt_mask=None, x_d=None, x_phase=None, name='rxn_1862_r2h', V_f=None, E_f=None, V_d=None),\n",
       " MoleculeDatapoint(mol=<rdkit.Chem.rdchem.Mol object at 0x719c55396b90>, y=[155.0], weight=1.0, gt_mask=None, lt_mask=None, x_d=None, x_phase=None, name='rmg_rxn_15486_r2h', V_f=None, E_f=None, V_d=None),\n",
       " MoleculeDatapoint(mol=<rdkit.Chem.rdchem.Mol object at 0x719c54ffa3b0>, y=[10.0], weight=1.0, gt_mask=None, lt_mask=None, x_d=None, x_phase=None, name='rmg_rxn_87_r2h', V_f=None, E_f=None, V_d=None),\n",
       " MoleculeDatapoint(mol=<rdkit.Chem.rdchem.Mol object at 0x719c54ff8b30>, y=[2.0], weight=1.0, gt_mask=None, lt_mask=None, x_d=None, x_phase=None, name='rmg_rxn_354_r2h', V_f=None, E_f=None, V_d=None),\n",
       " MoleculeDatapoint(mol=<rdkit.Chem.rdchem.Mol object at 0x719c54ff8eb0>, y=[69.75], weight=1.0, gt_mask=None, lt_mask=None, x_d=None, x_phase=None, name='rxn_286_r2h', V_f=None, E_f=None, V_d=None),\n",
       " MoleculeDatapoint(mol=<rdkit.Chem.rdchem.Mol object at 0x719c54ffaab0>, y=[20.0], weight=1.0, gt_mask=None, lt_mask=None, x_d=None, x_phase=None, name='rxn_1949_r2h', V_f=None, E_f=None, V_d=None),\n",
       " MoleculeDatapoint(mol=<rdkit.Chem.rdchem.Mol object at 0x719c54ffae30>, y=[54.0], weight=1.0, gt_mask=None, lt_mask=None, x_d=None, x_phase=None, name='rxn_1030_r2h', V_f=None, E_f=None, V_d=None),\n",
       " MoleculeDatapoint(mol=<rdkit.Chem.rdchem.Mol object at 0x719c54ff8430>, y=[50.0], weight=1.0, gt_mask=None, lt_mask=None, x_d=None, x_phase=None, name='rmg_rxn_15508_r2h', V_f=None, E_f=None, V_d=None),\n",
       " MoleculeDatapoint(mol=<rdkit.Chem.rdchem.Mol object at 0x719c54ff9930>, y=[58.0], weight=1.0, gt_mask=None, lt_mask=None, x_d=None, x_phase=None, name='rmg_rxn_638_r2h', V_f=None, E_f=None, V_d=None),\n",
       " MoleculeDatapoint(mol=<rdkit.Chem.rdchem.Mol object at 0x719c54ffa570>, y=[47.0], weight=1.0, gt_mask=None, lt_mask=None, x_d=None, x_phase=None, name='rmg_rxn_16505_r2h', V_f=None, E_f=None, V_d=None),\n",
       " MoleculeDatapoint(mol=<rdkit.Chem.rdchem.Mol object at 0x719c54ffb6f0>, y=[21.1600000000326], weight=1.0, gt_mask=None, lt_mask=None, x_d=None, x_phase=None, name='rxn_262_r2h', V_f=None, E_f=None, V_d=None),\n",
       " MoleculeDatapoint(mol=<rdkit.Chem.rdchem.Mol object at 0x719c54e05700>, y=[40.0], weight=1.0, gt_mask=None, lt_mask=None, x_d=None, x_phase=None, name='rxn_1945_r2h', V_f=None, E_f=None, V_d=None),\n",
       " MoleculeDatapoint(mol=<rdkit.Chem.rdchem.Mol object at 0x719c54e05fc0>, y=[57.0], weight=1.0, gt_mask=None, lt_mask=None, x_d=None, x_phase=None, name='rxn_1253_r2h', V_f=None, E_f=None, V_d=None),\n",
       " MoleculeDatapoint(mol=<rdkit.Chem.rdchem.Mol object at 0x719c54e05540>, y=[102.0], weight=1.0, gt_mask=None, lt_mask=None, x_d=None, x_phase=None, name='rxn_1103_r2h', V_f=None, E_f=None, V_d=None),\n",
       " MoleculeDatapoint(mol=<rdkit.Chem.rdchem.Mol object at 0x719c54e04200>, y=[92.0], weight=1.0, gt_mask=None, lt_mask=None, x_d=None, x_phase=None, name='rxn_722_r2h', V_f=None, E_f=None, V_d=None),\n",
       " MoleculeDatapoint(mol=<rdkit.Chem.rdchem.Mol object at 0x719c54e04e40>, y=[89.0], weight=1.0, gt_mask=None, lt_mask=None, x_d=None, x_phase=None, name='rxn_1286_r2h', V_f=None, E_f=None, V_d=None),\n",
       " MoleculeDatapoint(mol=<rdkit.Chem.rdchem.Mol object at 0x719c54e05a80>, y=[162.0], weight=1.0, gt_mask=None, lt_mask=None, x_d=None, x_phase=None, name='rmg_rxn_233_r2h', V_f=None, E_f=None, V_d=None),\n",
       " MoleculeDatapoint(mol=<rdkit.Chem.rdchem.Mol object at 0x719c54e06500>, y=[96.0], weight=1.0, gt_mask=None, lt_mask=None, x_d=None, x_phase=None, name='rmg_rxn_16802_r2h', V_f=None, E_f=None, V_d=None),\n",
       " MoleculeDatapoint(mol=<rdkit.Chem.rdchem.Mol object at 0x719c54e06f80>, y=[20.75], weight=1.0, gt_mask=None, lt_mask=None, x_d=None, x_phase=None, name='rxn_792_r2h', V_f=None, E_f=None, V_d=None),\n",
       " MoleculeDatapoint(mol=<rdkit.Chem.rdchem.Mol object at 0x719c54e07680>, y=[106.0], weight=1.0, gt_mask=None, lt_mask=None, x_d=None, x_phase=None, name='rxn_1183_r2h', V_f=None, E_f=None, V_d=None),\n",
       " MoleculeDatapoint(mol=<rdkit.Chem.rdchem.Mol object at 0x719c54e0ca50>, y=[50.0], weight=1.0, gt_mask=None, lt_mask=None, x_d=None, x_phase=None, name='rxn_1264_r2h', V_f=None, E_f=None, V_d=None),\n",
       " MoleculeDatapoint(mol=<rdkit.Chem.rdchem.Mol object at 0x719c54e0e880>, y=[170.0], weight=1.0, gt_mask=None, lt_mask=None, x_d=None, x_phase=None, name='rmg_rxn_600_r2h', V_f=None, E_f=None, V_d=None),\n",
       " MoleculeDatapoint(mol=<rdkit.Chem.rdchem.Mol object at 0x719c54e0c510>, y=[70.0], weight=1.0, gt_mask=None, lt_mask=None, x_d=None, x_phase=None, name='rxn_1648_r2h', V_f=None, E_f=None, V_d=None),\n",
       " MoleculeDatapoint(mol=<rdkit.Chem.rdchem.Mol object at 0x719c54e0d150>, y=[72.0], weight=1.0, gt_mask=None, lt_mask=None, x_d=None, x_phase=None, name='rxn_1122_r2h', V_f=None, E_f=None, V_d=None),\n",
       " MoleculeDatapoint(mol=<rdkit.Chem.rdchem.Mol object at 0x719c54e0d850>, y=[3.0], weight=1.0, gt_mask=None, lt_mask=None, x_d=None, x_phase=None, name='rxn_1589_r2h', V_f=None, E_f=None, V_d=None),\n",
       " MoleculeDatapoint(mol=<rdkit.Chem.rdchem.Mol object at 0x719c54e0df50>, y=[72.0], weight=1.0, gt_mask=None, lt_mask=None, x_d=None, x_phase=None, name='rmg_rxn_238_r2h', V_f=None, E_f=None, V_d=None),\n",
       " MoleculeDatapoint(mol=<rdkit.Chem.rdchem.Mol object at 0x719c54e0ec00>, y=[59.0], weight=1.0, gt_mask=None, lt_mask=None, x_d=None, x_phase=None, name='rxn_1958_r2h', V_f=None, E_f=None, V_d=None),\n",
       " MoleculeDatapoint(mol=<rdkit.Chem.rdchem.Mol object at 0x719c54e0f300>, y=[36.0], weight=1.0, gt_mask=None, lt_mask=None, x_d=None, x_phase=None, name='rmg_rxn_16796_r2h', V_f=None, E_f=None, V_d=None),\n",
       " MoleculeDatapoint(mol=<rdkit.Chem.rdchem.Mol object at 0x719c54e0f990>, y=[52.0], weight=1.0, gt_mask=None, lt_mask=None, x_d=None, x_phase=None, name='rxn_930_r2h', V_f=None, E_f=None, V_d=None),\n",
       " MoleculeDatapoint(mol=<rdkit.Chem.rdchem.Mol object at 0x719c54e17ca0>, y=[139.0], weight=1.0, gt_mask=None, lt_mask=None, x_d=None, x_phase=None, name='rmg_rxn_599_r2h', V_f=None, E_f=None, V_d=None),\n",
       " MoleculeDatapoint(mol=<rdkit.Chem.rdchem.Mol object at 0x719c54e15620>, y=[47.0], weight=1.0, gt_mask=None, lt_mask=None, x_d=None, x_phase=None, name='rxn_1246_r2h', V_f=None, E_f=None, V_d=None),\n",
       " MoleculeDatapoint(mol=<rdkit.Chem.rdchem.Mol object at 0x719c54e159a0>, y=[96.0], weight=1.0, gt_mask=None, lt_mask=None, x_d=None, x_phase=None, name='rxn_1275_r2h', V_f=None, E_f=None, V_d=None),\n",
       " MoleculeDatapoint(mol=<rdkit.Chem.rdchem.Mol object at 0x719c54e14660>, y=[90.0], weight=1.0, gt_mask=None, lt_mask=None, x_d=None, x_phase=None, name='rxn_3228_r2h', V_f=None, E_f=None, V_d=None),\n",
       " MoleculeDatapoint(mol=<rdkit.Chem.rdchem.Mol object at 0x719c54e14f20>, y=[55.0], weight=1.0, gt_mask=None, lt_mask=None, x_d=None, x_phase=None, name='rmg_rxn_15714_r2h', V_f=None, E_f=None, V_d=None),\n",
       " MoleculeDatapoint(mol=<rdkit.Chem.rdchem.Mol object at 0x719c54e157e0>, y=[92.0], weight=1.0, gt_mask=None, lt_mask=None, x_d=None, x_phase=None, name='rxn_1200_r2h', V_f=None, E_f=None, V_d=None),\n",
       " MoleculeDatapoint(mol=<rdkit.Chem.rdchem.Mol object at 0x719c54e165e0>, y=[97.0], weight=1.0, gt_mask=None, lt_mask=None, x_d=None, x_phase=None, name='rmg_rxn_15636_r2h', V_f=None, E_f=None, V_d=None),\n",
       " MoleculeDatapoint(mol=<rdkit.Chem.rdchem.Mol object at 0x719c54e16ea0>, y=[17.0], weight=1.0, gt_mask=None, lt_mask=None, x_d=None, x_phase=None, name='rxn_377_r2h', V_f=None, E_f=None, V_d=None),\n",
       " MoleculeDatapoint(mol=<rdkit.Chem.rdchem.Mol object at 0x719c54e17760>, y=[54.15999999997439], weight=1.0, gt_mask=None, lt_mask=None, x_d=None, x_phase=None, name='rxn_909_r2h', V_f=None, E_f=None, V_d=None),\n",
       " MoleculeDatapoint(mol=<rdkit.Chem.rdchem.Mol object at 0x719c54e1dee0>, y=[20.0], weight=1.0, gt_mask=None, lt_mask=None, x_d=None, x_phase=None, name='rxn_1889_r2h', V_f=None, E_f=None, V_d=None),\n",
       " MoleculeDatapoint(mol=<rdkit.Chem.rdchem.Mol object at 0x719c54e1e0a0>, y=[67.0], weight=1.0, gt_mask=None, lt_mask=None, x_d=None, x_phase=None, name='rmg_rxn_357_r2h', V_f=None, E_f=None, V_d=None),\n",
       " MoleculeDatapoint(mol=<rdkit.Chem.rdchem.Mol object at 0x719c54e1c5f0>, y=[80.0], weight=1.0, gt_mask=None, lt_mask=None, x_d=None, x_phase=None, name='rmg_rxn_29_r2h', V_f=None, E_f=None, V_d=None),\n",
       " MoleculeDatapoint(mol=<rdkit.Chem.rdchem.Mol object at 0x719c54e1ccf0>, y=[83.0], weight=1.0, gt_mask=None, lt_mask=None, x_d=None, x_phase=None, name='rxn_1431_r2h', V_f=None, E_f=None, V_d=None),\n",
       " MoleculeDatapoint(mol=<rdkit.Chem.rdchem.Mol object at 0x719c54e1d620>, y=[69.0], weight=1.0, gt_mask=None, lt_mask=None, x_d=None, x_phase=None, name='rmg_rxn_668_r2h', V_f=None, E_f=None, V_d=None),\n",
       " MoleculeDatapoint(mol=<rdkit.Chem.rdchem.Mol object at 0x719c54e1dd20>, y=[101.0], weight=1.0, gt_mask=None, lt_mask=None, x_d=None, x_phase=None, name='rxn_1179_r2h', V_f=None, E_f=None, V_d=None),\n",
       " MoleculeDatapoint(mol=<rdkit.Chem.rdchem.Mol object at 0x719c54e1e7a0>, y=[68.0], weight=1.0, gt_mask=None, lt_mask=None, x_d=None, x_phase=None, name='rxn_324_r2h', V_f=None, E_f=None, V_d=None),\n",
       " MoleculeDatapoint(mol=<rdkit.Chem.rdchem.Mol object at 0x719c54e1f220>, y=[102.0], weight=1.0, gt_mask=None, lt_mask=None, x_d=None, x_phase=None, name='rxn_1156_r2h', V_f=None, E_f=None, V_d=None),\n",
       " MoleculeDatapoint(mol=<rdkit.Chem.rdchem.Mol object at 0x719c54e1f920>, y=[60.0], weight=1.0, gt_mask=None, lt_mask=None, x_d=None, x_phase=None, name='rxn_1930_r2h', V_f=None, E_f=None, V_d=None),\n",
       " MoleculeDatapoint(mol=<rdkit.Chem.rdchem.Mol object at 0x719c54e25230>, y=[53.0], weight=1.0, gt_mask=None, lt_mask=None, x_d=None, x_phase=None, name='rmg_rxn_16648_r2h', V_f=None, E_f=None, V_d=None),\n",
       " MoleculeDatapoint(mol=<rdkit.Chem.rdchem.Mol object at 0x719c54e24040>, y=[49.0], weight=1.0, gt_mask=None, lt_mask=None, x_d=None, x_phase=None, name='rmg_rxn_197_r2h', V_f=None, E_f=None, V_d=None),\n",
       " MoleculeDatapoint(mol=<rdkit.Chem.rdchem.Mol object at 0x719c54e24970>, y=[46.0], weight=1.0, gt_mask=None, lt_mask=None, x_d=None, x_phase=None, name='rmg_rxn_340_r2h', V_f=None, E_f=None, V_d=None),\n",
       " MoleculeDatapoint(mol=<rdkit.Chem.rdchem.Mol object at 0x719c54e25070>, y=[83.0], weight=1.0, gt_mask=None, lt_mask=None, x_d=None, x_phase=None, name='rxn_1881_r2h', V_f=None, E_f=None, V_d=None),\n",
       " MoleculeDatapoint(mol=<rdkit.Chem.rdchem.Mol object at 0x719c54e25af0>, y=[61.0], weight=1.0, gt_mask=None, lt_mask=None, x_d=None, x_phase=None, name='rmg_rxn_15613_r2h', V_f=None, E_f=None, V_d=None),\n",
       " MoleculeDatapoint(mol=<rdkit.Chem.rdchem.Mol object at 0x719c54e261f0>, y=[78.0], weight=1.0, gt_mask=None, lt_mask=None, x_d=None, x_phase=None, name='rxn_1462_r2h', V_f=None, E_f=None, V_d=None),\n",
       " MoleculeDatapoint(mol=<rdkit.Chem.rdchem.Mol object at 0x719c54e268f0>, y=[189.0], weight=1.0, gt_mask=None, lt_mask=None, x_d=None, x_phase=None, name='rmg_rxn_356_r2h', V_f=None, E_f=None, V_d=None),\n",
       " MoleculeDatapoint(mol=<rdkit.Chem.rdchem.Mol object at 0x719c54e26ff0>, y=[41.0], weight=1.0, gt_mask=None, lt_mask=None, x_d=None, x_phase=None, name='rmg_rxn_56_r2h', V_f=None, E_f=None, V_d=None),\n",
       " MoleculeDatapoint(mol=<rdkit.Chem.rdchem.Mol object at 0x719c54e276f0>, y=[113.0], weight=1.0, gt_mask=None, lt_mask=None, x_d=None, x_phase=None, name='rxn_1410_r2h', V_f=None, E_f=None, V_d=None),\n",
       " MoleculeDatapoint(mol=<rdkit.Chem.rdchem.Mol object at 0x719c54e30ac0>, y=[65.0], weight=1.0, gt_mask=None, lt_mask=None, x_d=None, x_phase=None, name='rxn_1964_r2h', V_f=None, E_f=None, V_d=None),\n",
       " MoleculeDatapoint(mol=<rdkit.Chem.rdchem.Mol object at 0x719c54e30580>, y=[47.0], weight=1.0, gt_mask=None, lt_mask=None, x_d=None, x_phase=None, name='rmg_rxn_97_r2h', V_f=None, E_f=None, V_d=None),\n",
       " MoleculeDatapoint(mol=<rdkit.Chem.rdchem.Mol object at 0x719c54e30e40>, y=[40.0], weight=1.0, gt_mask=None, lt_mask=None, x_d=None, x_phase=None, name='rxn_1946_r2h', V_f=None, E_f=None, V_d=None),\n",
       " MoleculeDatapoint(mol=<rdkit.Chem.rdchem.Mol object at 0x719c54e314d0>, y=[55.0], weight=1.0, gt_mask=None, lt_mask=None, x_d=None, x_phase=None, name='rmg_rxn_336_r2h', V_f=None, E_f=None, V_d=None),\n",
       " MoleculeDatapoint(mol=<rdkit.Chem.rdchem.Mol object at 0x719c54e31bd0>, y=[41.0], weight=1.0, gt_mask=None, lt_mask=None, x_d=None, x_phase=None, name='rxn_1485_r2h', V_f=None, E_f=None, V_d=None),\n",
       " MoleculeDatapoint(mol=<rdkit.Chem.rdchem.Mol object at 0x719c54e322d0>, y=[32.0], weight=1.0, gt_mask=None, lt_mask=None, x_d=None, x_phase=None, name='rmg_rxn_219_r2h', V_f=None, E_f=None, V_d=None),\n",
       " MoleculeDatapoint(mol=<rdkit.Chem.rdchem.Mol object at 0x719c54e329d0>, y=[63.0], weight=1.0, gt_mask=None, lt_mask=None, x_d=None, x_phase=None, name='rmg_rxn_98_r2h', V_f=None, E_f=None, V_d=None),\n",
       " MoleculeDatapoint(mol=<rdkit.Chem.rdchem.Mol object at 0x719c54e330d0>, y=[67.0], weight=1.0, gt_mask=None, lt_mask=None, x_d=None, x_phase=None, name='rxn_483_r2h', V_f=None, E_f=None, V_d=None),\n",
       " MoleculeDatapoint(mol=<rdkit.Chem.rdchem.Mol object at 0x719c54e337d0>, y=[75.0], weight=1.0, gt_mask=None, lt_mask=None, x_d=None, x_phase=None, name='rmg_rxn_15407_r2h', V_f=None, E_f=None, V_d=None),\n",
       " MoleculeDatapoint(mol=<rdkit.Chem.rdchem.Mol object at 0x719c54e33ed0>, y=[17.75], weight=1.0, gt_mask=None, lt_mask=None, x_d=None, x_phase=None, name='rxn_791_r2h', V_f=None, E_f=None, V_d=None),\n",
       " MoleculeDatapoint(mol=<rdkit.Chem.rdchem.Mol object at 0x719c54e38120>, y=[47.0], weight=1.0, gt_mask=None, lt_mask=None, x_d=None, x_phase=None, name='rxn_1444_r2h', V_f=None, E_f=None, V_d=None),\n",
       " MoleculeDatapoint(mol=<rdkit.Chem.rdchem.Mol object at 0x719c54e38ba0>, y=[83.0], weight=1.0, gt_mask=None, lt_mask=None, x_d=None, x_phase=None, name='rmg_rxn_1481_r2h', V_f=None, E_f=None, V_d=None),\n",
       " MoleculeDatapoint(mol=<rdkit.Chem.rdchem.Mol object at 0x719c54e392a0>, y=[84.1600000000326], weight=1.0, gt_mask=None, lt_mask=None, x_d=None, x_phase=None, name='rxn_1433_r2h', V_f=None, E_f=None, V_d=None),\n",
       " MoleculeDatapoint(mol=<rdkit.Chem.rdchem.Mol object at 0x719c54e399a0>, y=[110.0], weight=1.0, gt_mask=None, lt_mask=None, x_d=None, x_phase=None, name='rxn_1055_r2h', V_f=None, E_f=None, V_d=None),\n",
       " MoleculeDatapoint(mol=<rdkit.Chem.rdchem.Mol object at 0x719c54e3a110>, y=[54.0], weight=1.0, gt_mask=None, lt_mask=None, x_d=None, x_phase=None, name='rxn_601_r2h', V_f=None, E_f=None, V_d=None),\n",
       " MoleculeDatapoint(mol=<rdkit.Chem.rdchem.Mol object at 0x719c54e3a9d0>, y=[63.0], weight=1.0, gt_mask=None, lt_mask=None, x_d=None, x_phase=None, name='rmg_rxn_58_r2h', V_f=None, E_f=None, V_d=None),\n",
       " MoleculeDatapoint(mol=<rdkit.Chem.rdchem.Mol object at 0x719c54e3b0d0>, y=[71.0], weight=1.0, gt_mask=None, lt_mask=None, x_d=None, x_phase=None, name='rxn_363_r2h', V_f=None, E_f=None, V_d=None),\n",
       " MoleculeDatapoint(mol=<rdkit.Chem.rdchem.Mol object at 0x719c54e3b760>, y=[-10.0], weight=1.0, gt_mask=None, lt_mask=None, x_d=None, x_phase=None, name='rxn_155_r2h', V_f=None, E_f=None, V_d=None),\n",
       " MoleculeDatapoint(mol=<rdkit.Chem.rdchem.Mol object at 0x719c54e3be60>, y=[83.0], weight=1.0, gt_mask=None, lt_mask=None, x_d=None, x_phase=None, name='rmg_rxn_153_r2h', V_f=None, E_f=None, V_d=None),\n",
       " MoleculeDatapoint(mol=<rdkit.Chem.rdchem.Mol object at 0x719c54e40430>, y=[97.0], weight=1.0, gt_mask=None, lt_mask=None, x_d=None, x_phase=None, name='rxn_3164_r2h', V_f=None, E_f=None, V_d=None),\n",
       " MoleculeDatapoint(mol=<rdkit.Chem.rdchem.Mol object at 0x719c54e40b30>, y=[96.0], weight=1.0, gt_mask=None, lt_mask=None, x_d=None, x_phase=None, name='rxn_1175_r2h', V_f=None, E_f=None, V_d=None),\n",
       " MoleculeDatapoint(mol=<rdkit.Chem.rdchem.Mol object at 0x719c54e41230>, y=[61.0], weight=1.0, gt_mask=None, lt_mask=None, x_d=None, x_phase=None, name='rxn_1006_r2h', V_f=None, E_f=None, V_d=None),\n",
       " MoleculeDatapoint(mol=<rdkit.Chem.rdchem.Mol object at 0x719c54e41930>, y=[66.0], weight=1.0, gt_mask=None, lt_mask=None, x_d=None, x_phase=None, name='rmg_rxn_629_r2h', V_f=None, E_f=None, V_d=None),\n",
       " MoleculeDatapoint(mol=<rdkit.Chem.rdchem.Mol object at 0x719c54e42030>, y=[112.0], weight=1.0, gt_mask=None, lt_mask=None, x_d=None, x_phase=None, name='rxn_1192_r2h', V_f=None, E_f=None, V_d=None),\n",
       " MoleculeDatapoint(mol=<rdkit.Chem.rdchem.Mol object at 0x719c54e427a0>, y=[57.0], weight=1.0, gt_mask=None, lt_mask=None, x_d=None, x_phase=None, name='rxn_1238_r2h', V_f=None, E_f=None, V_d=None),\n",
       " MoleculeDatapoint(mol=<rdkit.Chem.rdchem.Mol object at 0x719c54e42ea0>, y=[61.0], weight=1.0, gt_mask=None, lt_mask=None, x_d=None, x_phase=None, name='rmg_rxn_65_r2h', V_f=None, E_f=None, V_d=None),\n",
       " MoleculeDatapoint(mol=<rdkit.Chem.rdchem.Mol object at 0x719c54e435a0>, y=[13.0], weight=1.0, gt_mask=None, lt_mask=None, x_d=None, x_phase=None, name='rmg_rxn_16470_r2h', V_f=None, E_f=None, V_d=None),\n",
       " MoleculeDatapoint(mol=<rdkit.Chem.rdchem.Mol object at 0x719c54e43e60>, y=[29.0], weight=1.0, gt_mask=None, lt_mask=None, x_d=None, x_phase=None, name='rxn_1491_r2h', V_f=None, E_f=None, V_d=None),\n",
       " MoleculeDatapoint(mol=<rdkit.Chem.rdchem.Mol object at 0x719c54e48430>, y=[67.0], weight=1.0, gt_mask=None, lt_mask=None, x_d=None, x_phase=None, name='rxn_1802_r2h', V_f=None, E_f=None, V_d=None),\n",
       " MoleculeDatapoint(mol=<rdkit.Chem.rdchem.Mol object at 0x719c54e48e40>, y=[107.0], weight=1.0, gt_mask=None, lt_mask=None, x_d=None, x_phase=None, name='rmg_rxn_1565_r2h', V_f=None, E_f=None, V_d=None),\n",
       " MoleculeDatapoint(mol=<rdkit.Chem.rdchem.Mol object at 0x719c54e49540>, y=[60.0], weight=1.0, gt_mask=None, lt_mask=None, x_d=None, x_phase=None, name='rmg_rxn_16502_r2h', V_f=None, E_f=None, V_d=None),\n",
       " MoleculeDatapoint(mol=<rdkit.Chem.rdchem.Mol object at 0x719c54e49c40>, y=[20.0], weight=1.0, gt_mask=None, lt_mask=None, x_d=None, x_phase=None, name='rxn_1938_r2h', V_f=None, E_f=None, V_d=None),\n",
       " MoleculeDatapoint(mol=<rdkit.Chem.rdchem.Mol object at 0x719c54e4a340>, y=[58.0], weight=1.0, gt_mask=None, lt_mask=None, x_d=None, x_phase=None, name='rxn_1372_r2h', V_f=None, E_f=None, V_d=None),\n",
       " MoleculeDatapoint(mol=<rdkit.Chem.rdchem.Mol object at 0x719c54e4aa40>, y=[5.0], weight=1.0, gt_mask=None, lt_mask=None, x_d=None, x_phase=None, name='rxn_697_r2h', V_f=None, E_f=None, V_d=None),\n",
       " MoleculeDatapoint(mol=<rdkit.Chem.rdchem.Mol object at 0x719c54e4b140>, y=[79.0], weight=1.0, gt_mask=None, lt_mask=None, x_d=None, x_phase=None, name='rxn_2006_r2h', V_f=None, E_f=None, V_d=None),\n",
       " MoleculeDatapoint(mol=<rdkit.Chem.rdchem.Mol object at 0x719c54e4b840>, y=[5.0], weight=1.0, gt_mask=None, lt_mask=None, x_d=None, x_phase=None, name='rxn_1615_r2h', V_f=None, E_f=None, V_d=None),\n",
       " MoleculeDatapoint(mol=<rdkit.Chem.rdchem.Mol object at 0x719c54e4bf40>, y=[39.0], weight=1.0, gt_mask=None, lt_mask=None, x_d=None, x_phase=None, name='rxn_1819_r2h', V_f=None, E_f=None, V_d=None),\n",
       " MoleculeDatapoint(mol=<rdkit.Chem.rdchem.Mol object at 0x719c54e506d0>, y=[38.0], weight=1.0, gt_mask=None, lt_mask=None, x_d=None, x_phase=None, name='rxn_1464_r2h', V_f=None, E_f=None, V_d=None),\n",
       " MoleculeDatapoint(mol=<rdkit.Chem.rdchem.Mol object at 0x719c54e50e40>, y=[59.0], weight=1.0, gt_mask=None, lt_mask=None, x_d=None, x_phase=None, name='rmg_rxn_240_r2h', V_f=None, E_f=None, V_d=None),\n",
       " MoleculeDatapoint(mol=<rdkit.Chem.rdchem.Mol object at 0x719c54e51540>, y=[98.0], weight=1.0, gt_mask=None, lt_mask=None, x_d=None, x_phase=None, name='rxn_3158_r2h', V_f=None, E_f=None, V_d=None),\n",
       " MoleculeDatapoint(mol=<rdkit.Chem.rdchem.Mol object at 0x719c54e51c40>, y=[100.0], weight=1.0, gt_mask=None, lt_mask=None, x_d=None, x_phase=None, name='rxn_1392_r2h', V_f=None, E_f=None, V_d=None),\n",
       " MoleculeDatapoint(mol=<rdkit.Chem.rdchem.Mol object at 0x719c54e522d0>, y=[54.0], weight=1.0, gt_mask=None, lt_mask=None, x_d=None, x_phase=None, name='rxn_1787_r2h', V_f=None, E_f=None, V_d=None),\n",
       " MoleculeDatapoint(mol=<rdkit.Chem.rdchem.Mol object at 0x719c54e529d0>, y=[36.0], weight=1.0, gt_mask=None, lt_mask=None, x_d=None, x_phase=None, name='rxn_299_r2h', V_f=None, E_f=None, V_d=None),\n",
       " MoleculeDatapoint(mol=<rdkit.Chem.rdchem.Mol object at 0x719c54e530d0>, y=[17.0], weight=1.0, gt_mask=None, lt_mask=None, x_d=None, x_phase=None, name='rxn_3118_r2h', V_f=None, E_f=None, V_d=None),\n",
       " MoleculeDatapoint(mol=<rdkit.Chem.rdchem.Mol object at 0x719c54e537d0>, y=[59.0], weight=1.0, gt_mask=None, lt_mask=None, x_d=None, x_phase=None, name='rxn_1282_r2h', V_f=None, E_f=None, V_d=None),\n",
       " MoleculeDatapoint(mol=<rdkit.Chem.rdchem.Mol object at 0x719c54e53ed0>, y=[41.0], weight=1.0, gt_mask=None, lt_mask=None, x_d=None, x_phase=None, name='rxn_1631_r2h', V_f=None, E_f=None, V_d=None),\n",
       " MoleculeDatapoint(mol=<rdkit.Chem.rdchem.Mol object at 0x719c54e5c2e0>, y=[51.0], weight=1.0, gt_mask=None, lt_mask=None, x_d=None, x_phase=None, name='rmg_rxn_15684_r2h', V_f=None, E_f=None, V_d=None),\n",
       " MoleculeDatapoint(mol=<rdkit.Chem.rdchem.Mol object at 0x719c54e5cba0>, y=[61.0], weight=1.0, gt_mask=None, lt_mask=None, x_d=None, x_phase=None, name='rmg_rxn_1494_r2h', V_f=None, E_f=None, V_d=None),\n",
       " MoleculeDatapoint(mol=<rdkit.Chem.rdchem.Mol object at 0x719c54e5cf20>, y=[42.0], weight=1.0, gt_mask=None, lt_mask=None, x_d=None, x_phase=None, name='rxn_1114_r2h', V_f=None, E_f=None, V_d=None),\n",
       " MoleculeDatapoint(mol=<rdkit.Chem.rdchem.Mol object at 0x719c54e5d7e0>, y=[61.0], weight=1.0, gt_mask=None, lt_mask=None, x_d=None, x_phase=None, name='rmg_rxn_669_r2h', V_f=None, E_f=None, V_d=None),\n",
       " MoleculeDatapoint(mol=<rdkit.Chem.rdchem.Mol object at 0x719c54e5dee0>, y=[76.0], weight=1.0, gt_mask=None, lt_mask=None, x_d=None, x_phase=None, name='rmg_rxn_16529_r2h', V_f=None, E_f=None, V_d=None),\n",
       " MoleculeDatapoint(mol=<rdkit.Chem.rdchem.Mol object at 0x719c54e5e5e0>, y=[37.0], weight=1.0, gt_mask=None, lt_mask=None, x_d=None, x_phase=None, name='rmg_rxn_15710_r2h', V_f=None, E_f=None, V_d=None),\n",
       " MoleculeDatapoint(mol=<rdkit.Chem.rdchem.Mol object at 0x719c54e5ece0>, y=[74.0], weight=1.0, gt_mask=None, lt_mask=None, x_d=None, x_phase=None, name='rxn_249_r2h', V_f=None, E_f=None, V_d=None),\n",
       " MoleculeDatapoint(mol=<rdkit.Chem.rdchem.Mol object at 0x719c54e5f3e0>, y=[55.0], weight=1.0, gt_mask=None, lt_mask=None, x_d=None, x_phase=None, name='rmg_rxn_15516_r2h', V_f=None, E_f=None, V_d=None),\n",
       " MoleculeDatapoint(mol=<rdkit.Chem.rdchem.Mol object at 0x719c54e5fca0>, y=[21.0], weight=1.0, gt_mask=None, lt_mask=None, x_d=None, x_phase=None, name='rxn_390_r2h', V_f=None, E_f=None, V_d=None),\n",
       " MoleculeDatapoint(mol=<rdkit.Chem.rdchem.Mol object at 0x719c54e64cf0>, y=[15.0], weight=1.0, gt_mask=None, lt_mask=None, x_d=None, x_phase=None, name='rxn_1920_r2h', V_f=None, E_f=None, V_d=None),\n",
       " MoleculeDatapoint(mol=<rdkit.Chem.rdchem.Mol object at 0x719c54e64430>, y=[56.0], weight=1.0, gt_mask=None, lt_mask=None, x_d=None, x_phase=None, name='rxn_1669_r2h', V_f=None, E_f=None, V_d=None),\n",
       " MoleculeDatapoint(mol=<rdkit.Chem.rdchem.Mol object at 0x719c54e64b30>, y=[52.0], weight=1.0, gt_mask=None, lt_mask=None, x_d=None, x_phase=None, name='rxn_1439_r2h', V_f=None, E_f=None, V_d=None),\n",
       " MoleculeDatapoint(mol=<rdkit.Chem.rdchem.Mol object at 0x719c54e653f0>, y=[3.0], weight=1.0, gt_mask=None, lt_mask=None, x_d=None, x_phase=None, name='rxn_1607_r2h', V_f=None, E_f=None, V_d=None),\n",
       " MoleculeDatapoint(mol=<rdkit.Chem.rdchem.Mol object at 0x719c54e65af0>, y=[117.0], weight=1.0, gt_mask=None, lt_mask=None, x_d=None, x_phase=None, name='rxn_1996_r2h', V_f=None, E_f=None, V_d=None),\n",
       " MoleculeDatapoint(mol=<rdkit.Chem.rdchem.Mol object at 0x719c54e661f0>, y=[99.0], weight=1.0, gt_mask=None, lt_mask=None, x_d=None, x_phase=None, name='rmg_rxn_15580_r2h', V_f=None, E_f=None, V_d=None),\n",
       " MoleculeDatapoint(mol=<rdkit.Chem.rdchem.Mol object at 0x719c54e66c70>, y=[0.0], weight=1.0, gt_mask=None, lt_mask=None, x_d=None, x_phase=None, name='rxn_342_r2h', V_f=None, E_f=None, V_d=None),\n",
       " MoleculeDatapoint(mol=<rdkit.Chem.rdchem.Mol object at 0x719c54e67370>, y=[55.0], weight=1.0, gt_mask=None, lt_mask=None, x_d=None, x_phase=None, name='rxn_1007_r2h', V_f=None, E_f=None, V_d=None),\n",
       " MoleculeDatapoint(mol=<rdkit.Chem.rdchem.Mol object at 0x719c54e67c30>, y=[18.0], weight=1.0, gt_mask=None, lt_mask=None, x_d=None, x_phase=None, name='rxn_874_r2h', V_f=None, E_f=None, V_d=None),\n",
       " MoleculeDatapoint(mol=<rdkit.Chem.rdchem.Mol object at 0x719c54e6c200>, y=[86.0], weight=1.0, gt_mask=None, lt_mask=None, x_d=None, x_phase=None, name='rmg_rxn_15728_r2h', V_f=None, E_f=None, V_d=None),\n",
       " MoleculeDatapoint(mol=<rdkit.Chem.rdchem.Mol object at 0x719c54e6cac0>, y=[81.0], weight=1.0, gt_mask=None, lt_mask=None, x_d=None, x_phase=None, name='rxn_1304_r2h', V_f=None, E_f=None, V_d=None),\n",
       " MoleculeDatapoint(mol=<rdkit.Chem.rdchem.Mol object at 0x719c54e6d1c0>, y=[19.0], weight=1.0, gt_mask=None, lt_mask=None, x_d=None, x_phase=None, name='rxn_851_r2h', V_f=None, E_f=None, V_d=None),\n",
       " MoleculeDatapoint(mol=<rdkit.Chem.rdchem.Mol object at 0x719c54e6d8c0>, y=[56.15999999997439], weight=1.0, gt_mask=None, lt_mask=None, x_d=None, x_phase=None, name='rxn_113_r2h', V_f=None, E_f=None, V_d=None),\n",
       " MoleculeDatapoint(mol=<rdkit.Chem.rdchem.Mol object at 0x719c54e6e030>, y=[57.0], weight=1.0, gt_mask=None, lt_mask=None, x_d=None, x_phase=None, name='rxn_1816_r2h', V_f=None, E_f=None, V_d=None),\n",
       " MoleculeDatapoint(mol=<rdkit.Chem.rdchem.Mol object at 0x719c54e6e7a0>, y=[20.0], weight=1.0, gt_mask=None, lt_mask=None, x_d=None, x_phase=None, name='rxn_1888_r2h', V_f=None, E_f=None, V_d=None),\n",
       " MoleculeDatapoint(mol=<rdkit.Chem.rdchem.Mol object at 0x719c54e6ee30>, y=[11.0], weight=1.0, gt_mask=None, lt_mask=None, x_d=None, x_phase=None, name='rxn_1626_r2h', V_f=None, E_f=None, V_d=None),\n",
       " MoleculeDatapoint(mol=<rdkit.Chem.rdchem.Mol object at 0x719c54e6f4c0>, y=[47.0], weight=1.0, gt_mask=None, lt_mask=None, x_d=None, x_phase=None, name='rxn_1245_r2h', V_f=None, E_f=None, V_d=None),\n",
       " MoleculeDatapoint(mol=<rdkit.Chem.rdchem.Mol object at 0x719c54e6fbc0>, y=[74.0], weight=1.0, gt_mask=None, lt_mask=None, x_d=None, x_phase=None, name='rmg_rxn_15395_r2h', V_f=None, E_f=None, V_d=None),\n",
       " MoleculeDatapoint(mol=<rdkit.Chem.rdchem.Mol object at 0x719c54e74190>, y=[157.0], weight=1.0, gt_mask=None, lt_mask=None, x_d=None, x_phase=None, name='rmg_rxn_1129_r2h', V_f=None, E_f=None, V_d=None),\n",
       " MoleculeDatapoint(mol=<rdkit.Chem.rdchem.Mol object at 0x719c54e74a50>, y=[53.0], weight=1.0, gt_mask=None, lt_mask=None, x_d=None, x_phase=None, name='rxn_2004_r2h', V_f=None, E_f=None, V_d=None),\n",
       " MoleculeDatapoint(mol=<rdkit.Chem.rdchem.Mol object at 0x719c54e75150>, y=[97.0], weight=1.0, gt_mask=None, lt_mask=None, x_d=None, x_phase=None, name='rxn_3161_r2h', V_f=None, E_f=None, V_d=None),\n",
       " MoleculeDatapoint(mol=<rdkit.Chem.rdchem.Mol object at 0x719c54e75850>, y=[61.0], weight=1.0, gt_mask=None, lt_mask=None, x_d=None, x_phase=None, name='rmg_rxn_179_r2h', V_f=None, E_f=None, V_d=None),\n",
       " MoleculeDatapoint(mol=<rdkit.Chem.rdchem.Mol object at 0x719c54e75f50>, y=[33.0], weight=1.0, gt_mask=None, lt_mask=None, x_d=None, x_phase=None, name='rmg_rxn_301_r2h', V_f=None, E_f=None, V_d=None),\n",
       " MoleculeDatapoint(mol=<rdkit.Chem.rdchem.Mol object at 0x719c54e76650>, y=[38.0], weight=1.0, gt_mask=None, lt_mask=None, x_d=None, x_phase=None, name='rxn_896_r2h', V_f=None, E_f=None, V_d=None),\n",
       " MoleculeDatapoint(mol=<rdkit.Chem.rdchem.Mol object at 0x719c54e76d50>, y=[46.0], weight=1.0, gt_mask=None, lt_mask=None, x_d=None, x_phase=None, name='rmg_rxn_94_r2h', V_f=None, E_f=None, V_d=None),\n",
       " MoleculeDatapoint(mol=<rdkit.Chem.rdchem.Mol object at 0x719c54e77450>, y=[147.0], weight=1.0, gt_mask=None, lt_mask=None, x_d=None, x_phase=None, name='rxn_1143_r2h', V_f=None, E_f=None, V_d=None),\n",
       " MoleculeDatapoint(mol=<rdkit.Chem.rdchem.Mol object at 0x719c54e77bc0>, y=[25.0], weight=1.0, gt_mask=None, lt_mask=None, x_d=None, x_phase=None, name='rxn_1876_r2h', V_f=None, E_f=None, V_d=None),\n",
       " MoleculeDatapoint(mol=<rdkit.Chem.rdchem.Mol object at 0x719c54e78190>, y=[70.0], weight=1.0, gt_mask=None, lt_mask=None, x_d=None, x_phase=None, name='rxn_1182_r2h', V_f=None, E_f=None, V_d=None),\n",
       " MoleculeDatapoint(mol=<rdkit.Chem.rdchem.Mol object at 0x719c54e78890>, y=[30.0], weight=1.0, gt_mask=None, lt_mask=None, x_d=None, x_phase=None, name='rxn_1894_r2h', V_f=None, E_f=None, V_d=None),\n",
       " MoleculeDatapoint(mol=<rdkit.Chem.rdchem.Mol object at 0x719c54e78f20>, y=[115.0], weight=1.0, gt_mask=None, lt_mask=None, x_d=None, x_phase=None, name='rmg_rxn_15545_r2h', V_f=None, E_f=None, V_d=None),\n",
       " MoleculeDatapoint(mol=<rdkit.Chem.rdchem.Mol object at 0x719c54e797e0>, y=[100.0], weight=1.0, gt_mask=None, lt_mask=None, x_d=None, x_phase=None, name='rmg_rxn_46_r2h', V_f=None, E_f=None, V_d=None),\n",
       " MoleculeDatapoint(mol=<rdkit.Chem.rdchem.Mol object at 0x719c54e79ee0>, y=[38.0], weight=1.0, gt_mask=None, lt_mask=None, x_d=None, x_phase=None, name='rxn_57_r2h', V_f=None, E_f=None, V_d=None),\n",
       " MoleculeDatapoint(mol=<rdkit.Chem.rdchem.Mol object at 0x719c54e7a7a0>, y=[62.0], weight=1.0, gt_mask=None, lt_mask=None, x_d=None, x_phase=None, name='rmg_rxn_653_r2h', V_f=None, E_f=None, V_d=None),\n",
       " MoleculeDatapoint(mol=<rdkit.Chem.rdchem.Mol object at 0x719c54e7aea0>, y=[78.0], weight=1.0, gt_mask=None, lt_mask=None, x_d=None, x_phase=None, name='rxn_1387_r2h', V_f=None, E_f=None, V_d=None),\n",
       " MoleculeDatapoint(mol=<rdkit.Chem.rdchem.Mol object at 0x719c54e7b220>, y=[67.0], weight=1.0, gt_mask=None, lt_mask=None, x_d=None, x_phase=None, name='rmg_rxn_345_r2h', V_f=None, E_f=None, V_d=None),\n",
       " MoleculeDatapoint(mol=<rdkit.Chem.rdchem.Mol object at 0x719c54e7bae0>, y=[21.0], weight=1.0, gt_mask=None, lt_mask=None, x_d=None, x_phase=None, name='rxn_1625_r2h', V_f=None, E_f=None, V_d=None),\n",
       " MoleculeDatapoint(mol=<rdkit.Chem.rdchem.Mol object at 0x719c54e84270>, y=[72.0], weight=1.0, gt_mask=None, lt_mask=None, x_d=None, x_phase=None, name='rmg_rxn_16735_r2h', V_f=None, E_f=None, V_d=None),\n",
       " MoleculeDatapoint(mol=<rdkit.Chem.rdchem.Mol object at 0x719c54e84970>, y=[68.0], weight=1.0, gt_mask=None, lt_mask=None, x_d=None, x_phase=None, name='rxn_555_r2h', V_f=None, E_f=None, V_d=None),\n",
       " MoleculeDatapoint(mol=<rdkit.Chem.rdchem.Mol object at 0x719c54e85070>, y=[82.0], weight=1.0, gt_mask=None, lt_mask=None, x_d=None, x_phase=None, name='rxn_1205_r2h', V_f=None, E_f=None, V_d=None),\n",
       " MoleculeDatapoint(mol=<rdkit.Chem.rdchem.Mol object at 0x719c54e85770>, y=[35.0], weight=1.0, gt_mask=None, lt_mask=None, x_d=None, x_phase=None, name='rxn_1328_r2h', V_f=None, E_f=None, V_d=None),\n",
       " MoleculeDatapoint(mol=<rdkit.Chem.rdchem.Mol object at 0x719c54e85e70>, y=[72.0], weight=1.0, gt_mask=None, lt_mask=None, x_d=None, x_phase=None, name='rmg_rxn_525_r2h', V_f=None, E_f=None, V_d=None),\n",
       " MoleculeDatapoint(mol=<rdkit.Chem.rdchem.Mol object at 0x719c54e86570>, y=[-2.0], weight=1.0, gt_mask=None, lt_mask=None, x_d=None, x_phase=None, name='rxn_149_r2h', V_f=None, E_f=None, V_d=None),\n",
       " MoleculeDatapoint(mol=<rdkit.Chem.rdchem.Mol object at 0x719c54e86c70>, y=[29.75], weight=1.0, gt_mask=None, lt_mask=None, x_d=None, x_phase=None, name='rxn_816_r2h', V_f=None, E_f=None, V_d=None),\n",
       " MoleculeDatapoint(mol=<rdkit.Chem.rdchem.Mol object at 0x719c54e87370>, y=[87.0], weight=1.0, gt_mask=None, lt_mask=None, x_d=None, x_phase=None, name='rmg_rxn_15586_r2h', V_f=None, E_f=None, V_d=None),\n",
       " MoleculeDatapoint(mol=<rdkit.Chem.rdchem.Mol object at 0x719c54e87a70>, y=[48.0], weight=1.0, gt_mask=None, lt_mask=None, x_d=None, x_phase=None, name='rxn_328_r2h', V_f=None, E_f=None, V_d=None),\n",
       " MoleculeDatapoint(mol=<rdkit.Chem.rdchem.Mol object at 0x719c54e8c200>, y=[48.0], weight=1.0, gt_mask=None, lt_mask=None, x_d=None, x_phase=None, name='rmg_rxn_15584_r2h', V_f=None, E_f=None, V_d=None),\n",
       " MoleculeDatapoint(mol=<rdkit.Chem.rdchem.Mol object at 0x719c54e8c900>, y=[112.15999999991618], weight=1.0, gt_mask=None, lt_mask=None, x_d=None, x_phase=None, name='rxn_1950_r2h', V_f=None, E_f=None, V_d=None),\n",
       " MoleculeDatapoint(mol=<rdkit.Chem.rdchem.Mol object at 0x719c54e8d000>, y=[54.0], weight=1.0, gt_mask=None, lt_mask=None, x_d=None, x_phase=None, name='rxn_1031_r2h', V_f=None, E_f=None, V_d=None),\n",
       " MoleculeDatapoint(mol=<rdkit.Chem.rdchem.Mol object at 0x719c54e8d700>, y=[47.0], weight=1.0, gt_mask=None, lt_mask=None, x_d=None, x_phase=None, name='rxn_1804_r2h', V_f=None, E_f=None, V_d=None),\n",
       " MoleculeDatapoint(mol=<rdkit.Chem.rdchem.Mol object at 0x719c54e8de00>, y=[45.0], weight=1.0, gt_mask=None, lt_mask=None, x_d=None, x_phase=None, name='rmg_rxn_16755_r2h', V_f=None, E_f=None, V_d=None),\n",
       " MoleculeDatapoint(mol=<rdkit.Chem.rdchem.Mol object at 0x719c54e8e500>, y=[1.0], weight=1.0, gt_mask=None, lt_mask=None, x_d=None, x_phase=None, name='rxn_1633_r2h', V_f=None, E_f=None, V_d=None),\n",
       " MoleculeDatapoint(mol=<rdkit.Chem.rdchem.Mol object at 0x719c54e8ec00>, y=[31.0], weight=1.0, gt_mask=None, lt_mask=None, x_d=None, x_phase=None, name='rxn_613_r2h', V_f=None, E_f=None, V_d=None),\n",
       " MoleculeDatapoint(mol=<rdkit.Chem.rdchem.Mol object at 0x719c54e8f300>, y=[23.0], weight=1.0, gt_mask=None, lt_mask=None, x_d=None, x_phase=None, name='rxn_3160_r2h', V_f=None, E_f=None, V_d=None),\n",
       " MoleculeDatapoint(mol=<rdkit.Chem.rdchem.Mol object at 0x719c54e8fa00>, y=[61.0], weight=1.0, gt_mask=None, lt_mask=None, x_d=None, x_phase=None, name='rxn_1517_r2h', V_f=None, E_f=None, V_d=None),\n",
       " MoleculeDatapoint(mol=<rdkit.Chem.rdchem.Mol object at 0x719c54e92a40>, y=[62.0], weight=1.0, gt_mask=None, lt_mask=None, x_d=None, x_phase=None, name='rxn_1106_r2h', V_f=None, E_f=None, V_d=None),\n",
       " MoleculeDatapoint(mol=<rdkit.Chem.rdchem.Mol object at 0x719c54e90510>, y=[47.0], weight=1.0, gt_mask=None, lt_mask=None, x_d=None, x_phase=None, name='rmg_rxn_16514_r2h', V_f=None, E_f=None, V_d=None),\n",
       " MoleculeDatapoint(mol=<rdkit.Chem.rdchem.Mol object at 0x719c54e90c10>, y=[49.0], weight=1.0, gt_mask=None, lt_mask=None, x_d=None, x_phase=None, name='rxn_846_r2h', V_f=None, E_f=None, V_d=None),\n",
       " MoleculeDatapoint(mol=<rdkit.Chem.rdchem.Mol object at 0x719c54e91310>, y=[128.0], weight=1.0, gt_mask=None, lt_mask=None, x_d=None, x_phase=None, name='rxn_648_r2h', V_f=None, E_f=None, V_d=None),\n",
       " MoleculeDatapoint(mol=<rdkit.Chem.rdchem.Mol object at 0x719c54e91a80>, y=[13.0], weight=1.0, gt_mask=None, lt_mask=None, x_d=None, x_phase=None, name='rxn_964_r2h', V_f=None, E_f=None, V_d=None),\n",
       " MoleculeDatapoint(mol=<rdkit.Chem.rdchem.Mol object at 0x719c54e92180>, y=[109.0], weight=1.0, gt_mask=None, lt_mask=None, x_d=None, x_phase=None, name='rmg_rxn_1474_r2h', V_f=None, E_f=None, V_d=None),\n",
       " MoleculeDatapoint(mol=<rdkit.Chem.rdchem.Mol object at 0x719c54e92c00>, y=[59.0], weight=1.0, gt_mask=None, lt_mask=None, x_d=None, x_phase=None, name='rxn_1223_r2h', V_f=None, E_f=None, V_d=None),\n",
       " MoleculeDatapoint(mol=<rdkit.Chem.rdchem.Mol object at 0x719c54e93300>, y=[49.0], weight=1.0, gt_mask=None, lt_mask=None, x_d=None, x_phase=None, name='rxn_676_r2h', V_f=None, E_f=None, V_d=None),\n",
       " MoleculeDatapoint(mol=<rdkit.Chem.rdchem.Mol object at 0x719c54e93a00>, y=[48.0], weight=1.0, gt_mask=None, lt_mask=None, x_d=None, x_phase=None, name='rxn_392_r2h', V_f=None, E_f=None, V_d=None),\n",
       " MoleculeDatapoint(mol=<rdkit.Chem.rdchem.Mol object at 0x719c54e98190>, y=[84.0], weight=1.0, gt_mask=None, lt_mask=None, x_d=None, x_phase=None, name='rmg_rxn_191_r2h', V_f=None, E_f=None, V_d=None),\n",
       " MoleculeDatapoint(mol=<rdkit.Chem.rdchem.Mol object at 0x719c54e98890>, y=[31.0], weight=1.0, gt_mask=None, lt_mask=None, x_d=None, x_phase=None, name='rxn_193_r2h', V_f=None, E_f=None, V_d=None),\n",
       " MoleculeDatapoint(mol=<rdkit.Chem.rdchem.Mol object at 0x719c54e98f90>, y=[81.0], weight=1.0, gt_mask=None, lt_mask=None, x_d=None, x_phase=None, name='rxn_1506_r2h', V_f=None, E_f=None, V_d=None),\n",
       " MoleculeDatapoint(mol=<rdkit.Chem.rdchem.Mol object at 0x719c54e99620>, y=[56.0], weight=1.0, gt_mask=None, lt_mask=None, x_d=None, x_phase=None, name='rmg_rxn_15688_r2h', V_f=None, E_f=None, V_d=None),\n",
       " MoleculeDatapoint(mol=<rdkit.Chem.rdchem.Mol object at 0x719c54e99d20>, y=[33.0], weight=1.0, gt_mask=None, lt_mask=None, x_d=None, x_phase=None, name='rmg_rxn_314_r2h', V_f=None, E_f=None, V_d=None),\n",
       " MoleculeDatapoint(mol=<rdkit.Chem.rdchem.Mol object at 0x719c54e9a420>, y=[143.0], weight=1.0, gt_mask=None, lt_mask=None, x_d=None, x_phase=None, name='rmg_rxn_586_r2h', V_f=None, E_f=None, V_d=None),\n",
       " MoleculeDatapoint(mol=<rdkit.Chem.rdchem.Mol object at 0x719c54e9ab20>, y=[71.0], weight=1.0, gt_mask=None, lt_mask=None, x_d=None, x_phase=None, name='rmg_rxn_16461_r2h', V_f=None, E_f=None, V_d=None),\n",
       " MoleculeDatapoint(mol=<rdkit.Chem.rdchem.Mol object at 0x719c54e9b220>, y=[79.0], weight=1.0, gt_mask=None, lt_mask=None, x_d=None, x_phase=None, name='rmg_rxn_683_r2h', V_f=None, E_f=None, V_d=None),\n",
       " MoleculeDatapoint(mol=<rdkit.Chem.rdchem.Mol object at 0x719c54e9b990>, y=[47.0], weight=1.0, gt_mask=None, lt_mask=None, x_d=None, x_phase=None, name='rxn_1256_r2h', V_f=None, E_f=None, V_d=None),\n",
       " MoleculeDatapoint(mol=<rdkit.Chem.rdchem.Mol object at 0x719c54ea0120>, y=[115.0], weight=1.0, gt_mask=None, lt_mask=None, x_d=None, x_phase=None, name='rxn_709_r2h', V_f=None, E_f=None, V_d=None),\n",
       " MoleculeDatapoint(mol=<rdkit.Chem.rdchem.Mol object at 0x719c54ea0820>, y=[41.0], weight=1.0, gt_mask=None, lt_mask=None, x_d=None, x_phase=None, name='rxn_1511_r2h', V_f=None, E_f=None, V_d=None),\n",
       " MoleculeDatapoint(mol=<rdkit.Chem.rdchem.Mol object at 0x719c54ea0f20>, y=[101.0], weight=1.0, gt_mask=None, lt_mask=None, x_d=None, x_phase=None, name='rmg_rxn_253_r2h', V_f=None, E_f=None, V_d=None),\n",
       " MoleculeDatapoint(mol=<rdkit.Chem.rdchem.Mol object at 0x719c54ea1620>, y=[74.0], weight=1.0, gt_mask=None, lt_mask=None, x_d=None, x_phase=None, name='rxn_1091_r2h', V_f=None, E_f=None, V_d=None),\n",
       " MoleculeDatapoint(mol=<rdkit.Chem.rdchem.Mol object at 0x719c54ea1d20>, y=[17.0], weight=1.0, gt_mask=None, lt_mask=None, x_d=None, x_phase=None, name='rxn_606_r2h', V_f=None, E_f=None, V_d=None),\n",
       " MoleculeDatapoint(mol=<rdkit.Chem.rdchem.Mol object at 0x719c54ea2420>, y=[10.0], weight=1.0, gt_mask=None, lt_mask=None, x_d=None, x_phase=None, name='rxn_1895_r2h', V_f=None, E_f=None, V_d=None),\n",
       " MoleculeDatapoint(mol=<rdkit.Chem.rdchem.Mol object at 0x719c54ea2b20>, y=[89.0], weight=1.0, gt_mask=None, lt_mask=None, x_d=None, x_phase=None, name='rxn_680_r2h', V_f=None, E_f=None, V_d=None),\n",
       " MoleculeDatapoint(mol=<rdkit.Chem.rdchem.Mol object at 0x719c54ea3220>, y=[82.0], weight=1.0, gt_mask=None, lt_mask=None, x_d=None, x_phase=None, name='rxn_1085_r2h', V_f=None, E_f=None, V_d=None),\n",
       " MoleculeDatapoint(mol=<rdkit.Chem.rdchem.Mol object at 0x719c54ea3920>, y=[148.0], weight=1.0, gt_mask=None, lt_mask=None, x_d=None, x_phase=None, name='rmg_rxn_16800_r2h', V_f=None, E_f=None, V_d=None),\n",
       " MoleculeDatapoint(mol=<rdkit.Chem.rdchem.Mol object at 0x719c54ea80b0>, y=[60.0], weight=1.0, gt_mask=None, lt_mask=None, x_d=None, x_phase=None, name='rxn_1936_r2h', V_f=None, E_f=None, V_d=None),\n",
       " MoleculeDatapoint(mol=<rdkit.Chem.rdchem.Mol object at 0x719c54ea87b0>, y=[60.0], weight=1.0, gt_mask=None, lt_mask=None, x_d=None, x_phase=None, name='rxn_1044_r2h', V_f=None, E_f=None, V_d=None),\n",
       " MoleculeDatapoint(mol=<rdkit.Chem.rdchem.Mol object at 0x719c54ea8eb0>, y=[43.0], weight=1.0, gt_mask=None, lt_mask=None, x_d=None, x_phase=None, name='rxn_1960_r2h', V_f=None, E_f=None, V_d=None),\n",
       " MoleculeDatapoint(mol=<rdkit.Chem.rdchem.Mol object at 0x719c54ea9540>, y=[1.0], weight=1.0, gt_mask=None, lt_mask=None, x_d=None, x_phase=None, name='rmg_rxn_15440_r2h', V_f=None, E_f=None, V_d=None),\n",
       " MoleculeDatapoint(mol=<rdkit.Chem.rdchem.Mol object at 0x719c54ea9c40>, y=[147.0], weight=1.0, gt_mask=None, lt_mask=None, x_d=None, x_phase=None, name='rmg_rxn_588_r2h', V_f=None, E_f=None, V_d=None),\n",
       " MoleculeDatapoint(mol=<rdkit.Chem.rdchem.Mol object at 0x719c54eaa340>, y=[68.0], weight=1.0, gt_mask=None, lt_mask=None, x_d=None, x_phase=None, name='rxn_215_r2h', V_f=None, E_f=None, V_d=None),\n",
       " MoleculeDatapoint(mol=<rdkit.Chem.rdchem.Mol object at 0x719c54eaaa40>, y=[68.0], weight=1.0, gt_mask=None, lt_mask=None, x_d=None, x_phase=None, name='rxn_414_r2h', V_f=None, E_f=None, V_d=None),\n",
       " MoleculeDatapoint(mol=<rdkit.Chem.rdchem.Mol object at 0x719c54eab140>, y=[87.0], weight=1.0, gt_mask=None, lt_mask=None, x_d=None, x_phase=None, name='rxn_1799_r2h', V_f=None, E_f=None, V_d=None),\n",
       " MoleculeDatapoint(mol=<rdkit.Chem.rdchem.Mol object at 0x719c54eab840>, y=[48.0], weight=1.0, gt_mask=None, lt_mask=None, x_d=None, x_phase=None, name='rxn_1476_r2h', V_f=None, E_f=None, V_d=None),\n",
       " MoleculeDatapoint(mol=<rdkit.Chem.rdchem.Mol object at 0x719c54eabf40>, y=[95.0], weight=1.0, gt_mask=None, lt_mask=None, x_d=None, x_phase=None, name='rxn_1330_r2h', V_f=None, E_f=None, V_d=None),\n",
       " MoleculeDatapoint(mol=<rdkit.Chem.rdchem.Mol object at 0x719c54eac6d0>, y=[78.0], weight=1.0, gt_mask=None, lt_mask=None, x_d=None, x_phase=None, name='rxn_1480_r2h', V_f=None, E_f=None, V_d=None),\n",
       " MoleculeDatapoint(mol=<rdkit.Chem.rdchem.Mol object at 0x719c54eacdd0>, y=[76.0], weight=1.0, gt_mask=None, lt_mask=None, x_d=None, x_phase=None, name='rxn_681_r2h', V_f=None, E_f=None, V_d=None),\n",
       " MoleculeDatapoint(mol=<rdkit.Chem.rdchem.Mol object at 0x719c54ead4d0>, y=[87.0], weight=1.0, gt_mask=None, lt_mask=None, x_d=None, x_phase=None, name='rxn_1322_r2h', V_f=None, E_f=None, V_d=None),\n",
       " MoleculeDatapoint(mol=<rdkit.Chem.rdchem.Mol object at 0x719c54eadbd0>, y=[108.0], weight=1.0, gt_mask=None, lt_mask=None, x_d=None, x_phase=None, name='rxn_746_r2h', V_f=None, E_f=None, V_d=None),\n",
       " MoleculeDatapoint(mol=<rdkit.Chem.rdchem.Mol object at 0x719c54eae2d0>, y=[56.0], weight=1.0, gt_mask=None, lt_mask=None, x_d=None, x_phase=None, name='rmg_rxn_15660_r2h', V_f=None, E_f=None, V_d=None),\n",
       " MoleculeDatapoint(mol=<rdkit.Chem.rdchem.Mol object at 0x719c54eae9d0>, y=[118.0], weight=1.0, gt_mask=None, lt_mask=None, x_d=None, x_phase=None, name='rxn_1363_r2h', V_f=None, E_f=None, V_d=None),\n",
       " MoleculeDatapoint(mol=<rdkit.Chem.rdchem.Mol object at 0x719c54eaf0d0>, y=[72.0], weight=1.0, gt_mask=None, lt_mask=None, x_d=None, x_phase=None, name='rxn_1159_r2h', V_f=None, E_f=None, V_d=None),\n",
       " MoleculeDatapoint(mol=<rdkit.Chem.rdchem.Mol object at 0x719c54eaf7d0>, y=[59.0], weight=1.0, gt_mask=None, lt_mask=None, x_d=None, x_phase=None, name='rxn_1288_r2h', V_f=None, E_f=None, V_d=None),\n",
       " MoleculeDatapoint(mol=<rdkit.Chem.rdchem.Mol object at 0x719c54eafed0>, y=[55.0], weight=1.0, gt_mask=None, lt_mask=None, x_d=None, x_phase=None, name='rxn_1326_r2h', V_f=None, E_f=None, V_d=None),\n",
       " MoleculeDatapoint(mol=<rdkit.Chem.rdchem.Mol object at 0x719c54eb8660>, y=[108.0], weight=1.0, gt_mask=None, lt_mask=None, x_d=None, x_phase=None, name='rmg_rxn_15458_r2h', V_f=None, E_f=None, V_d=None),\n",
       " MoleculeDatapoint(mol=<rdkit.Chem.rdchem.Mol object at 0x719c54eb8d60>, y=[-3.0], weight=1.0, gt_mask=None, lt_mask=None, x_d=None, x_phase=None, name='rmg_rxn_85_r2h', V_f=None, E_f=None, V_d=None),\n",
       " MoleculeDatapoint(mol=<rdkit.Chem.rdchem.Mol object at 0x719c54eb9460>, y=[44.0], weight=1.0, gt_mask=None, lt_mask=None, x_d=None, x_phase=None, name='rxn_553_r2h', V_f=None, E_f=None, V_d=None),\n",
       " MoleculeDatapoint(mol=<rdkit.Chem.rdchem.Mol object at 0x719c54eb9b60>, y=[8.0], weight=1.0, gt_mask=None, lt_mask=None, x_d=None, x_phase=None, name='rxn_898_r2h', V_f=None, E_f=None, V_d=None),\n",
       " MoleculeDatapoint(mol=<rdkit.Chem.rdchem.Mol object at 0x719c54eba260>, y=[96.0], weight=1.0, gt_mask=None, lt_mask=None, x_d=None, x_phase=None, name='rxn_670_r2h', V_f=None, E_f=None, V_d=None),\n",
       " MoleculeDatapoint(mol=<rdkit.Chem.rdchem.Mol object at 0x719c54eba9d0>, y=[81.0], weight=1.0, gt_mask=None, lt_mask=None, x_d=None, x_phase=None, name='rxn_399_r2h', V_f=None, E_f=None, V_d=None),\n",
       " MoleculeDatapoint(mol=<rdkit.Chem.rdchem.Mol object at 0x719c54ebb0d0>, y=[8.0], weight=1.0, gt_mask=None, lt_mask=None, x_d=None, x_phase=None, name='rxn_1620_r2h', V_f=None, E_f=None, V_d=None),\n",
       " MoleculeDatapoint(mol=<rdkit.Chem.rdchem.Mol object at 0x719c54ebb7d0>, y=[68.0], weight=1.0, gt_mask=None, lt_mask=None, x_d=None, x_phase=None, name='rmg_rxn_201_r2h', V_f=None, E_f=None, V_d=None),\n",
       " MoleculeDatapoint(mol=<rdkit.Chem.rdchem.Mol object at 0x719c54ebbe60>, y=[97.0], weight=1.0, gt_mask=None, lt_mask=None, x_d=None, x_phase=None, name='rxn_1434_r2h', V_f=None, E_f=None, V_d=None),\n",
       " MoleculeDatapoint(mol=<rdkit.Chem.rdchem.Mol object at 0x719c54ebc5f0>, y=[51.16000000000349], weight=1.0, gt_mask=None, lt_mask=None, x_d=None, x_phase=None, name='rxn_210_r2h', V_f=None, E_f=None, V_d=None),\n",
       " MoleculeDatapoint(mol=<rdkit.Chem.rdchem.Mol object at 0x719c54ebccf0>, y=[139.0], weight=1.0, gt_mask=None, lt_mask=None, x_d=None, x_phase=None, name='rmg_rxn_15442_r2h', V_f=None, E_f=None, V_d=None),\n",
       " MoleculeDatapoint(mol=<rdkit.Chem.rdchem.Mol object at 0x719c54ebd3f0>, y=[56.0], weight=1.0, gt_mask=None, lt_mask=None, x_d=None, x_phase=None, name='rmg_rxn_16771_r2h', V_f=None, E_f=None, V_d=None),\n",
       " MoleculeDatapoint(mol=<rdkit.Chem.rdchem.Mol object at 0x719c54ebdaf0>, y=[102.0], weight=1.0, gt_mask=None, lt_mask=None, x_d=None, x_phase=None, name='rxn_1210_r2h', V_f=None, E_f=None, V_d=None),\n",
       " MoleculeDatapoint(mol=<rdkit.Chem.rdchem.Mol object at 0x719c54ebe260>, y=[36.1600000000326], weight=1.0, gt_mask=None, lt_mask=None, x_d=None, x_phase=None, name='rxn_733_r2h', V_f=None, E_f=None, V_d=None),\n",
       " MoleculeDatapoint(mol=<rdkit.Chem.rdchem.Mol object at 0x719c54ebe960>, y=[64.0], weight=1.0, gt_mask=None, lt_mask=None, x_d=None, x_phase=None, name='rmg_rxn_15466_r2h', V_f=None, E_f=None, V_d=None),\n",
       " MoleculeDatapoint(mol=<rdkit.Chem.rdchem.Mol object at 0x719c54ebeff0>, y=[114.0], weight=1.0, gt_mask=None, lt_mask=None, x_d=None, x_phase=None, name='rxn_996_r2h', V_f=None, E_f=None, V_d=None),\n",
       " MoleculeDatapoint(mol=<rdkit.Chem.rdchem.Mol object at 0x719c54ebf6f0>, y=[22.1600000000326], weight=1.0, gt_mask=None, lt_mask=None, x_d=None, x_phase=None, name='rxn_275_r2h', V_f=None, E_f=None, V_d=None),\n",
       " MoleculeDatapoint(mol=<rdkit.Chem.rdchem.Mol object at 0x719c54ebfdf0>, y=[63.0], weight=1.0, gt_mask=None, lt_mask=None, x_d=None, x_phase=None, name='rxn_1420_r2h', V_f=None, E_f=None, V_d=None),\n",
       " MoleculeDatapoint(mol=<rdkit.Chem.rdchem.Mol object at 0x719c54ec8580>, y=[42.0], weight=1.0, gt_mask=None, lt_mask=None, x_d=None, x_phase=None, name='rxn_62_r2h', V_f=None, E_f=None, V_d=None),\n",
       " MoleculeDatapoint(mol=<rdkit.Chem.rdchem.Mol object at 0x719c54ec8c80>, y=[0.0], weight=1.0, gt_mask=None, lt_mask=None, x_d=None, x_phase=None, name='rxn_131_r2h', V_f=None, E_f=None, V_d=None),\n",
       " MoleculeDatapoint(mol=<rdkit.Chem.rdchem.Mol object at 0x719c54ec9380>, y=[64.0], weight=1.0, gt_mask=None, lt_mask=None, x_d=None, x_phase=None, name='rxn_1048_r2h', V_f=None, E_f=None, V_d=None),\n",
       " MoleculeDatapoint(mol=<rdkit.Chem.rdchem.Mol object at 0x719c54ec9a80>, y=[39.0], weight=1.0, gt_mask=None, lt_mask=None, x_d=None, x_phase=None, name='rmg_rxn_15469_r2h', V_f=None, E_f=None, V_d=None),\n",
       " MoleculeDatapoint(mol=<rdkit.Chem.rdchem.Mol object at 0x719c54eca1f0>, y=[53.0], weight=1.0, gt_mask=None, lt_mask=None, x_d=None, x_phase=None, name='rmg_rxn_659_r2h', V_f=None, E_f=None, V_d=None),\n",
       " MoleculeDatapoint(mol=<rdkit.Chem.rdchem.Mol object at 0x719c54eca8f0>, y=[23.0], weight=1.0, gt_mask=None, lt_mask=None, x_d=None, x_phase=None, name='rxn_223_r2h', V_f=None, E_f=None, V_d=None),\n",
       " MoleculeDatapoint(mol=<rdkit.Chem.rdchem.Mol object at 0x719c54ecaf80>, y=[96.0], weight=1.0, gt_mask=None, lt_mask=None, x_d=None, x_phase=None, name='rxn_16_r2h', V_f=None, E_f=None, V_d=None),\n",
       " MoleculeDatapoint(mol=<rdkit.Chem.rdchem.Mol object at 0x719c54ecb680>, y=[75.0], weight=1.0, gt_mask=None, lt_mask=None, x_d=None, x_phase=None, name='rmg_rxn_16806_r2h', V_f=None, E_f=None, V_d=None),\n",
       " MoleculeDatapoint(mol=<rdkit.Chem.rdchem.Mol object at 0x719c54ecbdf0>, y=[65.0], weight=1.0, gt_mask=None, lt_mask=None, x_d=None, x_phase=None, name='rmg_rxn_348_r2h', V_f=None, E_f=None, V_d=None),\n",
       " MoleculeDatapoint(mol=<rdkit.Chem.rdchem.Mol object at 0x719c54ecc3c0>, y=[44.0], weight=1.0, gt_mask=None, lt_mask=None, x_d=None, x_phase=None, name='rmg_rxn_341_r2h', V_f=None, E_f=None, V_d=None),\n",
       " MoleculeDatapoint(mol=<rdkit.Chem.rdchem.Mol object at 0x719c54eccac0>, y=[90.0], weight=1.0, gt_mask=None, lt_mask=None, x_d=None, x_phase=None, name='rxn_1016_r2h', V_f=None, E_f=None, V_d=None),\n",
       " MoleculeDatapoint(mol=<rdkit.Chem.rdchem.Mol object at 0x719c54ecd150>, y=[27.0], weight=1.0, gt_mask=None, lt_mask=None, x_d=None, x_phase=None, name='rxn_129_r2h', V_f=None, E_f=None, V_d=None),\n",
       " MoleculeDatapoint(mol=<rdkit.Chem.rdchem.Mol object at 0x719c54ecd850>, y=[57.0], weight=1.0, gt_mask=None, lt_mask=None, x_d=None, x_phase=None, name='rxn_1254_r2h', V_f=None, E_f=None, V_d=None),\n",
       " MoleculeDatapoint(mol=<rdkit.Chem.rdchem.Mol object at 0x719c54ece110>, y=[56.0], weight=1.0, gt_mask=None, lt_mask=None, x_d=None, x_phase=None, name='rxn_1273_r2h', V_f=None, E_f=None, V_d=None),\n",
       " MoleculeDatapoint(mol=<rdkit.Chem.rdchem.Mol object at 0x719c54ece810>, y=[54.0], weight=1.0, gt_mask=None, lt_mask=None, x_d=None, x_phase=None, name='rmg_rxn_205_r2h', V_f=None, E_f=None, V_d=None),\n",
       " MoleculeDatapoint(mol=<rdkit.Chem.rdchem.Mol object at 0x719c54ecef10>, y=[53.0], weight=1.0, gt_mask=None, lt_mask=None, x_d=None, x_phase=None, name='rmg_rxn_16497_r2h', V_f=None, E_f=None, V_d=None),\n",
       " MoleculeDatapoint(mol=<rdkit.Chem.rdchem.Mol object at 0x719c54ecf610>, y=[19.0], weight=1.0, gt_mask=None, lt_mask=None, x_d=None, x_phase=None, name='rxn_571_r2h', V_f=None, E_f=None, V_d=None),\n",
       " MoleculeDatapoint(mol=<rdkit.Chem.rdchem.Mol object at 0x719c54ecfd10>, y=[115.0], weight=1.0, gt_mask=None, lt_mask=None, x_d=None, x_phase=None, name='rmg_rxn_596_r2h', V_f=None, E_f=None, V_d=None),\n",
       " MoleculeDatapoint(mol=<rdkit.Chem.rdchem.Mol object at 0x719c54ed04a0>, y=[63.0], weight=1.0, gt_mask=None, lt_mask=None, x_d=None, x_phase=None, name='rxn_3217_r2h', V_f=None, E_f=None, V_d=None),\n",
       " MoleculeDatapoint(mol=<rdkit.Chem.rdchem.Mol object at 0x719c54ed0ba0>, y=[32.0], weight=1.0, gt_mask=None, lt_mask=None, x_d=None, x_phase=None, name='rxn_1786_r2h', V_f=None, E_f=None, V_d=None),\n",
       " MoleculeDatapoint(mol=<rdkit.Chem.rdchem.Mol object at 0x719c54ed12a0>, y=[40.0], weight=1.0, gt_mask=None, lt_mask=None, x_d=None, x_phase=None, name='rxn_1861_r2h', V_f=None, E_f=None, V_d=None),\n",
       " MoleculeDatapoint(mol=<rdkit.Chem.rdchem.Mol object at 0x719c54ed19a0>, y=[18.0], weight=1.0, gt_mask=None, lt_mask=None, x_d=None, x_phase=None, name='rxn_891_r2h', V_f=None, E_f=None, V_d=None),\n",
       " MoleculeDatapoint(mol=<rdkit.Chem.rdchem.Mol object at 0x719c54ed20a0>, y=[38.0], weight=1.0, gt_mask=None, lt_mask=None, x_d=None, x_phase=None, name='rxn_974_r2h', V_f=None, E_f=None, V_d=None),\n",
       " MoleculeDatapoint(mol=<rdkit.Chem.rdchem.Mol object at 0x719c54ed27a0>, y=[57.0], weight=1.0, gt_mask=None, lt_mask=None, x_d=None, x_phase=None, name='rxn_1093_r2h', V_f=None, E_f=None, V_d=None),\n",
       " MoleculeDatapoint(mol=<rdkit.Chem.rdchem.Mol object at 0x719c54ed2ea0>, y=[49.0], weight=1.0, gt_mask=None, lt_mask=None, x_d=None, x_phase=None, name='rxn_556_r2h', V_f=None, E_f=None, V_d=None),\n",
       " MoleculeDatapoint(mol=<rdkit.Chem.rdchem.Mol object at 0x719c54ed35a0>, y=[45.0], weight=1.0, gt_mask=None, lt_mask=None, x_d=None, x_phase=None, name='rmg_rxn_16528_r2h', V_f=None, E_f=None, V_d=None),\n",
       " MoleculeDatapoint(mol=<rdkit.Chem.rdchem.Mol object at 0x719c54ed3ca0>, y=[115.1599999999744], weight=1.0, gt_mask=None, lt_mask=None, x_d=None, x_phase=None, name='rxn_656_r2h', V_f=None, E_f=None, V_d=None),\n",
       " MoleculeDatapoint(mol=<rdkit.Chem.rdchem.Mol object at 0x719c54ed8430>, y=[64.0], weight=1.0, gt_mask=None, lt_mask=None, x_d=None, x_phase=None, name='rmg_rxn_255_r2h', V_f=None, E_f=None, V_d=None),\n",
       " MoleculeDatapoint(mol=<rdkit.Chem.rdchem.Mol object at 0x719c54ed8b30>, y=[102.0], weight=1.0, gt_mask=None, lt_mask=None, x_d=None, x_phase=None, name='rmg_rxn_1485_r2h', V_f=None, E_f=None, V_d=None),\n",
       " MoleculeDatapoint(mol=<rdkit.Chem.rdchem.Mol object at 0x719c54ed9230>, y=[87.0], weight=1.0, gt_mask=None, lt_mask=None, x_d=None, x_phase=None, name='rxn_1864_r2h', V_f=None, E_f=None, V_d=None),\n",
       " MoleculeDatapoint(mol=<rdkit.Chem.rdchem.Mol object at 0x719c54ed9930>, y=[38.0], weight=1.0, gt_mask=None, lt_mask=None, x_d=None, x_phase=None, name='rxn_300_r2h', V_f=None, E_f=None, V_d=None),\n",
       " MoleculeDatapoint(mol=<rdkit.Chem.rdchem.Mol object at 0x719c54eda030>, y=[117.0], weight=1.0, gt_mask=None, lt_mask=None, x_d=None, x_phase=None, name='rmg_rxn_1487_r2h', V_f=None, E_f=None, V_d=None),\n",
       " MoleculeDatapoint(mol=<rdkit.Chem.rdchem.Mol object at 0x719c54eda730>, y=[59.0], weight=1.0, gt_mask=None, lt_mask=None, x_d=None, x_phase=None, name='rmg_rxn_1147_r2h', V_f=None, E_f=None, V_d=None),\n",
       " MoleculeDatapoint(mol=<rdkit.Chem.rdchem.Mol object at 0x719c54edaff0>, y=[56.0], weight=1.0, gt_mask=None, lt_mask=None, x_d=None, x_phase=None, name='rmg_rxn_677_r2h', V_f=None, E_f=None, V_d=None),\n",
       " MoleculeDatapoint(mol=<rdkit.Chem.rdchem.Mol object at 0x719c54edb6f0>, y=[20.0], weight=1.0, gt_mask=None, lt_mask=None, x_d=None, x_phase=None, name='rxn_610_r2h', V_f=None, E_f=None, V_d=None),\n",
       " MoleculeDatapoint(mol=<rdkit.Chem.rdchem.Mol object at 0x719c54edbdf0>, y=[59.0], weight=1.0, gt_mask=None, lt_mask=None, x_d=None, x_phase=None, name='rmg_rxn_647_r2h', V_f=None, E_f=None, V_d=None),\n",
       " MoleculeDatapoint(mol=<rdkit.Chem.rdchem.Mol object at 0x719c54edc580>, y=[29.0], weight=1.0, gt_mask=None, lt_mask=None, x_d=None, x_phase=None, name='rmg_rxn_1154_r2h', V_f=None, E_f=None, V_d=None),\n",
       " MoleculeDatapoint(mol=<rdkit.Chem.rdchem.Mol object at 0x719c54edcc80>, y=[19.75], weight=1.0, gt_mask=None, lt_mask=None, x_d=None, x_phase=None, name='rxn_818_r2h', V_f=None, E_f=None, V_d=None),\n",
       " MoleculeDatapoint(mol=<rdkit.Chem.rdchem.Mol object at 0x719c54edd380>, y=[44.0], weight=1.0, gt_mask=None, lt_mask=None, x_d=None, x_phase=None, name='rxn_1922_r2h', V_f=None, E_f=None, V_d=None),\n",
       " MoleculeDatapoint(mol=<rdkit.Chem.rdchem.Mol object at 0x719c54edda80>, y=[55.0], weight=1.0, gt_mask=None, lt_mask=None, x_d=None, x_phase=None, name='rmg_rxn_15719_r2h', V_f=None, E_f=None, V_d=None),\n",
       " MoleculeDatapoint(mol=<rdkit.Chem.rdchem.Mol object at 0x719c54ede1f0>, y=[82.0], weight=1.0, gt_mask=None, lt_mask=None, x_d=None, x_phase=None, name='rxn_1104_r2h', V_f=None, E_f=None, V_d=None),\n",
       " MoleculeDatapoint(mol=<rdkit.Chem.rdchem.Mol object at 0x719c54ede8f0>, y=[102.0], weight=1.0, gt_mask=None, lt_mask=None, x_d=None, x_phase=None, name='rxn_3239_r2h', V_f=None, E_f=None, V_d=None),\n",
       " MoleculeDatapoint(mol=<rdkit.Chem.rdchem.Mol object at 0x719c54edec70>, y=[40.0], weight=1.0, gt_mask=None, lt_mask=None, x_d=None, x_phase=None, name='rmg_rxn_234_r2h', V_f=None, E_f=None, V_d=None),\n",
       " MoleculeDatapoint(mol=<rdkit.Chem.rdchem.Mol object at 0x719c54edf530>, y=[75.0], weight=1.0, gt_mask=None, lt_mask=None, x_d=None, x_phase=None, name='rxn_1835_r2h', V_f=None, E_f=None, V_d=None),\n",
       " MoleculeDatapoint(mol=<rdkit.Chem.rdchem.Mol object at 0x719c54edfc30>, y=[69.0], weight=1.0, gt_mask=None, lt_mask=None, x_d=None, x_phase=None, name='rxn_1280_r2h', V_f=None, E_f=None, V_d=None),\n",
       " MoleculeDatapoint(mol=<rdkit.Chem.rdchem.Mol object at 0x719c54eec3c0>, y=[45.0], weight=1.0, gt_mask=None, lt_mask=None, x_d=None, x_phase=None, name='rxn_1327_r2h', V_f=None, E_f=None, V_d=None),\n",
       " MoleculeDatapoint(mol=<rdkit.Chem.rdchem.Mol object at 0x719c54eeca50>, y=[61.0], weight=1.0, gt_mask=None, lt_mask=None, x_d=None, x_phase=None, name='rmg_rxn_256_r2h', V_f=None, E_f=None, V_d=None),\n",
       " MoleculeDatapoint(mol=<rdkit.Chem.rdchem.Mol object at 0x719c54eed150>, y=[73.0], weight=1.0, gt_mask=None, lt_mask=None, x_d=None, x_phase=None, name='rxn_2007_r2h', V_f=None, E_f=None, V_d=None),\n",
       " MoleculeDatapoint(mol=<rdkit.Chem.rdchem.Mol object at 0x719c54eed850>, y=[56.0], weight=1.0, gt_mask=None, lt_mask=None, x_d=None, x_phase=None, name='rmg_rxn_268_r2h', V_f=None, E_f=None, V_d=None),\n",
       " MoleculeDatapoint(mol=<rdkit.Chem.rdchem.Mol object at 0x719c54eedfc0>, y=[24.0], weight=1.0, gt_mask=None, lt_mask=None, x_d=None, x_phase=None, name='rxn_877_r2h', V_f=None, E_f=None, V_d=None),\n",
       " MoleculeDatapoint(mol=<rdkit.Chem.rdchem.Mol object at 0x719c54eee650>, y=[59.0], weight=1.0, gt_mask=None, lt_mask=None, x_d=None, x_phase=None, name='rxn_1217_r2h', V_f=None, E_f=None, V_d=None),\n",
       " MoleculeDatapoint(mol=<rdkit.Chem.rdchem.Mol object at 0x719c54eeed50>, y=[19.75], weight=1.0, gt_mask=None, lt_mask=None, x_d=None, x_phase=None, name='rxn_807_r2h', V_f=None, E_f=None, V_d=None),\n",
       " MoleculeDatapoint(mol=<rdkit.Chem.rdchem.Mol object at 0x719c54eef450>, y=[80.0], weight=1.0, gt_mask=None, lt_mask=None, x_d=None, x_phase=None, name='rxn_739_r2h', V_f=None, E_f=None, V_d=None),\n",
       " MoleculeDatapoint(mol=<rdkit.Chem.rdchem.Mol object at 0x719c54eefb50>, y=[60.0], weight=1.0, gt_mask=None, lt_mask=None, x_d=None, x_phase=None, name='rxn_1985_r2h', V_f=None, E_f=None, V_d=None),\n",
       " MoleculeDatapoint(mol=<rdkit.Chem.rdchem.Mol object at 0x719c54ef0120>, y=[61.0], weight=1.0, gt_mask=None, lt_mask=None, x_d=None, x_phase=None, name='rmg_rxn_15692_r2h', V_f=None, E_f=None, V_d=None),\n",
       " MoleculeDatapoint(mol=<rdkit.Chem.rdchem.Mol object at 0x719c54ef0820>, y=[92.0], weight=1.0, gt_mask=None, lt_mask=None, x_d=None, x_phase=None, name='rxn_1359_r2h', V_f=None, E_f=None, V_d=None),\n",
       " MoleculeDatapoint(mol=<rdkit.Chem.rdchem.Mol object at 0x719c54ef0f20>, y=[37.0], weight=1.0, gt_mask=None, lt_mask=None, x_d=None, x_phase=None, name='rxn_586_r2h', V_f=None, E_f=None, V_d=None),\n",
       " MoleculeDatapoint(mol=<rdkit.Chem.rdchem.Mol object at 0x719c54ef1620>, y=[83.0], weight=1.0, gt_mask=None, lt_mask=None, x_d=None, x_phase=None, name='rxn_1429_r2h', V_f=None, E_f=None, V_d=None),\n",
       " MoleculeDatapoint(mol=<rdkit.Chem.rdchem.Mol object at 0x719c54ef1ee0>, y=[65.0], weight=1.0, gt_mask=None, lt_mask=None, x_d=None, x_phase=None, name='rxn_232_r2h', V_f=None, E_f=None, V_d=None),\n",
       " MoleculeDatapoint(mol=<rdkit.Chem.rdchem.Mol object at 0x719c54ef25e0>, y=[69.0], weight=1.0, gt_mask=None, lt_mask=None, x_d=None, x_phase=None, name='rxn_15_r2h', V_f=None, E_f=None, V_d=None),\n",
       " MoleculeDatapoint(mol=<rdkit.Chem.rdchem.Mol object at 0x719c54ef2ce0>, y=[84.0], weight=1.0, gt_mask=None, lt_mask=None, x_d=None, x_phase=None, name='rmg_rxn_15498_r2h', V_f=None, E_f=None, V_d=None),\n",
       " MoleculeDatapoint(mol=<rdkit.Chem.rdchem.Mol object at 0x719c54ef33e0>, y=[22.75], weight=1.0, gt_mask=None, lt_mask=None, x_d=None, x_phase=None, name='rxn_797_r2h', V_f=None, E_f=None, V_d=None),\n",
       " MoleculeDatapoint(mol=<rdkit.Chem.rdchem.Mol object at 0x719c54ef3ae0>, y=[31.0], weight=1.0, gt_mask=None, lt_mask=None, x_d=None, x_phase=None, name='rxn_1504_r2h', V_f=None, E_f=None, V_d=None),\n",
       " MoleculeDatapoint(mol=<rdkit.Chem.rdchem.Mol object at 0x719c54ef80b0>, y=[59.0], weight=1.0, gt_mask=None, lt_mask=None, x_d=None, x_phase=None, name='rxn_475_r2h', V_f=None, E_f=None, V_d=None),\n",
       " MoleculeDatapoint(mol=<rdkit.Chem.rdchem.Mol object at 0x719c54ef87b0>, y=[34.0], weight=1.0, gt_mask=None, lt_mask=None, x_d=None, x_phase=None, name='rxn_1660_r2h', V_f=None, E_f=None, V_d=None),\n",
       " MoleculeDatapoint(mol=<rdkit.Chem.rdchem.Mol object at 0x719c54ef8eb0>, y=[135.0], weight=1.0, gt_mask=None, lt_mask=None, x_d=None, x_phase=None, name='rxn_1146_r2h', V_f=None, E_f=None, V_d=None),\n",
       " MoleculeDatapoint(mol=<rdkit.Chem.rdchem.Mol object at 0x719c54ef9770>, y=[30.0], weight=1.0, gt_mask=None, lt_mask=None, x_d=None, x_phase=None, name='rxn_1851_r2h', V_f=None, E_f=None, V_d=None),\n",
       " MoleculeDatapoint(mol=<rdkit.Chem.rdchem.Mol object at 0x719c54ef9e70>, y=[26.0], weight=1.0, gt_mask=None, lt_mask=None, x_d=None, x_phase=None, name='rxn_369_r2h', V_f=None, E_f=None, V_d=None),\n",
       " MoleculeDatapoint(mol=<rdkit.Chem.rdchem.Mol object at 0x719c54efa570>, y=[4.0], weight=1.0, gt_mask=None, lt_mask=None, x_d=None, x_phase=None, name='rxn_345_r2h', V_f=None, E_f=None, V_d=None),\n",
       " MoleculeDatapoint(mol=<rdkit.Chem.rdchem.Mol object at 0x719c54efac70>, y=[70.0], weight=1.0, gt_mask=None, lt_mask=None, x_d=None, x_phase=None, name='rxn_1138_r2h', V_f=None, E_f=None, V_d=None),\n",
       " MoleculeDatapoint(mol=<rdkit.Chem.rdchem.Mol object at 0x719c54efb370>, y=[58.0], weight=1.0, gt_mask=None, lt_mask=None, x_d=None, x_phase=None, name='rxn_1377_r2h', V_f=None, E_f=None, V_d=None),\n",
       " MoleculeDatapoint(mol=<rdkit.Chem.rdchem.Mol object at 0x719c54efba70>, y=[13.0], weight=1.0, gt_mask=None, lt_mask=None, x_d=None, x_phase=None, name='rxn_1587_r2h', V_f=None, E_f=None, V_d=None),\n",
       " MoleculeDatapoint(mol=<rdkit.Chem.rdchem.Mol object at 0x719c54efc200>, y=[108.0], weight=1.0, gt_mask=None, lt_mask=None, x_d=None, x_phase=None, name='rxn_102_r2h', V_f=None, E_f=None, V_d=None),\n",
       " MoleculeDatapoint(mol=<rdkit.Chem.rdchem.Mol object at 0x719c54efc900>, y=[28.0], weight=1.0, gt_mask=None, lt_mask=None, x_d=None, x_phase=None, name='rxn_897_r2h', V_f=None, E_f=None, V_d=None),\n",
       " MoleculeDatapoint(mol=<rdkit.Chem.rdchem.Mol object at 0x719c54efd000>, y=[123.0], weight=1.0, gt_mask=None, lt_mask=None, x_d=None, x_phase=None, name='rmg_rxn_605_r2h', V_f=None, E_f=None, V_d=None),\n",
       " MoleculeDatapoint(mol=<rdkit.Chem.rdchem.Mol object at 0x719c54efd700>, y=[62.0], weight=1.0, gt_mask=None, lt_mask=None, x_d=None, x_phase=None, name='rxn_3201_r2h', V_f=None, E_f=None, V_d=None),\n",
       " MoleculeDatapoint(mol=<rdkit.Chem.rdchem.Mol object at 0x719c54efde00>, y=[79.0], weight=1.0, gt_mask=None, lt_mask=None, x_d=None, x_phase=None, name='rmg_rxn_681_r2h', V_f=None, E_f=None, V_d=None),\n",
       " MoleculeDatapoint(mol=<rdkit.Chem.rdchem.Mol object at 0x719c54efe500>, y=[23.0], weight=1.0, gt_mask=None, lt_mask=None, x_d=None, x_phase=None, name='rxn_3211_r2h', V_f=None, E_f=None, V_d=None),\n",
       " MoleculeDatapoint(mol=<rdkit.Chem.rdchem.Mol object at 0x719c54efec00>, y=[47.0], weight=1.0, gt_mask=None, lt_mask=None, x_d=None, x_phase=None, name='rmg_rxn_635_r2h', V_f=None, E_f=None, V_d=None),\n",
       " MoleculeDatapoint(mol=<rdkit.Chem.rdchem.Mol object at 0x719c54eff300>, y=[67.0], weight=1.0, gt_mask=None, lt_mask=None, x_d=None, x_phase=None, name='rxn_1236_r2h', V_f=None, E_f=None, V_d=None),\n",
       " MoleculeDatapoint(mol=<rdkit.Chem.rdchem.Mol object at 0x719c54effa00>, y=[122.0], weight=1.0, gt_mask=None, lt_mask=None, x_d=None, x_phase=None, name='rmg_rxn_276_r2h', V_f=None, E_f=None, V_d=None),\n",
       " MoleculeDatapoint(mol=<rdkit.Chem.rdchem.Mol object at 0x719c54584190>, y=[57.0], weight=1.0, gt_mask=None, lt_mask=None, x_d=None, x_phase=None, name='rmg_rxn_519_r2h', V_f=None, E_f=None, V_d=None),\n",
       " MoleculeDatapoint(mol=<rdkit.Chem.rdchem.Mol object at 0x719c54584890>, y=[104.0], weight=1.0, gt_mask=None, lt_mask=None, x_d=None, x_phase=None, name='rmg_rxn_1478_r2h', V_f=None, E_f=None, V_d=None),\n",
       " MoleculeDatapoint(mol=<rdkit.Chem.rdchem.Mol object at 0x719c54584f90>, y=[45.0], weight=1.0, gt_mask=None, lt_mask=None, x_d=None, x_phase=None, name='rmg_rxn_16464_r2h', V_f=None, E_f=None, V_d=None),\n",
       " MoleculeDatapoint(mol=<rdkit.Chem.rdchem.Mol object at 0x719c54585690>, y=[47.0], weight=1.0, gt_mask=None, lt_mask=None, x_d=None, x_phase=None, name='rmg_rxn_326_r2h', V_f=None, E_f=None, V_d=None),\n",
       " MoleculeDatapoint(mol=<rdkit.Chem.rdchem.Mol object at 0x719c54585d90>, y=[122.0], weight=1.0, gt_mask=None, lt_mask=None, x_d=None, x_phase=None, name='rmg_rxn_8_r2h', V_f=None, E_f=None, V_d=None),\n",
       " MoleculeDatapoint(mol=<rdkit.Chem.rdchem.Mol object at 0x719c54586490>, y=[57.0], weight=1.0, gt_mask=None, lt_mask=None, x_d=None, x_phase=None, name='rxn_1836_r2h', V_f=None, E_f=None, V_d=None),\n",
       " MoleculeDatapoint(mol=<rdkit.Chem.rdchem.Mol object at 0x719c54586b90>, y=[14.0], weight=1.0, gt_mask=None, lt_mask=None, x_d=None, x_phase=None, name='rxn_917_r2h', V_f=None, E_f=None, V_d=None),\n",
       " MoleculeDatapoint(mol=<rdkit.Chem.rdchem.Mol object at 0x719c54587290>, y=[161.0], weight=1.0, gt_mask=None, lt_mask=None, x_d=None, x_phase=None, name='rmg_rxn_194_r2h', V_f=None, E_f=None, V_d=None),\n",
       " MoleculeDatapoint(mol=<rdkit.Chem.rdchem.Mol object at 0x719c54587990>, y=[72.15999999991618], weight=1.0, gt_mask=None, lt_mask=None, x_d=None, x_phase=None, name='rxn_90_r2h', V_f=None, E_f=None, V_d=None),\n",
       " MoleculeDatapoint(mol=<rdkit.Chem.rdchem.Mol object at 0x719c5458c120>, y=[63.0], weight=1.0, gt_mask=None, lt_mask=None, x_d=None, x_phase=None, name='rxn_1043_r2h', V_f=None, E_f=None, V_d=None),\n",
       " MoleculeDatapoint(mol=<rdkit.Chem.rdchem.Mol object at 0x719c5458c890>, y=[18.0], weight=1.0, gt_mask=None, lt_mask=None, x_d=None, x_phase=None, name='rxn_983_r2h', V_f=None, E_f=None, V_d=None),\n",
       " MoleculeDatapoint(mol=<rdkit.Chem.rdchem.Mol object at 0x719c5458cf90>, y=[71.0], weight=1.0, gt_mask=None, lt_mask=None, x_d=None, x_phase=None, name='rxn_400_r2h', V_f=None, E_f=None, V_d=None),\n",
       " MoleculeDatapoint(mol=<rdkit.Chem.rdchem.Mol object at 0x719c5458d690>, y=[93.0], weight=1.0, gt_mask=None, lt_mask=None, x_d=None, x_phase=None, name='rmg_rxn_15713_r2h', V_f=None, E_f=None, V_d=None),\n",
       " MoleculeDatapoint(mol=<rdkit.Chem.rdchem.Mol object at 0x719c5458df50>, y=[141.1600000000326], weight=1.0, gt_mask=None, lt_mask=None, x_d=None, x_phase=None, name='rxn_80_r2h', V_f=None, E_f=None, V_d=None),\n",
       " MoleculeDatapoint(mol=<rdkit.Chem.rdchem.Mol object at 0x719c5458e650>, y=[57.0], weight=1.0, gt_mask=None, lt_mask=None, x_d=None, x_phase=None, name='rmg_rxn_225_r2h', V_f=None, E_f=None, V_d=None),\n",
       " MoleculeDatapoint(mol=<rdkit.Chem.rdchem.Mol object at 0x719c5458ed50>, y=[52.0], weight=1.0, gt_mask=None, lt_mask=None, x_d=None, x_phase=None, name='rmg_rxn_244_r2h', V_f=None, E_f=None, V_d=None),\n",
       " MoleculeDatapoint(mol=<rdkit.Chem.rdchem.Mol object at 0x719c5458f450>, y=[70.0], weight=1.0, gt_mask=None, lt_mask=None, x_d=None, x_phase=None, name='rxn_458_r2h', V_f=None, E_f=None, V_d=None),\n",
       " MoleculeDatapoint(mol=<rdkit.Chem.rdchem.Mol object at 0x719c5458fb50>, y=[9.75], weight=1.0, gt_mask=None, lt_mask=None, x_d=None, x_phase=None, name='rxn_72_r2h', V_f=None, E_f=None, V_d=None),\n",
       " MoleculeDatapoint(mol=<rdkit.Chem.rdchem.Mol object at 0x719c54593a70>, y=[11.0], weight=1.0, gt_mask=None, lt_mask=None, x_d=None, x_phase=None, name='rxn_673_r2h', V_f=None, E_f=None, V_d=None),\n",
       " MoleculeDatapoint(mol=<rdkit.Chem.rdchem.Mol object at 0x719c545902e0>, y=[187.0], weight=1.0, gt_mask=None, lt_mask=None, x_d=None, x_phase=None, name='rmg_rxn_417_r2h', V_f=None, E_f=None, V_d=None),\n",
       " MoleculeDatapoint(mol=<rdkit.Chem.rdchem.Mol object at 0x719c545909e0>, y=[13.0], weight=1.0, gt_mask=None, lt_mask=None, x_d=None, x_phase=None, name='rmg_rxn_16689_r2h', V_f=None, E_f=None, V_d=None),\n",
       " MoleculeDatapoint(mol=<rdkit.Chem.rdchem.Mol object at 0x719c545910e0>, y=[68.0], weight=1.0, gt_mask=None, lt_mask=None, x_d=None, x_phase=None, name='rxn_18_r2h', V_f=None, E_f=None, V_d=None),\n",
       " MoleculeDatapoint(mol=<rdkit.Chem.rdchem.Mol object at 0x719c54591770>, y=[51.0], weight=1.0, gt_mask=None, lt_mask=None, x_d=None, x_phase=None, name='rmg_rxn_661_r2h', V_f=None, E_f=None, V_d=None),\n",
       " MoleculeDatapoint(mol=<rdkit.Chem.rdchem.Mol object at 0x719c54591e70>, y=[66.0], weight=1.0, gt_mask=None, lt_mask=None, x_d=None, x_phase=None, name='rmg_rxn_16706_r2h', V_f=None, E_f=None, V_d=None),\n",
       " MoleculeDatapoint(mol=<rdkit.Chem.rdchem.Mol object at 0x719c54592570>, y=[60.0], weight=1.0, gt_mask=None, lt_mask=None, x_d=None, x_phase=None, name='rmg_rxn_19_r2h', V_f=None, E_f=None, V_d=None),\n",
       " MoleculeDatapoint(mol=<rdkit.Chem.rdchem.Mol object at 0x719c54592c70>, y=[41.0], weight=1.0, gt_mask=None, lt_mask=None, x_d=None, x_phase=None, name='rmg_rxn_304_r2h', V_f=None, E_f=None, V_d=None),\n",
       " MoleculeDatapoint(mol=<rdkit.Chem.rdchem.Mol object at 0x719c54593370>, y=[18.0], weight=1.0, gt_mask=None, lt_mask=None, x_d=None, x_phase=None, name='rxn_279_r2h', V_f=None, E_f=None, V_d=None),\n",
       " MoleculeDatapoint(mol=<rdkit.Chem.rdchem.Mol object at 0x7198fd1540b0>, y=[65.0], weight=1.0, gt_mask=None, lt_mask=None, x_d=None, x_phase=None, name='rmg_rxn_173_r2h', V_f=None, E_f=None, V_d=None),\n",
       " MoleculeDatapoint(mol=<rdkit.Chem.rdchem.Mol object at 0x7198fd1547b0>, y=[91.0], weight=1.0, gt_mask=None, lt_mask=None, x_d=None, x_phase=None, name='rmg_rxn_1544_r2h', V_f=None, E_f=None, V_d=None),\n",
       " MoleculeDatapoint(mol=<rdkit.Chem.rdchem.Mol object at 0x7198fd154b30>, y=[48.0], weight=1.0, gt_mask=None, lt_mask=None, x_d=None, x_phase=None, name='rxn_1225_r2h', V_f=None, E_f=None, V_d=None),\n",
       " MoleculeDatapoint(mol=<rdkit.Chem.rdchem.Mol object at 0x7198fd1553f0>, y=[26.0], weight=1.0, gt_mask=None, lt_mask=None, x_d=None, x_phase=None, name='rxn_560_r2h', V_f=None, E_f=None, V_d=None),\n",
       " MoleculeDatapoint(mol=<rdkit.Chem.rdchem.Mol object at 0x7198fd155af0>, y=[26.0], weight=1.0, gt_mask=None, lt_mask=None, x_d=None, x_phase=None, name='rxn_841_r2h', V_f=None, E_f=None, V_d=None),\n",
       " MoleculeDatapoint(mol=<rdkit.Chem.rdchem.Mol object at 0x7198fd1561f0>, y=[58.0], weight=1.0, gt_mask=None, lt_mask=None, x_d=None, x_phase=None, name='rmg_rxn_15615_r2h', V_f=None, E_f=None, V_d=None),\n",
       " MoleculeDatapoint(mol=<rdkit.Chem.rdchem.Mol object at 0x7198fd1569d0>, y=[47.0], weight=1.0, gt_mask=None, lt_mask=None, x_d=None, x_phase=None, name='rxn_487_r2h', V_f=None, E_f=None, V_d=None),\n",
       " MoleculeDatapoint(mol=<rdkit.Chem.rdchem.Mol object at 0x7198fd157060>, y=[60.0], weight=1.0, gt_mask=None, lt_mask=None, x_d=None, x_phase=None, name='rxn_885_r2h', V_f=None, E_f=None, V_d=None),\n",
       " MoleculeDatapoint(mol=<rdkit.Chem.rdchem.Mol object at 0x7198fd1578b0>, y=[11.0], weight=1.0, gt_mask=None, lt_mask=None, x_d=None, x_phase=None, name='rxn_1644_r2h', V_f=None, E_f=None, V_d=None),\n",
       " MoleculeDatapoint(mol=<rdkit.Chem.rdchem.Mol object at 0x7198fd157610>, y=[79.0], weight=1.0, gt_mask=None, lt_mask=None, x_d=None, x_phase=None, name='rxn_1962_r2h', V_f=None, E_f=None, V_d=None),\n",
       " MoleculeDatapoint(mol=<rdkit.Chem.rdchem.Mol object at 0x7198fd154660>, y=[84.0], weight=1.0, gt_mask=None, lt_mask=None, x_d=None, x_phase=None, name='rxn_1017_r2h', V_f=None, E_f=None, V_d=None),\n",
       " MoleculeDatapoint(mol=<rdkit.Chem.rdchem.Mol object at 0x7198fd154d60>, y=[30.0], weight=1.0, gt_mask=None, lt_mask=None, x_d=None, x_phase=None, name='rxn_1845_r2h', V_f=None, E_f=None, V_d=None),\n",
       " MoleculeDatapoint(mol=<rdkit.Chem.rdchem.Mol object at 0x7198fd155460>, y=[30.0], weight=1.0, gt_mask=None, lt_mask=None, x_d=None, x_phase=None, name='rxn_962_r2h', V_f=None, E_f=None, V_d=None),\n",
       " MoleculeDatapoint(mol=<rdkit.Chem.rdchem.Mol object at 0x7198fd155b60>, y=[36.0], weight=1.0, gt_mask=None, lt_mask=None, x_d=None, x_phase=None, name='rxn_1621_r2h', V_f=None, E_f=None, V_d=None),\n",
       " MoleculeDatapoint(mol=<rdkit.Chem.rdchem.Mol object at 0x7198fd156260>, y=[61.0], weight=1.0, gt_mask=None, lt_mask=None, x_d=None, x_phase=None, name='rmg_rxn_15633_r2h', V_f=None, E_f=None, V_d=None),\n",
       " MoleculeDatapoint(mol=<rdkit.Chem.rdchem.Mol object at 0x7198fd156a40>, y=[86.0], weight=1.0, gt_mask=None, lt_mask=None, x_d=None, x_phase=None, name='rxn_461_r2h', V_f=None, E_f=None, V_d=None),\n",
       " MoleculeDatapoint(mol=<rdkit.Chem.rdchem.Mol object at 0x7198fd1570d0>, y=[9.0], weight=1.0, gt_mask=None, lt_mask=None, x_d=None, x_phase=None, name='rxn_298_r2h', V_f=None, E_f=None, V_d=None),\n",
       " MoleculeDatapoint(mol=<rdkit.Chem.rdchem.Mol object at 0x7198fd157920>, y=[38.0], weight=1.0, gt_mask=None, lt_mask=None, x_d=None, x_phase=None, name='rxn_1467_r2h', V_f=None, E_f=None, V_d=None),\n",
       " MoleculeDatapoint(mol=<rdkit.Chem.rdchem.Mol object at 0x7198fd15f840>, y=[23.0], weight=1.0, gt_mask=None, lt_mask=None, x_d=None, x_phase=None, name='rxn_260_r2h', V_f=None, E_f=None, V_d=None),\n",
       " MoleculeDatapoint(mol=<rdkit.Chem.rdchem.Mol object at 0x7198fd15c3c0>, y=[80.0], weight=1.0, gt_mask=None, lt_mask=None, x_d=None, x_phase=None, name='rxn_3223_r2h', V_f=None, E_f=None, V_d=None),\n",
       " MoleculeDatapoint(mol=<rdkit.Chem.rdchem.Mol object at 0x7198fd15cac0>, y=[35.0], weight=1.0, gt_mask=None, lt_mask=None, x_d=None, x_phase=None, name='rxn_924_r2h', V_f=None, E_f=None, V_d=None),\n",
       " MoleculeDatapoint(mol=<rdkit.Chem.rdchem.Mol object at 0x7198fd15d1c0>, y=[55.0], weight=1.0, gt_mask=None, lt_mask=None, x_d=None, x_phase=None, name='rxn_3248_r2h', V_f=None, E_f=None, V_d=None),\n",
       " MoleculeDatapoint(mol=<rdkit.Chem.rdchem.Mol object at 0x7198fd15da80>, y=[62.0], weight=1.0, gt_mask=None, lt_mask=None, x_d=None, x_phase=None, name='rxn_1113_r2h', V_f=None, E_f=None, V_d=None),\n",
       " MoleculeDatapoint(mol=<rdkit.Chem.rdchem.Mol object at 0x7198fd15e180>, y=[103.0], weight=1.0, gt_mask=None, lt_mask=None, x_d=None, x_phase=None, name='rmg_rxn_15703_r2h', V_f=None, E_f=None, V_d=None),\n",
       " MoleculeDatapoint(mol=<rdkit.Chem.rdchem.Mol object at 0x7198fd15e880>, y=[15.0], weight=1.0, gt_mask=None, lt_mask=None, x_d=None, x_phase=None, name='rxn_570_r2h', V_f=None, E_f=None, V_d=None),\n",
       " MoleculeDatapoint(mol=<rdkit.Chem.rdchem.Mol object at 0x7198fd15ef80>, y=[48.0], weight=1.0, gt_mask=None, lt_mask=None, x_d=None, x_phase=None, name='rxn_1071_r2h', V_f=None, E_f=None, V_d=None),\n",
       " MoleculeDatapoint(mol=<rdkit.Chem.rdchem.Mol object at 0x7198fd15f680>, y=[12.0], weight=1.0, gt_mask=None, lt_mask=None, x_d=None, x_phase=None, name='rxn_936_r2h', V_f=None, E_f=None, V_d=None),\n",
       " MoleculeDatapoint(mol=<rdkit.Chem.rdchem.Mol object at 0x7198fd15fa70>, y=[65.0], weight=1.0, gt_mask=None, lt_mask=None, x_d=None, x_phase=None, name='rxn_1_r2h', V_f=None, E_f=None, V_d=None),\n",
       " MoleculeDatapoint(mol=<rdkit.Chem.rdchem.Mol object at 0x7198fd15c270>, y=[75.0], weight=1.0, gt_mask=None, lt_mask=None, x_d=None, x_phase=None, name='rxn_1882_r2h', V_f=None, E_f=None, V_d=None),\n",
       " MoleculeDatapoint(mol=<rdkit.Chem.rdchem.Mol object at 0x7198fd15cb30>, y=[56.0], weight=1.0, gt_mask=None, lt_mask=None, x_d=None, x_phase=None, name='rxn_96_r2h', V_f=None, E_f=None, V_d=None),\n",
       " MoleculeDatapoint(mol=<rdkit.Chem.rdchem.Mol object at 0x7198fd15d230>, y=[83.0], weight=1.0, gt_mask=None, lt_mask=None, x_d=None, x_phase=None, name='rxn_1430_r2h', V_f=None, E_f=None, V_d=None),\n",
       " MoleculeDatapoint(mol=<rdkit.Chem.rdchem.Mol object at 0x7198fd15daf0>, y=[82.0], weight=1.0, gt_mask=None, lt_mask=None, x_d=None, x_phase=None, name='rxn_3213_r2h', V_f=None, E_f=None, V_d=None),\n",
       " MoleculeDatapoint(mol=<rdkit.Chem.rdchem.Mol object at 0x7198fd15e1f0>, y=[40.0], weight=1.0, gt_mask=None, lt_mask=None, x_d=None, x_phase=None, name='rxn_1844_r2h', V_f=None, E_f=None, V_d=None),\n",
       " MoleculeDatapoint(mol=<rdkit.Chem.rdchem.Mol object at 0x7198fd15e8f0>, y=[54.0], weight=1.0, gt_mask=None, lt_mask=None, x_d=None, x_phase=None, name='rmg_rxn_246_r2h', V_f=None, E_f=None, V_d=None),\n",
       " MoleculeDatapoint(mol=<rdkit.Chem.rdchem.Mol object at 0x7198fd15eff0>, y=[5.0], weight=1.0, gt_mask=None, lt_mask=None, x_d=None, x_phase=None, name='rxn_612_r2h', V_f=None, E_f=None, V_d=None),\n",
       " MoleculeDatapoint(mol=<rdkit.Chem.rdchem.Mol object at 0x7198fd15f6f0>, y=[53.0], weight=1.0, gt_mask=None, lt_mask=None, x_d=None, x_phase=None, name='rmg_rxn_15709_r2h', V_f=None, E_f=None, V_d=None),\n",
       " MoleculeDatapoint(mol=<rdkit.Chem.rdchem.Mol object at 0x7198fd15fd80>, y=[101.0], weight=1.0, gt_mask=None, lt_mask=None, x_d=None, x_phase=None, name='rxn_1789_r2h', V_f=None, E_f=None, V_d=None),\n",
       " MoleculeDatapoint(mol=<rdkit.Chem.rdchem.Mol object at 0x7198fd164040>, y=[148.0], weight=1.0, gt_mask=None, lt_mask=None, x_d=None, x_phase=None, name='rmg_rxn_15592_r2h', V_f=None, E_f=None, V_d=None),\n",
       " MoleculeDatapoint(mol=<rdkit.Chem.rdchem.Mol object at 0x7198fd1646d0>, y=[29.75], weight=1.0, gt_mask=None, lt_mask=None, x_d=None, x_phase=None, name='rxn_285_r2h', V_f=None, E_f=None, V_d=None),\n",
       " MoleculeDatapoint(mol=<rdkit.Chem.rdchem.Mol object at 0x7198fd164dd0>, y=[52.0], weight=1.0, gt_mask=None, lt_mask=None, x_d=None, x_phase=None, name='rmg_rxn_338_r2h', V_f=None, E_f=None, V_d=None),\n",
       " MoleculeDatapoint(mol=<rdkit.Chem.rdchem.Mol object at 0x7198fd1654d0>, y=[80.0], weight=1.0, gt_mask=None, lt_mask=None, x_d=None, x_phase=None, name='rxn_752_r2h', V_f=None, E_f=None, V_d=None),\n",
       " MoleculeDatapoint(mol=<rdkit.Chem.rdchem.Mol object at 0x7198fd165d90>, y=[97.0], weight=1.0, gt_mask=None, lt_mask=None, x_d=None, x_phase=None, name='rxn_1952_r2h', V_f=None, E_f=None, V_d=None),\n",
       " MoleculeDatapoint(mol=<rdkit.Chem.rdchem.Mol object at 0x7198fd166490>, y=[64.15999999997439], weight=1.0, gt_mask=None, lt_mask=None, x_d=None, x_phase=None, name='rxn_1842_r2h', V_f=None, E_f=None, V_d=None),\n",
       " MoleculeDatapoint(mol=<rdkit.Chem.rdchem.Mol object at 0x7198fd166b90>, y=[56.0], weight=1.0, gt_mask=None, lt_mask=None, x_d=None, x_phase=None, name='rmg_rxn_15478_r2h', V_f=None, E_f=None, V_d=None),\n",
       " MoleculeDatapoint(mol=<rdkit.Chem.rdchem.Mol object at 0x7198fd167290>, y=[48.0], weight=1.0, gt_mask=None, lt_mask=None, x_d=None, x_phase=None, name='rxn_1063_r2h', V_f=None, E_f=None, V_d=None),\n",
       " MoleculeDatapoint(mol=<rdkit.Chem.rdchem.Mol object at 0x7198fd167d10>, y=[102.0], weight=1.0, gt_mask=None, lt_mask=None, x_d=None, x_phase=None, name='rxn_1157_r2h', V_f=None, E_f=None, V_d=None),\n",
       " MoleculeDatapoint(mol=<rdkit.Chem.rdchem.Mol object at 0x7198fd167d80>, y=[80.0], weight=1.0, gt_mask=None, lt_mask=None, x_d=None, x_phase=None, name='rxn_1435_r2h', V_f=None, E_f=None, V_d=None),\n",
       " MoleculeDatapoint(mol=<rdkit.Chem.rdchem.Mol object at 0x7198fd164740>, y=[98.0], weight=1.0, gt_mask=None, lt_mask=None, x_d=None, x_phase=None, name='rxn_1367_r2h', V_f=None, E_f=None, V_d=None),\n",
       " MoleculeDatapoint(mol=<rdkit.Chem.rdchem.Mol object at 0x7198fd164e40>, y=[65.0], weight=1.0, gt_mask=None, lt_mask=None, x_d=None, x_phase=None, name='rxn_3247_r2h', V_f=None, E_f=None, V_d=None),\n",
       " MoleculeDatapoint(mol=<rdkit.Chem.rdchem.Mol object at 0x7198fd165540>, y=[33.0], weight=1.0, gt_mask=None, lt_mask=None, x_d=None, x_phase=None, name='rxn_1923_r2h', V_f=None, E_f=None, V_d=None),\n",
       " MoleculeDatapoint(mol=<rdkit.Chem.rdchem.Mol object at 0x7198fd165c40>, y=[121.0], weight=1.0, gt_mask=None, lt_mask=None, x_d=None, x_phase=None, name='rmg_rxn_15453_r2h', V_f=None, E_f=None, V_d=None),\n",
       " MoleculeDatapoint(mol=<rdkit.Chem.rdchem.Mol object at 0x7198fd166500>, y=[23.0], weight=1.0, gt_mask=None, lt_mask=None, x_d=None, x_phase=None, name='rxn_1815_r2h', V_f=None, E_f=None, V_d=None),\n",
       " MoleculeDatapoint(mol=<rdkit.Chem.rdchem.Mol object at 0x7198fd166c00>, y=[78.15999999997439], weight=1.0, gt_mask=None, lt_mask=None, x_d=None, x_phase=None, name='rxn_112_r2h', V_f=None, E_f=None, V_d=None),\n",
       " MoleculeDatapoint(mol=<rdkit.Chem.rdchem.Mol object at 0x7198fd167300>, y=[28.0], weight=1.0, gt_mask=None, lt_mask=None, x_d=None, x_phase=None, name='rmg_rxn_16719_r2h', V_f=None, E_f=None, V_d=None),\n",
       " MoleculeDatapoint(mol=<rdkit.Chem.rdchem.Mol object at 0x7198fd167bc0>, y=[93.0], weight=1.0, gt_mask=None, lt_mask=None, x_d=None, x_phase=None, name='rxn_327_r2h', V_f=None, E_f=None, V_d=None),\n",
       " MoleculeDatapoint(mol=<rdkit.Chem.rdchem.Mol object at 0x7198fd16c4a0>, y=[23.0], weight=1.0, gt_mask=None, lt_mask=None, x_d=None, x_phase=None, name='rxn_128_r2h', V_f=None, E_f=None, V_d=None),\n",
       " MoleculeDatapoint(mol=<rdkit.Chem.rdchem.Mol object at 0x7198fd16cba0>, y=[75.0], weight=1.0, gt_mask=None, lt_mask=None, x_d=None, x_phase=None, name='rmg_rxn_30_r2h', V_f=None, E_f=None, V_d=None),\n",
       " MoleculeDatapoint(mol=<rdkit.Chem.rdchem.Mol object at 0x7198fd16d2a0>, y=[83.0], weight=1.0, gt_mask=None, lt_mask=None, x_d=None, x_phase=None, name='rxn_1664_r2h', V_f=None, E_f=None, V_d=None),\n",
       " MoleculeDatapoint(mol=<rdkit.Chem.rdchem.Mol object at 0x7198fd16d9a0>, y=[72.0], weight=1.0, gt_mask=None, lt_mask=None, x_d=None, x_phase=None, name='rmg_rxn_343_r2h', V_f=None, E_f=None, V_d=None),\n",
       " MoleculeDatapoint(mol=<rdkit.Chem.rdchem.Mol object at 0x7198fd16e0a0>, y=[119.0], weight=1.0, gt_mask=None, lt_mask=None, x_d=None, x_phase=None, name='rmg_rxn_15723_r2h', V_f=None, E_f=None, V_d=None),\n",
       " MoleculeDatapoint(mol=<rdkit.Chem.rdchem.Mol object at 0x7198fd16e7a0>, y=[29.0], weight=1.0, gt_mask=None, lt_mask=None, x_d=None, x_phase=None, name='rxn_1914_r2h', V_f=None, E_f=None, V_d=None),\n",
       " MoleculeDatapoint(mol=<rdkit.Chem.rdchem.Mol object at 0x7198fd16eea0>, y=[70.0], weight=1.0, gt_mask=None, lt_mask=None, x_d=None, x_phase=None, name='rmg_rxn_54_r2h', V_f=None, E_f=None, V_d=None),\n",
       " MoleculeDatapoint(mol=<rdkit.Chem.rdchem.Mol object at 0x7198fd16f5a0>, y=[47.0], weight=1.0, gt_mask=None, lt_mask=None, x_d=None, x_phase=None, name='rxn_1440_r2h', V_f=None, E_f=None, V_d=None),\n",
       " MoleculeDatapoint(mol=<rdkit.Chem.rdchem.Mol object at 0x7198fd16fca0>, y=[43.0], weight=1.0, gt_mask=None, lt_mask=None, x_d=None, x_phase=None, name='rmg_rxn_16523_r2h', V_f=None, E_f=None, V_d=None),\n",
       " MoleculeDatapoint(mol=<rdkit.Chem.rdchem.Mol object at 0x7198fd16c510>, y=[41.0], weight=1.0, gt_mask=None, lt_mask=None, x_d=None, x_phase=None, name='rmg_rxn_57_r2h', V_f=None, E_f=None, V_d=None),\n",
       " MoleculeDatapoint(mol=<rdkit.Chem.rdchem.Mol object at 0x7198fd16cc10>, y=[72.15999999991618], weight=1.0, gt_mask=None, lt_mask=None, x_d=None, x_phase=None, name='rxn_1797_r2h', V_f=None, E_f=None, V_d=None),\n",
       " MoleculeDatapoint(mol=<rdkit.Chem.rdchem.Mol object at 0x7198fd16d310>, y=[83.0], weight=1.0, gt_mask=None, lt_mask=None, x_d=None, x_phase=None, name='rxn_1451_r2h', V_f=None, E_f=None, V_d=None),\n",
       " MoleculeDatapoint(mol=<rdkit.Chem.rdchem.Mol object at 0x7198fd16da10>, y=[58.0], weight=1.0, gt_mask=None, lt_mask=None, x_d=None, x_phase=None, name='rxn_1049_r2h', V_f=None, E_f=None, V_d=None),\n",
       " MoleculeDatapoint(mol=<rdkit.Chem.rdchem.Mol object at 0x7198fd16e110>, y=[17.0], weight=1.0, gt_mask=None, lt_mask=None, x_d=None, x_phase=None, name='rmg_rxn_1161_r2h', V_f=None, E_f=None, V_d=None),\n",
       " MoleculeDatapoint(mol=<rdkit.Chem.rdchem.Mol object at 0x7198fd16e810>, y=[65.0], weight=1.0, gt_mask=None, lt_mask=None, x_d=None, x_phase=None, name='rmg_rxn_15722_r2h', V_f=None, E_f=None, V_d=None),\n",
       " MoleculeDatapoint(mol=<rdkit.Chem.rdchem.Mol object at 0x7198fd16ef10>, y=[151.0], weight=1.0, gt_mask=None, lt_mask=None, x_d=None, x_phase=None, name='rmg_rxn_15597_r2h', V_f=None, E_f=None, V_d=None),\n",
       " MoleculeDatapoint(mol=<rdkit.Chem.rdchem.Mol object at 0x7198fd16f610>, y=[89.0], weight=1.0, gt_mask=None, lt_mask=None, x_d=None, x_phase=None, name='rxn_460_r2h', V_f=None, E_f=None, V_d=None),\n",
       " MoleculeDatapoint(mol=<rdkit.Chem.rdchem.Mol object at 0x7198fd16fd10>, y=[59.0], weight=1.0, gt_mask=None, lt_mask=None, x_d=None, x_phase=None, name='rmg_rxn_216_r2h', V_f=None, E_f=None, V_d=None),\n",
       " MoleculeDatapoint(mol=<rdkit.Chem.rdchem.Mol object at 0x7198fd17c270>, y=[88.0], weight=1.0, gt_mask=None, lt_mask=None, x_d=None, x_phase=None, name='rxn_1368_r2h', V_f=None, E_f=None, V_d=None),\n",
       " MoleculeDatapoint(mol=<rdkit.Chem.rdchem.Mol object at 0x7198fd17cb30>, y=[32.0], weight=1.0, gt_mask=None, lt_mask=None, x_d=None, x_phase=None, name='rxn_966_r2h', V_f=None, E_f=None, V_d=None),\n",
       " MoleculeDatapoint(mol=<rdkit.Chem.rdchem.Mol object at 0x7198fd17d230>, y=[81.0], weight=1.0, gt_mask=None, lt_mask=None, x_d=None, x_phase=None, name='rxn_1360_r2h', V_f=None, E_f=None, V_d=None),\n",
       " MoleculeDatapoint(mol=<rdkit.Chem.rdchem.Mol object at 0x7198fd17d930>, y=[73.0], weight=1.0, gt_mask=None, lt_mask=None, x_d=None, x_phase=None, name='rmg_rxn_229_r2h', V_f=None, E_f=None, V_d=None),\n",
       " MoleculeDatapoint(mol=<rdkit.Chem.rdchem.Mol object at 0x7198fd17e030>, y=[48.0], weight=1.0, gt_mask=None, lt_mask=None, x_d=None, x_phase=None, name='rxn_3219_r2h', V_f=None, E_f=None, V_d=None),\n",
       " MoleculeDatapoint(mol=<rdkit.Chem.rdchem.Mol object at 0x7198fd17e730>, y=[62.0], weight=1.0, gt_mask=None, lt_mask=None, x_d=None, x_phase=None, name='rmg_rxn_277_r2h', V_f=None, E_f=None, V_d=None),\n",
       " MoleculeDatapoint(mol=<rdkit.Chem.rdchem.Mol object at 0x7198fd17ee30>, y=[62.0], weight=1.0, gt_mask=None, lt_mask=None, x_d=None, x_phase=None, name='rxn_578_r2h', V_f=None, E_f=None, V_d=None),\n",
       " MoleculeDatapoint(mol=<rdkit.Chem.rdchem.Mol object at 0x7198fd17f530>, y=[51.75], weight=1.0, gt_mask=None, lt_mask=None, x_d=None, x_phase=None, name='rxn_288_r2h', V_f=None, E_f=None, V_d=None),\n",
       " MoleculeDatapoint(mol=<rdkit.Chem.rdchem.Mol object at 0x7198fd17fc30>, y=[39.0], weight=1.0, gt_mask=None, lt_mask=None, x_d=None, x_phase=None, name='rxn_301_r2h', V_f=None, E_f=None, V_d=None),\n",
       " MoleculeDatapoint(mol=<rdkit.Chem.rdchem.Mol object at 0x7198fd17c2e0>, y=[101.0], weight=1.0, gt_mask=None, lt_mask=None, x_d=None, x_phase=None, name='rxn_365_r2h', V_f=None, E_f=None, V_d=None),\n",
       " MoleculeDatapoint(mol=<rdkit.Chem.rdchem.Mol object at 0x7198fd17cba0>, y=[35.0], weight=1.0, gt_mask=None, lt_mask=None, x_d=None, x_phase=None, name='rmg_rxn_15651_r2h', V_f=None, E_f=None, V_d=None),\n",
       " MoleculeDatapoint(mol=<rdkit.Chem.rdchem.Mol object at 0x7198fd17d2a0>, y=[60.0], weight=1.0, gt_mask=None, lt_mask=None, x_d=None, x_phase=None, name='rxn_464_r2h', V_f=None, E_f=None, V_d=None),\n",
       " MoleculeDatapoint(mol=<rdkit.Chem.rdchem.Mol object at 0x7198fd17d9a0>, y=[90.0], weight=1.0, gt_mask=None, lt_mask=None, x_d=None, x_phase=None, name='rmg_rxn_15647_r2h', V_f=None, E_f=None, V_d=None),\n",
       " MoleculeDatapoint(mol=<rdkit.Chem.rdchem.Mol object at 0x7198fd17e0a0>, y=[132.0], weight=1.0, gt_mask=None, lt_mask=None, x_d=None, x_phase=None, name='rxn_1198_r2h', V_f=None, E_f=None, V_d=None),\n",
       " MoleculeDatapoint(mol=<rdkit.Chem.rdchem.Mol object at 0x7198fd17e7a0>, y=[80.0], weight=1.0, gt_mask=None, lt_mask=None, x_d=None, x_phase=None, name='rmg_rxn_1344_r2h', V_f=None, E_f=None, V_d=None),\n",
       " MoleculeDatapoint(mol=<rdkit.Chem.rdchem.Mol object at 0x7198fd17eea0>, y=[60.0], weight=1.0, gt_mask=None, lt_mask=None, x_d=None, x_phase=None, name='rxn_1986_r2h', V_f=None, E_f=None, V_d=None),\n",
       " MoleculeDatapoint(mol=<rdkit.Chem.rdchem.Mol object at 0x7198fd17f5a0>, y=[49.0], weight=1.0, gt_mask=None, lt_mask=None, x_d=None, x_phase=None, name='rxn_456_r2h', V_f=None, E_f=None, V_d=None),\n",
       " MoleculeDatapoint(mol=<rdkit.Chem.rdchem.Mol object at 0x7198fd17fca0>, y=[73.0], weight=1.0, gt_mask=None, lt_mask=None, x_d=None, x_phase=None, name='rmg_rxn_15496_r2h', V_f=None, E_f=None, V_d=None),\n",
       " MoleculeDatapoint(mol=<rdkit.Chem.rdchem.Mol object at 0x7198fd186c00>, y=[82.0], weight=1.0, gt_mask=None, lt_mask=None, x_d=None, x_phase=None, name='rxn_775_r2h', V_f=None, E_f=None, V_d=None),\n",
       " MoleculeDatapoint(mol=<rdkit.Chem.rdchem.Mol object at 0x7198fd184580>, y=[11.0], weight=1.0, gt_mask=None, lt_mask=None, x_d=None, x_phase=None, name='rxn_960_r2h', V_f=None, E_f=None, V_d=None),\n",
       " MoleculeDatapoint(mol=<rdkit.Chem.rdchem.Mol object at 0x7198fd184c80>, y=[29.0], weight=1.0, gt_mask=None, lt_mask=None, x_d=None, x_phase=None, name='rxn_270_r2h', V_f=None, E_f=None, V_d=None),\n",
       " MoleculeDatapoint(mol=<rdkit.Chem.rdchem.Mol object at 0x7198fd185380>, y=[106.0], weight=1.0, gt_mask=None, lt_mask=None, x_d=None, x_phase=None, name='rxn_760_r2h', V_f=None, E_f=None, V_d=None),\n",
       " MoleculeDatapoint(mol=<rdkit.Chem.rdchem.Mol object at 0x7198fd185af0>, y=[108.1599999999744], weight=1.0, gt_mask=None, lt_mask=None, x_d=None, x_phase=None, name='rxn_753_r2h', V_f=None, E_f=None, V_d=None),\n",
       " MoleculeDatapoint(mol=<rdkit.Chem.rdchem.Mol object at 0x7198fd1861f0>, y=[24.0], weight=1.0, gt_mask=None, lt_mask=None, x_d=None, x_phase=None, name='rxn_259_r2h', V_f=None, E_f=None, V_d=None),\n",
       " MoleculeDatapoint(mol=<rdkit.Chem.rdchem.Mol object at 0x7198fd186a40>, y=[21.75], weight=1.0, gt_mask=None, lt_mask=None, x_d=None, x_phase=None, name='rxn_790_r2h', V_f=None, E_f=None, V_d=None),\n",
       " MoleculeDatapoint(mol=<rdkit.Chem.rdchem.Mol object at 0x7198fd187680>, y=[119.0], weight=1.0, gt_mask=None, lt_mask=None, x_d=None, x_phase=None, name='rxn_105_r2h', V_f=None, E_f=None, V_d=None),\n",
       " MoleculeDatapoint(mol=<rdkit.Chem.rdchem.Mol object at 0x7198fd187f40>, y=[44.0], weight=1.0, gt_mask=None, lt_mask=None, x_d=None, x_phase=None, name='rxn_1028_r2h', V_f=None, E_f=None, V_d=None),\n",
       " MoleculeDatapoint(mol=<rdkit.Chem.rdchem.Mol object at 0x7198fd184270>, y=[49.0], weight=1.0, gt_mask=None, lt_mask=None, x_d=None, x_phase=None, name='rmg_rxn_278_r2h', V_f=None, E_f=None, V_d=None),\n",
       " MoleculeDatapoint(mol=<rdkit.Chem.rdchem.Mol object at 0x7198fd1847b0>, y=[6.0], weight=1.0, gt_mask=None, lt_mask=None, x_d=None, x_phase=None, name='rxn_229_r2h', V_f=None, E_f=None, V_d=None),\n",
       " MoleculeDatapoint(mol=<rdkit.Chem.rdchem.Mol object at 0x7198fd184eb0>, y=[70.0], weight=1.0, gt_mask=None, lt_mask=None, x_d=None, x_phase=None, name='rxn_1991_r2h', V_f=None, E_f=None, V_d=None),\n",
       " MoleculeDatapoint(mol=<rdkit.Chem.rdchem.Mol object at 0x7198fd185620>, y=[56.0], weight=1.0, gt_mask=None, lt_mask=None, x_d=None, x_phase=None, name='rxn_1398_r2h', V_f=None, E_f=None, V_d=None),\n",
       " MoleculeDatapoint(mol=<rdkit.Chem.rdchem.Mol object at 0x7198fd185d20>, y=[30.0], weight=1.0, gt_mask=None, lt_mask=None, x_d=None, x_phase=None, name='rxn_1854_r2h', V_f=None, E_f=None, V_d=None),\n",
       " MoleculeDatapoint(mol=<rdkit.Chem.rdchem.Mol object at 0x7198fd186420>, y=[32.0], weight=1.0, gt_mask=None, lt_mask=None, x_d=None, x_phase=None, name='rxn_933_r2h', V_f=None, E_f=None, V_d=None),\n",
       " MoleculeDatapoint(mol=<rdkit.Chem.rdchem.Mol object at 0x7198fd186730>, y=[40.0], weight=1.0, gt_mask=None, lt_mask=None, x_d=None, x_phase=None, name='rxn_1948_r2h', V_f=None, E_f=None, V_d=None),\n",
       " MoleculeDatapoint(mol=<rdkit.Chem.rdchem.Mol object at 0x7198fd187530>, y=[74.0], weight=1.0, gt_mask=None, lt_mask=None, x_d=None, x_phase=None, name='rxn_3210_r2h', V_f=None, E_f=None, V_d=None),\n",
       " MoleculeDatapoint(mol=<rdkit.Chem.rdchem.Mol object at 0x7198fd187c30>, y=[12.0], weight=1.0, gt_mask=None, lt_mask=None, x_d=None, x_phase=None, name='rxn_562_r2h', V_f=None, E_f=None, V_d=None),\n",
       " MoleculeDatapoint(mol=<rdkit.Chem.rdchem.Mol object at 0x7198fd18dbd0>, y=[88.0], weight=1.0, gt_mask=None, lt_mask=None, x_d=None, x_phase=None, name='rxn_452_r2h', V_f=None, E_f=None, V_d=None),\n",
       " MoleculeDatapoint(mol=<rdkit.Chem.rdchem.Mol object at 0x7198fd18c190>, y=[64.0], weight=1.0, gt_mask=None, lt_mask=None, x_d=None, x_phase=None, name='rmg_rxn_15513_r2h', V_f=None, E_f=None, V_d=None),\n",
       " MoleculeDatapoint(mol=<rdkit.Chem.rdchem.Mol object at 0x7198fd18c890>, y=[68.0], weight=1.0, gt_mask=None, lt_mask=None, x_d=None, x_phase=None, name='rxn_1376_r2h', V_f=None, E_f=None, V_d=None),\n",
       " MoleculeDatapoint(mol=<rdkit.Chem.rdchem.Mol object at 0x7198fd18cf90>, y=[91.0], weight=1.0, gt_mask=None, lt_mask=None, x_d=None, x_phase=None, name='rmg_rxn_1561_r2h', V_f=None, E_f=None, V_d=None),\n",
       " MoleculeDatapoint(mol=<rdkit.Chem.rdchem.Mol object at 0x7198fd18d850>, y=[169.0], weight=1.0, gt_mask=None, lt_mask=None, x_d=None, x_phase=None, name='rmg_rxn_1538_r2h', V_f=None, E_f=None, V_d=None),\n",
       " MoleculeDatapoint(mol=<rdkit.Chem.rdchem.Mol object at 0x7198fd18e110>, y=[65.0], weight=1.0, gt_mask=None, lt_mask=None, x_d=None, x_phase=None, name='rxn_1331_r2h', V_f=None, E_f=None, V_d=None),\n",
       " MoleculeDatapoint(mol=<rdkit.Chem.rdchem.Mol object at 0x7198fd18e810>, y=[44.0], weight=1.0, gt_mask=None, lt_mask=None, x_d=None, x_phase=None, name='rmg_rxn_215_r2h', V_f=None, E_f=None, V_d=None),\n",
       " MoleculeDatapoint(mol=<rdkit.Chem.rdchem.Mol object at 0x7198fd18ef10>, y=[54.0], weight=1.0, gt_mask=None, lt_mask=None, x_d=None, x_phase=None, name='rxn_480_r2h', V_f=None, E_f=None, V_d=None),\n",
       " MoleculeDatapoint(mol=<rdkit.Chem.rdchem.Mol object at 0x7198fd18f610>, y=[37.0], weight=1.0, gt_mask=None, lt_mask=None, x_d=None, x_phase=None, name='rxn_406_r2h', V_f=None, E_f=None, V_d=None),\n",
       " MoleculeDatapoint(mol=<rdkit.Chem.rdchem.Mol object at 0x7198fd18fed0>, y=[86.0], weight=1.0, gt_mask=None, lt_mask=None, x_d=None, x_phase=None, name='rmg_rxn_31_r2h', V_f=None, E_f=None, V_d=None),\n",
       " MoleculeDatapoint(mol=<rdkit.Chem.rdchem.Mol object at 0x7198fd18c3c0>, y=[13.0], weight=1.0, gt_mask=None, lt_mask=None, x_d=None, x_phase=None, name='rmg_rxn_1157_r2h', V_f=None, E_f=None, V_d=None),\n",
       " MoleculeDatapoint(mol=<rdkit.Chem.rdchem.Mol object at 0x7198fd18cac0>, y=[114.0], weight=1.0, gt_mask=None, lt_mask=None, x_d=None, x_phase=None, name='rxn_757_r2h', V_f=None, E_f=None, V_d=None),\n",
       " MoleculeDatapoint(mol=<rdkit.Chem.rdchem.Mol object at 0x7198fd18d1c0>, y=[61.0], weight=1.0, gt_mask=None, lt_mask=None, x_d=None, x_phase=None, name='rxn_954_r2h', V_f=None, E_f=None, V_d=None),\n",
       " MoleculeDatapoint(mol=<rdkit.Chem.rdchem.Mol object at 0x7198fd18da80>, y=[67.0], weight=1.0, gt_mask=None, lt_mask=None, x_d=None, x_phase=None, name='rxn_463_r2h', V_f=None, E_f=None, V_d=None),\n",
       " MoleculeDatapoint(mol=<rdkit.Chem.rdchem.Mol object at 0x7198fd18e340>, y=[52.0], weight=1.0, gt_mask=None, lt_mask=None, x_d=None, x_phase=None, name='rmg_rxn_16643_r2h', V_f=None, E_f=None, V_d=None),\n",
       " MoleculeDatapoint(mol=<rdkit.Chem.rdchem.Mol object at 0x7198fd18ea40>, y=[121.0], weight=1.0, gt_mask=None, lt_mask=None, x_d=None, x_phase=None, name='rxn_754_r2h', V_f=None, E_f=None, V_d=None),\n",
       " MoleculeDatapoint(mol=<rdkit.Chem.rdchem.Mol object at 0x7198fd18f140>, y=[59.0], weight=1.0, gt_mask=None, lt_mask=None, x_d=None, x_phase=None, name='rxn_410_r2h', V_f=None, E_f=None, V_d=None),\n",
       " MoleculeDatapoint(mol=<rdkit.Chem.rdchem.Mol object at 0x7198fd18f840>, y=[29.0], weight=1.0, gt_mask=None, lt_mask=None, x_d=None, x_phase=None, name='rxn_835_r2h', V_f=None, E_f=None, V_d=None),\n",
       " MoleculeDatapoint(mol=<rdkit.Chem.rdchem.Mol object at 0x7198fd190f20>, y=[70.0], weight=1.0, gt_mask=None, lt_mask=None, x_d=None, x_phase=None, name='rxn_595_r2h', V_f=None, E_f=None, V_d=None),\n",
       " MoleculeDatapoint(mol=<rdkit.Chem.rdchem.Mol object at 0x7198fd190660>, y=[137.0], weight=1.0, gt_mask=None, lt_mask=None, x_d=None, x_phase=None, name='rmg_rxn_16555_r2h', V_f=None, E_f=None, V_d=None),\n",
       " MoleculeDatapoint(mol=<rdkit.Chem.rdchem.Mol object at 0x7198fd190d60>, y=[47.0], weight=1.0, gt_mask=None, lt_mask=None, x_d=None, x_phase=None, name='rxn_1008_r2h', V_f=None, E_f=None, V_d=None),\n",
       " MoleculeDatapoint(mol=<rdkit.Chem.rdchem.Mol object at 0x7198fd191620>, y=[91.0], weight=1.0, gt_mask=None, lt_mask=None, x_d=None, x_phase=None, name='rxn_373_r2h', V_f=None, E_f=None, V_d=None),\n",
       " MoleculeDatapoint(mol=<rdkit.Chem.rdchem.Mol object at 0x7198fd191d20>, y=[29.0], weight=1.0, gt_mask=None, lt_mask=None, x_d=None, x_phase=None, name='rxn_582_r2h', V_f=None, E_f=None, V_d=None),\n",
       " MoleculeDatapoint(mol=<rdkit.Chem.rdchem.Mol object at 0x7198fd192420>, y=[47.0], weight=1.0, gt_mask=None, lt_mask=None, x_d=None, x_phase=None, name='rxn_494_r2h', V_f=None, E_f=None, V_d=None),\n",
       " MoleculeDatapoint(mol=<rdkit.Chem.rdchem.Mol object at 0x7198fd192b20>, y=[107.0], weight=1.0, gt_mask=None, lt_mask=None, x_d=None, x_phase=None, name='rxn_110_r2h', V_f=None, E_f=None, V_d=None),\n",
       " MoleculeDatapoint(mol=<rdkit.Chem.rdchem.Mol object at 0x7198fd193220>, y=[53.0], weight=1.0, gt_mask=None, lt_mask=None, x_d=None, x_phase=None, name='rmg_rxn_272_r2h', V_f=None, E_f=None, V_d=None),\n",
       " MoleculeDatapoint(mol=<rdkit.Chem.rdchem.Mol object at 0x7198fd193920>, y=[83.0], weight=1.0, gt_mask=None, lt_mask=None, x_d=None, x_phase=None, name='rxn_1419_r2h', V_f=None, E_f=None, V_d=None),\n",
       " MoleculeDatapoint(mol=<rdkit.Chem.rdchem.Mol object at 0x7198fd193ca0>, y=[75.0], weight=1.0, gt_mask=None, lt_mask=None, x_d=None, x_phase=None, name='rxn_1361_r2h', V_f=None, E_f=None, V_d=None),\n",
       " MoleculeDatapoint(mol=<rdkit.Chem.rdchem.Mol object at 0x7198fd190510>, y=[36.0], weight=1.0, gt_mask=None, lt_mask=None, x_d=None, x_phase=None, name='rxn_218_r2h', V_f=None, E_f=None, V_d=None),\n",
       " MoleculeDatapoint(mol=<rdkit.Chem.rdchem.Mol object at 0x7198fd190c10>, y=[19.0], weight=1.0, gt_mask=None, lt_mask=None, x_d=None, x_phase=None, name='rxn_857_r2h', V_f=None, E_f=None, V_d=None),\n",
       " MoleculeDatapoint(mol=<rdkit.Chem.rdchem.Mol object at 0x7198fd1914d0>, y=[20.0], weight=1.0, gt_mask=None, lt_mask=None, x_d=None, x_phase=None, name='rxn_1896_r2h', V_f=None, E_f=None, V_d=None),\n",
       " MoleculeDatapoint(mol=<rdkit.Chem.rdchem.Mol object at 0x7198fd191bd0>, y=[36.0], weight=1.0, gt_mask=None, lt_mask=None, x_d=None, x_phase=None, name='rxn_344_r2h', V_f=None, E_f=None, V_d=None),\n",
       " MoleculeDatapoint(mol=<rdkit.Chem.rdchem.Mol object at 0x7198fd1922d0>, y=[125.0], weight=1.0, gt_mask=None, lt_mask=None, x_d=None, x_phase=None, name='rxn_2015_r2h', V_f=None, E_f=None, V_d=None),\n",
       " MoleculeDatapoint(mol=<rdkit.Chem.rdchem.Mol object at 0x7198fd1929d0>, y=[23.0], weight=1.0, gt_mask=None, lt_mask=None, x_d=None, x_phase=None, name='rxn_319_r2h', V_f=None, E_f=None, V_d=None),\n",
       " MoleculeDatapoint(mol=<rdkit.Chem.rdchem.Mol object at 0x7198fd1930d0>, y=[73.0], weight=1.0, gt_mask=None, lt_mask=None, x_d=None, x_phase=None, name='rxn_999_r2h', V_f=None, E_f=None, V_d=None),\n",
       " MoleculeDatapoint(mol=<rdkit.Chem.rdchem.Mol object at 0x7198fd1937d0>, y=[53.0], weight=1.0, gt_mask=None, lt_mask=None, x_d=None, x_phase=None, name='rxn_104_r2h', V_f=None, E_f=None, V_d=None),\n",
       " MoleculeDatapoint(mol=<rdkit.Chem.rdchem.Mol object at 0x7198fd193ed0>, y=[44.16000000000349], weight=1.0, gt_mask=None, lt_mask=None, x_d=None, x_phase=None, name='rxn_672_r2h', V_f=None, E_f=None, V_d=None),\n",
       " MoleculeDatapoint(mol=<rdkit.Chem.rdchem.Mol object at 0x7198fd1985f0>, y=[35.0], weight=1.0, gt_mask=None, lt_mask=None, x_d=None, x_phase=None, name='rxn_724_r2h', V_f=None, E_f=None, V_d=None),\n",
       " MoleculeDatapoint(mol=<rdkit.Chem.rdchem.Mol object at 0x7198fd198cf0>, y=[64.0], weight=1.0, gt_mask=None, lt_mask=None, x_d=None, x_phase=None, name='rxn_1019_r2h', V_f=None, E_f=None, V_d=None),\n",
       " MoleculeDatapoint(mol=<rdkit.Chem.rdchem.Mol object at 0x7198fd1993f0>, y=[54.0], weight=1.0, gt_mask=None, lt_mask=None, x_d=None, x_phase=None, name='rmg_rxn_307_r2h', V_f=None, E_f=None, V_d=None),\n",
       " MoleculeDatapoint(mol=<rdkit.Chem.rdchem.Mol object at 0x7198fd199af0>, y=[51.0], weight=1.0, gt_mask=None, lt_mask=None, x_d=None, x_phase=None, name='rmg_rxn_15588_r2h', V_f=None, E_f=None, V_d=None),\n",
       " MoleculeDatapoint(mol=<rdkit.Chem.rdchem.Mol object at 0x7198fd19a1f0>, y=[90.0], weight=1.0, gt_mask=None, lt_mask=None, x_d=None, x_phase=None, name='rmg_rxn_15661_r2h', V_f=None, E_f=None, V_d=None),\n",
       " MoleculeDatapoint(mol=<rdkit.Chem.rdchem.Mol object at 0x7198fd19a8f0>, y=[42.0], weight=1.0, gt_mask=None, lt_mask=None, x_d=None, x_phase=None, name='rmg_rxn_15538_r2h', V_f=None, E_f=None, V_d=None),\n",
       " MoleculeDatapoint(mol=<rdkit.Chem.rdchem.Mol object at 0x7198fd19aff0>, y=[30.0], weight=1.0, gt_mask=None, lt_mask=None, x_d=None, x_phase=None, name='rxn_1947_r2h', V_f=None, E_f=None, V_d=None),\n",
       " MoleculeDatapoint(mol=<rdkit.Chem.rdchem.Mol object at 0x7198fd19b6f0>, y=[95.0], weight=1.0, gt_mask=None, lt_mask=None, x_d=None, x_phase=None, name='rxn_1136_r2h', V_f=None, E_f=None, V_d=None),\n",
       " MoleculeDatapoint(mol=<rdkit.Chem.rdchem.Mol object at 0x7198fd19bdf0>, y=[92.0], weight=1.0, gt_mask=None, lt_mask=None, x_d=None, x_phase=None, name='rxn_1204_r2h', V_f=None, E_f=None, V_d=None),\n",
       " MoleculeDatapoint(mol=<rdkit.Chem.rdchem.Mol object at 0x7198fd198660>, y=[61.0], weight=1.0, gt_mask=None, lt_mask=None, x_d=None, x_phase=None, name='rxn_1227_r2h', V_f=None, E_f=None, V_d=None),\n",
       " MoleculeDatapoint(mol=<rdkit.Chem.rdchem.Mol object at 0x7198fd198d60>, y=[84.0], weight=1.0, gt_mask=None, lt_mask=None, x_d=None, x_phase=None, name='rmg_rxn_15412_r2h', V_f=None, E_f=None, V_d=None),\n",
       " MoleculeDatapoint(mol=<rdkit.Chem.rdchem.Mol object at 0x7198fd199460>, y=[20.0], weight=1.0, gt_mask=None, lt_mask=None, x_d=None, x_phase=None, name='rxn_1942_r2h', V_f=None, E_f=None, V_d=None),\n",
       " MoleculeDatapoint(mol=<rdkit.Chem.rdchem.Mol object at 0x7198fd199b60>, y=[92.0], weight=1.0, gt_mask=None, lt_mask=None, x_d=None, x_phase=None, name='rmg_rxn_212_r2h', V_f=None, E_f=None, V_d=None),\n",
       " MoleculeDatapoint(mol=<rdkit.Chem.rdchem.Mol object at 0x7198fd19a260>, y=[49.0], weight=1.0, gt_mask=None, lt_mask=None, x_d=None, x_phase=None, name='rxn_1292_r2h', V_f=None, E_f=None, V_d=None),\n",
       " MoleculeDatapoint(mol=<rdkit.Chem.rdchem.Mol object at 0x7198fd19a960>, y=[103.1599999999744], weight=1.0, gt_mask=None, lt_mask=None, x_d=None, x_phase=None, name='rxn_1301_r2h', V_f=None, E_f=None, V_d=None),\n",
       " MoleculeDatapoint(mol=<rdkit.Chem.rdchem.Mol object at 0x7198fd19b060>, y=[78.0], weight=1.0, gt_mask=None, lt_mask=None, x_d=None, x_phase=None, name='rxn_1370_r2h', V_f=None, E_f=None, V_d=None),\n",
       " MoleculeDatapoint(mol=<rdkit.Chem.rdchem.Mol object at 0x7198fd19b760>, y=[67.0], weight=1.0, gt_mask=None, lt_mask=None, x_d=None, x_phase=None, name='rmg_rxn_520_r2h', V_f=None, E_f=None, V_d=None),\n",
       " MoleculeDatapoint(mol=<rdkit.Chem.rdchem.Mol object at 0x7198fd19be60>, y=[24.0], weight=1.0, gt_mask=None, lt_mask=None, x_d=None, x_phase=None, name='rxn_920_r2h', V_f=None, E_f=None, V_d=None),\n",
       " MoleculeDatapoint(mol=<rdkit.Chem.rdchem.Mol object at 0x7198fd1a03c0>, y=[67.0], weight=1.0, gt_mask=None, lt_mask=None, x_d=None, x_phase=None, name='rxn_685_r2h', V_f=None, E_f=None, V_d=None),\n",
       " MoleculeDatapoint(mol=<rdkit.Chem.rdchem.Mol object at 0x7198fd1a0c80>, y=[47.0], weight=1.0, gt_mask=None, lt_mask=None, x_d=None, x_phase=None, name='rxn_886_r2h', V_f=None, E_f=None, V_d=None),\n",
       " MoleculeDatapoint(mol=<rdkit.Chem.rdchem.Mol object at 0x7198fd1a1380>, y=[78.0], weight=1.0, gt_mask=None, lt_mask=None, x_d=None, x_phase=None, name='rxn_1009_r2h', V_f=None, E_f=None, V_d=None),\n",
       " MoleculeDatapoint(mol=<rdkit.Chem.rdchem.Mol object at 0x7198fd1a1a80>, y=[58.0], weight=1.0, gt_mask=None, lt_mask=None, x_d=None, x_phase=None, name='rxn_417_r2h', V_f=None, E_f=None, V_d=None),\n",
       " MoleculeDatapoint(mol=<rdkit.Chem.rdchem.Mol object at 0x7198fd1a2180>, y=[15.0], weight=1.0, gt_mask=None, lt_mask=None, x_d=None, x_phase=None, name='rmg_rxn_16507_r2h', V_f=None, E_f=None, V_d=None),\n",
       " MoleculeDatapoint(mol=<rdkit.Chem.rdchem.Mol object at 0x7198fd1a2880>, y=[66.0], weight=1.0, gt_mask=None, lt_mask=None, x_d=None, x_phase=None, name='rxn_3215_r2h', V_f=None, E_f=None, V_d=None),\n",
       " MoleculeDatapoint(mol=<rdkit.Chem.rdchem.Mol object at 0x7198fd1a2f80>, y=[20.0], weight=1.0, gt_mask=None, lt_mask=None, x_d=None, x_phase=None, name='rmg_rxn_16690_r2h', V_f=None, E_f=None, V_d=None),\n",
       " MoleculeDatapoint(mol=<rdkit.Chem.rdchem.Mol object at 0x7198fd1a3680>, y=[49.0], weight=1.0, gt_mask=None, lt_mask=None, x_d=None, x_phase=None, name='rmg_rxn_236_r2h', V_f=None, E_f=None, V_d=None),\n",
       " MoleculeDatapoint(mol=<rdkit.Chem.rdchem.Mol object at 0x7198fd1a3f40>, y=[88.0], weight=1.0, gt_mask=None, lt_mask=None, x_d=None, x_phase=None, name='rxn_594_r2h', V_f=None, E_f=None, V_d=None),\n",
       " MoleculeDatapoint(mol=<rdkit.Chem.rdchem.Mol object at 0x7198fd1a0430>, y=[108.0], weight=1.0, gt_mask=None, lt_mask=None, x_d=None, x_phase=None, name='rxn_1083_r2h', V_f=None, E_f=None, V_d=None),\n",
       " MoleculeDatapoint(mol=<rdkit.Chem.rdchem.Mol object at 0x7198fd1a0cf0>, y=[58.0], weight=1.0, gt_mask=None, lt_mask=None, x_d=None, x_phase=None, name='rxn_895_r2h', V_f=None, E_f=None, V_d=None),\n",
       " MoleculeDatapoint(mol=<rdkit.Chem.rdchem.Mol object at 0x7198fd1a13f0>, y=[57.0], weight=1.0, gt_mask=None, lt_mask=None, x_d=None, x_phase=None, name='rmg_rxn_15603_r2h', V_f=None, E_f=None, V_d=None),\n",
       " MoleculeDatapoint(mol=<rdkit.Chem.rdchem.Mol object at 0x7198fd1a1af0>, y=[33.0], weight=1.0, gt_mask=None, lt_mask=None, x_d=None, x_phase=None, name='rxn_439_r2h', V_f=None, E_f=None, V_d=None),\n",
       " MoleculeDatapoint(mol=<rdkit.Chem.rdchem.Mol object at 0x7198fd1a21f0>, y=[75.0], weight=1.0, gt_mask=None, lt_mask=None, x_d=None, x_phase=None, name='rxn_2008_r2h', V_f=None, E_f=None, V_d=None),\n",
       " MoleculeDatapoint(mol=<rdkit.Chem.rdchem.Mol object at 0x7198fd1a28f0>, y=[127.0], weight=1.0, gt_mask=None, lt_mask=None, x_d=None, x_phase=None, name='rmg_rxn_15383_r2h', V_f=None, E_f=None, V_d=None),\n",
       " MoleculeDatapoint(mol=<rdkit.Chem.rdchem.Mol object at 0x7198fd1a31b0>, y=[26.75], weight=1.0, gt_mask=None, lt_mask=None, x_d=None, x_phase=None, name='rxn_787_r2h', V_f=None, E_f=None, V_d=None),\n",
       " MoleculeDatapoint(mol=<rdkit.Chem.rdchem.Mol object at 0x7198fd1a38b0>, y=[32.0], weight=1.0, gt_mask=None, lt_mask=None, x_d=None, x_phase=None, name='rxn_240_r2h', V_f=None, E_f=None, V_d=None),\n",
       " MoleculeDatapoint(mol=<rdkit.Chem.rdchem.Mol object at 0x7198fd1a3d80>, y=[105.1600000000326], weight=1.0, gt_mask=None, lt_mask=None, x_d=None, x_phase=None, name='rxn_426_r2h', V_f=None, E_f=None, V_d=None),\n",
       " MoleculeDatapoint(mol=<rdkit.Chem.rdchem.Mol object at 0x7198fd1a8040>, y=[79.0], weight=1.0, gt_mask=None, lt_mask=None, x_d=None, x_phase=None, name='rxn_1279_r2h', V_f=None, E_f=None, V_d=None),\n",
       " MoleculeDatapoint(mol=<rdkit.Chem.rdchem.Mol object at 0x7198fd1a8890>, y=[141.0], weight=1.0, gt_mask=None, lt_mask=None, x_d=None, x_phase=None, name='rmg_rxn_15680_r2h', V_f=None, E_f=None, V_d=None),\n",
       " MoleculeDatapoint(mol=<rdkit.Chem.rdchem.Mol object at 0x7198fd1a8f90>, y=[101.0], weight=1.0, gt_mask=None, lt_mask=None, x_d=None, x_phase=None, name='rxn_1230_r2h', V_f=None, E_f=None, V_d=None),\n",
       " MoleculeDatapoint(mol=<rdkit.Chem.rdchem.Mol object at 0x7198fd1a9700>, y=[62.0], weight=1.0, gt_mask=None, lt_mask=None, x_d=None, x_phase=None, name='rmg_rxn_158_r2h', V_f=None, E_f=None, V_d=None),\n",
       " MoleculeDatapoint(mol=<rdkit.Chem.rdchem.Mol object at 0x7198fd1a9e00>, y=[30.0], weight=1.0, gt_mask=None, lt_mask=None, x_d=None, x_phase=None, name='rxn_269_r2h', V_f=None, E_f=None, V_d=None),\n",
       " MoleculeDatapoint(mol=<rdkit.Chem.rdchem.Mol object at 0x7198fd1aa6c0>, y=[81.0], weight=1.0, gt_mask=None, lt_mask=None, x_d=None, x_phase=None, name='rxn_1356_r2h', V_f=None, E_f=None, V_d=None),\n",
       " MoleculeDatapoint(mol=<rdkit.Chem.rdchem.Mol object at 0x7198fd1aadc0>, y=[78.0], weight=1.0, gt_mask=None, lt_mask=None, x_d=None, x_phase=None, name='rxn_1380_r2h', V_f=None, E_f=None, V_d=None),\n",
       " MoleculeDatapoint(mol=<rdkit.Chem.rdchem.Mol object at 0x7198fd1ab610>, y=[77.0], weight=1.0, gt_mask=None, lt_mask=None, x_d=None, x_phase=None, name='rxn_1235_r2h', V_f=None, E_f=None, V_d=None),\n",
       " MoleculeDatapoint(mol=<rdkit.Chem.rdchem.Mol object at 0x7198fd1abed0>, y=[33.0], weight=1.0, gt_mask=None, lt_mask=None, x_d=None, x_phase=None, name='rxn_919_r2h', V_f=None, E_f=None, V_d=None),\n",
       " MoleculeDatapoint(mol=<rdkit.Chem.rdchem.Mol object at 0x7198fd1a8200>, y=[20.0], weight=1.0, gt_mask=None, lt_mask=None, x_d=None, x_phase=None, name='rxn_3242_r2h', V_f=None, E_f=None, V_d=None),\n",
       " MoleculeDatapoint(mol=<rdkit.Chem.rdchem.Mol object at 0x7198fd1a8ac0>, y=[64.0], weight=1.0, gt_mask=None, lt_mask=None, x_d=None, x_phase=None, name='rxn_93_r2h', V_f=None, E_f=None, V_d=None),\n",
       " MoleculeDatapoint(mol=<rdkit.Chem.rdchem.Mol object at 0x7198fd1a91c0>, y=[29.0], weight=1.0, gt_mask=None, lt_mask=None, x_d=None, x_phase=None, name='rxn_1655_r2h', V_f=None, E_f=None, V_d=None),\n",
       " MoleculeDatapoint(mol=<rdkit.Chem.rdchem.Mol object at 0x7198fd1a9930>, y=[51.0], weight=1.0, gt_mask=None, lt_mask=None, x_d=None, x_phase=None, name='rxn_1501_r2h', V_f=None, E_f=None, V_d=None),\n",
       " MoleculeDatapoint(mol=<rdkit.Chem.rdchem.Mol object at 0x7198fd1aa030>, y=[58.0], weight=1.0, gt_mask=None, lt_mask=None, x_d=None, x_phase=None, name='rmg_rxn_177_r2h', V_f=None, E_f=None, V_d=None),\n",
       " MoleculeDatapoint(mol=<rdkit.Chem.rdchem.Mol object at 0x7198fd1aa8f0>, y=[73.0], weight=1.0, gt_mask=None, lt_mask=None, x_d=None, x_phase=None, name='rmg_rxn_16533_r2h', V_f=None, E_f=None, V_d=None),\n",
       " MoleculeDatapoint(mol=<rdkit.Chem.rdchem.Mol object at 0x7198fd1aaff0>, y=[68.0], weight=1.0, gt_mask=None, lt_mask=None, x_d=None, x_phase=None, name='rxn_1069_r2h', V_f=None, E_f=None, V_d=None),\n",
       " MoleculeDatapoint(mol=<rdkit.Chem.rdchem.Mol object at 0x7198fd1ab840>, y=[73.0], weight=1.0, gt_mask=None, lt_mask=None, x_d=None, x_phase=None, name='rmg_rxn_208_r2h', V_f=None, E_f=None, V_d=None),\n",
       " MoleculeDatapoint(mol=<rdkit.Chem.rdchem.Mol object at 0x7198fd1abf40>, y=[50.0], weight=1.0, gt_mask=None, lt_mask=None, x_d=None, x_phase=None, name='rxn_1221_r2h', V_f=None, E_f=None, V_d=None),\n",
       " MoleculeDatapoint(mol=<rdkit.Chem.rdchem.Mol object at 0x7198fd1ac120>, y=[91.0], weight=1.0, gt_mask=None, lt_mask=None, x_d=None, x_phase=None, name='rmg_rxn_15476_r2h', V_f=None, E_f=None, V_d=None),\n",
       " MoleculeDatapoint(mol=<rdkit.Chem.rdchem.Mol object at 0x7198fd1ac820>, y=[28.0], weight=1.0, gt_mask=None, lt_mask=None, x_d=None, x_phase=None, name='rxn_905_r2h', V_f=None, E_f=None, V_d=None),\n",
       " MoleculeDatapoint(mol=<rdkit.Chem.rdchem.Mol object at 0x7198fd1ad150>, y=[39.0], weight=1.0, gt_mask=None, lt_mask=None, x_d=None, x_phase=None, name='rmg_rxn_15426_r2h', V_f=None, E_f=None, V_d=None),\n",
       " MoleculeDatapoint(mol=<rdkit.Chem.rdchem.Mol object at 0x7198fd1ad850>, y=[25.0], weight=1.0, gt_mask=None, lt_mask=None, x_d=None, x_phase=None, name='rxn_425_r2h', V_f=None, E_f=None, V_d=None),\n",
       " MoleculeDatapoint(mol=<rdkit.Chem.rdchem.Mol object at 0x7198fd1ae110>, y=[8.0], weight=1.0, gt_mask=None, lt_mask=None, x_d=None, x_phase=None, name='rxn_1921_r2h', V_f=None, E_f=None, V_d=None),\n",
       " MoleculeDatapoint(mol=<rdkit.Chem.rdchem.Mol object at 0x7198fd1ac9e0>, y=[13.0], weight=1.0, gt_mask=None, lt_mask=None, x_d=None, x_phase=None, name='rxn_1594_r2h', V_f=None, E_f=None, V_d=None),\n",
       " MoleculeDatapoint(mol=<rdkit.Chem.rdchem.Mol object at 0x7198fd1aeea0>, y=[57.0], weight=1.0, gt_mask=None, lt_mask=None, x_d=None, x_phase=None, name='rxn_1803_r2h', V_f=None, E_f=None, V_d=None),\n",
       " MoleculeDatapoint(mol=<rdkit.Chem.rdchem.Mol object at 0x7198fd1af220>, y=[53.0], weight=1.0, gt_mask=None, lt_mask=None, x_d=None, x_phase=None, name='rxn_119_r2h', V_f=None, E_f=None, V_d=None),\n",
       " MoleculeDatapoint(mol=<rdkit.Chem.rdchem.Mol object at 0x7198fd1afca0>, y=[62.0], weight=1.0, gt_mask=None, lt_mask=None, x_d=None, x_phase=None, name='rmg_rxn_218_r2h', V_f=None, E_f=None, V_d=None),\n",
       " MoleculeDatapoint(mol=<rdkit.Chem.rdchem.Mol object at 0x7198fd1af7d0>, y=[109.0], weight=1.0, gt_mask=None, lt_mask=None, x_d=None, x_phase=None, name='rxn_3184_r2h', V_f=None, E_f=None, V_d=None),\n",
       " MoleculeDatapoint(mol=<rdkit.Chem.rdchem.Mol object at 0x7198fd1ac6d0>, y=[62.0], weight=1.0, gt_mask=None, lt_mask=None, x_d=None, x_phase=None, name='rmg_rxn_632_r2h', V_f=None, E_f=None, V_d=None),\n",
       " MoleculeDatapoint(mol=<rdkit.Chem.rdchem.Mol object at 0x7198fd1ad000>, y=[83.0], weight=1.0, gt_mask=None, lt_mask=None, x_d=None, x_phase=None, name='rmg_rxn_16498_r2h', V_f=None, E_f=None, V_d=None),\n",
       " MoleculeDatapoint(mol=<rdkit.Chem.rdchem.Mol object at 0x7198fd1ad700>, y=[86.0], weight=1.0, gt_mask=None, lt_mask=None, x_d=None, x_phase=None, name='rxn_1095_r2h', V_f=None, E_f=None, V_d=None),\n",
       " MoleculeDatapoint(mol=<rdkit.Chem.rdchem.Mol object at 0x7198fd1adfc0>, y=[50.0], weight=1.0, gt_mask=None, lt_mask=None, x_d=None, x_phase=None, name='rmg_rxn_50_r2h', V_f=None, E_f=None, V_d=None),\n",
       " MoleculeDatapoint(mol=<rdkit.Chem.rdchem.Mol object at 0x7198fd1ae6c0>, y=[53.0], weight=1.0, gt_mask=None, lt_mask=None, x_d=None, x_phase=None, name='rmg_rxn_15690_r2h', V_f=None, E_f=None, V_d=None),\n",
       " MoleculeDatapoint(mol=<rdkit.Chem.rdchem.Mol object at 0x7198fd1aed50>, y=[74.0], weight=1.0, gt_mask=None, lt_mask=None, x_d=None, x_phase=None, name='rxn_3156_r2h', V_f=None, E_f=None, V_d=None),\n",
       " MoleculeDatapoint(mol=<rdkit.Chem.rdchem.Mol object at 0x7198fd1af0d0>, y=[34.0], weight=1.0, gt_mask=None, lt_mask=None, x_d=None, x_phase=None, name='rxn_761_r2h', V_f=None, E_f=None, V_d=None),\n",
       " MoleculeDatapoint(mol=<rdkit.Chem.rdchem.Mol object at 0x7198fd1afb50>, y=[60.0], weight=1.0, gt_mask=None, lt_mask=None, x_d=None, x_phase=None, name='rmg_rxn_16460_r2h', V_f=None, E_f=None, V_d=None),\n",
       " MoleculeDatapoint(mol=<rdkit.Chem.rdchem.Mol object at 0x7198fd1b6570>, y=[83.0], weight=1.0, gt_mask=None, lt_mask=None, x_d=None, x_phase=None, name='rmg_rxn_16654_r2h', V_f=None, E_f=None, V_d=None),\n",
       " MoleculeDatapoint(mol=<rdkit.Chem.rdchem.Mol object at 0x7198fd1b4430>, y=[187.0], weight=1.0, gt_mask=None, lt_mask=None, x_d=None, x_phase=None, name='rmg_rxn_15385_r2h', V_f=None, E_f=None, V_d=None),\n",
       " MoleculeDatapoint(mol=<rdkit.Chem.rdchem.Mol object at 0x7198fd1b4b30>, y=[46.0], weight=1.0, gt_mask=None, lt_mask=None, x_d=None, x_phase=None, name='rxn_1490_r2h', V_f=None, E_f=None, V_d=None),\n",
       " MoleculeDatapoint(mol=<rdkit.Chem.rdchem.Mol object at 0x7198fd1b5230>, y=[25.0], weight=1.0, gt_mask=None, lt_mask=None, x_d=None, x_phase=None, name='rxn_1823_r2h', V_f=None, E_f=None, V_d=None),\n",
       " MoleculeDatapoint(mol=<rdkit.Chem.rdchem.Mol object at 0x7198fd1b5af0>, y=[42.0], weight=1.0, gt_mask=None, lt_mask=None, x_d=None, x_phase=None, name='rxn_1266_r2h', V_f=None, E_f=None, V_d=None),\n",
       " MoleculeDatapoint(mol=<rdkit.Chem.rdchem.Mol object at 0x7198fd1b63b0>, y=[64.0], weight=1.0, gt_mask=None, lt_mask=None, x_d=None, x_phase=None, name='rmg_rxn_224_r2h', V_f=None, E_f=None, V_d=None),\n",
       " MoleculeDatapoint(mol=<rdkit.Chem.rdchem.Mol object at 0x7198fd1b6c70>, y=[68.0], weight=1.0, gt_mask=None, lt_mask=None, x_d=None, x_phase=None, name='rmg_rxn_16647_r2h', V_f=None, E_f=None, V_d=None),\n",
       " MoleculeDatapoint(mol=<rdkit.Chem.rdchem.Mol object at 0x7198fd1b7370>, y=[19.0], weight=1.0, gt_mask=None, lt_mask=None, x_d=None, x_phase=None, name='rxn_852_r2h', V_f=None, E_f=None, V_d=None),\n",
       " MoleculeDatapoint(mol=<rdkit.Chem.rdchem.Mol object at 0x7198fd1b7a70>, y=[73.0], weight=1.0, gt_mask=None, lt_mask=None, x_d=None, x_phase=None, name='rxn_910_r2h', V_f=None, E_f=None, V_d=None),\n",
       " MoleculeDatapoint(mol=<rdkit.Chem.rdchem.Mol object at 0x7198fd1b67a0>, y=[46.0], weight=1.0, gt_mask=None, lt_mask=None, x_d=None, x_phase=None, name='rmg_rxn_15420_r2h', V_f=None, E_f=None, V_d=None),\n",
       " MoleculeDatapoint(mol=<rdkit.Chem.rdchem.Mol object at 0x7198fd1b44a0>, y=[48.0], weight=1.0, gt_mask=None, lt_mask=None, x_d=None, x_phase=None, name='rxn_1652_r2h', V_f=None, E_f=None, V_d=None),\n",
       " MoleculeDatapoint(mol=<rdkit.Chem.rdchem.Mol object at 0x7198fd1b4ba0>, y=[55.0], weight=1.0, gt_mask=None, lt_mask=None, x_d=None, x_phase=None, name='rxn_1342_r2h', V_f=None, E_f=None, V_d=None),\n",
       " MoleculeDatapoint(mol=<rdkit.Chem.rdchem.Mol object at 0x7198fd1b52a0>, y=[125.0], weight=1.0, gt_mask=None, lt_mask=None, x_d=None, x_phase=None, name='rxn_1082_r2h', V_f=None, E_f=None, V_d=None),\n",
       " MoleculeDatapoint(mol=<rdkit.Chem.rdchem.Mol object at 0x7198fd1b5b60>, y=[75.0], weight=1.0, gt_mask=None, lt_mask=None, x_d=None, x_phase=None, name='rmg_rxn_15652_r2h', V_f=None, E_f=None, V_d=None),\n",
       " MoleculeDatapoint(mol=<rdkit.Chem.rdchem.Mol object at 0x7198fd1b6260>, y=[85.0], weight=1.0, gt_mask=None, lt_mask=None, x_d=None, x_phase=None, name='rmg_rxn_230_r2h', V_f=None, E_f=None, V_d=None),\n",
       " MoleculeDatapoint(mol=<rdkit.Chem.rdchem.Mol object at 0x7198fd1b6ce0>, y=[39.0], weight=1.0, gt_mask=None, lt_mask=None, x_d=None, x_phase=None, name='rxn_557_r2h', V_f=None, E_f=None, V_d=None),\n",
       " MoleculeDatapoint(mol=<rdkit.Chem.rdchem.Mol object at 0x7198fd1b73e0>, y=[21.1600000000326], weight=1.0, gt_mask=None, lt_mask=None, x_d=None, x_phase=None, name='rxn_185_r2h', V_f=None, E_f=None, V_d=None),\n",
       " MoleculeDatapoint(mol=<rdkit.Chem.rdchem.Mol object at 0x7198fd1b7ae0>, y=[132.1599999999744], weight=1.0, gt_mask=None, lt_mask=None, x_d=None, x_phase=None, name='rxn_690_r2h', V_f=None, E_f=None, V_d=None),\n",
       " MoleculeDatapoint(mol=<rdkit.Chem.rdchem.Mol object at 0x7198fd1bc040>, y=[78.0], weight=1.0, gt_mask=None, lt_mask=None, x_d=None, x_phase=None, name='rxn_3126_r2h', V_f=None, E_f=None, V_d=None),\n",
       " MoleculeDatapoint(mol=<rdkit.Chem.rdchem.Mol object at 0x7198fd1bc740>, y=[40.0], weight=1.0, gt_mask=None, lt_mask=None, x_d=None, x_phase=None, name='rxn_1904_r2h', V_f=None, E_f=None, V_d=None),\n",
       " MoleculeDatapoint(mol=<rdkit.Chem.rdchem.Mol object at 0x7198fd1bce40>, y=[99.0], weight=1.0, gt_mask=None, lt_mask=None, x_d=None, x_phase=None, name='rxn_1131_r2h', V_f=None, E_f=None, V_d=None),\n",
       " MoleculeDatapoint(mol=<rdkit.Chem.rdchem.Mol object at 0x7198fd1bd540>, y=[82.0], weight=1.0, gt_mask=None, lt_mask=None, x_d=None, x_phase=None, name='rxn_1201_r2h', V_f=None, E_f=None, V_d=None),\n",
       " MoleculeDatapoint(mol=<rdkit.Chem.rdchem.Mol object at 0x7198fd1bdc40>, y=[50.0], weight=1.0, gt_mask=None, lt_mask=None, x_d=None, x_phase=None, name='rxn_466_r2h', V_f=None, E_f=None, V_d=None),\n",
       " MoleculeDatapoint(mol=<rdkit.Chem.rdchem.Mol object at 0x7198fd1be500>, y=[56.0], weight=1.0, gt_mask=None, lt_mask=None, x_d=None, x_phase=None, name='rmg_rxn_671_r2h', V_f=None, E_f=None, V_d=None),\n",
       " MoleculeDatapoint(mol=<rdkit.Chem.rdchem.Mol object at 0x7198fd1bec00>, y=[48.0], weight=1.0, gt_mask=None, lt_mask=None, x_d=None, x_phase=None, name='rmg_rxn_15653_r2h', V_f=None, E_f=None, V_d=None),\n",
       " MoleculeDatapoint(mol=<rdkit.Chem.rdchem.Mol object at 0x7198fd1bf300>, y=[42.0], weight=1.0, gt_mask=None, lt_mask=None, x_d=None, x_phase=None, name='rmg_rxn_16575_r2h', V_f=None, E_f=None, V_d=None),\n",
       " MoleculeDatapoint(mol=<rdkit.Chem.rdchem.Mol object at 0x7198fd1bfa00>, y=[91.1599999999744], weight=1.0, gt_mask=None, lt_mask=None, x_d=None, x_phase=None, name='rxn_252_r2h', V_f=None, E_f=None, V_d=None),\n",
       " MoleculeDatapoint(mol=<rdkit.Chem.rdchem.Mol object at 0x7198fd1bc0b0>, y=[59.0], weight=1.0, gt_mask=None, lt_mask=None, x_d=None, x_phase=None, name='rxn_13_r2h', V_f=None, E_f=None, V_d=None),\n",
       " MoleculeDatapoint(mol=<rdkit.Chem.rdchem.Mol object at 0x7198fd1bc7b0>, y=[59.0], weight=1.0, gt_mask=None, lt_mask=None, x_d=None, x_phase=None, name='rmg_rxn_689_r2h', V_f=None, E_f=None, V_d=None),\n",
       " MoleculeDatapoint(mol=<rdkit.Chem.rdchem.Mol object at 0x7198fd1bceb0>, y=[75.0], weight=1.0, gt_mask=None, lt_mask=None, x_d=None, x_phase=None, name='rxn_1883_r2h', V_f=None, E_f=None, V_d=None),\n",
       " MoleculeDatapoint(mol=<rdkit.Chem.rdchem.Mol object at 0x7198fd1bd5b0>, y=[43.0], weight=1.0, gt_mask=None, lt_mask=None, x_d=None, x_phase=None, name='rmg_rxn_16765_r2h', V_f=None, E_f=None, V_d=None),\n",
       " MoleculeDatapoint(mol=<rdkit.Chem.rdchem.Mol object at 0x7198fd1bdcb0>, y=[33.0], weight=1.0, gt_mask=None, lt_mask=None, x_d=None, x_phase=None, name='rmg_rxn_317_r2h', V_f=None, E_f=None, V_d=None),\n",
       " MoleculeDatapoint(mol=<rdkit.Chem.rdchem.Mol object at 0x7198fd1be570>, y=[137.0], weight=1.0, gt_mask=None, lt_mask=None, x_d=None, x_phase=None, name='rmg_rxn_1137_r2h', V_f=None, E_f=None, V_d=None),\n",
       " MoleculeDatapoint(mol=<rdkit.Chem.rdchem.Mol object at 0x7198fd1bec70>, y=[17.0], weight=1.0, gt_mask=None, lt_mask=None, x_d=None, x_phase=None, name='rxn_547_r2h', V_f=None, E_f=None, V_d=None),\n",
       " MoleculeDatapoint(mol=<rdkit.Chem.rdchem.Mol object at 0x7198fd1bf370>, y=[30.0], weight=1.0, gt_mask=None, lt_mask=None, x_d=None, x_phase=None, name='rxn_840_r2h', V_f=None, E_f=None, V_d=None),\n",
       " MoleculeDatapoint(mol=<rdkit.Chem.rdchem.Mol object at 0x7198fd1bfa70>, y=[48.0], weight=1.0, gt_mask=None, lt_mask=None, x_d=None, x_phase=None, name='rxn_1965_r2h', V_f=None, E_f=None, V_d=None),\n",
       " MoleculeDatapoint(mol=<rdkit.Chem.rdchem.Mol object at 0x7198fd1c6490>, y=[83.0], weight=1.0, gt_mask=None, lt_mask=None, x_d=None, x_phase=None, name='rxn_178_r2h', V_f=None, E_f=None, V_d=None),\n",
       " MoleculeDatapoint(mol=<rdkit.Chem.rdchem.Mol object at 0x7198fd1c4350>, y=[69.0], weight=1.0, gt_mask=None, lt_mask=None, x_d=None, x_phase=None, name='rxn_420_r2h', V_f=None, E_f=None, V_d=None),\n",
       " MoleculeDatapoint(mol=<rdkit.Chem.rdchem.Mol object at 0x7198fd1c4a50>, y=[34.0], weight=1.0, gt_mask=None, lt_mask=None, x_d=None, x_phase=None, name='rxn_695_r2h', V_f=None, E_f=None, V_d=None),\n",
       " MoleculeDatapoint(mol=<rdkit.Chem.rdchem.Mol object at 0x7198fd1c5150>, y=[10.0], weight=1.0, gt_mask=None, lt_mask=None, x_d=None, x_phase=None, name='rxn_607_r2h', V_f=None, E_f=None, V_d=None),\n",
       " MoleculeDatapoint(mol=<rdkit.Chem.rdchem.Mol object at 0x7198fd1c5850>, y=[24.0], weight=1.0, gt_mask=None, lt_mask=None, x_d=None, x_phase=None, name='rxn_762_r2h', V_f=None, E_f=None, V_d=None),\n",
       " MoleculeDatapoint(mol=<rdkit.Chem.rdchem.Mol object at 0x7198fd1c5f50>, y=[38.0], weight=1.0, gt_mask=None, lt_mask=None, x_d=None, x_phase=None, name='rxn_982_r2h', V_f=None, E_f=None, V_d=None),\n",
       " MoleculeDatapoint(mol=<rdkit.Chem.rdchem.Mol object at 0x7198fd1c6810>, y=[114.0], weight=1.0, gt_mask=None, lt_mask=None, x_d=None, x_phase=None, name='rxn_1012_r2h', V_f=None, E_f=None, V_d=None),\n",
       " MoleculeDatapoint(mol=<rdkit.Chem.rdchem.Mol object at 0x7198fd1c6f10>, y=[59.1600000000326], weight=1.0, gt_mask=None, lt_mask=None, x_d=None, x_phase=None, name='rmg_rxn_15595_r2h', V_f=None, E_f=None, V_d=None),\n",
       " MoleculeDatapoint(mol=<rdkit.Chem.rdchem.Mol object at 0x7198fd1c7610>, y=[63.0], weight=1.0, gt_mask=None, lt_mask=None, x_d=None, x_phase=None, name='rmg_rxn_23_r2h', V_f=None, E_f=None, V_d=None),\n",
       " MoleculeDatapoint(mol=<rdkit.Chem.rdchem.Mol object at 0x7198fd1c7ed0>, y=[120.0], weight=1.0, gt_mask=None, lt_mask=None, x_d=None, x_phase=None, name='rxn_2024_r2h', V_f=None, E_f=None, V_d=None),\n",
       " MoleculeDatapoint(mol=<rdkit.Chem.rdchem.Mol object at 0x7198fd1c43c0>, y=[74.0], weight=1.0, gt_mask=None, lt_mask=None, x_d=None, x_phase=None, name='rxn_1037_r2h', V_f=None, E_f=None, V_d=None),\n",
       " MoleculeDatapoint(mol=<rdkit.Chem.rdchem.Mol object at 0x7198fd1c4ac0>, y=[142.15999999991618], weight=1.0, gt_mask=None, lt_mask=None, x_d=None, x_phase=None, name='rxn_1994_r2h', V_f=None, E_f=None, V_d=None),\n",
       " MoleculeDatapoint(mol=<rdkit.Chem.rdchem.Mol object at 0x7198fd1c51c0>, y=[87.0], weight=1.0, gt_mask=None, lt_mask=None, x_d=None, x_phase=None, name='rmg_rxn_172_r2h', V_f=None, E_f=None, V_d=None),\n",
       " MoleculeDatapoint(mol=<rdkit.Chem.rdchem.Mol object at 0x7198fd1c58c0>, y=[131.0], weight=1.0, gt_mask=None, lt_mask=None, x_d=None, x_phase=None, name='rxn_659_r2h', V_f=None, E_f=None, V_d=None),\n",
       " MoleculeDatapoint(mol=<rdkit.Chem.rdchem.Mol object at 0x7198fd1c5fc0>, y=[58.0], weight=1.0, gt_mask=None, lt_mask=None, x_d=None, x_phase=None, name='rxn_1378_r2h', V_f=None, E_f=None, V_d=None),\n",
       " MoleculeDatapoint(mol=<rdkit.Chem.rdchem.Mol object at 0x7198fd1c6880>, y=[60.0], weight=1.0, gt_mask=None, lt_mask=None, x_d=None, x_phase=None, name='rxn_1954_r2h', V_f=None, E_f=None, V_d=None),\n",
       " MoleculeDatapoint(mol=<rdkit.Chem.rdchem.Mol object at 0x7198fd1c6f80>, y=[65.0], weight=1.0, gt_mask=None, lt_mask=None, x_d=None, x_phase=None, name='rxn_572_r2h', V_f=None, E_f=None, V_d=None),\n",
       " MoleculeDatapoint(mol=<rdkit.Chem.rdchem.Mol object at 0x7198fd1c7680>, y=[17.0], weight=1.0, gt_mask=None, lt_mask=None, x_d=None, x_phase=None, name='rxn_239_r2h', V_f=None, E_f=None, V_d=None),\n",
       " MoleculeDatapoint(mol=<rdkit.Chem.rdchem.Mol object at 0x7198fd1c7d80>, y=[15.0], weight=1.0, gt_mask=None, lt_mask=None, x_d=None, x_phase=None, name='rmg_rxn_13_r2h', V_f=None, E_f=None, V_d=None),\n",
       " MoleculeDatapoint(mol=<rdkit.Chem.rdchem.Mol object at 0x7198fd1cc660>, y=[100.0], weight=1.0, gt_mask=None, lt_mask=None, x_d=None, x_phase=None, name='rxn_1214_r2h', V_f=None, E_f=None, V_d=None),\n",
       " MoleculeDatapoint(mol=<rdkit.Chem.rdchem.Mol object at 0x7198fd1ccd60>, y=[77.0], weight=1.0, gt_mask=None, lt_mask=None, x_d=None, x_phase=None, name='rxn_772_r2h', V_f=None, E_f=None, V_d=None),\n",
       " MoleculeDatapoint(mol=<rdkit.Chem.rdchem.Mol object at 0x7198fd1cd460>, y=[43.0], weight=1.0, gt_mask=None, lt_mask=None, x_d=None, x_phase=None, name='rxn_1663_r2h', V_f=None, E_f=None, V_d=None),\n",
       " MoleculeDatapoint(mol=<rdkit.Chem.rdchem.Mol object at 0x7198fd1cdb60>, y=[108.0], weight=1.0, gt_mask=None, lt_mask=None, x_d=None, x_phase=None, name='rxn_100_r2h', V_f=None, E_f=None, V_d=None),\n",
       " MoleculeDatapoint(mol=<rdkit.Chem.rdchem.Mol object at 0x7198fd1ce260>, y=[21.0], weight=1.0, gt_mask=None, lt_mask=None, x_d=None, x_phase=None, name='rxn_565_r2h', V_f=None, E_f=None, V_d=None),\n",
       " MoleculeDatapoint(mol=<rdkit.Chem.rdchem.Mol object at 0x7198fd1ce960>, y=[52.0], weight=1.0, gt_mask=None, lt_mask=None, x_d=None, x_phase=None, name='rxn_432_r2h', V_f=None, E_f=None, V_d=None),\n",
       " MoleculeDatapoint(mol=<rdkit.Chem.rdchem.Mol object at 0x7198fd1cf060>, y=[40.0], weight=1.0, gt_mask=None, lt_mask=None, x_d=None, x_phase=None, name='rxn_1931_r2h', V_f=None, E_f=None, V_d=None),\n",
       " MoleculeDatapoint(mol=<rdkit.Chem.rdchem.Mol object at 0x7198fd1cf7d0>, y=[88.0], weight=1.0, gt_mask=None, lt_mask=None, x_d=None, x_phase=None, name='rxn_1479_r2h', V_f=None, E_f=None, V_d=None),\n",
       " MoleculeDatapoint(mol=<rdkit.Chem.rdchem.Mol object at 0x7198fd1cfed0>, y=[53.0], weight=1.0, gt_mask=None, lt_mask=None, x_d=None, x_phase=None, name='rmg_rxn_665_r2h', V_f=None, E_f=None, V_d=None),\n",
       " MoleculeDatapoint(mol=<rdkit.Chem.rdchem.Mol object at 0x7198fd1cc510>, y=[41.0], weight=1.0, gt_mask=None, lt_mask=None, x_d=None, x_phase=None, name='rxn_1630_r2h', V_f=None, E_f=None, V_d=None),\n",
       " MoleculeDatapoint(mol=<rdkit.Chem.rdchem.Mol object at 0x7198fd1ccc10>, y=[82.0], weight=1.0, gt_mask=None, lt_mask=None, x_d=None, x_phase=None, name='rmg_rxn_189_r2h', V_f=None, E_f=None, V_d=None),\n",
       " MoleculeDatapoint(mol=<rdkit.Chem.rdchem.Mol object at 0x7198fd1cd310>, y=[-10.0], weight=1.0, gt_mask=None, lt_mask=None, x_d=None, x_phase=None, name='rxn_132_r2h', V_f=None, E_f=None, V_d=None),\n",
       " MoleculeDatapoint(mol=<rdkit.Chem.rdchem.Mol object at 0x7198fd1cda10>, y=[35.0], weight=1.0, gt_mask=None, lt_mask=None, x_d=None, x_phase=None, name='rxn_839_r2h', V_f=None, E_f=None, V_d=None),\n",
       " MoleculeDatapoint(mol=<rdkit.Chem.rdchem.Mol object at 0x7198fd1ce110>, y=[87.0], weight=1.0, gt_mask=None, lt_mask=None, x_d=None, x_phase=None, name='rxn_1907_r2h', V_f=None, E_f=None, V_d=None),\n",
       " MoleculeDatapoint(mol=<rdkit.Chem.rdchem.Mol object at 0x7198fd1ce810>, y=[86.0], weight=1.0, gt_mask=None, lt_mask=None, x_d=None, x_phase=None, name='rmg_rxn_45_r2h', V_f=None, E_f=None, V_d=None),\n",
       " MoleculeDatapoint(mol=<rdkit.Chem.rdchem.Mol object at 0x7198fd1cef10>, y=[97.0], weight=1.0, gt_mask=None, lt_mask=None, x_d=None, x_phase=None, name='rxn_361_r2h', V_f=None, E_f=None, V_d=None),\n",
       " MoleculeDatapoint(mol=<rdkit.Chem.rdchem.Mol object at 0x7198fd1cf680>, y=[74.0], weight=1.0, gt_mask=None, lt_mask=None, x_d=None, x_phase=None, name='rxn_2001_r2h', V_f=None, E_f=None, V_d=None),\n",
       " MoleculeDatapoint(mol=<rdkit.Chem.rdchem.Mol object at 0x7198fd1cfd80>, y=[167.0], weight=1.0, gt_mask=None, lt_mask=None, x_d=None, x_phase=None, name='rmg_rxn_591_r2h', V_f=None, E_f=None, V_d=None),\n",
       " MoleculeDatapoint(mol=<rdkit.Chem.rdchem.Mol object at 0x7198fd1b02e0>, y=[54.0], weight=1.0, gt_mask=None, lt_mask=None, x_d=None, x_phase=None, name='rmg_rxn_247_r2h', V_f=None, E_f=None, V_d=None),\n",
       " MoleculeDatapoint(mol=<rdkit.Chem.rdchem.Mol object at 0x7198fd1b09e0>, y=[97.0], weight=1.0, gt_mask=None, lt_mask=None, x_d=None, x_phase=None, name='rxn_1814_r2h', V_f=None, E_f=None, V_d=None),\n",
       " MoleculeDatapoint(mol=<rdkit.Chem.rdchem.Mol object at 0x7198fd1b10e0>, y=[20.0], weight=1.0, gt_mask=None, lt_mask=None, x_d=None, x_phase=None, name='rxn_3206_r2h', V_f=None, E_f=None, V_d=None),\n",
       " MoleculeDatapoint(mol=<rdkit.Chem.rdchem.Mol object at 0x7198fd1b19a0>, y=[40.0], weight=1.0, gt_mask=None, lt_mask=None, x_d=None, x_phase=None, name='rxn_445_r2h', V_f=None, E_f=None, V_d=None),\n",
       " MoleculeDatapoint(mol=<rdkit.Chem.rdchem.Mol object at 0x7198fd1b20a0>, y=[59.0], weight=1.0, gt_mask=None, lt_mask=None, x_d=None, x_phase=None, name='rxn_854_r2h', V_f=None, E_f=None, V_d=None),\n",
       " MoleculeDatapoint(mol=<rdkit.Chem.rdchem.Mol object at 0x7198fd1b28f0>, y=[70.0], weight=1.0, gt_mask=None, lt_mask=None, x_d=None, x_phase=None, name='rmg_rxn_1349_r2h', V_f=None, E_f=None, V_d=None),\n",
       " MoleculeDatapoint(mol=<rdkit.Chem.rdchem.Mol object at 0x7198fd1b2ff0>, y=[48.0], weight=1.0, gt_mask=None, lt_mask=None, x_d=None, x_phase=None, name='rxn_474_r2h', V_f=None, E_f=None, V_d=None),\n",
       " MoleculeDatapoint(mol=<rdkit.Chem.rdchem.Mol object at 0x7198fd1b36f0>, y=[75.0], weight=1.0, gt_mask=None, lt_mask=None, x_d=None, x_phase=None, name='rxn_1047_r2h', V_f=None, E_f=None, V_d=None),\n",
       " MoleculeDatapoint(mol=<rdkit.Chem.rdchem.Mol object at 0x7198fd1b0190>, y=[65.0], weight=1.0, gt_mask=None, lt_mask=None, x_d=None, x_phase=None, name='rxn_418_r2h', V_f=None, E_f=None, V_d=None),\n",
       " MoleculeDatapoint(mol=<rdkit.Chem.rdchem.Mol object at 0x7198fd1b0890>, y=[84.0], weight=1.0, gt_mask=None, lt_mask=None, x_d=None, x_phase=None, name='rxn_998_r2h', V_f=None, E_f=None, V_d=None),\n",
       " MoleculeDatapoint(mol=<rdkit.Chem.rdchem.Mol object at 0x7198fd1b0f90>, y=[41.0], weight=1.0, gt_mask=None, lt_mask=None, x_d=None, x_phase=None, name='rmg_rxn_15379_r2h', V_f=None, E_f=None, V_d=None),\n",
       " MoleculeDatapoint(mol=<rdkit.Chem.rdchem.Mol object at 0x7198fd1b1620>, y=[22.0], weight=1.0, gt_mask=None, lt_mask=None, x_d=None, x_phase=None, name='rmg_rxn_2_r2h', V_f=None, E_f=None, V_d=None),\n",
       " MoleculeDatapoint(mol=<rdkit.Chem.rdchem.Mol object at 0x7198fd1b1d90>, y=[31.0], weight=1.0, gt_mask=None, lt_mask=None, x_d=None, x_phase=None, name='rmg_rxn_260_r2h', V_f=None, E_f=None, V_d=None),\n",
       " MoleculeDatapoint(mol=<rdkit.Chem.rdchem.Mol object at 0x7198fd1b2490>, y=[51.0], weight=1.0, gt_mask=None, lt_mask=None, x_d=None, x_phase=None, name='rmg_rxn_15679_r2h', V_f=None, E_f=None, V_d=None),\n",
       " MoleculeDatapoint(mol=<rdkit.Chem.rdchem.Mol object at 0x7198fd1b2b20>, y=[59.0], weight=1.0, gt_mask=None, lt_mask=None, x_d=None, x_phase=None, name='rmg_rxn_15425_r2h', V_f=None, E_f=None, V_d=None),\n",
       " MoleculeDatapoint(mol=<rdkit.Chem.rdchem.Mol object at 0x7198fd1b3220>, y=[29.0], weight=1.0, gt_mask=None, lt_mask=None, x_d=None, x_phase=None, name='rxn_859_r2h', V_f=None, E_f=None, V_d=None),\n",
       " MoleculeDatapoint(mol=<rdkit.Chem.rdchem.Mol object at 0x7198fd1b3920>, y=[78.0], weight=1.0, gt_mask=None, lt_mask=None, x_d=None, x_phase=None, name='rmg_rxn_15691_r2h', V_f=None, E_f=None, V_d=None),\n",
       " MoleculeDatapoint(mol=<rdkit.Chem.rdchem.Mol object at 0x7198fd1d9000>, y=[92.0], weight=1.0, gt_mask=None, lt_mask=None, x_d=None, x_phase=None, name='rxn_741_r2h', V_f=None, E_f=None, V_d=None),\n",
       " MoleculeDatapoint(mol=<rdkit.Chem.rdchem.Mol object at 0x7198fd1d8580>, y=[68.0], weight=1.0, gt_mask=None, lt_mask=None, x_d=None, x_phase=None, name='rmg_rxn_16653_r2h', V_f=None, E_f=None, V_d=None),\n",
       " MoleculeDatapoint(mol=<rdkit.Chem.rdchem.Mol object at 0x7198fd1d8c80>, y=[30.0], weight=1.0, gt_mask=None, lt_mask=None, x_d=None, x_phase=None, name='rxn_1813_r2h', V_f=None, E_f=None, V_d=None),\n",
       " MoleculeDatapoint(mol=<rdkit.Chem.rdchem.Mol object at 0x7198fd1d9540>, y=[63.0], weight=1.0, gt_mask=None, lt_mask=None, x_d=None, x_phase=None, name='rxn_1963_r2h', V_f=None, E_f=None, V_d=None),\n",
       " MoleculeDatapoint(mol=<rdkit.Chem.rdchem.Mol object at 0x7198fd1d9c40>, y=[120.0], weight=1.0, gt_mask=None, lt_mask=None, x_d=None, x_phase=None, name='rxn_1128_r2h', V_f=None, E_f=None, V_d=None),\n",
       " MoleculeDatapoint(mol=<rdkit.Chem.rdchem.Mol object at 0x7198fd1da340>, y=[52.0], weight=1.0, gt_mask=None, lt_mask=None, x_d=None, x_phase=None, name='rmg_rxn_1483_r2h', V_f=None, E_f=None, V_d=None),\n",
       " MoleculeDatapoint(mol=<rdkit.Chem.rdchem.Mol object at 0x7198fd1daa40>, y=[69.0], weight=1.0, gt_mask=None, lt_mask=None, x_d=None, x_phase=None, name='rmg_rxn_15699_r2h', V_f=None, E_f=None, V_d=None),\n",
       " MoleculeDatapoint(mol=<rdkit.Chem.rdchem.Mol object at 0x7198fd1db140>, y=[87.0], weight=1.0, gt_mask=None, lt_mask=None, x_d=None, x_phase=None, name='rxn_1812_r2h', V_f=None, E_f=None, V_d=None),\n",
       " MoleculeDatapoint(mol=<rdkit.Chem.rdchem.Mol object at 0x7198fd1db840>, y=[152.0], weight=1.0, gt_mask=None, lt_mask=None, x_d=None, x_phase=None, name='rmg_rxn_213_r2h', V_f=None, E_f=None, V_d=None),\n",
       " MoleculeDatapoint(mol=<rdkit.Chem.rdchem.Mol object at 0x7198fd1d80b0>, y=[132.0], weight=1.0, gt_mask=None, lt_mask=None, x_d=None, x_phase=None, name='rxn_1190_r2h', V_f=None, E_f=None, V_d=None),\n",
       " MoleculeDatapoint(mol=<rdkit.Chem.rdchem.Mol object at 0x7198fd1d85f0>, y=[63.0], weight=1.0, gt_mask=None, lt_mask=None, x_d=None, x_phase=None, name='rxn_1415_r2h', V_f=None, E_f=None, V_d=None),\n",
       " MoleculeDatapoint(mol=<rdkit.Chem.rdchem.Mol object at 0x7198fd1d8cf0>, y=[115.0], weight=1.0, gt_mask=None, lt_mask=None, x_d=None, x_phase=None, name='rxn_125_r2h', V_f=None, E_f=None, V_d=None),\n",
       " MoleculeDatapoint(mol=<rdkit.Chem.rdchem.Mol object at 0x7198fd1d95b0>, y=[76.0], weight=1.0, gt_mask=None, lt_mask=None, x_d=None, x_phase=None, name='rxn_1404_r2h', V_f=None, E_f=None, V_d=None),\n",
       " MoleculeDatapoint(mol=<rdkit.Chem.rdchem.Mol object at 0x7198fd1d9cb0>, y=[81.0], weight=1.0, gt_mask=None, lt_mask=None, x_d=None, x_phase=None, name='rxn_1176_r2h', V_f=None, E_f=None, V_d=None),\n",
       " MoleculeDatapoint(mol=<rdkit.Chem.rdchem.Mol object at 0x7198fd1da3b0>, y=[62.0], weight=1.0, gt_mask=None, lt_mask=None, x_d=None, x_phase=None, name='rmg_rxn_16743_r2h', V_f=None, E_f=None, V_d=None),\n",
       " MoleculeDatapoint(mol=<rdkit.Chem.rdchem.Mol object at 0x7198fd1dac70>, y=[65.0], weight=1.0, gt_mask=None, lt_mask=None, x_d=None, x_phase=None, name='rmg_rxn_321_r2h', V_f=None, E_f=None, V_d=None),\n",
       " MoleculeDatapoint(mol=<rdkit.Chem.rdchem.Mol object at 0x7198fd1db370>, y=[62.0], weight=1.0, gt_mask=None, lt_mask=None, x_d=None, x_phase=None, name='rmg_rxn_633_r2h', V_f=None, E_f=None, V_d=None),\n",
       " MoleculeDatapoint(mol=<rdkit.Chem.rdchem.Mol object at 0x7198fd1dba70>, y=[63.0], weight=1.0, gt_mask=None, lt_mask=None, x_d=None, x_phase=None, name='rmg_rxn_349_r2h', V_f=None, E_f=None, V_d=None),\n",
       " MoleculeDatapoint(mol=<rdkit.Chem.rdchem.Mol object at 0x7198fd1e4040>, y=[46.0], weight=1.0, gt_mask=None, lt_mask=None, x_d=None, x_phase=None, name='rxn_468_r2h', V_f=None, E_f=None, V_d=None),\n",
       " MoleculeDatapoint(mol=<rdkit.Chem.rdchem.Mol object at 0x7198fd1e46d0>, y=[67.0], weight=1.0, gt_mask=None, lt_mask=None, x_d=None, x_phase=None, name='rxn_2012_r2h', V_f=None, E_f=None, V_d=None),\n",
       " MoleculeDatapoint(mol=<rdkit.Chem.rdchem.Mol object at 0x7198fd1e4dd0>, y=[59.0], weight=1.0, gt_mask=None, lt_mask=None, x_d=None, x_phase=None, name='rmg_rxn_15494_r2h', V_f=None, E_f=None, V_d=None),\n",
       " MoleculeDatapoint(mol=<rdkit.Chem.rdchem.Mol object at 0x7198fd1e54d0>, y=[39.0], weight=1.0, gt_mask=None, lt_mask=None, x_d=None, x_phase=None, name='rxn_1290_r2h', V_f=None, E_f=None, V_d=None),\n",
       " MoleculeDatapoint(mol=<rdkit.Chem.rdchem.Mol object at 0x7198fd1e5850>, y=[62.15999999991618], weight=1.0, gt_mask=None, lt_mask=None, x_d=None, x_phase=None, name='rxn_70_r2h', V_f=None, E_f=None, V_d=None),\n",
       " MoleculeDatapoint(mol=<rdkit.Chem.rdchem.Mol object at 0x7198fd1e6110>, y=[62.0], weight=1.0, gt_mask=None, lt_mask=None, x_d=None, x_phase=None, name='rxn_617_r2h', V_f=None, E_f=None, V_d=None),\n",
       " MoleculeDatapoint(mol=<rdkit.Chem.rdchem.Mol object at 0x7198fd1e6490>, y=[74.0], weight=1.0, gt_mask=None, lt_mask=None, x_d=None, x_phase=None, name='rxn_332_r2h', V_f=None, E_f=None, V_d=None),\n",
       " MoleculeDatapoint(mol=<rdkit.Chem.rdchem.Mol object at 0x7198fd1e6d50>, y=[49.0], weight=1.0, gt_mask=None, lt_mask=None, x_d=None, x_phase=None, name='rxn_314_r2h', V_f=None, E_f=None, V_d=None),\n",
       " MoleculeDatapoint(mol=<rdkit.Chem.rdchem.Mol object at 0x7198fd1e7450>, y=[127.0], weight=1.0, gt_mask=None, lt_mask=None, x_d=None, x_phase=None, name='rmg_rxn_590_r2h', V_f=None, E_f=None, V_d=None),\n",
       " MoleculeDatapoint(mol=<rdkit.Chem.rdchem.Mol object at 0x7198fd1e7b50>, y=[63.0], weight=1.0, gt_mask=None, lt_mask=None, x_d=None, x_phase=None, name='rmg_rxn_289_r2h', V_f=None, E_f=None, V_d=None),\n",
       " MoleculeDatapoint(mol=<rdkit.Chem.rdchem.Mol object at 0x7198fd1e43c0>, y=[162.0], weight=1.0, gt_mask=None, lt_mask=None, x_d=None, x_phase=None, name='rmg_rxn_15539_r2h', V_f=None, E_f=None, V_d=None),\n",
       " MoleculeDatapoint(mol=<rdkit.Chem.rdchem.Mol object at 0x7198fd1e4ac0>, y=[164.0], weight=1.0, gt_mask=None, lt_mask=None, x_d=None, x_phase=None, name='rmg_rxn_611_r2h', V_f=None, E_f=None, V_d=None),\n",
       " MoleculeDatapoint(mol=<rdkit.Chem.rdchem.Mol object at 0x7198fd1e51c0>, y=[62.0], weight=1.0, gt_mask=None, lt_mask=None, x_d=None, x_phase=None, name='rmg_rxn_15390_r2h', V_f=None, E_f=None, V_d=None),\n",
       " MoleculeDatapoint(mol=<rdkit.Chem.rdchem.Mol object at 0x7198fd1e58c0>, y=[30.0], weight=1.0, gt_mask=None, lt_mask=None, x_d=None, x_phase=None, name='rxn_99_r2h', V_f=None, E_f=None, V_d=None),\n",
       " MoleculeDatapoint(mol=<rdkit.Chem.rdchem.Mol object at 0x7198fd1e5fc0>, y=[17.0], weight=1.0, gt_mask=None, lt_mask=None, x_d=None, x_phase=None, name='rmg_rxn_1142_r2h', V_f=None, E_f=None, V_d=None),\n",
       " MoleculeDatapoint(mol=<rdkit.Chem.rdchem.Mol object at 0x7198fd1e66c0>, y=[87.0], weight=1.0, gt_mask=None, lt_mask=None, x_d=None, x_phase=None, name='rxn_118_r2h', V_f=None, E_f=None, V_d=None),\n",
       " MoleculeDatapoint(mol=<rdkit.Chem.rdchem.Mol object at 0x7198fd1e6dc0>, y=[11.0], weight=1.0, gt_mask=None, lt_mask=None, x_d=None, x_phase=None, name='rxn_1641_r2h', V_f=None, E_f=None, V_d=None),\n",
       " MoleculeDatapoint(mol=<rdkit.Chem.rdchem.Mol object at 0x7198fd1e74c0>, y=[27.0], weight=1.0, gt_mask=None, lt_mask=None, x_d=None, x_phase=None, name='rxn_1623_r2h', V_f=None, E_f=None, V_d=None),\n",
       " MoleculeDatapoint(mol=<rdkit.Chem.rdchem.Mol object at 0x7198fd1e7bc0>, y=[84.0], weight=1.0, gt_mask=None, lt_mask=None, x_d=None, x_phase=None, name='rmg_rxn_15410_r2h', V_f=None, E_f=None, V_d=None),\n",
       " MoleculeDatapoint(mol=<rdkit.Chem.rdchem.Mol object at 0x7198fd1ec350>, y=[40.0], weight=1.0, gt_mask=None, lt_mask=None, x_d=None, x_phase=None, name='rxn_602_r2h', V_f=None, E_f=None, V_d=None),\n",
       " MoleculeDatapoint(mol=<rdkit.Chem.rdchem.Mol object at 0x7198fd1eca50>, y=[39.0], weight=1.0, gt_mask=None, lt_mask=None, x_d=None, x_phase=None, name='rxn_848_r2h', V_f=None, E_f=None, V_d=None),\n",
       " MoleculeDatapoint(mol=<rdkit.Chem.rdchem.Mol object at 0x7198fd1ed150>, y=[18.0], weight=1.0, gt_mask=None, lt_mask=None, x_d=None, x_phase=None, name='rmg_rxn_1152_r2h', V_f=None, E_f=None, V_d=None),\n",
       " MoleculeDatapoint(mol=<rdkit.Chem.rdchem.Mol object at 0x7198fd1ed850>, y=[89.0], weight=1.0, gt_mask=None, lt_mask=None, x_d=None, x_phase=None, name='rxn_453_r2h', V_f=None, E_f=None, V_d=None),\n",
       " MoleculeDatapoint(mol=<rdkit.Chem.rdchem.Mol object at 0x7198fd1edf50>, y=[71.0], weight=1.0, gt_mask=None, lt_mask=None, x_d=None, x_phase=None, name='rmg_rxn_16_r2h', V_f=None, E_f=None, V_d=None),\n",
       " MoleculeDatapoint(mol=<rdkit.Chem.rdchem.Mol object at 0x7198fd1ee810>, y=[37.0], weight=1.0, gt_mask=None, lt_mask=None, x_d=None, x_phase=None, name='rxn_10_r2h', V_f=None, E_f=None, V_d=None),\n",
       " MoleculeDatapoint(mol=<rdkit.Chem.rdchem.Mol object at 0x7198fd1eef10>, y=[19.0], weight=1.0, gt_mask=None, lt_mask=None, x_d=None, x_phase=None, name='rxn_865_r2h', V_f=None, E_f=None, V_d=None),\n",
       " MoleculeDatapoint(mol=<rdkit.Chem.rdchem.Mol object at 0x7198fd1ef610>, y=[61.0], weight=1.0, gt_mask=None, lt_mask=None, x_d=None, x_phase=None, name='rxn_1011_r2h', V_f=None, E_f=None, V_d=None),\n",
       " MoleculeDatapoint(mol=<rdkit.Chem.rdchem.Mol object at 0x7198fd1efd10>, y=[57.0], weight=1.0, gt_mask=None, lt_mask=None, x_d=None, x_phase=None, name='rmg_rxn_96_r2h', V_f=None, E_f=None, V_d=None),\n",
       " MoleculeDatapoint(mol=<rdkit.Chem.rdchem.Mol object at 0x7198fd1ec2e0>, y=[-7.0], weight=1.0, gt_mask=None, lt_mask=None, x_d=None, x_phase=None, name='rxn_166_r2h', V_f=None, E_f=None, V_d=None),\n",
       " MoleculeDatapoint(mol=<rdkit.Chem.rdchem.Mol object at 0x7198fd1ec9e0>, y=[56.0], weight=1.0, gt_mask=None, lt_mask=None, x_d=None, x_phase=None, name='rmg_rxn_15707_r2h', V_f=None, E_f=None, V_d=None),\n",
       " MoleculeDatapoint(mol=<rdkit.Chem.rdchem.Mol object at 0x7198fd1ed0e0>, y=[83.0], weight=1.0, gt_mask=None, lt_mask=None, x_d=None, x_phase=None, name='rxn_1452_r2h', V_f=None, E_f=None, V_d=None),\n",
       " MoleculeDatapoint(mol=<rdkit.Chem.rdchem.Mol object at 0x7198fd1ed7e0>, y=[27.0], weight=1.0, gt_mask=None, lt_mask=None, x_d=None, x_phase=None, name='rmg_rxn_16773_r2h', V_f=None, E_f=None, V_d=None),\n",
       " MoleculeDatapoint(mol=<rdkit.Chem.rdchem.Mol object at 0x7198fd1edee0>, y=[12.0], weight=1.0, gt_mask=None, lt_mask=None, x_d=None, x_phase=None, name='rmg_rxn_545_r2h', V_f=None, E_f=None, V_d=None),\n",
       " MoleculeDatapoint(mol=<rdkit.Chem.rdchem.Mol object at 0x7198fd1ee7a0>, y=[63.0], weight=1.0, gt_mask=None, lt_mask=None, x_d=None, x_phase=None, name='rmg_rxn_44_r2h', V_f=None, E_f=None, V_d=None),\n",
       " MoleculeDatapoint(mol=<rdkit.Chem.rdchem.Mol object at 0x7198fd1eeea0>, y=[71.0], weight=1.0, gt_mask=None, lt_mask=None, x_d=None, x_phase=None, name='rxn_771_r2h', V_f=None, E_f=None, V_d=None),\n",
       " MoleculeDatapoint(mol=<rdkit.Chem.rdchem.Mol object at 0x7198fd1ef5a0>, y=[76.0], weight=1.0, gt_mask=None, lt_mask=None, x_d=None, x_phase=None, name='rxn_1401_r2h', V_f=None, E_f=None, V_d=None),\n",
       " MoleculeDatapoint(mol=<rdkit.Chem.rdchem.Mol object at 0x7198fd1efca0>, y=[35.0], weight=1.0, gt_mask=None, lt_mask=None, x_d=None, x_phase=None, name='rxn_174_r2h', V_f=None, E_f=None, V_d=None),\n",
       " MoleculeDatapoint(mol=<rdkit.Chem.rdchem.Mol object at 0x719c45a99700>, y=[43.0], weight=1.0, gt_mask=None, lt_mask=None, x_d=None, x_phase=None, name='rxn_1911_r2h', V_f=None, E_f=None, V_d=None),\n",
       " MoleculeDatapoint(mol=<rdkit.Chem.rdchem.Mol object at 0x719c45a997e0>, y=[37.0], weight=1.0, gt_mask=None, lt_mask=None, x_d=None, x_phase=None, name='rmg_rxn_16484_r2h', V_f=None, E_f=None, V_d=None),\n",
       " MoleculeDatapoint(mol=<rdkit.Chem.rdchem.Mol object at 0x719c45a99a10>, y=[55.0], weight=1.0, gt_mask=None, lt_mask=None, x_d=None, x_phase=None, name='rxn_485_r2h', V_f=None, E_f=None, V_d=None),\n",
       " MoleculeDatapoint(mol=<rdkit.Chem.rdchem.Mol object at 0x719c45a99bd0>, y=[27.0], weight=1.0, gt_mask=None, lt_mask=None, x_d=None, x_phase=None, name='rmg_rxn_303_r2h', V_f=None, E_f=None, V_d=None),\n",
       " MoleculeDatapoint(mol=<rdkit.Chem.rdchem.Mol object at 0x719c45a99d90>, y=[47.0], weight=1.0, gt_mask=None, lt_mask=None, x_d=None, x_phase=None, name='rxn_1818_r2h', V_f=None, E_f=None, V_d=None),\n",
       " MoleculeDatapoint(mol=<rdkit.Chem.rdchem.Mol object at 0x719c45a99f50>, y=[40.0], weight=1.0, gt_mask=None, lt_mask=None, x_d=None, x_phase=None, name='rmg_rxn_15434_r2h', V_f=None, E_f=None, V_d=None),\n",
       " MoleculeDatapoint(mol=<rdkit.Chem.rdchem.Mol object at 0x719c45a9a110>, y=[102.0], weight=1.0, gt_mask=None, lt_mask=None, x_d=None, x_phase=None, name='rxn_1111_r2h', V_f=None, E_f=None, V_d=None),\n",
       " MoleculeDatapoint(mol=<rdkit.Chem.rdchem.Mol object at 0x719c45a9a2d0>, y=[75.0], weight=1.0, gt_mask=None, lt_mask=None, x_d=None, x_phase=None, name='rxn_1927_r2h', V_f=None, E_f=None, V_d=None),\n",
       " MoleculeDatapoint(mol=<rdkit.Chem.rdchem.Mol object at 0x719c45a9a490>, y=[103.0], weight=1.0, gt_mask=None, lt_mask=None, x_d=None, x_phase=None, name='rxn_710_r2h', V_f=None, E_f=None, V_d=None),\n",
       " MoleculeDatapoint(mol=<rdkit.Chem.rdchem.Mol object at 0x719c45a9a650>, y=[69.0], weight=1.0, gt_mask=None, lt_mask=None, x_d=None, x_phase=None, name='rmg_rxn_266_r2h', V_f=None, E_f=None, V_d=None),\n",
       " MoleculeDatapoint(mol=<rdkit.Chem.rdchem.Mol object at 0x719c45a9a810>, y=[101.0], weight=1.0, gt_mask=None, lt_mask=None, x_d=None, x_phase=None, name='rmg_rxn_15391_r2h', V_f=None, E_f=None, V_d=None),\n",
       " MoleculeDatapoint(mol=<rdkit.Chem.rdchem.Mol object at 0x719c45a9a9d0>, y=[36.0], weight=1.0, gt_mask=None, lt_mask=None, x_d=None, x_phase=None, name='rmg_rxn_312_r2h', V_f=None, E_f=None, V_d=None),\n",
       " MoleculeDatapoint(mol=<rdkit.Chem.rdchem.Mol object at 0x719c45a9ab90>, y=[32.0], weight=1.0, gt_mask=None, lt_mask=None, x_d=None, x_phase=None, name='rxn_950_r2h', V_f=None, E_f=None, V_d=None),\n",
       " MoleculeDatapoint(mol=<rdkit.Chem.rdchem.Mol object at 0x719c45a9ad50>, y=[10.0], weight=1.0, gt_mask=None, lt_mask=None, x_d=None, x_phase=None, name='rxn_213_r2h', V_f=None, E_f=None, V_d=None),\n",
       " MoleculeDatapoint(mol=<rdkit.Chem.rdchem.Mol object at 0x719c45a9af10>, y=[31.0], weight=1.0, gt_mask=None, lt_mask=None, x_d=None, x_phase=None, name='rxn_335_r2h', V_f=None, E_f=None, V_d=None),\n",
       " MoleculeDatapoint(mol=<rdkit.Chem.rdchem.Mol object at 0x719c45a9b0d0>, y=[103.0], weight=1.0, gt_mask=None, lt_mask=None, x_d=None, x_phase=None, name='rxn_251_r2h', V_f=None, E_f=None, V_d=None),\n",
       " MoleculeDatapoint(mol=<rdkit.Chem.rdchem.Mol object at 0x719c45a9b290>, y=[64.0], weight=1.0, gt_mask=None, lt_mask=None, x_d=None, x_phase=None, name='rxn_3216_r2h', V_f=None, E_f=None, V_d=None),\n",
       " MoleculeDatapoint(mol=<rdkit.Chem.rdchem.Mol object at 0x719c45a9b450>, y=[96.0], weight=1.0, gt_mask=None, lt_mask=None, x_d=None, x_phase=None, name='rmg_rxn_16672_r2h', V_f=None, E_f=None, V_d=None),\n",
       " MoleculeDatapoint(mol=<rdkit.Chem.rdchem.Mol object at 0x719c45a9b680>, y=[3.0], weight=1.0, gt_mask=None, lt_mask=None, x_d=None, x_phase=None, name='rmg_rxn_1163_r2h', V_f=None, E_f=None, V_d=None),\n",
       " MoleculeDatapoint(mol=<rdkit.Chem.rdchem.Mol object at 0x719c45a9b840>, y=[50.0], weight=1.0, gt_mask=None, lt_mask=None, x_d=None, x_phase=None, name='rxn_1983_r2h', V_f=None, E_f=None, V_d=None),\n",
       " MoleculeDatapoint(mol=<rdkit.Chem.rdchem.Mol object at 0x719c45a9ba00>, y=[43.0], weight=1.0, gt_mask=None, lt_mask=None, x_d=None, x_phase=None, name='rmg_rxn_16639_r2h', V_f=None, E_f=None, V_d=None),\n",
       " MoleculeDatapoint(mol=<rdkit.Chem.rdchem.Mol object at 0x719c45a9bbc0>, y=[47.0], weight=1.0, gt_mask=None, lt_mask=None, x_d=None, x_phase=None, name='rxn_1810_r2h', V_f=None, E_f=None, V_d=None),\n",
       " MoleculeDatapoint(mol=<rdkit.Chem.rdchem.Mol object at 0x719c45a9bd80>, y=[30.0], weight=1.0, gt_mask=None, lt_mask=None, x_d=None, x_phase=None, name='rxn_1887_r2h', V_f=None, E_f=None, V_d=None),\n",
       " MoleculeDatapoint(mol=<rdkit.Chem.rdchem.Mol object at 0x719c45a9bf40>, y=[79.1600000000326], weight=1.0, gt_mask=None, lt_mask=None, x_d=None, x_phase=None, name='rxn_735_r2h', V_f=None, E_f=None, V_d=None),\n",
       " MoleculeDatapoint(mol=<rdkit.Chem.rdchem.Mol object at 0x719c4553c190>, y=[127.0], weight=1.0, gt_mask=None, lt_mask=None, x_d=None, x_phase=None, name='rxn_1951_r2h', V_f=None, E_f=None, V_d=None),\n",
       " MoleculeDatapoint(mol=<rdkit.Chem.rdchem.Mol object at 0x719c4553c350>, y=[68.0], weight=1.0, gt_mask=None, lt_mask=None, x_d=None, x_phase=None, name='rxn_1381_r2h', V_f=None, E_f=None, V_d=None),\n",
       " MoleculeDatapoint(mol=<rdkit.Chem.rdchem.Mol object at 0x719c4553c510>, y=[47.0], weight=1.0, gt_mask=None, lt_mask=None, x_d=None, x_phase=None, name='rxn_1808_r2h', V_f=None, E_f=None, V_d=None),\n",
       " MoleculeDatapoint(mol=<rdkit.Chem.rdchem.Mol object at 0x719c4553c6d0>, y=[10.0], weight=1.0, gt_mask=None, lt_mask=None, x_d=None, x_phase=None, name='rxn_549_r2h', V_f=None, E_f=None, V_d=None),\n",
       " MoleculeDatapoint(mol=<rdkit.Chem.rdchem.Mol object at 0x719c4553c890>, y=[62.0], weight=1.0, gt_mask=None, lt_mask=None, x_d=None, x_phase=None, name='rxn_751_r2h', V_f=None, E_f=None, V_d=None),\n",
       " MoleculeDatapoint(mol=<rdkit.Chem.rdchem.Mol object at 0x719c4553ca50>, y=[149.0], weight=1.0, gt_mask=None, lt_mask=None, x_d=None, x_phase=None, name='rmg_rxn_614_r2h', V_f=None, E_f=None, V_d=None),\n",
       " MoleculeDatapoint(mol=<rdkit.Chem.rdchem.Mol object at 0x719c4553cc10>, y=[46.0], weight=1.0, gt_mask=None, lt_mask=None, x_d=None, x_phase=None, name='rxn_1683_r2h', V_f=None, E_f=None, V_d=None),\n",
       " MoleculeDatapoint(mol=<rdkit.Chem.rdchem.Mol object at 0x719c4553cdd0>, y=[56.0], weight=1.0, gt_mask=None, lt_mask=None, x_d=None, x_phase=None, name='rmg_rxn_16571_r2h', V_f=None, E_f=None, V_d=None),\n",
       " MoleculeDatapoint(mol=<rdkit.Chem.rdchem.Mol object at 0x719c4553cf90>, y=[29.15999999997439], weight=1.0, gt_mask=None, lt_mask=None, x_d=None, x_phase=None, name='rmg_rxn_15401_r2h', V_f=None, E_f=None, V_d=None),\n",
       " MoleculeDatapoint(mol=<rdkit.Chem.rdchem.Mol object at 0x719c4553d150>, y=[29.0], weight=1.0, gt_mask=None, lt_mask=None, x_d=None, x_phase=None, name='rxn_850_r2h', V_f=None, E_f=None, V_d=None),\n",
       " MoleculeDatapoint(mol=<rdkit.Chem.rdchem.Mol object at 0x719c4553d310>, y=[54.0], weight=1.0, gt_mask=None, lt_mask=None, x_d=None, x_phase=None, name='rmg_rxn_16731_r2h', V_f=None, E_f=None, V_d=None),\n",
       " MoleculeDatapoint(mol=<rdkit.Chem.rdchem.Mol object at 0x719c4553d4d0>, y=[48.0], weight=1.0, gt_mask=None, lt_mask=None, x_d=None, x_phase=None, name='rxn_1458_r2h', V_f=None, E_f=None, V_d=None),\n",
       " MoleculeDatapoint(mol=<rdkit.Chem.rdchem.Mol object at 0x719c4553d5b0>, y=[72.0], weight=1.0, gt_mask=None, lt_mask=None, x_d=None, x_phase=None, name='rxn_1195_r2h', V_f=None, E_f=None, V_d=None),\n",
       " MoleculeDatapoint(mol=<rdkit.Chem.rdchem.Mol object at 0x719c4553d7e0>, y=[18.0], weight=1.0, gt_mask=None, lt_mask=None, x_d=None, x_phase=None, name='rxn_908_r2h', V_f=None, E_f=None, V_d=None),\n",
       " MoleculeDatapoint(mol=<rdkit.Chem.rdchem.Mol object at 0x719c4553d9a0>, y=[-19.0], weight=1.0, gt_mask=None, lt_mask=None, x_d=None, x_phase=None, name='rxn_161_r2h', V_f=None, E_f=None, V_d=None),\n",
       " MoleculeDatapoint(mol=<rdkit.Chem.rdchem.Mol object at 0x719c4553db60>, y=[40.0], weight=1.0, gt_mask=None, lt_mask=None, x_d=None, x_phase=None, name='rxn_1937_r2h', V_f=None, E_f=None, V_d=None),\n",
       " MoleculeDatapoint(mol=<rdkit.Chem.rdchem.Mol object at 0x719c4553dd20>, y=[71.0], weight=1.0, gt_mask=None, lt_mask=None, x_d=None, x_phase=None, name='rxn_1052_r2h', V_f=None, E_f=None, V_d=None),\n",
       " MoleculeDatapoint(mol=<rdkit.Chem.rdchem.Mol object at 0x719c4553dee0>, y=[13.0], weight=1.0, gt_mask=None, lt_mask=None, x_d=None, x_phase=None, name='rxn_1599_r2h', V_f=None, E_f=None, V_d=None),\n",
       " MoleculeDatapoint(mol=<rdkit.Chem.rdchem.Mol object at 0x719c4553e0a0>, y=[102.0], weight=1.0, gt_mask=None, lt_mask=None, x_d=None, x_phase=None, name='rmg_rxn_156_r2h', V_f=None, E_f=None, V_d=None),\n",
       " MoleculeDatapoint(mol=<rdkit.Chem.rdchem.Mol object at 0x719c4553e260>, y=[111.0], weight=1.0, gt_mask=None, lt_mask=None, x_d=None, x_phase=None, name='rmg_rxn_15392_r2h', V_f=None, E_f=None, V_d=None),\n",
       " MoleculeDatapoint(mol=<rdkit.Chem.rdchem.Mol object at 0x719c4553e420>, y=[59.0], weight=1.0, gt_mask=None, lt_mask=None, x_d=None, x_phase=None, name='rmg_rxn_279_r2h', V_f=None, E_f=None, V_d=None),\n",
       " MoleculeDatapoint(mol=<rdkit.Chem.rdchem.Mol object at 0x719c4553e5e0>, y=[26.0], weight=1.0, gt_mask=None, lt_mask=None, x_d=None, x_phase=None, name='rxn_1447_r2h', V_f=None, E_f=None, V_d=None),\n",
       " MoleculeDatapoint(mol=<rdkit.Chem.rdchem.Mol object at 0x719c4553e7a0>, y=[61.0], weight=1.0, gt_mask=None, lt_mask=None, x_d=None, x_phase=None, name='rmg_rxn_192_r2h', V_f=None, E_f=None, V_d=None),\n",
       " MoleculeDatapoint(mol=<rdkit.Chem.rdchem.Mol object at 0x719c4553e960>, y=[57.0], weight=1.0, gt_mask=None, lt_mask=None, x_d=None, x_phase=None, name='rmg_rxn_245_r2h', V_f=None, E_f=None, V_d=None),\n",
       " MoleculeDatapoint(mol=<rdkit.Chem.rdchem.Mol object at 0x719c4553eb20>, y=[142.0], weight=1.0, gt_mask=None, lt_mask=None, x_d=None, x_phase=None, name='rmg_rxn_15540_r2h', V_f=None, E_f=None, V_d=None),\n",
       " MoleculeDatapoint(mol=<rdkit.Chem.rdchem.Mol object at 0x719c4553ece0>, y=[45.0], weight=1.0, gt_mask=None, lt_mask=None, x_d=None, x_phase=None, name='rxn_3_r2h', V_f=None, E_f=None, V_d=None),\n",
       " MoleculeDatapoint(mol=<rdkit.Chem.rdchem.Mol object at 0x719c4553eea0>, y=[42.0], weight=1.0, gt_mask=None, lt_mask=None, x_d=None, x_phase=None, name='rmg_rxn_195_r2h', V_f=None, E_f=None, V_d=None),\n",
       " MoleculeDatapoint(mol=<rdkit.Chem.rdchem.Mol object at 0x719c4553f060>, y=[65.0], weight=1.0, gt_mask=None, lt_mask=None, x_d=None, x_phase=None, name='rmg_rxn_15406_r2h', V_f=None, E_f=None, V_d=None),\n",
       " MoleculeDatapoint(mol=<rdkit.Chem.rdchem.Mol object at 0x719c4553f220>, y=[55.0], weight=1.0, gt_mask=None, lt_mask=None, x_d=None, x_phase=None, name='rxn_1336_r2h', V_f=None, E_f=None, V_d=None),\n",
       " MoleculeDatapoint(mol=<rdkit.Chem.rdchem.Mol object at 0x719c4553f3e0>, y=[40.0], weight=1.0, gt_mask=None, lt_mask=None, x_d=None, x_phase=None, name='rmg_rxn_541_r2h', V_f=None, E_f=None, V_d=None),\n",
       " MoleculeDatapoint(mol=<rdkit.Chem.rdchem.Mol object at 0x719c4553f5a0>, y=[151.0], weight=1.0, gt_mask=None, lt_mask=None, x_d=None, x_phase=None, name='rmg_rxn_254_r2h', V_f=None, E_f=None, V_d=None),\n",
       " MoleculeDatapoint(mol=<rdkit.Chem.rdchem.Mol object at 0x719c4553f760>, y=[57.0], weight=1.0, gt_mask=None, lt_mask=None, x_d=None, x_phase=None, name='rmg_rxn_198_r2h', V_f=None, E_f=None, V_d=None),\n",
       " MoleculeDatapoint(mol=<rdkit.Chem.rdchem.Mol object at 0x719c4553f920>, y=[102.0], weight=1.0, gt_mask=None, lt_mask=None, x_d=None, x_phase=None, name='rmg_rxn_232_r2h', V_f=None, E_f=None, V_d=None),\n",
       " MoleculeDatapoint(mol=<rdkit.Chem.rdchem.Mol object at 0x719c4553fae0>, y=[57.0], weight=1.0, gt_mask=None, lt_mask=None, x_d=None, x_phase=None, name='rmg_rxn_16597_r2h', V_f=None, E_f=None, V_d=None),\n",
       " MoleculeDatapoint(mol=<rdkit.Chem.rdchem.Mol object at 0x719c4553fca0>, y=[65.0], weight=1.0, gt_mask=None, lt_mask=None, x_d=None, x_phase=None, name='rmg_rxn_273_r2h', V_f=None, E_f=None, V_d=None),\n",
       " MoleculeDatapoint(mol=<rdkit.Chem.rdchem.Mol object at 0x719c4553fe60>, y=[57.0], weight=1.0, gt_mask=None, lt_mask=None, x_d=None, x_phase=None, name='rxn_1968_r2h', V_f=None, E_f=None, V_d=None),\n",
       " MoleculeDatapoint(mol=<rdkit.Chem.rdchem.Mol object at 0x719c455400b0>, y=[48.0], weight=1.0, gt_mask=None, lt_mask=None, x_d=None, x_phase=None, name='rxn_973_r2h', V_f=None, E_f=None, V_d=None),\n",
       " ...]"
      ]
     },
     "execution_count": 92,
     "metadata": {},
     "output_type": "execute_result"
    }
   ],
   "source": [
    "feat_data[0]"
   ]
  },
  {
   "cell_type": "code",
   "execution_count": 93,
   "id": "b2fa57f8",
   "metadata": {},
   "outputs": [
    {
     "name": "stderr",
     "output_type": "stream",
     "text": [
      "The return type of make_split_indices has changed in v2.1 - see help(make_split_indices)\n"
     ]
    }
   ],
   "source": [
    "component_to_split_by = 0\n",
    "mols = [d.mol for d in feat_data[component_to_split_by]]\n",
    "\n",
    "train_indices, val_indices, test_indices = data.make_split_indices(mols, \"kennard_stone\", (0.8, 0.1, 0.1))\n",
    "\n",
    "\n",
    "train_data, val_data, test_data = data.split_data_by_indices(\n",
    "    feat_data, train_indices, val_indices, test_indices\n",
    ")"
   ]
  },
  {
   "cell_type": "code",
   "execution_count": 94,
   "id": "baaebc79",
   "metadata": {},
   "outputs": [],
   "source": [
    "import numpy as np\n",
    "import pandas as pd\n",
    "\n",
    "# Your DataFrame and rxn_ids\n",
    "# atom_extra_feats: DataFrame with all data\n",
    "# rxn_ids: list of rxn_ids in the train set\n",
    "\n",
    "# 1. Subset for fitting\n",
    "train_mask = atom_extra_feats['rxn_id'].isin(rxn_ids)\n",
    "train_feats = atom_extra_feats[train_mask]\n",
    "\n",
    "# 2. Compute parameters from training data\n",
    "num_centers = 16\n",
    "r_min = train_feats['radius'].min()\n",
    "r_max = train_feats['radius'].max()\n",
    "a_min = train_feats['angle'].min()\n",
    "a_max = train_feats['angle'].max()\n",
    "\n",
    "# 3. Apply to all data using train params\n",
    "radius_rbf = rbf_expand(atom_extra_feats['radius'].values, num_centers=num_centers, r_min=r_min, r_max=r_max)\n",
    "dihedral_sc = dihedral_to_sin_cos(atom_extra_feats['dihedral'].values)\n",
    "angle_norm = normalize_angle(atom_extra_feats['angle'].values, a_min=a_min, a_max=a_max)\n",
    "\n",
    "# 4. Stack or add to DataFrame\n",
    "for i in range(num_centers):\n",
    "    atom_extra_feats[f'radius_rbf_{i}'] = radius_rbf[:, i]\n",
    "atom_extra_feats['dihedral_sin'] = dihedral_sc[:, 0]\n",
    "atom_extra_feats['dihedral_cos'] = dihedral_sc[:, 1]\n",
    "atom_extra_feats['angle_norm'] = angle_norm\n"
   ]
  },
  {
   "cell_type": "code",
   "execution_count": 95,
   "id": "66580b0b",
   "metadata": {},
   "outputs": [
    {
     "name": "stdout",
     "output_type": "stream",
     "text": [
      "{'num_centers': 16, 'r_min': 0.7998821538201737, 'r_max': 6.933882468718373}\n",
      "{'a_min': 0.6142472914325002, 'a_max': 3.141500920022701}\n"
     ]
    }
   ],
   "source": [
    "rbf_params = dict(num_centers=num_centers, r_min=r_min, r_max=r_max)\n",
    "angle_norm_params = dict(a_min=a_min, a_max=a_max)\n",
    "\n",
    "print(rbf_params)\n",
    "print(angle_norm_params)"
   ]
  },
  {
   "cell_type": "code",
   "execution_count": 96,
   "id": "be05def1",
   "metadata": {},
   "outputs": [],
   "source": [
    "MOL_TYPES = ['r2h', 'r1h']\n",
    "\n",
    "def get_atom_feats_for_dp(dp_name, atom_extra_feats):\n",
    "    rxn_id, mol_type = dp_name.rsplit('_', 1)\n",
    "    subset = atom_extra_feats[\n",
    "        (atom_extra_feats['rxn_id'] == rxn_id) &\n",
    "        (atom_extra_feats['mol_type'] == mol_type)\n",
    "    ]\n",
    "    # Sort by focus_atom_idx\n",
    "    subset = subset.sort_values(\"focus_atom_idx\")\n",
    "    return subset\n",
    "\n",
    "\n",
    "def attach_morgan_to_dps(dps):\n",
    "    new_dps = []\n",
    "    drop_cols = ['rxn_id', 'mol_type', 'focus_atom_idx', 'path', 'radius', 'angle', 'dihedral','focus_atom_symbol']\n",
    "    for dp in dps:\n",
    "        # pick the mol you actually want to fingerprint:\n",
    "        mol = dp.mol if not isinstance(dp.mol, tuple) else dp.mol[0]\n",
    "        extra_atom_feats = get_atom_feats_for_dp(dp.name, atom_extra_feats).drop(columns=drop_cols).values\n",
    "        new_dp = data.MoleculeDatapoint(\n",
    "            mol=dp.mol,\n",
    "            y=dp.y,\n",
    "            weight=dp.weight,\n",
    "            gt_mask=dp.gt_mask,\n",
    "            lt_mask=dp.lt_mask,\n",
    "            V_f=extra_atom_feats,\n",
    "            E_f=dp.E_f,\n",
    "            V_d=dp.V_d,\n",
    "            x_d=dp.x_d,      # <-- lowercase x_d\n",
    "            x_phase=dp.x_phase,\n",
    "            name=dp.name\n",
    "        )\n",
    "        new_dps.append(new_dp)\n",
    "    return new_dps\n",
    "\n",
    "\n",
    "featurizer = featurizers.SimpleMoleculeMolGraphFeaturizer(extra_atom_fdim=22)\n",
    "\n",
    "train_datasets = [\n",
    "    data.MoleculeDataset(\n",
    "        attach_morgan_to_dps(train_data[0][i]),\n",
    "        featurizer\n",
    "    )\n",
    "    for i in range(len(MOL_TYPES))\n",
    "]\n",
    "\n",
    "val_datasets = [\n",
    "    data.MoleculeDataset(\n",
    "        attach_morgan_to_dps(val_data[0][i]),\n",
    "        featurizer\n",
    "    )\n",
    "    for i in range(len(MOL_TYPES))\n",
    "]\n",
    "test_datasets = [\n",
    "    data.MoleculeDataset(\n",
    "        attach_morgan_to_dps(test_data[0][i]),\n",
    "        featurizer\n",
    "    )\n",
    "    for i in range(len(MOL_TYPES))\n",
    "]\n"
   ]
  },
  {
   "cell_type": "code",
   "execution_count": 97,
   "id": "17909b87",
   "metadata": {},
   "outputs": [],
   "source": [
    "train_mcdset = data.MulticomponentDataset(train_datasets)\n",
    "scaler = train_mcdset.normalize_targets()\n",
    "\n",
    "val_mcdset = data.MulticomponentDataset(val_datasets)\n",
    "val_mcdset.normalize_targets(scaler)\n",
    "test_mcdset = data.MulticomponentDataset(test_datasets)\n",
    "\n"
   ]
  },
  {
   "cell_type": "code",
   "execution_count": 98,
   "id": "d8224539",
   "metadata": {},
   "outputs": [],
   "source": [
    "train_loader = data.build_dataloader(train_mcdset, batch_size=64, shuffle=True, num_workers=8, pin_memory=True)\n",
    "val_loader = data.build_dataloader(val_mcdset, shuffle=False, batch_size=64)\n",
    "test_loader = data.build_dataloader(test_mcdset, shuffle=False, batch_size=64)"
   ]
  },
  {
   "cell_type": "code",
   "execution_count": 99,
   "id": "27b856be",
   "metadata": {},
   "outputs": [],
   "source": [
    "output_transform = nn.UnscaleTransform.from_standard_scaler(scaler)"
   ]
  },
  {
   "cell_type": "code",
   "execution_count": 100,
   "id": "cf2367c3",
   "metadata": {},
   "outputs": [
    {
     "data": {
      "text/plain": [
       "MulticomponentMPNN(\n",
       "  (message_passing): MulticomponentMessagePassing(\n",
       "    (blocks): ModuleList(\n",
       "      (0-1): 2 x BondMessagePassing(\n",
       "        (W_i): Linear(in_features=108, out_features=1024, bias=False)\n",
       "        (W_h): Linear(in_features=1024, out_features=1024, bias=False)\n",
       "        (W_o): Linear(in_features=1118, out_features=1024, bias=True)\n",
       "        (dropout): Dropout(p=0.3, inplace=False)\n",
       "        (tau): ReLU()\n",
       "        (V_d_transform): Identity()\n",
       "        (graph_transform): Identity()\n",
       "      )\n",
       "    )\n",
       "  )\n",
       "  (agg): MeanAggregation()\n",
       "  (bn): Identity()\n",
       "  (predictor): RegressionFFN(\n",
       "    (ffn): MLP(\n",
       "      (0): Sequential(\n",
       "        (0): Linear(in_features=2048, out_features=300, bias=True)\n",
       "      )\n",
       "      (1): Sequential(\n",
       "        (0): ReLU()\n",
       "        (1): Dropout(p=0.3, inplace=False)\n",
       "        (2): Linear(in_features=300, out_features=1, bias=True)\n",
       "      )\n",
       "    )\n",
       "    (criterion): MSE(task_weights=[[1.0]])\n",
       "    (output_transform): UnscaleTransform()\n",
       "  )\n",
       "  (X_d_transform): Identity()\n",
       "  (metrics): ModuleList(\n",
       "    (0): RMSE(task_weights=[[1.0]])\n",
       "    (1): MAE(task_weights=[[1.0]])\n",
       "    (2): R2Score()\n",
       "    (3): MSE(task_weights=[[1.0]])\n",
       "  )\n",
       ")"
      ]
     },
     "execution_count": 100,
     "metadata": {},
     "output_type": "execute_result"
    }
   ],
   "source": [
    "mcmp = nn.MulticomponentMessagePassing(\n",
    "    blocks=[nn.BondMessagePassing(depth=4, dropout=0.3, d_v=featurizer.atom_fdim, d_e=featurizer.bond_fdim, d_h=1024,\n",
    "                                  ) for _ in range(len(MOL_TYPES))],\n",
    "    n_components=len(MOL_TYPES), shared = False    \n",
    ")\n",
    "\n",
    "agg = nn.MeanAggregation()\n",
    "ffn = nn.RegressionFFN(\n",
    "    input_dim=mcmp.output_dim,\n",
    "    output_transform=output_transform,\n",
    "    dropout=0.3,\n",
    ")\n",
    "metric_list = [metrics.RMSE(), metrics.MAE(), metrics.R2Score()] # Only the first metric is used for training and early stopping\n",
    "mcmpnn = multi.MulticomponentMPNN(\n",
    "    mcmp,\n",
    "    agg,\n",
    "    ffn,\n",
    "    metrics=metric_list,\n",
    ")\n",
    "\n",
    "mcmpnn\n",
    "\n"
   ]
  },
  {
   "cell_type": "code",
   "execution_count": 101,
   "id": "983ca5a9",
   "metadata": {},
   "outputs": [
    {
     "name": "stderr",
     "output_type": "stream",
     "text": [
      "GPU available: True (cuda), used: True\n",
      "TPU available: False, using: 0 TPU cores\n",
      "HPU available: False, using: 0 HPUs\n"
     ]
    }
   ],
   "source": [
    "\n",
    "\n",
    "# Trainer setup\n",
    "from lightning.pytorch.callbacks import ModelCheckpoint, EarlyStopping\n",
    "checkpoint_callback = ModelCheckpoint(\n",
    "    monitor=\"val/rmse\",\n",
    "    mode=\"min\",\n",
    "    save_top_k=1,\n",
    "    filename=\"best_model\",\n",
    ")\n",
    "early_stopping_callback = EarlyStopping(\n",
    "    monitor=\"val/rmse\",\n",
    "    patience=10,  # Number of epochs with no improvement after which training will be stopped\n",
    "    mode=\"min\",\n",
    ")\n",
    "\n",
    "\n",
    "# CSV logger setup\n",
    "from lightning.pytorch.loggers import CSVLogger\n",
    "csv_logger = CSVLogger(\n",
    "    save_dir=\"logs\",\n",
    "    name=\"mcmpnn_experiment\",\n",
    "    version=\"v1\"\n",
    ")\n",
    "\n",
    "trainer = pl.Trainer(\n",
    "    logger=csv_logger,\n",
    "    enable_checkpointing=True,\n",
    "    enable_progress_bar=True,\n",
    "    accelerator=\"auto\",\n",
    "    callbacks=[checkpoint_callback, early_stopping_callback],\n",
    "    devices=1,\n",
    "    max_epochs=200, # number of epochs to train for\n",
    ")\n",
    "\n"
   ]
  },
  {
   "cell_type": "code",
   "execution_count": 102,
   "id": "236e7d7a",
   "metadata": {},
   "outputs": [
    {
     "name": "stderr",
     "output_type": "stream",
     "text": [
      "/home/calvin/miniforge3/envs/habnet_rocm/lib/python3.12/site-packages/lightning/fabric/loggers/csv_logs.py:268: Experiment logs directory logs/mcmpnn_experiment/v1 exists and is not empty. Previous log files in this directory will be deleted when the new ones are saved!\n",
      "/home/calvin/miniforge3/envs/habnet_rocm/lib/python3.12/site-packages/lightning/pytorch/callbacks/model_checkpoint.py:654: Checkpoint directory logs/mcmpnn_experiment/v1/checkpoints exists and is not empty.\n",
      "LOCAL_RANK: 0 - CUDA_VISIBLE_DEVICES: [0]\n",
      "Loading `train_dataloader` to estimate number of stepping batches.\n",
      "/home/calvin/miniforge3/envs/habnet_rocm/lib/python3.12/site-packages/lightning/pytorch/loops/fit_loop.py:310: The number of training batches (22) is smaller than the logging interval Trainer(log_every_n_steps=50). Set a lower value for log_every_n_steps if you want to see logs for the training epoch.\n",
      "\n",
      "  | Name            | Type                         | Params | Mode \n",
      "-------------------------------------------------------------------------\n",
      "0 | message_passing | MulticomponentMessagePassing | 4.6 M  | train\n",
      "1 | agg             | MeanAggregation              | 0      | train\n",
      "2 | bn              | Identity                     | 0      | train\n",
      "3 | predictor       | RegressionFFN                | 615 K  | train\n",
      "4 | X_d_transform   | Identity                     | 0      | train\n",
      "5 | metrics         | ModuleList                   | 0      | train\n",
      "-------------------------------------------------------------------------\n",
      "5.2 M     Trainable params\n",
      "0         Non-trainable params\n",
      "5.2 M     Total params\n",
      "20.900    Total estimated model params size (MB)\n",
      "36        Modules in train mode\n",
      "0         Modules in eval mode\n",
      "/home/calvin/miniforge3/envs/habnet_rocm/lib/python3.12/site-packages/lightning/pytorch/core/saving.py:363: Skipping 'metrics' parameter because it is not possible to safely dump to YAML.\n"
     ]
    },
    {
     "data": {
      "application/vnd.jupyter.widget-view+json": {
       "model_id": "86a67f4e1d4a43edb62e2ca2c4d10c46",
       "version_major": 2,
       "version_minor": 0
      },
      "text/plain": [
       "Sanity Checking: |          | 0/? [00:00<?, ?it/s]"
      ]
     },
     "metadata": {},
     "output_type": "display_data"
    },
    {
     "name": "stderr",
     "output_type": "stream",
     "text": [
      "/home/calvin/miniforge3/envs/habnet_rocm/lib/python3.12/site-packages/lightning/pytorch/trainer/connectors/data_connector.py:425: The 'val_dataloader' does not have many workers which may be a bottleneck. Consider increasing the value of the `num_workers` argument` to `num_workers=19` in the `DataLoader` to improve performance.\n"
     ]
    },
    {
     "data": {
      "application/vnd.jupyter.widget-view+json": {
       "model_id": "6a3fa93b30094539a6b91b3bdbde26b5",
       "version_major": 2,
       "version_minor": 0
      },
      "text/plain": [
       "Training: |          | 0/? [00:00<?, ?it/s]"
      ]
     },
     "metadata": {},
     "output_type": "display_data"
    },
    {
     "data": {
      "application/vnd.jupyter.widget-view+json": {
       "model_id": "71676d7ccef54185b9e410d4e80b9db7",
       "version_major": 2,
       "version_minor": 0
      },
      "text/plain": [
       "Validation: |          | 0/? [00:00<?, ?it/s]"
      ]
     },
     "metadata": {},
     "output_type": "display_data"
    },
    {
     "data": {
      "application/vnd.jupyter.widget-view+json": {
       "model_id": "2a4acebe9be84f96a6dfb81a5b8c9b59",
       "version_major": 2,
       "version_minor": 0
      },
      "text/plain": [
       "Validation: |          | 0/? [00:00<?, ?it/s]"
      ]
     },
     "metadata": {},
     "output_type": "display_data"
    },
    {
     "data": {
      "application/vnd.jupyter.widget-view+json": {
       "model_id": "816a087649164448ad3cc344925c8109",
       "version_major": 2,
       "version_minor": 0
      },
      "text/plain": [
       "Validation: |          | 0/? [00:00<?, ?it/s]"
      ]
     },
     "metadata": {},
     "output_type": "display_data"
    },
    {
     "data": {
      "application/vnd.jupyter.widget-view+json": {
       "model_id": "17c87fe13b324f4eb39a24fc6d027566",
       "version_major": 2,
       "version_minor": 0
      },
      "text/plain": [
       "Validation: |          | 0/? [00:00<?, ?it/s]"
      ]
     },
     "metadata": {},
     "output_type": "display_data"
    },
    {
     "data": {
      "application/vnd.jupyter.widget-view+json": {
       "model_id": "07b2bbd28cbf4299b20b16c7105401b2",
       "version_major": 2,
       "version_minor": 0
      },
      "text/plain": [
       "Validation: |          | 0/? [00:00<?, ?it/s]"
      ]
     },
     "metadata": {},
     "output_type": "display_data"
    },
    {
     "data": {
      "application/vnd.jupyter.widget-view+json": {
       "model_id": "be2b3cda31a748318546bc7222a16376",
       "version_major": 2,
       "version_minor": 0
      },
      "text/plain": [
       "Validation: |          | 0/? [00:00<?, ?it/s]"
      ]
     },
     "metadata": {},
     "output_type": "display_data"
    },
    {
     "data": {
      "application/vnd.jupyter.widget-view+json": {
       "model_id": "173b979bdb344fcc8c67da7f5d3861c1",
       "version_major": 2,
       "version_minor": 0
      },
      "text/plain": [
       "Validation: |          | 0/? [00:00<?, ?it/s]"
      ]
     },
     "metadata": {},
     "output_type": "display_data"
    },
    {
     "data": {
      "application/vnd.jupyter.widget-view+json": {
       "model_id": "fd43c9b651d442a48b0290f79f5c64dc",
       "version_major": 2,
       "version_minor": 0
      },
      "text/plain": [
       "Validation: |          | 0/? [00:00<?, ?it/s]"
      ]
     },
     "metadata": {},
     "output_type": "display_data"
    },
    {
     "data": {
      "application/vnd.jupyter.widget-view+json": {
       "model_id": "ed0f9fa48c624d74934a7de7eeff11bc",
       "version_major": 2,
       "version_minor": 0
      },
      "text/plain": [
       "Validation: |          | 0/? [00:00<?, ?it/s]"
      ]
     },
     "metadata": {},
     "output_type": "display_data"
    },
    {
     "data": {
      "application/vnd.jupyter.widget-view+json": {
       "model_id": "255ffe959dfd4604a53673b23e634a57",
       "version_major": 2,
       "version_minor": 0
      },
      "text/plain": [
       "Validation: |          | 0/? [00:00<?, ?it/s]"
      ]
     },
     "metadata": {},
     "output_type": "display_data"
    },
    {
     "data": {
      "application/vnd.jupyter.widget-view+json": {
       "model_id": "a7aecbe7fa4548519ca491af5bb81692",
       "version_major": 2,
       "version_minor": 0
      },
      "text/plain": [
       "Validation: |          | 0/? [00:00<?, ?it/s]"
      ]
     },
     "metadata": {},
     "output_type": "display_data"
    },
    {
     "data": {
      "application/vnd.jupyter.widget-view+json": {
       "model_id": "80c365e2e9e040a9bcd4a2065f8efa8b",
       "version_major": 2,
       "version_minor": 0
      },
      "text/plain": [
       "Validation: |          | 0/? [00:00<?, ?it/s]"
      ]
     },
     "metadata": {},
     "output_type": "display_data"
    },
    {
     "data": {
      "application/vnd.jupyter.widget-view+json": {
       "model_id": "a1feb9d15bdb4005953d0a3588f33fdc",
       "version_major": 2,
       "version_minor": 0
      },
      "text/plain": [
       "Validation: |          | 0/? [00:00<?, ?it/s]"
      ]
     },
     "metadata": {},
     "output_type": "display_data"
    },
    {
     "data": {
      "application/vnd.jupyter.widget-view+json": {
       "model_id": "c5288ac9a13f479bb72cfed46dab98f7",
       "version_major": 2,
       "version_minor": 0
      },
      "text/plain": [
       "Validation: |          | 0/? [00:00<?, ?it/s]"
      ]
     },
     "metadata": {},
     "output_type": "display_data"
    },
    {
     "data": {
      "application/vnd.jupyter.widget-view+json": {
       "model_id": "202ce908e6654de58815ce79f3c6c791",
       "version_major": 2,
       "version_minor": 0
      },
      "text/plain": [
       "Validation: |          | 0/? [00:00<?, ?it/s]"
      ]
     },
     "metadata": {},
     "output_type": "display_data"
    },
    {
     "data": {
      "application/vnd.jupyter.widget-view+json": {
       "model_id": "da81092415604cfb88b626cef21fa78f",
       "version_major": 2,
       "version_minor": 0
      },
      "text/plain": [
       "Validation: |          | 0/? [00:00<?, ?it/s]"
      ]
     },
     "metadata": {},
     "output_type": "display_data"
    },
    {
     "data": {
      "application/vnd.jupyter.widget-view+json": {
       "model_id": "eced97fdcbc64fb69444ad67b3aa2730",
       "version_major": 2,
       "version_minor": 0
      },
      "text/plain": [
       "Validation: |          | 0/? [00:00<?, ?it/s]"
      ]
     },
     "metadata": {},
     "output_type": "display_data"
    },
    {
     "data": {
      "application/vnd.jupyter.widget-view+json": {
       "model_id": "ab6ed1a8d1c944f5b1c240d0adf28716",
       "version_major": 2,
       "version_minor": 0
      },
      "text/plain": [
       "Validation: |          | 0/? [00:00<?, ?it/s]"
      ]
     },
     "metadata": {},
     "output_type": "display_data"
    },
    {
     "data": {
      "application/vnd.jupyter.widget-view+json": {
       "model_id": "f43f6d5efcff4d42948263a139397513",
       "version_major": 2,
       "version_minor": 0
      },
      "text/plain": [
       "Validation: |          | 0/? [00:00<?, ?it/s]"
      ]
     },
     "metadata": {},
     "output_type": "display_data"
    },
    {
     "data": {
      "application/vnd.jupyter.widget-view+json": {
       "model_id": "93bfd6aa72dd4eb28db30537deb101c3",
       "version_major": 2,
       "version_minor": 0
      },
      "text/plain": [
       "Validation: |          | 0/? [00:00<?, ?it/s]"
      ]
     },
     "metadata": {},
     "output_type": "display_data"
    },
    {
     "data": {
      "application/vnd.jupyter.widget-view+json": {
       "model_id": "8eb038e130a7446691492b259f84820e",
       "version_major": 2,
       "version_minor": 0
      },
      "text/plain": [
       "Validation: |          | 0/? [00:00<?, ?it/s]"
      ]
     },
     "metadata": {},
     "output_type": "display_data"
    },
    {
     "data": {
      "application/vnd.jupyter.widget-view+json": {
       "model_id": "6662ffd880f64b229e8099ad133b0697",
       "version_major": 2,
       "version_minor": 0
      },
      "text/plain": [
       "Validation: |          | 0/? [00:00<?, ?it/s]"
      ]
     },
     "metadata": {},
     "output_type": "display_data"
    },
    {
     "data": {
      "application/vnd.jupyter.widget-view+json": {
       "model_id": "2752767fca284d11b7e3de0fc99a7569",
       "version_major": 2,
       "version_minor": 0
      },
      "text/plain": [
       "Validation: |          | 0/? [00:00<?, ?it/s]"
      ]
     },
     "metadata": {},
     "output_type": "display_data"
    },
    {
     "data": {
      "application/vnd.jupyter.widget-view+json": {
       "model_id": "35956e5511ab4f0eb9a7b9598b0c5185",
       "version_major": 2,
       "version_minor": 0
      },
      "text/plain": [
       "Validation: |          | 0/? [00:00<?, ?it/s]"
      ]
     },
     "metadata": {},
     "output_type": "display_data"
    },
    {
     "data": {
      "application/vnd.jupyter.widget-view+json": {
       "model_id": "a99169f2da714946ab9247c5323f42a5",
       "version_major": 2,
       "version_minor": 0
      },
      "text/plain": [
       "Validation: |          | 0/? [00:00<?, ?it/s]"
      ]
     },
     "metadata": {},
     "output_type": "display_data"
    },
    {
     "data": {
      "application/vnd.jupyter.widget-view+json": {
       "model_id": "00d809ab5e2a46d7990e2312b9b7e9fe",
       "version_major": 2,
       "version_minor": 0
      },
      "text/plain": [
       "Validation: |          | 0/? [00:00<?, ?it/s]"
      ]
     },
     "metadata": {},
     "output_type": "display_data"
    },
    {
     "data": {
      "application/vnd.jupyter.widget-view+json": {
       "model_id": "7697d3521ff54016acad627359ec9715",
       "version_major": 2,
       "version_minor": 0
      },
      "text/plain": [
       "Validation: |          | 0/? [00:00<?, ?it/s]"
      ]
     },
     "metadata": {},
     "output_type": "display_data"
    },
    {
     "data": {
      "application/vnd.jupyter.widget-view+json": {
       "model_id": "6f57cc6857a04f349739887f9c8982ce",
       "version_major": 2,
       "version_minor": 0
      },
      "text/plain": [
       "Validation: |          | 0/? [00:00<?, ?it/s]"
      ]
     },
     "metadata": {},
     "output_type": "display_data"
    },
    {
     "data": {
      "application/vnd.jupyter.widget-view+json": {
       "model_id": "5e99a4371e154d5e81f6f0d8eec879e4",
       "version_major": 2,
       "version_minor": 0
      },
      "text/plain": [
       "Validation: |          | 0/? [00:00<?, ?it/s]"
      ]
     },
     "metadata": {},
     "output_type": "display_data"
    },
    {
     "data": {
      "application/vnd.jupyter.widget-view+json": {
       "model_id": "f202e827c43d43288ddd7a4919353db8",
       "version_major": 2,
       "version_minor": 0
      },
      "text/plain": [
       "Validation: |          | 0/? [00:00<?, ?it/s]"
      ]
     },
     "metadata": {},
     "output_type": "display_data"
    },
    {
     "data": {
      "application/vnd.jupyter.widget-view+json": {
       "model_id": "a3aa2bc1a85d4acfacc10eeb623b7d98",
       "version_major": 2,
       "version_minor": 0
      },
      "text/plain": [
       "Validation: |          | 0/? [00:00<?, ?it/s]"
      ]
     },
     "metadata": {},
     "output_type": "display_data"
    },
    {
     "data": {
      "application/vnd.jupyter.widget-view+json": {
       "model_id": "4da1fdfdabc647948cf50e671110fbb9",
       "version_major": 2,
       "version_minor": 0
      },
      "text/plain": [
       "Validation: |          | 0/? [00:00<?, ?it/s]"
      ]
     },
     "metadata": {},
     "output_type": "display_data"
    },
    {
     "data": {
      "application/vnd.jupyter.widget-view+json": {
       "model_id": "fd3d1436f0d34aa7a20f250411ededdf",
       "version_major": 2,
       "version_minor": 0
      },
      "text/plain": [
       "Validation: |          | 0/? [00:00<?, ?it/s]"
      ]
     },
     "metadata": {},
     "output_type": "display_data"
    },
    {
     "data": {
      "application/vnd.jupyter.widget-view+json": {
       "model_id": "f9f9965c4fa74d4195781a2b834654d9",
       "version_major": 2,
       "version_minor": 0
      },
      "text/plain": [
       "Validation: |          | 0/? [00:00<?, ?it/s]"
      ]
     },
     "metadata": {},
     "output_type": "display_data"
    },
    {
     "data": {
      "application/vnd.jupyter.widget-view+json": {
       "model_id": "746e2c2e6da64b718a71fb04544e7a03",
       "version_major": 2,
       "version_minor": 0
      },
      "text/plain": [
       "Validation: |          | 0/? [00:00<?, ?it/s]"
      ]
     },
     "metadata": {},
     "output_type": "display_data"
    },
    {
     "data": {
      "application/vnd.jupyter.widget-view+json": {
       "model_id": "67a47ded364e4490b4e1112a6cbc5b48",
       "version_major": 2,
       "version_minor": 0
      },
      "text/plain": [
       "Validation: |          | 0/? [00:00<?, ?it/s]"
      ]
     },
     "metadata": {},
     "output_type": "display_data"
    },
    {
     "data": {
      "application/vnd.jupyter.widget-view+json": {
       "model_id": "635d1d1e82ac4b3dad1ea509ff1883d8",
       "version_major": 2,
       "version_minor": 0
      },
      "text/plain": [
       "Validation: |          | 0/? [00:00<?, ?it/s]"
      ]
     },
     "metadata": {},
     "output_type": "display_data"
    },
    {
     "data": {
      "application/vnd.jupyter.widget-view+json": {
       "model_id": "a6df42b4d3c0471f92966253fc1d6bae",
       "version_major": 2,
       "version_minor": 0
      },
      "text/plain": [
       "Validation: |          | 0/? [00:00<?, ?it/s]"
      ]
     },
     "metadata": {},
     "output_type": "display_data"
    },
    {
     "data": {
      "application/vnd.jupyter.widget-view+json": {
       "model_id": "321a2137f9a0485fa08297e6f7e6bf69",
       "version_major": 2,
       "version_minor": 0
      },
      "text/plain": [
       "Validation: |          | 0/? [00:00<?, ?it/s]"
      ]
     },
     "metadata": {},
     "output_type": "display_data"
    },
    {
     "data": {
      "application/vnd.jupyter.widget-view+json": {
       "model_id": "b01819d3da3c49d4b513fddecb3e730c",
       "version_major": 2,
       "version_minor": 0
      },
      "text/plain": [
       "Validation: |          | 0/? [00:00<?, ?it/s]"
      ]
     },
     "metadata": {},
     "output_type": "display_data"
    },
    {
     "data": {
      "application/vnd.jupyter.widget-view+json": {
       "model_id": "7995c8639e964a1f82e456e6738d95ec",
       "version_major": 2,
       "version_minor": 0
      },
      "text/plain": [
       "Validation: |          | 0/? [00:00<?, ?it/s]"
      ]
     },
     "metadata": {},
     "output_type": "display_data"
    },
    {
     "data": {
      "application/vnd.jupyter.widget-view+json": {
       "model_id": "bbe907aee1894165b7e8e65e2f4d56c2",
       "version_major": 2,
       "version_minor": 0
      },
      "text/plain": [
       "Validation: |          | 0/? [00:00<?, ?it/s]"
      ]
     },
     "metadata": {},
     "output_type": "display_data"
    },
    {
     "data": {
      "application/vnd.jupyter.widget-view+json": {
       "model_id": "14ac1c8ad78e40a38abdfd7a802b1ac1",
       "version_major": 2,
       "version_minor": 0
      },
      "text/plain": [
       "Validation: |          | 0/? [00:00<?, ?it/s]"
      ]
     },
     "metadata": {},
     "output_type": "display_data"
    },
    {
     "data": {
      "application/vnd.jupyter.widget-view+json": {
       "model_id": "6fb8b4268d354b6dbb48ab2d6d45d04e",
       "version_major": 2,
       "version_minor": 0
      },
      "text/plain": [
       "Validation: |          | 0/? [00:00<?, ?it/s]"
      ]
     },
     "metadata": {},
     "output_type": "display_data"
    }
   ],
   "source": [
    "trainer.fit(mcmpnn, train_loader, val_loader)"
   ]
  },
  {
   "cell_type": "code",
   "execution_count": 103,
   "id": "22836bbb",
   "metadata": {},
   "outputs": [
    {
     "name": "stderr",
     "output_type": "stream",
     "text": [
      "LOCAL_RANK: 0 - CUDA_VISIBLE_DEVICES: [0]\n",
      "/home/calvin/miniforge3/envs/habnet_rocm/lib/python3.12/site-packages/lightning/pytorch/trainer/connectors/data_connector.py:425: The 'test_dataloader' does not have many workers which may be a bottleneck. Consider increasing the value of the `num_workers` argument` to `num_workers=19` in the `DataLoader` to improve performance.\n"
     ]
    },
    {
     "data": {
      "application/vnd.jupyter.widget-view+json": {
       "model_id": "7c0c12935a3b4f29840887ed87c87749",
       "version_major": 2,
       "version_minor": 0
      },
      "text/plain": [
       "Testing: |          | 0/? [00:00<?, ?it/s]"
      ]
     },
     "metadata": {},
     "output_type": "display_data"
    },
    {
     "data": {
      "text/html": [
       "<pre style=\"white-space:pre;overflow-x:auto;line-height:normal;font-family:Menlo,'DejaVu Sans Mono',consolas,'Courier New',monospace\">┏━━━━━━━━━━━━━━━━━━━━━━━━━━━┳━━━━━━━━━━━━━━━━━━━━━━━━━━━┓\n",
       "┃<span style=\"font-weight: bold\">        Test metric        </span>┃<span style=\"font-weight: bold\">       DataLoader 0        </span>┃\n",
       "┡━━━━━━━━━━━━━━━━━━━━━━━━━━━╇━━━━━━━━━━━━━━━━━━━━━━━━━━━┩\n",
       "│<span style=\"color: #008080; text-decoration-color: #008080\">         test/mae          </span>│<span style=\"color: #800080; text-decoration-color: #800080\">     9.21849536895752      </span>│\n",
       "│<span style=\"color: #008080; text-decoration-color: #008080\">          test/r2          </span>│<span style=\"color: #800080; text-decoration-color: #800080\">    0.8006536364555359     </span>│\n",
       "│<span style=\"color: #008080; text-decoration-color: #008080\">         test/rmse         </span>│<span style=\"color: #800080; text-decoration-color: #800080\">    14.722935676574707     </span>│\n",
       "└───────────────────────────┴───────────────────────────┘\n",
       "</pre>\n"
      ],
      "text/plain": [
       "┏━━━━━━━━━━━━━━━━━━━━━━━━━━━┳━━━━━━━━━━━━━━━━━━━━━━━━━━━┓\n",
       "┃\u001b[1m \u001b[0m\u001b[1m       Test metric       \u001b[0m\u001b[1m \u001b[0m┃\u001b[1m \u001b[0m\u001b[1m      DataLoader 0       \u001b[0m\u001b[1m \u001b[0m┃\n",
       "┡━━━━━━━━━━━━━━━━━━━━━━━━━━━╇━━━━━━━━━━━━━━━━━━━━━━━━━━━┩\n",
       "│\u001b[36m \u001b[0m\u001b[36m        test/mae         \u001b[0m\u001b[36m \u001b[0m│\u001b[35m \u001b[0m\u001b[35m    9.21849536895752     \u001b[0m\u001b[35m \u001b[0m│\n",
       "│\u001b[36m \u001b[0m\u001b[36m         test/r2         \u001b[0m\u001b[36m \u001b[0m│\u001b[35m \u001b[0m\u001b[35m   0.8006536364555359    \u001b[0m\u001b[35m \u001b[0m│\n",
       "│\u001b[36m \u001b[0m\u001b[36m        test/rmse        \u001b[0m\u001b[36m \u001b[0m│\u001b[35m \u001b[0m\u001b[35m   14.722935676574707    \u001b[0m\u001b[35m \u001b[0m│\n",
       "└───────────────────────────┴───────────────────────────┘\n"
      ]
     },
     "metadata": {},
     "output_type": "display_data"
    },
    {
     "data": {
      "text/plain": [
       "[{'test/rmse': 14.722935676574707,\n",
       "  'test/mae': 9.21849536895752,\n",
       "  'test/r2': 0.8006536364555359}]"
      ]
     },
     "execution_count": 103,
     "metadata": {},
     "output_type": "execute_result"
    }
   ],
   "source": [
    "trainer.test(mcmpnn, test_loader)"
   ]
  },
  {
   "cell_type": "code",
   "execution_count": 104,
   "id": "2558cba0",
   "metadata": {},
   "outputs": [
    {
     "name": "stderr",
     "output_type": "stream",
     "text": [
      "LOCAL_RANK: 0 - CUDA_VISIBLE_DEVICES: [0]\n",
      "/home/calvin/miniforge3/envs/habnet_rocm/lib/python3.12/site-packages/lightning/pytorch/trainer/connectors/data_connector.py:425: The 'predict_dataloader' does not have many workers which may be a bottleneck. Consider increasing the value of the `num_workers` argument` to `num_workers=19` in the `DataLoader` to improve performance.\n"
     ]
    },
    {
     "data": {
      "application/vnd.jupyter.widget-view+json": {
       "model_id": "a860ce373c74444199734ccab7de6958",
       "version_major": 2,
       "version_minor": 0
      },
      "text/plain": [
       "Predicting: |          | 0/? [00:00<?, ?it/s]"
      ]
     },
     "metadata": {},
     "output_type": "display_data"
    },
    {
     "data": {
      "image/png": "[encoded data removed]",
      "text/plain": [
       "<Figure size 600x600 with 1 Axes>"
      ]
     },
     "metadata": {},
     "output_type": "display_data"
    }
   ],
   "source": [
    "pred = trainer.predict(mcmpnn, test_loader)\n",
    "import torch\n",
    "pred_t = torch.cat(pred)\n",
    "pred_np = pred_t.detach().cpu().numpy()\n",
    "target_y = []\n",
    "for batch in test_loader:\n",
    "    target_y.append(batch.Y)\n",
    "target_y = torch.cat(target_y)\n",
    "target_y_np = target_y.detach().cpu().numpy()\n",
    "import matplotlib.pyplot as plt\n",
    "import numpy as np\n",
    "\n",
    "# Optional: flatten if you have shape issues\n",
    "target_y = np.array(target_y).flatten()\n",
    "pred_np = np.array(pred_np).flatten()\n",
    "\n",
    "plt.figure(figsize=(6, 6))\n",
    "plt.scatter(target_y, pred_np, alpha=0.4, edgecolor='k', label='Predictions')\n",
    "\n",
    "# Plot y = x line (perfect prediction)\n",
    "min_val = min(np.min(target_y), np.min(pred_np))\n",
    "max_val = max(np.max(target_y), np.max(pred_np))\n",
    "plt.plot([min_val, max_val], [min_val, max_val], 'r--', label='Ideal')\n",
    "\n",
    "plt.xlabel('True Value')\n",
    "plt.ylabel('Predicted Value')\n",
    "plt.title('Predicted vs. Actual')\n",
    "plt.legend()\n",
    "plt.grid(True)\n",
    "plt.tight_layout()\n",
    "plt.show()\n"
   ]
  },
  {
   "cell_type": "code",
   "execution_count": null,
   "id": "6c115f6b",
   "metadata": {},
   "outputs": [],
   "source": []
  },
  {
   "cell_type": "markdown",
   "id": "7d7bd49a",
   "metadata": {},
   "source": [
    "# Combined"
   ]
  },
  {
   "cell_type": "markdown",
   "id": "615e1f52",
   "metadata": {},
   "source": []
  },
  {
   "cell_type": "code",
   "execution_count": 105,
   "id": "8aef3a5d",
   "metadata": {},
   "outputs": [
    {
     "name": "stdout",
     "output_type": "stream",
     "text": [
      "Reaction ID kfir_rxn_13503 not found in target data. Skipping this SDF file.\n",
      "Skipping rmg_rxn_501 due to NaN in targets: [nan]\n",
      "Skipping rmg_rxn_55 due to NaN in targets: [nan]\n",
      "Skipping rmg_rxn_504 due to NaN in targets: [nan]\n",
      "Skipping rmg_rxn_151 due to NaN in targets: [nan]\n",
      "Skipping rmg_rxn_28 due to NaN in targets: [nan]\n",
      "Reaction ID rmg_rxn_506 not found in target data. Skipping this SDF file.\n",
      "Skipping rmg_rxn_396 due to NaN in targets: [nan]\n",
      "Skipping rmg_rxn_642 due to NaN in targets: [nan]\n",
      "Skipping rmg_rxn_1496 due to NaN in targets: [nan]\n",
      "Skipping rmg_rxn_507 due to NaN in targets: [nan]\n",
      "Skipping rmg_rxn_15591 due to NaN in targets: [nan]\n",
      "Skipping rmg_rxn_511 due to NaN in targets: [nan]\n",
      "Skipping rmg_rxn_499 due to NaN in targets: [nan]\n",
      "Skipping rmg_rxn_383 due to NaN in targets: [nan]\n",
      "Skipping rmg_rxn_227 due to NaN in targets: [nan]\n",
      "Skipping rmg_rxn_1532 due to NaN in targets: [nan]\n",
      "Reaction ID kfir_rxn_13897 not found in target data. Skipping this SDF file.\n",
      "Skipping rmg_rxn_15371 due to NaN in targets: [nan]\n",
      "Skipping rmg_rxn_53 due to NaN in targets: [nan]\n",
      "Skipping rmg_rxn_16791 due to NaN in targets: [nan]\n",
      "Reaction ID kfir_rxn_13108 not found in target data. Skipping this SDF file.\n",
      "Reaction ID kfir_rxn_13712 not found in target data. Skipping this SDF file.\n",
      "Skipping rmg_rxn_1130 due to NaN in targets: [nan]\n",
      "Skipping rmg_rxn_21 due to NaN in targets: [nan]\n",
      "Skipping rmg_rxn_15612 due to NaN in targets: [nan]\n",
      "Skipping rmg_rxn_379 due to NaN in targets: [nan]\n",
      "Reaction ID kfir_rxn_11197 not found in target data. Skipping this SDF file.\n",
      "Skipping rmg_rxn_14 due to NaN in targets: [nan]\n",
      "Skipping rmg_rxn_15 due to NaN in targets: [nan]\n",
      "Skipping rmg_rxn_376 due to NaN in targets: [nan]\n",
      "Reaction ID kfir_rxn_10218 not found in target data. Skipping this SDF file.\n",
      "Skipping rmg_rxn_15397 due to NaN in targets: [nan]\n",
      "Skipping rxn_1222 due to NaN in targets: [nan]\n",
      "Skipping rmg_rxn_505 due to NaN in targets: [nan]\n",
      "Skipping rmg_rxn_390 due to NaN in targets: [nan]\n",
      "Reaction ID kfir_rxn_9679 not found in target data. Skipping this SDF file.\n",
      "Skipping rmg_rxn_248 due to NaN in targets: [nan]\n",
      "Skipping rmg_rxn_498 due to NaN in targets: [nan]\n",
      "Reaction ID kfir_rxn_9205 not found in target data. Skipping this SDF file.\n",
      "Skipping rmg_rxn_388 due to NaN in targets: [nan]\n",
      "Skipping rmg_rxn_169 due to NaN in targets: [nan]\n",
      "Skipping rmg_rxn_652 due to NaN in targets: [nan]\n",
      "Skipping rmg_rxn_188 due to NaN in targets: [nan]\n",
      "Skipping rmg_rxn_1337 due to NaN in targets: [nan]\n",
      "Skipping rmg_rxn_377 due to NaN in targets: [nan]\n",
      "Skipping rmg_rxn_760 due to NaN in targets: [nan]\n",
      "Skipping rmg_rxn_293 due to NaN in targets: [nan]\n",
      "Reaction ID kfir_rxn_8057 not found in target data. Skipping this SDF file.\n",
      "Reaction ID kfir_rxn_8536 not found in target data. Skipping this SDF file.\n",
      "Skipping rmg_rxn_16491 due to NaN in targets: [nan]\n",
      "Reaction ID kfir_rxn_679 not found in target data. Skipping this SDF file.\n",
      "Reaction ID kfir_rxn_7125 not found in target data. Skipping this SDF file.\n",
      "Skipping rmg_rxn_15418 due to NaN in targets: [nan]\n",
      "Skipping rmg_rxn_16513 due to NaN in targets: [nan]\n",
      "Skipping rxn_133 due to NaN in targets: [nan]\n",
      "Reaction ID kfir_rxn_5989 not found in target data. Skipping this SDF file.\n",
      "Skipping rxn_230 due to NaN in targets: [nan]\n",
      "Skipping rmg_rxn_500 due to NaN in targets: [nan]\n",
      "Skipping rxn_233 due to NaN in targets: [nan]\n",
      "Skipping rmg_rxn_364 due to NaN in targets: [nan]\n",
      "Reaction ID kfir_rxn_5172 not found in target data. Skipping this SDF file.\n",
      "Skipping rxn_42 due to NaN in targets: [nan]\n",
      "Skipping rmg_rxn_387 due to NaN in targets: [nan]\n",
      "Reaction ID kfir_rxn_8008 not found in target data. Skipping this SDF file.\n",
      "Skipping rmg_rxn_15565 due to NaN in targets: [nan]\n",
      "Skipping rmg_rxn_509 due to NaN in targets: [nan]\n",
      "Reaction ID kfir_rxn_5389 not found in target data. Skipping this SDF file.\n",
      "Skipping rxn_92 due to NaN in targets: [nan]\n",
      "Reaction ID kfir_rxn_9248 not found in target data. Skipping this SDF file.\n",
      "Reaction ID kfir_rxn_11797 not found in target data. Skipping this SDF file.\n",
      "Reaction ID kfir_rxn_1315 not found in target data. Skipping this SDF file.\n",
      "Skipping rmg_rxn_513 due to NaN in targets: [nan]\n",
      "Skipping rmg_rxn_89 due to NaN in targets: [nan]\n",
      "Skipping rmg_rxn_381 due to NaN in targets: [nan]\n",
      "Skipping rmg_rxn_76 due to NaN in targets: [nan]\n",
      "Reaction ID kfir_rxn_13651 not found in target data. Skipping this SDF file.\n",
      "Skipping rmg_rxn_508 due to NaN in targets: [nan]\n",
      "Skipping rmg_rxn_384 due to NaN in targets: [nan]\n",
      "Reaction ID kfir_rxn_2 not found in target data. Skipping this SDF file.\n",
      "Reaction ID kfir_rxn_11915 not found in target data. Skipping this SDF file.\n",
      "Skipping rmg_rxn_16522 due to NaN in targets: [nan]\n",
      "Skipping rmg_rxn_6 due to NaN in targets: [nan]\n",
      "Skipping rmg_rxn_207 due to NaN in targets: [nan]\n",
      "Reaction ID kfir_rxn_7531 not found in target data. Skipping this SDF file.\n",
      "Reaction ID kfir_rxn_9652 not found in target data. Skipping this SDF file.\n",
      "Skipping rxn_139 due to NaN in targets: [nan]\n",
      "Skipping rmg_rxn_648 due to NaN in targets: [nan]\n",
      "Skipping rmg_rxn_392 due to NaN in targets: [nan]\n",
      "Reaction ID kfir_rxn_4836 not found in target data. Skipping this SDF file.\n",
      "Skipping rmg_rxn_395 due to NaN in targets: [nan]\n",
      "Reaction ID kfir_rxn_10391 not found in target data. Skipping this SDF file.\n",
      "Skipping rmg_rxn_370 due to NaN in targets: [nan]\n",
      "Skipping rmg_rxn_678 due to NaN in targets: [nan]\n",
      "Skipping rmg_rxn_550 due to NaN in targets: [nan]\n",
      "Skipping rmg_rxn_391 due to NaN in targets: [nan]\n",
      "Skipping rmg_rxn_3 due to NaN in targets: [nan]\n",
      "Skipping rmg_rxn_374 due to NaN in targets: [nan]\n",
      "Skipping rmg_rxn_4 due to NaN in targets: [nan]\n",
      "Skipping rmg_rxn_382 due to NaN in targets: [nan]\n",
      "Skipping rmg_rxn_1454 due to NaN in targets: [nan]\n",
      "Skipping rxn_225 due to NaN in targets: [nan]\n",
      "Skipping rmg_rxn_688 due to NaN in targets: [nan]\n",
      "Reaction ID kfir_rxn_12959 not found in target data. Skipping this SDF file.\n",
      "Skipping rmg_rxn_270 due to NaN in targets: [nan]\n",
      "Skipping rxn_52 due to NaN in targets: [nan]\n",
      "Skipping rmg_rxn_36 due to NaN in targets: [nan]\n",
      "Reaction ID kfir_rxn_9885 not found in target data. Skipping this SDF file.\n",
      "Reaction ID kfir_rxn_7559 not found in target data. Skipping this SDF file.\n",
      "Reaction ID kfir_rxn_5161 not found in target data. Skipping this SDF file.\n",
      "Skipping rmg_rxn_394 due to NaN in targets: [nan]\n",
      "Skipping rmg_rxn_512 due to NaN in targets: [nan]\n",
      "Skipping rmg_rxn_371 due to NaN in targets: [nan]\n",
      "Reaction ID kfir_rxn_4303 not found in target data. Skipping this SDF file.\n",
      "Reaction ID kfir_rxn_9409 not found in target data. Skipping this SDF file.\n",
      "Reaction ID kfir_rxn_11663 not found in target data. Skipping this SDF file.\n",
      "Using reverse mol types...\n",
      "['r2h', 'r1h']\n",
      "Reaction ID kfir_rxn_13503 not found in target data. Skipping this SDF file.\n",
      "Skipping rmg_rxn_501 due to NaN in targets: [nan]\n",
      "Skipping rmg_rxn_55 due to NaN in targets: [nan]\n",
      "Skipping rmg_rxn_504 due to NaN in targets: [nan]\n",
      "Skipping rmg_rxn_151 due to NaN in targets: [nan]\n",
      "Skipping rmg_rxn_28 due to NaN in targets: [nan]\n",
      "Skipping rmg_rxn_506 due to NaN in targets: [nan]\n",
      "Skipping rmg_rxn_396 due to NaN in targets: [nan]\n",
      "Skipping rmg_rxn_642 due to NaN in targets: [nan]\n",
      "Skipping rmg_rxn_1496 due to NaN in targets: [nan]\n",
      "Skipping rmg_rxn_507 due to NaN in targets: [nan]\n",
      "Skipping rmg_rxn_15591 due to NaN in targets: [nan]\n",
      "Skipping rmg_rxn_511 due to NaN in targets: [nan]\n",
      "Skipping rmg_rxn_499 due to NaN in targets: [nan]\n",
      "Skipping rmg_rxn_383 due to NaN in targets: [nan]\n",
      "Skipping rmg_rxn_227 due to NaN in targets: [nan]\n",
      "Skipping rmg_rxn_1532 due to NaN in targets: [nan]\n",
      "Reaction ID kfir_rxn_13897 not found in target data. Skipping this SDF file.\n",
      "Skipping rmg_rxn_15371 due to NaN in targets: [nan]\n",
      "Skipping rmg_rxn_53 due to NaN in targets: [nan]\n",
      "Skipping rmg_rxn_16791 due to NaN in targets: [nan]\n",
      "Reaction ID kfir_rxn_13108 not found in target data. Skipping this SDF file.\n",
      "Reaction ID kfir_rxn_13712 not found in target data. Skipping this SDF file.\n",
      "Skipping rmg_rxn_1130 due to NaN in targets: [nan]\n",
      "Skipping rmg_rxn_21 due to NaN in targets: [nan]\n",
      "Skipping rmg_rxn_15612 due to NaN in targets: [nan]\n",
      "Skipping rmg_rxn_379 due to NaN in targets: [nan]\n",
      "Reaction ID kfir_rxn_11197 not found in target data. Skipping this SDF file.\n",
      "Skipping rmg_rxn_14 due to NaN in targets: [nan]\n",
      "Skipping rmg_rxn_15 due to NaN in targets: [nan]\n",
      "Skipping rmg_rxn_376 due to NaN in targets: [nan]\n",
      "Reaction ID kfir_rxn_10218 not found in target data. Skipping this SDF file.\n",
      "Skipping rmg_rxn_15397 due to NaN in targets: [nan]\n",
      "Skipping rxn_1222 due to NaN in targets: [nan]\n",
      "Skipping rmg_rxn_505 due to NaN in targets: [nan]\n",
      "Skipping rmg_rxn_390 due to NaN in targets: [nan]\n",
      "Reaction ID kfir_rxn_9679 not found in target data. Skipping this SDF file.\n",
      "Skipping rmg_rxn_248 due to NaN in targets: [nan]\n",
      "Skipping rmg_rxn_498 due to NaN in targets: [nan]\n",
      "Reaction ID kfir_rxn_9205 not found in target data. Skipping this SDF file.\n",
      "Skipping rmg_rxn_388 due to NaN in targets: [nan]\n",
      "Skipping rmg_rxn_169 due to NaN in targets: [nan]\n",
      "Skipping rmg_rxn_652 due to NaN in targets: [nan]\n",
      "Skipping rmg_rxn_188 due to NaN in targets: [nan]\n",
      "Skipping rmg_rxn_1337 due to NaN in targets: [nan]\n",
      "Skipping rmg_rxn_377 due to NaN in targets: [nan]\n",
      "Skipping rmg_rxn_760 due to NaN in targets: [nan]\n",
      "Skipping rmg_rxn_293 due to NaN in targets: [nan]\n",
      "Reaction ID kfir_rxn_8057 not found in target data. Skipping this SDF file.\n",
      "Reaction ID kfir_rxn_8536 not found in target data. Skipping this SDF file.\n",
      "Skipping rmg_rxn_16491 due to NaN in targets: [nan]\n",
      "Reaction ID kfir_rxn_679 not found in target data. Skipping this SDF file.\n",
      "Reaction ID kfir_rxn_7125 not found in target data. Skipping this SDF file.\n",
      "Skipping rmg_rxn_15418 due to NaN in targets: [nan]\n",
      "Skipping rmg_rxn_16513 due to NaN in targets: [nan]\n",
      "Skipping rxn_133 due to NaN in targets: [nan]\n",
      "Reaction ID kfir_rxn_5989 not found in target data. Skipping this SDF file.\n",
      "Skipping rxn_230 due to NaN in targets: [nan]\n",
      "Skipping rmg_rxn_500 due to NaN in targets: [nan]\n",
      "Skipping rxn_233 due to NaN in targets: [nan]\n",
      "Skipping rmg_rxn_364 due to NaN in targets: [nan]\n",
      "Reaction ID kfir_rxn_5172 not found in target data. Skipping this SDF file.\n",
      "Skipping rxn_42 due to NaN in targets: [nan]\n",
      "Skipping rmg_rxn_387 due to NaN in targets: [nan]\n",
      "Reaction ID kfir_rxn_8008 not found in target data. Skipping this SDF file.\n",
      "Skipping rmg_rxn_15565 due to NaN in targets: [nan]\n",
      "Skipping rmg_rxn_509 due to NaN in targets: [nan]\n",
      "Reaction ID kfir_rxn_5389 not found in target data. Skipping this SDF file.\n",
      "Skipping rxn_92 due to NaN in targets: [nan]\n",
      "Reaction ID kfir_rxn_9248 not found in target data. Skipping this SDF file.\n",
      "Reaction ID kfir_rxn_11797 not found in target data. Skipping this SDF file.\n",
      "Reaction ID kfir_rxn_1315 not found in target data. Skipping this SDF file.\n",
      "Skipping rmg_rxn_513 due to NaN in targets: [nan]\n",
      "Skipping rmg_rxn_89 due to NaN in targets: [nan]\n",
      "Skipping rmg_rxn_381 due to NaN in targets: [nan]\n",
      "Skipping rmg_rxn_76 due to NaN in targets: [nan]\n",
      "Reaction ID kfir_rxn_13651 not found in target data. Skipping this SDF file.\n",
      "Reaction ID rmg_rxn_508 not found in target data. Skipping this SDF file.\n",
      "Skipping rmg_rxn_384 due to NaN in targets: [nan]\n",
      "Reaction ID kfir_rxn_2 not found in target data. Skipping this SDF file.\n",
      "Reaction ID kfir_rxn_11915 not found in target data. Skipping this SDF file.\n",
      "Skipping rmg_rxn_16522 due to NaN in targets: [nan]\n",
      "Skipping rmg_rxn_6 due to NaN in targets: [nan]\n",
      "Skipping rmg_rxn_207 due to NaN in targets: [nan]\n",
      "Reaction ID kfir_rxn_7531 not found in target data. Skipping this SDF file.\n",
      "Reaction ID kfir_rxn_9652 not found in target data. Skipping this SDF file.\n",
      "Skipping rxn_139 due to NaN in targets: [nan]\n",
      "Skipping rmg_rxn_648 due to NaN in targets: [nan]\n",
      "Skipping rmg_rxn_392 due to NaN in targets: [nan]\n",
      "Reaction ID kfir_rxn_4836 not found in target data. Skipping this SDF file.\n",
      "Skipping rmg_rxn_395 due to NaN in targets: [nan]\n",
      "Reaction ID kfir_rxn_10391 not found in target data. Skipping this SDF file.\n",
      "Skipping rmg_rxn_370 due to NaN in targets: [nan]\n",
      "Skipping rmg_rxn_678 due to NaN in targets: [nan]\n",
      "Skipping rmg_rxn_550 due to NaN in targets: [nan]\n",
      "Reaction ID rmg_rxn_391 not found in target data. Skipping this SDF file.\n",
      "Skipping rmg_rxn_3 due to NaN in targets: [nan]\n",
      "Skipping rmg_rxn_374 due to NaN in targets: [nan]\n",
      "Skipping rmg_rxn_4 due to NaN in targets: [nan]\n",
      "Skipping rmg_rxn_382 due to NaN in targets: [nan]\n",
      "Skipping rmg_rxn_1454 due to NaN in targets: [nan]\n",
      "Skipping rxn_225 due to NaN in targets: [nan]\n",
      "Skipping rmg_rxn_688 due to NaN in targets: [nan]\n",
      "Reaction ID kfir_rxn_12959 not found in target data. Skipping this SDF file.\n",
      "Skipping rmg_rxn_270 due to NaN in targets: [nan]\n",
      "Skipping rxn_52 due to NaN in targets: [nan]\n",
      "Skipping rmg_rxn_36 due to NaN in targets: [nan]\n",
      "Reaction ID kfir_rxn_9885 not found in target data. Skipping this SDF file.\n",
      "Reaction ID kfir_rxn_7559 not found in target data. Skipping this SDF file.\n",
      "Reaction ID kfir_rxn_5161 not found in target data. Skipping this SDF file.\n",
      "Skipping rmg_rxn_394 due to NaN in targets: [nan]\n",
      "Skipping rmg_rxn_512 due to NaN in targets: [nan]\n",
      "Skipping rmg_rxn_371 due to NaN in targets: [nan]\n",
      "Reaction ID kfir_rxn_4303 not found in target data. Skipping this SDF file.\n",
      "Reaction ID kfir_rxn_9409 not found in target data. Skipping this SDF file.\n",
      "Reaction ID kfir_rxn_11663 not found in target data. Skipping this SDF file.\n"
     ]
    }
   ],
   "source": [
    "data_fwd = Featuriser(os.path.expanduser(\"~/code/chemprop_phd_customised/habnet/data/processed/sdf_data\"), filter_rules={'direction': 'forward'},\n",
    "                       path = target_data, set_col_index=False, target_col=['delta_E0'], reverse_mol_types=False,\n",
    "                       include_extra_features = False)\n",
    "# reversed order\n",
    "data_rev = feat_data = Featuriser(os.path.expanduser(\"~/code/chemprop_phd_customised/habnet/data/processed/sdf_data\"), filter_rules={'direction': 'reverse'},\n",
    "                       path = target_data, set_col_index=False, target_col=['delta_E0'], reverse_mol_types=True,\n",
    "                       include_extra_features = False)\n",
    "\n",
    "# now merge: for each component index i, extend\n",
    "combined = []\n",
    "for comp_idx in range(len(MOL_TYPES)):\n",
    "    combined.append(data_fwd[comp_idx] + data_rev[comp_idx])"
   ]
  },
  {
   "cell_type": "code",
   "execution_count": 106,
   "id": "1a831601",
   "metadata": {},
   "outputs": [
    {
     "data": {
      "text/plain": [
       "3388"
      ]
     },
     "execution_count": 106,
     "metadata": {},
     "output_type": "execute_result"
    }
   ],
   "source": [
    "len(combined[0])"
   ]
  },
  {
   "cell_type": "code",
   "execution_count": 107,
   "id": "a238593d",
   "metadata": {},
   "outputs": [
    {
     "data": {
      "text/plain": [
       "MoleculeDatapoint(mol=<rdkit.Chem.rdchem.Mol object at 0x719c545c0890>, y=[-4.0], weight=1.0, gt_mask=None, lt_mask=None, x_d=None, x_phase=None, name='rmg_rxn_86_r1h', V_f=None, E_f=None, V_d=None)"
      ]
     },
     "execution_count": 107,
     "metadata": {},
     "output_type": "execute_result"
    }
   ],
   "source": [
    "combined[0][0]"
   ]
  },
  {
   "cell_type": "code",
   "execution_count": 108,
   "id": "d23a1c91",
   "metadata": {},
   "outputs": [
    {
     "data": {
      "text/plain": [
       "MoleculeDatapoint(mol=<rdkit.Chem.rdchem.Mol object at 0x719c545c1690>, y=None, weight=1.0, gt_mask=None, lt_mask=None, x_d=None, x_phase=None, name='rmg_rxn_86_r2h', V_f=None, E_f=None, V_d=None)"
      ]
     },
     "execution_count": 108,
     "metadata": {},
     "output_type": "execute_result"
    }
   ],
   "source": [
    "combined[1][0]"
   ]
  },
  {
   "cell_type": "code",
   "execution_count": 109,
   "id": "247f58dd",
   "metadata": {},
   "outputs": [
    {
     "data": {
      "text/plain": [
       "MoleculeDatapoint(mol=<rdkit.Chem.rdchem.Mol object at 0x719c456b47b0>, y=[2.0], weight=1.0, gt_mask=None, lt_mask=None, x_d=None, x_phase=None, name='rxn_53_r2h', V_f=None, E_f=None, V_d=None)"
      ]
     },
     "execution_count": 109,
     "metadata": {},
     "output_type": "execute_result"
    }
   ],
   "source": [
    "combined[0][-1]"
   ]
  },
  {
   "cell_type": "code",
   "execution_count": 110,
   "id": "9f95395d",
   "metadata": {},
   "outputs": [
    {
     "data": {
      "text/plain": [
       "MoleculeDatapoint(mol=<rdkit.Chem.rdchem.Mol object at 0x719c456b4820>, y=None, weight=1.0, gt_mask=None, lt_mask=None, x_d=None, x_phase=None, name='rxn_53_r1h', V_f=None, E_f=None, V_d=None)"
      ]
     },
     "execution_count": 110,
     "metadata": {},
     "output_type": "execute_result"
    }
   ],
   "source": [
    "combined[1][-1]"
   ]
  },
  {
   "cell_type": "code",
   "execution_count": 111,
   "id": "a1b47c63",
   "metadata": {},
   "outputs": [
    {
     "name": "stderr",
     "output_type": "stream",
     "text": [
      "The return type of make_split_indices has changed in v2.1 - see help(make_split_indices)\n"
     ]
    }
   ],
   "source": [
    "component_to_split_by = 0\n",
    "mols = [d.mol for d in combined[component_to_split_by]]\n",
    "\n",
    "train_indices, val_indices, test_indices = data.make_split_indices(mols, \"kennard_stone\", (0.8, 0.1, 0.1))\n",
    "\n",
    "\n",
    "train_data, val_data, test_data = data.split_data_by_indices(\n",
    "    combined, train_indices, val_indices, test_indices\n",
    ")"
   ]
  },
  {
   "cell_type": "code",
   "execution_count": 112,
   "id": "558373ea",
   "metadata": {},
   "outputs": [
    {
     "data": {
      "text/plain": [
       "(2710, 338, 340)"
      ]
     },
     "execution_count": 112,
     "metadata": {},
     "output_type": "execute_result"
    }
   ],
   "source": [
    "len(train_data[0][0]), len(val_data[0][0]), len(test_data[0][0])"
   ]
  },
  {
   "cell_type": "code",
   "execution_count": 113,
   "id": "76b86798",
   "metadata": {},
   "outputs": [],
   "source": [
    "rxn_ids = []\n",
    "for i in range(len(train_data[0][0])):\n",
    "    rxn_name = train_data[0][0][i].name\n",
    "    # Need to remove _r1h or _r2h from the reaction name\n",
    "    rxn_name = rxn_name.replace('_r1h', '').replace('_r2h', '')\n",
    "    rxn_ids.append(rxn_name)"
   ]
  },
  {
   "cell_type": "code",
   "execution_count": 114,
   "id": "fce85141",
   "metadata": {},
   "outputs": [
    {
     "data": {
      "text/plain": [
       "Index(['rxn_id', 'mol_type', 'focus_atom_idx', 'path', 'radius', 'angle',\n",
       "       'dihedral', 'r_exist', 'a_exist', 'd_exist', 'focus_atom_symbol'],\n",
       "      dtype='object')"
      ]
     },
     "execution_count": 114,
     "metadata": {},
     "output_type": "execute_result"
    }
   ],
   "source": [
    "# Read extra info\n",
    "atom_extra_feats = pd.read_csv(\"/home/calvin/code/chemprop_phd_customised/habnet/data/preprocessing/all_sdf_features.csv\")\n",
    "atom_extra_feats.columns"
   ]
  },
  {
   "cell_type": "code",
   "execution_count": 115,
   "id": "efbee793",
   "metadata": {},
   "outputs": [],
   "source": [
    "import numpy as np\n",
    "import pandas as pd\n",
    "\n",
    "# Your DataFrame and rxn_ids\n",
    "# atom_extra_feats: DataFrame with all data\n",
    "# rxn_ids: list of rxn_ids in the train set\n",
    "\n",
    "# 1. Subset for fitting\n",
    "train_mask = atom_extra_feats['rxn_id'].isin(rxn_ids)\n",
    "train_feats = atom_extra_feats[train_mask]\n",
    "\n",
    "# 2. Compute parameters from training data\n",
    "num_centers = 16\n",
    "r_min = train_feats['radius'].min()\n",
    "r_max = train_feats['radius'].max()\n",
    "a_min = train_feats['angle'].min()\n",
    "a_max = train_feats['angle'].max()\n",
    "\n",
    "# 3. Apply to all data using train params\n",
    "radius_rbf = rbf_expand(atom_extra_feats['radius'].values, num_centers=num_centers, r_min=r_min, r_max=r_max)\n",
    "dihedral_sc = dihedral_to_sin_cos(atom_extra_feats['dihedral'].values)\n",
    "angle_norm = normalize_angle(atom_extra_feats['angle'].values, a_min=a_min, a_max=a_max)\n",
    "\n",
    "# 4. Stack or add to DataFrame\n",
    "for i in range(num_centers):\n",
    "    atom_extra_feats[f'radius_rbf_{i}'] = radius_rbf[:, i]\n",
    "atom_extra_feats['dihedral_sin'] = dihedral_sc[:, 0]\n",
    "atom_extra_feats['dihedral_cos'] = dihedral_sc[:, 1]\n",
    "atom_extra_feats['angle_norm'] = angle_norm\n"
   ]
  },
  {
   "cell_type": "code",
   "execution_count": 116,
   "id": "b5db95a4",
   "metadata": {},
   "outputs": [
    {
     "name": "stdout",
     "output_type": "stream",
     "text": [
      "{'num_centers': 16, 'r_min': 0.7998821538201737, 'r_max': 6.933882468718373}\n",
      "{'a_min': 0.6142472914325002, 'a_max': 3.141500920022701}\n"
     ]
    }
   ],
   "source": [
    "rbf_params = dict(num_centers=num_centers, r_min=r_min, r_max=r_max)\n",
    "angle_norm_params = dict(a_min=a_min, a_max=a_max)\n",
    "\n",
    "print(rbf_params)\n",
    "print(angle_norm_params)"
   ]
  },
  {
   "cell_type": "code",
   "execution_count": 117,
   "id": "72ae87b0",
   "metadata": {},
   "outputs": [],
   "source": [
    "MOL_TYPES = ['r2h', 'r1h']\n",
    "\n",
    "def get_atom_feats_for_dp(dp_name, atom_extra_feats):\n",
    "    rxn_id, mol_type = dp_name.rsplit('_', 1)\n",
    "    subset = atom_extra_feats[\n",
    "        (atom_extra_feats['rxn_id'] == rxn_id) &\n",
    "        (atom_extra_feats['mol_type'] == mol_type)\n",
    "    ]\n",
    "    # Sort by focus_atom_idx\n",
    "    subset = subset.sort_values(\"focus_atom_idx\")\n",
    "    return subset\n",
    "\n",
    "\n",
    "def attach_morgan_to_dps(dps):\n",
    "    new_dps = []\n",
    "    drop_cols = ['rxn_id', 'mol_type', 'focus_atom_idx', 'path', 'radius', 'angle', 'dihedral','focus_atom_symbol']\n",
    "    for dp in dps:\n",
    "        # pick the mol you actually want to fingerprint:\n",
    "        mol = dp.mol if not isinstance(dp.mol, tuple) else dp.mol[0]\n",
    "        extra_atom_feats = get_atom_feats_for_dp(dp.name, atom_extra_feats).drop(columns=drop_cols).values\n",
    "        new_dp = data.MoleculeDatapoint(\n",
    "            mol=dp.mol,\n",
    "            y=dp.y,\n",
    "            weight=dp.weight,\n",
    "            gt_mask=dp.gt_mask,\n",
    "            lt_mask=dp.lt_mask,\n",
    "            V_f=extra_atom_feats,\n",
    "            E_f=dp.E_f,\n",
    "            V_d=dp.V_d,\n",
    "            x_d=dp.x_d,      # <-- lowercase x_d\n",
    "            x_phase=dp.x_phase,\n",
    "            name=dp.name\n",
    "        )\n",
    "        new_dps.append(new_dp)\n",
    "    return new_dps\n",
    "\n",
    "\n",
    "featurizer = featurizers.SimpleMoleculeMolGraphFeaturizer(extra_atom_fdim=22)\n",
    "\n",
    "train_datasets = [\n",
    "    data.MoleculeDataset(\n",
    "        attach_morgan_to_dps(train_data[0][i]),\n",
    "        featurizer\n",
    "    )\n",
    "    for i in range(len(MOL_TYPES))\n",
    "]\n",
    "\n",
    "val_datasets = [\n",
    "    data.MoleculeDataset(\n",
    "        attach_morgan_to_dps(val_data[0][i]),\n",
    "        featurizer\n",
    "    )\n",
    "    for i in range(len(MOL_TYPES))\n",
    "]\n",
    "test_datasets = [\n",
    "    data.MoleculeDataset(\n",
    "        attach_morgan_to_dps(test_data[0][i]),\n",
    "        featurizer\n",
    "    )\n",
    "    for i in range(len(MOL_TYPES))\n",
    "]\n"
   ]
  },
  {
   "cell_type": "code",
   "execution_count": 118,
   "id": "609ed876",
   "metadata": {},
   "outputs": [],
   "source": [
    "train_mcdset = data.MulticomponentDataset(train_datasets)\n",
    "scaler = train_mcdset.normalize_targets()\n",
    "\n",
    "val_mcdset = data.MulticomponentDataset(val_datasets)\n",
    "val_mcdset.normalize_targets(scaler)\n",
    "test_mcdset = data.MulticomponentDataset(test_datasets)"
   ]
  },
  {
   "cell_type": "code",
   "execution_count": 119,
   "id": "0d0ec334",
   "metadata": {},
   "outputs": [
    {
     "data": {
      "text/plain": [
       "94"
      ]
     },
     "execution_count": 119,
     "metadata": {},
     "output_type": "execute_result"
    }
   ],
   "source": [
    "train_loader = data.build_dataloader(train_mcdset, batch_size=64, shuffle=True, num_workers=8, pin_memory=True)\n",
    "val_loader = data.build_dataloader(val_mcdset, shuffle=False, batch_size=64)\n",
    "test_loader = data.build_dataloader(test_mcdset, shuffle=False, batch_size=64)\n",
    "output_transform = nn.UnscaleTransform.from_standard_scaler(scaler)\n",
    "featurizer.atom_fdim"
   ]
  },
  {
   "cell_type": "code",
   "execution_count": 120,
   "id": "ccc6f27c",
   "metadata": {},
   "outputs": [
    {
     "data": {
      "text/plain": [
       "MulticomponentMPNN(\n",
       "  (message_passing): MulticomponentMessagePassing(\n",
       "    (blocks): ModuleList(\n",
       "      (0-1): 2 x BondMessagePassing(\n",
       "        (W_i): Linear(in_features=108, out_features=1024, bias=False)\n",
       "        (W_h): Linear(in_features=1024, out_features=1024, bias=False)\n",
       "        (W_o): Linear(in_features=1118, out_features=1024, bias=True)\n",
       "        (dropout): Dropout(p=0.3, inplace=False)\n",
       "        (tau): ReLU()\n",
       "        (V_d_transform): Identity()\n",
       "        (graph_transform): Identity()\n",
       "      )\n",
       "    )\n",
       "  )\n",
       "  (agg): MeanAggregation()\n",
       "  (bn): Identity()\n",
       "  (predictor): RegressionFFN(\n",
       "    (ffn): MLP(\n",
       "      (0): Sequential(\n",
       "        (0): Linear(in_features=2048, out_features=300, bias=True)\n",
       "      )\n",
       "      (1): Sequential(\n",
       "        (0): ReLU()\n",
       "        (1): Dropout(p=0.3, inplace=False)\n",
       "        (2): Linear(in_features=300, out_features=1, bias=True)\n",
       "      )\n",
       "    )\n",
       "    (criterion): MSE(task_weights=[[1.0]])\n",
       "    (output_transform): UnscaleTransform()\n",
       "  )\n",
       "  (X_d_transform): Identity()\n",
       "  (metrics): ModuleList(\n",
       "    (0): RMSE(task_weights=[[1.0]])\n",
       "    (1): MAE(task_weights=[[1.0]])\n",
       "    (2): R2Score()\n",
       "    (3): MSE(task_weights=[[1.0]])\n",
       "  )\n",
       ")"
      ]
     },
     "execution_count": 120,
     "metadata": {},
     "output_type": "execute_result"
    }
   ],
   "source": [
    "mcmp = nn.MulticomponentMessagePassing(\n",
    "    blocks=[nn.BondMessagePassing(depth=4, dropout=0.3, d_v=featurizer.atom_fdim, d_e=featurizer.bond_fdim, d_h=1024,\n",
    "                                  ) for _ in range(len(MOL_TYPES))],\n",
    "    n_components=len(MOL_TYPES), shared = False    \n",
    ")\n",
    "\n",
    "agg = nn.MeanAggregation()\n",
    "ffn = nn.RegressionFFN(\n",
    "    input_dim=mcmp.output_dim,\n",
    "    output_transform=output_transform,\n",
    "    dropout=0.3,\n",
    ")\n",
    "metric_list = [metrics.RMSE(), metrics.MAE(), metrics.R2Score()] # Only the first metric is used for training and early stopping\n",
    "mcmpnn = multi.MulticomponentMPNN(\n",
    "    mcmp,\n",
    "    agg,\n",
    "    ffn,\n",
    "    metrics=metric_list,\n",
    ")\n",
    "\n",
    "mcmpnn\n",
    "\n"
   ]
  },
  {
   "cell_type": "code",
   "execution_count": 121,
   "id": "97c2d468",
   "metadata": {},
   "outputs": [
    {
     "name": "stderr",
     "output_type": "stream",
     "text": [
      "GPU available: True (cuda), used: True\n",
      "TPU available: False, using: 0 TPU cores\n",
      "HPU available: False, using: 0 HPUs\n"
     ]
    }
   ],
   "source": [
    "\n",
    "\n",
    "# Trainer setup\n",
    "from lightning.pytorch.callbacks import ModelCheckpoint, EarlyStopping\n",
    "checkpoint_callback = ModelCheckpoint(\n",
    "    monitor=\"val/rmse\",\n",
    "    mode=\"min\",\n",
    "    save_top_k=1,\n",
    "    filename=\"best_model\",\n",
    ")\n",
    "early_stopping_callback = EarlyStopping(\n",
    "    monitor=\"val/rmse\",\n",
    "    patience=10,  # Number of epochs with no improvement after which training will be stopped\n",
    "    mode=\"min\",\n",
    ")\n",
    "\n",
    "\n",
    "# CSV logger setup\n",
    "from lightning.pytorch.loggers import CSVLogger\n",
    "csv_logger = CSVLogger(\n",
    "    save_dir=\"logs\",\n",
    "    name=\"mcmpnn_experiment\",\n",
    "    version=\"v1\"\n",
    ")\n",
    "\n",
    "trainer = pl.Trainer(\n",
    "    logger=csv_logger,\n",
    "    enable_checkpointing=True,\n",
    "    enable_progress_bar=True,\n",
    "    accelerator=\"auto\",\n",
    "    callbacks=[checkpoint_callback, early_stopping_callback],\n",
    "    devices=1,\n",
    "    max_epochs=200, # number of epochs to train for\n",
    ")\n",
    "\n"
   ]
  },
  {
   "cell_type": "code",
   "execution_count": 122,
   "id": "80aabd21",
   "metadata": {},
   "outputs": [
    {
     "name": "stderr",
     "output_type": "stream",
     "text": [
      "/home/calvin/miniforge3/envs/habnet_rocm/lib/python3.12/site-packages/lightning/fabric/loggers/csv_logs.py:268: Experiment logs directory logs/mcmpnn_experiment/v1 exists and is not empty. Previous log files in this directory will be deleted when the new ones are saved!\n",
      "/home/calvin/miniforge3/envs/habnet_rocm/lib/python3.12/site-packages/lightning/pytorch/callbacks/model_checkpoint.py:654: Checkpoint directory logs/mcmpnn_experiment/v1/checkpoints exists and is not empty.\n",
      "LOCAL_RANK: 0 - CUDA_VISIBLE_DEVICES: [0]\n",
      "Loading `train_dataloader` to estimate number of stepping batches.\n",
      "/home/calvin/miniforge3/envs/habnet_rocm/lib/python3.12/site-packages/lightning/pytorch/loops/fit_loop.py:310: The number of training batches (43) is smaller than the logging interval Trainer(log_every_n_steps=50). Set a lower value for log_every_n_steps if you want to see logs for the training epoch.\n",
      "\n",
      "  | Name            | Type                         | Params | Mode \n",
      "-------------------------------------------------------------------------\n",
      "0 | message_passing | MulticomponentMessagePassing | 4.6 M  | train\n",
      "1 | agg             | MeanAggregation              | 0      | train\n",
      "2 | bn              | Identity                     | 0      | train\n",
      "3 | predictor       | RegressionFFN                | 615 K  | train\n",
      "4 | X_d_transform   | Identity                     | 0      | train\n",
      "5 | metrics         | ModuleList                   | 0      | train\n",
      "-------------------------------------------------------------------------\n",
      "5.2 M     Trainable params\n",
      "0         Non-trainable params\n",
      "5.2 M     Total params\n",
      "20.900    Total estimated model params size (MB)\n",
      "36        Modules in train mode\n",
      "0         Modules in eval mode\n",
      "/home/calvin/miniforge3/envs/habnet_rocm/lib/python3.12/site-packages/lightning/pytorch/core/saving.py:363: Skipping 'metrics' parameter because it is not possible to safely dump to YAML.\n"
     ]
    },
    {
     "data": {
      "application/vnd.jupyter.widget-view+json": {
       "model_id": "9bec02be951d41c7a7944508fcb0ad86",
       "version_major": 2,
       "version_minor": 0
      },
      "text/plain": [
       "Sanity Checking: |          | 0/? [00:00<?, ?it/s]"
      ]
     },
     "metadata": {},
     "output_type": "display_data"
    },
    {
     "name": "stderr",
     "output_type": "stream",
     "text": [
      "/home/calvin/miniforge3/envs/habnet_rocm/lib/python3.12/site-packages/lightning/pytorch/trainer/connectors/data_connector.py:425: The 'val_dataloader' does not have many workers which may be a bottleneck. Consider increasing the value of the `num_workers` argument` to `num_workers=19` in the `DataLoader` to improve performance.\n"
     ]
    },
    {
     "data": {
      "application/vnd.jupyter.widget-view+json": {
       "model_id": "bf7e571891a74dbf891048481497e0e6",
       "version_major": 2,
       "version_minor": 0
      },
      "text/plain": [
       "Training: |          | 0/? [00:00<?, ?it/s]"
      ]
     },
     "metadata": {},
     "output_type": "display_data"
    },
    {
     "data": {
      "application/vnd.jupyter.widget-view+json": {
       "model_id": "12fe0854e2bd4c758627da29e5e08ce0",
       "version_major": 2,
       "version_minor": 0
      },
      "text/plain": [
       "Validation: |          | 0/? [00:00<?, ?it/s]"
      ]
     },
     "metadata": {},
     "output_type": "display_data"
    },
    {
     "data": {
      "application/vnd.jupyter.widget-view+json": {
       "model_id": "02c5c7a14ce8478e8340862ecb98b226",
       "version_major": 2,
       "version_minor": 0
      },
      "text/plain": [
       "Validation: |          | 0/? [00:00<?, ?it/s]"
      ]
     },
     "metadata": {},
     "output_type": "display_data"
    },
    {
     "data": {
      "application/vnd.jupyter.widget-view+json": {
       "model_id": "7ed2239334524b2498a1eef516b7f2fd",
       "version_major": 2,
       "version_minor": 0
      },
      "text/plain": [
       "Validation: |          | 0/? [00:00<?, ?it/s]"
      ]
     },
     "metadata": {},
     "output_type": "display_data"
    },
    {
     "data": {
      "application/vnd.jupyter.widget-view+json": {
       "model_id": "7f8dca043a974e8f96792a3f84ada89b",
       "version_major": 2,
       "version_minor": 0
      },
      "text/plain": [
       "Validation: |          | 0/? [00:00<?, ?it/s]"
      ]
     },
     "metadata": {},
     "output_type": "display_data"
    },
    {
     "data": {
      "application/vnd.jupyter.widget-view+json": {
       "model_id": "08683cab231444eb8350db60cff3dcb4",
       "version_major": 2,
       "version_minor": 0
      },
      "text/plain": [
       "Validation: |          | 0/? [00:00<?, ?it/s]"
      ]
     },
     "metadata": {},
     "output_type": "display_data"
    },
    {
     "data": {
      "application/vnd.jupyter.widget-view+json": {
       "model_id": "cc19207399874cb498e5ac1da5031a8c",
       "version_major": 2,
       "version_minor": 0
      },
      "text/plain": [
       "Validation: |          | 0/? [00:00<?, ?it/s]"
      ]
     },
     "metadata": {},
     "output_type": "display_data"
    },
    {
     "data": {
      "application/vnd.jupyter.widget-view+json": {
       "model_id": "28d808b56f99446dac922856b1aad438",
       "version_major": 2,
       "version_minor": 0
      },
      "text/plain": [
       "Validation: |          | 0/? [00:00<?, ?it/s]"
      ]
     },
     "metadata": {},
     "output_type": "display_data"
    },
    {
     "data": {
      "application/vnd.jupyter.widget-view+json": {
       "model_id": "c66300e9c5b54a3f97fb411b82c75e20",
       "version_major": 2,
       "version_minor": 0
      },
      "text/plain": [
       "Validation: |          | 0/? [00:00<?, ?it/s]"
      ]
     },
     "metadata": {},
     "output_type": "display_data"
    },
    {
     "data": {
      "application/vnd.jupyter.widget-view+json": {
       "model_id": "db91f04217ad4a1b9954aa866a6c8804",
       "version_major": 2,
       "version_minor": 0
      },
      "text/plain": [
       "Validation: |          | 0/? [00:00<?, ?it/s]"
      ]
     },
     "metadata": {},
     "output_type": "display_data"
    },
    {
     "data": {
      "application/vnd.jupyter.widget-view+json": {
       "model_id": "97cf870f9bec4280854368ac4556003a",
       "version_major": 2,
       "version_minor": 0
      },
      "text/plain": [
       "Validation: |          | 0/? [00:00<?, ?it/s]"
      ]
     },
     "metadata": {},
     "output_type": "display_data"
    },
    {
     "data": {
      "application/vnd.jupyter.widget-view+json": {
       "model_id": "bd364b4feef74fbf9f89a22416a315b3",
       "version_major": 2,
       "version_minor": 0
      },
      "text/plain": [
       "Validation: |          | 0/? [00:00<?, ?it/s]"
      ]
     },
     "metadata": {},
     "output_type": "display_data"
    },
    {
     "data": {
      "application/vnd.jupyter.widget-view+json": {
       "model_id": "79d847a5f12844229d07d39657d0a33b",
       "version_major": 2,
       "version_minor": 0
      },
      "text/plain": [
       "Validation: |          | 0/? [00:00<?, ?it/s]"
      ]
     },
     "metadata": {},
     "output_type": "display_data"
    },
    {
     "data": {
      "application/vnd.jupyter.widget-view+json": {
       "model_id": "4897c0fe21ca4ede8032c131e0beb2cf",
       "version_major": 2,
       "version_minor": 0
      },
      "text/plain": [
       "Validation: |          | 0/? [00:00<?, ?it/s]"
      ]
     },
     "metadata": {},
     "output_type": "display_data"
    },
    {
     "data": {
      "application/vnd.jupyter.widget-view+json": {
       "model_id": "8f3615c277654af886ca9b082e8b2df5",
       "version_major": 2,
       "version_minor": 0
      },
      "text/plain": [
       "Validation: |          | 0/? [00:00<?, ?it/s]"
      ]
     },
     "metadata": {},
     "output_type": "display_data"
    },
    {
     "data": {
      "application/vnd.jupyter.widget-view+json": {
       "model_id": "572f7315972143588e12faadfcb7fe5e",
       "version_major": 2,
       "version_minor": 0
      },
      "text/plain": [
       "Validation: |          | 0/? [00:00<?, ?it/s]"
      ]
     },
     "metadata": {},
     "output_type": "display_data"
    },
    {
     "data": {
      "application/vnd.jupyter.widget-view+json": {
       "model_id": "b83b4e646f6d46ea92b6a69842908322",
       "version_major": 2,
       "version_minor": 0
      },
      "text/plain": [
       "Validation: |          | 0/? [00:00<?, ?it/s]"
      ]
     },
     "metadata": {},
     "output_type": "display_data"
    },
    {
     "data": {
      "application/vnd.jupyter.widget-view+json": {
       "model_id": "5e44c065fd2b45e6912e529847906a05",
       "version_major": 2,
       "version_minor": 0
      },
      "text/plain": [
       "Validation: |          | 0/? [00:00<?, ?it/s]"
      ]
     },
     "metadata": {},
     "output_type": "display_data"
    },
    {
     "data": {
      "application/vnd.jupyter.widget-view+json": {
       "model_id": "651dec335cb64340ba92873612f02860",
       "version_major": 2,
       "version_minor": 0
      },
      "text/plain": [
       "Validation: |          | 0/? [00:00<?, ?it/s]"
      ]
     },
     "metadata": {},
     "output_type": "display_data"
    },
    {
     "data": {
      "application/vnd.jupyter.widget-view+json": {
       "model_id": "a2805ed5bd0d4e919419a7ece666841a",
       "version_major": 2,
       "version_minor": 0
      },
      "text/plain": [
       "Validation: |          | 0/? [00:00<?, ?it/s]"
      ]
     },
     "metadata": {},
     "output_type": "display_data"
    },
    {
     "data": {
      "application/vnd.jupyter.widget-view+json": {
       "model_id": "ad21c0a48c824ebda7f4f84436b1537e",
       "version_major": 2,
       "version_minor": 0
      },
      "text/plain": [
       "Validation: |          | 0/? [00:00<?, ?it/s]"
      ]
     },
     "metadata": {},
     "output_type": "display_data"
    },
    {
     "data": {
      "application/vnd.jupyter.widget-view+json": {
       "model_id": "00777c3c4ad745dfa93db05c9b0347ed",
       "version_major": 2,
       "version_minor": 0
      },
      "text/plain": [
       "Validation: |          | 0/? [00:00<?, ?it/s]"
      ]
     },
     "metadata": {},
     "output_type": "display_data"
    },
    {
     "data": {
      "application/vnd.jupyter.widget-view+json": {
       "model_id": "59ffe8b612ad4bc48de09426a6546ae6",
       "version_major": 2,
       "version_minor": 0
      },
      "text/plain": [
       "Validation: |          | 0/? [00:00<?, ?it/s]"
      ]
     },
     "metadata": {},
     "output_type": "display_data"
    },
    {
     "data": {
      "application/vnd.jupyter.widget-view+json": {
       "model_id": "f616d6e9c8294b97bc65ec4f734de5f1",
       "version_major": 2,
       "version_minor": 0
      },
      "text/plain": [
       "Validation: |          | 0/? [00:00<?, ?it/s]"
      ]
     },
     "metadata": {},
     "output_type": "display_data"
    },
    {
     "data": {
      "application/vnd.jupyter.widget-view+json": {
       "model_id": "9ce153251c1e4f0fa998d28119eb146f",
       "version_major": 2,
       "version_minor": 0
      },
      "text/plain": [
       "Validation: |          | 0/? [00:00<?, ?it/s]"
      ]
     },
     "metadata": {},
     "output_type": "display_data"
    },
    {
     "data": {
      "application/vnd.jupyter.widget-view+json": {
       "model_id": "198988a41c6b4d21be40aa7067b6fa04",
       "version_major": 2,
       "version_minor": 0
      },
      "text/plain": [
       "Validation: |          | 0/? [00:00<?, ?it/s]"
      ]
     },
     "metadata": {},
     "output_type": "display_data"
    },
    {
     "data": {
      "application/vnd.jupyter.widget-view+json": {
       "model_id": "2fe7b85354dd4204aa0a79ddadbc45b9",
       "version_major": 2,
       "version_minor": 0
      },
      "text/plain": [
       "Validation: |          | 0/? [00:00<?, ?it/s]"
      ]
     },
     "metadata": {},
     "output_type": "display_data"
    },
    {
     "data": {
      "application/vnd.jupyter.widget-view+json": {
       "model_id": "e6668cb2d7b549168037d6cf99ad0b50",
       "version_major": 2,
       "version_minor": 0
      },
      "text/plain": [
       "Validation: |          | 0/? [00:00<?, ?it/s]"
      ]
     },
     "metadata": {},
     "output_type": "display_data"
    },
    {
     "data": {
      "application/vnd.jupyter.widget-view+json": {
       "model_id": "b8060ae62b0149bd97e186ef7f533be6",
       "version_major": 2,
       "version_minor": 0
      },
      "text/plain": [
       "Validation: |          | 0/? [00:00<?, ?it/s]"
      ]
     },
     "metadata": {},
     "output_type": "display_data"
    },
    {
     "data": {
      "application/vnd.jupyter.widget-view+json": {
       "model_id": "793727c9ff9047c7899103d5c7da67b7",
       "version_major": 2,
       "version_minor": 0
      },
      "text/plain": [
       "Validation: |          | 0/? [00:00<?, ?it/s]"
      ]
     },
     "metadata": {},
     "output_type": "display_data"
    },
    {
     "data": {
      "application/vnd.jupyter.widget-view+json": {
       "model_id": "aa97849075384287999924041b825670",
       "version_major": 2,
       "version_minor": 0
      },
      "text/plain": [
       "Validation: |          | 0/? [00:00<?, ?it/s]"
      ]
     },
     "metadata": {},
     "output_type": "display_data"
    },
    {
     "data": {
      "application/vnd.jupyter.widget-view+json": {
       "model_id": "382fb559207b4f2eafd0b2d549b1e19a",
       "version_major": 2,
       "version_minor": 0
      },
      "text/plain": [
       "Validation: |          | 0/? [00:00<?, ?it/s]"
      ]
     },
     "metadata": {},
     "output_type": "display_data"
    },
    {
     "data": {
      "application/vnd.jupyter.widget-view+json": {
       "model_id": "8c7281f917534e54a2984f6be26518cd",
       "version_major": 2,
       "version_minor": 0
      },
      "text/plain": [
       "Validation: |          | 0/? [00:00<?, ?it/s]"
      ]
     },
     "metadata": {},
     "output_type": "display_data"
    }
   ],
   "source": [
    "trainer.fit(mcmpnn, train_loader, val_loader)"
   ]
  },
  {
   "cell_type": "code",
   "execution_count": 123,
   "id": "bad3d5a5",
   "metadata": {},
   "outputs": [
    {
     "name": "stderr",
     "output_type": "stream",
     "text": [
      "LOCAL_RANK: 0 - CUDA_VISIBLE_DEVICES: [0]\n",
      "/home/calvin/miniforge3/envs/habnet_rocm/lib/python3.12/site-packages/lightning/pytorch/trainer/connectors/data_connector.py:425: The 'test_dataloader' does not have many workers which may be a bottleneck. Consider increasing the value of the `num_workers` argument` to `num_workers=19` in the `DataLoader` to improve performance.\n"
     ]
    },
    {
     "data": {
      "application/vnd.jupyter.widget-view+json": {
       "model_id": "4f0f0dc2a8054b50b80492b332d0d09d",
       "version_major": 2,
       "version_minor": 0
      },
      "text/plain": [
       "Testing: |          | 0/? [00:00<?, ?it/s]"
      ]
     },
     "metadata": {},
     "output_type": "display_data"
    },
    {
     "data": {
      "text/html": [
       "<pre style=\"white-space:pre;overflow-x:auto;line-height:normal;font-family:Menlo,'DejaVu Sans Mono',consolas,'Courier New',monospace\">┏━━━━━━━━━━━━━━━━━━━━━━━━━━━┳━━━━━━━━━━━━━━━━━━━━━━━━━━━┓\n",
       "┃<span style=\"font-weight: bold\">        Test metric        </span>┃<span style=\"font-weight: bold\">       DataLoader 0        </span>┃\n",
       "┡━━━━━━━━━━━━━━━━━━━━━━━━━━━╇━━━━━━━━━━━━━━━━━━━━━━━━━━━┩\n",
       "│<span style=\"color: #008080; text-decoration-color: #008080\">         test/mae          </span>│<span style=\"color: #800080; text-decoration-color: #800080\">     5.974956035614014     </span>│\n",
       "│<span style=\"color: #008080; text-decoration-color: #008080\">          test/r2          </span>│<span style=\"color: #800080; text-decoration-color: #800080\">    0.9062747955322266     </span>│\n",
       "│<span style=\"color: #008080; text-decoration-color: #008080\">         test/rmse         </span>│<span style=\"color: #800080; text-decoration-color: #800080\">    10.455361366271973     </span>│\n",
       "└───────────────────────────┴───────────────────────────┘\n",
       "</pre>\n"
      ],
      "text/plain": [
       "┏━━━━━━━━━━━━━━━━━━━━━━━━━━━┳━━━━━━━━━━━━━━━━━━━━━━━━━━━┓\n",
       "┃\u001b[1m \u001b[0m\u001b[1m       Test metric       \u001b[0m\u001b[1m \u001b[0m┃\u001b[1m \u001b[0m\u001b[1m      DataLoader 0       \u001b[0m\u001b[1m \u001b[0m┃\n",
       "┡━━━━━━━━━━━━━━━━━━━━━━━━━━━╇━━━━━━━━━━━━━━━━━━━━━━━━━━━┩\n",
       "│\u001b[36m \u001b[0m\u001b[36m        test/mae         \u001b[0m\u001b[36m \u001b[0m│\u001b[35m \u001b[0m\u001b[35m    5.974956035614014    \u001b[0m\u001b[35m \u001b[0m│\n",
       "│\u001b[36m \u001b[0m\u001b[36m         test/r2         \u001b[0m\u001b[36m \u001b[0m│\u001b[35m \u001b[0m\u001b[35m   0.9062747955322266    \u001b[0m\u001b[35m \u001b[0m│\n",
       "│\u001b[36m \u001b[0m\u001b[36m        test/rmse        \u001b[0m\u001b[36m \u001b[0m│\u001b[35m \u001b[0m\u001b[35m   10.455361366271973    \u001b[0m\u001b[35m \u001b[0m│\n",
       "└───────────────────────────┴───────────────────────────┘\n"
      ]
     },
     "metadata": {},
     "output_type": "display_data"
    },
    {
     "data": {
      "text/plain": [
       "[{'test/rmse': 10.455361366271973,\n",
       "  'test/mae': 5.974956035614014,\n",
       "  'test/r2': 0.9062747955322266}]"
      ]
     },
     "execution_count": 123,
     "metadata": {},
     "output_type": "execute_result"
    }
   ],
   "source": [
    "trainer.test(mcmpnn, test_loader)"
   ]
  },
  {
   "cell_type": "code",
   "execution_count": null,
   "id": "1b21ec8d",
   "metadata": {},
   "outputs": [],
   "source": []
  }
 ],
 "metadata": {
  "kernelspec": {
   "display_name": "habnet_rocm",
   "language": "python",
   "name": "python3"
  },
  "language_info": {
   "codemirror_mode": {
    "name": "ipython",
    "version": 3
   },
   "file_extension": ".py",
   "mimetype": "text/x-python",
   "name": "python",
   "nbconvert_exporter": "python",
   "pygments_lexer": "ipython3",
   "version": "3.12.8"
  }
 },
 "nbformat": 4,
 "nbformat_minor": 5
}
