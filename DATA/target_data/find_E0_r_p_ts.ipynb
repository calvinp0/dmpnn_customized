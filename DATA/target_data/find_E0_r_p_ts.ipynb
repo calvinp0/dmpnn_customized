{
 "cells": [
  {
   "cell_type": "code",
   "execution_count": 96,
   "id": "d164545f",
   "metadata": {},
   "outputs": [],
   "source": [
    "import pandas as pd\n",
    "import re\n",
    "import pandas as pd\n",
    "pd.set_option('display.float_format', '{:.5e}'.format)"
   ]
  },
  {
   "cell_type": "code",
   "execution_count": 97,
   "id": "05d30e16",
   "metadata": {},
   "outputs": [],
   "source": [
    "freq = pd.read_csv('./freq_out_map.csv')"
   ]
  },
  {
   "cell_type": "code",
   "execution_count": 98,
   "id": "b65fe7f7",
   "metadata": {},
   "outputs": [
    {
     "data": {
      "application/vnd.microsoft.datawrangler.viewer.v0+json": {
       "columns": [
        {
         "name": "index",
         "rawType": "int64",
         "type": "integer"
        },
        {
         "name": "rxn",
         "rawType": "object",
         "type": "string"
        },
        {
         "name": "r0",
         "rawType": "object",
         "type": "unknown"
        },
        {
         "name": "r1",
         "rawType": "object",
         "type": "unknown"
        },
        {
         "name": "p0",
         "rawType": "object",
         "type": "unknown"
        },
        {
         "name": "p1",
         "rawType": "object",
         "type": "unknown"
        }
       ],
       "ref": "712067dd-30d8-4e64-bc72-cb37d755ea01",
       "rows": [
        [
         "0",
         "rmg_rxn_96",
         "/home/calvin/Dropbox/PersonalFolders/Calvin/ATLAS_Converged/rmg_rxn_96/calcs/Species/rmg_rxn_96_r1_CCtN/freq_a48712/input.log",
         "/home/calvin/Dropbox/PersonalFolders/Calvin/ATLAS_Converged/rmg_rxn_96/calcs/Species/rmg_rxn_96_r2_sbr-CH2-sbrCSCC/freq_a48759/input.log",
         "/home/calvin/Dropbox/PersonalFolders/Calvin/ATLAS_Converged/rmg_rxn_96/calcs/Species/rmg_rxn_96_p1_C=C=sbr-N-sbr/freq_a48713/input.log",
         "/home/calvin/Dropbox/PersonalFolders/Calvin/ATLAS_Converged/rmg_rxn_96/calcs/Species/rmg_rxn_96_p2_CCSCC/freq_a48902/input.log"
        ],
        [
         "1",
         "rmg_rxn_2",
         "/home/calvin/Dropbox/PersonalFolders/Calvin/ATLAS_Converged/rmg_rxn_2/calcs/Species/rmg_rxn_2_r1_sbr-N-sbrN/freq_a42030/input.log",
         "/home/calvin/Dropbox/PersonalFolders/Calvin/ATLAS_Converged/rmg_rxn_2/calcs/Species/rmg_rxn_2_r2_CCsbr-NH-sbr/freq_a42036/input.log",
         "/home/calvin/Dropbox/PersonalFolders/Calvin/ATLAS_Converged/rmg_rxn_2/calcs/Species/rmg_rxn_2_p1_sbr-NH-sbrN/freq_a42037/input.log",
         "/home/calvin/Dropbox/PersonalFolders/Calvin/ATLAS_Converged/rmg_rxn_2/calcs/Species/rmg_rxn_2_p2_CCsbr-N-sbr/freq_a42033/input.log"
        ],
        [
         "2",
         "rmg_rxn_216",
         "/home/calvin/Dropbox/PersonalFolders/Calvin/ATLAS_Converged/rmg_rxn_216/calcs/Species/rmg_rxn_216_r1_sbr-CH2-sbrCCC/freq_a54774/input.log",
         "/home/calvin/Dropbox/PersonalFolders/Calvin/ATLAS_Converged/rmg_rxn_216/calcs/Species/rmg_rxn_216_r2_CCCOCC/freq_a54777/input.log",
         "/home/calvin/Dropbox/PersonalFolders/Calvin/ATLAS_Converged/rmg_rxn_216/calcs/Species/rmg_rxn_216_p1_CCCC/freq_a54773/input.log",
         "/home/calvin/Dropbox/PersonalFolders/Calvin/ATLAS_Converged/rmg_rxn_216/calcs/Species/rmg_rxn_216_p2_Csbr-CH-sbrCOCC/freq_a54815/input.log"
        ],
        [
         "3",
         "rmg_rxn_394",
         null,
         "/home/calvin/Dropbox/PersonalFolders/Calvin/ATLAS_Converged/rmg_rxn_394/calcs/Species/rmg_rxn_394_r2_CC=NO/freq_a66340/input.log",
         "/home/calvin/Dropbox/PersonalFolders/Calvin/ATLAS_Converged/rmg_rxn_394/calcs/Species/rmg_rxn_394_p1_CC=Nsbr-O-sbr/freq_a66341/input.log",
         "/home/calvin/Dropbox/PersonalFolders/Calvin/ATLAS_Converged/rmg_rxn_394/calcs/Species/rmg_rxn_394_p2_CCO/freq_a66367/input.log"
        ],
        [
         "4",
         "rmg_rxn_633",
         "/home/calvin/Dropbox/PersonalFolders/Calvin/ATLAS_Converged/rmg_rxn_633/calcs/Species/rmg_rxn_633_r1_sbr-CH2-sbrCOCC/freq_a79776/input.log",
         "/home/calvin/Dropbox/PersonalFolders/Calvin/ATLAS_Converged/rmg_rxn_633/calcs/Species/rmg_rxn_633_r2_CCSCC/freq_a79881/input.log",
         "/home/calvin/Dropbox/PersonalFolders/Calvin/ATLAS_Converged/rmg_rxn_633/calcs/Species/rmg_rxn_633_p1_sbr-CH2-sbrCSCC/freq_a79670/input.log",
         "/home/calvin/Dropbox/PersonalFolders/Calvin/ATLAS_Converged/rmg_rxn_633/calcs/Species/rmg_rxn_633_p2_CCOCC/freq_a79652/input.log"
        ],
        [
         "5",
         "rmg_rxn_1142",
         "/home/calvin/Dropbox/PersonalFolders/Calvin/ATLAS_Converged/rmg_rxn_1142/calcs/Species/rmg_rxn_1142_r1_sbr-O-sbr/sp_a102/input.log",
         "/home/calvin/Dropbox/PersonalFolders/Calvin/ATLAS_Converged/rmg_rxn_1142/calcs/Species/rmg_rxn_1142_r2_CCCC/freq_a129/input.log",
         "/home/calvin/Dropbox/PersonalFolders/Calvin/ATLAS_Converged/rmg_rxn_1142/calcs/Species/rmg_rxn_1142_p1_sbr-OH-sbr/freq_a130/input.log",
         "/home/calvin/Dropbox/PersonalFolders/Calvin/ATLAS_Converged/rmg_rxn_1142/calcs/Species/rmg_rxn_1142_p2_sbr-CH2-sbrCCC/freq_a132/input.log"
        ],
        [
         "6",
         "rmg_rxn_14",
         "/home/calvin/Dropbox/PersonalFolders/Calvin/ATLAS_Converged/rmg_rxn_14/calcs/Species/rmg_rxn_14_r1_CCS/freq_a41882/input.log",
         "/home/calvin/Dropbox/PersonalFolders/Calvin/ATLAS_Converged/rmg_rxn_14/calcs/Species/rmg_rxn_14_r2_sbr-CH-sbrCC/freq_a41884/input.log",
         "/home/calvin/Dropbox/PersonalFolders/Calvin/ATLAS_Converged/rmg_rxn_14/calcs/Species/rmg_rxn_14_p1_CCsbr-S-sbr/freq_a41890/input.log",
         null
        ],
        [
         "7",
         "rmg_rxn_1158",
         null,
         null,
         null,
         null
        ],
        [
         "8",
         "rmg_rxn_55",
         "/home/calvin/Dropbox/PersonalFolders/Calvin/ATLAS_Converged/rmg_rxn_55/calcs/Species/rmg_rxn_55_r1_sbr-CH-sbrCC/freq_a46037/input.log",
         "/home/calvin/Dropbox/PersonalFolders/Calvin/ATLAS_Converged/rmg_rxn_55/calcs/Species/rmg_rxn_55_r2_CCSCC/freq_a46183/input.log",
         null,
         "/home/calvin/Dropbox/PersonalFolders/Calvin/ATLAS_Converged/rmg_rxn_55/calcs/Species/rmg_rxn_55_p2_CCSsbr-CH-sbrC/freq_a46051/input.log"
        ],
        [
         "9",
         "rmg_rxn_683",
         "/home/calvin/Dropbox/PersonalFolders/Calvin/ATLAS_Converged/rmg_rxn_683/calcs/Species/rmg_rxn_683_r1_sbr-CH-sbr=CC/freq_a83130/input.log",
         "/home/calvin/Dropbox/PersonalFolders/Calvin/ATLAS_Converged/rmg_rxn_683/calcs/Species/rmg_rxn_683_r2_CCCOC/freq_a83135/input.log",
         "/home/calvin/Dropbox/PersonalFolders/Calvin/ATLAS_Converged/rmg_rxn_683/calcs/Species/rmg_rxn_683_p1_C=CC/freq_a83131/input.log",
         "/home/calvin/Dropbox/PersonalFolders/Calvin/ATLAS_Converged/rmg_rxn_683/calcs/Species/rmg_rxn_683_p2_sbr-CH2-sbrOCCC/freq_a83136/input.log"
        ],
        [
         "10",
         "rmg_rxn_420",
         null,
         null,
         null,
         null
        ],
        [
         "11",
         "rmg_rxn_84",
         "/home/calvin/Dropbox/PersonalFolders/Calvin/ATLAS_Converged/rmg_rxn_84/calcs/Species/rmg_rxn_84_r1_sbr-SH-sbr/freq_a48195/input.log",
         "/home/calvin/Dropbox/PersonalFolders/Calvin/ATLAS_Converged/rmg_rxn_84/calcs/Species/rmg_rxn_84_r2_CCCC/freq_a48199/input.log",
         "/home/calvin/Dropbox/PersonalFolders/Calvin/ATLAS_Converged/rmg_rxn_84/calcs/Species/rmg_rxn_84_p1_S/freq_a48197/input.log",
         "/home/calvin/Dropbox/PersonalFolders/Calvin/ATLAS_Converged/rmg_rxn_84/calcs/Species/rmg_rxn_84_p2_Csbr-CH-sbrCC/freq_a48201/input.log"
        ],
        [
         "12",
         "rmg_rxn_17",
         null,
         null,
         null,
         null
        ],
        [
         "13",
         "rmg_rxn_596",
         "/home/calvin/Dropbox/PersonalFolders/Calvin/ATLAS_Converged/rmg_rxn_596/calcs/Species/rmg_rxn_596_r1_sbr-SH-sbr/freq_a77862/input.log",
         "/home/calvin/Dropbox/PersonalFolders/Calvin/ATLAS_Converged/rmg_rxn_596/calcs/Species/rmg_rxn_596_r2_CN=O/freq_a77863/input.log",
         "/home/calvin/Dropbox/PersonalFolders/Calvin/ATLAS_Converged/rmg_rxn_596/calcs/Species/rmg_rxn_596_p1_S/freq_a77864/input.log",
         "/home/calvin/Dropbox/PersonalFolders/Calvin/ATLAS_Converged/rmg_rxn_596/calcs/Species/rmg_rxn_596_p2_sbr-CH2-sbrN=O/freq_a77865/input.log"
        ],
        [
         "14",
         "rmg_rxn_381",
         null,
         "/home/calvin/Dropbox/PersonalFolders/Calvin/ATLAS_Converged/rmg_rxn_381/calcs/Species/rmg_rxn_381_r2_CCSCC/freq_a65248/input.log",
         "/home/calvin/Dropbox/PersonalFolders/Calvin/ATLAS_Converged/rmg_rxn_381/calcs/Species/rmg_rxn_381_p1_CCO/freq_a65114/input.log",
         "/home/calvin/Dropbox/PersonalFolders/Calvin/ATLAS_Converged/rmg_rxn_381/calcs/Species/rmg_rxn_381_p2_CCSsbr-CH-sbrC/freq_a65120/input.log"
        ],
        [
         "15",
         "rmg_rxn_741",
         null,
         null,
         null,
         null
        ],
        [
         "16",
         "rmg_rxn_2014",
         "/home/calvin/Dropbox/PersonalFolders/Calvin/ATLAS_Converged/rmg_rxn_2014/calcs/Species/rmg_rxn_2014_r1_sbr-O--sbrsbr-NHp-sbr=CC/freq_a66784/input.log",
         "/home/calvin/Dropbox/PersonalFolders/Calvin/ATLAS_Converged/rmg_rxn_2014/calcs/Species/rmg_rxn_2014_r2_sbr-CH2-sbrCOCC/freq_a67034/input.log",
         "/home/calvin/Dropbox/PersonalFolders/Calvin/ATLAS_Converged/rmg_rxn_2014/calcs/Species/rmg_rxn_2014_p1_CC=Nsbr-O-sbr/freq_a66785/input.log",
         "/home/calvin/Dropbox/PersonalFolders/Calvin/ATLAS_Converged/rmg_rxn_2014/calcs/Species/rmg_rxn_2014_p2_CCOCC/freq_a66786/input.log"
        ],
        [
         "17",
         "rmg_rxn_271",
         "/home/calvin/Dropbox/PersonalFolders/Calvin/ATLAS_Converged/rmg_rxn_271/calcs/Species/rmg_rxn_271_r1_sbr-NH-sbrN/freq_a58010/input.log",
         "/home/calvin/Dropbox/PersonalFolders/Calvin/ATLAS_Converged/rmg_rxn_271/calcs/Species/rmg_rxn_271_r2_Csbr-CH-sbrOCCC/freq_a58031/input.log",
         "/home/calvin/Dropbox/PersonalFolders/Calvin/ATLAS_Converged/rmg_rxn_271/calcs/Species/rmg_rxn_271_p1_sbr-N-sbrN/freq_a58011/input.log",
         "/home/calvin/Dropbox/PersonalFolders/Calvin/ATLAS_Converged/rmg_rxn_271/calcs/Species/rmg_rxn_271_p2_CCCOCC/freq_a58025/input.log"
        ],
        [
         "18",
         "rmg_rxn_760",
         "/home/calvin/Dropbox/PersonalFolders/Calvin/ATLAS_Converged/rmg_rxn_760/calcs/Species/rmg_rxn_760_r1_sbr-C-sbrtN/freq_a86084/input.log",
         "/home/calvin/Dropbox/PersonalFolders/Calvin/ATLAS_Converged/rmg_rxn_760/calcs/Species/rmg_rxn_760_r2_CCO/freq_a86095/input.log",
         "/home/calvin/Dropbox/PersonalFolders/Calvin/ATLAS_Converged/rmg_rxn_760/calcs/Species/rmg_rxn_760_p1_CtN/freq_a86086/input.log",
         null
        ],
        [
         "19",
         "rmg_rxn_735",
         null,
         null,
         null,
         null
        ],
        [
         "20",
         "rmg_rxn_1191",
         null,
         null,
         null,
         null
        ],
        [
         "21",
         "rmg_rxn_638",
         "/home/calvin/Dropbox/PersonalFolders/Calvin/ATLAS_Converged/rmg_rxn_638/calcs/Species/rmg_rxn_638_r1_CCtN/freq_a80121/input.log",
         "/home/calvin/Dropbox/PersonalFolders/Calvin/ATLAS_Converged/rmg_rxn_638/calcs/Species/rmg_rxn_638_r2_sbr-CH2-sbrCOCC/freq_a80230/input.log",
         "/home/calvin/Dropbox/PersonalFolders/Calvin/ATLAS_Converged/rmg_rxn_638/calcs/Species/rmg_rxn_638_p1_C=C=sbr-N-sbr/freq_a80123/input.log",
         "/home/calvin/Dropbox/PersonalFolders/Calvin/ATLAS_Converged/rmg_rxn_638/calcs/Species/rmg_rxn_638_p2_CCOCC/freq_a80130/input.log"
        ],
        [
         "22",
         "rmg_rxn_1207",
         null,
         null,
         null,
         null
        ],
        [
         "23",
         "rmg_rxn_1346",
         "/home/calvin/Dropbox/PersonalFolders/Calvin/ATLAS_Converged/rmg_rxn_1346/calcs/Species/rmg_rxn_1346_r1_sbr-O-sbrsbr-O-sbr/freq_a7490/input.log",
         "/home/calvin/Dropbox/PersonalFolders/Calvin/ATLAS_Converged/rmg_rxn_1346/calcs/Species/rmg_rxn_1346_r2_COCCC=O/freq_a7494/input.log",
         "/home/calvin/Dropbox/PersonalFolders/Calvin/ATLAS_Converged/rmg_rxn_1346/calcs/Species/rmg_rxn_1346_p1_sbr-O-sbrO/freq_a7492/input.log",
         "/home/calvin/Dropbox/PersonalFolders/Calvin/ATLAS_Converged/rmg_rxn_1346/calcs/Species/rmg_rxn_1346_p2_sbr-CH2-sbrOCCC=O/freq_a7604/input.log"
        ],
        [
         "24",
         "rmg_rxn_52",
         "/home/calvin/Dropbox/PersonalFolders/Calvin/ATLAS_Converged/rmg_rxn_52/calcs/Species/rmg_rxn_52_r1_sbr-N-sbrN/freq_a45748/input.log",
         "/home/calvin/Dropbox/PersonalFolders/Calvin/ATLAS_Converged/rmg_rxn_52/calcs/Species/rmg_rxn_52_r2_CC=NO/freq_a45753/input.log",
         "/home/calvin/Dropbox/PersonalFolders/Calvin/ATLAS_Converged/rmg_rxn_52/calcs/Species/rmg_rxn_52_p1_sbr-NH-sbrN/freq_a45754/input.log",
         "/home/calvin/Dropbox/PersonalFolders/Calvin/ATLAS_Converged/rmg_rxn_52/calcs/Species/rmg_rxn_52_p2_CC=Nsbr-O-sbr/freq_a45755/input.log"
        ],
        [
         "25",
         "rmg_rxn_350",
         "/home/calvin/Dropbox/PersonalFolders/Calvin/ATLAS_Converged/rmg_rxn_350/calcs/Species/rmg_rxn_350_r1_sbr-CH-sbr=CC/freq_a63047/input.log",
         "/home/calvin/Dropbox/PersonalFolders/Calvin/ATLAS_Converged/rmg_rxn_350/calcs/Species/rmg_rxn_350_r2_C1COCOC1/freq_a63058/input.log",
         "/home/calvin/Dropbox/PersonalFolders/Calvin/ATLAS_Converged/rmg_rxn_350/calcs/Species/rmg_rxn_350_p1_C=CC/freq_a63048/input.log",
         "/home/calvin/Dropbox/PersonalFolders/Calvin/ATLAS_Converged/rmg_rxn_350/calcs/Species/rmg_rxn_350_p2_sbr-CH-sbr1COCOC1/freq_a63064/input.log"
        ],
        [
         "26",
         "rmg_rxn_1189",
         null,
         null,
         null,
         null
        ],
        [
         "27",
         "rmg_rxn_299",
         null,
         null,
         null,
         null
        ],
        [
         "28",
         "rmg_rxn_675",
         "/home/calvin/Dropbox/PersonalFolders/Calvin/ATLAS_Converged/rmg_rxn_675/calcs/Species/rmg_rxn_675_r1_CCtCC/freq_a82695/input.log",
         "/home/calvin/Dropbox/PersonalFolders/Calvin/ATLAS_Converged/rmg_rxn_675/calcs/Species/rmg_rxn_675_r2_sbr-CH2-sbrOCCC/freq_a82691/input.log",
         "/home/calvin/Dropbox/PersonalFolders/Calvin/ATLAS_Converged/rmg_rxn_675/calcs/Species/rmg_rxn_675_p1_sbr-CH2-sbrCtCC/freq_a82699/input.log",
         "/home/calvin/Dropbox/PersonalFolders/Calvin/ATLAS_Converged/rmg_rxn_675/calcs/Species/rmg_rxn_675_p2_CCCOC/freq_a82678/input.log"
        ],
        [
         "29",
         "rmg_rxn_692",
         null,
         null,
         null,
         null
        ],
        [
         "30",
         "rmg_rxn_256",
         "/home/calvin/Dropbox/PersonalFolders/Calvin/ATLAS_Converged/rmg_rxn_256/calcs/Species/rmg_rxn_256_r1_C1COCOC1/freq_a57270/input.log",
         "/home/calvin/Dropbox/PersonalFolders/Calvin/ATLAS_Converged/rmg_rxn_256/calcs/Species/rmg_rxn_256_r2_Csbr-CH-sbrCC/freq_a57273/input.log",
         "/home/calvin/Dropbox/PersonalFolders/Calvin/ATLAS_Converged/rmg_rxn_256/calcs/Species/rmg_rxn_256_p1_sbr-CH-sbr1CCOCO1/freq_a57275/input.log",
         "/home/calvin/Dropbox/PersonalFolders/Calvin/ATLAS_Converged/rmg_rxn_256/calcs/Species/rmg_rxn_256_p2_CCCC/freq_a57271/input.log"
        ],
        [
         "31",
         "rmg_rxn_757",
         null,
         null,
         null,
         null
        ],
        [
         "32",
         "rmg_rxn_1486",
         "/home/calvin/Dropbox/PersonalFolders/Calvin/ATLAS_Converged/rmg_rxn_1486/calcs/Species/rmg_rxn_1486_r1_sbr-NH-sbrN=O/freq_a34228/input.log",
         "/home/calvin/Dropbox/PersonalFolders/Calvin/ATLAS_Converged/rmg_rxn_1486/calcs/Species/rmg_rxn_1486_r2_CCN=O/freq_a34225/input.log",
         "/home/calvin/Dropbox/PersonalFolders/Calvin/ATLAS_Converged/rmg_rxn_1486/calcs/Species/rmg_rxn_1486_p1_NN=O/freq_a34226/input.log",
         "/home/calvin/Dropbox/PersonalFolders/Calvin/ATLAS_Converged/rmg_rxn_1486/calcs/Species/rmg_rxn_1486_p2_CC=Nsbr-O-sbr/freq_a34227/input.log"
        ],
        [
         "33",
         "rmg_rxn_643",
         "/home/calvin/Dropbox/PersonalFolders/Calvin/ATLAS_Converged/rmg_rxn_643/calcs/Species/rmg_rxn_643_r1_CCS/freq_a80534/input.log",
         "/home/calvin/Dropbox/PersonalFolders/Calvin/ATLAS_Converged/rmg_rxn_643/calcs/Species/rmg_rxn_643_r2_sbr-CH2-sbrCOCC/freq_a80576/input.log",
         "/home/calvin/Dropbox/PersonalFolders/Calvin/ATLAS_Converged/rmg_rxn_643/calcs/Species/rmg_rxn_643_p1_CCsbr-S-sbr/freq_a80570/input.log",
         "/home/calvin/Dropbox/PersonalFolders/Calvin/ATLAS_Converged/rmg_rxn_643/calcs/Species/rmg_rxn_643_p2_CCOCC/freq_a80535/input.log"
        ],
        [
         "34",
         "rmg_rxn_307",
         "/home/calvin/Dropbox/PersonalFolders/Calvin/ATLAS_Converged/rmg_rxn_307/calcs/Species/rmg_rxn_307_r1_CCtN/freq_a60372/input.log",
         "/home/calvin/Dropbox/PersonalFolders/Calvin/ATLAS_Converged/rmg_rxn_307/calcs/Species/rmg_rxn_307_r2_CCCsbr-O-sbr/freq_a60377/input.log",
         "/home/calvin/Dropbox/PersonalFolders/Calvin/ATLAS_Converged/rmg_rxn_307/calcs/Species/rmg_rxn_307_p1_C=C=sbr-N-sbr/freq_a60374/input.log",
         "/home/calvin/Dropbox/PersonalFolders/Calvin/ATLAS_Converged/rmg_rxn_307/calcs/Species/rmg_rxn_307_p2_CCCO/freq_a60378/input.log"
        ],
        [
         "35",
         "rmg_rxn_319",
         "/home/calvin/Dropbox/PersonalFolders/Calvin/ATLAS_Converged/rmg_rxn_319/calcs/Species/rmg_rxn_319_r1_sbr-NH-sbrN/freq_a61151/input.log",
         "/home/calvin/Dropbox/PersonalFolders/Calvin/ATLAS_Converged/rmg_rxn_319/calcs/Species/rmg_rxn_319_r2_CCsbr-CH-sbrOCC/freq_a61155/input.log",
         "/home/calvin/Dropbox/PersonalFolders/Calvin/ATLAS_Converged/rmg_rxn_319/calcs/Species/rmg_rxn_319_p1_sbr-N-sbrN/freq_a61150/input.log",
         "/home/calvin/Dropbox/PersonalFolders/Calvin/ATLAS_Converged/rmg_rxn_319/calcs/Species/rmg_rxn_319_p2_CCCOCC/freq_a61154/input.log"
        ],
        [
         "36",
         "rmg_rxn_660",
         "/home/calvin/Dropbox/PersonalFolders/Calvin/ATLAS_Converged/rmg_rxn_660/calcs/Species/rmg_rxn_660_r1_sbr-CH2-sbrOCCC/freq_a81707/input.log",
         "/home/calvin/Dropbox/PersonalFolders/Calvin/ATLAS_Converged/rmg_rxn_660/calcs/Species/rmg_rxn_660_r2_CCCOCC/freq_a81706/input.log",
         "/home/calvin/Dropbox/PersonalFolders/Calvin/ATLAS_Converged/rmg_rxn_660/calcs/Species/rmg_rxn_660_p1_CCCOC/freq_a81704/input.log",
         "/home/calvin/Dropbox/PersonalFolders/Calvin/ATLAS_Converged/rmg_rxn_660/calcs/Species/rmg_rxn_660_p2_CCsbr-CH-sbrOCC/freq_a81709/input.log"
        ],
        [
         "37",
         "rmg_rxn_28",
         "/home/calvin/Dropbox/PersonalFolders/Calvin/ATLAS_Converged/rmg_rxn_28/calcs/Species/rmg_rxn_28_r1_sbr-CH-sbrCC/freq_a43572/input.log",
         "/home/calvin/Dropbox/PersonalFolders/Calvin/ATLAS_Converged/rmg_rxn_28/calcs/Species/rmg_rxn_28_r2_CCCC/freq_a43576/input.log",
         null,
         "/home/calvin/Dropbox/PersonalFolders/Calvin/ATLAS_Converged/rmg_rxn_28/calcs/Species/rmg_rxn_28_p2_sbr-CH2-sbrCCC/freq_a43642/input.log"
        ],
        [
         "38",
         "rmg_rxn_282",
         "/home/calvin/Dropbox/PersonalFolders/Calvin/ATLAS_Converged/rmg_rxn_282/calcs/Species/rmg_rxn_282_r1_S/freq_a58818/input.log",
         "/home/calvin/Dropbox/PersonalFolders/Calvin/ATLAS_Converged/rmg_rxn_282/calcs/Species/rmg_rxn_282_r2_Csbr-CH-sbrOCCC/freq_a58855/input.log",
         "/home/calvin/Dropbox/PersonalFolders/Calvin/ATLAS_Converged/rmg_rxn_282/calcs/Species/rmg_rxn_282_p1_sbr-SH-sbr/freq_a58823/input.log",
         "/home/calvin/Dropbox/PersonalFolders/Calvin/ATLAS_Converged/rmg_rxn_282/calcs/Species/rmg_rxn_282_p2_CCCOCC/freq_a58826/input.log"
        ],
        [
         "39",
         "rmg_rxn_646",
         "/home/calvin/Dropbox/PersonalFolders/Calvin/ATLAS_Converged/rmg_rxn_646/calcs/Species/rmg_rxn_646_r1_CCCsbr-O-sbr/freq_a80725/input.log",
         "/home/calvin/Dropbox/PersonalFolders/Calvin/ATLAS_Converged/rmg_rxn_646/calcs/Species/rmg_rxn_646_r2_CCOCC/freq_a80723/input.log",
         "/home/calvin/Dropbox/PersonalFolders/Calvin/ATLAS_Converged/rmg_rxn_646/calcs/Species/rmg_rxn_646_p1_CCCO/freq_a80724/input.log",
         "/home/calvin/Dropbox/PersonalFolders/Calvin/ATLAS_Converged/rmg_rxn_646/calcs/Species/rmg_rxn_646_p2_sbr-CH2-sbrCOCC/freq_a80733/input.log"
        ],
        [
         "40",
         "rmg_rxn_2002",
         "/home/calvin/Dropbox/PersonalFolders/Calvin/ATLAS_Converged/rmg_rxn_2002/calcs/Species/rmg_rxn_2002_r1_CC=Nsbr-O-sbr/freq_a66317/input.log",
         "/home/calvin/Dropbox/PersonalFolders/Calvin/ATLAS_Converged/rmg_rxn_2002/calcs/Species/rmg_rxn_2002_r2_sbr-O--sbrsbr-NHp-sbr=CC/freq_a66318/input.log",
         "/home/calvin/Dropbox/PersonalFolders/Calvin/ATLAS_Converged/rmg_rxn_2002/calcs/Species/rmg_rxn_2002_p1_CC=Nsbr-O-sbr/freq_a66319/input.log",
         "/home/calvin/Dropbox/PersonalFolders/Calvin/ATLAS_Converged/rmg_rxn_2002/calcs/Species/rmg_rxn_2002_p2_CC=NO/freq_a66322/input.log"
        ],
        [
         "41",
         "rmg_rxn_640",
         "/home/calvin/Dropbox/PersonalFolders/Calvin/ATLAS_Converged/rmg_rxn_640/calcs/Species/rmg_rxn_640_r1_CCsbr-NH-sbr/freq_a80256/input.log",
         "/home/calvin/Dropbox/PersonalFolders/Calvin/ATLAS_Converged/rmg_rxn_640/calcs/Species/rmg_rxn_640_r2_sbr-CH2-sbrCOCC/freq_a80321/input.log",
         "/home/calvin/Dropbox/PersonalFolders/Calvin/ATLAS_Converged/rmg_rxn_640/calcs/Species/rmg_rxn_640_p1_CCsbr-N-sbr/freq_a80252/input.log",
         "/home/calvin/Dropbox/PersonalFolders/Calvin/ATLAS_Converged/rmg_rxn_640/calcs/Species/rmg_rxn_640_p2_CCOCC/freq_a80257/input.log"
        ],
        [
         "42",
         "rmg_rxn_1450",
         null,
         "/home/calvin/Dropbox/PersonalFolders/Calvin/ATLAS_Converged/rmg_rxn_1450/calcs/Species/rmg_rxn_1450_r2_CCCOC=O/freq_a32137/input.log",
         "/home/calvin/Dropbox/PersonalFolders/Calvin/ATLAS_Converged/rmg_rxn_1450/calcs/Species/rmg_rxn_1450_p1_CCO/freq_a31981/input.log",
         "/home/calvin/Dropbox/PersonalFolders/Calvin/ATLAS_Converged/rmg_rxn_1450/calcs/Species/rmg_rxn_1450_p2_sbr-CH2-sbrCCOC=O/freq_a32348/input.log"
        ],
        [
         "43",
         "rmg_rxn_1483",
         "/home/calvin/Dropbox/PersonalFolders/Calvin/ATLAS_Converged/rmg_rxn_1483/calcs/Species/rmg_rxn_1483_r1_sbr-SH-sbr/freq_a34115/input.log",
         "/home/calvin/Dropbox/PersonalFolders/Calvin/ATLAS_Converged/rmg_rxn_1483/calcs/Species/rmg_rxn_1483_r2_NN=O/freq_a34119/input.log",
         "/home/calvin/Dropbox/PersonalFolders/Calvin/ATLAS_Converged/rmg_rxn_1483/calcs/Species/rmg_rxn_1483_p1_sbr-NH-sbrN=O/freq_a34121/input.log",
         "/home/calvin/Dropbox/PersonalFolders/Calvin/ATLAS_Converged/rmg_rxn_1483/calcs/Species/rmg_rxn_1483_p2_S/freq_a34118/input.log"
        ],
        [
         "44",
         "rmg_rxn_689",
         "/home/calvin/Dropbox/PersonalFolders/Calvin/ATLAS_Converged/rmg_rxn_689/calcs/Species/rmg_rxn_689_r1_CSCC/freq_a83510/input.log",
         "/home/calvin/Dropbox/PersonalFolders/Calvin/ATLAS_Converged/rmg_rxn_689/calcs/Species/rmg_rxn_689_r2_sbr-CH2-sbrOCCC/freq_a83523/input.log",
         "/home/calvin/Dropbox/PersonalFolders/Calvin/ATLAS_Converged/rmg_rxn_689/calcs/Species/rmg_rxn_689_p1_sbr-CH2-sbrSCC/freq_a83512/input.log",
         "/home/calvin/Dropbox/PersonalFolders/Calvin/ATLAS_Converged/rmg_rxn_689/calcs/Species/rmg_rxn_689_p2_CCCOC/freq_a83514/input.log"
        ],
        [
         "45",
         "rmg_rxn_346",
         "/home/calvin/Dropbox/PersonalFolders/Calvin/ATLAS_Converged/rmg_rxn_346/calcs/Species/rmg_rxn_346_r1_sbr-CH-sbr=CC/freq_a62895/input.log",
         "/home/calvin/Dropbox/PersonalFolders/Calvin/ATLAS_Converged/rmg_rxn_346/calcs/Species/rmg_rxn_346_r2_CCCOCC/freq_a62898/input.log",
         "/home/calvin/Dropbox/PersonalFolders/Calvin/ATLAS_Converged/rmg_rxn_346/calcs/Species/rmg_rxn_346_p1_C=CC/freq_a62897/input.log",
         "/home/calvin/Dropbox/PersonalFolders/Calvin/ATLAS_Converged/rmg_rxn_346/calcs/Species/rmg_rxn_346_p2_CCsbr-CH-sbrOCC/freq_a62930/input.log"
        ],
        [
         "46",
         "rmg_rxn_171",
         "/home/calvin/Dropbox/PersonalFolders/Calvin/ATLAS_Converged/rmg_rxn_171/calcs/Species/rmg_rxn_171_r1_sbr-CH2-sbrCN=O/freq_a52403/input.log",
         "/home/calvin/Dropbox/PersonalFolders/Calvin/ATLAS_Converged/rmg_rxn_171/calcs/Species/rmg_rxn_171_r2_CCsbr-NH-sbr/freq_a52404/input.log",
         "/home/calvin/Dropbox/PersonalFolders/Calvin/ATLAS_Converged/rmg_rxn_171/calcs/Species/rmg_rxn_171_p1_CCsbr-N-sbr/freq_a52396/input.log",
         "/home/calvin/Dropbox/PersonalFolders/Calvin/ATLAS_Converged/rmg_rxn_171/calcs/Species/rmg_rxn_171_p2_CCN=O/freq_a52405/input.log"
        ],
        [
         "47",
         "rmg_rxn_357",
         "/home/calvin/Dropbox/PersonalFolders/Calvin/ATLAS_Converged/rmg_rxn_357/calcs/Species/rmg_rxn_357_r1_CCN=O/freq_a63446/input.log",
         "/home/calvin/Dropbox/PersonalFolders/Calvin/ATLAS_Converged/rmg_rxn_357/calcs/Species/rmg_rxn_357_r2_sbr-CH-sbr=CC/freq_a63442/input.log",
         "/home/calvin/Dropbox/PersonalFolders/Calvin/ATLAS_Converged/rmg_rxn_357/calcs/Species/rmg_rxn_357_p1_sbr-CH2-sbrCN=O/freq_a63447/input.log",
         "/home/calvin/Dropbox/PersonalFolders/Calvin/ATLAS_Converged/rmg_rxn_357/calcs/Species/rmg_rxn_357_p2_C=CC/freq_a63444/input.log"
        ],
        [
         "48",
         "rmg_rxn_16",
         "/home/calvin/Dropbox/PersonalFolders/Calvin/ATLAS_Converged/rmg_rxn_16/calcs/Species/rmg_rxn_16_r1_sbr-NH-sbrN/freq_a42385/input.log",
         "/home/calvin/Dropbox/PersonalFolders/Calvin/ATLAS_Converged/rmg_rxn_16/calcs/Species/rmg_rxn_16_r2_sbr-CH2-sbrCSCC/freq_a42530/input.log",
         "/home/calvin/Dropbox/PersonalFolders/Calvin/ATLAS_Converged/rmg_rxn_16/calcs/Species/rmg_rxn_16_p1_sbr-N-sbrN/freq_a42384/input.log",
         "/home/calvin/Dropbox/PersonalFolders/Calvin/ATLAS_Converged/rmg_rxn_16/calcs/Species/rmg_rxn_16_p2_CCSCC/freq_a42625/input.log"
        ],
        [
         "49",
         "rmg_rxn_667",
         "/home/calvin/Dropbox/PersonalFolders/Calvin/ATLAS_Converged/rmg_rxn_667/calcs/Species/rmg_rxn_667_r1_S/freq_a82189/input.log",
         "/home/calvin/Dropbox/PersonalFolders/Calvin/ATLAS_Converged/rmg_rxn_667/calcs/Species/rmg_rxn_667_r2_sbr-CH2-sbrOCCC/freq_a82197/input.log",
         "/home/calvin/Dropbox/PersonalFolders/Calvin/ATLAS_Converged/rmg_rxn_667/calcs/Species/rmg_rxn_667_p1_sbr-SH-sbr/freq_a82193/input.log",
         "/home/calvin/Dropbox/PersonalFolders/Calvin/ATLAS_Converged/rmg_rxn_667/calcs/Species/rmg_rxn_667_p2_CCCOC/freq_a82196/input.log"
        ]
       ],
       "shape": {
        "columns": 5,
        "rows": 2495
       }
      },
      "text/html": [
       "<div>\n",
       "<style scoped>\n",
       "    .dataframe tbody tr th:only-of-type {\n",
       "        vertical-align: middle;\n",
       "    }\n",
       "\n",
       "    .dataframe tbody tr th {\n",
       "        vertical-align: top;\n",
       "    }\n",
       "\n",
       "    .dataframe thead th {\n",
       "        text-align: right;\n",
       "    }\n",
       "</style>\n",
       "<table border=\"1\" class=\"dataframe\">\n",
       "  <thead>\n",
       "    <tr style=\"text-align: right;\">\n",
       "      <th></th>\n",
       "      <th>rxn</th>\n",
       "      <th>r0</th>\n",
       "      <th>r1</th>\n",
       "      <th>p0</th>\n",
       "      <th>p1</th>\n",
       "    </tr>\n",
       "  </thead>\n",
       "  <tbody>\n",
       "    <tr>\n",
       "      <th>0</th>\n",
       "      <td>rmg_rxn_96</td>\n",
       "      <td>/home/calvin/Dropbox/PersonalFolders/Calvin/AT...</td>\n",
       "      <td>/home/calvin/Dropbox/PersonalFolders/Calvin/AT...</td>\n",
       "      <td>/home/calvin/Dropbox/PersonalFolders/Calvin/AT...</td>\n",
       "      <td>/home/calvin/Dropbox/PersonalFolders/Calvin/AT...</td>\n",
       "    </tr>\n",
       "    <tr>\n",
       "      <th>1</th>\n",
       "      <td>rmg_rxn_2</td>\n",
       "      <td>/home/calvin/Dropbox/PersonalFolders/Calvin/AT...</td>\n",
       "      <td>/home/calvin/Dropbox/PersonalFolders/Calvin/AT...</td>\n",
       "      <td>/home/calvin/Dropbox/PersonalFolders/Calvin/AT...</td>\n",
       "      <td>/home/calvin/Dropbox/PersonalFolders/Calvin/AT...</td>\n",
       "    </tr>\n",
       "    <tr>\n",
       "      <th>2</th>\n",
       "      <td>rmg_rxn_216</td>\n",
       "      <td>/home/calvin/Dropbox/PersonalFolders/Calvin/AT...</td>\n",
       "      <td>/home/calvin/Dropbox/PersonalFolders/Calvin/AT...</td>\n",
       "      <td>/home/calvin/Dropbox/PersonalFolders/Calvin/AT...</td>\n",
       "      <td>/home/calvin/Dropbox/PersonalFolders/Calvin/AT...</td>\n",
       "    </tr>\n",
       "    <tr>\n",
       "      <th>3</th>\n",
       "      <td>rmg_rxn_394</td>\n",
       "      <td>NaN</td>\n",
       "      <td>/home/calvin/Dropbox/PersonalFolders/Calvin/AT...</td>\n",
       "      <td>/home/calvin/Dropbox/PersonalFolders/Calvin/AT...</td>\n",
       "      <td>/home/calvin/Dropbox/PersonalFolders/Calvin/AT...</td>\n",
       "    </tr>\n",
       "    <tr>\n",
       "      <th>4</th>\n",
       "      <td>rmg_rxn_633</td>\n",
       "      <td>/home/calvin/Dropbox/PersonalFolders/Calvin/AT...</td>\n",
       "      <td>/home/calvin/Dropbox/PersonalFolders/Calvin/AT...</td>\n",
       "      <td>/home/calvin/Dropbox/PersonalFolders/Calvin/AT...</td>\n",
       "      <td>/home/calvin/Dropbox/PersonalFolders/Calvin/AT...</td>\n",
       "    </tr>\n",
       "    <tr>\n",
       "      <th>...</th>\n",
       "      <td>...</td>\n",
       "      <td>...</td>\n",
       "      <td>...</td>\n",
       "      <td>...</td>\n",
       "      <td>...</td>\n",
       "    </tr>\n",
       "    <tr>\n",
       "      <th>2490</th>\n",
       "      <td>rmg_rxn_14100</td>\n",
       "      <td>/home/calvin/Dropbox/PersonalFolders/Calvin/ZE...</td>\n",
       "      <td>/home/calvin/Dropbox/PersonalFolders/Calvin/ZE...</td>\n",
       "      <td>/home/calvin/Dropbox/PersonalFolders/Calvin/ZE...</td>\n",
       "      <td>/home/calvin/Dropbox/PersonalFolders/Calvin/ZE...</td>\n",
       "    </tr>\n",
       "    <tr>\n",
       "      <th>2491</th>\n",
       "      <td>rmg_rxn_15585</td>\n",
       "      <td>/home/calvin/Dropbox/PersonalFolders/Calvin/ZE...</td>\n",
       "      <td>/home/calvin/Dropbox/PersonalFolders/Calvin/ZE...</td>\n",
       "      <td>/home/calvin/Dropbox/PersonalFolders/Calvin/ZE...</td>\n",
       "      <td>/home/calvin/Dropbox/PersonalFolders/Calvin/ZE...</td>\n",
       "    </tr>\n",
       "    <tr>\n",
       "      <th>2492</th>\n",
       "      <td>rmg_rxn_1125</td>\n",
       "      <td>NaN</td>\n",
       "      <td>NaN</td>\n",
       "      <td>NaN</td>\n",
       "      <td>NaN</td>\n",
       "    </tr>\n",
       "    <tr>\n",
       "      <th>2493</th>\n",
       "      <td>rmg_rxn_15495</td>\n",
       "      <td>NaN</td>\n",
       "      <td>NaN</td>\n",
       "      <td>NaN</td>\n",
       "      <td>NaN</td>\n",
       "    </tr>\n",
       "    <tr>\n",
       "      <th>2494</th>\n",
       "      <td>rmg_rxn_16589</td>\n",
       "      <td>NaN</td>\n",
       "      <td>NaN</td>\n",
       "      <td>NaN</td>\n",
       "      <td>NaN</td>\n",
       "    </tr>\n",
       "  </tbody>\n",
       "</table>\n",
       "<p>2495 rows × 5 columns</p>\n",
       "</div>"
      ],
      "text/plain": [
       "                rxn                                                 r0  \\\n",
       "0        rmg_rxn_96  /home/calvin/Dropbox/PersonalFolders/Calvin/AT...   \n",
       "1         rmg_rxn_2  /home/calvin/Dropbox/PersonalFolders/Calvin/AT...   \n",
       "2       rmg_rxn_216  /home/calvin/Dropbox/PersonalFolders/Calvin/AT...   \n",
       "3       rmg_rxn_394                                                NaN   \n",
       "4       rmg_rxn_633  /home/calvin/Dropbox/PersonalFolders/Calvin/AT...   \n",
       "...             ...                                                ...   \n",
       "2490  rmg_rxn_14100  /home/calvin/Dropbox/PersonalFolders/Calvin/ZE...   \n",
       "2491  rmg_rxn_15585  /home/calvin/Dropbox/PersonalFolders/Calvin/ZE...   \n",
       "2492   rmg_rxn_1125                                                NaN   \n",
       "2493  rmg_rxn_15495                                                NaN   \n",
       "2494  rmg_rxn_16589                                                NaN   \n",
       "\n",
       "                                                     r1  \\\n",
       "0     /home/calvin/Dropbox/PersonalFolders/Calvin/AT...   \n",
       "1     /home/calvin/Dropbox/PersonalFolders/Calvin/AT...   \n",
       "2     /home/calvin/Dropbox/PersonalFolders/Calvin/AT...   \n",
       "3     /home/calvin/Dropbox/PersonalFolders/Calvin/AT...   \n",
       "4     /home/calvin/Dropbox/PersonalFolders/Calvin/AT...   \n",
       "...                                                 ...   \n",
       "2490  /home/calvin/Dropbox/PersonalFolders/Calvin/ZE...   \n",
       "2491  /home/calvin/Dropbox/PersonalFolders/Calvin/ZE...   \n",
       "2492                                                NaN   \n",
       "2493                                                NaN   \n",
       "2494                                                NaN   \n",
       "\n",
       "                                                     p0  \\\n",
       "0     /home/calvin/Dropbox/PersonalFolders/Calvin/AT...   \n",
       "1     /home/calvin/Dropbox/PersonalFolders/Calvin/AT...   \n",
       "2     /home/calvin/Dropbox/PersonalFolders/Calvin/AT...   \n",
       "3     /home/calvin/Dropbox/PersonalFolders/Calvin/AT...   \n",
       "4     /home/calvin/Dropbox/PersonalFolders/Calvin/AT...   \n",
       "...                                                 ...   \n",
       "2490  /home/calvin/Dropbox/PersonalFolders/Calvin/ZE...   \n",
       "2491  /home/calvin/Dropbox/PersonalFolders/Calvin/ZE...   \n",
       "2492                                                NaN   \n",
       "2493                                                NaN   \n",
       "2494                                                NaN   \n",
       "\n",
       "                                                     p1  \n",
       "0     /home/calvin/Dropbox/PersonalFolders/Calvin/AT...  \n",
       "1     /home/calvin/Dropbox/PersonalFolders/Calvin/AT...  \n",
       "2     /home/calvin/Dropbox/PersonalFolders/Calvin/AT...  \n",
       "3     /home/calvin/Dropbox/PersonalFolders/Calvin/AT...  \n",
       "4     /home/calvin/Dropbox/PersonalFolders/Calvin/AT...  \n",
       "...                                                 ...  \n",
       "2490  /home/calvin/Dropbox/PersonalFolders/Calvin/ZE...  \n",
       "2491  /home/calvin/Dropbox/PersonalFolders/Calvin/ZE...  \n",
       "2492                                                NaN  \n",
       "2493                                                NaN  \n",
       "2494                                                NaN  \n",
       "\n",
       "[2495 rows x 5 columns]"
      ]
     },
     "execution_count": 98,
     "metadata": {},
     "output_type": "execute_result"
    }
   ],
   "source": [
    "freq"
   ]
  },
  {
   "cell_type": "code",
   "execution_count": 100,
   "id": "18a381ae",
   "metadata": {},
   "outputs": [
    {
     "name": "stdout",
     "output_type": "stream",
     "text": [
      "rmg_rxn_96_r1_CCtN\n"
     ]
    }
   ],
   "source": [
    "r0 = '/home/calvin/Dropbox/PersonalFolders/Calvin/ATLAS_Converged/rmg_rxn_96/calcs/Species/rmg_rxn_96_r1_CCtN/freq_a48712/input.log'\n",
    "match = re.search(r'/Species/([^/]+)/', r0)\n",
    "if match:\n",
    "    r0_stripped = match.group(1)\n",
    "    print(r0_stripped)  # Output: rmg_rxn_96_r1_CCtN"
   ]
  },
  {
   "cell_type": "code",
   "execution_count": 101,
   "id": "f146a4fb",
   "metadata": {},
   "outputs": [],
   "source": [
    "import re\n",
    "\n",
    "pattern = r'/Species/([^/]+)/'\n",
    "\n",
    "# Create new columns with base species names extracted from each path\n",
    "for col in ['r0', 'r1', 'p0', 'p1']:\n",
    "    freq[f'base_{col}'] = freq[col].astype(str).str.extract(pattern)[0]\n",
    "    # If you want NaN for values that are not matching or not strings,\n",
    "    # this will handle it automatically\n",
    "\n",
    "# Keep only desired columns (optional)\n",
    "df_base = freq[['rxn', 'base_r0', 'base_r1', 'base_p0', 'base_p1']]\n"
   ]
  },
  {
   "cell_type": "code",
   "execution_count": 102,
   "id": "551f5208",
   "metadata": {},
   "outputs": [
    {
     "data": {
      "application/vnd.microsoft.datawrangler.viewer.v0+json": {
       "columns": [
        {
         "name": "index",
         "rawType": "int64",
         "type": "integer"
        },
        {
         "name": "rxn",
         "rawType": "object",
         "type": "string"
        },
        {
         "name": "base_r0",
         "rawType": "object",
         "type": "string"
        },
        {
         "name": "base_r1",
         "rawType": "object",
         "type": "string"
        },
        {
         "name": "base_p0",
         "rawType": "object",
         "type": "string"
        },
        {
         "name": "base_p1",
         "rawType": "object",
         "type": "string"
        }
       ],
       "ref": "b9afe951-a36e-4ef1-bcdb-309275f7d246",
       "rows": [
        [
         "0",
         "rmg_rxn_96",
         "rmg_rxn_96_r1_CCtN",
         "rmg_rxn_96_r2_sbr-CH2-sbrCSCC",
         "rmg_rxn_96_p1_C=C=sbr-N-sbr",
         "rmg_rxn_96_p2_CCSCC"
        ],
        [
         "1",
         "rmg_rxn_2",
         "rmg_rxn_2_r1_sbr-N-sbrN",
         "rmg_rxn_2_r2_CCsbr-NH-sbr",
         "rmg_rxn_2_p1_sbr-NH-sbrN",
         "rmg_rxn_2_p2_CCsbr-N-sbr"
        ],
        [
         "2",
         "rmg_rxn_216",
         "rmg_rxn_216_r1_sbr-CH2-sbrCCC",
         "rmg_rxn_216_r2_CCCOCC",
         "rmg_rxn_216_p1_CCCC",
         "rmg_rxn_216_p2_Csbr-CH-sbrCOCC"
        ],
        [
         "4",
         "rmg_rxn_633",
         "rmg_rxn_633_r1_sbr-CH2-sbrCOCC",
         "rmg_rxn_633_r2_CCSCC",
         "rmg_rxn_633_p1_sbr-CH2-sbrCSCC",
         "rmg_rxn_633_p2_CCOCC"
        ],
        [
         "5",
         "rmg_rxn_1142",
         "rmg_rxn_1142_r1_sbr-O-sbr",
         "rmg_rxn_1142_r2_CCCC",
         "rmg_rxn_1142_p1_sbr-OH-sbr",
         "rmg_rxn_1142_p2_sbr-CH2-sbrCCC"
        ],
        [
         "9",
         "rmg_rxn_683",
         "rmg_rxn_683_r1_sbr-CH-sbr=CC",
         "rmg_rxn_683_r2_CCCOC",
         "rmg_rxn_683_p1_C=CC",
         "rmg_rxn_683_p2_sbr-CH2-sbrOCCC"
        ],
        [
         "11",
         "rmg_rxn_84",
         "rmg_rxn_84_r1_sbr-SH-sbr",
         "rmg_rxn_84_r2_CCCC",
         "rmg_rxn_84_p1_S",
         "rmg_rxn_84_p2_Csbr-CH-sbrCC"
        ],
        [
         "13",
         "rmg_rxn_596",
         "rmg_rxn_596_r1_sbr-SH-sbr",
         "rmg_rxn_596_r2_CN=O",
         "rmg_rxn_596_p1_S",
         "rmg_rxn_596_p2_sbr-CH2-sbrN=O"
        ],
        [
         "16",
         "rmg_rxn_2014",
         "rmg_rxn_2014_r1_sbr-O--sbrsbr-NHp-sbr=CC",
         "rmg_rxn_2014_r2_sbr-CH2-sbrCOCC",
         "rmg_rxn_2014_p1_CC=Nsbr-O-sbr",
         "rmg_rxn_2014_p2_CCOCC"
        ],
        [
         "17",
         "rmg_rxn_271",
         "rmg_rxn_271_r1_sbr-NH-sbrN",
         "rmg_rxn_271_r2_Csbr-CH-sbrOCCC",
         "rmg_rxn_271_p1_sbr-N-sbrN",
         "rmg_rxn_271_p2_CCCOCC"
        ],
        [
         "21",
         "rmg_rxn_638",
         "rmg_rxn_638_r1_CCtN",
         "rmg_rxn_638_r2_sbr-CH2-sbrCOCC",
         "rmg_rxn_638_p1_C=C=sbr-N-sbr",
         "rmg_rxn_638_p2_CCOCC"
        ],
        [
         "23",
         "rmg_rxn_1346",
         "rmg_rxn_1346_r1_sbr-O-sbrsbr-O-sbr",
         "rmg_rxn_1346_r2_COCCC=O",
         "rmg_rxn_1346_p1_sbr-O-sbrO",
         "rmg_rxn_1346_p2_sbr-CH2-sbrOCCC=O"
        ],
        [
         "24",
         "rmg_rxn_52",
         "rmg_rxn_52_r1_sbr-N-sbrN",
         "rmg_rxn_52_r2_CC=NO",
         "rmg_rxn_52_p1_sbr-NH-sbrN",
         "rmg_rxn_52_p2_CC=Nsbr-O-sbr"
        ],
        [
         "25",
         "rmg_rxn_350",
         "rmg_rxn_350_r1_sbr-CH-sbr=CC",
         "rmg_rxn_350_r2_C1COCOC1",
         "rmg_rxn_350_p1_C=CC",
         "rmg_rxn_350_p2_sbr-CH-sbr1COCOC1"
        ],
        [
         "28",
         "rmg_rxn_675",
         "rmg_rxn_675_r1_CCtCC",
         "rmg_rxn_675_r2_sbr-CH2-sbrOCCC",
         "rmg_rxn_675_p1_sbr-CH2-sbrCtCC",
         "rmg_rxn_675_p2_CCCOC"
        ],
        [
         "30",
         "rmg_rxn_256",
         "rmg_rxn_256_r1_C1COCOC1",
         "rmg_rxn_256_r2_Csbr-CH-sbrCC",
         "rmg_rxn_256_p1_sbr-CH-sbr1CCOCO1",
         "rmg_rxn_256_p2_CCCC"
        ],
        [
         "32",
         "rmg_rxn_1486",
         "rmg_rxn_1486_r1_sbr-NH-sbrN=O",
         "rmg_rxn_1486_r2_CCN=O",
         "rmg_rxn_1486_p1_NN=O",
         "rmg_rxn_1486_p2_CC=Nsbr-O-sbr"
        ],
        [
         "33",
         "rmg_rxn_643",
         "rmg_rxn_643_r1_CCS",
         "rmg_rxn_643_r2_sbr-CH2-sbrCOCC",
         "rmg_rxn_643_p1_CCsbr-S-sbr",
         "rmg_rxn_643_p2_CCOCC"
        ],
        [
         "34",
         "rmg_rxn_307",
         "rmg_rxn_307_r1_CCtN",
         "rmg_rxn_307_r2_CCCsbr-O-sbr",
         "rmg_rxn_307_p1_C=C=sbr-N-sbr",
         "rmg_rxn_307_p2_CCCO"
        ],
        [
         "35",
         "rmg_rxn_319",
         "rmg_rxn_319_r1_sbr-NH-sbrN",
         "rmg_rxn_319_r2_CCsbr-CH-sbrOCC",
         "rmg_rxn_319_p1_sbr-N-sbrN",
         "rmg_rxn_319_p2_CCCOCC"
        ],
        [
         "36",
         "rmg_rxn_660",
         "rmg_rxn_660_r1_sbr-CH2-sbrOCCC",
         "rmg_rxn_660_r2_CCCOCC",
         "rmg_rxn_660_p1_CCCOC",
         "rmg_rxn_660_p2_CCsbr-CH-sbrOCC"
        ],
        [
         "38",
         "rmg_rxn_282",
         "rmg_rxn_282_r1_S",
         "rmg_rxn_282_r2_Csbr-CH-sbrOCCC",
         "rmg_rxn_282_p1_sbr-SH-sbr",
         "rmg_rxn_282_p2_CCCOCC"
        ],
        [
         "39",
         "rmg_rxn_646",
         "rmg_rxn_646_r1_CCCsbr-O-sbr",
         "rmg_rxn_646_r2_CCOCC",
         "rmg_rxn_646_p1_CCCO",
         "rmg_rxn_646_p2_sbr-CH2-sbrCOCC"
        ],
        [
         "40",
         "rmg_rxn_2002",
         "rmg_rxn_2002_r1_CC=Nsbr-O-sbr",
         "rmg_rxn_2002_r2_sbr-O--sbrsbr-NHp-sbr=CC",
         "rmg_rxn_2002_p1_CC=Nsbr-O-sbr",
         "rmg_rxn_2002_p2_CC=NO"
        ],
        [
         "41",
         "rmg_rxn_640",
         "rmg_rxn_640_r1_CCsbr-NH-sbr",
         "rmg_rxn_640_r2_sbr-CH2-sbrCOCC",
         "rmg_rxn_640_p1_CCsbr-N-sbr",
         "rmg_rxn_640_p2_CCOCC"
        ],
        [
         "43",
         "rmg_rxn_1483",
         "rmg_rxn_1483_r1_sbr-SH-sbr",
         "rmg_rxn_1483_r2_NN=O",
         "rmg_rxn_1483_p1_sbr-NH-sbrN=O",
         "rmg_rxn_1483_p2_S"
        ],
        [
         "44",
         "rmg_rxn_689",
         "rmg_rxn_689_r1_CSCC",
         "rmg_rxn_689_r2_sbr-CH2-sbrOCCC",
         "rmg_rxn_689_p1_sbr-CH2-sbrSCC",
         "rmg_rxn_689_p2_CCCOC"
        ],
        [
         "45",
         "rmg_rxn_346",
         "rmg_rxn_346_r1_sbr-CH-sbr=CC",
         "rmg_rxn_346_r2_CCCOCC",
         "rmg_rxn_346_p1_C=CC",
         "rmg_rxn_346_p2_CCsbr-CH-sbrOCC"
        ],
        [
         "46",
         "rmg_rxn_171",
         "rmg_rxn_171_r1_sbr-CH2-sbrCN=O",
         "rmg_rxn_171_r2_CCsbr-NH-sbr",
         "rmg_rxn_171_p1_CCsbr-N-sbr",
         "rmg_rxn_171_p2_CCN=O"
        ],
        [
         "47",
         "rmg_rxn_357",
         "rmg_rxn_357_r1_CCN=O",
         "rmg_rxn_357_r2_sbr-CH-sbr=CC",
         "rmg_rxn_357_p1_sbr-CH2-sbrCN=O",
         "rmg_rxn_357_p2_C=CC"
        ],
        [
         "48",
         "rmg_rxn_16",
         "rmg_rxn_16_r1_sbr-NH-sbrN",
         "rmg_rxn_16_r2_sbr-CH2-sbrCSCC",
         "rmg_rxn_16_p1_sbr-N-sbrN",
         "rmg_rxn_16_p2_CCSCC"
        ],
        [
         "49",
         "rmg_rxn_667",
         "rmg_rxn_667_r1_S",
         "rmg_rxn_667_r2_sbr-CH2-sbrOCCC",
         "rmg_rxn_667_p1_sbr-SH-sbr",
         "rmg_rxn_667_p2_CCCOC"
        ],
        [
         "51",
         "rmg_rxn_176",
         "rmg_rxn_176_r1_CCN=O",
         "rmg_rxn_176_r2_sbr-CH2-sbrCSCC",
         "rmg_rxn_176_p1_sbr-CH2-sbrCN=O",
         "rmg_rxn_176_p2_CCSCC"
        ],
        [
         "52",
         "rmg_rxn_251",
         "rmg_rxn_251_r1_CCtCC",
         "rmg_rxn_251_r2_sbr-CH-sbr1CCOCO1",
         "rmg_rxn_251_p1_sbr-CH2-sbrCtCC",
         "rmg_rxn_251_p2_C1COCOC1"
        ],
        [
         "54",
         "rmg_rxn_1046",
         "rmg_rxn_1046_r1_sbr-N--sbr=sbr-NH2p-sbr",
         "rmg_rxn_1046_r2_sbr-CH2-sbrCN=O",
         "rmg_rxn_1046_p1_sbr-N-sbr=N",
         "rmg_rxn_1046_p2_CCN=O"
        ],
        [
         "56",
         "rmg_rxn_1485",
         "rmg_rxn_1485_r1_NN=O",
         "rmg_rxn_1485_r2_sbr-CH2-sbrCSCC",
         "rmg_rxn_1485_p1_sbr-NH-sbrN=O",
         "rmg_rxn_1485_p2_CCSCC"
        ],
        [
         "57",
         "rmg_rxn_157",
         "rmg_rxn_157_r1_CCN=O",
         "rmg_rxn_157_r2_sbr-CH2-sbrCOCCC",
         "rmg_rxn_157_p1_CC=Nsbr-O-sbr",
         "rmg_rxn_157_p2_CCCOCC"
        ],
        [
         "58",
         "rmg_rxn_297",
         "rmg_rxn_297_r1_CCS",
         "rmg_rxn_297_r2_CCCsbr-O-sbr",
         "rmg_rxn_297_p1_CCsbr-S-sbr",
         "rmg_rxn_297_p2_CCCO"
        ],
        [
         "59",
         "rmg_rxn_24",
         "rmg_rxn_24_r1_CCtCC",
         "rmg_rxn_24_r2_Csbr-CH-sbrCC",
         "rmg_rxn_24_p1_sbr-CH2-sbrCtCC",
         "rmg_rxn_24_p2_CCCC"
        ],
        [
         "63",
         "rmg_rxn_61",
         "rmg_rxn_61_r1_CCN=O",
         "rmg_rxn_61_r2_CCSsbr-CH-sbrC",
         "rmg_rxn_61_p1_CC=Nsbr-O-sbr",
         "rmg_rxn_61_p2_CCSCC"
        ],
        [
         "64",
         "rmg_rxn_60",
         "rmg_rxn_60_r1_CC=NO",
         "rmg_rxn_60_r2_CCSsbr-CH-sbrC",
         "rmg_rxn_60_p1_CC=Nsbr-O-sbr",
         "rmg_rxn_60_p2_CCSCC"
        ],
        [
         "65",
         "rmg_rxn_1152",
         "rmg_rxn_1152_r1_sbr-O-sbr",
         "rmg_rxn_1152_r2_CCCOCC",
         "rmg_rxn_1152_p1_sbr-OH-sbr",
         "rmg_rxn_1152_p2_sbr-CH2-sbrCOCCC"
        ],
        [
         "69",
         "rmg_rxn_42",
         "rmg_rxn_42_r1_C1COCOC1",
         "rmg_rxn_42_r2_sbr-CH2-sbrCSCC",
         "rmg_rxn_42_p1_sbr-CH-sbr1OCCCO1",
         "rmg_rxn_42_p2_CCSCC"
        ],
        [
         "70",
         "rmg_rxn_1066",
         "rmg_rxn_1066_r1_sbr-N--sbr=sbr-NH2p-sbr",
         "rmg_rxn_1066_r2_sbr-CH2-sbrN=O",
         "rmg_rxn_1066_p1_sbr-N-sbr=N",
         "rmg_rxn_1066_p2_CN=O"
        ],
        [
         "71",
         "rmg_rxn_1474",
         "rmg_rxn_1474_r1_NN=O",
         "rmg_rxn_1474_r2_sbr-CH2-sbrCCC",
         "rmg_rxn_1474_p1_sbr-NH-sbrN=O",
         "rmg_rxn_1474_p2_CCCC"
        ],
        [
         "72",
         "rmg_rxn_35",
         "rmg_rxn_35_r1_sbr-CH2-sbrCCC",
         "rmg_rxn_35_r2_CCCC",
         "rmg_rxn_35_p1_Csbr-CH-sbrCC",
         "rmg_rxn_35_p2_CCCC"
        ],
        [
         "75",
         "rmg_rxn_411",
         "rmg_rxn_411_r1_sbr-O-sbrO",
         "rmg_rxn_411_r2_CC=Nsbr-O-sbr",
         "rmg_rxn_411_p1_sbr-O-sbrsbr-O-sbr",
         "rmg_rxn_411_p2_CCN=O"
        ],
        [
         "76",
         "rmg_rxn_351",
         "rmg_rxn_351_r1_sbr-CH-sbr=CC",
         "rmg_rxn_351_r2_C1COCOC1",
         "rmg_rxn_351_p1_C=CC",
         "rmg_rxn_351_p2_sbr-CH-sbr1CCOCO1"
        ],
        [
         "77",
         "rmg_rxn_1519",
         "rmg_rxn_1519_r1_NN=O",
         "rmg_rxn_1519_r2_CCCsbr-O-sbr",
         "rmg_rxn_1519_p1_sbr-NH-sbrN=O",
         "rmg_rxn_1519_p2_CCCO"
        ],
        [
         "78",
         "rmg_rxn_1339",
         "rmg_rxn_1339_r1_CCS",
         "rmg_rxn_1339_r2_sbr-CH2-sbrOCCC=O",
         "rmg_rxn_1339_p1_CCsbr-S-sbr",
         "rmg_rxn_1339_p2_COCCC=O"
        ]
       ],
       "shape": {
        "columns": 5,
        "rows": 2047
       }
      },
      "text/html": [
       "<div>\n",
       "<style scoped>\n",
       "    .dataframe tbody tr th:only-of-type {\n",
       "        vertical-align: middle;\n",
       "    }\n",
       "\n",
       "    .dataframe tbody tr th {\n",
       "        vertical-align: top;\n",
       "    }\n",
       "\n",
       "    .dataframe thead th {\n",
       "        text-align: right;\n",
       "    }\n",
       "</style>\n",
       "<table border=\"1\" class=\"dataframe\">\n",
       "  <thead>\n",
       "    <tr style=\"text-align: right;\">\n",
       "      <th></th>\n",
       "      <th>rxn</th>\n",
       "      <th>base_r0</th>\n",
       "      <th>base_r1</th>\n",
       "      <th>base_p0</th>\n",
       "      <th>base_p1</th>\n",
       "    </tr>\n",
       "  </thead>\n",
       "  <tbody>\n",
       "    <tr>\n",
       "      <th>0</th>\n",
       "      <td>rmg_rxn_96</td>\n",
       "      <td>rmg_rxn_96_r1_CCtN</td>\n",
       "      <td>rmg_rxn_96_r2_sbr-CH2-sbrCSCC</td>\n",
       "      <td>rmg_rxn_96_p1_C=C=sbr-N-sbr</td>\n",
       "      <td>rmg_rxn_96_p2_CCSCC</td>\n",
       "    </tr>\n",
       "    <tr>\n",
       "      <th>1</th>\n",
       "      <td>rmg_rxn_2</td>\n",
       "      <td>rmg_rxn_2_r1_sbr-N-sbrN</td>\n",
       "      <td>rmg_rxn_2_r2_CCsbr-NH-sbr</td>\n",
       "      <td>rmg_rxn_2_p1_sbr-NH-sbrN</td>\n",
       "      <td>rmg_rxn_2_p2_CCsbr-N-sbr</td>\n",
       "    </tr>\n",
       "    <tr>\n",
       "      <th>2</th>\n",
       "      <td>rmg_rxn_216</td>\n",
       "      <td>rmg_rxn_216_r1_sbr-CH2-sbrCCC</td>\n",
       "      <td>rmg_rxn_216_r2_CCCOCC</td>\n",
       "      <td>rmg_rxn_216_p1_CCCC</td>\n",
       "      <td>rmg_rxn_216_p2_Csbr-CH-sbrCOCC</td>\n",
       "    </tr>\n",
       "    <tr>\n",
       "      <th>4</th>\n",
       "      <td>rmg_rxn_633</td>\n",
       "      <td>rmg_rxn_633_r1_sbr-CH2-sbrCOCC</td>\n",
       "      <td>rmg_rxn_633_r2_CCSCC</td>\n",
       "      <td>rmg_rxn_633_p1_sbr-CH2-sbrCSCC</td>\n",
       "      <td>rmg_rxn_633_p2_CCOCC</td>\n",
       "    </tr>\n",
       "    <tr>\n",
       "      <th>5</th>\n",
       "      <td>rmg_rxn_1142</td>\n",
       "      <td>rmg_rxn_1142_r1_sbr-O-sbr</td>\n",
       "      <td>rmg_rxn_1142_r2_CCCC</td>\n",
       "      <td>rmg_rxn_1142_p1_sbr-OH-sbr</td>\n",
       "      <td>rmg_rxn_1142_p2_sbr-CH2-sbrCCC</td>\n",
       "    </tr>\n",
       "    <tr>\n",
       "      <th>...</th>\n",
       "      <td>...</td>\n",
       "      <td>...</td>\n",
       "      <td>...</td>\n",
       "      <td>...</td>\n",
       "      <td>...</td>\n",
       "    </tr>\n",
       "    <tr>\n",
       "      <th>2487</th>\n",
       "      <td>rmg_rxn_15423</td>\n",
       "      <td>rmg_rxn_15423_r1_ON=sbr-CH-sbr</td>\n",
       "      <td>rmg_rxn_15423_r2_C1COCOC1</td>\n",
       "      <td>rmg_rxn_15423_p1_ON=C</td>\n",
       "      <td>rmg_rxn_15423_p2_sbr-CH-sbr1CCOCO1</td>\n",
       "    </tr>\n",
       "    <tr>\n",
       "      <th>2488</th>\n",
       "      <td>rmg_rxn_15408</td>\n",
       "      <td>rmg_rxn_15408_r1_ON=sbr-CH-sbr</td>\n",
       "      <td>rmg_rxn_15408_r2_CCCC</td>\n",
       "      <td>rmg_rxn_15408_p1_ON=C</td>\n",
       "      <td>rmg_rxn_15408_p2_sbr-CH2-sbrCCC</td>\n",
       "    </tr>\n",
       "    <tr>\n",
       "      <th>2489</th>\n",
       "      <td>rmg_rxn_16534</td>\n",
       "      <td>rmg_rxn_16534_r1_CC=N</td>\n",
       "      <td>rmg_rxn_16534_r2_sbr-CH2-sbrOCCC</td>\n",
       "      <td>rmg_rxn_16534_p1_CC=sbr-N-sbr</td>\n",
       "      <td>rmg_rxn_16534_p2_CCCOC</td>\n",
       "    </tr>\n",
       "    <tr>\n",
       "      <th>2490</th>\n",
       "      <td>rmg_rxn_14100</td>\n",
       "      <td>rmg_rxn_14100_r1_N=O</td>\n",
       "      <td>rmg_rxn_14100_r2_CtCsbr-CH-sbrC</td>\n",
       "      <td>rmg_rxn_14100_p1_sbr-N-sbr=O</td>\n",
       "      <td>rmg_rxn_14100_p2_C=C=CC</td>\n",
       "    </tr>\n",
       "    <tr>\n",
       "      <th>2491</th>\n",
       "      <td>rmg_rxn_15585</td>\n",
       "      <td>rmg_rxn_15585_r1_sbr-CH2-sbrON=C</td>\n",
       "      <td>rmg_rxn_15585_r2_CCtCC</td>\n",
       "      <td>rmg_rxn_15585_p1_CON=C</td>\n",
       "      <td>rmg_rxn_15585_p2_sbr-CH2-sbrCtCC</td>\n",
       "    </tr>\n",
       "  </tbody>\n",
       "</table>\n",
       "<p>2047 rows × 5 columns</p>\n",
       "</div>"
      ],
      "text/plain": [
       "                rxn                           base_r0  \\\n",
       "0        rmg_rxn_96                rmg_rxn_96_r1_CCtN   \n",
       "1         rmg_rxn_2           rmg_rxn_2_r1_sbr-N-sbrN   \n",
       "2       rmg_rxn_216     rmg_rxn_216_r1_sbr-CH2-sbrCCC   \n",
       "4       rmg_rxn_633    rmg_rxn_633_r1_sbr-CH2-sbrCOCC   \n",
       "5      rmg_rxn_1142         rmg_rxn_1142_r1_sbr-O-sbr   \n",
       "...             ...                               ...   \n",
       "2487  rmg_rxn_15423    rmg_rxn_15423_r1_ON=sbr-CH-sbr   \n",
       "2488  rmg_rxn_15408    rmg_rxn_15408_r1_ON=sbr-CH-sbr   \n",
       "2489  rmg_rxn_16534             rmg_rxn_16534_r1_CC=N   \n",
       "2490  rmg_rxn_14100              rmg_rxn_14100_r1_N=O   \n",
       "2491  rmg_rxn_15585  rmg_rxn_15585_r1_sbr-CH2-sbrON=C   \n",
       "\n",
       "                               base_r1                         base_p0  \\\n",
       "0        rmg_rxn_96_r2_sbr-CH2-sbrCSCC     rmg_rxn_96_p1_C=C=sbr-N-sbr   \n",
       "1            rmg_rxn_2_r2_CCsbr-NH-sbr        rmg_rxn_2_p1_sbr-NH-sbrN   \n",
       "2                rmg_rxn_216_r2_CCCOCC             rmg_rxn_216_p1_CCCC   \n",
       "4                 rmg_rxn_633_r2_CCSCC  rmg_rxn_633_p1_sbr-CH2-sbrCSCC   \n",
       "5                 rmg_rxn_1142_r2_CCCC      rmg_rxn_1142_p1_sbr-OH-sbr   \n",
       "...                                ...                             ...   \n",
       "2487         rmg_rxn_15423_r2_C1COCOC1           rmg_rxn_15423_p1_ON=C   \n",
       "2488             rmg_rxn_15408_r2_CCCC           rmg_rxn_15408_p1_ON=C   \n",
       "2489  rmg_rxn_16534_r2_sbr-CH2-sbrOCCC   rmg_rxn_16534_p1_CC=sbr-N-sbr   \n",
       "2490   rmg_rxn_14100_r2_CtCsbr-CH-sbrC    rmg_rxn_14100_p1_sbr-N-sbr=O   \n",
       "2491            rmg_rxn_15585_r2_CCtCC          rmg_rxn_15585_p1_CON=C   \n",
       "\n",
       "                                 base_p1  \n",
       "0                    rmg_rxn_96_p2_CCSCC  \n",
       "1               rmg_rxn_2_p2_CCsbr-N-sbr  \n",
       "2         rmg_rxn_216_p2_Csbr-CH-sbrCOCC  \n",
       "4                   rmg_rxn_633_p2_CCOCC  \n",
       "5         rmg_rxn_1142_p2_sbr-CH2-sbrCCC  \n",
       "...                                  ...  \n",
       "2487  rmg_rxn_15423_p2_sbr-CH-sbr1CCOCO1  \n",
       "2488     rmg_rxn_15408_p2_sbr-CH2-sbrCCC  \n",
       "2489              rmg_rxn_16534_p2_CCCOC  \n",
       "2490             rmg_rxn_14100_p2_C=C=CC  \n",
       "2491    rmg_rxn_15585_p2_sbr-CH2-sbrCtCC  \n",
       "\n",
       "[2047 rows x 5 columns]"
      ]
     },
     "execution_count": 102,
     "metadata": {},
     "output_type": "execute_result"
    }
   ],
   "source": [
    "df_base.dropna()"
   ]
  },
  {
   "cell_type": "code",
   "execution_count": 126,
   "id": "197c7678",
   "metadata": {},
   "outputs": [
    {
     "data": {
      "application/vnd.microsoft.datawrangler.viewer.v0+json": {
       "columns": [
        {
         "name": "index",
         "rawType": "int64",
         "type": "integer"
        },
        {
         "name": "rxn",
         "rawType": "object",
         "type": "string"
        },
        {
         "name": "base_r0",
         "rawType": "object",
         "type": "string"
        },
        {
         "name": "base_r1",
         "rawType": "object",
         "type": "string"
        },
        {
         "name": "base_p0",
         "rawType": "object",
         "type": "string"
        },
        {
         "name": "base_p1",
         "rawType": "object",
         "type": "string"
        }
       ],
       "ref": "897bfc03-4924-4626-b9b2-293123791b7c",
       "rows": [
        [
         "346",
         "rmg_rxn_20",
         "rmg_rxn_20_r1_CCN=O",
         "rmg_rxn_20_r2_sbr-CH2-sbrCSCC",
         "rmg_rxn_20_p1_CC=Nsbr-O-sbr",
         "rmg_rxn_20_p2_CCSCC"
        ]
       ],
       "shape": {
        "columns": 5,
        "rows": 1
       }
      },
      "text/html": [
       "<div>\n",
       "<style scoped>\n",
       "    .dataframe tbody tr th:only-of-type {\n",
       "        vertical-align: middle;\n",
       "    }\n",
       "\n",
       "    .dataframe tbody tr th {\n",
       "        vertical-align: top;\n",
       "    }\n",
       "\n",
       "    .dataframe thead th {\n",
       "        text-align: right;\n",
       "    }\n",
       "</style>\n",
       "<table border=\"1\" class=\"dataframe\">\n",
       "  <thead>\n",
       "    <tr style=\"text-align: right;\">\n",
       "      <th></th>\n",
       "      <th>rxn</th>\n",
       "      <th>base_r0</th>\n",
       "      <th>base_r1</th>\n",
       "      <th>base_p0</th>\n",
       "      <th>base_p1</th>\n",
       "    </tr>\n",
       "  </thead>\n",
       "  <tbody>\n",
       "    <tr>\n",
       "      <th>346</th>\n",
       "      <td>rmg_rxn_20</td>\n",
       "      <td>rmg_rxn_20_r1_CCN=O</td>\n",
       "      <td>rmg_rxn_20_r2_sbr-CH2-sbrCSCC</td>\n",
       "      <td>rmg_rxn_20_p1_CC=Nsbr-O-sbr</td>\n",
       "      <td>rmg_rxn_20_p2_CCSCC</td>\n",
       "    </tr>\n",
       "  </tbody>\n",
       "</table>\n",
       "</div>"
      ],
      "text/plain": [
       "            rxn              base_r0                        base_r1  \\\n",
       "346  rmg_rxn_20  rmg_rxn_20_r1_CCN=O  rmg_rxn_20_r2_sbr-CH2-sbrCSCC   \n",
       "\n",
       "                         base_p0              base_p1  \n",
       "346  rmg_rxn_20_p1_CC=Nsbr-O-sbr  rmg_rxn_20_p2_CCSCC  "
      ]
     },
     "execution_count": 126,
     "metadata": {},
     "output_type": "execute_result"
    }
   ],
   "source": [
    "df_base[df_base['rxn']== 'rmg_rxn_20']"
   ]
  },
  {
   "cell_type": "code",
   "execution_count": 145,
   "id": "a8ad4fca",
   "metadata": {},
   "outputs": [
    {
     "name": "stdout",
     "output_type": "stream",
     "text": [
      "Found 4 Converged directories.\n",
      "Found 1 NonRMG directories inside Converged directories.\n",
      "Total directories to process: 5\n"
     ]
    }
   ],
   "source": [
    "from pathlib import Path\n",
    "\n",
    "root = Path('/home/calvin/Dropbox/PersonalFolders/Calvin/')\n",
    "\n",
    "# Find all top-level *Converged* directories\n",
    "converged_dirs = [d for d in root.glob('*Converged*') if d.is_dir()]\n",
    "print(f\"Found {len(converged_dirs)} Converged directories.\")\n",
    "\n",
    "# Find all NonRMG directories inside any Converged directory\n",
    "nonrmg_dirs = []\n",
    "for cdir in converged_dirs:\n",
    "    nonrmg_dirs.extend([d for d in cdir.glob('*NonRMG*') if d.is_dir()])\n",
    "print(f\"Found {len(nonrmg_dirs)} NonRMG directories inside Converged directories.\")\n",
    "\n",
    "# Comine into a single list of paths\n",
    "all_dirs = converged_dirs + nonrmg_dirs\n",
    "print(f\"Total directories to process: {len(all_dirs)}\")\n"
   ]
  },
  {
   "cell_type": "code",
   "execution_count": 146,
   "id": "4a4d01da",
   "metadata": {},
   "outputs": [],
   "source": [
    "def find_rxn_dir(rxn):\n",
    "    # Finds the correct folder for a given rxn\n",
    "    for parent in all_dirs:\n",
    "        for d in parent.iterdir():\n",
    "            if d.is_dir() and d.name == rxn:\n",
    "                return d\n",
    "    return None\n"
   ]
  },
  {
   "cell_type": "code",
   "execution_count": 147,
   "id": "9e36f4bf",
   "metadata": {},
   "outputs": [],
   "source": [
    "import re\n",
    "\n",
    "def extract_conformer_blocks(text):\n",
    "    \"\"\"\n",
    "    Extracts all conformer(...) blocks, robust to nested parentheses, commas, and whitespace.\n",
    "    Returns a list of strings (each starting with 'conformer(' ... ')').\n",
    "    \"\"\"\n",
    "    blocks = []\n",
    "    idx = 0\n",
    "    while True:\n",
    "        start = text.find('conformer(', idx)\n",
    "        if start == -1:\n",
    "            break\n",
    "        depth = 1\n",
    "        i = start + len('conformer(')\n",
    "        while i < len(text) and depth > 0:\n",
    "            if text[i] == '(':\n",
    "                depth += 1\n",
    "            elif text[i] == ')':\n",
    "                depth -= 1\n",
    "            i += 1\n",
    "        # Include possible trailing commas and whitespace\n",
    "        end = i\n",
    "        while end < len(text) and text[end] in \" ,\\n\":\n",
    "            end += 1\n",
    "        block = text[start:end]\n",
    "        blocks.append(block)\n",
    "        idx = end\n",
    "    return blocks\n",
    "\n",
    "def extract_first_conformer_block(text):\n",
    "    blocks = extract_conformer_blocks(text)\n",
    "    return blocks[0] if blocks else None\n",
    "\n",
    "def extract_second_conformer_block(text):\n",
    "    blocks = extract_conformer_blocks(text)\n",
    "    return blocks[1] if len(blocks) > 1 else None\n",
    "\n",
    "def extract_ts0_conformer(text):\n",
    "    blocks = extract_conformer_blocks(text)\n",
    "    for block in blocks:\n",
    "        if re.search(r\"label\\s*=\\s*['\\\"]TS0['\\\"]\", block):\n",
    "            return block\n",
    "    if len(blocks) == 1:\n",
    "        return blocks[0]\n",
    "    return None\n",
    "\n",
    "import pandas as pd\n",
    "\n",
    "results = []\n",
    "\n",
    "for idx, row in df_base.iterrows():\n",
    "    rxn_dir = find_rxn_dir(row['rxn'])\n",
    "    if not rxn_dir:\n",
    "        continue\n",
    "\n",
    "    # Handle all base species\n",
    "    for col in ['base_r0', 'base_r1', 'base_p0', 'base_p1']:\n",
    "        base = row[col]\n",
    "        if not base or not isinstance(base, str):\n",
    "            continue\n",
    "        direction = 'forward' if col in ['base_r0', 'base_r1'] else 'reverse'\n",
    "        arkane_dir = rxn_dir / 'output' / 'Species' / base / 'arkane'\n",
    "        output_py = arkane_dir / 'output.py'\n",
    "        if output_py.exists():\n",
    "            text = output_py.read_text()\n",
    "            conformer = extract_first_conformer_block(text)\n",
    "            if conformer:\n",
    "                results.append({\n",
    "                    'rxn': row['rxn'],\n",
    "                    'species': base,\n",
    "                    'direction': direction,\n",
    "                    'conformer': conformer\n",
    "                })\n",
    "            else:\n",
    "                print(f\"Warning: No conformer block found in {output_py}\")\n",
    "\n",
    "    # Handle TS0 (Transition State), which has no direction\n",
    "    ts_output_py = rxn_dir / 'output' / 'rxns' / 'TS0' / 'arkane' / 'output.py'\n",
    "    if ts_output_py.exists():\n",
    "        text = ts_output_py.read_text()\n",
    "        conformer = extract_ts0_conformer(text)\n",
    "        if conformer:\n",
    "            results.append({\n",
    "                'rxn': row['rxn'],\n",
    "                'species': 'TS0',\n",
    "                'direction': '',\n",
    "                'conformer': conformer\n",
    "            })\n",
    "        else:\n",
    "            print(f\"Warning: No TS0 conformer block found in {ts_output_py}\")\n",
    "\n",
    "df_conformers = pd.DataFrame(results)\n"
   ]
  },
  {
   "cell_type": "code",
   "execution_count": 148,
   "id": "c52d0ef2",
   "metadata": {},
   "outputs": [
    {
     "data": {
      "application/vnd.microsoft.datawrangler.viewer.v0+json": {
       "columns": [
        {
         "name": "index",
         "rawType": "int64",
         "type": "integer"
        },
        {
         "name": "rxn",
         "rawType": "object",
         "type": "string"
        },
        {
         "name": "species",
         "rawType": "object",
         "type": "string"
        },
        {
         "name": "direction",
         "rawType": "object",
         "type": "string"
        },
        {
         "name": "conformer",
         "rawType": "object",
         "type": "string"
        }
       ],
       "ref": "94f61f33-de4e-464b-8793-bbf943830d9a",
       "rows": [
        [
         "1282",
         "rmg_rxn_20",
         "rmg_rxn_20_r1_CCN=O",
         "forward",
         "conformer(\n    label = 'rmg_rxn_20_r1_CCN=O',\n    E0 = (\n        -548875,\n        'kJ/mol',\n    ),\n    modes = [\n        IdealGasTranslation(mass=(59.0371, 'amu')),\n        NonlinearRotor(\n            inertia = ([29.0143, 77.6306, 100.462], 'amu*angstrom^2'),\n            symmetry = 1,\n        ),\n        HarmonicOscillator(\n            frequencies = ([160.13, 234.736, 308.333, 696.888, 734.642, 827.729, 1004.89, 1049.02, 1132.1, 1269.08, 1353.08, 1416.86, 1453.01, 1491.89, 1499.48, 1720.41, 3055.78, 3069.67, 3089.94, 3147.46, 3150.11], 'cm^-1'),\n        ),\n    ],\n    spin_multiplicity = 1,\n    optical_isomers = 1,\n)\n\n"
        ],
        [
         "1283",
         "rmg_rxn_20",
         "rmg_rxn_20_r2_sbr-CH2-sbrCSCC",
         "forward",
         "conformer(\n    label = 'rmg_rxn_20_r2_sbr-CH2-sbrCSCC',\n    E0 = (\n        -1.45945e+06,\n        'kJ/mol',\n    ),\n    modes = [\n        IdealGasTranslation(mass=(89.0425, 'amu')),\n        NonlinearRotor(\n            inertia = ([94.593, 177.437, 223.626], 'amu*angstrom^2'),\n            symmetry = 1,\n        ),\n        HarmonicOscillator(\n            frequencies = ([55.6865, 116.899, 195.084, 236.543, 263.051, 327.475, 368.656, 570.259, 646.226, 695.47, 749.009, 790.238, 997.742, 1021.94, 1068.52, 1082.5, 1090.58, 1229.47, 1270.25, 1287.34, 1313.31, 1418, 1459.76, 1475.57, 1485.56, 1498.69, 1509.49, 3052.53, 3071.31, 3072.59, 3112.76, 3123.94, 3130.16, 3140.58, 3165.85, 3272.45], 'cm^-1'),\n        ),\n    ],\n    spin_multiplicity = 2,\n    optical_isomers = 2,\n)\n\n"
        ],
        [
         "1284",
         "rmg_rxn_20",
         "rmg_rxn_20_p1_CC=Nsbr-O-sbr",
         "reverse",
         "conformer(\n    label = 'rmg_rxn_20_p1_CC=Nsbr-O-sbr',\n    E0 = (\n        -547290,\n        'kJ/mol',\n    ),\n    modes = [\n        IdealGasTranslation(mass=(58.0293, 'amu')),\n        NonlinearRotor(\n            inertia = ([9.31113, 114.15, 120.338], 'amu*angstrom^2'),\n            symmetry = 1,\n        ),\n        HarmonicOscillator(\n            frequencies = ([169.325, 309.126, 340.569, 542.964, 799.594, 931.241, 1067.9, 1144.79, 1272.21, 1406.58, 1450.44, 1481.57, 1506.35, 1775.5, 3053.88, 3113.43, 3137.36, 3157.6], 'cm^-1'),\n        ),\n    ],\n    spin_multiplicity = 2,\n    optical_isomers = 1,\n)\n\n"
        ],
        [
         "1285",
         "rmg_rxn_20",
         "rmg_rxn_20_p2_CCSCC",
         "reverse",
         "conformer(\n    label = 'rmg_rxn_20_p2_CCSCC',\n    E0 = (\n        -1.46117e+06,\n        'kJ/mol',\n    ),\n    modes = [\n        IdealGasTranslation(mass=(90.0503, 'amu')),\n        NonlinearRotor(\n            inertia = ([97.9259, 182.785, 231.685], 'amu*angstrom^2'),\n            symmetry = 2,\n        ),\n        HarmonicOscillator(\n            frequencies = ([67.2937, 123.112, 227.368, 258.096, 276.952, 345.601, 385.677, 655.526, 710.358, 751.129, 796.39, 997.145, 1000.9, 1035.43, 1068, 1073.06, 1106.43, 1279.07, 1289.37, 1304.91, 1324.25, 1416.54, 1416.9, 1478.51, 1480.16, 1496.5, 1499.23, 1507.24, 1511.81, 3052.24, 3052.74, 3072.19, 3073.06, 3111.02, 3114.61, 3123.84, 3124.39, 3139.07, 3141.85], 'cm^-1'),\n        ),\n    ],\n    spin_multiplicity = 1,\n    optical_isomers = 2,\n)\n\n"
        ],
        [
         "1286",
         "rmg_rxn_20",
         "TS0",
         "",
         "conformer(\n    label = 'TS0',\n    E0 = (\n        -2.0083e+06,\n        'kJ/mol',\n    ),\n    modes = [\n        IdealGasTranslation(mass=(148.08, 'amu')),\n        NonlinearRotor(\n            inertia = ([213.409, 907.78, 957.647], 'amu*angstrom^2'),\n            symmetry = 1,\n        ),\n        HarmonicOscillator(\n            frequencies = ([15.3951, 38.394, 47.4364, 72.4092, 78.8383, 126.706, 156.203, 187.716, 229.001, 248.525, 271.461, 313.803, 348.972, 397.097, 534.464, 593.306, 648.624, 700.676, 707.042, 759.636, 801.463, 874.415, 899.874, 998.243, 1003.26, 1036.81, 1055.87, 1070.83, 1075.31, 1096, 1121.01, 1141.94, 1225.99, 1282.62, 1299.74, 1313.45, 1325.27, 1383.66, 1396.67, 1412.56, 1418.88, 1453.09, 1464.73, 1486.34, 1490.35, 1497.54, 1498.11, 1507.59, 1630.58, 3031.53, 3054.47, 3063.52, 3071.75, 3109.42, 3113.3, 3124.35, 3127.06, 3135.23, 3141.42, 3143.29, 3158.33, 3212.94], 'cm^-1'),\n        ),\n    ],\n    spin_multiplicity = 2,\n    optical_isomers = 2,\n)\n\n"
        ]
       ],
       "shape": {
        "columns": 4,
        "rows": 5
       }
      },
      "text/html": [
       "<div>\n",
       "<style scoped>\n",
       "    .dataframe tbody tr th:only-of-type {\n",
       "        vertical-align: middle;\n",
       "    }\n",
       "\n",
       "    .dataframe tbody tr th {\n",
       "        vertical-align: top;\n",
       "    }\n",
       "\n",
       "    .dataframe thead th {\n",
       "        text-align: right;\n",
       "    }\n",
       "</style>\n",
       "<table border=\"1\" class=\"dataframe\">\n",
       "  <thead>\n",
       "    <tr style=\"text-align: right;\">\n",
       "      <th></th>\n",
       "      <th>rxn</th>\n",
       "      <th>species</th>\n",
       "      <th>direction</th>\n",
       "      <th>conformer</th>\n",
       "    </tr>\n",
       "  </thead>\n",
       "  <tbody>\n",
       "    <tr>\n",
       "      <th>1282</th>\n",
       "      <td>rmg_rxn_20</td>\n",
       "      <td>rmg_rxn_20_r1_CCN=O</td>\n",
       "      <td>forward</td>\n",
       "      <td>conformer(\\n    label = 'rmg_rxn_20_r1_CCN=O',...</td>\n",
       "    </tr>\n",
       "    <tr>\n",
       "      <th>1283</th>\n",
       "      <td>rmg_rxn_20</td>\n",
       "      <td>rmg_rxn_20_r2_sbr-CH2-sbrCSCC</td>\n",
       "      <td>forward</td>\n",
       "      <td>conformer(\\n    label = 'rmg_rxn_20_r2_sbr-CH2...</td>\n",
       "    </tr>\n",
       "    <tr>\n",
       "      <th>1284</th>\n",
       "      <td>rmg_rxn_20</td>\n",
       "      <td>rmg_rxn_20_p1_CC=Nsbr-O-sbr</td>\n",
       "      <td>reverse</td>\n",
       "      <td>conformer(\\n    label = 'rmg_rxn_20_p1_CC=Nsbr...</td>\n",
       "    </tr>\n",
       "    <tr>\n",
       "      <th>1285</th>\n",
       "      <td>rmg_rxn_20</td>\n",
       "      <td>rmg_rxn_20_p2_CCSCC</td>\n",
       "      <td>reverse</td>\n",
       "      <td>conformer(\\n    label = 'rmg_rxn_20_p2_CCSCC',...</td>\n",
       "    </tr>\n",
       "    <tr>\n",
       "      <th>1286</th>\n",
       "      <td>rmg_rxn_20</td>\n",
       "      <td>TS0</td>\n",
       "      <td></td>\n",
       "      <td>conformer(\\n    label = 'TS0',\\n    E0 = (\\n  ...</td>\n",
       "    </tr>\n",
       "  </tbody>\n",
       "</table>\n",
       "</div>"
      ],
      "text/plain": [
       "             rxn                        species direction  \\\n",
       "1282  rmg_rxn_20            rmg_rxn_20_r1_CCN=O   forward   \n",
       "1283  rmg_rxn_20  rmg_rxn_20_r2_sbr-CH2-sbrCSCC   forward   \n",
       "1284  rmg_rxn_20    rmg_rxn_20_p1_CC=Nsbr-O-sbr   reverse   \n",
       "1285  rmg_rxn_20            rmg_rxn_20_p2_CCSCC   reverse   \n",
       "1286  rmg_rxn_20                            TS0             \n",
       "\n",
       "                                              conformer  \n",
       "1282  conformer(\\n    label = 'rmg_rxn_20_r1_CCN=O',...  \n",
       "1283  conformer(\\n    label = 'rmg_rxn_20_r2_sbr-CH2...  \n",
       "1284  conformer(\\n    label = 'rmg_rxn_20_p1_CC=Nsbr...  \n",
       "1285  conformer(\\n    label = 'rmg_rxn_20_p2_CCSCC',...  \n",
       "1286  conformer(\\n    label = 'TS0',\\n    E0 = (\\n  ...  "
      ]
     },
     "execution_count": 148,
     "metadata": {},
     "output_type": "execute_result"
    }
   ],
   "source": [
    "df_conformers[df_conformers['rxn'] == 'rmg_rxn_20']"
   ]
  },
  {
   "cell_type": "code",
   "execution_count": 149,
   "id": "53047e1e",
   "metadata": {},
   "outputs": [],
   "source": [
    "import re\n",
    "\n",
    "def parse_conformer_block(block):\n",
    "    result = {}\n",
    "    if not isinstance(block, str):\n",
    "        return result\n",
    "    # label\n",
    "    label_match = re.search(r\"label\\s*=\\s*[\\'\\\"](.+?)[\\'\\\"]\", block)\n",
    "    if label_match:\n",
    "        result['label'] = label_match.group(1)\n",
    "    # E0 (fix: allow for scientific notation)\n",
    "    e0_match = re.search(r\"E0\\s*=\\s*\\(\\s*([-\\d\\.eE\\+]+)\", block)\n",
    "    if e0_match:\n",
    "        result['E0'] = float(e0_match.group(1))\n",
    "    # spin_multiplicity\n",
    "    spin_match = re.search(r\"spin_multiplicity\\s*=\\s*(\\d+)\", block)\n",
    "    if spin_match:\n",
    "        result['spin_multiplicity'] = int(spin_match.group(1))\n",
    "    # optical_isomers\n",
    "    iso_match = re.search(r\"optical_isomers\\s*=\\s*(\\d+)\", block)\n",
    "    if iso_match:\n",
    "        result['optical_isomers'] = int(iso_match.group(1))\n",
    "    # frequency (may be missing)\n",
    "    freq_match = re.search(r\"frequency\\s*=\\s*\\(\\s*([-\\d\\.]+)\", block)\n",
    "    if freq_match:\n",
    "        result['frequency'] = float(freq_match.group(1))\n",
    "    # Mass (from IdealGasTranslation)\n",
    "    mass_match = re.search(r'IdealGasTranslation\\(mass=\\(([\\d\\.]+)', block)\n",
    "    if mass_match:\n",
    "        result['mass'] = float(mass_match.group(1))\n",
    "    # Inertia (from NonlinearRotor)\n",
    "    inertia_match = re.search(r'NonlinearRotor\\(\\s*inertia\\s*=\\s*\\(\\[([\\d\\.\\,\\s]+)\\]', block)\n",
    "    if inertia_match:\n",
    "        inertia = [float(x.strip()) for x in inertia_match.group(1).split(',')]\n",
    "        result['inertia'] = inertia\n",
    "    # Symmetry (from NonlinearRotor)\n",
    "    symmetry_match = re.search(r'symmetry\\s*=\\s*(\\d+)', block)\n",
    "    if symmetry_match:\n",
    "        result['symmetry'] = int(symmetry_match.group(1))\n",
    "    # Harmonic Oscillator frequencies (list)\n",
    "    ho_match = re.search(r'HarmonicOscillator\\(\\s*frequencies\\s*=\\s*\\(\\[([-\\d\\.,\\s]+)\\]', block)\n",
    "    if ho_match:\n",
    "        frequencies = [float(x.strip()) for x in ho_match.group(1).split(',')]\n",
    "        result['harmonic_frequencies'] = frequencies\n",
    "    return result\n",
    "\n"
   ]
  },
  {
   "cell_type": "code",
   "execution_count": 150,
   "id": "3f2c03c1",
   "metadata": {},
   "outputs": [],
   "source": [
    "# If your DataFrame is called df_conformers\n",
    "parsed = df_conformers['conformer'].apply(parse_conformer_block)\n",
    "parsed_df = pd.DataFrame(parsed.tolist())\n",
    "\n",
    "# Concatenate with the original rxn/species columns\n",
    "df_expanded = pd.concat([df_conformers[['rxn', 'species', 'direction']], parsed_df], axis=1)\n"
   ]
  },
  {
   "cell_type": "code",
   "execution_count": 151,
   "id": "d2fdf8c7",
   "metadata": {},
   "outputs": [
    {
     "data": {
      "application/vnd.microsoft.datawrangler.viewer.v0+json": {
       "columns": [
        {
         "name": "index",
         "rawType": "int64",
         "type": "integer"
        },
        {
         "name": "rxn",
         "rawType": "object",
         "type": "string"
        },
        {
         "name": "species",
         "rawType": "object",
         "type": "string"
        },
        {
         "name": "direction",
         "rawType": "object",
         "type": "string"
        },
        {
         "name": "label",
         "rawType": "object",
         "type": "string"
        },
        {
         "name": "E0",
         "rawType": "float64",
         "type": "float"
        },
        {
         "name": "spin_multiplicity",
         "rawType": "int64",
         "type": "integer"
        },
        {
         "name": "optical_isomers",
         "rawType": "int64",
         "type": "integer"
        },
        {
         "name": "mass",
         "rawType": "float64",
         "type": "float"
        },
        {
         "name": "inertia",
         "rawType": "object",
         "type": "string"
        },
        {
         "name": "symmetry",
         "rawType": "float64",
         "type": "float"
        },
        {
         "name": "harmonic_frequencies",
         "rawType": "object",
         "type": "string"
        },
        {
         "name": "frequency",
         "rawType": "float64",
         "type": "float"
        }
       ],
       "ref": "4291c821-b04c-4ecb-a22f-74fb33400157",
       "rows": [],
       "shape": {
        "columns": 12,
        "rows": 0
       }
      },
      "text/html": [
       "<div>\n",
       "<style scoped>\n",
       "    .dataframe tbody tr th:only-of-type {\n",
       "        vertical-align: middle;\n",
       "    }\n",
       "\n",
       "    .dataframe tbody tr th {\n",
       "        vertical-align: top;\n",
       "    }\n",
       "\n",
       "    .dataframe thead th {\n",
       "        text-align: right;\n",
       "    }\n",
       "</style>\n",
       "<table border=\"1\" class=\"dataframe\">\n",
       "  <thead>\n",
       "    <tr style=\"text-align: right;\">\n",
       "      <th></th>\n",
       "      <th>rxn</th>\n",
       "      <th>species</th>\n",
       "      <th>direction</th>\n",
       "      <th>label</th>\n",
       "      <th>E0</th>\n",
       "      <th>spin_multiplicity</th>\n",
       "      <th>optical_isomers</th>\n",
       "      <th>mass</th>\n",
       "      <th>inertia</th>\n",
       "      <th>symmetry</th>\n",
       "      <th>harmonic_frequencies</th>\n",
       "      <th>frequency</th>\n",
       "    </tr>\n",
       "  </thead>\n",
       "  <tbody>\n",
       "  </tbody>\n",
       "</table>\n",
       "</div>"
      ],
      "text/plain": [
       "Empty DataFrame\n",
       "Columns: [rxn, species, direction, label, E0, spin_multiplicity, optical_isomers, mass, inertia, symmetry, harmonic_frequencies, frequency]\n",
       "Index: []"
      ]
     },
     "execution_count": 151,
     "metadata": {},
     "output_type": "execute_result"
    }
   ],
   "source": [
    "# find na for column E0\n",
    "na_e0 = df_expanded[df_expanded['E0'].isna()]\n",
    "na_e0"
   ]
  },
  {
   "cell_type": "code",
   "execution_count": 152,
   "id": "a143a663",
   "metadata": {},
   "outputs": [
    {
     "data": {
      "application/vnd.microsoft.datawrangler.viewer.v0+json": {
       "columns": [
        {
         "name": "index",
         "rawType": "int64",
         "type": "integer"
        },
        {
         "name": "rxn",
         "rawType": "object",
         "type": "string"
        },
        {
         "name": "species",
         "rawType": "object",
         "type": "string"
        },
        {
         "name": "direction",
         "rawType": "object",
         "type": "string"
        },
        {
         "name": "label",
         "rawType": "object",
         "type": "string"
        },
        {
         "name": "E0",
         "rawType": "float64",
         "type": "float"
        },
        {
         "name": "spin_multiplicity",
         "rawType": "int64",
         "type": "integer"
        },
        {
         "name": "optical_isomers",
         "rawType": "int64",
         "type": "integer"
        },
        {
         "name": "mass",
         "rawType": "float64",
         "type": "float"
        },
        {
         "name": "inertia",
         "rawType": "object",
         "type": "unknown"
        },
        {
         "name": "symmetry",
         "rawType": "float64",
         "type": "float"
        },
        {
         "name": "harmonic_frequencies",
         "rawType": "object",
         "type": "unknown"
        },
        {
         "name": "frequency",
         "rawType": "float64",
         "type": "float"
        }
       ],
       "ref": "d059c3a6-b664-448e-a9f8-2ec2075d661b",
       "rows": [
        [
         "0",
         "rmg_rxn_96",
         "rmg_rxn_96_r1_CCtN",
         "forward",
         "rmg_rxn_96_r1_CCtN",
         "-348434.0",
         "1",
         "1",
         "41.0266",
         "[3.17088, 54.2986, 54.2986]",
         "3.0",
         "[388.353, 388.534, 938.789, 1066.12, 1066.39, 1416.28, 1478.63, 1478.89, 2402.83, 3076.2, 3158.87, 3159.52]",
         null
        ],
        [
         "1",
         "rmg_rxn_96",
         "rmg_rxn_96_r2_sbr-CH2-sbrCSCC",
         "forward",
         "rmg_rxn_96_r2_sbr-CH2-sbrCSCC",
         "-1459450.0",
         "2",
         "2",
         "89.0425",
         "[94.593, 177.437, 223.626]",
         "1.0",
         "[55.6865, 116.899, 195.084, 236.543, 263.051, 327.475, 368.656, 570.259, 646.226, 695.47, 749.009, 790.238, 997.742, 1021.94, 1068.52, 1082.5, 1090.58, 1229.47, 1270.25, 1287.34, 1313.31, 1418.0, 1459.76, 1475.57, 1485.56, 1498.69, 1509.49, 3052.53, 3071.31, 3072.59, 3112.76, 3123.94, 3130.16, 3140.58, 3165.85, 3272.45]",
         null
        ],
        [
         "2",
         "rmg_rxn_96",
         "rmg_rxn_96_p1_C=C=sbr-N-sbr",
         "reverse",
         "rmg_rxn_96_p1_C=C=sbr-N-sbr",
         "-346727.0",
         "2",
         "1",
         "40.0187",
         "[1.76513, 48.7017, 50.4668]",
         "2.0",
         "[389.646, 442.1, 672.548, 1039.05, 1059.12, 1450.78, 2167.74, 3187.87, 3298.09]",
         null
        ],
        [
         "3",
         "rmg_rxn_96",
         "rmg_rxn_96_p2_CCSCC",
         "reverse",
         "rmg_rxn_96_p2_CCSCC",
         "-1461170.0",
         "1",
         "2",
         "90.0503",
         "[97.9259, 182.785, 231.685]",
         "2.0",
         "[67.2937, 123.112, 227.368, 258.096, 276.952, 345.601, 385.677, 655.526, 710.358, 751.129, 796.39, 997.145, 1000.9, 1035.43, 1068.0, 1073.06, 1106.43, 1279.07, 1289.37, 1304.91, 1324.25, 1416.54, 1416.9, 1478.51, 1480.16, 1496.5, 1499.23, 1507.24, 1511.81, 3052.24, 3052.74, 3072.19, 3073.06, 3111.02, 3114.61, 3123.84, 3124.39, 3139.07, 3141.85]",
         null
        ],
        [
         "4",
         "rmg_rxn_96",
         "TS0",
         "",
         "TS0",
         "-1807840.0",
         "2",
         "2",
         "130.069",
         "[257.648, 489.443, 589.921]",
         "1.0",
         "[35.7528, 65.8202, 71.2554, 94.6157, 117.191, 176.512, 235.688, 268.924, 337.365, 376.093, 389.152, 417.586, 472.905, 576.396, 623.624, 653.573, 708.676, 765.148, 819.069, 986.017, 998.778, 1003.57, 1035.84, 1064.87, 1071.59, 1081.27, 1102.1, 1123.18, 1238.14, 1284.09, 1305.25, 1329.46, 1380.38, 1396.48, 1418.01, 1440.84, 1455.97, 1467.36, 1491.37, 1498.18, 1507.78, 2345.86, 3039.92, 3052.69, 3083.51, 3103.26, 3109.89, 3117.32, 3127.13, 3128.63, 3142.6, 3185.49, 3213.44]",
         null
        ],
        [
         "5",
         "rmg_rxn_2",
         "rmg_rxn_2_r1_sbr-N-sbrN",
         "forward",
         "rmg_rxn_2_r1_sbr-N-sbrN",
         "-290291.0",
         "3",
         "1",
         "30.0218",
         "[1.67933, 14.8983, 16.0702]",
         "1.0",
         "[732.244, 1098.77, 1253.0, 1592.15, 3443.52, 3552.32]",
         null
        ],
        [
         "6",
         "rmg_rxn_2",
         "rmg_rxn_2_r2_CCsbr-NH-sbr",
         "forward",
         "rmg_rxn_2_r2_CCsbr-NH-sbr",
         "-352968.0",
         "2",
         "1",
         "44.05",
         "[13.5046, 54.0855, 61.3855]",
         "1.0",
         "[218.166, 316.868, 426.448, 735.421, 913.288, 1030.78, 1041.62, 1101.2, 1257.8, 1273.98, 1398.7, 1425.43, 1446.49, 1493.08, 1503.86, 2958.77, 2981.06, 3058.49, 3135.3, 3140.35, 3442.16]",
         null
        ],
        [
         "7",
         "rmg_rxn_2",
         "rmg_rxn_2_p1_sbr-NH-sbrN",
         "reverse",
         "rmg_rxn_2_p1_sbr-NH-sbrN",
         "-291955.0",
         "2",
         "2",
         "31.0296",
         "[2.44556, 16.2707, 18.4662]",
         "1.0",
         "[546.919, 704.394, 1151.46, 1279.23, 1488.93, 1673.95, 3466.38, 3534.82, 3676.35]",
         null
        ],
        [
         "8",
         "rmg_rxn_2",
         "rmg_rxn_2_p2_CCsbr-N-sbr",
         "reverse",
         "rmg_rxn_2_p2_CCsbr-N-sbr",
         "-351301.0",
         "3",
         "1",
         "43.0422",
         "[13.2978, 49.7979, 56.7993]",
         "1.0",
         "[222.524, 390.751, 769.79, 916.256, 1033.84, 1039.47, 1096.7, 1247.39, 1319.93, 1407.77, 1439.26, 1494.26, 1504.38, 2966.04, 3000.98, 3065.47, 3146.39, 3150.92]",
         null
        ],
        [
         "9",
         "rmg_rxn_2",
         "TS0",
         "",
         "TS0",
         "-643234.0",
         "2",
         "2",
         "74.0718",
         "[62.0993, 191.002, 209.783]",
         "1.0",
         "[70.8662, 97.7711, 175.261, 230.614, 304.337, 384.259, 429.089, 555.732, 637.17, 813.87, 919.55, 1026.2, 1101.66, 1122.56, 1192.99, 1264.01, 1308.72, 1370.38, 1400.34, 1403.55, 1475.14, 1489.7, 1508.3, 1689.58, 1740.08, 2882.06, 3013.27, 3059.18, 3140.8, 3146.66, 3437.27, 3562.45]",
         null
        ],
        [
         "10",
         "rmg_rxn_216",
         "rmg_rxn_216_r1_sbr-CH2-sbrCCC",
         "forward",
         "rmg_rxn_216_r1_sbr-CH2-sbrCCC",
         "-413977.0",
         "2",
         "2",
         "57.0704",
         "[19.9061, 131.501, 141.822]",
         "1.0",
         "[74.2441, 133.774, 241.54, 268.216, 436.637, 473.474, 737.353, 837.376, 870.828, 975.084, 1052.96, 1080.43, 1108.26, 1174.66, 1254.48, 1321.97, 1330.68, 1405.28, 1421.12, 1468.9, 1470.74, 1498.38, 1503.2, 1511.15, 2956.93, 3025.49, 3044.95, 3045.77, 3081.32, 3116.44, 3125.62, 3159.12, 3263.12]",
         null
        ],
        [
         "11",
         "rmg_rxn_216",
         "rmg_rxn_216_r2_CCCOCC",
         "forward",
         "rmg_rxn_216_r2_CCCOCC",
         "-716322.0",
         "1",
         "2",
         "88.0888",
         "[59.5652, 317.445, 349.634]",
         "1.0",
         "[77.5386, 86.9285, 154.243, 173.523, 253.092, 259.166, 333.521, 445.416, 499.775, 777.318, 833.025, 902.216, 911.419, 940.707, 1015.17, 1095.15, 1116.3, 1166.53, 1189.23, 1196.81, 1204.69, 1285.54, 1310.96, 1321.51, 1384.92, 1397.21, 1416.75, 1422.52, 1461.47, 1486.62, 1488.24, 1500.58, 1505.31, 1512.79, 1518.81, 1537.95, 2964.47, 2978.29, 2998.45, 3004.6, 3051.77, 3058.43, 3060.8, 3095.88, 3122.71, 3139.48, 3141.98, 3143.02]",
         null
        ],
        [
         "12",
         "rmg_rxn_216",
         "rmg_rxn_216_p1_CCCC",
         "reverse",
         "rmg_rxn_216_p1_CCCC",
         "-415707.0",
         "1",
         "1",
         "58.0782",
         "[21.4183, 138.436, 147.416]",
         "2.0",
         "[120.27, 225.853, 261.668, 264.782, 433.371, 743.657, 821.05, 855.093, 972.116, 990.577, 1036.99, 1085.69, 1180.53, 1215.96, 1297.5, 1330.33, 1340.13, 1408.04, 1419.69, 1420.73, 1494.89, 1496.49, 1502.43, 1504.25, 1508.76, 1515.22, 3033.17, 3040.74, 3045.03, 3045.9, 3058.87, 3081.17, 3114.62, 3118.13, 3122.85, 3123.58]",
         null
        ],
        [
         "13",
         "rmg_rxn_216",
         "rmg_rxn_216_p2_Csbr-CH-sbrCOCC",
         "reverse",
         "rmg_rxn_216_p2_Csbr-CH-sbrCOCC",
         "-714602.0",
         "2",
         "2",
         "87.081",
         "[77.2255, 257.211, 294.472]",
         "1.0",
         "[59.1965, 81.8825, 92.1205, 150.511, 236.522, 271.802, 299.124, 391.613, 431.849, 635.808, 830.412, 863.475, 887.252, 939.095, 995.97, 1037.48, 1099.4, 1140.83, 1160.65, 1180.12, 1191.77, 1302.62, 1310.57, 1380.31, 1388.55, 1404.94, 1420.1, 1441.18, 1476.87, 1483.34, 1487.82, 1488.33, 1504.91, 1532.88, 2980.32, 2982.86, 2985.43, 3014.92, 3017.77, 3059.33, 3079.02, 3127.67, 3137.59, 3140.36, 3195.17]",
         null
        ],
        [
         "14",
         "rmg_rxn_216",
         "TS0",
         "",
         "TS0",
         "-1130250.0",
         "2",
         "2",
         "145.159",
         "[271.493, 1270.02, 1433.94]",
         "1.0",
         "[17.0493, 33.7858, 42.8214, 63.0817, 80.9025, 102.706, 123.8, 135.894, 150.462, 176.491, 199.74, 243.159, 254.245, 298.255, 359.015, 385.9, 453.694, 474.899, 553.015, 583.888, 743.699, 823.086, 830.745, 845.126, 897.094, 914.678, 920.037, 941.236, 978.969, 1033.13, 1044.68, 1053.33, 1086.53, 1117.25, 1142.39, 1150.7, 1162.03, 1171.15, 1189.04, 1199.36, 1217.53, 1284.67, 1300.36, 1310.53, 1319.92, 1339.58, 1357.61, 1391.85, 1393.09, 1404.92, 1415.57, 1418.53, 1423.13, 1435.57, 1460.31, 1467.71, 1488.0, 1488.47, 1492.57, 1498.62, 1500.64, 1502.86, 1505.27, 1511.63, 1514.87, 1534.99, 2964.15, 2976.8, 2997.46, 3003.29, 3026.82, 3036.76, 3043.92, 3045.17, 3058.78, 3059.77, 3083.84, 3086.84, 3097.65, 3111.06, 3117.06, 3123.07, 3124.18, 3138.08, 3141.4, 3164.93]",
         null
        ],
        [
         "15",
         "rmg_rxn_394",
         "rmg_rxn_394_r2_CC=NO",
         "forward",
         "rmg_rxn_394_r2_CC=NO",
         "-548938.0",
         "1",
         "1",
         "59.0371",
         "[10.7603, 118.091, 125.733]",
         "1.0",
         "[197.062, 291.098, 328.626, 407.233, 570.832, 914.373, 916.921, 1038.14, 1079.01, 1148.39, 1286.65, 1390.76, 1438.45, 1464.58, 1470.4, 1752.33, 3016.93, 3076.79, 3080.32, 3121.59, 3848.46]",
         null
        ],
        [
         "16",
         "rmg_rxn_394",
         "rmg_rxn_394_p1_CC=Nsbr-O-sbr",
         "reverse",
         "rmg_rxn_394_p1_CC=Nsbr-O-sbr",
         "-547292.0",
         "2",
         "1",
         "58.0293",
         "[9.31113, 114.15, 120.338]",
         "1.0",
         "[167.293, 305.416, 336.482, 536.449, 789.999, 920.066, 1055.08, 1131.05, 1256.95, 1389.7, 1433.04, 1463.79, 1488.27, 1754.2, 3017.23, 3076.07, 3099.72, 3119.71]",
         null
        ],
        [
         "17",
         "rmg_rxn_394",
         "rmg_rxn_394_p2_CCO",
         "reverse",
         "rmg_rxn_394_p2_CCO",
         "-406893.0",
         "1",
         "2",
         "46.0419",
         "[14.5784, 54.5856, 61.8154]",
         "1.0",
         "[261.268, 286.813, 426.241, 804.502, 891.829, 1059.86, 1088.93, 1140.44, 1273.96, 1364.9, 1391.51, 1416.62, 1475.59, 1480.9, 1506.73, 2975.95, 3008.37, 3061.65, 3084.98, 3098.8, 3839.53]",
         null
        ],
        [
         "18",
         "rmg_rxn_633",
         "rmg_rxn_633_r1_sbr-CH2-sbrCOCC",
         "forward",
         "rmg_rxn_633_r1_sbr-CH2-sbrCOCC",
         "-611435.0",
         "2",
         "2",
         "73.0653",
         "[36.1087, 191.263, 204.688]",
         "1.0",
         "[77.0242, 142.295, 189.002, 256.747, 290.415, 387.588, 478.444, 536.348, 832.58, 864.072, 881.859, 994.309, 1069.03, 1109.74, 1150.13, 1183.57, 1191.42, 1296.98, 1307.9, 1390.48, 1408.15, 1441.14, 1454.93, 1477.48, 1488.2, 1505.33, 1532.21, 2968.9, 2983.59, 3006.84, 3019.56, 3060.22, 3139.08, 3141.45, 3164.25, 3275.03]",
         null
        ],
        [
         "19",
         "rmg_rxn_633",
         "rmg_rxn_633_r2_CCSCC",
         "forward",
         "rmg_rxn_633_r2_CCSCC",
         "-1461170.0",
         "1",
         "2",
         "90.0503",
         "[97.9259, 182.785, 231.685]",
         "2.0",
         "[67.2937, 123.112, 227.368, 258.096, 276.952, 345.601, 385.677, 655.526, 710.358, 751.129, 796.39, 997.145, 1000.9, 1035.43, 1068.0, 1073.06, 1106.43, 1279.07, 1289.37, 1304.91, 1324.25, 1416.54, 1416.9, 1478.51, 1480.16, 1496.5, 1499.23, 1507.24, 1511.81, 3052.24, 3052.74, 3072.19, 3073.06, 3111.02, 3114.61, 3123.84, 3124.39, 3139.07, 3141.85]",
         null
        ],
        [
         "20",
         "rmg_rxn_633",
         "rmg_rxn_633_p1_sbr-CH2-sbrCSCC",
         "reverse",
         "rmg_rxn_633_p1_sbr-CH2-sbrCSCC",
         "-1459450.0",
         "2",
         "2",
         "89.0425",
         "[94.593, 177.437, 223.626]",
         "1.0",
         "[55.6865, 116.899, 195.084, 236.543, 263.051, 327.475, 368.656, 570.259, 646.226, 695.47, 749.009, 790.238, 997.742, 1021.94, 1068.52, 1082.5, 1090.58, 1229.47, 1270.25, 1287.34, 1313.31, 1418.0, 1459.76, 1475.57, 1485.56, 1498.69, 1509.49, 3052.53, 3071.31, 3072.59, 3112.76, 3123.94, 3130.16, 3140.58, 3165.85, 3272.45]",
         null
        ],
        [
         "21",
         "rmg_rxn_633",
         "rmg_rxn_633_p2_CCOCC",
         "reverse",
         "rmg_rxn_633_p2_CCOCC",
         "-613172.0",
         "1",
         "1",
         "74.0732",
         "[27.7055, 224.199, 239.286]",
         "2.0",
         "[98.5148, 111.387, 196.946, 251.347, 257.7, 441.35, 449.461, 825.171, 839.433, 875.895, 959.494, 1081.18, 1109.59, 1178.61, 1195.75, 1199.12, 1207.14, 1305.71, 1316.86, 1391.14, 1409.07, 1423.02, 1463.79, 1488.6, 1488.85, 1504.34, 1506.86, 1523.46, 1541.17, 2969.44, 2979.21, 2999.17, 3003.56, 3059.6, 3060.08, 3138.87, 3139.13, 3140.3, 3140.45]",
         null
        ],
        [
         "22",
         "rmg_rxn_633",
         "TS0",
         "",
         "TS0",
         "-2072560.0",
         "2",
         "2",
         "163.116",
         "[299.973, 1140.14, 1264.11]",
         "1.0",
         "[21.8381, 46.6441, 55.9089, 75.5924, 97.2916, 101.74, 131.696, 166.65, 204.376, 214.378, 243.139, 257.06, 267.416, 348.048, 375.21, 429.805, 445.291, 468.741, 519.132, 643.127, 677.406, 717.141, 761.693, 828.076, 833.755, 878.411, 901.563, 962.198, 997.207, 1020.35, 1047.69, 1067.96, 1079.88, 1086.42, 1118.09, 1123.54, 1154.26, 1191.1, 1198.34, 1204.13, 1231.61, 1283.5, 1288.07, 1302.55, 1312.31, 1322.42, 1388.99, 1412.24, 1416.57, 1420.5, 1427.04, 1443.48, 1450.94, 1463.96, 1468.65, 1482.15, 1488.87, 1497.13, 1505.12, 1505.77, 1512.68, 1535.7, 2945.99, 2977.28, 2981.06, 3006.7, 3045.13, 3052.42, 3060.26, 3077.63, 3080.99, 3098.59, 3109.23, 3119.36, 3124.02, 3139.12, 3141.53, 3145.66, 3180.54, 3191.74]",
         null
        ],
        [
         "23",
         "rmg_rxn_1142",
         "rmg_rxn_1142_r1_sbr-O-sbr",
         "forward",
         "rmg_rxn_1142_r1_sbr-O-sbr",
         "-197099.0",
         "3",
         "1",
         "15.9994",
         null,
         null,
         null,
         null
        ],
        [
         "24",
         "rmg_rxn_1142",
         "rmg_rxn_1142_r2_CCCC",
         "forward",
         "rmg_rxn_1142_r2_CCCC",
         "-415711.0",
         "1",
         "1",
         "58.0782",
         "[21.8536, 136.213, 145.441]",
         "2.0",
         "[127.554, 267.112, 273.038, 301.186, 438.601, 750.754, 826.188, 853.656, 968.293, 991.538, 1031.33, 1069.82, 1166.87, 1210.09, 1287.0, 1316.07, 1321.72, 1390.5, 1404.51, 1405.87, 1475.76, 1478.04, 1488.0, 1489.55, 1491.56, 1495.87, 2982.41, 2984.85, 2987.28, 2990.56, 3014.22, 3033.68, 3058.95, 3059.89, 3060.51, 3065.62]",
         null
        ],
        [
         "25",
         "rmg_rxn_1142",
         "rmg_rxn_1142_p1_sbr-OH-sbr",
         "reverse",
         "rmg_rxn_1142_p1_sbr-OH-sbr",
         "-198836.0",
         "2",
         "1",
         "17.0027",
         null,
         "1.0",
         "[3724.63]",
         null
        ],
        [
         "26",
         "rmg_rxn_1142",
         "rmg_rxn_1142_p2_sbr-CH2-sbrCCC",
         "reverse",
         "rmg_rxn_1142_p2_sbr-CH2-sbrCCC",
         "-413980.0",
         "2",
         "2",
         "57.0704",
         "[20.3573, 130.066, 140.062]",
         "1.0",
         "[130.28, 180.094, 270.044, 291.229, 433.54, 510.849, 739.19, 833.178, 877.766, 972.654, 1037.14, 1065.28, 1088.24, 1166.63, 1239.32, 1301.32, 1318.76, 1383.08, 1406.02, 1446.11, 1452.22, 1480.89, 1489.24, 1494.54, 2974.76, 2982.51, 2984.67, 3009.22, 3029.65, 3058.27, 3061.84, 3100.0, 3205.66]",
         null
        ],
        [
         "27",
         "rmg_rxn_1142",
         "TS0",
         "",
         "TS0",
         "-612799.0",
         "3",
         "2",
         "74.0732",
         "[72.2363, 222.543, 271.17]",
         "1.0",
         "[88.9755, 161.766, 201.47, 284.87, 345.451, 435.147, 483.285, 576.676, 768.594, 847.908, 856.904, 980.729, 990.329, 1029.69, 1068.41, 1109.33, 1151.36, 1200.11, 1248.93, 1281.77, 1325.11, 1346.04, 1407.81, 1423.81, 1459.93, 1471.98, 1488.06, 1494.13, 1501.23, 2894.63, 2927.81, 2934.04, 2948.37, 2969.26, 2973.35, 2999.59, 3008.57, 3050.03]",
         "-1482.12"
        ],
        [
         "28",
         "rmg_rxn_14",
         "rmg_rxn_14_r1_CCS",
         "forward",
         "rmg_rxn_14_r1_CCS",
         "-1254880.0",
         "1",
         "2",
         "62.019",
         "[17.3187, 95.472, 104.033]",
         "1.0",
         "[202.329, 256.509, 331.524, 667.148, 735.969, 875.596, 988.159, 1063.63, 1117.61, 1273.39, 1303.11, 1402.55, 1466.62, 1477.45, 1483.86, 2700.26, 3013.34, 3044.52, 3080.61, 3088.41, 3107.94]",
         null
        ],
        [
         "29",
         "rmg_rxn_14",
         "rmg_rxn_14_r2_sbr-CH-sbrCC",
         "forward",
         "rmg_rxn_14_r2_sbr-CH-sbrCC",
         "-309066.0",
         "3",
         "1",
         "42.047",
         "[13.2025, 54.2035, 61.1626]",
         "1.0",
         "[147.221, 242.549, 373.969, 771.945, 805.285, 919.62, 1052.79, 1070.82, 1126.59, 1253.31, 1320.53, 1398.48, 1443.87, 1482.34, 1489.69, 2936.06, 2963.09, 3022.95, 3099.48, 3100.66, 3188.66]",
         null
        ],
        [
         "30",
         "rmg_rxn_14",
         "rmg_rxn_14_p1_CCsbr-S-sbr",
         "reverse",
         "rmg_rxn_14_p1_CCsbr-S-sbr",
         "-1253210.0",
         "2",
         "1",
         "61.0112",
         "[15.0526, 92.9571, 101.83]",
         "1.0",
         "[226.212, 334.161, 489.396, 681.823, 904.828, 980.846, 1069.55, 1246.44, 1278.36, 1403.3, 1419.6, 1475.83, 1482.36, 2999.67, 3016.93, 3020.61, 3090.04, 3104.3]",
         null
        ],
        [
         "31",
         "rmg_rxn_55",
         "rmg_rxn_55_r1_sbr-CH-sbrCC",
         "forward",
         "rmg_rxn_55_r1_sbr-CH-sbrCC",
         "-309066.0",
         "3",
         "1",
         "42.047",
         "[13.2025, 54.2035, 61.1626]",
         "1.0",
         "[147.221, 242.549, 373.969, 771.945, 805.285, 919.62, 1052.79, 1070.82, 1126.59, 1253.31, 1320.53, 1398.48, 1443.87, 1482.34, 1489.69, 2936.06, 2963.09, 3022.95, 3099.48, 3100.66, 3188.66]",
         null
        ],
        [
         "32",
         "rmg_rxn_55",
         "rmg_rxn_55_r2_CCSCC",
         "forward",
         "rmg_rxn_55_r2_CCSCC",
         "-1461180.0",
         "1",
         "2",
         "90.0503",
         "[97.9259, 182.785, 231.685]",
         "2.0",
         "[66.4862, 121.635, 224.64, 254.999, 273.629, 341.454, 381.049, 647.66, 701.833, 742.115, 786.833, 985.179, 988.887, 1023.01, 1055.18, 1060.19, 1093.15, 1263.72, 1273.9, 1289.25, 1308.36, 1399.54, 1399.9, 1460.77, 1462.4, 1478.54, 1481.24, 1489.15, 1493.67, 3015.61, 3016.1, 3035.32, 3036.18, 3073.69, 3077.23, 3086.35, 3086.9, 3101.41, 3104.15]",
         null
        ],
        [
         "33",
         "rmg_rxn_55",
         "rmg_rxn_55_p2_CCSsbr-CH-sbrC",
         "reverse",
         "rmg_rxn_55_p2_CCSsbr-CH-sbrC",
         "-1459490.0",
         "2",
         "2",
         "89.0425",
         "[61.1392, 234.583, 269.728]",
         "1.0",
         "[75.5231, 94.6545, 130.823, 178.459, 258.281, 303.933, 399.926, 433.286, 673.109, 749.415, 777.892, 982.398, 1001.81, 1020.14, 1056.29, 1066.43, 1115.66, 1268.3, 1291.54, 1305.24, 1399.31, 1400.45, 1458.19, 1459.38, 1474.98, 1476.04, 1485.13, 2961.26, 3017.92, 3034.91, 3037.76, 3080.49, 3082.99, 3091.5, 3108.82, 3146.25]",
         null
        ],
        [
         "34",
         "rmg_rxn_683",
         "rmg_rxn_683_r1_sbr-CH-sbr=CC",
         "forward",
         "rmg_rxn_683_r1_sbr-CH-sbr=CC",
         "-307592.0",
         "2",
         "1",
         "41.0391",
         "[8.69051, 52.7378, 58.3092]",
         "1.0",
         "[193.492, 410.275, 619.572, 803.993, 836.799, 941.938, 1070.48, 1120.23, 1278.8, 1410.99, 1487.71, 1488.62, 1710.31, 3050.19, 3059.01, 3112.74, 3150.19, 3261.65]",
         null
        ],
        [
         "35",
         "rmg_rxn_683",
         "rmg_rxn_683_r2_CCCOC",
         "forward",
         "rmg_rxn_683_r2_CCCOC",
         "-613159.0",
         "1",
         "2",
         "74.0732",
         "[40.784, 192.218, 211.735]",
         "1.0",
         "[92.753, 128.499, 205.37, 232.365, 303.656, 358.55, 515.413, 773.669, 899.742, 935.96, 969.315, 1085.98, 1130.01, 1168.9, 1191.3, 1202.63, 1244.07, 1286.51, 1323.54, 1386.22, 1420.35, 1433.17, 1485.51, 1486.79, 1493.24, 1499.99, 1508.5, 1512.22, 1529.11, 2963.97, 2986.83, 2998.16, 3034.52, 3051.37, 3057.41, 3094.93, 3122.5, 3136.98, 3142.63]",
         null
        ],
        [
         "36",
         "rmg_rxn_683",
         "rmg_rxn_683_p1_C=CC",
         "reverse",
         "rmg_rxn_683_p1_C=CC",
         "-309365.0",
         "1",
         "1",
         "42.047",
         "[10.7194, 53.9495, 61.5632]",
         "1.0",
         "[202.527, 434.545, 597.879, 936.732, 955.331, 961.712, 1036.94, 1081.77, 1201.02, 1338.4, 1412.85, 1457.8, 1483.55, 1498.75, 1740.55, 3044.57, 3104.04, 3129.25, 3149.24, 3161.89, 3240.15]",
         null
        ],
        [
         "37",
         "rmg_rxn_683",
         "rmg_rxn_683_p2_sbr-CH2-sbrOCCC",
         "reverse",
         "rmg_rxn_683_p2_sbr-CH2-sbrOCCC",
         "-611451.0",
         "2",
         "2",
         "73.0653",
         "[39.3229, 184.047, 204.898]",
         "1.0",
         "[80.5272, 135.602, 206.691, 279.406, 305.866, 365.104, 517.755, 551.451, 772.501, 897.678, 930.935, 967.209, 1093.36, 1125.32, 1176.1, 1222.51, 1282.83, 1312.16, 1323.95, 1388.2, 1422.65, 1431.41, 1486.07, 1492.44, 1500.85, 1512.42, 1519.23, 3009.93, 3047.11, 3054.2, 3063.02, 3097.68, 3126.48, 3129.93, 3142.7, 3278.56]",
         null
        ],
        [
         "38",
         "rmg_rxn_683",
         "TS0",
         "",
         "TS0",
         "-920737.0",
         "2",
         "2",
         "115.112",
         "[185.691, 675.36, 769.304]",
         "1.0",
         "[22.2969, 29.4071, 60.7464, 90.1813, 115.251, 148.606, 195.216, 201.916, 214.795, 302.147, 356.152, 377.142, 495.417, 533.568, 631.638, 689.5, 773.69, 899.86, 934.515, 935.328, 951.536, 969.781, 1009.98, 1069.74, 1092.09, 1130.57, 1166.68, 1174.94, 1197.32, 1218.47, 1252.56, 1288.44, 1317.2, 1323.26, 1382.36, 1387.26, 1408.55, 1421.07, 1436.85, 1452.49, 1484.6, 1486.45, 1486.91, 1489.52, 1499.59, 1512.46, 1522.99, 1707.56, 2988.08, 3011.13, 3027.47, 3043.78, 3052.9, 3058.98, 3096.16, 3105.32, 3113.39, 3124.39, 3139.65, 3141.44, 3152.04, 3185.51]",
         null
        ],
        [
         "39",
         "rmg_rxn_84",
         "rmg_rxn_84_r1_sbr-SH-sbr",
         "forward",
         "rmg_rxn_84_r1_sbr-SH-sbr",
         "-1046900.0",
         "2",
         "1",
         "32.9799",
         null,
         "1.0",
         "[2717.16]",
         null
        ],
        [
         "40",
         "rmg_rxn_84",
         "rmg_rxn_84_r2_CCCC",
         "forward",
         "rmg_rxn_84_r2_CCCC",
         "-415707.0",
         "1",
         "1",
         "58.0782",
         "[21.4183, 138.436, 147.416]",
         "2.0",
         "[119.29, 227.236, 262.523, 263.976, 432.884, 742.879, 820.361, 855.1, 971.345, 990.583, 1036.85, 1085.76, 1180.84, 1216.3, 1298.02, 1331.44, 1341.08, 1409.14, 1420.46, 1421.48, 1495.25, 1496.87, 1503.06, 1504.91, 1509.14, 1515.52, 3030.68, 3038.28, 3043.9, 3044.79, 3056.36, 3078.71, 3113.14, 3116.5, 3122.3, 3123.01]",
         null
        ],
        [
         "41",
         "rmg_rxn_84",
         "rmg_rxn_84_p1_S",
         "reverse",
         "rmg_rxn_84_p1_S",
         "-1048590.0",
         "1",
         "1",
         "33.9877",
         "[1.61731, 1.89259, 3.50989]",
         "2.0",
         "[1222.37, 2751.36, 2764.59]",
         null
        ],
        [
         "42",
         "rmg_rxn_84",
         "rmg_rxn_84_p2_Csbr-CH-sbrCC",
         "reverse",
         "rmg_rxn_84_p2_Csbr-CH-sbrCC",
         "-413992.0",
         "2",
         "2",
         "57.0704",
         "[18.7542, 137.737, 146.856]",
         "1.0",
         "[57.5353, 99.9883, 233.964, 259.097, 347.193, 438.417, 774.322, 861.014, 981.659, 998.437, 1048.29, 1074.02, 1142.8, 1191.38, 1277.72, 1319.63, 1406.78, 1419.28, 1431.63, 1473.75, 1478.29, 1489.06, 1502.24, 1508.05, 2959.57, 2979.15, 3012.98, 3045.61, 3050.1, 3120.59, 3122.97, 3128.78, 3184.38]",
         null
        ],
        [
         "43",
         "rmg_rxn_84",
         "TS0",
         "",
         "TS0",
         "-1462590.0",
         "2",
         "2",
         "91.0581",
         "[142.859, 242.751, 359.821]",
         "1.0",
         "[84.5862, 90.4663, 105.952, 132.266, 180.655, 247.413, 276.785, 414.229, 472.279, 607.624, 751.629, 841.866, 849.435, 912.19, 996.512, 1016.56, 1057.17, 1135.6, 1192.99, 1194.63, 1230.43, 1294.07, 1321.18, 1408.45, 1421.66, 1424.93, 1472.11, 1486.77, 1490.02, 1503.97, 1510.66, 2743.92, 2994.43, 3022.12, 3052.27, 3061.99, 3092.67, 3121.72, 3126.05, 3136.0, 3139.2]",
         null
        ],
        [
         "44",
         "rmg_rxn_596",
         "rmg_rxn_596_r1_sbr-SH-sbr",
         "forward",
         "rmg_rxn_596_r1_sbr-SH-sbr",
         "-1046900.0",
         "2",
         "1",
         "32.9799",
         null,
         "1.0",
         "[2717.16]",
         null
        ],
        [
         "45",
         "rmg_rxn_596",
         "rmg_rxn_596_r2_CN=O",
         "forward",
         "rmg_rxn_596_r2_CN=O",
         "-445718.0",
         "1",
         "1",
         "45.0215",
         "[8.07699, 43.5338, 48.4889]",
         "1.0",
         "[161.617, 588.858, 881.581, 979.22, 1166.46, 1385.51, 1457.31, 1459.42, 1722.54, 3043.05, 3136.47, 3157.51]",
         null
        ],
        [
         "46",
         "rmg_rxn_596",
         "rmg_rxn_596_p1_S",
         "reverse",
         "rmg_rxn_596_p1_S",
         "-1048590.0",
         "1",
         "1",
         "33.9877",
         "[1.61731, 1.89259, 3.50989]",
         "2.0",
         "[1222.37, 2751.36, 2764.59]",
         null
        ],
        [
         "47",
         "rmg_rxn_596",
         "rmg_rxn_596_p2_sbr-CH2-sbrN=O",
         "reverse",
         "rmg_rxn_596_p2_sbr-CH2-sbrN=O",
         "-444125.0",
         "2",
         "1",
         "44.0136",
         "[3.87779, 42.4321, 46.3099]",
         "1.0",
         "[464.279, 710.518, 845.577, 1141.21, 1277.47, 1504.7, 1766.13, 3138.97, 3284.1]",
         null
        ],
        [
         "48",
         "rmg_rxn_596",
         "TS0",
         "",
         "TS0",
         "-1492600.0",
         "2",
         "2",
         "78.0014",
         "[42.4293, 202.888, 237.731]",
         "1.0",
         "[82.9738, 147.731, 233.22, 326.356, 476.567, 507.629, 696.123, 953.823, 1052.32, 1149.72, 1220.93, 1308.62, 1462.98, 1665.32, 2741.37, 3103.84, 3219.34]",
         null
        ],
        [
         "49",
         "rmg_rxn_381",
         "rmg_rxn_381_r2_CCSCC",
         "forward",
         "rmg_rxn_381_r2_CCSCC",
         "-1461180.0",
         "1",
         "2",
         "90.0503",
         "[97.9259, 182.785, 231.685]",
         "2.0",
         "[66.4862, 121.635, 224.64, 254.999, 273.629, 341.454, 381.049, 647.66, 701.833, 742.115, 786.833, 985.179, 988.887, 1023.01, 1055.18, 1060.19, 1093.15, 1263.72, 1273.9, 1289.25, 1308.36, 1399.54, 1399.9, 1460.77, 1462.4, 1478.54, 1481.24, 1489.15, 1493.67, 3015.61, 3016.1, 3035.32, 3036.18, 3073.69, 3077.23, 3086.35, 3086.9, 3101.41, 3104.15]",
         null
        ]
       ],
       "shape": {
        "columns": 12,
        "rows": 10520
       }
      },
      "text/html": [
       "<div>\n",
       "<style scoped>\n",
       "    .dataframe tbody tr th:only-of-type {\n",
       "        vertical-align: middle;\n",
       "    }\n",
       "\n",
       "    .dataframe tbody tr th {\n",
       "        vertical-align: top;\n",
       "    }\n",
       "\n",
       "    .dataframe thead th {\n",
       "        text-align: right;\n",
       "    }\n",
       "</style>\n",
       "<table border=\"1\" class=\"dataframe\">\n",
       "  <thead>\n",
       "    <tr style=\"text-align: right;\">\n",
       "      <th></th>\n",
       "      <th>rxn</th>\n",
       "      <th>species</th>\n",
       "      <th>direction</th>\n",
       "      <th>label</th>\n",
       "      <th>E0</th>\n",
       "      <th>spin_multiplicity</th>\n",
       "      <th>optical_isomers</th>\n",
       "      <th>mass</th>\n",
       "      <th>inertia</th>\n",
       "      <th>symmetry</th>\n",
       "      <th>harmonic_frequencies</th>\n",
       "      <th>frequency</th>\n",
       "    </tr>\n",
       "  </thead>\n",
       "  <tbody>\n",
       "    <tr>\n",
       "      <th>0</th>\n",
       "      <td>rmg_rxn_96</td>\n",
       "      <td>rmg_rxn_96_r1_CCtN</td>\n",
       "      <td>forward</td>\n",
       "      <td>rmg_rxn_96_r1_CCtN</td>\n",
       "      <td>-3.48434e+05</td>\n",
       "      <td>1</td>\n",
       "      <td>1</td>\n",
       "      <td>4.10266e+01</td>\n",
       "      <td>[3.17088, 54.2986, 54.2986]</td>\n",
       "      <td>3.00000e+00</td>\n",
       "      <td>[388.353, 388.534, 938.789, 1066.12, 1066.39, ...</td>\n",
       "      <td>NaN</td>\n",
       "    </tr>\n",
       "    <tr>\n",
       "      <th>1</th>\n",
       "      <td>rmg_rxn_96</td>\n",
       "      <td>rmg_rxn_96_r2_sbr-CH2-sbrCSCC</td>\n",
       "      <td>forward</td>\n",
       "      <td>rmg_rxn_96_r2_sbr-CH2-sbrCSCC</td>\n",
       "      <td>-1.45945e+06</td>\n",
       "      <td>2</td>\n",
       "      <td>2</td>\n",
       "      <td>8.90425e+01</td>\n",
       "      <td>[94.593, 177.437, 223.626]</td>\n",
       "      <td>1.00000e+00</td>\n",
       "      <td>[55.6865, 116.899, 195.084, 236.543, 263.051, ...</td>\n",
       "      <td>NaN</td>\n",
       "    </tr>\n",
       "    <tr>\n",
       "      <th>2</th>\n",
       "      <td>rmg_rxn_96</td>\n",
       "      <td>rmg_rxn_96_p1_C=C=sbr-N-sbr</td>\n",
       "      <td>reverse</td>\n",
       "      <td>rmg_rxn_96_p1_C=C=sbr-N-sbr</td>\n",
       "      <td>-3.46727e+05</td>\n",
       "      <td>2</td>\n",
       "      <td>1</td>\n",
       "      <td>4.00187e+01</td>\n",
       "      <td>[1.76513, 48.7017, 50.4668]</td>\n",
       "      <td>2.00000e+00</td>\n",
       "      <td>[389.646, 442.1, 672.548, 1039.05, 1059.12, 14...</td>\n",
       "      <td>NaN</td>\n",
       "    </tr>\n",
       "    <tr>\n",
       "      <th>3</th>\n",
       "      <td>rmg_rxn_96</td>\n",
       "      <td>rmg_rxn_96_p2_CCSCC</td>\n",
       "      <td>reverse</td>\n",
       "      <td>rmg_rxn_96_p2_CCSCC</td>\n",
       "      <td>-1.46117e+06</td>\n",
       "      <td>1</td>\n",
       "      <td>2</td>\n",
       "      <td>9.00503e+01</td>\n",
       "      <td>[97.9259, 182.785, 231.685]</td>\n",
       "      <td>2.00000e+00</td>\n",
       "      <td>[67.2937, 123.112, 227.368, 258.096, 276.952, ...</td>\n",
       "      <td>NaN</td>\n",
       "    </tr>\n",
       "    <tr>\n",
       "      <th>4</th>\n",
       "      <td>rmg_rxn_96</td>\n",
       "      <td>TS0</td>\n",
       "      <td></td>\n",
       "      <td>TS0</td>\n",
       "      <td>-1.80784e+06</td>\n",
       "      <td>2</td>\n",
       "      <td>2</td>\n",
       "      <td>1.30069e+02</td>\n",
       "      <td>[257.648, 489.443, 589.921]</td>\n",
       "      <td>1.00000e+00</td>\n",
       "      <td>[35.7528, 65.8202, 71.2554, 94.6157, 117.191, ...</td>\n",
       "      <td>NaN</td>\n",
       "    </tr>\n",
       "    <tr>\n",
       "      <th>...</th>\n",
       "      <td>...</td>\n",
       "      <td>...</td>\n",
       "      <td>...</td>\n",
       "      <td>...</td>\n",
       "      <td>...</td>\n",
       "      <td>...</td>\n",
       "      <td>...</td>\n",
       "      <td>...</td>\n",
       "      <td>...</td>\n",
       "      <td>...</td>\n",
       "      <td>...</td>\n",
       "      <td>...</td>\n",
       "    </tr>\n",
       "    <tr>\n",
       "      <th>10515</th>\n",
       "      <td>rmg_rxn_15585</td>\n",
       "      <td>rmg_rxn_15585_r1_sbr-CH2-sbrON=C</td>\n",
       "      <td>forward</td>\n",
       "      <td>rmg_rxn_15585_r1_sbr-CH2-sbrON=C</td>\n",
       "      <td>-5.47166e+05</td>\n",
       "      <td>2</td>\n",
       "      <td>2</td>\n",
       "      <td>5.80293e+01</td>\n",
       "      <td>[10.2741, 95.4529, 105.582]</td>\n",
       "      <td>1.00000e+00</td>\n",
       "      <td>[133.739, 276.466, 364.833, 504.751, 603.155, ...</td>\n",
       "      <td>NaN</td>\n",
       "    </tr>\n",
       "    <tr>\n",
       "      <th>10516</th>\n",
       "      <td>rmg_rxn_15585</td>\n",
       "      <td>rmg_rxn_15585_r2_CCtCC</td>\n",
       "      <td>forward</td>\n",
       "      <td>rmg_rxn_15585_r2_CCtCC</td>\n",
       "      <td>-4.09305e+05</td>\n",
       "      <td>1</td>\n",
       "      <td>1</td>\n",
       "      <td>5.40470e+01</td>\n",
       "      <td>[6.28529, 149.436, 149.436]</td>\n",
       "      <td>6.00000e+00</td>\n",
       "      <td>[30.3524, 203.16, 203.438, 415.543, 416.377, 7...</td>\n",
       "      <td>NaN</td>\n",
       "    </tr>\n",
       "    <tr>\n",
       "      <th>10517</th>\n",
       "      <td>rmg_rxn_15585</td>\n",
       "      <td>rmg_rxn_15585_p1_CON=C</td>\n",
       "      <td>reverse</td>\n",
       "      <td>rmg_rxn_15585_p1_CON=C</td>\n",
       "      <td>-5.48881e+05</td>\n",
       "      <td>1</td>\n",
       "      <td>1</td>\n",
       "      <td>5.90371e+01</td>\n",
       "      <td>[11.9742, 101.538, 110.304]</td>\n",
       "      <td>1.00000e+00</td>\n",
       "      <td>[121.069, 182.788, 350.501, 581.956, 806.28, 9...</td>\n",
       "      <td>NaN</td>\n",
       "    </tr>\n",
       "    <tr>\n",
       "      <th>10518</th>\n",
       "      <td>rmg_rxn_15585</td>\n",
       "      <td>rmg_rxn_15585_p2_sbr-CH2-sbrCtCC</td>\n",
       "      <td>reverse</td>\n",
       "      <td>rmg_rxn_15585_p2_sbr-CH2-sbrCtCC</td>\n",
       "      <td>-4.07623e+05</td>\n",
       "      <td>2</td>\n",
       "      <td>2</td>\n",
       "      <td>5.30391e+01</td>\n",
       "      <td>[4.88746, 139.242, 140.992]</td>\n",
       "      <td>1.00000e+00</td>\n",
       "      <td>[24.4793, 189.016, 208.831, 403.123, 434.052, ...</td>\n",
       "      <td>NaN</td>\n",
       "    </tr>\n",
       "    <tr>\n",
       "      <th>10519</th>\n",
       "      <td>rmg_rxn_15585</td>\n",
       "      <td>TS0</td>\n",
       "      <td></td>\n",
       "      <td>TS0</td>\n",
       "      <td>-9.56425e+05</td>\n",
       "      <td>2</td>\n",
       "      <td>2</td>\n",
       "      <td>1.12076e+02</td>\n",
       "      <td>[218.573, 428.244, 570.167]</td>\n",
       "      <td>1.00000e+00</td>\n",
       "      <td>[18.1405, 32.9796, 40.8057, 72.4161, 102.845, ...</td>\n",
       "      <td>NaN</td>\n",
       "    </tr>\n",
       "  </tbody>\n",
       "</table>\n",
       "<p>10520 rows × 12 columns</p>\n",
       "</div>"
      ],
      "text/plain": [
       "                 rxn                           species direction  \\\n",
       "0         rmg_rxn_96                rmg_rxn_96_r1_CCtN   forward   \n",
       "1         rmg_rxn_96     rmg_rxn_96_r2_sbr-CH2-sbrCSCC   forward   \n",
       "2         rmg_rxn_96       rmg_rxn_96_p1_C=C=sbr-N-sbr   reverse   \n",
       "3         rmg_rxn_96               rmg_rxn_96_p2_CCSCC   reverse   \n",
       "4         rmg_rxn_96                               TS0             \n",
       "...              ...                               ...       ...   \n",
       "10515  rmg_rxn_15585  rmg_rxn_15585_r1_sbr-CH2-sbrON=C   forward   \n",
       "10516  rmg_rxn_15585            rmg_rxn_15585_r2_CCtCC   forward   \n",
       "10517  rmg_rxn_15585            rmg_rxn_15585_p1_CON=C   reverse   \n",
       "10518  rmg_rxn_15585  rmg_rxn_15585_p2_sbr-CH2-sbrCtCC   reverse   \n",
       "10519  rmg_rxn_15585                               TS0             \n",
       "\n",
       "                                  label           E0  spin_multiplicity  \\\n",
       "0                    rmg_rxn_96_r1_CCtN -3.48434e+05                  1   \n",
       "1         rmg_rxn_96_r2_sbr-CH2-sbrCSCC -1.45945e+06                  2   \n",
       "2           rmg_rxn_96_p1_C=C=sbr-N-sbr -3.46727e+05                  2   \n",
       "3                   rmg_rxn_96_p2_CCSCC -1.46117e+06                  1   \n",
       "4                                   TS0 -1.80784e+06                  2   \n",
       "...                                 ...          ...                ...   \n",
       "10515  rmg_rxn_15585_r1_sbr-CH2-sbrON=C -5.47166e+05                  2   \n",
       "10516            rmg_rxn_15585_r2_CCtCC -4.09305e+05                  1   \n",
       "10517            rmg_rxn_15585_p1_CON=C -5.48881e+05                  1   \n",
       "10518  rmg_rxn_15585_p2_sbr-CH2-sbrCtCC -4.07623e+05                  2   \n",
       "10519                               TS0 -9.56425e+05                  2   \n",
       "\n",
       "       optical_isomers        mass                      inertia    symmetry  \\\n",
       "0                    1 4.10266e+01  [3.17088, 54.2986, 54.2986] 3.00000e+00   \n",
       "1                    2 8.90425e+01   [94.593, 177.437, 223.626] 1.00000e+00   \n",
       "2                    1 4.00187e+01  [1.76513, 48.7017, 50.4668] 2.00000e+00   \n",
       "3                    2 9.00503e+01  [97.9259, 182.785, 231.685] 2.00000e+00   \n",
       "4                    2 1.30069e+02  [257.648, 489.443, 589.921] 1.00000e+00   \n",
       "...                ...         ...                          ...         ...   \n",
       "10515                2 5.80293e+01  [10.2741, 95.4529, 105.582] 1.00000e+00   \n",
       "10516                1 5.40470e+01  [6.28529, 149.436, 149.436] 6.00000e+00   \n",
       "10517                1 5.90371e+01  [11.9742, 101.538, 110.304] 1.00000e+00   \n",
       "10518                2 5.30391e+01  [4.88746, 139.242, 140.992] 1.00000e+00   \n",
       "10519                2 1.12076e+02  [218.573, 428.244, 570.167] 1.00000e+00   \n",
       "\n",
       "                                    harmonic_frequencies  frequency  \n",
       "0      [388.353, 388.534, 938.789, 1066.12, 1066.39, ...        NaN  \n",
       "1      [55.6865, 116.899, 195.084, 236.543, 263.051, ...        NaN  \n",
       "2      [389.646, 442.1, 672.548, 1039.05, 1059.12, 14...        NaN  \n",
       "3      [67.2937, 123.112, 227.368, 258.096, 276.952, ...        NaN  \n",
       "4      [35.7528, 65.8202, 71.2554, 94.6157, 117.191, ...        NaN  \n",
       "...                                                  ...        ...  \n",
       "10515  [133.739, 276.466, 364.833, 504.751, 603.155, ...        NaN  \n",
       "10516  [30.3524, 203.16, 203.438, 415.543, 416.377, 7...        NaN  \n",
       "10517  [121.069, 182.788, 350.501, 581.956, 806.28, 9...        NaN  \n",
       "10518  [24.4793, 189.016, 208.831, 403.123, 434.052, ...        NaN  \n",
       "10519  [18.1405, 32.9796, 40.8057, 72.4161, 102.845, ...        NaN  \n",
       "\n",
       "[10520 rows x 12 columns]"
      ]
     },
     "execution_count": 152,
     "metadata": {},
     "output_type": "execute_result"
    }
   ],
   "source": [
    "df_expanded"
   ]
  },
  {
   "cell_type": "code",
   "execution_count": 153,
   "id": "edc7c814",
   "metadata": {},
   "outputs": [],
   "source": [
    "def get_e0_from_conformer(conformer):\n",
    "    if not isinstance(conformer, str):\n",
    "        return None\n",
    "    m = re.search(r\"E0\\s*=\\s*\\(\\s*([-\\d\\.eE\\+]+)\", conformer)\n",
    "    if m:\n",
    "        return float(m.group(1))\n",
    "    return None\n",
    "\n",
    "df_conformers['E0'] = df_conformers['conformer'].apply(get_e0_from_conformer)\n",
    "\n",
    "\n"
   ]
  },
  {
   "cell_type": "code",
   "execution_count": 154,
   "id": "6868003a",
   "metadata": {},
   "outputs": [],
   "source": [
    "df_sum = (\n",
    "    df_conformers[df_conformers['direction'].isin(['forward', 'reverse'])]\n",
    "    .groupby(['rxn', 'direction'], as_index=False)['E0']\n",
    "    .sum()\n",
    "    .rename(columns={'E0': 'E0_total'})\n",
    ")\n",
    "df_ts = df_conformers[df_conformers['species'] == 'TS0'][['rxn', 'E0']]\n",
    "df_ts = df_ts.rename(columns={'E0': 'E0_TS0'})\n",
    "df_merged = pd.merge(df_sum, df_ts, on='rxn', how='left')\n",
    "df_merged['delta_E0'] = df_merged['E0_TS0'] - df_merged['E0_total']\n",
    "\n",
    "df_merged.to_csv('delta_E0.csv', index=False)\n"
   ]
  },
  {
   "cell_type": "code",
   "execution_count": 155,
   "id": "6946ee4c",
   "metadata": {},
   "outputs": [
    {
     "data": {
      "application/vnd.microsoft.datawrangler.viewer.v0+json": {
       "columns": [
        {
         "name": "index",
         "rawType": "int64",
         "type": "integer"
        },
        {
         "name": "rxn",
         "rawType": "object",
         "type": "string"
        },
        {
         "name": "direction",
         "rawType": "object",
         "type": "string"
        },
        {
         "name": "E0_total",
         "rawType": "float64",
         "type": "float"
        },
        {
         "name": "E0_TS0",
         "rawType": "float64",
         "type": "float"
        },
        {
         "name": "delta_E0",
         "rawType": "float64",
         "type": "float"
        }
       ],
       "ref": "663af3b1-fbfc-44e2-b6d0-7f2f80d59936",
       "rows": [
        [
         "0",
         "rmg_rxn_10",
         "forward",
         "-1802085.0",
         "-1802060.0",
         "25.0"
        ],
        [
         "1",
         "rmg_rxn_10",
         "reverse",
         "-1802170.0",
         "-1802060.0",
         "110.0"
        ],
        [
         "2",
         "rmg_rxn_1041",
         "forward",
         "-1096169.0",
         "-1096190.0",
         "-21.0"
        ],
        [
         "3",
         "rmg_rxn_1041",
         "reverse",
         "-1096394.0",
         "-1096190.0",
         "204.0"
        ],
        [
         "4",
         "rmg_rxn_1044",
         "forward",
         "-1749798.0",
         "-1749810.0",
         "-12.0"
        ],
        [
         "5",
         "rmg_rxn_1044",
         "reverse",
         "-1750037.0",
         "-1749810.0",
         "227.0"
        ],
        [
         "6",
         "rmg_rxn_1046",
         "forward",
         "-837495.0",
         "-837507.0",
         "-12.0"
        ],
        [
         "7",
         "rmg_rxn_1046",
         "reverse",
         "-837743.0",
         "-837507.0",
         "236.0"
        ],
        [
         "8",
         "rmg_rxn_1054",
         "forward",
         "-1543558.0",
         "-1543510.0",
         "48.0"
        ],
        [
         "9",
         "rmg_rxn_1054",
         "reverse",
         "-1543747.0",
         "-1543510.0",
         "237.0"
        ],
        [
         "10",
         "rmg_rxn_1066",
         "forward",
         "-734478.0",
         "-734421.0",
         "57.0"
        ],
        [
         "11",
         "rmg_rxn_1066",
         "reverse",
         "-734586.0",
         "-734421.0",
         "165.0"
        ],
        [
         "12",
         "rmg_rxn_1067",
         "forward",
         "-901783.0",
         "-901805.0",
         "-22.0"
        ],
        [
         "13",
         "rmg_rxn_1067",
         "reverse",
         "-902039.0",
         "-901805.0",
         "234.0"
        ],
        [
         "14",
         "rmg_rxn_1069",
         "forward",
         "-901803.0",
         "-901819.0",
         "-16.0"
        ],
        [
         "15",
         "rmg_rxn_1069",
         "reverse",
         "-902026.0",
         "-901819.0",
         "207.0"
        ],
        [
         "16",
         "rmg_rxn_1129",
         "forward",
         "-642819.0",
         "-642810.0",
         "9.0"
        ],
        [
         "17",
         "rmg_rxn_1129",
         "reverse",
         "-642967.0",
         "-642810.0",
         "157.0"
        ],
        [
         "18",
         "rmg_rxn_1130",
         "forward",
         "-197099.0",
         null,
         null
        ],
        [
         "19",
         "rmg_rxn_1130",
         "reverse",
         "-606461.0",
         null,
         null
        ],
        [
         "20",
         "rmg_rxn_1134",
         "forward",
         "-509659.0",
         "-509647.0",
         "12.0"
        ],
        [
         "21",
         "rmg_rxn_1134",
         "reverse",
         "-509664.0",
         "-509647.0",
         "17.0"
        ],
        [
         "22",
         "rmg_rxn_1137",
         "forward",
         "-746038.0",
         "-745995.0",
         "43.0"
        ],
        [
         "23",
         "rmg_rxn_1137",
         "reverse",
         "-746132.0",
         "-745995.0",
         "137.0"
        ],
        [
         "24",
         "rmg_rxn_1141",
         "forward",
         "-810263.0",
         "-810270.0",
         "-7.0"
        ],
        [
         "25",
         "rmg_rxn_1141",
         "reverse",
         "-810295.0",
         "-810270.0",
         "25.0"
        ],
        [
         "26",
         "rmg_rxn_1142",
         "forward",
         "-612810.0",
         "-612799.0",
         "11.0"
        ],
        [
         "27",
         "rmg_rxn_1142",
         "reverse",
         "-612816.0",
         "-612799.0",
         "17.0"
        ],
        [
         "28",
         "rmg_rxn_1146",
         "forward",
         "-1245689.0",
         "-1245690.0",
         "-1.0"
        ],
        [
         "29",
         "rmg_rxn_1146",
         "reverse",
         "-1245736.0",
         "-1245690.0",
         "46.0"
        ],
        [
         "30",
         "rmg_rxn_1147",
         "forward",
         "-545535.0",
         "-545506.0",
         "29.0"
        ],
        [
         "31",
         "rmg_rxn_1147",
         "reverse",
         "-545565.0",
         "-545506.0",
         "59.0"
        ],
        [
         "32",
         "rmg_rxn_1148",
         "forward",
         "-788122.0",
         "-788087.0",
         "35.0"
        ],
        [
         "33",
         "rmg_rxn_1148",
         "reverse",
         "-788137.0",
         "-788087.0",
         "50.0"
        ],
        [
         "34",
         "rmg_rxn_1150",
         "forward",
         "-788122.0",
         "-788108.0",
         "14.0"
        ],
        [
         "35",
         "rmg_rxn_1150",
         "reverse",
         "-788152.0",
         "-788108.0",
         "44.0"
        ],
        [
         "36",
         "rmg_rxn_1152",
         "forward",
         "-913427.0",
         "-913409.0",
         "18.0"
        ],
        [
         "37",
         "rmg_rxn_1152",
         "reverse",
         "-913427.0",
         "-913409.0",
         "18.0"
        ],
        [
         "38",
         "rmg_rxn_1153",
         "forward",
         "-603992.0",
         "-603980.0",
         "12.0"
        ],
        [
         "39",
         "rmg_rxn_1153",
         "reverse",
         "-603993.0",
         "-603980.0",
         "13.0"
        ],
        [
         "40",
         "rmg_rxn_1154",
         "forward",
         "-745977.0",
         "-745956.0",
         "21.0"
        ],
        [
         "41",
         "rmg_rxn_1154",
         "reverse",
         "-745985.0",
         "-745956.0",
         "29.0"
        ],
        [
         "42",
         "rmg_rxn_1155",
         "forward",
         "-1004635.0",
         "-1004620.0",
         "15.0"
        ],
        [
         "43",
         "rmg_rxn_1155",
         "reverse",
         "-1004642.0",
         "-1004620.0",
         "22.0"
        ],
        [
         "44",
         "rmg_rxn_1156",
         "forward",
         "-913427.0",
         "-913419.0",
         "8.0"
        ],
        [
         "45",
         "rmg_rxn_1156",
         "reverse",
         "-913443.0",
         "-913419.0",
         "24.0"
        ],
        [
         "46",
         "rmg_rxn_1157",
         "forward",
         "-913427.0",
         "-913418.0",
         "9.0"
        ],
        [
         "47",
         "rmg_rxn_1157",
         "reverse",
         "-913431.0",
         "-913418.0",
         "13.0"
        ],
        [
         "48",
         "rmg_rxn_1160",
         "forward",
         "-810276.0",
         "-810260.0",
         "16.0"
        ],
        [
         "49",
         "rmg_rxn_1160",
         "reverse",
         "-810275.0",
         "-810260.0",
         "15.0"
        ]
       ],
       "shape": {
        "columns": 5,
        "rows": 4293
       }
      },
      "text/html": [
       "<div>\n",
       "<style scoped>\n",
       "    .dataframe tbody tr th:only-of-type {\n",
       "        vertical-align: middle;\n",
       "    }\n",
       "\n",
       "    .dataframe tbody tr th {\n",
       "        vertical-align: top;\n",
       "    }\n",
       "\n",
       "    .dataframe thead th {\n",
       "        text-align: right;\n",
       "    }\n",
       "</style>\n",
       "<table border=\"1\" class=\"dataframe\">\n",
       "  <thead>\n",
       "    <tr style=\"text-align: right;\">\n",
       "      <th></th>\n",
       "      <th>rxn</th>\n",
       "      <th>direction</th>\n",
       "      <th>E0_total</th>\n",
       "      <th>E0_TS0</th>\n",
       "      <th>delta_E0</th>\n",
       "    </tr>\n",
       "  </thead>\n",
       "  <tbody>\n",
       "    <tr>\n",
       "      <th>0</th>\n",
       "      <td>rmg_rxn_10</td>\n",
       "      <td>forward</td>\n",
       "      <td>-1.80208e+06</td>\n",
       "      <td>-1.80206e+06</td>\n",
       "      <td>2.50000e+01</td>\n",
       "    </tr>\n",
       "    <tr>\n",
       "      <th>1</th>\n",
       "      <td>rmg_rxn_10</td>\n",
       "      <td>reverse</td>\n",
       "      <td>-1.80217e+06</td>\n",
       "      <td>-1.80206e+06</td>\n",
       "      <td>1.10000e+02</td>\n",
       "    </tr>\n",
       "    <tr>\n",
       "      <th>2</th>\n",
       "      <td>rmg_rxn_1041</td>\n",
       "      <td>forward</td>\n",
       "      <td>-1.09617e+06</td>\n",
       "      <td>-1.09619e+06</td>\n",
       "      <td>-2.10000e+01</td>\n",
       "    </tr>\n",
       "    <tr>\n",
       "      <th>3</th>\n",
       "      <td>rmg_rxn_1041</td>\n",
       "      <td>reverse</td>\n",
       "      <td>-1.09639e+06</td>\n",
       "      <td>-1.09619e+06</td>\n",
       "      <td>2.04000e+02</td>\n",
       "    </tr>\n",
       "    <tr>\n",
       "      <th>4</th>\n",
       "      <td>rmg_rxn_1044</td>\n",
       "      <td>forward</td>\n",
       "      <td>-1.74980e+06</td>\n",
       "      <td>-1.74981e+06</td>\n",
       "      <td>-1.20000e+01</td>\n",
       "    </tr>\n",
       "    <tr>\n",
       "      <th>...</th>\n",
       "      <td>...</td>\n",
       "      <td>...</td>\n",
       "      <td>...</td>\n",
       "      <td>...</td>\n",
       "      <td>...</td>\n",
       "    </tr>\n",
       "    <tr>\n",
       "      <th>4288</th>\n",
       "      <td>rxn_997</td>\n",
       "      <td>reverse</td>\n",
       "      <td>-5.17101e+05</td>\n",
       "      <td>-5.17004e+05</td>\n",
       "      <td>9.70000e+01</td>\n",
       "    </tr>\n",
       "    <tr>\n",
       "      <th>4289</th>\n",
       "      <td>rxn_998</td>\n",
       "      <td>forward</td>\n",
       "      <td>-6.20207e+05</td>\n",
       "      <td>-6.20167e+05</td>\n",
       "      <td>4.00000e+01</td>\n",
       "    </tr>\n",
       "    <tr>\n",
       "      <th>4290</th>\n",
       "      <td>rxn_998</td>\n",
       "      <td>reverse</td>\n",
       "      <td>-6.20251e+05</td>\n",
       "      <td>-6.20167e+05</td>\n",
       "      <td>8.40000e+01</td>\n",
       "    </tr>\n",
       "    <tr>\n",
       "      <th>4291</th>\n",
       "      <td>rxn_999</td>\n",
       "      <td>forward</td>\n",
       "      <td>-7.23373e+05</td>\n",
       "      <td>-7.23334e+05</td>\n",
       "      <td>3.90000e+01</td>\n",
       "    </tr>\n",
       "    <tr>\n",
       "      <th>4292</th>\n",
       "      <td>rxn_999</td>\n",
       "      <td>reverse</td>\n",
       "      <td>-7.23407e+05</td>\n",
       "      <td>-7.23334e+05</td>\n",
       "      <td>7.30000e+01</td>\n",
       "    </tr>\n",
       "  </tbody>\n",
       "</table>\n",
       "<p>4293 rows × 5 columns</p>\n",
       "</div>"
      ],
      "text/plain": [
       "               rxn direction     E0_total       E0_TS0     delta_E0\n",
       "0       rmg_rxn_10   forward -1.80208e+06 -1.80206e+06  2.50000e+01\n",
       "1       rmg_rxn_10   reverse -1.80217e+06 -1.80206e+06  1.10000e+02\n",
       "2     rmg_rxn_1041   forward -1.09617e+06 -1.09619e+06 -2.10000e+01\n",
       "3     rmg_rxn_1041   reverse -1.09639e+06 -1.09619e+06  2.04000e+02\n",
       "4     rmg_rxn_1044   forward -1.74980e+06 -1.74981e+06 -1.20000e+01\n",
       "...            ...       ...          ...          ...          ...\n",
       "4288       rxn_997   reverse -5.17101e+05 -5.17004e+05  9.70000e+01\n",
       "4289       rxn_998   forward -6.20207e+05 -6.20167e+05  4.00000e+01\n",
       "4290       rxn_998   reverse -6.20251e+05 -6.20167e+05  8.40000e+01\n",
       "4291       rxn_999   forward -7.23373e+05 -7.23334e+05  3.90000e+01\n",
       "4292       rxn_999   reverse -7.23407e+05 -7.23334e+05  7.30000e+01\n",
       "\n",
       "[4293 rows x 5 columns]"
      ]
     },
     "execution_count": 155,
     "metadata": {},
     "output_type": "execute_result"
    }
   ],
   "source": [
    "df_merged"
   ]
  },
  {
   "cell_type": "code",
   "execution_count": 156,
   "id": "1dd39fee",
   "metadata": {},
   "outputs": [
    {
     "data": {
      "application/vnd.microsoft.datawrangler.viewer.v0+json": {
       "columns": [
        {
         "name": "index",
         "rawType": "int64",
         "type": "integer"
        },
        {
         "name": "rxn",
         "rawType": "object",
         "type": "string"
        },
        {
         "name": "direction",
         "rawType": "object",
         "type": "string"
        },
        {
         "name": "E0_total",
         "rawType": "float64",
         "type": "float"
        },
        {
         "name": "E0_TS0",
         "rawType": "float64",
         "type": "float"
        },
        {
         "name": "delta_E0",
         "rawType": "float64",
         "type": "float"
        }
       ],
       "ref": "d7678e6c-f9ad-43fc-919f-f04c10c3a66c",
       "rows": [],
       "shape": {
        "columns": 5,
        "rows": 0
       }
      },
      "text/html": [
       "<div>\n",
       "<style scoped>\n",
       "    .dataframe tbody tr th:only-of-type {\n",
       "        vertical-align: middle;\n",
       "    }\n",
       "\n",
       "    .dataframe tbody tr th {\n",
       "        vertical-align: top;\n",
       "    }\n",
       "\n",
       "    .dataframe thead th {\n",
       "        text-align: right;\n",
       "    }\n",
       "</style>\n",
       "<table border=\"1\" class=\"dataframe\">\n",
       "  <thead>\n",
       "    <tr style=\"text-align: right;\">\n",
       "      <th></th>\n",
       "      <th>rxn</th>\n",
       "      <th>direction</th>\n",
       "      <th>E0_total</th>\n",
       "      <th>E0_TS0</th>\n",
       "      <th>delta_E0</th>\n",
       "    </tr>\n",
       "  </thead>\n",
       "  <tbody>\n",
       "  </tbody>\n",
       "</table>\n",
       "</div>"
      ],
      "text/plain": [
       "Empty DataFrame\n",
       "Columns: [rxn, direction, E0_total, E0_TS0, delta_E0]\n",
       "Index: []"
      ]
     },
     "execution_count": 156,
     "metadata": {},
     "output_type": "execute_result"
    }
   ],
   "source": [
    "df_merged[df_merged['rxn'] == 'rmg_rxn_20 ']"
   ]
  },
  {
   "cell_type": "code",
   "execution_count": 157,
   "id": "f86e18cb",
   "metadata": {},
   "outputs": [
    {
     "data": {
      "text/plain": [
       "np.float64(-1807840.0)"
      ]
     },
     "execution_count": 157,
     "metadata": {},
     "output_type": "execute_result"
    }
   ],
   "source": [
    "df_expanded[df_expanded['rxn'] == 'rmg_rxn_96']['E0'][4]"
   ]
  },
  {
   "cell_type": "code",
   "execution_count": null,
   "id": "77e92817",
   "metadata": {},
   "outputs": [],
   "source": []
  },
  {
   "cell_type": "code",
   "execution_count": null,
   "id": "83bd6d8a",
   "metadata": {},
   "outputs": [],
   "source": []
  }
 ],
 "metadata": {
  "kernelspec": {
   "display_name": "dmpnn_rocm",
   "language": "python",
   "name": "python3"
  },
  "language_info": {
   "codemirror_mode": {
    "name": "ipython",
    "version": 3
   },
   "file_extension": ".py",
   "mimetype": "text/x-python",
   "name": "python",
   "nbconvert_exporter": "python",
   "pygments_lexer": "ipython3",
   "version": "3.10.16"
  }
 },
 "nbformat": 4,
 "nbformat_minor": 5
}
