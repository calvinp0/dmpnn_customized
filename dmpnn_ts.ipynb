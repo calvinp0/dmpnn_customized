{
 "cells": [
  {
   "cell_type": "code",
   "execution_count": 1,
   "id": "47472d5b",
   "metadata": {},
   "outputs": [],
   "source": [
    "from pathlib import Path\n",
    "\n",
    "from lightning import pytorch as pl\n",
    "from lightning.pytorch.callbacks import ModelCheckpoint\n",
    "import pandas as pd\n",
    "\n",
    "from chemprop import data, featurizers, models, nn\n",
    "\n"
   ]
  },
  {
   "cell_type": "code",
   "execution_count": 2,
   "id": "70acb04d",
   "metadata": {},
   "outputs": [
    {
     "name": "stderr",
     "output_type": "stream",
     "text": [
      "[17:06:33] WARNING: not removing hydrogen atom without neighbors\n",
      "[17:06:33] WARNING: not removing hydrogen atom without neighbors\n",
      "[17:06:33] WARNING: not removing hydrogen atom without neighbors\n",
      "[17:06:33] WARNING: not removing hydrogen atom without neighbors\n",
      "[17:06:33] WARNING: not removing hydrogen atom without neighbors\n",
      "[17:06:33] WARNING: not removing hydrogen atom without neighbors\n",
      "[17:06:33] WARNING: not removing hydrogen atom without neighbors\n",
      "[17:06:33] WARNING: not removing hydrogen atom without neighbors\n",
      "[17:06:33] WARNING: not removing hydrogen atom without neighbors\n"
     ]
    },
    {
     "name": "stdout",
     "output_type": "stream",
     "text": [
      "Skipping /home/calvin/code/chemprop_original/DATA/sdf_data/rxn_191.sdf because no target data found.\n",
      "Skipping /home/calvin/code/chemprop_original/DATA/sdf_data/rmg_rxn_16785.sdf because no target data found.\n",
      "Skipping /home/calvin/code/chemprop_original/DATA/sdf_data/rxn_1169.sdf because no target data found.\n",
      "Skipping /home/calvin/code/chemprop_original/DATA/sdf_data/rxn_144.sdf because no target data found.\n",
      "Skipping /home/calvin/code/chemprop_original/DATA/sdf_data/rmg_rxn_16786.sdf because no target data found.\n",
      "Skipping /home/calvin/code/chemprop_original/DATA/sdf_data/rxn_1257.sdf because no target data found.\n",
      "Skipping /home/calvin/code/chemprop_original/DATA/sdf_data/rmg_rxn_1155.sdf because no target data found.\n",
      "Skipping /home/calvin/code/chemprop_original/DATA/sdf_data/rmg_rxn_1160.sdf because no target data found.\n",
      "Skipping /home/calvin/code/chemprop_original/DATA/sdf_data/rxn_798.sdf because no target data found.\n",
      "Skipping /home/calvin/code/chemprop_original/DATA/sdf_data/rxn_682.sdf because no target data found.\n",
      "Skipping /home/calvin/code/chemprop_original/DATA/sdf_data/rxn_30.sdf because no target data found.\n",
      "Skipping /home/calvin/code/chemprop_original/DATA/sdf_data/rxn_795.sdf because no target data found.\n",
      "Skipping /home/calvin/code/chemprop_original/DATA/sdf_data/rxn_111.sdf because no target data found.\n"
     ]
    },
    {
     "name": "stderr",
     "output_type": "stream",
     "text": [
      "[17:06:33] WARNING: not removing hydrogen atom without neighbors\n",
      "[17:06:34] WARNING: not removing hydrogen atom without neighbors\n",
      "[17:06:34] WARNING: not removing hydrogen atom without neighbors\n",
      "[17:06:34] WARNING: not removing hydrogen atom without neighbors\n",
      "[17:06:34] WARNING: not removing hydrogen atom without neighbors\n",
      "[17:06:34] WARNING: not removing hydrogen atom without neighbors\n",
      "[17:06:34] WARNING: not removing hydrogen atom without neighbors\n",
      "[17:06:34] WARNING: not removing hydrogen atom without neighbors\n",
      "[17:06:34] WARNING: not removing hydrogen atom without neighbors\n"
     ]
    },
    {
     "name": "stdout",
     "output_type": "stream",
     "text": [
      "Skipping /home/calvin/code/chemprop_original/DATA/sdf_data/rxn_635.sdf because no target data found.\n",
      "Skipping /home/calvin/code/chemprop_original/DATA/sdf_data/rxn_824.sdf because no target data found.\n",
      "Skipping /home/calvin/code/chemprop_original/DATA/sdf_data/rxn_182.sdf because no target data found.\n",
      "Skipping /home/calvin/code/chemprop_original/DATA/sdf_data/rxn_89.sdf because no target data found.\n",
      "Skipping /home/calvin/code/chemprop_original/DATA/sdf_data/rxn_127.sdf because no target data found.\n",
      "Skipping /home/calvin/code/chemprop_original/DATA/sdf_data/rxn_286.sdf because no target data found.\n",
      "Skipping /home/calvin/code/chemprop_original/DATA/sdf_data/rxn_262.sdf because no target data found.\n",
      "Skipping /home/calvin/code/chemprop_original/DATA/sdf_data/rxn_792.sdf because no target data found.\n",
      "Skipping /home/calvin/code/chemprop_original/DATA/sdf_data/rxn_909.sdf because no target data found.\n"
     ]
    },
    {
     "name": "stderr",
     "output_type": "stream",
     "text": [
      "[17:06:34] WARNING: not removing hydrogen atom without neighbors\n",
      "[17:06:34] WARNING: not removing hydrogen atom without neighbors\n",
      "[17:06:34] WARNING: not removing hydrogen atom without neighbors\n",
      "[17:06:34] WARNING: not removing hydrogen atom without neighbors\n",
      "[17:06:34] WARNING: not removing hydrogen atom without neighbors\n"
     ]
    },
    {
     "name": "stdout",
     "output_type": "stream",
     "text": [
      "Skipping /home/calvin/code/chemprop_original/DATA/sdf_data/rxn_791.sdf because no target data found.\n",
      "Skipping /home/calvin/code/chemprop_original/DATA/sdf_data/rxn_1433.sdf because no target data found.\n",
      "Skipping /home/calvin/code/chemprop_original/DATA/sdf_data/rxn_697.sdf because no target data found.\n",
      "Skipping /home/calvin/code/chemprop_original/DATA/sdf_data/rxn_342.sdf because no target data found.\n",
      "Skipping /home/calvin/code/chemprop_original/DATA/sdf_data/rxn_113.sdf because no target data found.\n",
      "Skipping /home/calvin/code/chemprop_original/DATA/sdf_data/rmg_rxn_1129.sdf because no target data found.\n",
      "Skipping /home/calvin/code/chemprop_original/DATA/sdf_data/rxn_816.sdf because no target data found.\n",
      "Skipping /home/calvin/code/chemprop_original/DATA/sdf_data/rxn_1950.sdf because no target data found.\n",
      "Skipping /home/calvin/code/chemprop_original/DATA/sdf_data/rmg_rxn_15440.sdf because no target data found.\n"
     ]
    },
    {
     "name": "stderr",
     "output_type": "stream",
     "text": [
      "[17:06:34] WARNING: not removing hydrogen atom without neighbors\n",
      "[17:06:34] WARNING: not removing hydrogen atom without neighbors\n",
      "[17:06:34] WARNING: not removing hydrogen atom without neighbors\n",
      "[17:06:34] WARNING: not removing hydrogen atom without neighbors\n",
      "[17:06:34] WARNING: not removing hydrogen atom without neighbors\n",
      "[17:06:34] WARNING: not removing hydrogen atom without neighbors\n",
      "[17:06:34] WARNING: not removing hydrogen atom without neighbors\n",
      "[17:06:34] WARNING: not removing hydrogen atom without neighbors\n",
      "[17:06:34] WARNING: not removing hydrogen atom without neighbors\n",
      "[17:06:34] WARNING: not removing hydrogen atom without neighbors\n"
     ]
    },
    {
     "name": "stdout",
     "output_type": "stream",
     "text": [
      "Skipping /home/calvin/code/chemprop_original/DATA/sdf_data/rxn_210.sdf because no target data found.\n",
      "Skipping /home/calvin/code/chemprop_original/DATA/sdf_data/rxn_733.sdf because no target data found.\n",
      "Skipping /home/calvin/code/chemprop_original/DATA/sdf_data/rxn_275.sdf because no target data found.\n",
      "Skipping /home/calvin/code/chemprop_original/DATA/sdf_data/rxn_131.sdf because no target data found.\n",
      "Skipping /home/calvin/code/chemprop_original/DATA/sdf_data/rxn_223.sdf because no target data found.\n",
      "Skipping /home/calvin/code/chemprop_original/DATA/sdf_data/rxn_656.sdf because no target data found.\n",
      "Skipping /home/calvin/code/chemprop_original/DATA/sdf_data/rmg_rxn_1147.sdf because no target data found.\n",
      "Skipping /home/calvin/code/chemprop_original/DATA/sdf_data/rmg_rxn_1154.sdf because no target data found.\n",
      "Skipping /home/calvin/code/chemprop_original/DATA/sdf_data/rxn_818.sdf because no target data found.\n",
      "Skipping /home/calvin/code/chemprop_original/DATA/sdf_data/rxn_807.sdf because no target data found.\n",
      "Skipping /home/calvin/code/chemprop_original/DATA/sdf_data/rxn_797.sdf because no target data found.\n",
      "Skipping /home/calvin/code/chemprop_original/DATA/sdf_data/rxn_345.sdf because no target data found.\n",
      "Skipping /home/calvin/code/chemprop_original/DATA/sdf_data/rxn_90.sdf because no target data found.\n",
      "Skipping /home/calvin/code/chemprop_original/DATA/sdf_data/rxn_80.sdf because no target data found.\n",
      "Skipping /home/calvin/code/chemprop_original/DATA/sdf_data/rxn_72.sdf because no target data found.\n"
     ]
    },
    {
     "name": "stderr",
     "output_type": "stream",
     "text": [
      "[17:06:34] WARNING: not removing hydrogen atom without neighbors\n",
      "[17:06:34] WARNING: not removing hydrogen atom without neighbors\n",
      "[17:06:34] WARNING: not removing hydrogen atom without neighbors\n",
      "[17:06:34] WARNING: not removing hydrogen atom without neighbors\n",
      "[17:06:34] WARNING: not removing hydrogen atom without neighbors\n",
      "[17:06:34] WARNING: not removing hydrogen atom without neighbors\n",
      "[17:06:34] WARNING: not removing hydrogen atom without neighbors\n",
      "[17:06:34] WARNING: not removing hydrogen atom without neighbors\n",
      "[17:06:34] WARNING: not removing hydrogen atom without neighbors\n",
      "[17:06:34] WARNING: not removing hydrogen atom without neighbors\n",
      "[17:06:34] WARNING: not removing hydrogen atom without neighbors\n"
     ]
    },
    {
     "name": "stdout",
     "output_type": "stream",
     "text": [
      "Skipping /home/calvin/code/chemprop_original/DATA/sdf_data/rxn_285.sdf because no target data found.\n",
      "Skipping /home/calvin/code/chemprop_original/DATA/sdf_data/rxn_1842.sdf because no target data found.\n",
      "Skipping /home/calvin/code/chemprop_original/DATA/sdf_data/rxn_112.sdf because no target data found.\n",
      "Skipping /home/calvin/code/chemprop_original/DATA/sdf_data/rxn_1797.sdf because no target data found.\n",
      "Skipping /home/calvin/code/chemprop_original/DATA/sdf_data/rmg_rxn_1161.sdf because no target data found.\n",
      "Skipping /home/calvin/code/chemprop_original/DATA/sdf_data/rxn_288.sdf because no target data found.\n",
      "Skipping /home/calvin/code/chemprop_original/DATA/sdf_data/rxn_753.sdf because no target data found.\n",
      "Skipping /home/calvin/code/chemprop_original/DATA/sdf_data/rxn_790.sdf because no target data found.\n",
      "Skipping /home/calvin/code/chemprop_original/DATA/sdf_data/rmg_rxn_1157.sdf because no target data found.\n",
      "Skipping /home/calvin/code/chemprop_original/DATA/sdf_data/rxn_672.sdf because no target data found.\n",
      "Skipping /home/calvin/code/chemprop_original/DATA/sdf_data/rxn_1301.sdf because no target data found.\n",
      "Skipping /home/calvin/code/chemprop_original/DATA/sdf_data/rxn_787.sdf because no target data found.\n",
      "Skipping /home/calvin/code/chemprop_original/DATA/sdf_data/rxn_426.sdf because no target data found.\n"
     ]
    },
    {
     "name": "stderr",
     "output_type": "stream",
     "text": [
      "[17:06:35] WARNING: not removing hydrogen atom without neighbors\n",
      "[17:06:35] WARNING: not removing hydrogen atom without neighbors\n",
      "[17:06:35] WARNING: not removing hydrogen atom without neighbors\n",
      "[17:06:35] WARNING: not removing hydrogen atom without neighbors\n",
      "[17:06:35] WARNING: not removing hydrogen atom without neighbors\n",
      "[17:06:35] WARNING: not removing hydrogen atom without neighbors\n"
     ]
    },
    {
     "name": "stdout",
     "output_type": "stream",
     "text": [
      "Skipping /home/calvin/code/chemprop_original/DATA/sdf_data/rxn_185.sdf because no target data found.\n",
      "Skipping /home/calvin/code/chemprop_original/DATA/sdf_data/rxn_690.sdf because no target data found.\n",
      "Skipping /home/calvin/code/chemprop_original/DATA/sdf_data/rxn_252.sdf because no target data found.\n",
      "Skipping /home/calvin/code/chemprop_original/DATA/sdf_data/rmg_rxn_1137.sdf because no target data found.\n",
      "Skipping /home/calvin/code/chemprop_original/DATA/sdf_data/rmg_rxn_15595.sdf because no target data found.\n",
      "Skipping /home/calvin/code/chemprop_original/DATA/sdf_data/rxn_1994.sdf because no target data found.\n",
      "Skipping /home/calvin/code/chemprop_original/DATA/sdf_data/rxn_70.sdf because no target data found.\n",
      "Skipping /home/calvin/code/chemprop_original/DATA/sdf_data/rmg_rxn_1142.sdf because no target data found.\n",
      "Skipping /home/calvin/code/chemprop_original/DATA/sdf_data/rmg_rxn_1152.sdf because no target data found.\n",
      "Skipping /home/calvin/code/chemprop_original/DATA/sdf_data/rmg_rxn_1163.sdf because no target data found.\n",
      "Skipping /home/calvin/code/chemprop_original/DATA/sdf_data/rxn_735.sdf because no target data found.\n",
      "Skipping /home/calvin/code/chemprop_original/DATA/sdf_data/rmg_rxn_15401.sdf because no target data found.\n",
      "Skipping /home/calvin/code/chemprop_original/DATA/sdf_data/rxn_623.sdf because no target data found.\n",
      "Skipping /home/calvin/code/chemprop_original/DATA/sdf_data/rxn_380.sdf because no target data found.\n",
      "Skipping /home/calvin/code/chemprop_original/DATA/sdf_data/rmg_rxn_1146.sdf because no target data found.\n",
      "Skipping /home/calvin/code/chemprop_original/DATA/sdf_data/rxn_183.sdf because no target data found.\n",
      "Skipping /home/calvin/code/chemprop_original/DATA/sdf_data/rxn_261.sdf because no target data found.\n"
     ]
    },
    {
     "name": "stderr",
     "output_type": "stream",
     "text": [
      "[17:06:35] WARNING: not removing hydrogen atom without neighbors\n",
      "[17:06:35] WARNING: not removing hydrogen atom without neighbors\n",
      "[17:06:35] WARNING: not removing hydrogen atom without neighbors\n",
      "[17:06:35] WARNING: not removing hydrogen atom without neighbors\n",
      "[17:06:35] WARNING: not removing hydrogen atom without neighbors\n",
      "[17:06:35] WARNING: not removing hydrogen atom without neighbors\n",
      "[17:06:35] WARNING: not removing hydrogen atom without neighbors\n",
      "[17:06:35] WARNING: not removing hydrogen atom without neighbors\n",
      "[17:06:35] WARNING: not removing hydrogen atom without neighbors\n",
      "[17:06:35] WARNING: not removing hydrogen atom without neighbors\n",
      "[17:06:35] WARNING: not removing hydrogen atom without neighbors\n",
      "[17:06:35] WARNING: not removing hydrogen atom without neighbors\n",
      "[17:06:35] WARNING: not removing hydrogen atom without neighbors\n",
      "[17:06:35] WARNING: not removing hydrogen atom without neighbors\n",
      "[17:06:35] WARNING: not removing hydrogen atom without neighbors\n"
     ]
    },
    {
     "name": "stdout",
     "output_type": "stream",
     "text": [
      "Skipping /home/calvin/code/chemprop_original/DATA/sdf_data/rxn_247.sdf because no target data found.\n",
      "Skipping /home/calvin/code/chemprop_original/DATA/sdf_data/rxn_825.sdf because no target data found.\n",
      "Skipping /home/calvin/code/chemprop_original/DATA/sdf_data/rxn_796.sdf because no target data found.\n",
      "Skipping /home/calvin/code/chemprop_original/DATA/sdf_data/rxn_254.sdf because no target data found.\n",
      "Skipping /home/calvin/code/chemprop_original/DATA/sdf_data/rxn_801.sdf because no target data found.\n",
      "Skipping /home/calvin/code/chemprop_original/DATA/sdf_data/rxn_146.sdf because no target data found.\n",
      "Skipping /home/calvin/code/chemprop_original/DATA/sdf_data/rxn_310.sdf because no target data found.\n",
      "Skipping /home/calvin/code/chemprop_original/DATA/sdf_data/rxn_264.sdf because no target data found.\n",
      "Skipping /home/calvin/code/chemprop_original/DATA/sdf_data/rxn_235.sdf because no target data found.\n",
      "Skipping /home/calvin/code/chemprop_original/DATA/sdf_data/rxn_248.sdf because no target data found.\n",
      "Skipping /home/calvin/code/chemprop_original/DATA/sdf_data/rxn_1213.sdf because no target data found.\n",
      "Skipping /home/calvin/code/chemprop_original/DATA/sdf_data/rmg_rxn_1153.sdf because no target data found.\n",
      "Skipping /home/calvin/code/chemprop_original/DATA/sdf_data/rxn_1477.sdf because no target data found.\n",
      "Skipping /home/calvin/code/chemprop_original/DATA/sdf_data/rxn_624.sdf because no target data found.\n",
      "Skipping /home/calvin/code/chemprop_original/DATA/sdf_data/rxn_168.sdf because no target data found.\n",
      "Skipping /home/calvin/code/chemprop_original/DATA/sdf_data/rxn_126.sdf because no target data found.\n",
      "Skipping /home/calvin/code/chemprop_original/DATA/sdf_data/rxn_170.sdf because no target data found.\n",
      "Skipping /home/calvin/code/chemprop_original/DATA/sdf_data/rxn_184.sdf because no target data found.\n",
      "Skipping /home/calvin/code/chemprop_original/DATA/sdf_data/rxn_806.sdf because no target data found.\n",
      "Skipping /home/calvin/code/chemprop_original/DATA/sdf_data/rxn_1125.sdf because no target data found.\n",
      "Skipping /home/calvin/code/chemprop_original/DATA/sdf_data/rxn_766.sdf because no target data found.\n",
      "Skipping /home/calvin/code/chemprop_original/DATA/sdf_data/rxn_625.sdf because no target data found.\n",
      "Skipping /home/calvin/code/chemprop_original/DATA/sdf_data/rxn_1389.sdf because no target data found.\n",
      "Skipping /home/calvin/code/chemprop_original/DATA/sdf_data/rxn_192.sdf because no target data found.\n",
      "Skipping /home/calvin/code/chemprop_original/DATA/sdf_data/rxn_731.sdf because no target data found.\n",
      "Skipping /home/calvin/code/chemprop_original/DATA/sdf_data/rmg_rxn_1141.sdf because no target data found.\n",
      "Skipping /home/calvin/code/chemprop_original/DATA/sdf_data/rxn_732.sdf because no target data found.\n"
     ]
    },
    {
     "name": "stderr",
     "output_type": "stream",
     "text": [
      "[17:06:35] WARNING: not removing hydrogen atom without neighbors\n",
      "[17:06:35] WARNING: not removing hydrogen atom without neighbors\n",
      "[17:06:35] WARNING: not removing hydrogen atom without neighbors\n",
      "[17:06:35] WARNING: not removing hydrogen atom without neighbors\n",
      "[17:06:35] WARNING: not removing hydrogen atom without neighbors\n",
      "[17:06:35] WARNING: not removing hydrogen atom without neighbors\n",
      "[17:06:35] WARNING: not removing hydrogen atom without neighbors\n",
      "[17:06:35] WARNING: not removing hydrogen atom without neighbors\n",
      "[17:06:35] WARNING: not removing hydrogen atom without neighbors\n",
      "[17:06:35] WARNING: not removing hydrogen atom without neighbors\n",
      "[17:06:35] WARNING: not removing hydrogen atom without neighbors\n",
      "[17:06:35] WARNING: not removing hydrogen atom without neighbors\n",
      "[17:06:35] WARNING: not removing hydrogen atom without neighbors\n",
      "[17:06:36] WARNING: not removing hydrogen atom without neighbors\n",
      "[17:06:36] WARNING: not removing hydrogen atom without neighbors\n",
      "[17:06:36] WARNING: not removing hydrogen atom without neighbors\n",
      "[17:06:36] WARNING: not removing hydrogen atom without neighbors\n"
     ]
    },
    {
     "name": "stdout",
     "output_type": "stream",
     "text": [
      "Skipping /home/calvin/code/chemprop_original/DATA/sdf_data/rxn_793.sdf because no target data found.\n",
      "Skipping /home/calvin/code/chemprop_original/DATA/sdf_data/rxn_372.sdf because no target data found.\n",
      "Skipping /home/calvin/code/chemprop_original/DATA/sdf_data/rxn_785.sdf because no target data found.\n",
      "Skipping /home/calvin/code/chemprop_original/DATA/sdf_data/rxn_250.sdf because no target data found.\n",
      "Skipping /home/calvin/code/chemprop_original/DATA/sdf_data/rxn_799.sdf because no target data found.\n",
      "Skipping /home/calvin/code/chemprop_original/DATA/sdf_data/rxn_667.sdf because no target data found.\n",
      "Skipping /home/calvin/code/chemprop_original/DATA/sdf_data/rxn_701.sdf because no target data found.\n",
      "Skipping /home/calvin/code/chemprop_original/DATA/sdf_data/rxn_266.sdf because no target data found.\n",
      "Skipping /home/calvin/code/chemprop_original/DATA/sdf_data/rxn_265.sdf because no target data found.\n",
      "Skipping /home/calvin/code/chemprop_original/DATA/sdf_data/rxn_467.sdf because no target data found.\n",
      "Skipping /home/calvin/code/chemprop_original/DATA/sdf_data/rxn_490.sdf because no target data found.\n"
     ]
    },
    {
     "name": "stderr",
     "output_type": "stream",
     "text": [
      "[17:06:36] WARNING: not removing hydrogen atom without neighbors\n",
      "[17:06:36] WARNING: not removing hydrogen atom without neighbors\n"
     ]
    }
   ],
   "source": [
    "sdf_path = Path(\"/home/calvin/code/chemprop_original/DATA/sdf_data\")\n",
    "sdf_files = list(sdf_path.glob(\"*.sdf\"))\n",
    "\n",
    "target_data = pd.read_csv(\"/home/calvin/code/chemprop_original/DATA/target_data/target_data_sin_cos.csv\")\n",
    "all_data = []\n",
    "for sdf_file in sdf_files:\n",
    "    from rdkit import Chem\n",
    "    from rdkit.Chem import PandasTools\n",
    "    sdf = PandasTools.LoadSDF(sdf_file)\n",
    "    y = target_data[target_data['rxn'] == sdf.iloc[0]['reaction']][['psi_1_dihedral_sin', 'psi_1_dihedral_cos']].values.squeeze()\n",
    "    if y is None:\n",
    "        print(f\"Skipping {sdf_file} because no target data found.\")\n",
    "        continue\n",
    "    if y.shape[0] == 0:\n",
    "        print(f\"Skipping {sdf_file} because no target data found.\")\n",
    "        continue\n",
    "    data_mol = data.MoleculeDatapoint.from_sdf(sdf_file,keep_h=True, mol_type='ts', sanitize=True, y=y)\n",
    "    all_data.append(data_mol)\n",
    "    \n"
   ]
  },
  {
   "cell_type": "code",
   "execution_count": null,
   "id": "8dfb39b7",
   "metadata": {},
   "outputs": [],
   "source": []
  },
  {
   "cell_type": "code",
   "execution_count": 3,
   "id": "bee0889c",
   "metadata": {},
   "outputs": [
    {
     "data": {
      "text/plain": [
       "['SCAFFOLD_BALANCED',\n",
       " 'RANDOM_WITH_REPEATED_SMILES',\n",
       " 'RANDOM',\n",
       " 'KENNARD_STONE',\n",
       " 'KMEANS']"
      ]
     },
     "execution_count": 3,
     "metadata": {},
     "output_type": "execute_result"
    }
   ],
   "source": [
    "list(data.SplitType.keys())"
   ]
  },
  {
   "cell_type": "code",
   "execution_count": 4,
   "id": "466b3427",
   "metadata": {},
   "outputs": [
    {
     "name": "stderr",
     "output_type": "stream",
     "text": [
      "The return type of make_split_indices has changed in v2.1 - see help(make_split_indices)\n"
     ]
    }
   ],
   "source": [
    "mols = [d.mol for d in all_data]  # RDkit Mol objects are use for structure based splits\n",
    "train_indices, val_indices, test_indices = data.make_split_indices(mols, \"kennard_stone\", (0.8, 0.1, 0.1),\n",
    "                                                                   seed=42)  # unpack the tuple into three separate lists\n"
   ]
  },
  {
   "cell_type": "code",
   "execution_count": 5,
   "id": "0190efd2",
   "metadata": {},
   "outputs": [
    {
     "data": {
      "text/plain": [
       "(1356, 169, 171)"
      ]
     },
     "execution_count": 5,
     "metadata": {},
     "output_type": "execute_result"
    }
   ],
   "source": [
    "train_data, val_data, test_data = data.split_data_by_indices(\n",
    "    all_data, train_indices, val_indices, test_indices\n",
    ")\n",
    "\n",
    "len(train_data[0]), len(val_data[0]), len(test_data[0])  # 80, 10, 10\n"
   ]
  },
  {
   "cell_type": "code",
   "execution_count": 6,
   "id": "8534fa06",
   "metadata": {},
   "outputs": [],
   "source": [
    "featurizer = featurizers.SimpleMoleculeMolGraphFeaturizer()\n",
    "\n",
    "train_dset = data.MoleculeDataset(train_data[0], featurizer)\n",
    "\n",
    "\n",
    "val_dset = data.MoleculeDataset(val_data[0], featurizer)\n",
    "\n",
    "\n",
    "test_dset = data.MoleculeDataset(test_data[0], featurizer)"
   ]
  },
  {
   "cell_type": "code",
   "execution_count": 7,
   "id": "4702ada7",
   "metadata": {},
   "outputs": [
    {
     "data": {
      "text/plain": [
       "array([ 0.97520486, -0.22130405])"
      ]
     },
     "execution_count": 7,
     "metadata": {},
     "output_type": "execute_result"
    }
   ],
   "source": [
    "train_dset[0].y"
   ]
  },
  {
   "cell_type": "code",
   "execution_count": 8,
   "id": "42d47bab",
   "metadata": {},
   "outputs": [],
   "source": [
    "num_workers = 6\n",
    "train_loader = data.build_dataloader(train_dset, num_workers=8)\n",
    "val_loader = data.build_dataloader(val_dset, num_workers=num_workers, shuffle=False)\n",
    "test_loader = data.build_dataloader(test_dset, num_workers=num_workers, shuffle=False)"
   ]
  },
  {
   "cell_type": "code",
   "execution_count": 9,
   "id": "a5c581ed",
   "metadata": {},
   "outputs": [],
   "source": [
    "mp = nn.BondMessagePassing(depth=4, dropout=0.2)"
   ]
  },
  {
   "cell_type": "code",
   "execution_count": 10,
   "id": "c22345ca",
   "metadata": {},
   "outputs": [],
   "source": [
    "agg = nn.MeanAggregation()\n",
    "norm_agg = nn.NormAggregation()"
   ]
  },
  {
   "cell_type": "code",
   "execution_count": 11,
   "id": "d09f3e48",
   "metadata": {},
   "outputs": [],
   "source": [
    "import torch\n",
    "from torch import Tensor\n",
    "from chemprop.nn.predictors import RegressionFFN\n",
    "\n",
    "class PeriodicRegressionFFN(RegressionFFN):\n",
    "    \"\"\"\n",
    "    A RegressionFFN that predicts (sin θ, cos θ) for each task and\n",
    "    renormalizes to unit length.\n",
    "    \"\"\"\n",
    "    def __init__(\n",
    "        self,\n",
    "        input_dim: int = 300,\n",
    "        hidden_dim: int = 300,\n",
    "        n_layers: int = 1,\n",
    "        dropout: float = 0.0,\n",
    "        activation: str = \"relu\",\n",
    "        n_tasks: int = 1,\n",
    "        criterion=None,\n",
    "    ):\n",
    "\n",
    "        super().__init__(\n",
    "            input_dim=input_dim,\n",
    "            hidden_dim=hidden_dim,\n",
    "            n_layers=n_layers,\n",
    "            dropout=dropout,\n",
    "            activation=activation,\n",
    "            n_tasks=n_tasks,\n",
    "            criterion=criterion\n",
    "        )\n",
    "\n",
    "    def forward(self, x: Tensor) -> Tensor:\n",
    "        \"\"\"\n",
    "        x: (batch, input_dim)\n",
    "        returns: (batch, 2 * n_tasks) raw outputs,\n",
    "                 which we then reshape + normalize.\n",
    "        \"\"\"\n",
    "        raw = self.ffn(x)  # shape (batch, 2 * n_tasks)\n",
    "        \n",
    "        B, twoT = raw.shape\n",
    "        T = twoT // 2\n",
    "        \n",
    "        # reshape to (batch, T, 2)\n",
    "        vecs = raw.view(B, T, 2)\n",
    "        \n",
    "        # normalize each 2-vector to unit length\n",
    "        norms = torch.norm(vecs, dim=-1, keepdim=True).clamp(min=1e-6)\n",
    "        unit = vecs / norms\n",
    "        \n",
    "        # flatten back to (batch, 2*T)\n",
    "        return unit.view(B, 2 * T)\n",
    "    \n",
    "ffn = PeriodicRegressionFFN(\n",
    "    input_dim=mp.output_dim,\n",
    "    n_tasks=2,\n",
    "    dropout=0.2,\n",
    "    n_layers=3\n",
    ")"
   ]
  },
  {
   "cell_type": "code",
   "execution_count": 12,
   "id": "5f6199d8",
   "metadata": {},
   "outputs": [],
   "source": [
    "import torch\n",
    "import torch.nn.functional as F\n",
    "from chemprop.nn.metrics import ChempropMetric\n",
    "\n",
    "class CircVectorCosine(ChempropMetric):\n",
    "    r\"\"\"\n",
    "    Cosine‐based loss for 2-D circular vectors.\n",
    "    For each (sin,cos) pair it computes\n",
    "        loss = 1 - cosine_similarity(pred_vector, true_vector)\n",
    "    and then applies your usual masking & weighting.\n",
    "    \"\"\"\n",
    "    def __init__(self, task_weights=None):\n",
    "        super().__init__(task_weights=task_weights)\n",
    "\n",
    "    def _calc_unreduced_loss(self,\n",
    "                             preds: torch.Tensor,    # (B, out_dim)\n",
    "                             targets: torch.Tensor,  # (B, out_dim)\n",
    "                             mask: torch.Tensor,     # (B, out_dim)\n",
    "                             weights: torch.Tensor,  # (B,) or (B,2T) or (B,T)\n",
    "                             lt_mask: torch.Tensor,\n",
    "                             gt_mask: torch.Tensor\n",
    "                            ) -> torch.Tensor:\n",
    "        B, orig_dim = preds.shape\n",
    "\n",
    "        # how many full (sin,cos) pairs?\n",
    "        T = orig_dim // 2\n",
    "        slice_width = 2 * T\n",
    "\n",
    "        # slice everything down to exactly 2*T columns\n",
    "        preds   = preds[:,   :slice_width]\n",
    "        targets = targets[:, :slice_width]\n",
    "        mask    = mask[:,    :slice_width]\n",
    "\n",
    "        # now reshape safely (B, T, 2)\n",
    "        preds   = preds.view(B, T, 2)\n",
    "        targets = targets.view(B, T, 2)\n",
    "\n",
    "        # vector‐level mask: require both sin & cos valid\n",
    "        comp_mask = mask.view(B, T, 2).all(dim=-1)  # (B, T)\n",
    "\n",
    "        # ==== robust weight handling ====\n",
    "        w = weights\n",
    "        if w.ndim == 1 and w.numel() == B:\n",
    "            w = w.unsqueeze(1).expand(B, T)\n",
    "        elif w.ndim == 2 and w.numel() == B * T:\n",
    "            w = w.view(B, T)\n",
    "        elif w.ndim == 2 and w.numel() == B * slice_width:\n",
    "            w = w.view(B, T, 2).mean(dim=-1)\n",
    "        else:\n",
    "            w = torch.tensor(w.mean(), device=w.device).expand(B, T)\n",
    "        # =================================\n",
    "\n",
    "        # compute cosine similarity in [-1,1]\n",
    "        cos_sim = F.cosine_similarity(preds, targets, dim=-1)  # (B, T)\n",
    "\n",
    "        # loss = 1 - cosine_similarity\n",
    "        loss = (1.0 - cos_sim) * comp_mask * w  # (B, T)\n",
    "\n",
    "        return loss\n",
    "\n",
    "\n",
    "class CosineAngleMetric(ChempropMetric):\n",
    "    \"\"\"A metric reporting mean(1-cosine_similarity) across all (sample,task).\"\"\"\n",
    "    def __init__(self, task_weights=None):\n",
    "        super().__init__(task_weights=task_weights)\n",
    "\n",
    "    @property\n",
    "    def alias(self) -> str:\n",
    "        return \"mean_cosine_loss\"\n",
    "\n",
    "    def _calc_unreduced_loss(self,\n",
    "        preds: torch.Tensor,\n",
    "        targets: torch.Tensor,\n",
    "        mask: torch.Tensor,\n",
    "        weights: torch.Tensor,\n",
    "        lt_mask: torch.Tensor,\n",
    "        gt_mask: torch.Tensor\n",
    "    ) -> torch.Tensor:\n",
    "        # reuse exactly the same computation as CircVectorCosine\n",
    "        return CircVectorCosine._calc_unreduced_loss(\n",
    "            self, preds, targets, mask, weights, lt_mask, gt_mask\n",
    "        )\n",
    "\n",
    "class AngularErrorMetric(ChempropMetric):\n",
    "    \"\"\"Mean absolute angular error in degrees, reported over B·2T entries.\"\"\"\n",
    "    def __init__(self, task_weights=None, in_degrees: bool = True):\n",
    "        super().__init__(task_weights=task_weights)\n",
    "        self.in_degrees = in_degrees\n",
    "\n",
    "    @property\n",
    "    def alias(self) -> str:\n",
    "        return \"val_maae_deg\"\n",
    "\n",
    "    def _calc_unreduced_loss(\n",
    "        self,\n",
    "        preds: Tensor,    # (B, 2T)\n",
    "        targets: Tensor,  # (B, 2T)\n",
    "        mask: Tensor,     # (B, 2T)\n",
    "        weights: Tensor,  # (B,) or (B,T) or (B,2T)\n",
    "        lt_mask: Tensor,\n",
    "        gt_mask: Tensor\n",
    "    ) -> Tensor:\n",
    "        B, out_dim = preds.shape\n",
    "        T = out_dim // 2\n",
    "        slice_w = 2 * T\n",
    "\n",
    "        # trim & reshape\n",
    "        p = preds[:, :slice_w].view(B, T, 2)\n",
    "        t = targets[:, :slice_w].view(B, T, 2)\n",
    "        m = mask[:, :slice_w].view(B, T, 2)\n",
    "\n",
    "        # vector‐level validity mask\n",
    "        vec_mask = m.all(dim=-1)  # (B, T)\n",
    "\n",
    "        # angles, difference, wrap, abs\n",
    "        pred_ang = torch.atan2(p[...,0], p[...,1])\n",
    "        true_ang = torch.atan2(t[...,0], t[...,1])\n",
    "        diff = (pred_ang - true_ang + torch.pi) % (2*torch.pi) - torch.pi\n",
    "        err  = diff.abs()                 # (B, T)\n",
    "        if self.in_degrees:\n",
    "            err = err * 180.0 / torch.pi\n",
    "\n",
    "        # zero out invalid\n",
    "        err = err * vec_mask             # (B, T)\n",
    "\n",
    "        # now tile each error into both sin‐ and cos‐slots → (B,T,2)\n",
    "        err2 = err.unsqueeze(-1).expand(B, T, 2)\n",
    "        # flatten → (B, 2T)\n",
    "        return err2.reshape(B, slice_w)"
   ]
  },
  {
   "cell_type": "code",
   "execution_count": 13,
   "id": "04d799f4",
   "metadata": {},
   "outputs": [],
   "source": [
    "from chemprop.nn import metrics\n",
    "metric_list = [CosineAngleMetric(task_weights=[1.0, 1.0]), AngularErrorMetric(task_weights=[1.0, 1.0])] # Only the first metric is used for training and early stopping - can provide many though"
   ]
  },
  {
   "cell_type": "code",
   "execution_count": 14,
   "id": "467e7f2e",
   "metadata": {},
   "outputs": [],
   "source": [
    "batch_norm = False"
   ]
  },
  {
   "cell_type": "code",
   "execution_count": 15,
   "id": "99b34f38",
   "metadata": {},
   "outputs": [],
   "source": [
    "dmpnn = models.MPNN(\n",
    "    mp,\n",
    "    norm_agg,\n",
    "    ffn,\n",
    "    batch_norm,\n",
    "    metric_list,\n",
    "    warmup_epochs=5,\n",
    "    init_lr=1e-3,\n",
    "    max_lr=1e-2,\n",
    "    final_lr=1e-4\n",
    ")"
   ]
  },
  {
   "cell_type": "code",
   "execution_count": 16,
   "id": "11c4bd9d",
   "metadata": {},
   "outputs": [],
   "source": [
    "class LossHistoryCallback(pl.Callback):\n",
    "    def __init__(self):\n",
    "        super().__init__()\n",
    "        self.train_losses = []\n",
    "        self.val_losses = []\n",
    "\n",
    "    def on_train_epoch_end(self, trainer, pl_module):\n",
    "        self.train_losses.append(trainer.callback_metrics['train_loss'].cpu().item())\n",
    "\n",
    "    def on_validation_epoch_end(self, trainer, pl_module):\n",
    "        self.val_losses.append(trainer.callback_metrics['val_loss'].cpu().item())\n",
    "\n",
    "# 1) Instantiate callback and pass to Trainer\n",
    "loss_history = LossHistoryCallback()"
   ]
  },
  {
   "cell_type": "code",
   "execution_count": 17,
   "id": "0fb50bc8",
   "metadata": {},
   "outputs": [
    {
     "name": "stderr",
     "output_type": "stream",
     "text": [
      "GPU available: True (cuda), used: True\n",
      "TPU available: False, using: 0 TPU cores\n",
      "HPU available: False, using: 0 HPUs\n"
     ]
    }
   ],
   "source": [
    "from lightning.pytorch.callbacks import ModelCheckpoint, EarlyStopping\n",
    "\n",
    "checkpoint_cb = ModelCheckpoint(\n",
    "    monitor=\"val/val_maae_deg\",\n",
    "    mode=\"min\",           # we want smaller angular error\n",
    "    save_top_k=1,\n",
    "    filename=\"best-{epoch:02d}-{val_maae_deg:.2f}\",\n",
    ")\n",
    "\n",
    "earlystop_cb = EarlyStopping(\n",
    "    monitor=\"val/val_maae_deg\",\n",
    "    mode=\"min\",\n",
    "    patience=10,          # stop if no improvement in 10 epochs\n",
    ")\n",
    "\n",
    "trainer = pl.Trainer(\n",
    "    max_epochs=100,\n",
    "    accelerator=\"gpu\",\n",
    "    devices=1,\n",
    "    callbacks=[checkpoint_cb, earlystop_cb, loss_history],\n",
    ")"
   ]
  },
  {
   "cell_type": "code",
   "execution_count": 18,
   "id": "3c1ec08f",
   "metadata": {},
   "outputs": [
    {
     "name": "stderr",
     "output_type": "stream",
     "text": [
      "You are using a CUDA device ('AMD Radeon RX 6600') that has Tensor Cores. To properly utilize them, you should set `torch.set_float32_matmul_precision('medium' | 'high')` which will trade-off precision for performance. For more details, read https://pytorch.org/docs/stable/generated/torch.set_float32_matmul_precision.html#torch.set_float32_matmul_precision\n",
      "LOCAL_RANK: 0 - CUDA_VISIBLE_DEVICES: [0]\n",
      "Loading `train_dataloader` to estimate number of stepping batches.\n",
      "/home/calvin/miniforge3/envs/habnet_rocm/lib/python3.12/site-packages/lightning/pytorch/loops/fit_loop.py:310: The number of training batches (22) is smaller than the logging interval Trainer(log_every_n_steps=50). Set a lower value for log_every_n_steps if you want to see logs for the training epoch.\n",
      "\n",
      "  | Name            | Type                  | Params | Mode \n",
      "------------------------------------------------------------------\n",
      "0 | message_passing | BondMessagePassing    | 231 K  | train\n",
      "1 | agg             | NormAggregation       | 0      | train\n",
      "2 | bn              | Identity              | 0      | train\n",
      "3 | predictor       | PeriodicRegressionFFN | 271 K  | train\n",
      "4 | X_d_transform   | Identity              | 0      | train\n",
      "5 | metrics         | ModuleList            | 0      | train\n",
      "------------------------------------------------------------------\n",
      "503 K     Trainable params\n",
      "0         Non-trainable params\n",
      "503 K     Total params\n",
      "2.012     Total estimated model params size (MB)\n",
      "29        Modules in train mode\n",
      "0         Modules in eval mode\n",
      "/home/calvin/miniforge3/envs/habnet_rocm/lib/python3.12/site-packages/lightning/pytorch/core/saving.py:363: Skipping 'metrics' parameter because it is not possible to safely dump to YAML.\n"
     ]
    },
    {
     "data": {
      "application/vnd.jupyter.widget-view+json": {
       "model_id": "eaacec9639cf4de6942640735ffefa06",
       "version_major": 2,
       "version_minor": 0
      },
      "text/plain": [
       "Sanity Checking: |          | 0/? [00:00<?, ?it/s]"
      ]
     },
     "metadata": {},
     "output_type": "display_data"
    },
    {
     "name": "stderr",
     "output_type": "stream",
     "text": [
      "/home/calvin/miniforge3/envs/habnet_rocm/lib/python3.12/site-packages/torch/nn/modules/linear.py:125: UserWarning: Attempting to use hipBLASLt on an unsupported architecture! Overriding blas backend to hipblas (Triggered internally at /pytorch/aten/src/ATen/Context.cpp:310.)\n",
      "  return F.linear(input, self.weight, self.bias)\n"
     ]
    },
    {
     "data": {
      "application/vnd.jupyter.widget-view+json": {
       "model_id": "d5a987e1a75f49f7bd26a464ba3c30ca",
       "version_major": 2,
       "version_minor": 0
      },
      "text/plain": [
       "Training: |          | 0/? [00:00<?, ?it/s]"
      ]
     },
     "metadata": {},
     "output_type": "display_data"
    },
    {
     "data": {
      "application/vnd.jupyter.widget-view+json": {
       "model_id": "41a50d8b5e1549de83a78093142b5e76",
       "version_major": 2,
       "version_minor": 0
      },
      "text/plain": [
       "Validation: |          | 0/? [00:00<?, ?it/s]"
      ]
     },
     "metadata": {},
     "output_type": "display_data"
    },
    {
     "data": {
      "application/vnd.jupyter.widget-view+json": {
       "model_id": "f1b17ad69c8a482b951e2407793cd685",
       "version_major": 2,
       "version_minor": 0
      },
      "text/plain": [
       "Validation: |          | 0/? [00:00<?, ?it/s]"
      ]
     },
     "metadata": {},
     "output_type": "display_data"
    },
    {
     "data": {
      "application/vnd.jupyter.widget-view+json": {
       "model_id": "166a21ffe6d0470c82839fb96cdf44fe",
       "version_major": 2,
       "version_minor": 0
      },
      "text/plain": [
       "Validation: |          | 0/? [00:00<?, ?it/s]"
      ]
     },
     "metadata": {},
     "output_type": "display_data"
    },
    {
     "data": {
      "application/vnd.jupyter.widget-view+json": {
       "model_id": "f3505c760259421fa8c4b262aa3e2d9f",
       "version_major": 2,
       "version_minor": 0
      },
      "text/plain": [
       "Validation: |          | 0/? [00:00<?, ?it/s]"
      ]
     },
     "metadata": {},
     "output_type": "display_data"
    },
    {
     "data": {
      "application/vnd.jupyter.widget-view+json": {
       "model_id": "108dd210a7354a009e99d41bd453433e",
       "version_major": 2,
       "version_minor": 0
      },
      "text/plain": [
       "Validation: |          | 0/? [00:00<?, ?it/s]"
      ]
     },
     "metadata": {},
     "output_type": "display_data"
    },
    {
     "data": {
      "application/vnd.jupyter.widget-view+json": {
       "model_id": "5baab51707244d0ba8674c044e1a3478",
       "version_major": 2,
       "version_minor": 0
      },
      "text/plain": [
       "Validation: |          | 0/? [00:00<?, ?it/s]"
      ]
     },
     "metadata": {},
     "output_type": "display_data"
    },
    {
     "data": {
      "application/vnd.jupyter.widget-view+json": {
       "model_id": "01fb180feff8453b8b07a2591c7cdf45",
       "version_major": 2,
       "version_minor": 0
      },
      "text/plain": [
       "Validation: |          | 0/? [00:00<?, ?it/s]"
      ]
     },
     "metadata": {},
     "output_type": "display_data"
    },
    {
     "data": {
      "application/vnd.jupyter.widget-view+json": {
       "model_id": "4ea6a448c7ee4605a094b2d30fdfc064",
       "version_major": 2,
       "version_minor": 0
      },
      "text/plain": [
       "Validation: |          | 0/? [00:00<?, ?it/s]"
      ]
     },
     "metadata": {},
     "output_type": "display_data"
    },
    {
     "data": {
      "application/vnd.jupyter.widget-view+json": {
       "model_id": "54964180f5284620b687882318485ff6",
       "version_major": 2,
       "version_minor": 0
      },
      "text/plain": [
       "Validation: |          | 0/? [00:00<?, ?it/s]"
      ]
     },
     "metadata": {},
     "output_type": "display_data"
    },
    {
     "data": {
      "application/vnd.jupyter.widget-view+json": {
       "model_id": "35108dc9350f4fbd89cb25d96f1f50a1",
       "version_major": 2,
       "version_minor": 0
      },
      "text/plain": [
       "Validation: |          | 0/? [00:00<?, ?it/s]"
      ]
     },
     "metadata": {},
     "output_type": "display_data"
    },
    {
     "data": {
      "application/vnd.jupyter.widget-view+json": {
       "model_id": "408d3ce50d15451cace97bb986a34242",
       "version_major": 2,
       "version_minor": 0
      },
      "text/plain": [
       "Validation: |          | 0/? [00:00<?, ?it/s]"
      ]
     },
     "metadata": {},
     "output_type": "display_data"
    },
    {
     "data": {
      "application/vnd.jupyter.widget-view+json": {
       "model_id": "01d99ce06caf4a6e930fe697e30865ea",
       "version_major": 2,
       "version_minor": 0
      },
      "text/plain": [
       "Validation: |          | 0/? [00:00<?, ?it/s]"
      ]
     },
     "metadata": {},
     "output_type": "display_data"
    },
    {
     "data": {
      "application/vnd.jupyter.widget-view+json": {
       "model_id": "e81241c7fd8e44d391cb786f57d3009c",
       "version_major": 2,
       "version_minor": 0
      },
      "text/plain": [
       "Validation: |          | 0/? [00:00<?, ?it/s]"
      ]
     },
     "metadata": {},
     "output_type": "display_data"
    },
    {
     "data": {
      "application/vnd.jupyter.widget-view+json": {
       "model_id": "49f0b1f0f21d4fbcbe332ab14e10b0cd",
       "version_major": 2,
       "version_minor": 0
      },
      "text/plain": [
       "Validation: |          | 0/? [00:00<?, ?it/s]"
      ]
     },
     "metadata": {},
     "output_type": "display_data"
    },
    {
     "data": {
      "application/vnd.jupyter.widget-view+json": {
       "model_id": "3cf20195ba55401e873fd1193681ad18",
       "version_major": 2,
       "version_minor": 0
      },
      "text/plain": [
       "Validation: |          | 0/? [00:00<?, ?it/s]"
      ]
     },
     "metadata": {},
     "output_type": "display_data"
    },
    {
     "data": {
      "application/vnd.jupyter.widget-view+json": {
       "model_id": "8c280fe28dff449cb7100b9284c9847f",
       "version_major": 2,
       "version_minor": 0
      },
      "text/plain": [
       "Validation: |          | 0/? [00:00<?, ?it/s]"
      ]
     },
     "metadata": {},
     "output_type": "display_data"
    },
    {
     "data": {
      "application/vnd.jupyter.widget-view+json": {
       "model_id": "e4e92b0111004e7b9b476594ff871a76",
       "version_major": 2,
       "version_minor": 0
      },
      "text/plain": [
       "Validation: |          | 0/? [00:00<?, ?it/s]"
      ]
     },
     "metadata": {},
     "output_type": "display_data"
    },
    {
     "data": {
      "application/vnd.jupyter.widget-view+json": {
       "model_id": "aaa05b8676d842278a161b2b0f16c2fd",
       "version_major": 2,
       "version_minor": 0
      },
      "text/plain": [
       "Validation: |          | 0/? [00:00<?, ?it/s]"
      ]
     },
     "metadata": {},
     "output_type": "display_data"
    },
    {
     "data": {
      "application/vnd.jupyter.widget-view+json": {
       "model_id": "c41a84ac0de44be695e41e74aee9ad59",
       "version_major": 2,
       "version_minor": 0
      },
      "text/plain": [
       "Validation: |          | 0/? [00:00<?, ?it/s]"
      ]
     },
     "metadata": {},
     "output_type": "display_data"
    },
    {
     "data": {
      "application/vnd.jupyter.widget-view+json": {
       "model_id": "0934eab3cfcc4c60b88e98f285583b31",
       "version_major": 2,
       "version_minor": 0
      },
      "text/plain": [
       "Validation: |          | 0/? [00:00<?, ?it/s]"
      ]
     },
     "metadata": {},
     "output_type": "display_data"
    },
    {
     "data": {
      "application/vnd.jupyter.widget-view+json": {
       "model_id": "b27824d1c3374fa3a6072c2fa645ab7f",
       "version_major": 2,
       "version_minor": 0
      },
      "text/plain": [
       "Validation: |          | 0/? [00:00<?, ?it/s]"
      ]
     },
     "metadata": {},
     "output_type": "display_data"
    },
    {
     "data": {
      "application/vnd.jupyter.widget-view+json": {
       "model_id": "f00e388a8a504d0d9bc4a87f779508de",
       "version_major": 2,
       "version_minor": 0
      },
      "text/plain": [
       "Validation: |          | 0/? [00:00<?, ?it/s]"
      ]
     },
     "metadata": {},
     "output_type": "display_data"
    },
    {
     "data": {
      "application/vnd.jupyter.widget-view+json": {
       "model_id": "b1b38773b40d47a0bc5b8ea0c6bb8691",
       "version_major": 2,
       "version_minor": 0
      },
      "text/plain": [
       "Validation: |          | 0/? [00:00<?, ?it/s]"
      ]
     },
     "metadata": {},
     "output_type": "display_data"
    },
    {
     "data": {
      "application/vnd.jupyter.widget-view+json": {
       "model_id": "bffe44805fc04378bcfa8fa06ef432c3",
       "version_major": 2,
       "version_minor": 0
      },
      "text/plain": [
       "Validation: |          | 0/? [00:00<?, ?it/s]"
      ]
     },
     "metadata": {},
     "output_type": "display_data"
    },
    {
     "data": {
      "application/vnd.jupyter.widget-view+json": {
       "model_id": "1294b0ecbc1e4e408206ac0148a59e0f",
       "version_major": 2,
       "version_minor": 0
      },
      "text/plain": [
       "Validation: |          | 0/? [00:00<?, ?it/s]"
      ]
     },
     "metadata": {},
     "output_type": "display_data"
    },
    {
     "data": {
      "application/vnd.jupyter.widget-view+json": {
       "model_id": "52754343b33d4b6c892593cca3ef3ca8",
       "version_major": 2,
       "version_minor": 0
      },
      "text/plain": [
       "Validation: |          | 0/? [00:00<?, ?it/s]"
      ]
     },
     "metadata": {},
     "output_type": "display_data"
    },
    {
     "data": {
      "application/vnd.jupyter.widget-view+json": {
       "model_id": "8d6b7e1f910e4621a0d0d0c101d6fcf6",
       "version_major": 2,
       "version_minor": 0
      },
      "text/plain": [
       "Validation: |          | 0/? [00:00<?, ?it/s]"
      ]
     },
     "metadata": {},
     "output_type": "display_data"
    },
    {
     "data": {
      "application/vnd.jupyter.widget-view+json": {
       "model_id": "ca9d134d712340fc9f0c6dd02c931240",
       "version_major": 2,
       "version_minor": 0
      },
      "text/plain": [
       "Validation: |          | 0/? [00:00<?, ?it/s]"
      ]
     },
     "metadata": {},
     "output_type": "display_data"
    },
    {
     "data": {
      "application/vnd.jupyter.widget-view+json": {
       "model_id": "3d7770a18d40489ba4e6d07517b8aaf4",
       "version_major": 2,
       "version_minor": 0
      },
      "text/plain": [
       "Validation: |          | 0/? [00:00<?, ?it/s]"
      ]
     },
     "metadata": {},
     "output_type": "display_data"
    },
    {
     "data": {
      "application/vnd.jupyter.widget-view+json": {
       "model_id": "d705214df4f640a788f3b19f9f46a806",
       "version_major": 2,
       "version_minor": 0
      },
      "text/plain": [
       "Validation: |          | 0/? [00:00<?, ?it/s]"
      ]
     },
     "metadata": {},
     "output_type": "display_data"
    },
    {
     "data": {
      "application/vnd.jupyter.widget-view+json": {
       "model_id": "99270b45c6994ff19fc903b7a5a278e5",
       "version_major": 2,
       "version_minor": 0
      },
      "text/plain": [
       "Validation: |          | 0/? [00:00<?, ?it/s]"
      ]
     },
     "metadata": {},
     "output_type": "display_data"
    },
    {
     "data": {
      "application/vnd.jupyter.widget-view+json": {
       "model_id": "ee9cd2ab52da46018300b59d0431127b",
       "version_major": 2,
       "version_minor": 0
      },
      "text/plain": [
       "Validation: |          | 0/? [00:00<?, ?it/s]"
      ]
     },
     "metadata": {},
     "output_type": "display_data"
    },
    {
     "data": {
      "application/vnd.jupyter.widget-view+json": {
       "model_id": "8715530e728a4fa1a279c1f0bdef9f05",
       "version_major": 2,
       "version_minor": 0
      },
      "text/plain": [
       "Validation: |          | 0/? [00:00<?, ?it/s]"
      ]
     },
     "metadata": {},
     "output_type": "display_data"
    },
    {
     "data": {
      "application/vnd.jupyter.widget-view+json": {
       "model_id": "9df2dfe8f85d40179be560f9a6a01ae9",
       "version_major": 2,
       "version_minor": 0
      },
      "text/plain": [
       "Validation: |          | 0/? [00:00<?, ?it/s]"
      ]
     },
     "metadata": {},
     "output_type": "display_data"
    },
    {
     "data": {
      "application/vnd.jupyter.widget-view+json": {
       "model_id": "51a7842f10144e68806ac92896a5f6ad",
       "version_major": 2,
       "version_minor": 0
      },
      "text/plain": [
       "Validation: |          | 0/? [00:00<?, ?it/s]"
      ]
     },
     "metadata": {},
     "output_type": "display_data"
    }
   ],
   "source": [
    "trainer.fit(\n",
    "    dmpnn,\n",
    "    train_loader,\n",
    "    val_loader,\n",
    ")"
   ]
  },
  {
   "cell_type": "code",
   "execution_count": 19,
   "id": "9bbdd631",
   "metadata": {},
   "outputs": [
    {
     "data": {
      "image/png": "[encoded data removed]",
      "text/plain": [
       "<Figure size 1200x500 with 1 Axes>"
      ]
     },
     "metadata": {},
     "output_type": "display_data"
    }
   ],
   "source": [
    "import matplotlib.pyplot as plt\n",
    "\n",
    "train_losses = loss_history.train_losses\n",
    "# Need to drop the first value as it a sanity check\n",
    "val_losses = loss_history.val_losses[1:]\n",
    "\n",
    "assert len(train_losses) == len(val_losses), (\n",
    "    f\"Lengths now match: train={len(train_losses)}, val={len(val_losses)}\"\n",
    ")\n",
    "\n",
    "epochs = range(1, len(train_losses) + 1)\n",
    "\n",
    "plt.figure(figsize=(12,5))\n",
    "plt.plot(epochs, train_losses, label='Train Loss', marker='o')\n",
    "plt.plot(epochs, val_losses,   label='Validation Loss', marker='s')\n",
    "plt.xlabel('Epoch')\n",
    "plt.ylabel('Loss')\n",
    "plt.title('Loss vs. Epoch')\n",
    "plt.xticks(epochs)\n",
    "# Rotate x-ticks for better visibility\n",
    "plt.xticks(rotation=45)\n",
    "plt.legend()\n",
    "plt.grid(True)\n",
    "plt.tight_layout()\n",
    "plt.show()\n"
   ]
  },
  {
   "cell_type": "code",
   "execution_count": 20,
   "id": "09607879",
   "metadata": {},
   "outputs": [
    {
     "name": "stderr",
     "output_type": "stream",
     "text": [
      "LOCAL_RANK: 0 - CUDA_VISIBLE_DEVICES: [0]\n"
     ]
    },
    {
     "data": {
      "application/vnd.jupyter.widget-view+json": {
       "model_id": "79174123495d4c0ab916ee7d3284cc34",
       "version_major": 2,
       "version_minor": 0
      },
      "text/plain": [
       "Testing: |          | 0/? [00:00<?, ?it/s]"
      ]
     },
     "metadata": {},
     "output_type": "display_data"
    },
    {
     "data": {
      "text/html": [
       "<pre style=\"white-space:pre;overflow-x:auto;line-height:normal;font-family:Menlo,'DejaVu Sans Mono',consolas,'Courier New',monospace\">┏━━━━━━━━━━━━━━━━━━━━━━━━━━━┳━━━━━━━━━━━━━━━━━━━━━━━━━━━┓\n",
       "┃<span style=\"font-weight: bold\">        Test metric        </span>┃<span style=\"font-weight: bold\">       DataLoader 0        </span>┃\n",
       "┡━━━━━━━━━━━━━━━━━━━━━━━━━━━╇━━━━━━━━━━━━━━━━━━━━━━━━━━━┩\n",
       "│<span style=\"color: #008080; text-decoration-color: #008080\">   test/mean_cosine_loss   </span>│<span style=\"color: #800080; text-decoration-color: #800080\">    0.5522227883338928     </span>│\n",
       "│<span style=\"color: #008080; text-decoration-color: #008080\">     test/val_maae_deg     </span>│<span style=\"color: #800080; text-decoration-color: #800080\">    56.770206451416016     </span>│\n",
       "└───────────────────────────┴───────────────────────────┘\n",
       "</pre>\n"
      ],
      "text/plain": [
       "┏━━━━━━━━━━━━━━━━━━━━━━━━━━━┳━━━━━━━━━━━━━━━━━━━━━━━━━━━┓\n",
       "┃\u001b[1m \u001b[0m\u001b[1m       Test metric       \u001b[0m\u001b[1m \u001b[0m┃\u001b[1m \u001b[0m\u001b[1m      DataLoader 0       \u001b[0m\u001b[1m \u001b[0m┃\n",
       "┡━━━━━━━━━━━━━━━━━━━━━━━━━━━╇━━━━━━━━━━━━━━━━━━━━━━━━━━━┩\n",
       "│\u001b[36m \u001b[0m\u001b[36m  test/mean_cosine_loss  \u001b[0m\u001b[36m \u001b[0m│\u001b[35m \u001b[0m\u001b[35m   0.5522227883338928    \u001b[0m\u001b[35m \u001b[0m│\n",
       "│\u001b[36m \u001b[0m\u001b[36m    test/val_maae_deg    \u001b[0m\u001b[36m \u001b[0m│\u001b[35m \u001b[0m\u001b[35m   56.770206451416016    \u001b[0m\u001b[35m \u001b[0m│\n",
       "└───────────────────────────┴───────────────────────────┘\n"
      ]
     },
     "metadata": {},
     "output_type": "display_data"
    },
    {
     "data": {
      "text/plain": [
       "[{'test/mean_cosine_loss': 0.5522227883338928,\n",
       "  'test/val_maae_deg': 56.770206451416016}]"
      ]
     },
     "execution_count": 20,
     "metadata": {},
     "output_type": "execute_result"
    }
   ],
   "source": [
    "trainer.test(\n",
    "    dmpnn,\n",
    "    test_loader,\n",
    ")"
   ]
  },
  {
   "cell_type": "code",
   "execution_count": null,
   "id": "ed74ca26",
   "metadata": {},
   "outputs": [],
   "source": []
  }
 ],
 "metadata": {
  "kernelspec": {
   "display_name": "habnet_rocm",
   "language": "python",
   "name": "python3"
  },
  "language_info": {
   "codemirror_mode": {
    "name": "ipython",
    "version": 3
   },
   "file_extension": ".py",
   "mimetype": "text/x-python",
   "name": "python",
   "nbconvert_exporter": "python",
   "pygments_lexer": "ipython3",
   "version": "3.12.8"
  }
 },
 "nbformat": 4,
 "nbformat_minor": 5
}
